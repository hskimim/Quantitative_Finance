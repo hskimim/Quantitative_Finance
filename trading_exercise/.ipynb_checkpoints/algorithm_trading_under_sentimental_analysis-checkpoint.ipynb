{
 "cells": [
  {
   "cell_type": "markdown",
   "metadata": {},
   "source": [
    "### Packages What I imported"
   ]
  },
  {
   "cell_type": "code",
   "execution_count": 1,
   "metadata": {},
   "outputs": [],
   "source": [
    "import personal_pkg as per\n",
    "import pandas as pd\n",
    "import numpy as np\n",
    "from IPython.display import display , Markdown"
   ]
  },
  {
   "cell_type": "markdown",
   "metadata": {},
   "source": [
    "### SentimenIntensityAnalyzer packages for implementing sentimental analysis"
   ]
  },
  {
   "cell_type": "code",
   "execution_count": 2,
   "metadata": {},
   "outputs": [],
   "source": [
    "import nltk\n",
    "import warnings\n",
    "warnings.filterwarnings('ignore')\n",
    "from nltk.sentiment.vader import SentimentIntensityAnalyzer\n",
    "# nltk.download('vader_lexicon')\n",
    "\n",
    "sia = SentimentIntensityAnalyzer()"
   ]
  },
  {
   "cell_type": "markdown",
   "metadata": {},
   "source": [
    "### Adjusting the methodology of scoring\n",
    "- 최댓값과 최솟값이 각각 4.0 -4.0 이 되도록 normalizing 한다.\n",
    "- 그리고 LM_positive 은 2 값을 넣고, LM_negative에는 -2 값을 넣어준다."
   ]
  },
  {
   "cell_type": "code",
   "execution_count": 3,
   "metadata": {},
   "outputs": [
    {
     "data": {
      "text/html": [
       "<div>\n",
       "<style scoped>\n",
       "    .dataframe tbody tr th:only-of-type {\n",
       "        vertical-align: middle;\n",
       "    }\n",
       "\n",
       "    .dataframe tbody tr th {\n",
       "        vertical-align: top;\n",
       "    }\n",
       "\n",
       "    .dataframe thead th {\n",
       "        text-align: right;\n",
       "    }\n",
       "</style>\n",
       "<table border=\"1\" class=\"dataframe\">\n",
       "  <thead>\n",
       "    <tr style=\"text-align: right;\">\n",
       "      <th></th>\n",
       "      <th>0</th>\n",
       "    </tr>\n",
       "  </thead>\n",
       "  <tbody>\n",
       "    <tr>\n",
       "      <th>min</th>\n",
       "      <td>-4.0</td>\n",
       "    </tr>\n",
       "    <tr>\n",
       "      <th>max</th>\n",
       "      <td>4.0</td>\n",
       "    </tr>\n",
       "  </tbody>\n",
       "</table>\n",
       "</div>"
      ],
      "text/plain": [
       "       0\n",
       "min -4.0\n",
       "max  4.0"
      ]
     },
     "metadata": {},
     "output_type": "display_data"
    }
   ],
   "source": [
    "stock_lex = pd.read_csv('stock_lex.csv')\n",
    "stock_lex['sentiment'] = (stock_lex['Aff_Score'] + stock_lex['Neg_Score'])/2\n",
    "stock_lex = dict(zip(stock_lex.Item, stock_lex.sentiment))\n",
    "stock_lex = {k:v for k,v in stock_lex.items() if len(k.split(' '))==1}\n",
    "\n",
    "stock_lex_scaled = {}\n",
    "for k, v in stock_lex.items():\n",
    "    if v > 0:\n",
    "        stock_lex_scaled[k] = v / max(stock_lex.values()) * 4\n",
    "    else:\n",
    "        stock_lex_scaled[k] = v / min(stock_lex.values()) * -4\n",
    "\n",
    "display(pd.DataFrame(np.array(list(stock_lex_scaled.values()))).describe().loc[['min','max'],:])"
   ]
  },
  {
   "cell_type": "code",
   "execution_count": 14,
   "metadata": {},
   "outputs": [],
   "source": [
    "# Loughran and McDonald\n",
    "negative_ls = [i.strip() for i in per.convert_pdf_to_txt('LM_Negative.pdf').split('\\n')]\n",
    "negative_ls = [i for i in negative_ls if i and 'Negative' not in i]\n",
    "\n",
    "positive_ls = [i.strip() for i in per.convert_pdf_to_txt('LM_Positive.pdf').split('\\n')]\n",
    "positive_ls = [i for i in positive_ls if i and 'Positive' not in i]"
   ]
  },
  {
   "cell_type": "code",
   "execution_count": 15,
   "metadata": {},
   "outputs": [],
   "source": [
    "final_lex = {}\n",
    "final_lex.update({word:2.0 for word in positive_ls})\n",
    "final_lex.update({word:-2.0 for word in negative_ls})\n",
    "final_lex.update(stock_lex_scaled)\n",
    "final_lex.update(sia.lexicon)\n",
    "sia.lexicon = final_lex"
   ]
  },
  {
   "cell_type": "code",
   "execution_count": 39,
   "metadata": {
    "scrolled": true
   },
   "outputs": [
    {
     "name": "stdout",
     "output_type": "stream",
     "text": [
      "11 Dec 2018 https://www.businesstimes.com.sg/technology/google-facebook-face-australia-crackdown-over-market-power\n",
      "06 Dec 2018 https://www.businesstimes.com.sg/technology/facebook-board-backs-embattled-executive-sheryl-sandberg\n",
      "06 Dec 2018 https://www.businesstimes.com.sg/technology/zuckerberg-defends-facebook-in-new-data-breach-controversy\n",
      "05 Dec 2018 https://www.businesstimes.com.sg/technology/facebook-struck-deals-over-data-and-burnt-rivals-say-lawmakers\n",
      "04 Dec 2018 https://www.businesstimes.com.sg/technology/how-facebook-uses-whatsapp-phones-to-tap-next-emerging-market\n",
      "01 Dec 2018 https://www.businesstimes.com.sg/technology/fix-facebook-whether-it-wants-to-or-not-whistleblower\n",
      "29 Nov 2018 https://www.businesstimes.com.sg/technology/facebook-expands-local-news-to-400-us-cities\n",
      "28 Nov 2018 https://www.businesstimes.com.sg/technology/former-employee-says-facebook-failing-black-people\n",
      "28 Nov 2018 https://www.businesstimes.com.sg/government-economy/facebook-was-warned-of-alleged-russian-meddling-back-in-2014\n",
      "27 Nov 2018 https://www.businesstimes.com.sg/technology/lawmakers-criticise-facebooks-zuckerberg-for-uk-parliament-no-show\n",
      "27 Nov 2018 https://www.businesstimes.com.sg/technology/facebook-secrets-in-bikini-app-flap-stir-international-intrigue\n",
      "27 Nov 2018 https://www.businesstimes.com.sg/technology/alibaba-market-value-tops-facebook-after-latest-public-relations-crisis-chart\n",
      "26 Nov 2018 https://www.businesstimes.com.sg/technology/do-you-have-a-moral-duty-to-leave-facebook\n",
      "23 Nov 2018 https://www.businesstimes.com.sg/technology/facebook-to-pay-100m-euros-in-italian-fiscal-accord\n",
      "22 Nov 2018 https://www.businesstimes.com.sg/consumer/departing-facebook-communications-chief-says-critics-were-targeted\n",
      "22 Nov 2018 https://www.businesstimes.com.sg/technology/zuckerberg-says-he-is-not-considering-resigning-from-facebook\n",
      "21 Nov 2018 https://www.businesstimes.com.sg/technology/facebook-services-tripped-up-by-server-problem\n",
      "17 Nov 2018 https://www.businesstimes.com.sg/government-economy/i-dont-really-want-to-work-for-facebook-so-say-some-computer-science-students\n",
      "16 Nov 2018 https://www.businesstimes.com.sg/technology/facebook-to-launch-independent-body-for-calls-on-content\n",
      "14 Nov 2018 https://www.businesstimes.com.sg/technology/facebook-shuts-more-accounts-aimed-at-political-meddling\n",
      "13 Nov 2018 https://www.businesstimes.com.sg/hub/asean-singapore-2018/facebook-courting-startups-and-smes\n",
      "09 Nov 2018 https://www.businesstimes.com.sg/technology/facebook-takes-questions-on-portals-features\n",
      "08 Nov 2018 https://www.businesstimes.com.sg/technology/russian-trolls-were-at-it-again-before-us-mid-term-polls-says-facebook\n",
      "07 Nov 2018 https://www.businesstimes.com.sg/government-economy/russian-trolls-were-at-it-again-before-midterms-facebook-says\n",
      "31 Oct 2018 https://www.businesstimes.com.sg/technology/facebook-quarterly-profit-climbs-9-to-us514b\n",
      "29 Oct 2018 https://www.businesstimes.com.sg/technology/ahead-of-facebook-earnings-analysts-hope-it-cant-get-any-worse\n",
      "27 Oct 2018 https://www.businesstimes.com.sg/government-economy/facebook-blocks-iran-linked-bid-to-sway-us-british-politics\n",
      "26 Oct 2018 https://www.businesstimes.com.sg/companies-markets/dbs-launches-chatbot-to-take-orders-via-facebook-messenger\n",
      "25 Oct 2018 https://www.businesstimes.com.sg/consumer/dbs-unveils-chatbot-for-ordering-paying-for-meals-through-facebook-messenger\n",
      "24 Oct 2018 https://www.businesstimes.com.sg/technology/oculus-brendan-iribe-is-latest-founder-to-leave-facebook\n",
      "23 Oct 2018 https://www.businesstimes.com.sg/government-economy/facebook-shuts-accounts-of-marketing-group-in-brazil-election\n",
      "19 Oct 2018 https://www.businesstimes.com.sg/technology/facebook-hires-ex-uk-deputy-pm-clegg-to-lead-lobbying-effort\n",
      "18 Oct 2018 https://www.businesstimes.com.sg/technology/at-facebook-public-funds-join-push-to-remove-zuckerberg-as-chairman\n",
      "13 Oct 2018 https://www.businesstimes.com.sg/technology/facebook-now-says-data-breach-affected-29m-users-details-impact\n",
      "13 Oct 2018 https://www.businesstimes.com.sg/investing-wealth/oh-no-accidental-facebook-post\n",
      "12 Oct 2018 https://www.businesstimes.com.sg/technology/facebook-purges-251-accounts-to-thwart-deception\n",
      "10 Oct 2018 https://www.businesstimes.com.sg/technology/facebooks-whatsapp-says-has-fixed-video-call-security-bug\n",
      "10 Oct 2018 https://www.businesstimes.com.sg/technology/facebook-seeing-growth-in-business-network-workplace\n",
      "08 Oct 2018 https://www.businesstimes.com.sg/technology/facebook-launches-ai-video-calling-device-portal\n",
      "05 Oct 2018 https://www.businesstimes.com.sg/technology/irish-data-authority-probes-facebook-over-breach\n",
      "04 Oct 2018 https://www.businesstimes.com.sg/technology/irish-data-authority-probes-facebook-over-breach-of-50m-accounts\n",
      "03 Oct 2018 https://www.businesstimes.com.sg/technology/facebook-says-no-sign-recent-hack-spread-to-other-apps\n",
      "03 Oct 2018 https://www.businesstimes.com.sg/technology/facebook-adds-new-tools-to-stem-online-bullying\n",
      "03 Oct 2018 https://www.businesstimes.com.sg/startups/facebook-imda-start-accelerator-for-data-startups\n",
      "03 Oct 2018 https://www.businesstimes.com.sg/stocks/us-dow-closes-at-record-but-facebook-drags-on-sp-nasdaq\n",
      "02 Oct 2018 https://www.businesstimes.com.sg/asean-business/facebook-imda-to-launch-startup-accelerator-in-singapore-in-february\n",
      "02 Oct 2018 https://www.businesstimes.com.sg/startups/facebook-imdas-startup-accelerator-to-kick-off-in-february-2019-in-singapore\n",
      "02 Oct 2018 https://www.businesstimes.com.sg/companies-markets/ges-us500b-market-wipeout-is-like-erasing-facebook\n",
      "01 Oct 2018 https://www.businesstimes.com.sg/technology/facebooks-worst-security-breach-batters-user-trust-once-again\n",
      "29 Sep 2018 https://www.businesstimes.com.sg/technology/facebook-discloses-security-breach-affecting-50-million-users\n",
      "29 Sep 2018 https://www.businesstimes.com.sg/stocks/us-facebooks-slide-stalls-intel-led-advance-on-wall-street\n",
      "28 Sep 2018 https://www.businesstimes.com.sg/technology/facebook-admits-phone-numbers-may-be-used-to-target-ads\n",
      "27 Sep 2018 https://www.businesstimes.com.sg/technology/google-facebook-and-twitter-agree-to-fight-fake-news-in-the-eu\n",
      "27 Sep 2018 https://www.businesstimes.com.sg/technology/facebook-faces-political-hurdle-over-banned-party-in-china\n",
      "26 Sep 2018 https://www.businesstimes.com.sg/technology/co-founders-of-instagram-facebooks-main-success-story-quit\n",
      "25 Sep 2018 https://www.businesstimes.com.sg/technology/instagram-founders-clash-with-zuckerberg-leave-facebook\n",
      "24 Sep 2018 https://www.businesstimes.com.sg/technology/white-house-considers-draft-order-to-look-into-google-facebook\n",
      "21 Sep 2018 https://www.businesstimes.com.sg/technology/facebook-expands-fake-election-news-fight-but-falsehoods-still-rampant\n",
      "20 Sep 2018 https://www.businesstimes.com.sg/government-economy/facebook-building-a-war-room-to-battle-election-meddling\n",
      "20 Sep 2018 https://www.businesstimes.com.sg/technology/facebook-accused-of-allowing-bias-against-women-in-job-ads\n",
      "19 Sep 2018 https://www.businesstimes.com.sg/companies-markets/sembcorp-inks-20-year-deal-to-provide-solar-energy-for-facebook-singapore\n",
      "18 Sep 2018 https://www.businesstimes.com.sg/companies-markets/sembcorp-inks-20-year-deal-to-supply-solar-power-to-facebooks-singapore-operations\n",
      "15 Sep 2018 https://www.businesstimes.com.sg/technology/facebook%E2%80%99s-mark-zuckerberg-to-testify-in-november-in-investor-suit\n",
      "07 Sep 2018 https://www.businesstimes.com.sg/technology/facebook-co-founder-sees-more-regulation-for-social-networks\n",
      "07 Sep 2018 https://www.businesstimes.com.sg/technology/facebook-twitter-come-under-us-pressure-to-make-rules-clearer\n",
      "07 Sep 2018 https://www.businesstimes.com.sg/startups/facebook-to-build-s14b-data-centre-in-singapore-its-first-in-asia-0\n",
      "06 Sep 2018 https://www.businesstimes.com.sg/technology/facebook-removes-burmese-translation-feature-after-reuters-report\n",
      "06 Sep 2018 https://www.businesstimes.com.sg/asean-business/facebook-to-build-its-first-data-centre-in-singapore\n",
      "06 Sep 2018 https://www.businesstimes.com.sg/startups/facebook-to-build-s14b-data-centre-in-singapore-its-first-in-asia\n",
      "05 Sep 2018 https://www.businesstimes.com.sg/government-economy/facebook-chief-says-internet-firms-in-arms-race-for-democracy\n",
      "05 Sep 2018 https://www.businesstimes.com.sg/technology/facebook-accuses-blackberry-of-stealing-voice-messaging-tech\n"
     ]
    },
    {
     "name": "stdout",
     "output_type": "stream",
     "text": [
      "05 Sep 2018 https://www.businesstimes.com.sg/technology/europes-news-agencies-blast-google-facebook-for-plundering-content\n",
      "04 Sep 2018 https://www.businesstimes.com.sg/technology/in-india-google-races-to-parry-the-rise-of-facebook\n",
      "04 Sep 2018 https://www.businesstimes.com.sg/technology/brief-facebook-outage-reported-by-users\n",
      "29 Aug 2018 https://www.businesstimes.com.sg/technology/facebook-rolls-out-video-service-worldwide-0\n",
      "29 Aug 2018 https://www.businesstimes.com.sg/technology/facebook-rolls-out-video-service-worldwide\n",
      "29 Aug 2018 https://www.businesstimes.com.sg/technology/dozens-at-facebook-unite-to-challenge-its-%E2%80%98intolerant%E2%80%99-liberal-culture\n",
      "28 Aug 2018 https://www.businesstimes.com.sg/banking-finance/dbs-says-employee-who-posted-image-of-ripped-singapore-flag-on-facebook-no-longer\n",
      "28 Aug 2018 https://www.businesstimes.com.sg/government-economy/facebook-move-on-myanmar-raises-thorny-political-questions\n",
      "24 Aug 2018 https://www.businesstimes.com.sg/technology/facebook-suspends-hundreds-of-apps-over-data-concerns\n",
      "23 Aug 2018 https://www.businesstimes.com.sg/technology/facebook-suspends-400-apps-in-data-leak-probe\n",
      "23 Aug 2018 https://www.businesstimes.com.sg/technology/facebook-to-pull-vpn-app-from-app-store-over-data-worry\n",
      "22 Aug 2018 https://www.businesstimes.com.sg/technology/facebook-cuts-ad-target-options-to-thwart-discrimination\n",
      "22 Aug 2018 https://www.businesstimes.com.sg/technology/facebook-stops-misinformation-campaigns-tied-to-iran-russia\n",
      "21 Aug 2018 https://www.businesstimes.com.sg/technology/dangerous-for-twitter-facebook-to-ban-accounts-says-trump\n",
      "13 Aug 2018 https://www.businesstimes.com.sg/technology/facebooks-david-marcus-resigns-from-coinbase-board-in-blockchain-push\n",
      "07 Aug 2018 https://www.businesstimes.com.sg/technology/a-generation-grows-up-in-china-without-google-facebook-or-twitter\n",
      "07 Aug 2018 https://www.businesstimes.com.sg/technology/facebook-shares-rise-on-optimism-for-banking-relationships\n",
      "04 Aug 2018 https://www.businesstimes.com.sg/technology/facebook-fakers-get-better-at-covering-tracks-security-experts-say\n",
      "01 Aug 2018 https://www.businesstimes.com.sg/technology/facebook-uncovers-political-influence-campaign-ahead-of-us-midterm-elections\n",
      "30 Jul 2018 https://www.businesstimes.com.sg/technology/cost-of-policing-facebook-twitter-spooking-wall-street\n",
      "28 Jul 2018 https://www.businesstimes.com.sg/life-culture/facebook-suspends-us-conspiracy-theorist-alex-jones\n",
      "28 Jul 2018 https://www.businesstimes.com.sg/technology/facebook-is-sued-after-stock-plunge-shocked-market\n",
      "28 Jul 2018 https://www.businesstimes.com.sg/investing-wealth/how-facebook-suddenly-went-so-wrong-so-fast\n",
      "27 Jul 2018 https://www.businesstimes.com.sg/stocks/us-facebook-dives-weighing-on-stocks\n",
      "27 Jul 2018 https://www.businesstimes.com.sg/government-economy/top-facebook-twitter-executives-to-testify-in-sept-on-us-election-meddling\n",
      "27 Jul 2018 https://www.businesstimes.com.sg/technology/facebook-to-add-shaq-show-and-singing-contest-to-video-lineup\n",
      "27 Jul 2018 https://www.businesstimes.com.sg/stocks/facebook-controversies-hit-it-where-it-hurts-most-growth\n",
      "26 Jul 2018 https://www.businesstimes.com.sg/stocks/zuckerberg-loses-us16b-in-record-facebook-fall\n",
      "26 Jul 2018 https://www.businesstimes.com.sg/technology/indias-cbi-to-investigate-facebook-cambridge-analytica-data-theft\n",
      "{datetime.date(2018, 12, 12): 0.987, datetime.date(2018, 12, 7): 0.987, datetime.date(2018, 12, 6): 0.986, datetime.date(2018, 12, 5): 0.998, datetime.date(2018, 12, 2): 0.987, datetime.date(2018, 11, 30): 0.995, datetime.date(2018, 11, 29): 0.016, datetime.date(2018, 11, 28): 0.297, datetime.date(2018, 11, 27): 0.991, datetime.date(2018, 11, 24): 0.356, datetime.date(2018, 11, 23): 0.92, datetime.date(2018, 11, 22): -0.105, datetime.date(2018, 11, 18): 0.999, datetime.date(2018, 11, 17): 0.852, datetime.date(2018, 11, 15): 0.955, datetime.date(2018, 11, 14): 1.0, datetime.date(2018, 11, 10): 0.998, datetime.date(2018, 11, 9): 0.935, datetime.date(2018, 11, 8): 0.976, datetime.date(2018, 11, 1): 0.989, datetime.date(2018, 10, 30): 0.991, datetime.date(2018, 10, 28): 0.996, datetime.date(2018, 10, 27): 0.605, datetime.date(2018, 10, 26): 0.997, datetime.date(2018, 10, 25): 0.995, datetime.date(2018, 10, 24): -0.794, datetime.date(2018, 10, 20): 0.953, datetime.date(2018, 10, 19): 0.992, datetime.date(2018, 10, 14): 0.724, datetime.date(2018, 10, 13): 0.243, datetime.date(2018, 10, 11): 0.883, datetime.date(2018, 10, 9): 0.995, datetime.date(2018, 10, 6): -0.188, datetime.date(2018, 10, 5): -0.829, datetime.date(2018, 10, 4): 0.048, datetime.date(2018, 10, 3): 0.961, datetime.date(2018, 10, 2): -0.407, datetime.date(2018, 9, 30): 0.978, datetime.date(2018, 9, 29): 0.953, datetime.date(2018, 9, 28): 0.969, datetime.date(2018, 9, 27): 1.0, datetime.date(2018, 9, 26): 0.942, datetime.date(2018, 9, 25): -0.496, datetime.date(2018, 9, 22): 0.951, datetime.date(2018, 9, 21): 0.996, datetime.date(2018, 9, 20): 0.918, datetime.date(2018, 9, 19): 0.998, datetime.date(2018, 9, 16): 0.994, datetime.date(2018, 9, 8): 0.343, datetime.date(2018, 9, 7): 0.336, datetime.date(2018, 9, 6): 0.363, datetime.date(2018, 9, 5): 0.906, datetime.date(2018, 8, 30): 0.961, datetime.date(2018, 8, 29): 0.002, datetime.date(2018, 8, 25): 0.838, datetime.date(2018, 8, 24): 0.979, datetime.date(2018, 8, 23): 0.133, datetime.date(2018, 8, 22): 0.412, datetime.date(2018, 8, 14): 0.991, datetime.date(2018, 8, 8): 0.999, datetime.date(2018, 8, 5): 0.997, datetime.date(2018, 8, 2): 0.998, datetime.date(2018, 7, 31): 0.995, datetime.date(2018, 7, 29): 0.304, datetime.date(2018, 7, 28): 0.713, datetime.date(2018, 7, 27): 0.361}\n"
     ]
    }
   ],
   "source": [
    "from urllib.request import urlopen\n",
    "from bs4 import BeautifulSoup\n",
    "from datetime import datetime, timedelta\n",
    "import time\n",
    "import pprint\n",
    "#sia.polarity_s\n",
    "#Return a float for sentiment strength based on the input text.\n",
    "#Positive values are positive valence, negative value are negative valence.\n",
    "\n",
    "date_sentiments = {}\n",
    "\n",
    "for i in range(1,11):\n",
    "    page = urlopen('https://www.businesstimes.com.sg/search/facebook?page='+str(i)).read()\n",
    "    soup = BeautifulSoup(page, features=\"html.parser\")\n",
    "    posts = soup.findAll(\"div\", {\"class\": \"media-body\"})\n",
    "    for post in posts:\n",
    "        time.sleep(1)\n",
    "        url = post.a['href']\n",
    "        date = post.time.text\n",
    "        print(date, url)\n",
    "        try:\n",
    "            link_page = urlopen(url).read()\n",
    "        except:\n",
    "            url = url[:-2]\n",
    "            link_page = urlopen(url).read()\n",
    "        link_soup = BeautifulSoup(link_page)\n",
    "        sentences = link_soup.findAll(\"p\")\n",
    "        passage = \"\"\n",
    "        for sentence in sentences:\n",
    "            passage += sentence.text\n",
    "        sentiment = sia.polarity_scores(passage)['compound']\n",
    "        date_sentiments.setdefault(date, []).append(sentiment)\n",
    "\n",
    "date_sentiment = {}\n",
    "\n",
    "for k,v in date_sentiments.items():\n",
    "    date_sentiment[datetime.strptime(k, '%d %b %Y').date() + timedelta(days=1)] = round(sum(v)/float(len(v)),3)\n",
    "\n",
    "earliest_date = min(date_sentiment.keys())\n",
    "\n",
    "print(date_sentiment)"
   ]
  },
  {
   "cell_type": "code",
   "execution_count": 43,
   "metadata": {},
   "outputs": [],
   "source": [
    "import requests\n",
    "from bs4 import BeautifulSoup\n",
    "from scrapy.http import TextResponse"
   ]
  },
  {
   "cell_type": "code",
   "execution_count": 59,
   "metadata": {},
   "outputs": [],
   "source": [
    "url_ls = []\n",
    "date_ls = []\n",
    "\n",
    "for page in range(1,10+1):\n",
    "    req = requests.get(\"https://www.businesstimes.com.sg/search/facebook?page={}\".format(page))\n",
    "    http = TextResponse(req.url , body=req.text, encoding='utf-8')\n",
    "    url_ls.append(http.xpath('//*[@id=\"sph-search-results\"]/div/div/h4/a/@href').extract())\n",
    "    date_ls.append(http.xpath('//*[@id=\"sph-search-results\"]/div/div/time/text()').extract())"
   ]
  },
  {
   "cell_type": "code",
   "execution_count": 65,
   "metadata": {},
   "outputs": [
    {
     "data": {
      "text/plain": [
       "(100, 100)"
      ]
     },
     "execution_count": 65,
     "metadata": {},
     "output_type": "execute_result"
    }
   ],
   "source": [
    "real_date_ls = [j for i in date_ls for j in i]\n",
    "real_url_ls = [j for i in url_ls for j in i]\n",
    "len(real_date_ls) , len(real_url_ls)"
   ]
  },
  {
   "cell_type": "code",
   "execution_count": 109,
   "metadata": {
    "scrolled": true
   },
   "outputs": [
    {
     "name": "stdout",
     "output_type": "stream",
     "text": [
      "0\n"
     ]
    },
    {
     "ename": "KeyboardInterrupt",
     "evalue": "",
     "output_type": "error",
     "traceback": [
      "\u001b[0;31m---------------------------------------------------------------------------\u001b[0m",
      "\u001b[0;31mKeyboardInterrupt\u001b[0m                         Traceback (most recent call last)",
      "\u001b[0;32m<ipython-input-109-ce6f047e5485>\u001b[0m in \u001b[0;36m<module>\u001b[0;34m()\u001b[0m\n\u001b[1;32m      4\u001b[0m \u001b[0;32mfor\u001b[0m \u001b[0midx\u001b[0m\u001b[0;34m,\u001b[0m\u001b[0murl\u001b[0m \u001b[0;32min\u001b[0m \u001b[0menumerate\u001b[0m\u001b[0;34m(\u001b[0m\u001b[0mreal_url_ls\u001b[0m\u001b[0;34m)\u001b[0m \u001b[0;34m:\u001b[0m\u001b[0;34m\u001b[0m\u001b[0m\n\u001b[1;32m      5\u001b[0m     \u001b[0;32mif\u001b[0m \u001b[0midx\u001b[0m \u001b[0;34m%\u001b[0m \u001b[0;36m10\u001b[0m \u001b[0;34m==\u001b[0m \u001b[0;36m0\u001b[0m \u001b[0;34m:\u001b[0m \u001b[0mprint\u001b[0m\u001b[0;34m(\u001b[0m\u001b[0midx\u001b[0m\u001b[0;34m)\u001b[0m\u001b[0;34m\u001b[0m\u001b[0m\n\u001b[0;32m----> 6\u001b[0;31m     \u001b[0mreq\u001b[0m \u001b[0;34m=\u001b[0m \u001b[0mrequests\u001b[0m\u001b[0;34m.\u001b[0m\u001b[0mget\u001b[0m\u001b[0;34m(\u001b[0m\u001b[0murl\u001b[0m\u001b[0;34m)\u001b[0m\u001b[0;34m\u001b[0m\u001b[0m\n\u001b[0m\u001b[1;32m      7\u001b[0m     \u001b[0mdom\u001b[0m \u001b[0;34m=\u001b[0m \u001b[0mBeautifulSoup\u001b[0m\u001b[0;34m(\u001b[0m\u001b[0mreq\u001b[0m\u001b[0;34m.\u001b[0m\u001b[0mtext\u001b[0m\u001b[0;34m,\u001b[0m \u001b[0;34m'lxml'\u001b[0m\u001b[0;34m)\u001b[0m\u001b[0;34m\u001b[0m\u001b[0m\n\u001b[1;32m      8\u001b[0m     \u001b[0mdom\u001b[0m\u001b[0;34m.\u001b[0m\u001b[0mfindAll\u001b[0m\u001b[0;34m(\u001b[0m\u001b[0;34m'p'\u001b[0m\u001b[0;34m)\u001b[0m\u001b[0;34m\u001b[0m\u001b[0m\n",
      "\u001b[0;32m~/anaconda3/envs/konlpy_env/lib/python3.6/site-packages/requests/api.py\u001b[0m in \u001b[0;36mget\u001b[0;34m(url, params, **kwargs)\u001b[0m\n\u001b[1;32m     70\u001b[0m \u001b[0;34m\u001b[0m\u001b[0m\n\u001b[1;32m     71\u001b[0m     \u001b[0mkwargs\u001b[0m\u001b[0;34m.\u001b[0m\u001b[0msetdefault\u001b[0m\u001b[0;34m(\u001b[0m\u001b[0;34m'allow_redirects'\u001b[0m\u001b[0;34m,\u001b[0m \u001b[0;32mTrue\u001b[0m\u001b[0;34m)\u001b[0m\u001b[0;34m\u001b[0m\u001b[0m\n\u001b[0;32m---> 72\u001b[0;31m     \u001b[0;32mreturn\u001b[0m \u001b[0mrequest\u001b[0m\u001b[0;34m(\u001b[0m\u001b[0;34m'get'\u001b[0m\u001b[0;34m,\u001b[0m \u001b[0murl\u001b[0m\u001b[0;34m,\u001b[0m \u001b[0mparams\u001b[0m\u001b[0;34m=\u001b[0m\u001b[0mparams\u001b[0m\u001b[0;34m,\u001b[0m \u001b[0;34m**\u001b[0m\u001b[0mkwargs\u001b[0m\u001b[0;34m)\u001b[0m\u001b[0;34m\u001b[0m\u001b[0m\n\u001b[0m\u001b[1;32m     73\u001b[0m \u001b[0;34m\u001b[0m\u001b[0m\n\u001b[1;32m     74\u001b[0m \u001b[0;34m\u001b[0m\u001b[0m\n",
      "\u001b[0;32m~/anaconda3/envs/konlpy_env/lib/python3.6/site-packages/requests/api.py\u001b[0m in \u001b[0;36mrequest\u001b[0;34m(method, url, **kwargs)\u001b[0m\n\u001b[1;32m     56\u001b[0m     \u001b[0;31m# cases, and look like a memory leak in others.\u001b[0m\u001b[0;34m\u001b[0m\u001b[0;34m\u001b[0m\u001b[0m\n\u001b[1;32m     57\u001b[0m     \u001b[0;32mwith\u001b[0m \u001b[0msessions\u001b[0m\u001b[0;34m.\u001b[0m\u001b[0mSession\u001b[0m\u001b[0;34m(\u001b[0m\u001b[0;34m)\u001b[0m \u001b[0;32mas\u001b[0m \u001b[0msession\u001b[0m\u001b[0;34m:\u001b[0m\u001b[0;34m\u001b[0m\u001b[0m\n\u001b[0;32m---> 58\u001b[0;31m         \u001b[0;32mreturn\u001b[0m \u001b[0msession\u001b[0m\u001b[0;34m.\u001b[0m\u001b[0mrequest\u001b[0m\u001b[0;34m(\u001b[0m\u001b[0mmethod\u001b[0m\u001b[0;34m=\u001b[0m\u001b[0mmethod\u001b[0m\u001b[0;34m,\u001b[0m \u001b[0murl\u001b[0m\u001b[0;34m=\u001b[0m\u001b[0murl\u001b[0m\u001b[0;34m,\u001b[0m \u001b[0;34m**\u001b[0m\u001b[0mkwargs\u001b[0m\u001b[0;34m)\u001b[0m\u001b[0;34m\u001b[0m\u001b[0m\n\u001b[0m\u001b[1;32m     59\u001b[0m \u001b[0;34m\u001b[0m\u001b[0m\n\u001b[1;32m     60\u001b[0m \u001b[0;34m\u001b[0m\u001b[0m\n",
      "\u001b[0;32m~/anaconda3/envs/konlpy_env/lib/python3.6/site-packages/requests/sessions.py\u001b[0m in \u001b[0;36mrequest\u001b[0;34m(self, method, url, params, data, headers, cookies, files, auth, timeout, allow_redirects, proxies, hooks, stream, verify, cert, json)\u001b[0m\n\u001b[1;32m    510\u001b[0m         }\n\u001b[1;32m    511\u001b[0m         \u001b[0msend_kwargs\u001b[0m\u001b[0;34m.\u001b[0m\u001b[0mupdate\u001b[0m\u001b[0;34m(\u001b[0m\u001b[0msettings\u001b[0m\u001b[0;34m)\u001b[0m\u001b[0;34m\u001b[0m\u001b[0m\n\u001b[0;32m--> 512\u001b[0;31m         \u001b[0mresp\u001b[0m \u001b[0;34m=\u001b[0m \u001b[0mself\u001b[0m\u001b[0;34m.\u001b[0m\u001b[0msend\u001b[0m\u001b[0;34m(\u001b[0m\u001b[0mprep\u001b[0m\u001b[0;34m,\u001b[0m \u001b[0;34m**\u001b[0m\u001b[0msend_kwargs\u001b[0m\u001b[0;34m)\u001b[0m\u001b[0;34m\u001b[0m\u001b[0m\n\u001b[0m\u001b[1;32m    513\u001b[0m \u001b[0;34m\u001b[0m\u001b[0m\n\u001b[1;32m    514\u001b[0m         \u001b[0;32mreturn\u001b[0m \u001b[0mresp\u001b[0m\u001b[0;34m\u001b[0m\u001b[0m\n",
      "\u001b[0;32m~/anaconda3/envs/konlpy_env/lib/python3.6/site-packages/requests/sessions.py\u001b[0m in \u001b[0;36msend\u001b[0;34m(self, request, **kwargs)\u001b[0m\n\u001b[1;32m    620\u001b[0m \u001b[0;34m\u001b[0m\u001b[0m\n\u001b[1;32m    621\u001b[0m         \u001b[0;31m# Send the request\u001b[0m\u001b[0;34m\u001b[0m\u001b[0;34m\u001b[0m\u001b[0m\n\u001b[0;32m--> 622\u001b[0;31m         \u001b[0mr\u001b[0m \u001b[0;34m=\u001b[0m \u001b[0madapter\u001b[0m\u001b[0;34m.\u001b[0m\u001b[0msend\u001b[0m\u001b[0;34m(\u001b[0m\u001b[0mrequest\u001b[0m\u001b[0;34m,\u001b[0m \u001b[0;34m**\u001b[0m\u001b[0mkwargs\u001b[0m\u001b[0;34m)\u001b[0m\u001b[0;34m\u001b[0m\u001b[0m\n\u001b[0m\u001b[1;32m    623\u001b[0m \u001b[0;34m\u001b[0m\u001b[0m\n\u001b[1;32m    624\u001b[0m         \u001b[0;31m# Total elapsed time of the request (approximately)\u001b[0m\u001b[0;34m\u001b[0m\u001b[0;34m\u001b[0m\u001b[0m\n",
      "\u001b[0;32m~/anaconda3/envs/konlpy_env/lib/python3.6/site-packages/requests/adapters.py\u001b[0m in \u001b[0;36msend\u001b[0;34m(self, request, stream, timeout, verify, cert, proxies)\u001b[0m\n\u001b[1;32m    443\u001b[0m                     \u001b[0mdecode_content\u001b[0m\u001b[0;34m=\u001b[0m\u001b[0;32mFalse\u001b[0m\u001b[0;34m,\u001b[0m\u001b[0;34m\u001b[0m\u001b[0m\n\u001b[1;32m    444\u001b[0m                     \u001b[0mretries\u001b[0m\u001b[0;34m=\u001b[0m\u001b[0mself\u001b[0m\u001b[0;34m.\u001b[0m\u001b[0mmax_retries\u001b[0m\u001b[0;34m,\u001b[0m\u001b[0;34m\u001b[0m\u001b[0m\n\u001b[0;32m--> 445\u001b[0;31m                     \u001b[0mtimeout\u001b[0m\u001b[0;34m=\u001b[0m\u001b[0mtimeout\u001b[0m\u001b[0;34m\u001b[0m\u001b[0m\n\u001b[0m\u001b[1;32m    446\u001b[0m                 )\n\u001b[1;32m    447\u001b[0m \u001b[0;34m\u001b[0m\u001b[0m\n",
      "\u001b[0;32m~/anaconda3/envs/konlpy_env/lib/python3.6/site-packages/urllib3/connectionpool.py\u001b[0m in \u001b[0;36murlopen\u001b[0;34m(self, method, url, body, headers, retries, redirect, assert_same_host, timeout, pool_timeout, release_conn, chunked, body_pos, **response_kw)\u001b[0m\n\u001b[1;32m    598\u001b[0m                                                   \u001b[0mtimeout\u001b[0m\u001b[0;34m=\u001b[0m\u001b[0mtimeout_obj\u001b[0m\u001b[0;34m,\u001b[0m\u001b[0;34m\u001b[0m\u001b[0m\n\u001b[1;32m    599\u001b[0m                                                   \u001b[0mbody\u001b[0m\u001b[0;34m=\u001b[0m\u001b[0mbody\u001b[0m\u001b[0;34m,\u001b[0m \u001b[0mheaders\u001b[0m\u001b[0;34m=\u001b[0m\u001b[0mheaders\u001b[0m\u001b[0;34m,\u001b[0m\u001b[0;34m\u001b[0m\u001b[0m\n\u001b[0;32m--> 600\u001b[0;31m                                                   chunked=chunked)\n\u001b[0m\u001b[1;32m    601\u001b[0m \u001b[0;34m\u001b[0m\u001b[0m\n\u001b[1;32m    602\u001b[0m             \u001b[0;31m# If we're going to release the connection in ``finally:``, then\u001b[0m\u001b[0;34m\u001b[0m\u001b[0;34m\u001b[0m\u001b[0m\n",
      "\u001b[0;32m~/anaconda3/envs/konlpy_env/lib/python3.6/site-packages/urllib3/connectionpool.py\u001b[0m in \u001b[0;36m_make_request\u001b[0;34m(self, conn, method, url, timeout, chunked, **httplib_request_kw)\u001b[0m\n\u001b[1;32m    341\u001b[0m         \u001b[0;31m# Trigger any extra validation we need to do.\u001b[0m\u001b[0;34m\u001b[0m\u001b[0;34m\u001b[0m\u001b[0m\n\u001b[1;32m    342\u001b[0m         \u001b[0;32mtry\u001b[0m\u001b[0;34m:\u001b[0m\u001b[0;34m\u001b[0m\u001b[0m\n\u001b[0;32m--> 343\u001b[0;31m             \u001b[0mself\u001b[0m\u001b[0;34m.\u001b[0m\u001b[0m_validate_conn\u001b[0m\u001b[0;34m(\u001b[0m\u001b[0mconn\u001b[0m\u001b[0;34m)\u001b[0m\u001b[0;34m\u001b[0m\u001b[0m\n\u001b[0m\u001b[1;32m    344\u001b[0m         \u001b[0;32mexcept\u001b[0m \u001b[0;34m(\u001b[0m\u001b[0mSocketTimeout\u001b[0m\u001b[0;34m,\u001b[0m \u001b[0mBaseSSLError\u001b[0m\u001b[0;34m)\u001b[0m \u001b[0;32mas\u001b[0m \u001b[0me\u001b[0m\u001b[0;34m:\u001b[0m\u001b[0;34m\u001b[0m\u001b[0m\n\u001b[1;32m    345\u001b[0m             \u001b[0;31m# Py2 raises this as a BaseSSLError, Py3 raises it as socket timeout.\u001b[0m\u001b[0;34m\u001b[0m\u001b[0;34m\u001b[0m\u001b[0m\n",
      "\u001b[0;32m~/anaconda3/envs/konlpy_env/lib/python3.6/site-packages/urllib3/connectionpool.py\u001b[0m in \u001b[0;36m_validate_conn\u001b[0;34m(self, conn)\u001b[0m\n\u001b[1;32m    847\u001b[0m         \u001b[0;31m# Force connect early to allow us to validate the connection.\u001b[0m\u001b[0;34m\u001b[0m\u001b[0;34m\u001b[0m\u001b[0m\n\u001b[1;32m    848\u001b[0m         \u001b[0;32mif\u001b[0m \u001b[0;32mnot\u001b[0m \u001b[0mgetattr\u001b[0m\u001b[0;34m(\u001b[0m\u001b[0mconn\u001b[0m\u001b[0;34m,\u001b[0m \u001b[0;34m'sock'\u001b[0m\u001b[0;34m,\u001b[0m \u001b[0;32mNone\u001b[0m\u001b[0;34m)\u001b[0m\u001b[0;34m:\u001b[0m  \u001b[0;31m# AppEngine might not have  `.sock`\u001b[0m\u001b[0;34m\u001b[0m\u001b[0m\n\u001b[0;32m--> 849\u001b[0;31m             \u001b[0mconn\u001b[0m\u001b[0;34m.\u001b[0m\u001b[0mconnect\u001b[0m\u001b[0;34m(\u001b[0m\u001b[0;34m)\u001b[0m\u001b[0;34m\u001b[0m\u001b[0m\n\u001b[0m\u001b[1;32m    850\u001b[0m \u001b[0;34m\u001b[0m\u001b[0m\n\u001b[1;32m    851\u001b[0m         \u001b[0;32mif\u001b[0m \u001b[0;32mnot\u001b[0m \u001b[0mconn\u001b[0m\u001b[0;34m.\u001b[0m\u001b[0mis_verified\u001b[0m\u001b[0;34m:\u001b[0m\u001b[0;34m\u001b[0m\u001b[0m\n",
      "\u001b[0;32m~/anaconda3/envs/konlpy_env/lib/python3.6/site-packages/urllib3/connection.py\u001b[0m in \u001b[0;36mconnect\u001b[0;34m(self)\u001b[0m\n\u001b[1;32m    312\u001b[0m     \u001b[0;32mdef\u001b[0m \u001b[0mconnect\u001b[0m\u001b[0;34m(\u001b[0m\u001b[0mself\u001b[0m\u001b[0;34m)\u001b[0m\u001b[0;34m:\u001b[0m\u001b[0;34m\u001b[0m\u001b[0m\n\u001b[1;32m    313\u001b[0m         \u001b[0;31m# Add certificate verification\u001b[0m\u001b[0;34m\u001b[0m\u001b[0;34m\u001b[0m\u001b[0m\n\u001b[0;32m--> 314\u001b[0;31m         \u001b[0mconn\u001b[0m \u001b[0;34m=\u001b[0m \u001b[0mself\u001b[0m\u001b[0;34m.\u001b[0m\u001b[0m_new_conn\u001b[0m\u001b[0;34m(\u001b[0m\u001b[0;34m)\u001b[0m\u001b[0;34m\u001b[0m\u001b[0m\n\u001b[0m\u001b[1;32m    315\u001b[0m \u001b[0;34m\u001b[0m\u001b[0m\n\u001b[1;32m    316\u001b[0m         \u001b[0mhostname\u001b[0m \u001b[0;34m=\u001b[0m \u001b[0mself\u001b[0m\u001b[0;34m.\u001b[0m\u001b[0mhost\u001b[0m\u001b[0;34m\u001b[0m\u001b[0m\n",
      "\u001b[0;32m~/anaconda3/envs/konlpy_env/lib/python3.6/site-packages/urllib3/connection.py\u001b[0m in \u001b[0;36m_new_conn\u001b[0;34m(self)\u001b[0m\n\u001b[1;32m    169\u001b[0m         \u001b[0;32mtry\u001b[0m\u001b[0;34m:\u001b[0m\u001b[0;34m\u001b[0m\u001b[0m\n\u001b[1;32m    170\u001b[0m             conn = connection.create_connection(\n\u001b[0;32m--> 171\u001b[0;31m                 (self._dns_host, self.port), self.timeout, **extra_kw)\n\u001b[0m\u001b[1;32m    172\u001b[0m \u001b[0;34m\u001b[0m\u001b[0m\n\u001b[1;32m    173\u001b[0m         \u001b[0;32mexcept\u001b[0m \u001b[0mSocketTimeout\u001b[0m \u001b[0;32mas\u001b[0m \u001b[0me\u001b[0m\u001b[0;34m:\u001b[0m\u001b[0;34m\u001b[0m\u001b[0m\n",
      "\u001b[0;32m~/anaconda3/envs/konlpy_env/lib/python3.6/site-packages/urllib3/util/connection.py\u001b[0m in \u001b[0;36mcreate_connection\u001b[0;34m(address, timeout, source_address, socket_options)\u001b[0m\n\u001b[1;32m     54\u001b[0m     \u001b[0mfamily\u001b[0m \u001b[0;34m=\u001b[0m \u001b[0mallowed_gai_family\u001b[0m\u001b[0;34m(\u001b[0m\u001b[0;34m)\u001b[0m\u001b[0;34m\u001b[0m\u001b[0m\n\u001b[1;32m     55\u001b[0m \u001b[0;34m\u001b[0m\u001b[0m\n\u001b[0;32m---> 56\u001b[0;31m     \u001b[0;32mfor\u001b[0m \u001b[0mres\u001b[0m \u001b[0;32min\u001b[0m \u001b[0msocket\u001b[0m\u001b[0;34m.\u001b[0m\u001b[0mgetaddrinfo\u001b[0m\u001b[0;34m(\u001b[0m\u001b[0mhost\u001b[0m\u001b[0;34m,\u001b[0m \u001b[0mport\u001b[0m\u001b[0;34m,\u001b[0m \u001b[0mfamily\u001b[0m\u001b[0;34m,\u001b[0m \u001b[0msocket\u001b[0m\u001b[0;34m.\u001b[0m\u001b[0mSOCK_STREAM\u001b[0m\u001b[0;34m)\u001b[0m\u001b[0;34m:\u001b[0m\u001b[0;34m\u001b[0m\u001b[0m\n\u001b[0m\u001b[1;32m     57\u001b[0m         \u001b[0maf\u001b[0m\u001b[0;34m,\u001b[0m \u001b[0msocktype\u001b[0m\u001b[0;34m,\u001b[0m \u001b[0mproto\u001b[0m\u001b[0;34m,\u001b[0m \u001b[0mcanonname\u001b[0m\u001b[0;34m,\u001b[0m \u001b[0msa\u001b[0m \u001b[0;34m=\u001b[0m \u001b[0mres\u001b[0m\u001b[0;34m\u001b[0m\u001b[0m\n\u001b[1;32m     58\u001b[0m         \u001b[0msock\u001b[0m \u001b[0;34m=\u001b[0m \u001b[0;32mNone\u001b[0m\u001b[0;34m\u001b[0m\u001b[0m\n",
      "\u001b[0;32m~/anaconda3/envs/konlpy_env/lib/python3.6/socket.py\u001b[0m in \u001b[0;36mgetaddrinfo\u001b[0;34m(host, port, family, type, proto, flags)\u001b[0m\n\u001b[1;32m    743\u001b[0m     \u001b[0;31m# and socket type values to enum constants.\u001b[0m\u001b[0;34m\u001b[0m\u001b[0;34m\u001b[0m\u001b[0m\n\u001b[1;32m    744\u001b[0m     \u001b[0maddrlist\u001b[0m \u001b[0;34m=\u001b[0m \u001b[0;34m[\u001b[0m\u001b[0;34m]\u001b[0m\u001b[0;34m\u001b[0m\u001b[0m\n\u001b[0;32m--> 745\u001b[0;31m     \u001b[0;32mfor\u001b[0m \u001b[0mres\u001b[0m \u001b[0;32min\u001b[0m \u001b[0m_socket\u001b[0m\u001b[0;34m.\u001b[0m\u001b[0mgetaddrinfo\u001b[0m\u001b[0;34m(\u001b[0m\u001b[0mhost\u001b[0m\u001b[0;34m,\u001b[0m \u001b[0mport\u001b[0m\u001b[0;34m,\u001b[0m \u001b[0mfamily\u001b[0m\u001b[0;34m,\u001b[0m \u001b[0mtype\u001b[0m\u001b[0;34m,\u001b[0m \u001b[0mproto\u001b[0m\u001b[0;34m,\u001b[0m \u001b[0mflags\u001b[0m\u001b[0;34m)\u001b[0m\u001b[0;34m:\u001b[0m\u001b[0;34m\u001b[0m\u001b[0m\n\u001b[0m\u001b[1;32m    746\u001b[0m         \u001b[0maf\u001b[0m\u001b[0;34m,\u001b[0m \u001b[0msocktype\u001b[0m\u001b[0;34m,\u001b[0m \u001b[0mproto\u001b[0m\u001b[0;34m,\u001b[0m \u001b[0mcanonname\u001b[0m\u001b[0;34m,\u001b[0m \u001b[0msa\u001b[0m \u001b[0;34m=\u001b[0m \u001b[0mres\u001b[0m\u001b[0;34m\u001b[0m\u001b[0m\n\u001b[1;32m    747\u001b[0m         addrlist.append((_intenum_converter(af, AddressFamily),\n",
      "\u001b[0;31mKeyboardInterrupt\u001b[0m: "
     ]
    }
   ],
   "source": [
    "content_ls = []\n",
    "score_ls = []\n",
    "\n",
    "for idx,url in enumerate(real_url_ls) : \n",
    "    if idx % 10 == 0 : print(idx)\n",
    "    req = requests.get(real_url_ls[0])\n",
    "    dom = BeautifulSoup(req.text, 'lxml')\n",
    "    content = ','.join([i.text for i in dom.findAll('p')]).replace(',',' ')\n",
    "    content_ls.append(content)\n",
    "    score_ls.append(sia.polarity_scores(content)['compound'])"
   ]
  },
  {
   "cell_type": "code",
   "execution_count": 101,
   "metadata": {
    "scrolled": false
   },
   "outputs": [
    {
     "name": "stdout",
     "output_type": "stream",
     "text": [
      "0\n",
      "10\n",
      "20\n",
      "30\n",
      "40\n",
      "50\n",
      "60\n",
      "70\n",
      "80\n",
      "90\n"
     ]
    }
   ],
   "source": [
    "content_ls = []\n",
    "score_ls = []\n",
    "\n",
    "for idx,url in enumerate(real_url_ls) : \n",
    "    if idx % 10 == 0 : print(idx)\n",
    "    req = requests.get(url)\n",
    "    http = TextResponse(req.url , body=req.text, encoding='utf-8')\n",
    "    if len(http.xpath('//*[@id=\"node-article-news-article-group-column-1\"]/div[2]/p/text()').extract()) != 0 :\n",
    "        content_ls.append(','.join(http.xpath(\\\n",
    "        '//*[@id=\"node-article-news-article-group-column-1\"]/div[2]/p/text()').extract()).replace(',',' '))\n",
    "    else :\n",
    "        content_ls.append(','.join(http.xpath(\\\n",
    "        '//*[@id=\"node-article-news-article-group-column-1\"]/div[3]/p/text()').extract()).replace(',',' '))\n",
    "    score_ls.append(sia.polarity_scores(content_ls[-1])['compound'])"
   ]
  },
  {
   "cell_type": "code",
   "execution_count": 103,
   "metadata": {},
   "outputs": [
    {
     "data": {
      "text/plain": [
       "[4, 17, 20, 27, 28, 34, 39, 43, 45, 46, 60, 61, 65, 67, 68, 74, 93]"
      ]
     },
     "execution_count": 103,
     "metadata": {},
     "output_type": "execute_result"
    }
   ],
   "source": [
    "[idx for idx,i in enumerate(content_ls) if len(i) == 0]"
   ]
  },
  {
   "cell_type": "code",
   "execution_count": 104,
   "metadata": {},
   "outputs": [],
   "source": [
    "def xpath_func(url):\n",
    "    req = requests.get(url)\n",
    "    http = TextResponse(req.url , body=req.text, encoding='utf-8')\n",
    "    \n",
    "    return http"
   ]
  },
  {
   "cell_type": "code",
   "execution_count": 100,
   "metadata": {},
   "outputs": [
    {
     "data": {
      "text/plain": [
       "'Canberra GOOGLE and Facebook Inc face a regulatory crackdown in Australia after the nation\\'s competition watchdog joined a chorus of international criticism over their use of data and the market power they wield across news and advertising. In a preliminary report released on Monday  the Australian Competition and Consumer Commission (ACCC) said a new or existing watchdog should investigate and monitor how large digital platforms rank and display adverts and news. It also expressed concern about a lack of transparency in how their key algorithms work. \"The ACCC considers that the strong market position of digital platforms like Google and Facebook justifies a greater level of regulatory oversight \" chairman Rod Sims said. The report contains 11 preliminary recommendations and eight areas for further analysis as the inquiry continues. The tech giants have come under increased scrutiny internationally amid concern about the dissemination of fake news and their potential to dominate online advertising. US lawmakers have lambasted Facebook for failing to stop a flood of Russian propaganda during the 2016 election  while European regulators are looking at the advertising practices of digital platforms. \"This is a sign that Australia is looking to follow Europe\\'s lead in putting some sort of restrictions on these two companies\\' enormous sway in the market \" said Andrew Hughes  a lecturer in marketing at the Australian National University. \"It\\'s hard to think that this will curtail their dominance  but at least it\\'s a start in drawing a line and saying there needs to be more oversight.\" The ACCC said Google and Facebook had become the \"dominant gateways between news media businesses and audiences\"  leading to a loss of advertising revenue and ultimately cuts in the number of journalists who could play an important role in \"exposing corruption and holding governments  companies  powerful individuals and institutions to account\". The competition watchdog said its \"preliminary view is that consumers face a potential risk of filter bubbles  or echo chambers  and less reliable news on digital platforms\". A lack of transparency in key algorithms makes it difficult to know if the tech giants are favouring their own business interests over advertisers using the platforms  the ACCC said. Google said in a response to questions about the report that \"we develop innovative products to the benefit of consumers  businesses and the economy  and we work closely with advertisers and publishers across Australia\". Facebook said it remains \"committed to working with the commission as they review the contribution of all digital platforms in Australia\". The government isn\\'t expected to act on the ACCC\\'s recommendations until the final report is issued in June. \"Digital platforms have changed the way media content is produced  distributed and consumed \" Treasurer Josh Frydenberg said on Monday. \"To make the most of opportunities that digital platforms bring  and to provide the right safeguards for the community  it is important that the regulatory environment remains fit-for-purpose.\" The ACCC\\'s preliminary report comes days after Australia\\'s parliament passed some of the world\\'s toughest anti-encryption legislation to force tech companies to help decode messages on services such as WhatsApp when they are used in terrorism and organised crime. Other recommendations in the report included -'"
      ]
     },
     "execution_count": 100,
     "metadata": {},
     "output_type": "execute_result"
    }
   ],
   "source": [
    "','.join(content).replace(\",\",' ')"
   ]
  }
 ],
 "metadata": {
  "kernelspec": {
   "display_name": "Python 3",
   "language": "python",
   "name": "python3"
  },
  "language_info": {
   "codemirror_mode": {
    "name": "ipython",
    "version": 3
   },
   "file_extension": ".py",
   "mimetype": "text/x-python",
   "name": "python",
   "nbconvert_exporter": "python",
   "pygments_lexer": "ipython3",
   "version": "3.6.6"
  }
 },
 "nbformat": 4,
 "nbformat_minor": 2
}
