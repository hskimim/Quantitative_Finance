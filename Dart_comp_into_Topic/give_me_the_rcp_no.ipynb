{
 "cells": [
  {
   "cell_type": "code",
   "execution_count": 58,
   "metadata": {
    "collapsed": true
   },
   "outputs": [],
   "source": [
    "import requests\n",
    "from bs4 import BeautifulSoup\n",
    "import json\n",
    "from pandas.io.json import json_normalize\n",
    "#json_normalize : json 데이터 포맷을 보기 쉽게 테이블 형태로 바꿔준다."
   ]
  },
  {
   "cell_type": "code",
   "execution_count": 59,
   "metadata": {
    "collapsed": false,
    "scrolled": true
   },
   "outputs": [],
   "source": [
    "code_df = pd.read_csv('corp_code.csv')\n",
    "code_list = list(code_df['code'])"
   ]
  },
  {
   "cell_type": "code",
   "execution_count": 60,
   "metadata": {
    "collapsed": false
   },
   "outputs": [],
   "source": [
    "code_list = [str(code) for code in code_list]\n",
    "code_list = ['0'*(6-len(code))+code for code in code_list if len(code) != 6]"
   ]
  },
  {
   "cell_type": "code",
   "execution_count": 62,
   "metadata": {
    "collapsed": false
   },
   "outputs": [],
   "source": [
    "# 회사의 전체 사업+반기+분기보고서 100건\n",
    "url_tmpl = 'http://dart.fss.or.kr/api/search.json?auth={auth}&crp_cd={code}&start_dt=19990101&bsn_tp=A001&bsn_tp=A002&bsn_tp=A003&page_set={page}'\n",
    "auth = '7929e9e6b73745a684d56abb329dd353b9c4a5bd'\n",
    "for i,code in enumerate(code_list):\n",
    "    page = '100'\n",
    "    url = url_tmpl.format(auth=auth,code=code,page=page)\n",
    "    r = requests.get(url)\n",
    "    jo = json.loads(r.text)\n",
    "    globals()['result'+str(i)] = json_normalize(jo, 'list')"
   ]
  },
  {
   "cell_type": "code",
   "execution_count": 6,
   "metadata": {
    "collapsed": false,
    "scrolled": true
   },
   "outputs": [
    {
     "name": "stdout",
     "output_type": "stream",
     "text": [
      "0 http://dart.fss.or.kr/dsaf001/main.do?rcpNo=20180814001113\n",
      "1 http://dart.fss.or.kr/dsaf001/main.do?rcpNo=20180515001699\n",
      "2 http://dart.fss.or.kr/dsaf001/main.do?rcpNo=20180402005019\n",
      "3 http://dart.fss.or.kr/dsaf001/main.do?rcpNo=20171114001694\n",
      "4 http://dart.fss.or.kr/dsaf001/main.do?rcpNo=20170814001832\n",
      "5 http://dart.fss.or.kr/dsaf001/main.do?rcpNo=20170515003806\n",
      "6 http://dart.fss.or.kr/dsaf001/main.do?rcpNo=20170331004518\n",
      "7 http://dart.fss.or.kr/dsaf001/main.do?rcpNo=20161114001491\n",
      "8 http://dart.fss.or.kr/dsaf001/main.do?rcpNo=20160816001779\n",
      "9 http://dart.fss.or.kr/dsaf001/main.do?rcpNo=20160516003174\n",
      "10 http://dart.fss.or.kr/dsaf001/main.do?rcpNo=20160330003536\n",
      "11 http://dart.fss.or.kr/dsaf001/main.do?rcpNo=20151116000976\n",
      "12 http://dart.fss.or.kr/dsaf001/main.do?rcpNo=20150817000859\n",
      "13 http://dart.fss.or.kr/dsaf001/main.do?rcpNo=20150515001379\n",
      "14 http://dart.fss.or.kr/dsaf001/main.do?rcpNo=20150331002915\n",
      "15 http://dart.fss.or.kr/dsaf001/main.do?rcpNo=20141114000755\n",
      "16 http://dart.fss.or.kr/dsaf001/main.do?rcpNo=20140814000743\n",
      "17 http://dart.fss.or.kr/dsaf001/main.do?rcpNo=20140515001057\n",
      "18 http://dart.fss.or.kr/dsaf001/main.do?rcpNo=20140331002427\n",
      "19 http://dart.fss.or.kr/dsaf001/main.do?rcpNo=20131114000520\n",
      "20 http://dart.fss.or.kr/dsaf001/main.do?rcpNo=20130814000618\n",
      "21 http://dart.fss.or.kr/dsaf001/main.do?rcpNo=20130515000677\n",
      "22 http://dart.fss.or.kr/dsaf001/main.do?rcpNo=20130401003031\n",
      "23 http://dart.fss.or.kr/dsaf001/main.do?rcpNo=20121114000975\n",
      "24 http://dart.fss.or.kr/dsaf001/main.do?rcpNo=20120814001232\n",
      "25 http://dart.fss.or.kr/dsaf001/main.do?rcpNo=20120515001281\n",
      "26 http://dart.fss.or.kr/dsaf001/main.do?rcpNo=20120330002110\n",
      "27 http://dart.fss.or.kr/dsaf001/main.do?rcpNo=20111129000501\n",
      "28 http://dart.fss.or.kr/dsaf001/main.do?rcpNo=20110916000072\n",
      "29 http://dart.fss.or.kr/dsaf001/main.do?rcpNo=20110829000539\n",
      "30 http://dart.fss.or.kr/dsaf001/main.do?rcpNo=20110530000628\n",
      "31 http://dart.fss.or.kr/dsaf001/main.do?rcpNo=20110331002193\n",
      "32 http://dart.fss.or.kr/dsaf001/main.do?rcpNo=20101129000419\n",
      "33 http://dart.fss.or.kr/dsaf001/main.do?rcpNo=20100830000360\n",
      "34 http://dart.fss.or.kr/dsaf001/main.do?rcpNo=20100531001169\n",
      "35 http://dart.fss.or.kr/dsaf001/main.do?rcpNo=20100331001680\n",
      "36 http://dart.fss.or.kr/dsaf001/main.do?rcpNo=20091116000492\n",
      "37 http://dart.fss.or.kr/dsaf001/main.do?rcpNo=20090814001311\n",
      "38 http://dart.fss.or.kr/dsaf001/main.do?rcpNo=20090515001705\n",
      "39 http://dart.fss.or.kr/dsaf001/main.do?rcpNo=20090331002550\n",
      "40 http://dart.fss.or.kr/dsaf001/main.do?rcpNo=20081114000862\n",
      "41 http://dart.fss.or.kr/dsaf001/main.do?rcpNo=20080814001491\n",
      "42 http://dart.fss.or.kr/dsaf001/main.do?rcpNo=20080515001670\n",
      "43 http://dart.fss.or.kr/dsaf001/main.do?rcpNo=20080331002164\n",
      "44 http://dart.fss.or.kr/dsaf001/main.do?rcpNo=20071114001227\n",
      "45 http://dart.fss.or.kr/dsaf001/main.do?rcpNo=20070814001689\n",
      "46 http://dart.fss.or.kr/dsaf001/main.do?rcpNo=20070515001702\n",
      "47 http://dart.fss.or.kr/dsaf001/main.do?rcpNo=20070330001989\n",
      "48 http://dart.fss.or.kr/dsaf001/main.do?rcpNo=20061114001806\n",
      "49 http://dart.fss.or.kr/dsaf001/main.do?rcpNo=20060822000056\n",
      "50 http://dart.fss.or.kr/dsaf001/main.do?rcpNo=20060814001131\n",
      "51 http://dart.fss.or.kr/dsaf001/main.do?rcpNo=20060515002848\n",
      "52 http://dart.fss.or.kr/dsaf001/main.do?rcpNo=20060331001832\n",
      "53 http://dart.fss.or.kr/dsaf001/main.do?rcpNo=20051114001373\n",
      "54 http://dart.fss.or.kr/dsaf001/main.do?rcpNo=20050816000742\n",
      "55 http://dart.fss.or.kr/dsaf001/main.do?rcpNo=20050513002190\n",
      "56 http://dart.fss.or.kr/dsaf001/main.do?rcpNo=20050331002046\n",
      "57 http://dart.fss.or.kr/dsaf001/main.do?rcpNo=20041115001020\n",
      "58 http://dart.fss.or.kr/dsaf001/main.do?rcpNo=20040813001132\n",
      "59 http://dart.fss.or.kr/dsaf001/main.do?rcpNo=20040514002876\n",
      "60 http://dart.fss.or.kr/dsaf001/main.do?rcpNo=20040330001899\n",
      "61 http://dart.fss.or.kr/dsaf001/main.do?rcpNo=20031114001124\n",
      "62 http://dart.fss.or.kr/dsaf001/main.do?rcpNo=20030813000500\n",
      "63 http://dart.fss.or.kr/dsaf001/main.do?rcpNo=20030515000631\n",
      "64 http://dart.fss.or.kr/dsaf001/main.do?rcpNo=20030407000694\n",
      "65 http://dart.fss.or.kr/dsaf001/main.do?rcpNo=20030331001534\n",
      "66 http://dart.fss.or.kr/dsaf001/main.do?rcpNo=20021114000256\n",
      "67 http://dart.fss.or.kr/dsaf001/main.do?rcpNo=20020814000096\n",
      "68 http://dart.fss.or.kr/dsaf001/main.do?rcpNo=20020515000772\n",
      "69 http://dart.fss.or.kr/dsaf001/main.do?rcpNo=20020401001077\n",
      "70 http://dart.fss.or.kr/dsaf001/main.do?rcpNo=20011114000621\n",
      "71 http://dart.fss.or.kr/dsaf001/main.do?rcpNo=20010814001128\n",
      "72 http://dart.fss.or.kr/dsaf001/main.do?rcpNo=20010515000548\n",
      "73 http://dart.fss.or.kr/dsaf001/main.do?rcpNo=20010331000297\n",
      "74 http://dart.fss.or.kr/dsaf001/main.do?rcpNo=20001114000729\n",
      "75 http://dart.fss.or.kr/dsaf001/main.do?rcpNo=20000814000482\n",
      "76 http://dart.fss.or.kr/dsaf001/main.do?rcpNo=20000515000739\n",
      "77 http://dart.fss.or.kr/dsaf001/main.do?rcpNo=20000330000796\n",
      "78 http://dart.fss.or.kr/dsaf001/main.do?rcpNo=19990824000003\n",
      "79 http://dart.fss.or.kr/dsaf001/main.do?rcpNo=19990814000182\n",
      "80 http://dart.fss.or.kr/dsaf001/main.do?rcpNo=19990626000007\n",
      "81 http://dart.fss.or.kr/dsaf001/main.do?rcpNo=19990403000009\n"
     ]
    }
   ],
   "source": [
    "df = result[:] \n",
    "for ix, row in df.iterrows():\n",
    "    url_tmpl = \"http://dart.fss.or.kr/dsaf001/main.do?rcpNo={}\"\n",
    "    url = url_tmpl.format(row['rcp_no'])\n",
    "    print (ix, url)"
   ]
  },
  {
   "cell_type": "code",
   "execution_count": 7,
   "metadata": {
    "collapsed": true
   },
   "outputs": [],
   "source": [
    "industrial_ls = [result['rcp_no'][i] for i in range(len(result)) if int(result['rcp_no'][i][5])%3 == 0]"
   ]
  },
  {
   "cell_type": "code",
   "execution_count": 8,
   "metadata": {
    "collapsed": false
   },
   "outputs": [
    {
     "data": {
      "text/plain": [
       "['http://dart.fss.or.kr/dsaf001/main.do?rcpNo=20170331004518',\n",
       " 'http://dart.fss.or.kr/dsaf001/main.do?rcpNo=20160330003536',\n",
       " 'http://dart.fss.or.kr/dsaf001/main.do?rcpNo=20150331002915',\n",
       " 'http://dart.fss.or.kr/dsaf001/main.do?rcpNo=20140331002427',\n",
       " 'http://dart.fss.or.kr/dsaf001/main.do?rcpNo=20120330002110',\n",
       " 'http://dart.fss.or.kr/dsaf001/main.do?rcpNo=20110916000072',\n",
       " 'http://dart.fss.or.kr/dsaf001/main.do?rcpNo=20110331002193',\n",
       " 'http://dart.fss.or.kr/dsaf001/main.do?rcpNo=20100331001680',\n",
       " 'http://dart.fss.or.kr/dsaf001/main.do?rcpNo=20090331002550',\n",
       " 'http://dart.fss.or.kr/dsaf001/main.do?rcpNo=20080331002164',\n",
       " 'http://dart.fss.or.kr/dsaf001/main.do?rcpNo=20070330001989',\n",
       " 'http://dart.fss.or.kr/dsaf001/main.do?rcpNo=20060331001832',\n",
       " 'http://dart.fss.or.kr/dsaf001/main.do?rcpNo=20050331002046',\n",
       " 'http://dart.fss.or.kr/dsaf001/main.do?rcpNo=20040330001899',\n",
       " 'http://dart.fss.or.kr/dsaf001/main.do?rcpNo=20030331001534',\n",
       " 'http://dart.fss.or.kr/dsaf001/main.do?rcpNo=20010331000297',\n",
       " 'http://dart.fss.or.kr/dsaf001/main.do?rcpNo=20000330000796',\n",
       " 'http://dart.fss.or.kr/dsaf001/main.do?rcpNo=19990626000007']"
      ]
     },
     "execution_count": 8,
     "metadata": {},
     "output_type": "execute_result"
    }
   ],
   "source": [
    "industrial_url = []\n",
    "for num in industrial_ls:\n",
    "    url_tmpl = \"http://dart.fss.or.kr/dsaf001/main.do?rcpNo={}\"\n",
    "    url = url_tmpl.format(num)\n",
    "    industrial_url.append(url)\n",
    "industrial_url    "
   ]
  }
 ],
 "metadata": {
  "kernelspec": {
   "display_name": "Python 3",
   "language": "python",
   "name": "python3"
  },
  "language_info": {
   "codemirror_mode": {
    "name": "ipython",
    "version": 3
   },
   "file_extension": ".py",
   "mimetype": "text/x-python",
   "name": "python",
   "nbconvert_exporter": "python",
   "pygments_lexer": "ipython3",
   "version": "3.6.0"
  }
 },
 "nbformat": 4,
 "nbformat_minor": 2
}
