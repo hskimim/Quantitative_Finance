{
 "cells": [
  {
   "cell_type": "markdown",
   "metadata": {},
   "source": [
    "개별 종목 시세"
   ]
  },
  {
   "cell_type": "code",
   "execution_count": 1,
   "metadata": {},
   "outputs": [],
   "source": [
    "import pandas as pd\n",
    "import numpy as np\n",
    "import requests\n",
    "from bs4 import BeautifulSoup\n",
    "from io import BytesIO"
   ]
  },
  {
   "cell_type": "code",
   "execution_count": 13,
   "metadata": {
    "scrolled": true
   },
   "outputs": [
    {
     "data": {
      "text/html": [
       "<div>\n",
       "<style scoped>\n",
       "    .dataframe tbody tr th:only-of-type {\n",
       "        vertical-align: middle;\n",
       "    }\n",
       "\n",
       "    .dataframe tbody tr th {\n",
       "        vertical-align: top;\n",
       "    }\n",
       "\n",
       "    .dataframe thead th {\n",
       "        text-align: right;\n",
       "    }\n",
       "</style>\n",
       "<table border=\"1\" class=\"dataframe\">\n",
       "  <thead>\n",
       "    <tr style=\"text-align: right;\">\n",
       "      <th></th>\n",
       "      <th>년/월/일</th>\n",
       "      <th>종가</th>\n",
       "      <th>대비</th>\n",
       "      <th>거래량(주)</th>\n",
       "      <th>거래대금(원)</th>\n",
       "      <th>시가</th>\n",
       "      <th>고가</th>\n",
       "      <th>저가</th>\n",
       "      <th>시가총액(백만)</th>\n",
       "      <th>상장주식수(주)</th>\n",
       "    </tr>\n",
       "  </thead>\n",
       "  <tbody>\n",
       "    <tr>\n",
       "      <th>0</th>\n",
       "      <td>2018/06/11</td>\n",
       "      <td>49900</td>\n",
       "      <td>250</td>\n",
       "      <td>10571312</td>\n",
       "      <td>526740265568</td>\n",
       "      <td>49750</td>\n",
       "      <td>50300</td>\n",
       "      <td>49350</td>\n",
       "      <td>320324303</td>\n",
       "      <td>6419324700</td>\n",
       "    </tr>\n",
       "    <tr>\n",
       "      <th>1</th>\n",
       "      <td>2018/06/08</td>\n",
       "      <td>49650</td>\n",
       "      <td>-950</td>\n",
       "      <td>16951706</td>\n",
       "      <td>845302641812</td>\n",
       "      <td>50200</td>\n",
       "      <td>50400</td>\n",
       "      <td>49600</td>\n",
       "      <td>318719471</td>\n",
       "      <td>6419324700</td>\n",
       "    </tr>\n",
       "    <tr>\n",
       "      <th>2</th>\n",
       "      <td>2018/06/07</td>\n",
       "      <td>50600</td>\n",
       "      <td>-700</td>\n",
       "      <td>13590016</td>\n",
       "      <td>692915776683</td>\n",
       "      <td>51800</td>\n",
       "      <td>51800</td>\n",
       "      <td>50500</td>\n",
       "      <td>324817830</td>\n",
       "      <td>6419324700</td>\n",
       "    </tr>\n",
       "    <tr>\n",
       "      <th>3</th>\n",
       "      <td>2018/06/05</td>\n",
       "      <td>51300</td>\n",
       "      <td>200</td>\n",
       "      <td>9144100</td>\n",
       "      <td>465525312900</td>\n",
       "      <td>51100</td>\n",
       "      <td>51400</td>\n",
       "      <td>50400</td>\n",
       "      <td>329311357</td>\n",
       "      <td>6419324700</td>\n",
       "    </tr>\n",
       "    <tr>\n",
       "      <th>4</th>\n",
       "      <td>2018/06/04</td>\n",
       "      <td>51100</td>\n",
       "      <td>-200</td>\n",
       "      <td>9767171</td>\n",
       "      <td>498093853200</td>\n",
       "      <td>50800</td>\n",
       "      <td>51200</td>\n",
       "      <td>50700</td>\n",
       "      <td>328027492</td>\n",
       "      <td>6419324700</td>\n",
       "    </tr>\n",
       "  </tbody>\n",
       "</table>\n",
       "</div>"
      ],
      "text/plain": [
       "        년/월/일     종가   대비    거래량(주)       거래대금(원)     시가     고가     저가  \\\n",
       "0  2018/06/11  49900  250  10571312  526740265568  49750  50300  49350   \n",
       "1  2018/06/08  49650 -950  16951706  845302641812  50200  50400  49600   \n",
       "2  2018/06/07  50600 -700  13590016  692915776683  51800  51800  50500   \n",
       "3  2018/06/05  51300  200   9144100  465525312900  51100  51400  50400   \n",
       "4  2018/06/04  51100 -200   9767171  498093853200  50800  51200  50700   \n",
       "\n",
       "    시가총액(백만)    상장주식수(주)  \n",
       "0  320324303  6419324700  \n",
       "1  318719471  6419324700  \n",
       "2  324817830  6419324700  \n",
       "3  329311357  6419324700  \n",
       "4  328027492  6419324700  "
      ]
     },
     "execution_count": 13,
     "metadata": {},
     "output_type": "execute_result"
    }
   ],
   "source": [
    "gen_opt_url ='http://marketdata.krx.co.kr/contents/COM/GenerateOTP.jspx'\n",
    "gen_opt_data={\n",
    "    'name':'fileDown',\n",
    "    'filetype':'csv',\n",
    "    'url':'MKD/04/0402/04020100/mkd04020100t3_02',\n",
    "    'isu_cdnm': 'A005930/삼성전자',\n",
    "    'isu_cd':'KR7005930003',\n",
    "    'isu_nm': '삼성전자',\n",
    "    'isu_srt_cd': 'A005930',\n",
    "    'fromdate': '20180604',\n",
    "    'todate': '20180611',\n",
    "    'pagePath': '/contents/MKD/04/0402/04020100/MKD04020100T3T2.jsp',\n",
    "}\n",
    "r=requests.post(gen_opt_url,gen_opt_data)\n",
    "code=r.content\n",
    "\n",
    "down_url = 'http://file.krx.co.kr/download.jspx'\n",
    "down_data={'code':code}\n",
    "r= requests.post(down_url,down_data)\n",
    "f=BytesIO(r.content)\n",
    "df=pd.read_csv(f,header=0,thousands=',')\n",
    "df"
   ]
  },
  {
   "cell_type": "code",
   "execution_count": 16,
   "metadata": {},
   "outputs": [
    {
     "name": "stdout",
     "output_type": "stream",
     "text": [
      "item counts:5\n"
     ]
    }
   ],
   "source": [
    "print('item counts:{}'.format(len(df)))"
   ]
  },
  {
   "cell_type": "code",
   "execution_count": null,
   "metadata": {},
   "outputs": [],
   "source": []
  }
 ],
 "metadata": {
  "kernelspec": {
   "display_name": "Python 3",
   "language": "python",
   "name": "python3"
  },
  "language_info": {
   "codemirror_mode": {
    "name": "ipython",
    "version": 3
   },
   "file_extension": ".py",
   "mimetype": "text/x-python",
   "name": "python",
   "nbconvert_exporter": "python",
   "pygments_lexer": "ipython3",
   "version": "3.6.4"
  }
 },
 "nbformat": 4,
 "nbformat_minor": 2
}
