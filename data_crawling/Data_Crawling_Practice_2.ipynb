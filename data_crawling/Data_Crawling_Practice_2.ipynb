{
 "cells": [
  {
   "cell_type": "code",
   "execution_count": 23,
   "metadata": {},
   "outputs": [],
   "source": [
    "auth = '7ce53429e2f97b1912d3b4578c5d6290df9bc724'\n",
    "headers={'Referer':'https://dart.fss.or.kr/dsap001/guide.do'}"
   ]
  },
  {
   "cell_type": "code",
   "execution_count": 24,
   "metadata": {},
   "outputs": [
    {
     "data": {
      "text/plain": [
       "'<?xml version=\"1.0\" encoding=\"utf-8\"?>\\n<result>\\n  <err_code>000</err_code>\\n  <err_msg>정상</err_msg>\\n  <page_no>1</page_no>\\n  <page_set>10</page_set>\\n  <total_count>0</total_count>\\n  <total_page>0</total_page>\\n</result>'"
      ]
     },
     "execution_count": 24,
     "metadata": {},
     "output_type": "execute_result"
    }
   ],
   "source": [
    "import requests\n",
    "\n",
    "url_tmpl = 'http://dart.fss.or.kr/api/search.xml?auth={auth}'\n",
    "url = url_tmpl.format(auth=auth)\n",
    "\n",
    "r= requests.get(url, headers=headers)\n",
    "r.text"
   ]
  },
  {
   "cell_type": "code",
   "execution_count": 25,
   "metadata": {},
   "outputs": [
    {
     "data": {
      "text/plain": [
       "'{\"err_code\":\"000\",\"err_msg\":\"정상\",\"page_no\":1,\"page_set\":10,\"total_count\":0,\"total_page\":0,\"list\":[]}'"
      ]
     },
     "execution_count": 25,
     "metadata": {},
     "output_type": "execute_result"
    }
   ],
   "source": [
    "import requests\n",
    "\n",
    "url_tmpl = 'http://dart.fss.or.kr/api/search.json?auth={auth}'\n",
    "url = url_tmpl.format(auth=auth)\n",
    "\n",
    "r= requests.get(url, headers=headers)\n",
    "r.text"
   ]
  },
  {
   "cell_type": "code",
   "execution_count": 26,
   "metadata": {},
   "outputs": [
    {
     "data": {
      "text/html": [
       "<div>\n",
       "<style scoped>\n",
       "    .dataframe tbody tr th:only-of-type {\n",
       "        vertical-align: middle;\n",
       "    }\n",
       "\n",
       "    .dataframe tbody tr th {\n",
       "        vertical-align: top;\n",
       "    }\n",
       "\n",
       "    .dataframe thead th {\n",
       "        text-align: right;\n",
       "    }\n",
       "</style>\n",
       "<table border=\"1\" class=\"dataframe\">\n",
       "  <thead>\n",
       "    <tr style=\"text-align: right;\">\n",
       "      <th></th>\n",
       "      <th>A</th>\n",
       "      <th>B</th>\n",
       "      <th>C</th>\n",
       "    </tr>\n",
       "  </thead>\n",
       "  <tbody>\n",
       "    <tr>\n",
       "      <th>0</th>\n",
       "      <td>1</td>\n",
       "      <td>2</td>\n",
       "      <td>3</td>\n",
       "    </tr>\n",
       "    <tr>\n",
       "      <th>1</th>\n",
       "      <td>4</td>\n",
       "      <td>5</td>\n",
       "      <td>6</td>\n",
       "    </tr>\n",
       "    <tr>\n",
       "      <th>2</th>\n",
       "      <td>7</td>\n",
       "      <td>8</td>\n",
       "      <td>9</td>\n",
       "    </tr>\n",
       "  </tbody>\n",
       "</table>\n",
       "</div>"
      ],
      "text/plain": [
       "   A  B  C\n",
       "0  1  2  3\n",
       "1  4  5  6\n",
       "2  7  8  9"
      ]
     },
     "execution_count": 26,
     "metadata": {},
     "output_type": "execute_result"
    }
   ],
   "source": [
    "from pandas.io.json import json_normalize\n",
    "import json\n",
    "\n",
    "json_str = \"\"\"\n",
    "[ \n",
    "    {\"A\": 1, \"B\": 2, \"C\": 3},\n",
    "    {\"A\": 4, \"B\": 5, \"C\": 6},\n",
    "    {\"A\": 7, \"B\": 8, \"C\": 9}\n",
    "]\n",
    "\"\"\"\n",
    "\n",
    "jo=json.loads(json_str)\n",
    "result = json_normalize(jo)\n",
    "result"
   ]
  },
  {
   "cell_type": "code",
   "execution_count": 27,
   "metadata": {},
   "outputs": [
    {
     "data": {
      "text/plain": [
       "{'acc_mt': '12',\n",
       " 'adr': '경기도 수원시 영통구  삼성로 129 (매탄동)',\n",
       " 'bsn_no': '1248100998',\n",
       " 'ceo_nm': '김기남, 김현석, 고동진',\n",
       " 'crp_cls': 'Y',\n",
       " 'crp_nm': '삼성전자(주)',\n",
       " 'crp_nm_e': 'SAMSUNG ELECTRONICS CO,.LTD',\n",
       " 'crp_nm_i': '삼성전자',\n",
       " 'crp_no': '1301110006246',\n",
       " 'err_code': '000',\n",
       " 'err_msg': '정상',\n",
       " 'est_dt': '19690113',\n",
       " 'fax_no': '031-200-7538',\n",
       " 'hm_url': 'www.sec.co.kr',\n",
       " 'ind_cd': '264',\n",
       " 'ir_url': '',\n",
       " 'phn_no': '031-200-1114',\n",
       " 'stock_cd': '005930'}"
      ]
     },
     "execution_count": 27,
     "metadata": {},
     "output_type": "execute_result"
    }
   ],
   "source": [
    "url_tmpl=\"http://dart.fss.or.kr/api/company.json?auth={auth}&crp_cd={code}\"\n",
    "url = url_tmpl.format(auth=auth, code='005930')\n",
    "# Return a formatted version of S, using substitutions from args and kwargs.\n",
    "r = requests.get(url, headers=headers)\n",
    "jo = json.loads(r.text)\n",
    "jo"
   ]
  },
  {
   "cell_type": "code",
   "execution_count": 28,
   "metadata": {},
   "outputs": [
    {
     "data": {
      "text/plain": [
       "'1248100998'"
      ]
     },
     "execution_count": 28,
     "metadata": {},
     "output_type": "execute_result"
    }
   ],
   "source": [
    "jo['bsn_no']"
   ]
  },
  {
   "cell_type": "code",
   "execution_count": 37,
   "metadata": {},
   "outputs": [
    {
     "data": {
      "text/html": [
       "<div>\n",
       "<style scoped>\n",
       "    .dataframe tbody tr th:only-of-type {\n",
       "        vertical-align: middle;\n",
       "    }\n",
       "\n",
       "    .dataframe tbody tr th {\n",
       "        vertical-align: top;\n",
       "    }\n",
       "\n",
       "    .dataframe thead th {\n",
       "        text-align: right;\n",
       "    }\n",
       "</style>\n",
       "<table border=\"1\" class=\"dataframe\">\n",
       "  <thead>\n",
       "    <tr style=\"text-align: right;\">\n",
       "      <th></th>\n",
       "      <th>crp_cd</th>\n",
       "      <th>crp_cls</th>\n",
       "      <th>crp_nm</th>\n",
       "      <th>flr_nm</th>\n",
       "      <th>rcp_dt</th>\n",
       "      <th>rcp_no</th>\n",
       "      <th>rmk</th>\n",
       "      <th>rpt_nm</th>\n",
       "    </tr>\n",
       "  </thead>\n",
       "  <tbody>\n",
       "    <tr>\n",
       "      <th>0</th>\n",
       "      <td>005930</td>\n",
       "      <td>Y</td>\n",
       "      <td>삼성전자</td>\n",
       "      <td>정영락</td>\n",
       "      <td>20180605</td>\n",
       "      <td>20180605000207</td>\n",
       "      <td></td>\n",
       "      <td>임원ㆍ주요주주특정증권등소유상황보고서</td>\n",
       "    </tr>\n",
       "    <tr>\n",
       "      <th>1</th>\n",
       "      <td>005930</td>\n",
       "      <td>Y</td>\n",
       "      <td>삼성전자</td>\n",
       "      <td>김대원</td>\n",
       "      <td>20180605</td>\n",
       "      <td>20180605000169</td>\n",
       "      <td></td>\n",
       "      <td>임원ㆍ주요주주특정증권등소유상황보고서</td>\n",
       "    </tr>\n",
       "    <tr>\n",
       "      <th>2</th>\n",
       "      <td>005930</td>\n",
       "      <td>Y</td>\n",
       "      <td>삼성전자</td>\n",
       "      <td>최주호</td>\n",
       "      <td>20180605</td>\n",
       "      <td>20180605000162</td>\n",
       "      <td></td>\n",
       "      <td>임원ㆍ주요주주특정증권등소유상황보고서</td>\n",
       "    </tr>\n",
       "    <tr>\n",
       "      <th>3</th>\n",
       "      <td>005930</td>\n",
       "      <td>Y</td>\n",
       "      <td>삼성전자</td>\n",
       "      <td>김희덕</td>\n",
       "      <td>20180605</td>\n",
       "      <td>20180605000153</td>\n",
       "      <td></td>\n",
       "      <td>임원ㆍ주요주주특정증권등소유상황보고서</td>\n",
       "    </tr>\n",
       "    <tr>\n",
       "      <th>4</th>\n",
       "      <td>005930</td>\n",
       "      <td>Y</td>\n",
       "      <td>삼성전자</td>\n",
       "      <td>남석우</td>\n",
       "      <td>20180605</td>\n",
       "      <td>20180605000044</td>\n",
       "      <td></td>\n",
       "      <td>임원ㆍ주요주주특정증권등소유상황보고서</td>\n",
       "    </tr>\n",
       "    <tr>\n",
       "      <th>5</th>\n",
       "      <td>005930</td>\n",
       "      <td>Y</td>\n",
       "      <td>삼성전자</td>\n",
       "      <td>전병환</td>\n",
       "      <td>20180605</td>\n",
       "      <td>20180605000028</td>\n",
       "      <td></td>\n",
       "      <td>임원ㆍ주요주주특정증권등소유상황보고서</td>\n",
       "    </tr>\n",
       "    <tr>\n",
       "      <th>6</th>\n",
       "      <td>005930</td>\n",
       "      <td>Y</td>\n",
       "      <td>삼성전자</td>\n",
       "      <td>김민구</td>\n",
       "      <td>20180605</td>\n",
       "      <td>20180605000002</td>\n",
       "      <td></td>\n",
       "      <td>임원ㆍ주요주주특정증권등소유상황보고서</td>\n",
       "    </tr>\n",
       "    <tr>\n",
       "      <th>7</th>\n",
       "      <td>005930</td>\n",
       "      <td>Y</td>\n",
       "      <td>삼성전자</td>\n",
       "      <td>김사필</td>\n",
       "      <td>20180604</td>\n",
       "      <td>20180604000389</td>\n",
       "      <td></td>\n",
       "      <td>임원ㆍ주요주주특정증권등소유상황보고서</td>\n",
       "    </tr>\n",
       "    <tr>\n",
       "      <th>8</th>\n",
       "      <td>005930</td>\n",
       "      <td>Y</td>\n",
       "      <td>삼성전자</td>\n",
       "      <td>삼성전자</td>\n",
       "      <td>20180604</td>\n",
       "      <td>20180604800478</td>\n",
       "      <td>유</td>\n",
       "      <td>기업지배구조관련공시(자율공시)</td>\n",
       "    </tr>\n",
       "    <tr>\n",
       "      <th>9</th>\n",
       "      <td>005930</td>\n",
       "      <td>Y</td>\n",
       "      <td>삼성전자</td>\n",
       "      <td>삼성전자</td>\n",
       "      <td>20180604</td>\n",
       "      <td>20180604800448</td>\n",
       "      <td>유</td>\n",
       "      <td>중간(분기)배당을위한주주명부폐쇄(기준일)결정</td>\n",
       "    </tr>\n",
       "  </tbody>\n",
       "</table>\n",
       "</div>"
      ],
      "text/plain": [
       "   crp_cd crp_cls crp_nm flr_nm    rcp_dt          rcp_no rmk  \\\n",
       "0  005930       Y   삼성전자    정영락  20180605  20180605000207       \n",
       "1  005930       Y   삼성전자    김대원  20180605  20180605000169       \n",
       "2  005930       Y   삼성전자    최주호  20180605  20180605000162       \n",
       "3  005930       Y   삼성전자    김희덕  20180605  20180605000153       \n",
       "4  005930       Y   삼성전자    남석우  20180605  20180605000044       \n",
       "5  005930       Y   삼성전자    전병환  20180605  20180605000028       \n",
       "6  005930       Y   삼성전자    김민구  20180605  20180605000002       \n",
       "7  005930       Y   삼성전자    김사필  20180604  20180604000389       \n",
       "8  005930       Y   삼성전자   삼성전자  20180604  20180604800478   유   \n",
       "9  005930       Y   삼성전자   삼성전자  20180604  20180604800448   유   \n",
       "\n",
       "                     rpt_nm  \n",
       "0       임원ㆍ주요주주특정증권등소유상황보고서  \n",
       "1       임원ㆍ주요주주특정증권등소유상황보고서  \n",
       "2       임원ㆍ주요주주특정증권등소유상황보고서  \n",
       "3       임원ㆍ주요주주특정증권등소유상황보고서  \n",
       "4       임원ㆍ주요주주특정증권등소유상황보고서  \n",
       "5       임원ㆍ주요주주특정증권등소유상황보고서  \n",
       "6       임원ㆍ주요주주특정증권등소유상황보고서  \n",
       "7       임원ㆍ주요주주특정증권등소유상황보고서  \n",
       "8          기업지배구조관련공시(자율공시)  \n",
       "9  중간(분기)배당을위한주주명부폐쇄(기준일)결정  "
      ]
     },
     "execution_count": 37,
     "metadata": {},
     "output_type": "execute_result"
    }
   ],
   "source": [
    "url_tmpl = 'http://dart.fss.or.kr/api/search.json?auth={auth}&crp_cd={code}&start_dt=19990101'\n",
    "url = url_tmpl.format(auth=auth,code='005930')\n",
    "r = requests.get(url, headers=headers)\n",
    "jo = json.loads(r.text)\n",
    "result = json_normalize(jo, 'list')\n",
    "result"
   ]
  },
  {
   "cell_type": "code",
   "execution_count": 38,
   "metadata": {},
   "outputs": [
    {
     "data": {
      "text/plain": [
       "{'err_code': '000',\n",
       " 'err_msg': '정상',\n",
       " 'list': [{'crp_cd': '005930',\n",
       "   'crp_cls': 'Y',\n",
       "   'crp_nm': '삼성전자',\n",
       "   'flr_nm': '정영락',\n",
       "   'rcp_dt': '20180605',\n",
       "   'rcp_no': '20180605000207',\n",
       "   'rmk': '',\n",
       "   'rpt_nm': '임원ㆍ주요주주특정증권등소유상황보고서'},\n",
       "  {'crp_cd': '005930',\n",
       "   'crp_cls': 'Y',\n",
       "   'crp_nm': '삼성전자',\n",
       "   'flr_nm': '김대원',\n",
       "   'rcp_dt': '20180605',\n",
       "   'rcp_no': '20180605000169',\n",
       "   'rmk': '',\n",
       "   'rpt_nm': '임원ㆍ주요주주특정증권등소유상황보고서'},\n",
       "  {'crp_cd': '005930',\n",
       "   'crp_cls': 'Y',\n",
       "   'crp_nm': '삼성전자',\n",
       "   'flr_nm': '최주호',\n",
       "   'rcp_dt': '20180605',\n",
       "   'rcp_no': '20180605000162',\n",
       "   'rmk': '',\n",
       "   'rpt_nm': '임원ㆍ주요주주특정증권등소유상황보고서'},\n",
       "  {'crp_cd': '005930',\n",
       "   'crp_cls': 'Y',\n",
       "   'crp_nm': '삼성전자',\n",
       "   'flr_nm': '김희덕',\n",
       "   'rcp_dt': '20180605',\n",
       "   'rcp_no': '20180605000153',\n",
       "   'rmk': '',\n",
       "   'rpt_nm': '임원ㆍ주요주주특정증권등소유상황보고서'},\n",
       "  {'crp_cd': '005930',\n",
       "   'crp_cls': 'Y',\n",
       "   'crp_nm': '삼성전자',\n",
       "   'flr_nm': '남석우',\n",
       "   'rcp_dt': '20180605',\n",
       "   'rcp_no': '20180605000044',\n",
       "   'rmk': '',\n",
       "   'rpt_nm': '임원ㆍ주요주주특정증권등소유상황보고서'},\n",
       "  {'crp_cd': '005930',\n",
       "   'crp_cls': 'Y',\n",
       "   'crp_nm': '삼성전자',\n",
       "   'flr_nm': '전병환',\n",
       "   'rcp_dt': '20180605',\n",
       "   'rcp_no': '20180605000028',\n",
       "   'rmk': '',\n",
       "   'rpt_nm': '임원ㆍ주요주주특정증권등소유상황보고서'},\n",
       "  {'crp_cd': '005930',\n",
       "   'crp_cls': 'Y',\n",
       "   'crp_nm': '삼성전자',\n",
       "   'flr_nm': '김민구',\n",
       "   'rcp_dt': '20180605',\n",
       "   'rcp_no': '20180605000002',\n",
       "   'rmk': '',\n",
       "   'rpt_nm': '임원ㆍ주요주주특정증권등소유상황보고서'},\n",
       "  {'crp_cd': '005930',\n",
       "   'crp_cls': 'Y',\n",
       "   'crp_nm': '삼성전자',\n",
       "   'flr_nm': '김사필',\n",
       "   'rcp_dt': '20180604',\n",
       "   'rcp_no': '20180604000389',\n",
       "   'rmk': '',\n",
       "   'rpt_nm': '임원ㆍ주요주주특정증권등소유상황보고서'},\n",
       "  {'crp_cd': '005930',\n",
       "   'crp_cls': 'Y',\n",
       "   'crp_nm': '삼성전자',\n",
       "   'flr_nm': '삼성전자',\n",
       "   'rcp_dt': '20180604',\n",
       "   'rcp_no': '20180604800478',\n",
       "   'rmk': '유',\n",
       "   'rpt_nm': '기업지배구조관련공시(자율공시)'},\n",
       "  {'crp_cd': '005930',\n",
       "   'crp_cls': 'Y',\n",
       "   'crp_nm': '삼성전자',\n",
       "   'flr_nm': '삼성전자',\n",
       "   'rcp_dt': '20180604',\n",
       "   'rcp_no': '20180604800448',\n",
       "   'rmk': '유',\n",
       "   'rpt_nm': '중간(분기)배당을위한주주명부폐쇄(기준일)결정'}],\n",
       " 'page_no': 1,\n",
       " 'page_set': 10,\n",
       " 'total_count': 5096,\n",
       " 'total_page': 510}"
      ]
     },
     "execution_count": 38,
     "metadata": {},
     "output_type": "execute_result"
    }
   ],
   "source": [
    "jo"
   ]
  },
  {
   "cell_type": "code",
   "execution_count": null,
   "metadata": {},
   "outputs": [],
   "source": []
  }
 ],
 "metadata": {
  "kernelspec": {
   "display_name": "Python 3",
   "language": "python",
   "name": "python3"
  },
  "language_info": {
   "codemirror_mode": {
    "name": "ipython",
    "version": 3
   },
   "file_extension": ".py",
   "mimetype": "text/x-python",
   "name": "python",
   "nbconvert_exporter": "python",
   "pygments_lexer": "ipython3",
   "version": "3.6.4"
  }
 },
 "nbformat": 4,
 "nbformat_minor": 2
}
