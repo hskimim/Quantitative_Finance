{
 "cells": [
  {
   "cell_type": "markdown",
   "metadata": {},
   "source": [
    "종목 검색기"
   ]
  },
  {
   "cell_type": "code",
   "execution_count": 1,
   "metadata": {},
   "outputs": [],
   "source": [
    "import json\n",
    "import time\n",
    "import requests\n",
    "from pandas.io.json import json_normalize"
   ]
  },
  {
   "cell_type": "markdown",
   "metadata": {},
   "source": [
    "STEP01"
   ]
  },
  {
   "cell_type": "code",
   "execution_count": 28,
   "metadata": {},
   "outputs": [
    {
     "data": {
      "text/plain": [
       "1528777964.4087434"
      ]
     },
     "execution_count": 28,
     "metadata": {},
     "output_type": "execute_result"
    }
   ],
   "source": [
    "import time\n",
    "\n",
    "t=time.time()\n",
    "t"
   ]
  },
  {
   "cell_type": "code",
   "execution_count": 29,
   "metadata": {},
   "outputs": [
    {
     "data": {
      "text/plain": [
       "b'OM+LEiF68ec3RDb2Yv7KawsX79mkKQrY4rvXWYuIAHaQpPjkZHeRLy6VG3YpfGTQqIvmC/JSA0MQul1lE5ImIkTY1ttHkKjo45h9jrtEI8sUAOjpJ4BfV2ISI+EqSMtS2VML5Vk0bs0xID/a9jxjMw=='"
      ]
     },
     "execution_count": 29,
     "metadata": {},
     "output_type": "execute_result"
    }
   ],
   "source": [
    "import time\n",
    "import requests\n",
    "\n",
    "t=time.time()*1000\n",
    "url ='http://marketdata.krx.co.kr/contents/COM/GenerateOTP.jspx?bld=COM%2Ffinder_stkisu&name=form&_='+str(t)\n",
    "r= requests.get(url)\n",
    "r.content"
   ]
  },
  {
   "cell_type": "markdown",
   "metadata": {},
   "source": [
    "STEP02"
   ]
  },
  {
   "cell_type": "code",
   "execution_count": 30,
   "metadata": {},
   "outputs": [
    {
     "data": {
      "text/plain": [
       "'{\"block1\":[{\"full_code\":\"KR7060310000\",\"short_code\":\"A060310\",\"codeName\":\"3S\",\"marketName\":\"KOSDAQ\"},{\"full_code\":\"KR7095570008\",\"short_code\":\"A095570\",\"codeName\":\"AJ네트웍스\",\"marketName\":\"KOSPI\"},{\"full_code\":\"KR7068400001\",\"short_code\":\"A068400\",\"codeName\":\"AJ렌터카\",\"marketName\":\"KOSPI\"},{\"full_code\":\"KR7006840003\",\"short_code\":\"A006840\",\"codeName\":\"AK홀딩스\",\"marketName\":\"KOSPI\"},{\"full_code\":\"KR7054620000\",\"short_code\":\"A054620\",\"codeName\":\"APS홀딩스\",\"marketName\":\"KOSDAQ\"},{\"full_code\":\"KR7265520007\",\"short_code\":\"A265520\",\"codeName\":\"AP시스템\",\"marketName\":\"KOSDAQ\"},{\"full_code\":\"KR7211270004\",\"short_code\":\"A211270\",\"codeName\":\"AP위성\",\"marketName\":\"KOSDAQ\"},{\"full_code\":\"KR7027410000\",\"short_code\":\"A027410\",\"codeName\":\"BGF\",\"marketName\":\"KOSPI\"},{\"full_code\":\"KR7282330000\",\"short_code\":\"A282330\",\"codeName\":\"BGF리테일\",\"marketName\":\"KOSPI\"},{\"full_code\":\"KR7138930003\",\"short_code\":\"A138930\",\"codeName\":\"BNK금융지주\",\"marketName\":\"KOSPI\"},{\"full_code\":\"KR7001460005\",\"short_code\":\"A001460\",\"codeName\":\"BYC'"
      ]
     },
     "execution_count": 30,
     "metadata": {},
     "output_type": "execute_result"
    }
   ],
   "source": [
    "down_url='http://marketdata.krx.co.kr/contents/MKD/99/MKD99000001.jspx'\n",
    "down_data={\n",
    "    'isuCd':'' ,\n",
    "    'no': 'P1',\n",
    "    'mktsel': 'ALL',\n",
    "    'searchText':'',\n",
    "    'pagePath':'/contents/COM/FinderStkIsu.jsp',\n",
    "    'code': r.content,\n",
    "    'pageFirstCall':'Y',\n",
    "}\n",
    "r=requests.post(down_url,down_data)\n",
    "r.text[:1000]"
   ]
  },
  {
   "cell_type": "code",
   "execution_count": 32,
   "metadata": {},
   "outputs": [
    {
     "data": {
      "text/plain": [
       "[{'codeName': '3S',\n",
       "  'full_code': 'KR7060310000',\n",
       "  'marketName': 'KOSDAQ',\n",
       "  'short_code': 'A060310'},\n",
       " {'codeName': 'AJ네트웍스',\n",
       "  'full_code': 'KR7095570008',\n",
       "  'marketName': 'KOSPI',\n",
       "  'short_code': 'A095570'},\n",
       " {'codeName': 'AJ렌터카',\n",
       "  'full_code': 'KR7068400001',\n",
       "  'marketName': 'KOSPI',\n",
       "  'short_code': 'A068400'},\n",
       " {'codeName': 'AK홀딩스',\n",
       "  'full_code': 'KR7006840003',\n",
       "  'marketName': 'KOSPI',\n",
       "  'short_code': 'A006840'},\n",
       " {'codeName': 'APS홀딩스',\n",
       "  'full_code': 'KR7054620000',\n",
       "  'marketName': 'KOSDAQ',\n",
       "  'short_code': 'A054620'}]"
      ]
     },
     "execution_count": 32,
     "metadata": {},
     "output_type": "execute_result"
    }
   ],
   "source": [
    "import json\n",
    "\n",
    "jo=json.loads(r.text)\n",
    "jo['block1'][:5]"
   ]
  },
  {
   "cell_type": "code",
   "execution_count": 34,
   "metadata": {},
   "outputs": [
    {
     "name": "stdout",
     "output_type": "stream",
     "text": [
      "3S KR7060310000 KOSDAQ A060310\n",
      "AJ네트웍스 KR7095570008 KOSPI A095570\n",
      "AJ렌터카 KR7068400001 KOSPI A068400\n",
      "AK홀딩스 KR7006840003 KOSPI A006840\n",
      "APS홀딩스 KR7054620000 KOSDAQ A054620\n"
     ]
    }
   ],
   "source": [
    "for r in jo['block1'][:5]:\n",
    "    print(r['codeName'], r['full_code'], r['marketName'], r['short_code'])"
   ]
  },
  {
   "cell_type": "code",
   "execution_count": 38,
   "metadata": {},
   "outputs": [],
   "source": [
    "import json\n",
    "import time\n",
    "import requests\n",
    "from pandas.io.json import json_normalize\n",
    "def corpsearch():\n",
    "    url_tmpl=\"http://marketdata.krx.co.kr/contents/COM/GenerateOTP.jspx?bld=COM%2Ffinder_stkisu&name=form&_={}\"\n",
    "    url = url_tmpl.format(int(time.time()*1000))\n",
    "    r=requests.get(url)\n",
    "    \n",
    "    down_url = 'http://marketdata.krx.co.kr/contents/MKD/99/MKD99000001.jspx'\n",
    "    down_data = {\n",
    "        'mktsel':'ALL',\n",
    "        'pagePath':'/contents/COM/FinderStkIsu.jsp',\n",
    "        'code': r.content,\n",
    "        'geFirstCall':'Y',\n",
    "    }\n",
    "    r=requests.post(down_url,down_data)\n",
    "    jo = json.loads(r.text)\n",
    "    return json_normalize(jo,'block1')"
   ]
  },
  {
   "cell_type": "code",
   "execution_count": 39,
   "metadata": {},
   "outputs": [
    {
     "name": "stdout",
     "output_type": "stream",
     "text": [
      "2346\n"
     ]
    },
    {
     "data": {
      "text/html": [
       "<div>\n",
       "<style scoped>\n",
       "    .dataframe tbody tr th:only-of-type {\n",
       "        vertical-align: middle;\n",
       "    }\n",
       "\n",
       "    .dataframe tbody tr th {\n",
       "        vertical-align: top;\n",
       "    }\n",
       "\n",
       "    .dataframe thead th {\n",
       "        text-align: right;\n",
       "    }\n",
       "</style>\n",
       "<table border=\"1\" class=\"dataframe\">\n",
       "  <thead>\n",
       "    <tr style=\"text-align: right;\">\n",
       "      <th></th>\n",
       "      <th>codeName</th>\n",
       "      <th>full_code</th>\n",
       "      <th>marketName</th>\n",
       "      <th>short_code</th>\n",
       "    </tr>\n",
       "  </thead>\n",
       "  <tbody>\n",
       "    <tr>\n",
       "      <th>0</th>\n",
       "      <td>3S</td>\n",
       "      <td>KR7060310000</td>\n",
       "      <td>KOSDAQ</td>\n",
       "      <td>A060310</td>\n",
       "    </tr>\n",
       "    <tr>\n",
       "      <th>1</th>\n",
       "      <td>AJ네트웍스</td>\n",
       "      <td>KR7095570008</td>\n",
       "      <td>KOSPI</td>\n",
       "      <td>A095570</td>\n",
       "    </tr>\n",
       "    <tr>\n",
       "      <th>2</th>\n",
       "      <td>AJ렌터카</td>\n",
       "      <td>KR7068400001</td>\n",
       "      <td>KOSPI</td>\n",
       "      <td>A068400</td>\n",
       "    </tr>\n",
       "    <tr>\n",
       "      <th>3</th>\n",
       "      <td>AK홀딩스</td>\n",
       "      <td>KR7006840003</td>\n",
       "      <td>KOSPI</td>\n",
       "      <td>A006840</td>\n",
       "    </tr>\n",
       "    <tr>\n",
       "      <th>4</th>\n",
       "      <td>APS홀딩스</td>\n",
       "      <td>KR7054620000</td>\n",
       "      <td>KOSDAQ</td>\n",
       "      <td>A054620</td>\n",
       "    </tr>\n",
       "  </tbody>\n",
       "</table>\n",
       "</div>"
      ],
      "text/plain": [
       "  codeName     full_code marketName short_code\n",
       "0       3S  KR7060310000     KOSDAQ    A060310\n",
       "1   AJ네트웍스  KR7095570008      KOSPI    A095570\n",
       "2    AJ렌터카  KR7068400001      KOSPI    A068400\n",
       "3    AK홀딩스  KR7006840003      KOSPI    A006840\n",
       "4   APS홀딩스  KR7054620000     KOSDAQ    A054620"
      ]
     },
     "execution_count": 39,
     "metadata": {},
     "output_type": "execute_result"
    }
   ],
   "source": [
    "stock_list = corpsearch()\n",
    "print(len(stock_list))\n",
    "stock_list[:5]"
   ]
  },
  {
   "cell_type": "code",
   "execution_count": 40,
   "metadata": {},
   "outputs": [],
   "source": [
    "stock_list.to_csv('stock_full_code.csv')"
   ]
  },
  {
   "cell_type": "code",
   "execution_count": 49,
   "metadata": {
    "scrolled": true
   },
   "outputs": [
    {
     "name": "stdout",
     "output_type": "stream",
     "text": [
      "3S KR7060310000\n",
      "AJ네트웍스 KR7095570008\n",
      "AJ렌터카 KR7068400001\n",
      "AK홀딩스 KR7006840003\n",
      "APS홀딩스 KR7054620000\n",
      "AP시스템 KR7265520007\n",
      "AP위성 KR7211270004\n",
      "BGF KR7027410000\n",
      "BGF리테일 KR7282330000\n",
      "BNK금융지주 KR7138930003\n"
     ]
    }
   ],
   "source": [
    "df = corpsearch()\n",
    "\n",
    "for ix,row in df[:10].iterrows():\n",
    "    print(row['codeName'],row['full_code'])\n",
    "# iterrows: Iterate over DataFrame rows as (index, Series) pairs."
   ]
  }
 ],
 "metadata": {
  "kernelspec": {
   "display_name": "Python 3",
   "language": "python",
   "name": "python3"
  },
  "language_info": {
   "codemirror_mode": {
    "name": "ipython",
    "version": 3
   },
   "file_extension": ".py",
   "mimetype": "text/x-python",
   "name": "python",
   "nbconvert_exporter": "python",
   "pygments_lexer": "ipython3",
   "version": "3.6.4"
  }
 },
 "nbformat": 4,
 "nbformat_minor": 2
}
