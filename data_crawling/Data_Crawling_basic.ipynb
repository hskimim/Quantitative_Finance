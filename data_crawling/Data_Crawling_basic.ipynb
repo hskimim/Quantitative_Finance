{
 "cells": [
  {
   "cell_type": "code",
   "execution_count": 1,
   "metadata": {},
   "outputs": [],
   "source": [
    "from bs4 import BeautifulSoup\n",
    "import requests"
   ]
  },
  {
   "cell_type": "code",
   "execution_count": 2,
   "metadata": {},
   "outputs": [
    {
     "data": {
      "text/plain": [
       "<Response [200]>"
      ]
     },
     "execution_count": 2,
     "metadata": {},
     "output_type": "execute_result"
    }
   ],
   "source": [
    "r=requests.get('https://www.google.co.kr/search?q=KB금융')\n",
    "r\n",
    "# requests module을 통해 get url을 request합니다."
   ]
  },
  {
   "cell_type": "markdown",
   "metadata": {},
   "source": [
    "#### request에서 content와 text의 차이?\n",
    "- Docsting에서 content는 bytes를 return, text는 unicode를 return한다고 나옵니다.\n",
    "- 무슨 말이지... 쉽게 알아보자!\n",
    "    - r.text는 textual responses를 선호합니다. 예로 들어 HTML과 XML이 있겠습니다.\n",
    "    - r.content는 binary filetypes을 선호합니다. 예로 들어 PDF나 PDF 가 있겠습니다."
   ]
  },
  {
   "cell_type": "code",
   "execution_count": 15,
   "metadata": {},
   "outputs": [
    {
     "data": {
      "text/plain": [
       "b'<!doctype html><html itemscope=\"\" itemtype=\"http://schema.org/SearchResultsPage\" lang=\"ko\"><head><me'"
      ]
     },
     "execution_count": 15,
     "metadata": {},
     "output_type": "execute_result"
    }
   ],
   "source": [
    "r.text[:100]\n",
    "# Content of the response, in unicode.\n",
    "r.content[:100]\n",
    "# Docstring:   Content of the response, in bytes."
   ]
  },
  {
   "cell_type": "code",
   "execution_count": 6,
   "metadata": {},
   "outputs": [
    {
     "data": {
      "text/plain": [
       "200"
      ]
     },
     "execution_count": 6,
     "metadata": {},
     "output_type": "execute_result"
    }
   ],
   "source": [
    "r.status_code\n",
    "# request 의 status_code 200은 success를 의미합니다."
   ]
  },
  {
   "cell_type": "code",
   "execution_count": 7,
   "metadata": {},
   "outputs": [
    {
     "data": {
      "text/plain": [
       "'text/html; charset=EUC-KR'"
      ]
     },
     "execution_count": 7,
     "metadata": {},
     "output_type": "execute_result"
    }
   ],
   "source": [
    "r.headers['content-type']"
   ]
  },
  {
   "cell_type": "code",
   "execution_count": 8,
   "metadata": {},
   "outputs": [
    {
     "data": {
      "text/plain": [
       "'EUC-KR'"
      ]
     },
     "execution_count": 8,
     "metadata": {},
     "output_type": "execute_result"
    }
   ],
   "source": [
    "r.encoding"
   ]
  },
  {
   "cell_type": "code",
   "execution_count": 9,
   "metadata": {},
   "outputs": [
    {
     "data": {
      "text/plain": [
       "<Response [200]>"
      ]
     },
     "execution_count": 9,
     "metadata": {},
     "output_type": "execute_result"
    }
   ],
   "source": [
    "r=requests.get(\"https://www.google.co.kr/search?q=삼성전자\")\n",
    "r"
   ]
  },
  {
   "cell_type": "code",
   "execution_count": 11,
   "metadata": {
    "scrolled": true
   },
   "outputs": [
    {
     "data": {
      "text/plain": [
       "<div class=\"sd\" id=\"resultStats\">검색결과 약 138,000,000개</div>"
      ]
     },
     "execution_count": 11,
     "metadata": {},
     "output_type": "execute_result"
    }
   ],
   "source": [
    "soup=BeautifulSoup(r.text,'lxml')\n",
    "res_stat=soup.find(id='resultStats')\n",
    "res_stat"
   ]
  },
  {
   "cell_type": "code",
   "execution_count": 12,
   "metadata": {},
   "outputs": [
    {
     "data": {
      "text/plain": [
       "'검색결과 약 138,000,000개'"
      ]
     },
     "execution_count": 12,
     "metadata": {},
     "output_type": "execute_result"
    }
   ],
   "source": [
    "res_stat.text\n",
    "# Get all child strings, concatenated using the given separator."
   ]
  },
  {
   "cell_type": "code",
   "execution_count": 14,
   "metadata": {},
   "outputs": [
    {
     "data": {
      "text/plain": [
       "'검색결과 약 138,000,000개'"
      ]
     },
     "execution_count": 14,
     "metadata": {},
     "output_type": "execute_result"
    }
   ],
   "source": [
    "res_stat.text"
   ]
  },
  {
   "cell_type": "code",
   "execution_count": 39,
   "metadata": {},
   "outputs": [
    {
     "data": {
      "text/plain": [
       "<td class=\"cmp-table-cell td0101\">\n",
       "<dl>\n",
       "<dt>\n",
       "<span class=\"name\">삼성전자</span>\n",
       "<a class=\"cEm\" href=\"http://www.samsung.com\" target=\"comPage\" title=\"[홈페이지] www.samsung.com\"><img align=\"absmiddle\" hspace=\"3\" src=\"/images/icon_home.gif\"/></a>\n",
       "<a class=\"cEm\" title=\"[대표전화] 031-200-1114       \n",
       "[주식담당] 02-2255-8126\"><img align=\"absmiddle\" hspace=\"1\" src=\"/images/icon_tel.gif\"/></a>\n",
       "<b class=\"num\">005930</b>\n",
       "</dt>\n",
       "<dt class=\"line-left\">Samsung Electronics</dt>\n",
       "<dt class=\"line-left\">KOSPI : 전기전자</dt>\n",
       "<dt class=\"line-left\">WICS : 반도체와반도체장비</dt>\n",
       "</dl>\n",
       "</td>"
      ]
     },
     "execution_count": 39,
     "metadata": {},
     "output_type": "execute_result"
    }
   ],
   "source": [
    "code = '005930'\n",
    "url = 'http://companyinfo.stock.naver.com/v1/company/c1010001.aspx?cmp_cd=' + code\n",
    "\n",
    "r = requests.get(url)\n",
    "soup = BeautifulSoup(r.text,\"lxml\")\n",
    "td = soup.find('td', {'class':'cmp-table-cell td0101'})\n",
    "td\n",
    "# Return only the first child of this Tag matching the given criteria.\n",
    "# Signature: soup.find(name=None, attrs={}, recursive=True, text=None, **kwargs)"
   ]
  },
  {
   "cell_type": "code",
   "execution_count": 43,
   "metadata": {},
   "outputs": [
    {
     "data": {
      "text/plain": [
       "'삼성전자'"
      ]
     },
     "execution_count": 43,
     "metadata": {},
     "output_type": "execute_result"
    }
   ],
   "source": [
    "td.find('span',{'class':'name'}).text\n",
    "# td HTML code에서 해당 tag와 class property를 찾아서 text만 return"
   ]
  },
  {
   "cell_type": "code",
   "execution_count": 44,
   "metadata": {},
   "outputs": [
    {
     "data": {
      "text/plain": [
       "[<a class=\"cEm\" href=\"http://www.samsung.com\" target=\"comPage\" title=\"[홈페이지] www.samsung.com\"><img align=\"absmiddle\" hspace=\"3\" src=\"/images/icon_home.gif\"/></a>,\n",
       " <a class=\"cEm\" title=\"[대표전화] 031-200-1114       \n",
       " [주식담당] 02-2255-8126\"><img align=\"absmiddle\" hspace=\"1\" src=\"/images/icon_tel.gif\"/></a>]"
      ]
     },
     "execution_count": 44,
     "metadata": {},
     "output_type": "execute_result"
    }
   ],
   "source": [
    "anchors=td.find_all('a',{'class':'cEm'})\n",
    "anchors"
   ]
  },
  {
   "cell_type": "code",
   "execution_count": 49,
   "metadata": {},
   "outputs": [
    {
     "name": "stdout",
     "output_type": "stream",
     "text": [
      "<a class=\"cEm\" href=\"http://www.samsung.com\" target=\"comPage\" title=\"[홈페이지] www.samsung.com\"><img align=\"absmiddle\" hspace=\"3\" src=\"/images/icon_home.gif\"/></a>\n",
      "\n",
      "\n",
      "<a class=\"cEm\" title=\"[대표전화] 031-200-1114       \r",
      "[주식담당] 02-2255-8126\"><img align=\"absmiddle\" hspace=\"1\" src=\"/images/icon_tel.gif\"/></a>\n",
      "\n",
      "\n",
      "http://www.samsung.com\n",
      "\n",
      "\n",
      "[대표전화] 031-200-1114       \r",
      "[주식담당] 02-2255-8126\n"
     ]
    }
   ],
   "source": [
    "#find_all 함수를 썼기 때문에, 해당 tag와 class를 사용하는 code들이 multiple합니다. 따라서 이를 array indexing을 통해 extracting해줍니다.\n",
    "#element를 뽑았다면 element내에서 나뉘어지는 component를 한 번 더 filtering 하는 작업으로 indexing을 한 번 더 해줍니다.\n",
    "print(anchors[0],end='\\n\\n\\n')\n",
    "print(anchors[1],end='\\n\\n\\n')\n",
    "print(anchors[0]['href'],end='\\n\\n\\n')\n",
    "print(anchors[1]['title'])"
   ]
  },
  {
   "cell_type": "code",
   "execution_count": 48,
   "metadata": {},
   "outputs": [
    {
     "data": {
      "text/plain": [
       "[<dt class=\"line-left\">Samsung Electronics</dt>,\n",
       " <dt class=\"line-left\">KOSPI : 전기전자</dt>,\n",
       " <dt class=\"line-left\">WICS : 반도체와반도체장비</dt>]"
      ]
     },
     "execution_count": 48,
     "metadata": {},
     "output_type": "execute_result"
    }
   ],
   "source": [
    "dts = td.find_all('dt', {'class':'line-left'})\n",
    "dts"
   ]
  },
  {
   "cell_type": "code",
   "execution_count": 42,
   "metadata": {},
   "outputs": [
    {
     "name": "stdout",
     "output_type": "stream",
     "text": [
      "<dt class=\"line-left\">Samsung Electronics</dt>\n",
      "<dt class=\"line-left\">KOSPI : 전기전자</dt>\n",
      "<dt class=\"line-left\">WICS : 반도체와반도체장비</dt>\n",
      "Samsung Electronics\n",
      "KOSPI : 전기전자\n",
      "WICS : 반도체와반도체장비\n"
     ]
    }
   ],
   "source": [
    "print(dts[0])\n",
    "print(dts[1])\n",
    "print(dts[2])\n",
    "print(dts[0].text)\n",
    "print(dts[1].text)\n",
    "print(dts[2].text)"
   ]
  },
  {
   "cell_type": "code",
   "execution_count": 116,
   "metadata": {},
   "outputs": [],
   "source": [
    "r=requests.get('http://naver.com').content"
   ]
  },
  {
   "cell_type": "code",
   "execution_count": 130,
   "metadata": {},
   "outputs": [
    {
     "data": {
      "text/plain": [
       "['한영', '류승현', '용산 붕괴', '용산', '정대현']"
      ]
     },
     "execution_count": 130,
     "metadata": {},
     "output_type": "execute_result"
    }
   ],
   "source": [
    "rank=soup.find_all('span',{'class':'ah_k'},r)\n",
    "for i in range(len(rank)):\n",
    "    rank[i]=rank[i].text\n",
    "rank[:5]# 다수의 코드를 text로 바꾸어줄 때는 .text method가 적용이 되지 않습니다.\n",
    "# 그렇다고 이렇게 for 반복문을 쓰기에는 다량의 데이터가 있을때는 비효율적입니다.\n",
    "# 따라서 이때는 reguluar expression을 사용합니다.\n",
    "# 또한 regex를 사용할 때는 binary code를 주어야 하기 때문에 content가 아닌 text method를 주어야 합니다!"
   ]
  },
  {
   "cell_type": "code",
   "execution_count": 118,
   "metadata": {},
   "outputs": [],
   "source": [
    "r=requests.get('http://naver.com').text\n",
    "# for using regex, use text method!!!\n",
    "# if you use content method, and use regex and error expression's gonna be\n",
    "# cannot use a string pattern on a bytes-like object"
   ]
  },
  {
   "cell_type": "code",
   "execution_count": 128,
   "metadata": {},
   "outputs": [
    {
     "data": {
      "text/plain": [
       "['이금희', '삽시도', '복면가왕 동방불패', '손승연', '류승현']"
      ]
     },
     "execution_count": 128,
     "metadata": {},
     "output_type": "execute_result"
    }
   ],
   "source": [
    "import re\n",
    "re.findall('<span class=\"ah_k\">(.+)</span>',r)[:5]"
   ]
  },
  {
   "cell_type": "markdown",
   "metadata": {},
   "source": [
    "#### JSON 데이터 - 네이버 실시간 검색어 순위\n",
    "- JSON이란? -- javascript object notation\n",
    "    - 경량의 data exchange form으로 사람뿐만 아니라 기계가 분석하고 생성함에도 용이하게 하는 데이터 교환 형식을 의미합니다. 확장자는 `.json`입니다. javascript언어의 일부에 토대를 두고 있지만, 언어로부터 독립적이기 때문에 다수의 프로그래머들에게 친숙한 관습을 사용하는 텍스트 형식입니다. 이 덕분에, JSON을 이상적인 DATA-exchange language로 만들고있습니다!!"
   ]
  },
  {
   "cell_type": "code",
   "execution_count": 239,
   "metadata": {},
   "outputs": [],
   "source": [
    "import json,requests\n",
    "from pandas.io.json import json_normalize"
   ]
  },
  {
   "cell_type": "code",
   "execution_count": 240,
   "metadata": {},
   "outputs": [
    {
     "data": {
      "text/html": [
       "<div>\n",
       "<style scoped>\n",
       "    .dataframe tbody tr th:only-of-type {\n",
       "        vertical-align: middle;\n",
       "    }\n",
       "\n",
       "    .dataframe tbody tr th {\n",
       "        vertical-align: top;\n",
       "    }\n",
       "\n",
       "    .dataframe thead th {\n",
       "        text-align: right;\n",
       "    }\n",
       "</style>\n",
       "<table border=\"1\" class=\"dataframe\">\n",
       "  <thead>\n",
       "    <tr style=\"text-align: right;\">\n",
       "      <th></th>\n",
       "      <th>change</th>\n",
       "      <th>cvalue</th>\n",
       "      <th>delta</th>\n",
       "      <th>keyword</th>\n",
       "      <th>rank</th>\n",
       "      <th>ratio</th>\n",
       "      <th>score</th>\n",
       "      <th>tvalue</th>\n",
       "    </tr>\n",
       "  </thead>\n",
       "  <tbody>\n",
       "    <tr>\n",
       "      <th>0</th>\n",
       "      <td>+</td>\n",
       "      <td>518</td>\n",
       "      <td>0</td>\n",
       "      <td>브라질 크로아티아</td>\n",
       "      <td>1</td>\n",
       "      <td>.</td>\n",
       "      <td>993</td>\n",
       "      <td>37.43660</td>\n",
       "    </tr>\n",
       "    <tr>\n",
       "      <th>1</th>\n",
       "      <td>+</td>\n",
       "      <td>311</td>\n",
       "      <td>0</td>\n",
       "      <td>장승업</td>\n",
       "      <td>2</td>\n",
       "      <td>.</td>\n",
       "      <td>993</td>\n",
       "      <td>42.73423</td>\n",
       "    </tr>\n",
       "    <tr>\n",
       "      <th>2</th>\n",
       "      <td>+</td>\n",
       "      <td>482</td>\n",
       "      <td>0</td>\n",
       "      <td>아이유</td>\n",
       "      <td>3</td>\n",
       "      <td>.</td>\n",
       "      <td>72</td>\n",
       "      <td>17.22218</td>\n",
       "    </tr>\n",
       "    <tr>\n",
       "      <th>3</th>\n",
       "      <td>+</td>\n",
       "      <td>894</td>\n",
       "      <td>0</td>\n",
       "      <td>유희열의 스케치북</td>\n",
       "      <td>4</td>\n",
       "      <td>.</td>\n",
       "      <td>129</td>\n",
       "      <td>18.08187</td>\n",
       "    </tr>\n",
       "    <tr>\n",
       "      <th>4</th>\n",
       "      <td>new</td>\n",
       "      <td>173</td>\n",
       "      <td>0</td>\n",
       "      <td>브라질 크로아티아 중계</td>\n",
       "      <td>5</td>\n",
       "      <td>.</td>\n",
       "      <td>0</td>\n",
       "      <td>14.37223</td>\n",
       "    </tr>\n",
       "  </tbody>\n",
       "</table>\n",
       "</div>"
      ],
      "text/plain": [
       "  change  cvalue  delta       keyword  rank ratio  score    tvalue\n",
       "0      +     518      0     브라질 크로아티아     1     .    993  37.43660\n",
       "1      +     311      0           장승업     2     .    993  42.73423\n",
       "2      +     482      0           아이유     3     .     72  17.22218\n",
       "3      +     894      0     유희열의 스케치북     4     .    129  18.08187\n",
       "4    new     173      0  브라질 크로아티아 중계     5     .      0  14.37223"
      ]
     },
     "execution_count": 240,
     "metadata": {},
     "output_type": "execute_result"
    }
   ],
   "source": [
    "r = requests.get('http://rank.search.naver.com/rank.js')\n",
    "json_normalize(json.loads(r.text),['data','data']).head()\n",
    "# \"Normalize\" semi-structured JSON data into a flat table\n",
    "# 해당 경우에는 content와 text가 같은 값을 return해줍니다."
   ]
  },
  {
   "cell_type": "code",
   "execution_count": 111,
   "metadata": {},
   "outputs": [
    {
     "data": {
      "text/plain": [
       "'2018-06-03T18:43:30+0900'"
      ]
     },
     "execution_count": 111,
     "metadata": {},
     "output_type": "execute_result"
    }
   ],
   "source": [
    "# time stamp\n",
    "\n",
    "r = requests.get('http://rank.search.naver.com/rank.js')\n",
    "json.loads(r.text)['ts']"
   ]
  },
  {
   "cell_type": "markdown",
   "metadata": {},
   "source": [
    "### 한글 인코딩 - 전화번호부 사이트"
   ]
  },
  {
   "cell_type": "code",
   "execution_count": 134,
   "metadata": {},
   "outputs": [],
   "source": [
    "r = requests.get('http://www.isuperpage.co.kr/search.asp')"
   ]
  },
  {
   "cell_type": "code",
   "execution_count": 145,
   "metadata": {},
   "outputs": [],
   "source": [
    "soup=BeautifulSoup(r.text,'lxml')"
   ]
  },
  {
   "cell_type": "code",
   "execution_count": 148,
   "metadata": {},
   "outputs": [
    {
     "data": {
      "text/plain": [
       "[<div class=\"tit_list\" style=\" padding-left:115px;\"><strong><a class=\"l_tit\" href=\"/kwclick.asp?id=yptest&amp;url=/search_pdetail.asp?id=2646136\">(주)에브리존</a></strong><span class=\"largecate\"></span><span class=\"l_ser\">서점</span></div>,\n",
       " <div class=\"tit_list\" style=\" padding-left:115px;\"><strong><a class=\"l_tit\" href=\"/kwclick.asp?id=magic&amp;url=/search_pdetail.asp?id=18263\">보륜부페</a></strong><span class=\"largecate\"></span><span class=\"l_ser\">음식점-부페(BUFFET)</span></div>]"
      ]
     },
     "execution_count": 148,
     "metadata": {},
     "output_type": "execute_result"
    }
   ],
   "source": [
    "rt=soup.find_all('div',{'class':\"tit_list\"},r)\n",
    "rt[:2]"
   ]
  },
  {
   "cell_type": "code",
   "execution_count": 152,
   "metadata": {},
   "outputs": [
    {
     "data": {
      "text/plain": [
       "[<a class=\"l_tit\" href=\"/kwclick.asp?id=yptest&amp;url=/search_pdetail.asp?id=2646136\">(주)에브리존</a>,\n",
       " <a class=\"l_tit\" href=\"/kwclick.asp?id=magic&amp;url=/search_pdetail.asp?id=18263\">보륜부페</a>,\n",
       " <a class=\"l_tit\" href=\"/kwclick.asp?id=magic&amp;url=/search_pdetail.asp?id=2645131\">한진익스프레스</a>,\n",
       " <a class=\"l_tit\" href=\"search_pdetail.asp?id=21423\">제주삼다수/백두산삼다수</a>,\n",
       " <a class=\"l_tit\" href=\"search_pdetail.asp?id=67530\">만수정 본점</a>,\n",
       " <a class=\"l_tit\" href=\"search_pdetail.asp?id=82059\">폐차장조기폐차</a>,\n",
       " <a class=\"l_tit\" href=\"search_pdetail.asp?id=82312\">폐차장조기폐차</a>,\n",
       " <a class=\"l_tit\" href=\"search_detail.asp?id=1\">스타저축은행</a>,\n",
       " <a class=\"l_tit\" href=\"search_detail.asp?id=2\">전단지배포단디단디기획</a>,\n",
       " <a class=\"l_tit\" href=\"search_detail.asp?id=3\">전단지배포단디단디기획</a>,\n",
       " <a class=\"l_tit\" href=\"search_detail.asp?id=4\">스타상호저축은행</a>,\n",
       " <a class=\"l_tit\" href=\"search_detail.asp?id=5\">청목원</a>,\n",
       " <a class=\"l_tit\" href=\"search_detail.asp?id=6\">돌비하우스호텔</a>,\n",
       " <a class=\"l_tit\" href=\"search_detail.asp?id=7\">전단지배포단디단디기획</a>,\n",
       " <a class=\"l_tit\" href=\"search_detail.asp?id=9\">전단지배포단디단디기획</a>,\n",
       " <a class=\"l_tit\" href=\"search_detail.asp?id=10\">전단지배포단디단디기획</a>,\n",
       " <a class=\"l_tit\" href=\"search_detail.asp?id=11\">쿠쿠 목포 서비스센터</a>]"
      ]
     },
     "execution_count": 152,
     "metadata": {},
     "output_type": "execute_result"
    }
   ],
   "source": [
    "rtt=soup.find_all('a',{'class':'l_tit'},rt)\n",
    "rtt"
   ]
  },
  {
   "cell_type": "code",
   "execution_count": 154,
   "metadata": {},
   "outputs": [
    {
     "name": "stdout",
     "output_type": "stream",
     "text": [
      "(주)에브리존\n",
      "보륜부페\n",
      "한진익스프레스\n",
      "제주삼다수/백두산삼다수\n",
      "만수정 본점\n",
      "폐차장조기폐차\n",
      "폐차장조기폐차\n",
      "스타저축은행\n",
      "전단지배포단디단디기획\n",
      "전단지배포단디단디기획\n",
      "스타상호저축은행\n",
      "청목원\n",
      "돌비하우스호텔\n",
      "전단지배포단디단디기획\n",
      "전단지배포단디단디기획\n",
      "전단지배포단디단디기획\n",
      "쿠쿠 목포 서비스센터\n"
     ]
    }
   ],
   "source": [
    "for i in range(len(rtt)):\n",
    "    rtt[i]=rtt[i].text\n",
    "    print(rtt[i])"
   ]
  },
  {
   "cell_type": "markdown",
   "metadata": {},
   "source": [
    "### 추가: Encoding Problem solve!!\n",
    "- 데이터를 수집했는데 글이 깨져서 외계어처럼 나올 때가 있는데, 이는 웹사이트마다 설정되는 인코딩의 문제입니다.\n",
    "- b'\\xc4\\xda\\xbd\\xba\\xc7\\xc7\\xc1\\xf6\\xbc\\xf6'이렇게 나왔다면 앞의 b가 binary sequence를 의미하고 뒤에 연속적으로 나오는 x00의 form은 1바이트의 16진수 값을 표시합니다.한국 웹사이트 대부분이 인코딩 시, euc-kr을 사용하고 있는데, 스크래핑을 해서 깨진다면 decode encode를 통해 인코딩 버젼을 변환시킬 수 있습니다."
   ]
  },
  {
   "cell_type": "markdown",
   "metadata": {},
   "source": [
    "`encode` -- 어떠한 타입으로 인코딩하겠다.\n",
    "`decode` -- 어떠한 타입으로 인코딩된 코드를 byte로 디코딩하겠다."
   ]
  },
  {
   "cell_type": "code",
   "execution_count": 155,
   "metadata": {},
   "outputs": [
    {
     "data": {
      "text/plain": [
       "(bytes, b'\\xc4\\xda\\xbd\\xba\\xc7\\xc7\\xc1\\xf6\\xbc\\xf6')"
      ]
     },
     "execution_count": 155,
     "metadata": {},
     "output_type": "execute_result"
    }
   ],
   "source": [
    "s = b'\\xc4\\xda\\xbd\\xba\\xc7\\xc7\\xc1\\xf6\\xbc\\xf6'\n",
    "type(s),s"
   ]
  },
  {
   "cell_type": "code",
   "execution_count": 157,
   "metadata": {},
   "outputs": [
    {
     "data": {
      "text/plain": [
       "(str, '코스피지수')"
      ]
     },
     "execution_count": 157,
     "metadata": {},
     "output_type": "execute_result"
    }
   ],
   "source": [
    "u=s.decode('euc-kr')\n",
    "type(u),u"
   ]
  },
  {
   "cell_type": "code",
   "execution_count": 158,
   "metadata": {},
   "outputs": [
    {
     "name": "stdout",
     "output_type": "stream",
     "text": [
      "K200인덱스\n",
      "일반주식\n",
      "배당주식\n",
      "중소형주식\n"
     ]
    }
   ],
   "source": [
    "arr = [\n",
    "    b'K200\\xc0\\xce\\xb5\\xa6\\xbd\\xba',\n",
    "    b'\\xc0\\xcf\\xb9\\xdd\\xc1\\xd6\\xbd\\xc4',\n",
    "    b'\\xb9\\xe8\\xb4\\xe7\\xc1\\xd6\\xbd\\xc4',\n",
    "    b'\\xc1\\xdf\\xbc\\xd2\\xc7\\xfc\\xc1\\xd6\\xbd\\xc4',\n",
    "]\n",
    "\n",
    "for i in arr:\n",
    "    print(i.decode('euc-kr'))"
   ]
  },
  {
   "cell_type": "code",
   "execution_count": 162,
   "metadata": {},
   "outputs": [],
   "source": [
    "s = \"한글ABC\"\n",
    "u = u\"한글ABC\""
   ]
  },
  {
   "cell_type": "code",
   "execution_count": 163,
   "metadata": {},
   "outputs": [
    {
     "data": {
      "text/plain": [
       "(str, 5)"
      ]
     },
     "execution_count": 163,
     "metadata": {},
     "output_type": "execute_result"
    }
   ],
   "source": [
    "type(s), len(s)"
   ]
  },
  {
   "cell_type": "code",
   "execution_count": 161,
   "metadata": {},
   "outputs": [
    {
     "data": {
      "text/plain": [
       "(str, 5)"
      ]
     },
     "execution_count": 161,
     "metadata": {},
     "output_type": "execute_result"
    }
   ],
   "source": [
    "type(u), len(u)"
   ]
  },
  {
   "cell_type": "code",
   "execution_count": 164,
   "metadata": {},
   "outputs": [
    {
     "data": {
      "text/plain": [
       "True"
      ]
     },
     "execution_count": 164,
     "metadata": {},
     "output_type": "execute_result"
    }
   ],
   "source": [
    "s==u"
   ]
  },
  {
   "cell_type": "markdown",
   "metadata": {},
   "source": [
    "동일한 문자열도 어떤 값으로 인코딩을 하느냐에 따라서 다른 값을 가집니다"
   ]
  },
  {
   "cell_type": "code",
   "execution_count": 174,
   "metadata": {},
   "outputs": [
    {
     "data": {
      "text/plain": [
       "b'\\xb5\\xa5\\xc0\\xcc\\xc5\\xcd\\xbb\\xe7\\xc0\\xcc\\xbe\\xf0\\xbd\\xba'"
      ]
     },
     "execution_count": 174,
     "metadata": {},
     "output_type": "execute_result"
    }
   ],
   "source": [
    "'데이터사이언스'.encode('euc-kr')"
   ]
  },
  {
   "cell_type": "code",
   "execution_count": 175,
   "metadata": {},
   "outputs": [
    {
     "data": {
      "text/plain": [
       "b'\\xb5\\xa5\\xc0\\xcc\\xc5\\xcd\\xbb\\xe7\\xc0\\xcc\\xbe\\xf0\\xbd\\xba'"
      ]
     },
     "execution_count": 175,
     "metadata": {},
     "output_type": "execute_result"
    }
   ],
   "source": [
    "'데이터사이언스'.encode('cp949')"
   ]
  },
  {
   "cell_type": "code",
   "execution_count": 176,
   "metadata": {},
   "outputs": [
    {
     "data": {
      "text/plain": [
       "b'\\xeb\\x8d\\xb0\\xec\\x9d\\xb4\\xed\\x84\\xb0\\xec\\x82\\xac\\xec\\x9d\\xb4\\xec\\x96\\xb8\\xec\\x8a\\xa4'"
      ]
     },
     "execution_count": 176,
     "metadata": {},
     "output_type": "execute_result"
    }
   ],
   "source": [
    "'데이터사이언스'.encode('utf-8')"
   ]
  },
  {
   "cell_type": "code",
   "execution_count": 177,
   "metadata": {},
   "outputs": [
    {
     "data": {
      "text/plain": [
       "b'\\xff\\xfep\\xb3t\\xc70\\xd1\\xac\\xc0t\\xc7\\xb8\\xc5\\xa4\\xc2'"
      ]
     },
     "execution_count": 177,
     "metadata": {},
     "output_type": "execute_result"
    }
   ],
   "source": [
    "'데이터사이언스'.encode('utf-16')"
   ]
  },
  {
   "cell_type": "markdown",
   "metadata": {},
   "source": [
    "-EUC-KR\n",
    "    - 한글 완성형 인코딩으로 국내 사이트의 상당수가 EUC-KR 인코딩을 사용하고 있다.\n",
    "- CP949\n",
    "    - EUC-KR와 동일한 한글 완성형 인코딩이지만, EUC-KR 보다 확장된 문자 집합을 가지고 있다. 마이크로소프트가 제정하였으며, 주로 윈도우에서 사용한다.\n",
    "- UTF-8과 UTF-16은 둘 다 유니코드 인코딩이다. \n",
    "    - 각각 UTF-8는 8비트 단위로 인코딩하며 한글 1자는 3바이트, 영문자 1자는 1바이트로 표현한다. 자리수는 많이 차지하지만 영문자와 섞어 쓸 때 혹은 특수 문자 사용이 제한적인 인터넷 환경(예: URL)에서 가장 문제가 적다.\n",
    "- 가급적이면 UTF-8을 쓰자~!!"
   ]
  },
  {
   "cell_type": "markdown",
   "metadata": {},
   "source": [
    "### 인코딩 알아내기!!"
   ]
  },
  {
   "cell_type": "code",
   "execution_count": 183,
   "metadata": {},
   "outputs": [
    {
     "name": "stdout",
     "output_type": "stream",
     "text": [
      "b'\\xb5\\xa5\\xc0\\xcc\\xc5\\xcd\\xbb\\xe7\\xc0\\xcc\\xbe\\xf0\\xbd\\xba\\xbd\\xba\\xc4\\xf0'\n",
      "{'encoding': 'EUC-KR', 'confidence': 0.99, 'language': 'Korean'}\n"
     ]
    }
   ],
   "source": [
    "import chardet\n",
    "\n",
    "dss_encode1 = '데이터사이언스스쿨'.encode('euc-kr')\n",
    "print( dss_encode1 )\n",
    "\n",
    "print (chardet.detect (dss_encode1))"
   ]
  },
  {
   "cell_type": "markdown",
   "metadata": {},
   "source": [
    "#### Login with Session\n",
    "- 서버 측에서 클라이언트를 식별하는 '세션'\n",
    "- 세션은 브라우저가 서버에 request를 보내고 서버 내에 세션 정보를 파일이나 DB에 저장, client의 브라우저에 sessionID라는 문자열을 줍니다. 이 문자열은 쿠기로 남아 서버의 session과 connection이 되어서 login process 를 발생시킵니다."
   ]
  },
  {
   "cell_type": "code",
   "execution_count": 192,
   "metadata": {},
   "outputs": [],
   "source": [
    "import requests\n",
    "s=requests.Session()\n",
    "req=s.get('https://www.naver.com/')\n",
    "html=req.text\n",
    "header=req.headers\n",
    "status=req.status_code\n",
    "is_ok=req.ok"
   ]
  },
  {
   "cell_type": "code",
   "execution_count": 193,
   "metadata": {},
   "outputs": [
    {
     "data": {
      "text/plain": [
       "<Response [200]>"
      ]
     },
     "execution_count": 193,
     "metadata": {},
     "output_type": "execute_result"
    }
   ],
   "source": [
    "req"
   ]
  },
  {
   "cell_type": "code",
   "execution_count": 194,
   "metadata": {},
   "outputs": [
    {
     "data": {
      "text/plain": [
       "'<!doctype html>\\n\\n\\n\\n\\n\\n\\n\\n\\n\\n\\n\\n\\n\\n\\n\\n\\n\\n\\n\\n\\n\\n\\n<html lang=\"ko\" class=\"svgless\">\\n<head>\\n<meta charset=\"utf-8\">'"
      ]
     },
     "execution_count": 194,
     "metadata": {},
     "output_type": "execute_result"
    }
   ],
   "source": [
    "html[:100]"
   ]
  },
  {
   "cell_type": "code",
   "execution_count": 195,
   "metadata": {},
   "outputs": [
    {
     "data": {
      "text/plain": [
       "{'Server': 'NWS', 'Date': 'Sun, 03 Jun 2018 13:14:27 GMT', 'Content-Type': 'text/html; charset=UTF-8', 'Transfer-Encoding': 'chunked', 'Connection': 'keep-alive', 'Set-Cookie': 'PM_CK_rcode=02610259; expires=Sun, 03 Jun 2018 14:14:27 GMT; path=/;', 'Cache-Control': 'no-cache, no-store, must-revalidate', 'Pragma': 'no-cache', 'P3P': 'CP=\"CAO DSP CURa ADMa TAIa PSAa OUR LAW STP PHY ONL UNI PUR FIN COM NAV INT DEM STA PRE\"', 'X-Frame-Options': 'SAMEORIGIN', 'Content-Encoding': 'gzip', 'Strict-Transport-Security': 'max-age=31536000; preload', 'Referrer-Policy': 'unsafe-url'}"
      ]
     },
     "execution_count": 195,
     "metadata": {},
     "output_type": "execute_result"
    }
   ],
   "source": [
    "header"
   ]
  },
  {
   "cell_type": "code",
   "execution_count": 196,
   "metadata": {},
   "outputs": [
    {
     "data": {
      "text/plain": [
       "True"
      ]
     },
     "execution_count": 196,
     "metadata": {},
     "output_type": "execute_result"
    }
   ],
   "source": [
    "is_ok"
   ]
  },
  {
   "cell_type": "code",
   "execution_count": 199,
   "metadata": {},
   "outputs": [],
   "source": [
    "import requests\n",
    "with requests.Session() as s:\n",
    "    req=s.get('https://www.clien.net/service/')\n",
    "    html=req.text\n",
    "    header=req.headers\n",
    "    status=req.status_code\n",
    "    is_ok=req.ok"
   ]
  },
  {
   "cell_type": "code",
   "execution_count": 201,
   "metadata": {},
   "outputs": [],
   "source": [
    "LOGIN_INFO={\n",
    "    'userId':'사용자이름',\n",
    "    'userPassword':'사용자패스워드'\n",
    "}"
   ]
  },
  {
   "cell_type": "code",
   "execution_count": 203,
   "metadata": {},
   "outputs": [
    {
     "name": "stdout",
     "output_type": "stream",
     "text": [
      "404\n"
     ]
    }
   ],
   "source": [
    "with requests.Session() as s:\n",
    "    login_req=s.post('https://www.clien.net/service/login',data=LOGIN_INFO)\n",
    "    print(login_req.status_code)\n",
    "# csrf 값을 넣어주지 않아서 404status_code가 나왔다!"
   ]
  },
  {
   "cell_type": "code",
   "execution_count": 213,
   "metadata": {},
   "outputs": [
    {
     "name": "stdout",
     "output_type": "stream",
     "text": [
      "3cadcfa3-7eab-4dd0-ad30-9e87a37468c7\n"
     ]
    }
   ],
   "source": [
    "import requests\n",
    "from bs4 import BeautifulSoup as bs\n",
    "with requests.Session() as s:\n",
    "    first_page=s.get('https://www.clien.net/service')\n",
    "    html=first_page.text\n",
    "    soup=bs(html,'lxml')\n",
    "    csrf=soup.find('input',{'name':'_csrf'})\n",
    "    print(csrf['value'])"
   ]
  },
  {
   "cell_type": "code",
   "execution_count": 214,
   "metadata": {},
   "outputs": [
    {
     "name": "stdout",
     "output_type": "stream",
     "text": [
      "{'userId': '사용자이름', 'userPassword': '사용자패스워드', '_csrf': '3cadcfa3-7eab-4dd0-ad30-9e87a37468c7'}\n"
     ]
    }
   ],
   "source": [
    "LOGIN_INFO={**LOGIN_INFO,**{'_csrf':csrf['value']}}\n",
    "print(LOGIN_INFO)"
   ]
  },
  {
   "cell_type": "code",
   "execution_count": 215,
   "metadata": {},
   "outputs": [
    {
     "name": "stdout",
     "output_type": "stream",
     "text": [
      "200\n"
     ]
    }
   ],
   "source": [
    "login_req=s.post('https://www.clien.net/service/login',data=LOGIN_INFO)\n",
    "print(login_req.status_code)"
   ]
  },
  {
   "cell_type": "code",
   "execution_count": 216,
   "metadata": {
    "scrolled": true
   },
   "outputs": [
    {
     "name": "stdout",
     "output_type": "stream",
     "text": [
      "{'userId': '사용자이름', 'userPassword': '사용자패스워드', '_csrf': '3cadcfa3-7eab-4dd0-ad30-9e87a37468c7'}\n",
      "200\n"
     ]
    }
   ],
   "source": [
    " # 이제 LOGIN_INFO에 csrf값을 넣어줍시다.\n",
    "# (p.s.)Python3에서 두 dict를 합치는 방법은 {**dict1, **dict2} 으로 dict들을 unpacking하는 것입니다.\n",
    "LOGIN_INFO = {**LOGIN_INFO, **{'_csrf': csrf['value']}}\n",
    "print(LOGIN_INFO)\n",
    "\n",
    "# 이제 다시 로그인을 해봅시다.\n",
    "login_req = s.post('https://www.clien.net/service/login', data=LOGIN_INFO)\n",
    "# 어떤 결과가 나올까요? (200이면 성공!)\n",
    "print(login_req.status_code)\n",
    "# 로그인이 되지 않으면 경고를 띄워줍시다.\n",
    "if login_req.status_code != 200:\n",
    "    raise Exception('로그인이 되지 않았어요! 아이디와 비밀번호를 다시한번 확인해 주세요.')"
   ]
  }
 ],
 "metadata": {
  "kernelspec": {
   "display_name": "Python 3",
   "language": "python",
   "name": "python3"
  },
  "language_info": {
   "codemirror_mode": {
    "name": "ipython",
    "version": 3
   },
   "file_extension": ".py",
   "mimetype": "text/x-python",
   "name": "python",
   "nbconvert_exporter": "python",
   "pygments_lexer": "ipython3",
   "version": "3.6.4"
  }
 },
 "nbformat": 4,
 "nbformat_minor": 2
}
