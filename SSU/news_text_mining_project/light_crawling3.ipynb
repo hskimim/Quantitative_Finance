{
 "cells": [
  {
   "cell_type": "code",
   "execution_count": 1,
   "metadata": {
    "collapsed": true
   },
   "outputs": [],
   "source": [
    "from first_project import *"
   ]
  },
  {
   "cell_type": "code",
   "execution_count": 4,
   "metadata": {
    "collapsed": false,
    "scrolled": true
   },
   "outputs": [
    {
     "data": {
      "text/markdown": [
       "### This report is from year : 2018-09-06 15:52"
      ],
      "text/plain": [
       "<IPython.core.display.Markdown object>"
      ]
     },
     "metadata": {},
     "output_type": "display_data"
    },
    {
     "data": {
      "text/markdown": [
       "### This report is from year : 2018-09-01 12:51"
      ],
      "text/plain": [
       "<IPython.core.display.Markdown object>"
      ]
     },
     "metadata": {},
     "output_type": "display_data"
    },
    {
     "data": {
      "text/markdown": [
       "### This report is from year : 2018-08-31 09:08"
      ],
      "text/plain": [
       "<IPython.core.display.Markdown object>"
      ]
     },
     "metadata": {},
     "output_type": "display_data"
    },
    {
     "data": {
      "text/markdown": [
       "### This report is from year : 신문B3면 1단"
      ],
      "text/plain": [
       "<IPython.core.display.Markdown object>"
      ]
     },
     "metadata": {},
     "output_type": "display_data"
    },
    {
     "data": {
      "text/markdown": [
       "### This report is from year : 2018-08-27 10:03"
      ],
      "text/plain": [
       "<IPython.core.display.Markdown object>"
      ]
     },
     "metadata": {},
     "output_type": "display_data"
    },
    {
     "data": {
      "text/markdown": [
       "### This report is from year : 신문9면 1단"
      ],
      "text/plain": [
       "<IPython.core.display.Markdown object>"
      ]
     },
     "metadata": {},
     "output_type": "display_data"
    },
    {
     "data": {
      "text/markdown": [
       "### This report is from year : 신문A5면 1단"
      ],
      "text/plain": [
       "<IPython.core.display.Markdown object>"
      ]
     },
     "metadata": {},
     "output_type": "display_data"
    },
    {
     "name": "stdout",
     "output_type": "stream",
     "text": [
      "8\n"
     ]
    },
    {
     "data": {
      "text/markdown": [
       "### This report is from year : 2018-08-16 09:34"
      ],
      "text/plain": [
       "<IPython.core.display.Markdown object>"
      ]
     },
     "metadata": {},
     "output_type": "display_data"
    },
    {
     "data": {
      "text/markdown": [
       "### This report is from year : 2018-08-14 18:03"
      ],
      "text/plain": [
       "<IPython.core.display.Markdown object>"
      ]
     },
     "metadata": {},
     "output_type": "display_data"
    },
    {
     "data": {
      "text/markdown": [
       "### This report is from year : 2018-08-13 16:18"
      ],
      "text/plain": [
       "<IPython.core.display.Markdown object>"
      ]
     },
     "metadata": {},
     "output_type": "display_data"
    },
    {
     "name": "stdout",
     "output_type": "stream",
     "text": [
      "12\n"
     ]
    },
    {
     "data": {
      "text/markdown": [
       "### This report is from year : 2018-08-07 17:55"
      ],
      "text/plain": [
       "<IPython.core.display.Markdown object>"
      ]
     },
     "metadata": {},
     "output_type": "display_data"
    },
    {
     "data": {
      "text/markdown": [
       "### This report is from year : 2018-08-04 05:06"
      ],
      "text/plain": [
       "<IPython.core.display.Markdown object>"
      ]
     },
     "metadata": {},
     "output_type": "display_data"
    },
    {
     "name": "stdout",
     "output_type": "stream",
     "text": [
      "15\n"
     ]
    },
    {
     "data": {
      "text/markdown": [
       "### This report is from year : 2018-07-31 14:28"
      ],
      "text/plain": [
       "<IPython.core.display.Markdown object>"
      ]
     },
     "metadata": {},
     "output_type": "display_data"
    },
    {
     "data": {
      "text/markdown": [
       "### This report is from year : 2018-07-27 06:04"
      ],
      "text/plain": [
       "<IPython.core.display.Markdown object>"
      ]
     },
     "metadata": {},
     "output_type": "display_data"
    },
    {
     "data": {
      "text/markdown": [
       "### This report is from year : 2018-07-24 00:51"
      ],
      "text/plain": [
       "<IPython.core.display.Markdown object>"
      ]
     },
     "metadata": {},
     "output_type": "display_data"
    },
    {
     "data": {
      "text/markdown": [
       "### This report is from year : 2018-07-21 10:12"
      ],
      "text/plain": [
       "<IPython.core.display.Markdown object>"
      ]
     },
     "metadata": {},
     "output_type": "display_data"
    },
    {
     "data": {
      "text/markdown": [
       "### This report is from year : 2018-07-19 17:40"
      ],
      "text/plain": [
       "<IPython.core.display.Markdown object>"
      ]
     },
     "metadata": {},
     "output_type": "display_data"
    },
    {
     "data": {
      "text/markdown": [
       "### This report is from year : 2018-07-18 14:31"
      ],
      "text/plain": [
       "<IPython.core.display.Markdown object>"
      ]
     },
     "metadata": {},
     "output_type": "display_data"
    },
    {
     "data": {
      "text/markdown": [
       "### This report is from year : 신문A16면 1단"
      ],
      "text/plain": [
       "<IPython.core.display.Markdown object>"
      ]
     },
     "metadata": {},
     "output_type": "display_data"
    },
    {
     "name": "stdout",
     "output_type": "stream",
     "text": [
      "23\n"
     ]
    },
    {
     "data": {
      "text/markdown": [
       "### This report is from year : 2018-07-11 15:36"
      ],
      "text/plain": [
       "<IPython.core.display.Markdown object>"
      ]
     },
     "metadata": {},
     "output_type": "display_data"
    },
    {
     "data": {
      "text/markdown": [
       "### This report is from year : 2018-07-11 09:57"
      ],
      "text/plain": [
       "<IPython.core.display.Markdown object>"
      ]
     },
     "metadata": {},
     "output_type": "display_data"
    },
    {
     "data": {
      "text/markdown": [
       "### This report is from year : 2018-07-09 15:27"
      ],
      "text/plain": [
       "<IPython.core.display.Markdown object>"
      ]
     },
     "metadata": {},
     "output_type": "display_data"
    },
    {
     "data": {
      "text/markdown": [
       "### This report is from year : 2018-07-08 13:56"
      ],
      "text/plain": [
       "<IPython.core.display.Markdown object>"
      ]
     },
     "metadata": {},
     "output_type": "display_data"
    },
    {
     "data": {
      "text/markdown": [
       "### This report is from year : 2018-07-07 01:33"
      ],
      "text/plain": [
       "<IPython.core.display.Markdown object>"
      ]
     },
     "metadata": {},
     "output_type": "display_data"
    },
    {
     "name": "stdout",
     "output_type": "stream",
     "text": [
      "29\n"
     ]
    },
    {
     "data": {
      "text/markdown": [
       "### This report is from year : 2018-07-06 13:08"
      ],
      "text/plain": [
       "<IPython.core.display.Markdown object>"
      ]
     },
     "metadata": {},
     "output_type": "display_data"
    },
    {
     "data": {
      "text/markdown": [
       "### This report is from year : 2018-07-06 07:31"
      ],
      "text/plain": [
       "<IPython.core.display.Markdown object>"
      ]
     },
     "metadata": {},
     "output_type": "display_data"
    },
    {
     "data": {
      "text/markdown": [
       "### This report is from year : 2018-07-05 10:37"
      ],
      "text/plain": [
       "<IPython.core.display.Markdown object>"
      ]
     },
     "metadata": {},
     "output_type": "display_data"
    },
    {
     "data": {
      "text/markdown": [
       "### This report is from year : 2018-07-04 09:58"
      ],
      "text/plain": [
       "<IPython.core.display.Markdown object>"
      ]
     },
     "metadata": {},
     "output_type": "display_data"
    },
    {
     "data": {
      "text/markdown": [
       "### This report is from year : 2018-07-01 10:04"
      ],
      "text/plain": [
       "<IPython.core.display.Markdown object>"
      ]
     },
     "metadata": {},
     "output_type": "display_data"
    },
    {
     "data": {
      "text/markdown": [
       "### This report is from year : 2018-06-29 06:48"
      ],
      "text/plain": [
       "<IPython.core.display.Markdown object>"
      ]
     },
     "metadata": {},
     "output_type": "display_data"
    },
    {
     "data": {
      "text/markdown": [
       "### This report is from year : 2018-06-27 17:46"
      ],
      "text/plain": [
       "<IPython.core.display.Markdown object>"
      ]
     },
     "metadata": {},
     "output_type": "display_data"
    },
    {
     "data": {
      "text/markdown": [
       "### This report is from year : 신문2면 TOP"
      ],
      "text/plain": [
       "<IPython.core.display.Markdown object>"
      ]
     },
     "metadata": {},
     "output_type": "display_data"
    },
    {
     "name": "stdout",
     "output_type": "stream",
     "text": [
      "38\n"
     ]
    },
    {
     "data": {
      "text/markdown": [
       "### This report is from year : 2018-06-22 11:24"
      ],
      "text/plain": [
       "<IPython.core.display.Markdown object>"
      ]
     },
     "metadata": {},
     "output_type": "display_data"
    },
    {
     "name": "stdout",
     "output_type": "stream",
     "text": [
      "40\n"
     ]
    },
    {
     "data": {
      "text/markdown": [
       "### This report is from year : 신문19면 TOP"
      ],
      "text/plain": [
       "<IPython.core.display.Markdown object>"
      ]
     },
     "metadata": {},
     "output_type": "display_data"
    },
    {
     "name": "stdout",
     "output_type": "stream",
     "text": [
      "42\n"
     ]
    },
    {
     "data": {
      "text/markdown": [
       "### This report is from year : 2018-06-15 23:15"
      ],
      "text/plain": [
       "<IPython.core.display.Markdown object>"
      ]
     },
     "metadata": {},
     "output_type": "display_data"
    },
    {
     "name": "stdout",
     "output_type": "stream",
     "text": [
      "44\n",
      "45\n"
     ]
    },
    {
     "data": {
      "text/markdown": [
       "### This report is from year : 2018-06-14 10:37"
      ],
      "text/plain": [
       "<IPython.core.display.Markdown object>"
      ]
     },
     "metadata": {},
     "output_type": "display_data"
    },
    {
     "data": {
      "text/markdown": [
       "### This report is from year : 신문A5면 1단"
      ],
      "text/plain": [
       "<IPython.core.display.Markdown object>"
      ]
     },
     "metadata": {},
     "output_type": "display_data"
    },
    {
     "data": {
      "text/markdown": [
       "### This report is from year : 신문A14면 TOP"
      ],
      "text/plain": [
       "<IPython.core.display.Markdown object>"
      ]
     },
     "metadata": {},
     "output_type": "display_data"
    },
    {
     "name": "stdout",
     "output_type": "stream",
     "text": [
      "49\n",
      "50\n"
     ]
    },
    {
     "data": {
      "text/markdown": [
       "### This report is from year : 2018-06-03 09:02"
      ],
      "text/plain": [
       "<IPython.core.display.Markdown object>"
      ]
     },
     "metadata": {},
     "output_type": "display_data"
    },
    {
     "data": {
      "text/markdown": [
       "### This report is from year : 2018-06-01 10:15"
      ],
      "text/plain": [
       "<IPython.core.display.Markdown object>"
      ]
     },
     "metadata": {},
     "output_type": "display_data"
    },
    {
     "data": {
      "text/markdown": [
       "### This report is from year : 2018-05-31 08:19"
      ],
      "text/plain": [
       "<IPython.core.display.Markdown object>"
      ]
     },
     "metadata": {},
     "output_type": "display_data"
    },
    {
     "data": {
      "text/markdown": [
       "### This report is from year : 2018-05-30 17:48"
      ],
      "text/plain": [
       "<IPython.core.display.Markdown object>"
      ]
     },
     "metadata": {},
     "output_type": "display_data"
    },
    {
     "name": "stdout",
     "output_type": "stream",
     "text": [
      "55\n",
      "56\n",
      "57\n"
     ]
    },
    {
     "data": {
      "text/markdown": [
       "### This report is from year : 2018-05-17 18:26"
      ],
      "text/plain": [
       "<IPython.core.display.Markdown object>"
      ]
     },
     "metadata": {},
     "output_type": "display_data"
    },
    {
     "data": {
      "text/markdown": [
       "### This report is from year : 신문A10면 2단"
      ],
      "text/plain": [
       "<IPython.core.display.Markdown object>"
      ]
     },
     "metadata": {},
     "output_type": "display_data"
    },
    {
     "data": {
      "text/markdown": [
       "### This report is from year : 2018-05-08 15:31"
      ],
      "text/plain": [
       "<IPython.core.display.Markdown object>"
      ]
     },
     "metadata": {},
     "output_type": "display_data"
    },
    {
     "name": "stdout",
     "output_type": "stream",
     "text": [
      "61\n"
     ]
    },
    {
     "data": {
      "text/markdown": [
       "### This report is from year : 2018-05-03 04:18"
      ],
      "text/plain": [
       "<IPython.core.display.Markdown object>"
      ]
     },
     "metadata": {},
     "output_type": "display_data"
    },
    {
     "data": {
      "text/markdown": [
       "### This report is from year : 2018-04-27 12:55"
      ],
      "text/plain": [
       "<IPython.core.display.Markdown object>"
      ]
     },
     "metadata": {},
     "output_type": "display_data"
    },
    {
     "data": {
      "text/markdown": [
       "### This report is from year : 2018-04-23 16:01"
      ],
      "text/plain": [
       "<IPython.core.display.Markdown object>"
      ]
     },
     "metadata": {},
     "output_type": "display_data"
    },
    {
     "data": {
      "text/markdown": [
       "### This report is from year : 2018-04-19 08:28"
      ],
      "text/plain": [
       "<IPython.core.display.Markdown object>"
      ]
     },
     "metadata": {},
     "output_type": "display_data"
    },
    {
     "name": "stdout",
     "output_type": "stream",
     "text": [
      "66\n"
     ]
    },
    {
     "data": {
      "text/markdown": [
       "### This report is from year : 2018-04-14 11:48"
      ],
      "text/plain": [
       "<IPython.core.display.Markdown object>"
      ]
     },
     "metadata": {},
     "output_type": "display_data"
    },
    {
     "data": {
      "text/markdown": [
       "### This report is from year : 신문2면 TOP"
      ],
      "text/plain": [
       "<IPython.core.display.Markdown object>"
      ]
     },
     "metadata": {},
     "output_type": "display_data"
    },
    {
     "data": {
      "text/markdown": [
       "### This report is from year : 2018-04-11 04:40"
      ],
      "text/plain": [
       "<IPython.core.display.Markdown object>"
      ]
     },
     "metadata": {},
     "output_type": "display_data"
    },
    {
     "data": {
      "text/markdown": [
       "### This report is from year : 신문8면 TOP"
      ],
      "text/plain": [
       "<IPython.core.display.Markdown object>"
      ]
     },
     "metadata": {},
     "output_type": "display_data"
    },
    {
     "name": "stdout",
     "output_type": "stream",
     "text": [
      "71\n"
     ]
    },
    {
     "data": {
      "text/markdown": [
       "### This report is from year : 2018-04-07 21:19"
      ],
      "text/plain": [
       "<IPython.core.display.Markdown object>"
      ]
     },
     "metadata": {},
     "output_type": "display_data"
    },
    {
     "data": {
      "text/markdown": [
       "### This report is from year : 신문A8면 TOP"
      ],
      "text/plain": [
       "<IPython.core.display.Markdown object>"
      ]
     },
     "metadata": {},
     "output_type": "display_data"
    },
    {
     "data": {
      "text/markdown": [
       "### This report is from year : 2018-04-06 14:32"
      ],
      "text/plain": [
       "<IPython.core.display.Markdown object>"
      ]
     },
     "metadata": {},
     "output_type": "display_data"
    },
    {
     "name": "stdout",
     "output_type": "stream",
     "text": [
      "75\n"
     ]
    },
    {
     "data": {
      "text/markdown": [
       "### This report is from year : 2018-04-05 11:54"
      ],
      "text/plain": [
       "<IPython.core.display.Markdown object>"
      ]
     },
     "metadata": {},
     "output_type": "display_data"
    },
    {
     "data": {
      "text/markdown": [
       "### This report is from year : 2018-04-05 05:28"
      ],
      "text/plain": [
       "<IPython.core.display.Markdown object>"
      ]
     },
     "metadata": {},
     "output_type": "display_data"
    },
    {
     "data": {
      "text/markdown": [
       "### This report is from year : 2018-04-04 19:06"
      ],
      "text/plain": [
       "<IPython.core.display.Markdown object>"
      ]
     },
     "metadata": {},
     "output_type": "display_data"
    },
    {
     "data": {
      "text/markdown": [
       "### This report is from year : 2018-04-04 15:32"
      ],
      "text/plain": [
       "<IPython.core.display.Markdown object>"
      ]
     },
     "metadata": {},
     "output_type": "display_data"
    },
    {
     "data": {
      "text/markdown": [
       "### This report is from year : 2018-04-04 07:30"
      ],
      "text/plain": [
       "<IPython.core.display.Markdown object>"
      ]
     },
     "metadata": {},
     "output_type": "display_data"
    },
    {
     "data": {
      "text/markdown": [
       "### This report is from year : 2018-04-03 08:57"
      ],
      "text/plain": [
       "<IPython.core.display.Markdown object>"
      ]
     },
     "metadata": {},
     "output_type": "display_data"
    },
    {
     "data": {
      "text/markdown": [
       "### This report is from year : 2018-04-02 15:30"
      ],
      "text/plain": [
       "<IPython.core.display.Markdown object>"
      ]
     },
     "metadata": {},
     "output_type": "display_data"
    },
    {
     "data": {
      "text/markdown": [
       "### This report is from year : 2018-03-30 15:51"
      ],
      "text/plain": [
       "<IPython.core.display.Markdown object>"
      ]
     },
     "metadata": {},
     "output_type": "display_data"
    },
    {
     "data": {
      "text/markdown": [
       "### This report is from year : 신문A10면 TOP"
      ],
      "text/plain": [
       "<IPython.core.display.Markdown object>"
      ]
     },
     "metadata": {},
     "output_type": "display_data"
    },
    {
     "data": {
      "text/markdown": [
       "### This report is from year : 2018-03-26 20:53"
      ],
      "text/plain": [
       "<IPython.core.display.Markdown object>"
      ]
     },
     "metadata": {},
     "output_type": "display_data"
    },
    {
     "data": {
      "text/markdown": [
       "### This report is from year : 2018-03-26 15:55"
      ],
      "text/plain": [
       "<IPython.core.display.Markdown object>"
      ]
     },
     "metadata": {},
     "output_type": "display_data"
    },
    {
     "data": {
      "text/markdown": [
       "### This report is from year : 2018-03-26 11:49"
      ],
      "text/plain": [
       "<IPython.core.display.Markdown object>"
      ]
     },
     "metadata": {},
     "output_type": "display_data"
    },
    {
     "name": "stdout",
     "output_type": "stream",
     "text": [
      "88\n"
     ]
    },
    {
     "data": {
      "text/markdown": [
       "### This report is from year : 2018-03-25 14:05"
      ],
      "text/plain": [
       "<IPython.core.display.Markdown object>"
      ]
     },
     "metadata": {},
     "output_type": "display_data"
    },
    {
     "data": {
      "text/markdown": [
       "### This report is from year : 2018-03-24 15:07"
      ],
      "text/plain": [
       "<IPython.core.display.Markdown object>"
      ]
     },
     "metadata": {},
     "output_type": "display_data"
    },
    {
     "data": {
      "text/markdown": [
       "### This report is from year : 신문T4면 TOP"
      ],
      "text/plain": [
       "<IPython.core.display.Markdown object>"
      ]
     },
     "metadata": {},
     "output_type": "display_data"
    },
    {
     "data": {
      "text/markdown": [
       "### This report is from year : 신문3면 TOP"
      ],
      "text/plain": [
       "<IPython.core.display.Markdown object>"
      ]
     },
     "metadata": {},
     "output_type": "display_data"
    },
    {
     "data": {
      "text/markdown": [
       "### This report is from year : 2018-03-23 14:10"
      ],
      "text/plain": [
       "<IPython.core.display.Markdown object>"
      ]
     },
     "metadata": {},
     "output_type": "display_data"
    },
    {
     "name": "stdout",
     "output_type": "stream",
     "text": [
      "94\n"
     ]
    },
    {
     "data": {
      "text/markdown": [
       "### This report is from year : 신문18면 1단"
      ],
      "text/plain": [
       "<IPython.core.display.Markdown object>"
      ]
     },
     "metadata": {},
     "output_type": "display_data"
    },
    {
     "data": {
      "text/markdown": [
       "### This report is from year : 2018-03-23 01:04"
      ],
      "text/plain": [
       "<IPython.core.display.Markdown object>"
      ]
     },
     "metadata": {},
     "output_type": "display_data"
    },
    {
     "data": {
      "text/markdown": [
       "### This report is from year : 신문A14면 1단"
      ],
      "text/plain": [
       "<IPython.core.display.Markdown object>"
      ]
     },
     "metadata": {},
     "output_type": "display_data"
    },
    {
     "data": {
      "text/markdown": [
       "### This report is from year : 신문2면 6단"
      ],
      "text/plain": [
       "<IPython.core.display.Markdown object>"
      ]
     },
     "metadata": {},
     "output_type": "display_data"
    },
    {
     "data": {
      "text/markdown": [
       "### This report is from year : 2018-03-22 08:19"
      ],
      "text/plain": [
       "<IPython.core.display.Markdown object>"
      ]
     },
     "metadata": {},
     "output_type": "display_data"
    },
    {
     "data": {
      "text/markdown": [
       "### This report is from year : 2018-03-22 03:12"
      ],
      "text/plain": [
       "<IPython.core.display.Markdown object>"
      ]
     },
     "metadata": {},
     "output_type": "display_data"
    }
   ],
   "source": [
    "%%time\n",
    "ls = []\n",
    "for i in range(1,101,1):\n",
    "    try:\n",
    "        ls.append(light_crawling3(PageNum=i))\n",
    "    except : \n",
    "        print(i)"
   ]
  },
  {
   "cell_type": "code",
   "execution_count": 17,
   "metadata": {
    "collapsed": false
   },
   "outputs": [
    {
     "data": {
      "text/plain": [
       "21"
      ]
     },
     "execution_count": 17,
     "metadata": {},
     "output_type": "execute_result"
    }
   ],
   "source": [
    "len([8,12,15,23,29,38,40,42,44,45,49,50,55,56,57,61,66,71,75,88,94])"
   ]
  },
  {
   "cell_type": "code",
   "execution_count": 5,
   "metadata": {
    "collapsed": false
   },
   "outputs": [
    {
     "data": {
      "text/plain": [
       "79"
      ]
     },
     "execution_count": 5,
     "metadata": {},
     "output_type": "execute_result"
    }
   ],
   "source": [
    "len(ls)"
   ]
  },
  {
   "cell_type": "code",
   "execution_count": 12,
   "metadata": {
    "collapsed": false
   },
   "outputs": [],
   "source": [
    "df = pd.DataFrame(data=ls,columns=np.arange(20))"
   ]
  },
  {
   "cell_type": "code",
   "execution_count": 13,
   "metadata": {
    "collapsed": false
   },
   "outputs": [
    {
     "data": {
      "text/html": [
       "<div>\n",
       "<table border=\"1\" class=\"dataframe\">\n",
       "  <thead>\n",
       "    <tr style=\"text-align: right;\">\n",
       "      <th></th>\n",
       "      <th>0</th>\n",
       "      <th>1</th>\n",
       "      <th>2</th>\n",
       "      <th>3</th>\n",
       "      <th>4</th>\n",
       "      <th>5</th>\n",
       "      <th>6</th>\n",
       "      <th>7</th>\n",
       "      <th>8</th>\n",
       "      <th>9</th>\n",
       "      <th>10</th>\n",
       "      <th>11</th>\n",
       "      <th>12</th>\n",
       "      <th>13</th>\n",
       "      <th>14</th>\n",
       "      <th>15</th>\n",
       "      <th>16</th>\n",
       "      <th>17</th>\n",
       "      <th>18</th>\n",
       "      <th>19</th>\n",
       "    </tr>\n",
       "  </thead>\n",
       "  <tbody>\n",
       "    <tr>\n",
       "      <th>0</th>\n",
       "      <td>韓-印尼 정상 \"양국 긴밀 협조\"\\n美·中전쟁서 돌파구 모색\\n韓+아세안 10개국+...</td>\n",
       "      <td>16일 베이징서 원탁회의…골드만 대표 등 초청\\n中, 월가 통해 교착빠진 무역협상 ...</td>\n",
       "      <td>[머니투데이 김수현 인턴기자] [중간선거 앞둔 트럼프, 기업에 미국 내 생산 주문…...</td>\n",
       "      <td>도널드 트럼프 미국 대통령/AP연합뉴스\\n\\n[서울경제] 미국에서 이른바 ‘블루칼라...</td>\n",
       "      <td>(상하이=연합뉴스) 차대운 특파원 = 중국의 8월 소비자물가지수(CPI)가 작년 같...</td>\n",
       "      <td>[한겨레] “일본과의 무역 협상 시작했다.\\n\\n합의 안 되면 일본에 큰 문제”\\n...</td>\n",
       "      <td>글로벌 금융위기 10년\\n\\n'10년 주기설'에 세계시장 긴장\\n\\n[ 김현석 기자...</td>\n",
       "      <td>터키·아르헨티나 금융위기, 신흥국으로 확산…증시도 '휘청'\\n\\n경상수지 적자, 대...</td>\n",
       "      <td>대미 무역흑자 310억5천만달러 기록\\n\\n\"달러 강세·美 경기호조가 관세 효과 상...</td>\n",
       "      <td>8월말 기준 3조1천97억달러…중국 당국 \"달러 강세 영향\"\\n\\n나란히 놓인 달러...</td>\n",
       "      <td>도널드 트럼프 미국 대통령이 6일 (현지시간) 몬태나 주 빌링스의 ‘미국을 다시 위...</td>\n",
       "      <td>애플, 美무역대표부에 서한 발송…추가관세에 불만 표시\\n\"中제품 관세 높이면 애플 ...</td>\n",
       "      <td>2018년 5월 8일 인도네시아 자카르타 시내의 한 환전소에서 현지인 직원이 달러화...</td>\n",
       "      <td>【기준금리 세계 최고 60%, 아르헨 은행에 예치하면?】\\n\\n아르헨티나 중앙은행은...</td>\n",
       "      <td>중국·멕시코·캐나다·한국·EU 이어 통상관계 재설정 추진\\n\\n\"무역전쟁 다음 타깃...</td>\n",
       "      <td>\"완전히 방정식 바꿀것\"…캐나다·일본에도 무역 압박\\n\\n미중 무역전쟁 대결·트럼프...</td>\n",
       "      <td>동영상 뉴스\\n[앵커]\\n\\n트럼프 행정부의 2000억 달러 어치의 중국제품에 대한...</td>\n",
       "      <td>WSJ 칼럼니스트 주장\\n\"트럼프, 대일 교역조건에 여전히 신경써\"\\n도널드 트럼프...</td>\n",
       "      <td>아르헨·브라질 등 중남미서\\n8월에만 31억달러 돈 빠져\\n\\n◆ 끝나지 않은 금융...</td>\n",
       "      <td>미 7월 무역적자 5개월 만에 최대\\n중국·EU 등 타깃 적자규모 더 커\\n중국산 ...</td>\n",
       "    </tr>\n",
       "    <tr>\n",
       "      <th>1</th>\n",
       "      <td>[머니투데이 유희석 기자] [최대 농산물 수출품 '콩'만 수출 급감…트럼프, 관세 ...</td>\n",
       "      <td>5일 FTSE 신흥국지수 1.7% 하락\\n페소·리라 이어 루피아·랜드도 하락세\\n미...</td>\n",
       "      <td>도널드 트럼프 미국 대통령.© AFP=뉴스1\\n\\n(서울=뉴스1) 김정한 기자 = ...</td>\n",
       "      <td>남아공 9년 만에 경기침체 진입·인니 루피아 가치 20년 만에 최저\\n\\n\"펀더멘털...</td>\n",
       "      <td>아르헨티나, IMF에 구제금융 조기 집행 요구…메르발지수 및 헤알화 급락\\n터키도 ...</td>\n",
       "      <td>[아시아경제 나주석 기자] 미·중이 양쪽이 잘못된 판단에 기초해 무역전쟁을 진행하고...</td>\n",
       "      <td>■ 김경수의 글로벌 경제 이야기 - (22) 美·中 무역전쟁은 ‘곪은 게 터진 격’...</td>\n",
       "      <td>JP모건 수석분석가 글로벌 금융위기 10주년 보고서\\n\\n\"강세장 말미에 집단발작…...</td>\n",
       "      <td>(서울=연합뉴스) 진병태 기자 = 중국의 대규모 아프리카 원조에 미국이 '채무함정'...</td>\n",
       "      <td>신흥국 긴축 조치 잇따라\\n아르헨티나 중앙은행이 30일(현지시간) 페소화 가치 폭락...</td>\n",
       "      <td>[머니투데이 정한결 기자] [베트남 등 인근 국가로 시설 이전 가속화… \"무역갈등,...</td>\n",
       "      <td>시진핑 중국 국가주석이 세계 강국 부상을 위해 집권 초기인 2013년 9월부터 야심...</td>\n",
       "      <td>대두 관세부과·아프리카돼지콜레라로 돼지고기 등 식탁물가도 불안\\n\\n중국 칭다오에 ...</td>\n",
       "      <td>비슷한 상황 벌어졌던 2월, 큰 폭 조정장 닥쳐\\n\\n\\n【서울=뉴시스】박상주 기자...</td>\n",
       "      <td>경제고문 래퍼 전언…\"무역전쟁에도 본심은 자유무역\"\\n\\n미국매체들 이르면 오는 7...</td>\n",
       "      <td>기간산업 피해 또는 미국 우선주의 양자택일 기로\\n\\n멕시코 '시범타'…유럽연합·캐...</td>\n",
       "      <td>\"멕시코산 車에 쿼터…FTA 개정한 한국도 예외 아닐수 있어\"\\n\\n(서울=연합뉴스...</td>\n",
       "      <td>미-멕시코 양자협정 카드 흔들며 캐나다·의회 동시 압박\\n\\n캐나다 \"선의·유연성 ...</td>\n",
       "      <td>(서울=연합뉴스) 김윤구 기자 = 도널드 트럼프 미국 대통령이 미국이 세계무역기구(...</td>\n",
       "      <td>중국 칭다오항에 정박한 컨테이너선 [AP=연합뉴스 자료사진]\\n\\n\\n(상하이=연합...</td>\n",
       "    </tr>\n",
       "    <tr>\n",
       "      <th>2</th>\n",
       "      <td>\"'플라자 합의' 중국에 부과할 수 있다는 환상 버려야\"\\n\\n추이톈카이 주미 중국...</td>\n",
       "      <td>\"무역전쟁 중에도 중국의 해외투자 꾸준히 늘어났다\"\\n\\nWTO사무총장 \"트럼프 발...</td>\n",
       "      <td>\"미-멕시코 합의 의회통보\"…캐나다 합류 여지 열어놔\\n\\n\\n\\n(뉴욕=연합뉴스)...</td>\n",
       "      <td>\"블룸버그 인터뷰서 언급\"…트럼프 \"비보도, 뻔뻔스럽게 깨져\"\\n\\n\\n\\n(뉴욕=...</td>\n",
       "      <td>전문가들 \"정치적 불확실성·정책 혼선으로 기반 흔들려\"\\n\\n(상파울루=연합뉴스) ...</td>\n",
       "      <td>【워싱턴=AP/뉴시스】김혜경 기자 = 순조롭게 진행되는 것 같았던 미국과 캐나다의 ...</td>\n",
       "      <td>WSJ \"트럼프 무역정책, 자동차업계 주요 결정에 영향 주기 시작\"\\n\\n중국 모터...</td>\n",
       "      <td>금융위기로 자연금리·실업률 변화\\n경기 정점서 통화정책 근거 흔들\\n파월. [연합뉴...</td>\n",
       "      <td>아르헨 정부 12년간 통계 조작\\n적자 축소한 그리스는 국가부도\\n피케티 교수도 분...</td>\n",
       "      <td>매튜 킹 씨티그룹 채권투자 전략가\\n미국 경기 110개월째 확장 국면\\n채권·주식 ...</td>\n",
       "      <td>중국 항복은 이제 시간문제다\\n\\n유민호 퍼시픽21 소장\\n\\n지난 8월 13일 중...</td>\n",
       "      <td>수출기업·외국 채권 투자자에 7조원대 감세\\n\\n월 80만원 월급쟁이까지는 소득세 ...</td>\n",
       "      <td>도널드 트럼프(왼쪽) 미국 대통령과 시진핑 중국 국가주석.\\n\\n\\n도널드 트럼프 ...</td>\n",
       "      <td>중국 채권 투자 외국자본에 이자 세금 3년간 면제\\n\\n리커창 중국 총리 [AP=연...</td>\n",
       "      <td>신뢰의 붕괴…이자율 올려도 자본은 급히 유출\\n정부의 무능과 부패…올해 경제 내내 ...</td>\n",
       "      <td>인도 사상최저·인니 3년내 최저…러·남아공·브라질도 급락\\n\\n영향 제한적일지 불분...</td>\n",
       "      <td>블룸버그 갈무리\\n\\n(서울=뉴스1) 박형기 기자 = 도널드 트럼프 미국 대통령이 ...</td>\n",
       "      <td>러·남아공·브라질 등 24곳 중 20곳 달러대비 환율 상승\\n\\n취약국 국한될지 미...</td>\n",
       "      <td>\"WTO 태도 개선하라\" 무역전쟁 중 강경파 힘싣기\\n\\nEU자동차 무관세 제안 거...</td>\n",
       "      <td>\"미국이 강한 압력 가해도 중국에 효과 없어…평등한 대화 원해\"\\n\\n가오펑 대변인...</td>\n",
       "    </tr>\n",
       "    <tr>\n",
       "      <th>3</th>\n",
       "      <td>아르헨, 내년 부채 상환능력에 시장 불신…브라질, 대선 불확실성이 주요인\\n\\n아르...</td>\n",
       "      <td>6년여간 연준 목표 2% 밑돌던 근원PCE물가, 7월에 2%↑\\n완전고용에 물가 정...</td>\n",
       "      <td>중국과 무역전쟁 와중에 행정부내 강경파 힘싣기\\n\\n과거에도 \"나쁜 대접받아\" 불만...</td>\n",
       "      <td>블룸버그 갈무리\\n\\n(서울=뉴스1) 박형기 기자 = 도널드 트럼프 미국 대통령이 ...</td>\n",
       "      <td>강행시 최대규모 관세폭탄…미중 무역전쟁 전면전으로 치달을듯\\n\\n\"2천억달러 규모 ...</td>\n",
       "      <td>상무부-노동부 발표 경제지표 호조에 고무\\n【서울=뉴시스】도널드 트럼프 미국 대통령...</td>\n",
       "      <td>(뉴욕=연합뉴스) 이귀원 특파원 = 미국 노동부는 지난주 실업수당 청구 건수가 21...</td>\n",
       "      <td>중동계열 은행 ABCP 담은 국내 MMF '초비상'\\n\\n알파에셋자산운용도 환매 연...</td>\n",
       "      <td>현지 철강재 가격 폭등에 무릎\\n쿼터 수용국도 예외 신청 허용\\n업계 \"美 철강사 ...</td>\n",
       "      <td>[머니투데이 유희석 기자] [아르헨, IMF 구제금융 조기 집행 요청…리라화 최근 ...</td>\n",
       "      <td>\"완전 면제는 아냐…美 철강업체 물량부족 대응해 예외신청 받아주기로 한 것\"\\n[이...</td>\n",
       "      <td>한국·아르헨티나·브라질 철강, 아르헨티나 알루미늄 대상\\n\\n미국, 한국 철강제품 ...</td>\n",
       "      <td>【서울=뉴시스】조인우 기자 = 도널드 트럼프 미국 대통령이 한국산 철강 수입 쿼터 ...</td>\n",
       "      <td>[머니투데이 구유나 기자]\\n/사진=뉴스1\\n미 상무부가 한국산 철강 관세를 면제한...</td>\n",
       "      <td>[사진=AFP제공]\\n[이데일리 정다슬 기자] 미국 정부가 한국산 철강 제품을 수입...</td>\n",
       "      <td>페소 급락에 외채상환 불능 우려…대통령 조기지원 긴급 요청\\n\\n잇단 달러매각에도 ...</td>\n",
       "      <td>트럼프 \"캐나다 총리, 매우 멋져\"…트뤼도 총리, 협상타결 가능성 피력\\n\\n트럼프...</td>\n",
       "      <td>속보치보다 0.1%P 상향…상반기 3.2%로 '연 3% 성장' 기대 커져\\n\\n트럼...</td>\n",
       "      <td>트뤼도 캐나다 총리와 접촉 시사…\"그는 매우 멋졌다\"\\n\\n구글·페이스북·트위터 또...</td>\n",
       "      <td>맥킨지 \"글로벌 금융위기 10년… 3대 리스크 지켜봐야\"\\n\\n\\n\\n2008년 9...</td>\n",
       "    </tr>\n",
       "    <tr>\n",
       "      <th>4</th>\n",
       "      <td>[머니투데이 유희석 기자] [美 실업률 역사적 저점, 소비심리도 최고…\\n파월, 낮...</td>\n",
       "      <td>(도쿄=연합뉴스) 최이락 특파원 = 미국과 멕시코가 북미자유무역협정(NAFTAㆍ나프...</td>\n",
       "      <td>트뤼도는 \"나프타 협상에서 캐나다 낙농 보호 불변\"\\n\\n\\n【서울=뉴시스】조인우 ...</td>\n",
       "      <td>【오타와(캐나다)=AP/뉴시스】쥐스탱 트뤼도 캐나다 총리가 31일(현지시간) 캐나다...</td>\n",
       "      <td>멕시코와 타결 하루 만에..캐나다 외무장관 워싱턴行\\n31일 협상 마감시한..美 \"...</td>\n",
       "      <td>멕시코와의 나프타 개정안에도 '아메리카 퍼스트'\\n\\n자동차·지재권·일몰조항 등 관...</td>\n",
       "      <td>자동차는 부품 75% 이상 역내 생산해야 무관세 적용\\n협정 유효기간은 16년…6년...</td>\n",
       "      <td>(서울=연합뉴스) 김지연 기자 = 미국이 중국에서 수입하는 철강 휠(steel wh...</td>\n",
       "      <td>무역전쟁 관련 신경전 치열…철강 관세·지적재산권도 협의중\\n\\n미중 대결·무역전쟁 ...</td>\n",
       "      <td>美 최후통첩에 캐나다 협상 재개…캐나다 총리 \"트럼프와 건설적 대화\"\\n\\n멕시코·...</td>\n",
       "      <td>[워싱턴=CBS노컷뉴스 장규석 특파원]\\n트럼프 미국 대통령은 '중국과 아직 대화할...</td>\n",
       "      <td>트럼프 \"멋진 빅딜\"…캐나다 외교장관 28일 워싱턴행\\n\\n자동차 역내 부품비율 7...</td>\n",
       "      <td>【콜럼버스(미 오하이오주)=AP/뉴시스】도널드 트럼프 미 대통령이 25일(현지시간)...</td>\n",
       "      <td>트럼프, 남은 회원국 캐나다 압박…\"하루만에 타결할 수도 있어\"\\n\\n자동차 역내 ...</td>\n",
       "      <td>크리스티아 프릴랜드 캐나다 외무장관. © AFP=뉴스1\\n\\n(서울=뉴스1) 김정한...</td>\n",
       "      <td>(서울=연합뉴스) 김지연 기자 = 무역전쟁으로 중국 경제에 대한 우려가 커진 가운데...</td>\n",
       "      <td>AP연합.\\n【베이징 서울=조창원 특파원 박종원 기자】미구과 중국간 무역전쟁이 장기...</td>\n",
       "      <td>2분기 스타벅스 매출 하락세로 돌아서\\n\\n중국 맥도날드 매장\\n\\n\\n(홍콩=연합...</td>\n",
       "      <td>중국, 외국기업도 첨단산업 육성책 동등 참여⋅불법 지재권 엄벌...산업정책 변경엔 ...</td>\n",
       "      <td>2천억불 관세부과 임박…中 기업사냥 견제·국제공조 타진\\n\\n美 매체 \"미중 무역전...</td>\n",
       "    </tr>\n",
       "    <tr>\n",
       "      <th>5</th>\n",
       "      <td>인민銀 기준환율 정할 때\\n'경기대응 요소' 다시 반영\\n\\n[ 강동균 기자 ] 중...</td>\n",
       "      <td>핵심쟁점 車부품·일몰조항 진전\\n캐나다 참여 여부가 관건으로\\n도널드 트럼프 미국 ...</td>\n",
       "      <td>[머니투데이 베이징(중국)=진상현 특파원] [편집자주] 지난 3월22일 도널드 트럼...</td>\n",
       "      <td>[머니투데이 뉴욕(미국)=송정렬 특파원] [파월, 잭슨홀 미팅 데뷔 연설서 \"임금·...</td>\n",
       "      <td>중국 난산 가려다 여수로…이미 여러 척 목적지 변경\\n\\n(서울=연합뉴스) 김지연 ...</td>\n",
       "      <td>잭슨홀미팅서도 '경기 논란'\\n\\n\"악화 시사\" vs \"확대해석 말라\"\\n\\n[ 김...</td>\n",
       "      <td>\"10년째 경기확장 막바지\"\\n1960년대 이후 국채 장단기 금리차\\n역전 9번 중...</td>\n",
       "      <td>[머니투데이 진경진 기자] [[내일의전략]\"지수 이미 2200선, 외인 투자자들 자...</td>\n",
       "      <td>선진국, 中 기술이전 강요 등 부담 겪어\\n中, 선진국들 불만 과소평가\\n칼라 힐스...</td>\n",
       "      <td>댈러스·캔자스시티 연은총재 \"두차례 추가 인상 바람직\"\\n\"연준 통화정책, 정치적 ...</td>\n",
       "      <td>차관급 대화 채널 한계 노출…상대방 마지노선 떠본 탐색적 대화 그쳐\\n\\n美, 2천...</td>\n",
       "      <td>美 요구사항 수정 제안했지만 中은 기존 '수입확대' 입장 고수\\n\\n중국 상무부 \"...</td>\n",
       "      <td>[베이징= 이데일리 김인경 특파원] 미국과 중국이 무역 전쟁을 끝내기 위해 80여일...</td>\n",
       "      <td>23일부터 경제정책 심포지엄 잭슨홀미팅 개최\\n캔자스시티 연은총재 \"기준금리 3% ...</td>\n",
       "      <td>제롬 파월 미 연준 의장［AP연합뉴스］\\n\\n잭슨홀 미팅, 트럼프 성토장\\n조지 연...</td>\n",
       "      <td>\"정치와 무관하게 통화정책 결정할 것\"\\n\\n도널드 트럼프 대통령과 제롬 파월 연준...</td>\n",
       "      <td>美, 160억달러 中 수입품에 관세\\n中도 예고대로 동일 관세로 맞불\\n연준 \"계속...</td>\n",
       "      <td>美 관세 강행에 중국도 `맞불`\\n中반도체·화학·플라스틱 대상…美할리데이비드슨·주스...</td>\n",
       "      <td>(서울=연합뉴스) 장재은 기자 = 미국이 무역분야에서 중국에 대해 호전적인 공세를 ...</td>\n",
       "      <td>[머니투데이 김영선 기자, 베이징(중국)=진상현 특파원] [160억 달러 규모 상품...</td>\n",
       "    </tr>\n",
       "    <tr>\n",
       "      <th>6</th>\n",
       "      <td>미중 이틀간 협상 중…中반도체·美 할리데이비슨 등 대상\\n\\n中상무부 \"미국에 반격...</td>\n",
       "      <td>미중 무역대결(PG)\\n\\n\\n(상하이=연합뉴스) 차대운 특파원 = 미국 정부가 2...</td>\n",
       "      <td>미중 이틀간 협상중…반도체·화학·플라스틱 등 산업재 대상 관세\\n\\n(서울=연합뉴스...</td>\n",
       "      <td>미국이 23일(현지시간)부터 160억달러 규모의 중국산 수입품에 대한 25% 관세부...</td>\n",
       "      <td>중국 상무부 가오펑 대변인은 지난 6월 정례브리핑을 하고 있다. /사진=중국 상무부...</td>\n",
       "      <td>[머니투데이 김영선 기자] 미국이 23일(현지시간) 2차 대중(對中) 관세를 발효했...</td>\n",
       "      <td>(서울=연합뉴스) 김지연 기자 = 미국이 23일(현지시간) 160억달러(약 18조원...</td>\n",
       "      <td>워싱턴서 이틀간 차관급 대표 회담 / 美, 관세로 ‘中 궁지 몰기’ 성공 판단 / ...</td>\n",
       "      <td>송유관·유정용 등 이어 네번째\\n포스코산 열연·전기료 또 시비\\n[서울경제] 미국이...</td>\n",
       "      <td>SCMP, 티모시 스트랫포드 전 USTR대표보 인터뷰\\n\"교착상태 지속될 것…추가 ...</td>\n",
       "      <td>SCMP \"SOC 촉진 통해 경기 부양하는 옛 관행으로 되돌아가고 있다\"\\n\\n(서...</td>\n",
       "      <td>협상 앞두고 위안화 절상 압박\\n파월 향해선 “금리 인상 안 달가워”\\n제롬 파월....</td>\n",
       "      <td>WSJ 인터뷰서 \"EU·나프타 협상 함께 고려\"…韓업계도 일단 '숨통'\\n\\n윌버 ...</td>\n",
       "      <td>'금리인상 →강달러 →무역적자 심화' 고려한듯\\n연준 정책기조 '불변' 예상…中도 ...</td>\n",
       "      <td>트럼프 \"중국 환율 조작한다고 생각…유럽도 마찬가지\"\\n금리 인상에도 불평 \"다른나...</td>\n",
       "      <td>로이터통신 인터뷰…\"무역협상 많은 기대없다\" 전방위 中압박\\n\\n트럼프, 중국 보복...</td>\n",
       "      <td>무역이어 마약 문제에서도 중국 거론… \"거의 전쟁 수준\" 발언도\\n\\n[워싱턴=CB...</td>\n",
       "      <td>로이터통신 인터뷰…對中 압박성 취지인 듯\\n\\n트럼프, 중국 보복관세 \"악랄한 시도...</td>\n",
       "      <td>22일 워싱턴서 미·중 무역협상 재개\\n온건파 므누신·커들로 협상안 마련\\n라이트하...</td>\n",
       "      <td>신 팍스 아메리카나\\n\\n(1) 호황에도 재정적자 급증\\n(2) 무역전쟁發 세계교역...</td>\n",
       "    </tr>\n",
       "    <tr>\n",
       "      <th>7</th>\n",
       "      <td>ㆍ미 ‘관세폭탄’에 환율·물가 출렁\\nㆍ명절 앞둔 도심 위기 체감 ‘아직’\\nㆍ불안...</td>\n",
       "      <td>백악관 각료회의…커들로 \"투자자, 中서 美로 오고있다\"\\n\\n트럼프 \"공정한 것 얻...</td>\n",
       "      <td>© News1 방은영 디자이너\\n\\n(서울=뉴스1) 양재상 기자 = 미국과 중국의 ...</td>\n",
       "      <td>세계 금융시장에 큰 혼란을 불러 온 미국과 터키 간 갈등의 중심에는 미국인 복음주의...</td>\n",
       "      <td>(워싱턴=연합뉴스) 송수경 특파원 = 도널드 트럼프 미국 행정부는 16일(현지시간)...</td>\n",
       "      <td>\"트럼프, 좋은거래에 강력의지…中, 트럼프 의지 과소평가하면 안돼\"\\n\\n래리 커들...</td>\n",
       "      <td>\"자본 통제 계획 없어…외국인 직접투자 유치에 집중할 것\"\\n\\n(모스크바=연합뉴스...</td>\n",
       "      <td>中증시·위안화 급락, 경기 둔화 가시화…대미 보복 카드는 소진\\n\\n베이다이허 회의...</td>\n",
       "      <td>무역전쟁 완화 계기 주목…160억달러 규모 관세 발효 앞두고 대화 재개\\n\\n중국,...</td>\n",
       "      <td>\"관세 둘러싼 불안 타당하지만 자유 무역하려면 공정해야\"\\n【베드민스터 ( 미 뉴저...</td>\n",
       "      <td>트럼프, 백악관서 20분 즉흥 인터뷰에서 밝혀\\n【유티카(미 뉴욕주)=AP/뉴시스】...</td>\n",
       "      <td>\"경쟁은 이제 국내에서만\"…WSJ, 일부 과장논란 지적\\n\\n러스트벨트의 제철소 방...</td>\n",
       "      <td>양국 경제·무역 문제 논의 예정\\n© News1 방은영 디자이너\\n\\n(서울=뉴스1...</td>\n",
       "      <td>[아시아경제 나주석 기자] 신흥국 경제를 뒤흔들었던 터키 리라화 폭락사태가 소강 국...</td>\n",
       "      <td>sophis731@newsis.com\\n\\n</td>\n",
       "      <td>인민일보 \"미국 무역정책 입안자 귀 먹은 거 같다\" 비난\\n\\n충량 중국 국가발전개...</td>\n",
       "      <td>왕셔우원(王受文) 중국 상무부 부부장 [연합뉴스 자료사진]\\n\\n\\n(상하이=연합뉴...</td>\n",
       "      <td>SCMP 갈무리\\n\\n(서울=뉴스1) 박형기 기자 = 미중 무역전쟁으로 중국 경제 ...</td>\n",
       "      <td>△레제프 타이이프 에르도안(왼쪽) 터키 대통령과 타밈 빈 하마드 알사니 카타르 국왕...</td>\n",
       "      <td>외환거래 추가 규제·카타르 투자 약속에 리라화 가치 6%↑\\n\\n터키, 보복관세 부...</td>\n",
       "    </tr>\n",
       "    <tr>\n",
       "      <th>8</th>\n",
       "      <td>\"브런슨 목사 부당 처우 잊지 않을 것…터키 보복관세 유감\"\\n\\n세라 샌더스 미국...</td>\n",
       "      <td>터키, IMF 외 지원 받을 곳 없지만\\n이사국 미국의 구조조정 요구 걱정\\n국민에...</td>\n",
       "      <td>외환스와프 등 규제·가계 소비도 억제…\"미와 긴장 완화가 근본 대책\" 지적도\\n\\n...</td>\n",
       "      <td>외환스와프 등 규제·가계 소비도 억제…\"미와 긴장 완화가 근본 대책\" 지적도\\n\\n...</td>\n",
       "      <td>대변인 \"미국과 불화 해결되길 바라지만 미, 터키 사법부 간섭시도 중단해야\"\\n\\n...</td>\n",
       "      <td>터키가 미국산 제품에 고율의 보복 관세를 부과했다. 터키에 구금된 미국인 목사의 신...</td>\n",
       "      <td>[머니투데이 김영선 기자, 뉴욕(미국)=송정렬 특파원] [美제품 불매운동·추가 관세...</td>\n",
       "      <td>[한겨레] 15일 관보 통해 자동차·주류·담배 등에 보복 관세 부과\\n\\n부통령 트...</td>\n",
       "      <td>리라화 폭락 촉발한 철강·알루미늄 관세에 '이에는 이' 보복\\n\\n양국갈등 악화에 ...</td>\n",
       "      <td>\"美 '경제 공격'에 따른 보복 조치\"\\n레제프 타이이프 에르도안 터키 대통령 © ...</td>\n",
       "      <td>[이슈톡톡] 터키 리라화 폭락\\n폭락한 터키 리라화. 출처=연합\\n터키 리라화의 폭...</td>\n",
       "      <td>\"美 조치, 중국의 합법적인 권익 해쳤고, WTO 권위와 존엄성에도 악영향\"\\n\\n...</td>\n",
       "      <td>[이미지출처=AP연합뉴스]\\n\\n\\n[아시아경제 뉴욕 김은별 특파원] 레제프 타이이...</td>\n",
       "      <td>볼턴 “브런슨 목사 석방 전 터키와 협상 없다”\\n[서울신문]\\n경제 제재에 고위급...</td>\n",
       "      <td>터키 리라화 가치 올 들어 5분의1로 뚝\\n[서울신문]\\n아르헨 페소화·브라질 헤알...</td>\n",
       "      <td>\"자극적인 게시글로 경제 안보 위협\"\\n【이스탄불=AP/뉴시스】 13일 터키 이스탄...</td>\n",
       "      <td>국내서 1조 팔려나간 신흥국 채권 '발등의 불'… 아르헨 국채는 -40%\\n\\n\\n...</td>\n",
       "      <td>리라화 폭락으로 세계 금융시장 요동\\nIMF 구제금융 가능성 제기되지만\\n터키 \"정...</td>\n",
       "      <td>구제금융 500억 달러 받고도 휘청\\n빚 많은 이탈리아도 ‘약한 고리’\\n일각 “신...</td>\n",
       "      <td>20% 폭락 후 14일 오전 장에서 7% 상승\\n볼턴-주미 터키 대사 회동 소식에 ...</td>\n",
       "    </tr>\n",
       "    <tr>\n",
       "      <th>9</th>\n",
       "      <td>리라화 다소 진정 기미 속\\n아르헨ㆍ인도 등도 환율 치솟아\\n미국과 갈등 확산 불안...</td>\n",
       "      <td>아르헨 금리 5%P 인상에도 페소화 가치 2.4% 떨어져…남아공 랜드화도 2.2%↓...</td>\n",
       "      <td>볼턴 美 보좌관 \"브런슨 목사 석방 없인 협상 없어\"\\n하메네이 터키 최고지도자 \"...</td>\n",
       "      <td>[머니투데이 유희석 기자, 강기준 기자, 구유나 기자] ['외채 의존한 성장→ 대외...</td>\n",
       "      <td>페소화, 2.37% 하락해 사상 최저치 경신\\n랜드화는 장중 9.2% 폭락…위안·루...</td>\n",
       "      <td>[한겨레] 14일 국제금융센터 보고서\\n\\n“터키의 긴급 시장안정화 조처 역부족\\n...</td>\n",
       "      <td>[머니투데이 정한결 기자] [터키 최대 가상화폐 거래소 거래량 63% 증가…포브스,...</td>\n",
       "      <td>\"대내외 경제 매우 복잡하고 많은 불확실성 내포…통화정책에 시계 중요\"\\n\\n격려사...</td>\n",
       "      <td>특정상품 무관세 혜택 주는 GSP, 亞·태평양 25國대상 재검토\\n올 가을부터 동유...</td>\n",
       "      <td>[동아일보]\\nGSP 철회 경고에 금융시장 출렁\\n1976년 개도국 ‘경제개발지원’...</td>\n",
       "      <td>[앵커]\\n\\n터키발 충격은 우리나라를 포함한 아시아 금융시장 전체를 흔들었습니다....</td>\n",
       "      <td>동영상 뉴스\\n[앵커]\\n\\n터키발 불안에 우리나라를 포함한 아시아 증시는 동반 급...</td>\n",
       "      <td>동영상 뉴스\\n&lt;앵커&gt;\\n\\n오늘(13일) 하루 가장 관심이 많이 갔던 나라가 바로...</td>\n",
       "      <td>美 무역제재 발표후 리라화 폭락 / 최근 1년 리라화 40% 이상 하락 / 10년 ...</td>\n",
       "      <td>에르도안 \"환율 폭등은 터키 굴복시키려는 음모\" [AFP=연합뉴스]\\n\\n\\n(이스...</td>\n",
       "      <td>리라화 쇼크에 한국·일본·중국 등 亞 주요 증시 동반 하락\\n유로화 13개월래 최저...</td>\n",
       "      <td>인니 중앙은행 \"외환시장에 개입 중\"\\n남아공 중앙은행의 조정 예상\\n터키 리라화 ...</td>\n",
       "      <td>모든 만기 지준율 250bp 인하…비핵심 외화부채 400bp↓\\n100억 리라, 6...</td>\n",
       "      <td>[생생인터뷰] 리라화 폭락, 터키 직구 생각할 때 아냐... 장기적으로 세계 경제 ...</td>\n",
       "      <td>양적완화로 풀린 유동성 잔치 속\\n중국 기업ㆍ지방정부 빚 늘려와\\nFed 금리 인상...</td>\n",
       "    </tr>\n",
       "    <tr>\n",
       "      <th>10</th>\n",
       "      <td>美, 몰아붙이다 內傷 中, 본전도 못 찾을라\\n\\n\\n도널드 트럼프 미국 행정부가 ...</td>\n",
       "      <td>무역전쟁 격화 와중에 美 CEO들과 만찬서 중국문제 성토\\n\"일대일로는 모욕적\"… ...</td>\n",
       "      <td>도널드 트럼프 미국 대통령(왼쪽)과 시진핑 중국 국가주석. ⓒ데일리안\\n\\n지난 5...</td>\n",
       "      <td>[머니투데이 유희석 기자] [中, 미국산 LNG·LPG 관세 부과 포함…겨울철 국제...</td>\n",
       "      <td>(서울=연합뉴스) 진병태 기자 = 중국은 미국과 무역전쟁으로 미국산 대두에 고율의 ...</td>\n",
       "      <td>소비자물가 2.1%↑·생산자물가 4.6%↑\\n\\n(서울·상하이=연합뉴스) 김지연 기...</td>\n",
       "      <td>(서울=연합뉴스) 김지연 기자 = 중국의 7월 생산자물가지수(PPI)가 지난해 같은...</td>\n",
       "      <td>/사진=뉴시스\\n\\n미국이 추가로 160억달러(약 17조9000억원)의 중국 제품에...</td>\n",
       "      <td>매년 여름 중국 공산당 지도부의 비밀회의가 열리는 베이다허 전경 - SCMP 갈무리...</td>\n",
       "      <td>[아시아경제 베이징 박선미 특파원] 미국과 중국이 지난달 6일 각각 340억달러 규...</td>\n",
       "      <td>시진핑 주석 \"애국정신 새시대 투쟁가치로 추구해야\", 관영매체들 애국심 고취 사설 ...</td>\n",
       "      <td>7월 흑자 280억5천만달러, 전달보다 32% 감소\\n\\n(서울·상하이=연합뉴스) ...</td>\n",
       "      <td>미중 무역전쟁 (PG)\\n\\n\\n美무역대표부, 340억달러 이은 2단계 조치 발표\\...</td>\n",
       "      <td>부품·원재료 가격 오르지만 소비자가 올리긴 어려워\\n직원 해고, 투자 계획 취소, ...</td>\n",
       "      <td>중국, 위안화 절상 대응…달러당 6위안대 지키기 '안간힘'\\n\\n미국-중국 관세폭탄...</td>\n",
       "      <td>\"美경제 믿기지 않는 새로운 경지로 이끌어\" 자화자찬\\n\\n(서울=연합뉴스) 권혜진...</td>\n",
       "      <td>[그래픽] 미국, 160억달러 규모 중국 제품 23일부터 관세부과\\n\\n\\n美무역대...</td>\n",
       "      <td>미중 무역 충돌 (PG)\\n\\n\\n미무역대표부, 340억달러 이은 2단계조치 발표…...</td>\n",
       "      <td>미중 무역전쟁 (PG)\\n\\n\\n\\n\\n(뉴욕=연합뉴스) 이귀원 특파원 = 미국무역...</td>\n",
       "      <td>(도쿄=연합뉴스) 김병규 특파원 = 지난 6월 일본 근로자의 평균 명목임금이 21년...</td>\n",
       "    </tr>\n",
       "    <tr>\n",
       "      <th>11</th>\n",
       "      <td>6월 실질임금 2.8% 증가\\n소비지출은 5개월째 감소\\n모든 세대가 긴축에 익숙\\...</td>\n",
       "      <td>@게티이미지뱅크\\n\\n중국이 미국에 대한 보복관세 부과대상에 액화천연가스(LNG)를...</td>\n",
       "      <td>무역협상 성과 없을 경우 9월 18일 관세 발효\\n美, 인도에 농업 분야 시장 개방...</td>\n",
       "      <td>- 베이다이허 회의 개막\\n\\n올 핵심 주제 ‘경제위기 극복’\\n\\n국가에 대한 봉...</td>\n",
       "      <td>中 관세정보사이트, 美회원 2배↑\\n\\n미국과 중국의 무역전쟁이 장기화 국면에 접어...</td>\n",
       "      <td>(상하이=연합뉴스) 정주호 특파원 = 미국과의 무역전쟁과 위안화 약세가 중국의 일반...</td>\n",
       "      <td>【서울=뉴시스】이재준 기자 = 일본 체감 경기를 보여주는 6월 실질 소비지출은 전년...</td>\n",
       "      <td>중국의 오성홍기(좌)와 미국의 성조기. © AFP=뉴스1\\n\\n(서울=뉴스1) 김정...</td>\n",
       "      <td>블룸버그통신 갈무리\\n\\n(서울=뉴스1) 박형기 기자 = 중국이 미중 무역전쟁 장기...</td>\n",
       "      <td>\"관세 덕분에 21조 달러 국가채무 축소 시작할 수 있을 것\"\\n\\n도널드 트럼프 ...</td>\n",
       "      <td>리샤오 지린대 경제원장 졸업연설문\\n중국 경제학자 시진핑 '중국 굴기' 정책 비난\\...</td>\n",
       "      <td>◆ G2 新통화전쟁 ◆\\n\\n미국과 중국 간 무역전쟁이 시작된 이후 위안화 가치가 ...</td>\n",
       "      <td>美, 경제 성장 힘입어 맹공… 中 “앉아서 안 당해”\\n[서울신문]\\n‘벼랑 끝’ ...</td>\n",
       "      <td>트럼프, 중국 보복관세 \"악랄한 시도…실패할것\"(CG)[연합뉴스TV 제공]\\n\\n\\...</td>\n",
       "      <td>(하노이=연합뉴스) 민영규 특파원 = 미국이 촉발한 무역전쟁으로 보호무역주의에 대한...</td>\n",
       "      <td>싱가포르에서 지난 2일(현지시간) 열린 중국-아세안(ASEAN·동남아시아국가연합) ...</td>\n",
       "      <td>\"상호 불신 커 타협 끌어내는 데 어려움 겪어\"\\n\\n中왕이 \"미국, 무역전쟁 목표...</td>\n",
       "      <td>\"중국, 미국과 숫자 대결 안 해…무역전쟁 더 잘할 수 있어\"\\n\\n중국, 무역전쟁...</td>\n",
       "      <td>\"최근 며칠간 고위급 레벨에서 중국과 일부 소통 있었다\"\\n\\n래리 커들로 미 백악...</td>\n",
       "      <td>중국의 석유 시추 시설. © AFP=뉴스1\\n\\n(서울=뉴스1) 김정한 기자 = 미...</td>\n",
       "    </tr>\n",
       "    <tr>\n",
       "      <th>12</th>\n",
       "      <td>하반기 경제정책 방향 확정\\n\\n(1) 유동성 충분히 공급\\n(2) 부채 축소 속도...</td>\n",
       "      <td>콜라·휴지·기저귀부터 자동차·세탁기·맥주까지 소비재 가격 일제히 급등\\n관세 부담 ...</td>\n",
       "      <td>아시아 각국 제조업 지수 일제 하락\\n© News1 김일환 디자이너\\n\\n(서울=뉴...</td>\n",
       "      <td>(도쿄=연합뉴스) 최이락 특파원 = 미국을 방문 중인 세코 히로시게(世耕弘成) 일본...</td>\n",
       "      <td>므누신-류허 물밑 접촉…협상 재개 기대감 일어\\n\\n미국, 추가 관세나 관세율 인상...</td>\n",
       "      <td>(서울=연합뉴스) 김지연 기자 = 미국 거대 기술기업들이 향후 성장에 대한 우려로 ...</td>\n",
       "      <td>소식통들 \"수일내 관보 게재될 것\"\\n【워싱턴=AP/뉴시스】도널드 트럼프 미국 대통...</td>\n",
       "      <td>[이미지출처=연합뉴스]\\n\\n\\n[아시아경제 뉴욕 김은별 특파원] 미국과 중국이 무...</td>\n",
       "      <td>美 상공회의소, 트럼프 무역전쟁 전체 손실 보상 총 43조원 필요\\n농업분야에 14...</td>\n",
       "      <td>폼페이오 \"1260억원으로 시작\"…에너지·SOC 부문 집중 투자\\n中과 갈등 빚는 ...</td>\n",
       "      <td>[ 김동욱 기자 ] 일본은행(BOJ)이 일정 범위 내에서 장기 금리 상승을 용인하기...</td>\n",
       "      <td>폼페이오 \"印·太에 1,260억 투자\"\\n\"지배 추구하는 어떤 나라에도 반대\"···...</td>\n",
       "      <td>11월 중간선거 승리 노린 트럼프\\n의회 승인없이 자본차익 감세 선언\\nNYT \"수...</td>\n",
       "      <td>(도쿄=연합뉴스) 김정선 특파원 = 구로다 하루히코(黑田東彦) 일본은행 총재는 31...</td>\n",
       "      <td>트럼프 행정부, 1억1300만 달러 인도태평양 인프라 투자 발표\\n中일대일로 견제책...</td>\n",
       "      <td>일본 취업자수 66개월째 플러스,구인배율 최고치\\n경제실적으로 무장한 아베, 적수없...</td>\n",
       "      <td>[머니투데이 권다희 기자] [장기금리 목표 유연성 부여 및 포워드가이던스 도입… 단...</td>\n",
       "      <td>아시아ㆍ태평양에 1,200억원 “착수금”\\n폼페이오 장관, 1일부터 동남아 순방\\n...</td>\n",
       "      <td>(도쿄=연합뉴스) 김정선 특파원 = 일본은행(BOJ)이 31일 금융정책 결정회의에서...</td>\n",
       "      <td>기준금리 -0.1% 동결…\"당분간 현재의 낮은 금리 수준 유지 고려\"\\n\\n(도쿄=...</td>\n",
       "    </tr>\n",
       "    <tr>\n",
       "      <th>13</th>\n",
       "      <td>(도쿄=연합뉴스) 최이락 특파원 = 일본은행은 31일 금융정책결정회의를 열고 장기금...</td>\n",
       "      <td>'단기금리 0.1%·장기금리 0% 유도' 틀은 유지하기로\\n2018년도 이래 물가상...</td>\n",
       "      <td>마이크 폼페이오 미 국무장관이 30일(현지시간) 미 상공회의소 주최로 열린 인도-태...</td>\n",
       "      <td>도널드 트럼프 미국 정부가 인도태평양 지역에 1억1300만달러 신규 투자 계획을 발...</td>\n",
       "      <td>(도쿄=연합뉴스) 최이락 김병규 특파원 = 일본은행(BOJ)은 15일 금융정책 결정...</td>\n",
       "      <td>새로운 아시아 정책 본격 가동\\n\\n사회기반시설 등 1억달러 투자\\n\\n폼페이오 “...</td>\n",
       "      <td>농가와 같은 비율로 지원할 경우…\"무역전쟁 피하는 게 최선\"\\n\\n트럼프-시진핑 미...</td>\n",
       "      <td>지난 7월 11일(현지시간) 벨기에 브뤼셀에서 개막한 나토 정상회의. 독일이 러시아...</td>\n",
       "      <td>美음료·오토바이 등 제품 가격 인상 늘어\\n\\n(서울=연합뉴스) 김지연 김윤구 기자...</td>\n",
       "      <td>2018년 상반기 세계경제동향\\n\"美 자동차 관세부과시 철강보다 훨씬 큰 타격\"\\n...</td>\n",
       "      <td>기재부 '세계경제동향'…\"상반기 세계경제 성장세 지속\"\\n\"금융 변동성 확대·무역갈...</td>\n",
       "      <td>한국·EU·일본 등 미국 자동차 관세 대응 (PG)[제작 정연주] 사진합성, 일러스...</td>\n",
       "      <td>WSJ, 다음달 1일 FOMC서 금리 동결 전망\\n【워싱턴=AP/뉴시스】제롬 파월 ...</td>\n",
       "      <td>기업활력 제고에 초점맞춰… 2분기 투자 7.3%↑, 소비 4.0%↑\\n매달 일자리 ...</td>\n",
       "      <td>무역전쟁 중인 중국, 경기 불안해지자 유동성 확대 공급\\n\\n유럽·일본·신흥국도 회...</td>\n",
       "      <td>\"美, 기업환경 개선→고용 늘고, 소득 증가→내수↑\"\\n문재인정부 1년 간, 건설투...</td>\n",
       "      <td>철강은 상반기 42.2% 소진…유정용강관은 추가 수출 어려워\\n\\n(서울=연합뉴스)...</td>\n",
       "      <td>[제공=게티이미지뱅크]\\n\\n-美관세, 자국 기업에도 ‘폭탄’\\n-비용 증가·생산시...</td>\n",
       "      <td>中 기업들 자금난 현실화, 美 트럼프 지지층인 농축산업계 타격, 극적 타결 가능성 ...</td>\n",
       "      <td>무역전쟁, EU 융커·트럼프·시진핑 (PG)[제작 정연주] 사진합성\\n\\n\\n백악관...</td>\n",
       "    </tr>\n",
       "    <tr>\n",
       "      <th>14</th>\n",
       "      <td>© News1 방은영 디자이너\\n\\n(서울=뉴스1) 양재상 기자 = 미국과 중국 대...</td>\n",
       "      <td>中총부채비율 10년새 260%로 급상승\\n[서울신문]\\n민간 빚 줄이려 대출 죄니 ...</td>\n",
       "      <td>스티븐 므누신 미국 재무장관 [AP=연합뉴스 자료사진]\\n\\n\\n스티븐 므누신 미국...</td>\n",
       "      <td>유럽중앙은행(CG) [연합뉴스TV 제공]\\n\\n\\n'연말 양적완화 종료' 입장 유지...</td>\n",
       "      <td>'내년 여름까지 현행 금리 유지' 재확인\\n\\n프랑크푸르트 ECB 본부 [EPA=연...</td>\n",
       "      <td>겅솽 중국 외교부 대변인[중국 외교부 제공]\\n\\n\\n(베이징=연합뉴스) 심재훈 특...</td>\n",
       "      <td>인민은행 금융 완화조치 잇따라\\n\\n\"위안화 약세 용인도 경기 둔화 대응 결과\"\\n...</td>\n",
       "      <td>철강 고율관세 현재형…EU의 美LNG 수입확대도 현실성 의문\\n\\nEU자동차 겨냥 ...</td>\n",
       "      <td>사진=AFP\\n[이데일리 김경민 기자] 미국과 중국의 무역전쟁 영향이 실물 경제로까...</td>\n",
       "      <td>글로벌 무역전쟁에서 미중 무역전쟁으로 압축\\n25일(현지시간) 도널드 트럼프 대통령...</td>\n",
       "      <td>미국 성조기와 유럽연합(EU) 국기. © AFP=뉴스1\\n\\n(서울=뉴스1) 김정한...</td>\n",
       "      <td>미국 트럼프-융커 EU집행위원장 무역 담판 (PG)[제작 최자윤] 사진합성, 일러스...</td>\n",
       "      <td>남아공 브릭스 정상회의 개막식서 연설\\n\\n(카이로=연합뉴스) 노재현 특파원 = 시...</td>\n",
       "      <td>남아공 브릭스 정상회의 개막식서 연설\\n\\n(카이로=연합뉴스) 노재현 특파원 = 시...</td>\n",
       "      <td>(서울=연합뉴스) 문정식 기자 = 무역전쟁의 확산과 그로 인한 피해 우려에도 올해 ...</td>\n",
       "      <td>\"중국·독일·한국 등 경상수지 과잉 흑자국가\"\\n\\n(서울=연합뉴스) 김윤구 기자 ...</td>\n",
       "      <td>【서울=뉴시스】하종민 기자 = KTB투자증권은 25일 미중 간 무역분쟁 이슈가 미국...</td>\n",
       "      <td>위안화 가치 1년만 최저 수준 추락 / 美, 환율조작국 의혹 제기 압박 / 中 “조...</td>\n",
       "      <td>왕 부주석, 중국·아프리카 민간포럼 참석…'운명공동체 구축' 강조\\n\\n남아공 방문...</td>\n",
       "      <td>트럼프-시진핑 미중 무역전쟁ㆍ무역협상 (PG)\\n\\n\\n(뉴욕=연합뉴스) 이귀원 특...</td>\n",
       "    </tr>\n",
       "    <tr>\n",
       "      <th>15</th>\n",
       "      <td>고래싸움에 새우등 터진다더니…\\n\\n【 서울·워싱턴=송경재 기자 장도선 특파원】 한...</td>\n",
       "      <td>\"중국은 경쟁적 통화 평가 절하 할 필요없어\"\\n트럼프·므누신 발언에 일일이 반박\\...</td>\n",
       "      <td>마크롱, 협상 권하는 트럼프에게 \"당신 책 읽었는데 우선 보복하라면서?\"\\n\\n(서...</td>\n",
       "      <td>\"오는 10월 중국 환율조작국 지정 가능성\" 대두\\n\\n\\n【서울=뉴시스】박상주 기...</td>\n",
       "      <td>위안화 1년만에 최저수준…'환율조작국' 지정시 전면전 가능성\\n\\nFT \"위안화, ...</td>\n",
       "      <td>글로벌 공급망 수출 의존도 높은 국가 피해\\n대만이 가장 취약...헝가리·체코·한국...</td>\n",
       "      <td>[머니투데이 강기준 기자] [BOE, 삼성이 독점하고 있는 애플 아이폰 OLED 공...</td>\n",
       "      <td>G20경제수장회의 참석 므누신, 환율전쟁 우려에는 \"아니다\" 일축\\n\\n주요 20개...</td>\n",
       "      <td>\"단기,중기 경제 하락 위험 증가\"\\n\"대화와 행동 강화 필요\"\\n\"수출에 유리하게...</td>\n",
       "      <td>[서울신문]\\n상반기 생산·수출·내수 모두 뒷걸음질\\n수입차 판매 17.9%↑… ‘...</td>\n",
       "      <td>트럼프-시진핑 미중 무역전쟁ㆍ무역협상 (PG)\\n\\n\\n(뉴욕=연합뉴스) 이귀원 특...</td>\n",
       "      <td>中의 대미흑자 사상최대 치솟자 관세 이어 환율 카드까지 꺼내\\n中, 위안화 가치 더...</td>\n",
       "      <td>[동아일보]\\n도널드 트럼프 미국 대통령이 중국과 유럽연합(EU)을 ‘환율조작국’이...</td>\n",
       "      <td>WSJ, 지난주 발표 관세목록에 1년 간 수입 안한 1000여개 제품 포함\\n【뉴욕...</td>\n",
       "      <td>[시진핑, 阿에 공 들이는 이유]\\n세네갈 시작 4개국 순방 돌입\\n미국 阿 시장 ...</td>\n",
       "      <td>현대硏 보고서…\"中 제조업 경쟁력 위축, 한국에 오히려 긍정적\"\\n\\n(CG)중국경...</td>\n",
       "      <td>위안화 가파른 약세에 트럼프 환율전쟁 시동, 자본유출 압박 커질 듯\\n\\n[CBS노...</td>\n",
       "      <td>블룸버그통신 갈무리\\n\\n(서울=뉴스1) 박형기 기자 = 도널드 트럼프 미국 대통령...</td>\n",
       "      <td>도널드 트럼프 미국 대통령이 19일(현지시간) 대기업-노동자 대표, 학생들이 참석한...</td>\n",
       "      <td>베이징 소식통 \"中, 트럼프 강경자세에 외교채널 통해 유화제스처 전달\"\\n\\n추이톈...</td>\n",
       "    </tr>\n",
       "    <tr>\n",
       "      <th>16</th>\n",
       "      <td>트럼프 대통령 이어 므누신 재무장관도 위안 약세 문제 거론\\n도널드 트럼프 미국 대...</td>\n",
       "      <td>[동아일보]\\n상무부 주최 수입차관세 공청회\\n“미국의 수입 자동차 관세 부과는 한...</td>\n",
       "      <td>“수요 감소로 일자리 62만개 줄 것”\\n상무부 주관 공청회서 입장 표명\\n드류 퍼...</td>\n",
       "      <td>중국 경제 전문가 프리처드 진단\\n트럼프 ‘첨단기술 중상주의’ 추구\\n‘중국제조 2...</td>\n",
       "      <td>(서울=연합뉴스) 김기성 기자 = 도널드 트럼프 미국 대통령은 필요하다면 미국으로 ...</td>\n",
       "      <td>금속프레스 등 제조업 추가 개방 / 내년 4월부터… 구인난 타개 기대\\n저출산·고령...</td>\n",
       "      <td>(1) 2분기 4% 성장 육박…한국은 2%대로 추락\\n(2) 실업급여 청구 48년여...</td>\n",
       "      <td>미중 무역전쟁ㆍ무역협상 (PG)\\n\\n\\n시진핑 기고문서 \"UAE와 함께 다자무역체...</td>\n",
       "      <td>‘협력’ 부품사들 적자늪서 허덕\\n\\n상반기 車생산량 7.3% 감소\\n\\n수입차 판...</td>\n",
       "      <td>AAM 등 업계대표 입장표명\\n\\n“차값 상승 따른 수요 감소로\\n\\n일자리 62만...</td>\n",
       "      <td>홍영표 등 방미 원내대표들과 면담한 자리에서 밝혀\\n\\n윌버 로스 미국 상무장관 [...</td>\n",
       "      <td>트럼프 정부 관세 중 최대 규모 될 듯\\n산업 타격·보복관세 등 광범위 후폭풍 예상...</td>\n",
       "      <td>트럼프 \"강달러 美에 불이익\"…위안화 고시환율 2년만에 최대폭 절하\\n\\n환율 변동...</td>\n",
       "      <td>‘미국을 다시 위대하게’ 모자 쓴 도널드 트럼프 미국 대통령. SCMP 캡쳐\\n\\n...</td>\n",
       "      <td>CNBC 인터뷰서 통화정책에 노골적 불만표출…\"푸틴의 '최악의 적' 될 것\"\\n\\n...</td>\n",
       "      <td>시진핑 기고문서 \"UAE와 함께 다자무역체계 수호하자\"\\n\\n中경제ㆍ외교라인 총출동...</td>\n",
       "      <td>(부산=연합뉴스) 이영희 기자 = 부산항은 절반에 가까운 환적물동량을 미국과 중국에...</td>\n",
       "      <td>도널드 트럼프(오른쪽) 미국 대통령이 18일 백악관에서 주재한 각료회의에서 마이크 ...</td>\n",
       "      <td>우리 정부·업계 \"한미FTA로 美 우려 해소…한국 제외해야\" 강조\\n\\n트럼프, 수...</td>\n",
       "      <td>\"미국 관리의 흑백 전도·적반하장 경악스럽다\"\\n\\n\\n【서울=뉴시스】문예성 기자 ...</td>\n",
       "    </tr>\n",
       "    <tr>\n",
       "      <th>17</th>\n",
       "      <td>(서울=연합뉴스) 문정식 기자= 도널드 트럼프 대통령이 전방위적인 반대 여론에도 불...</td>\n",
       "      <td>EU 집행위 사무총장 \"적 아니라 동맹이라고 설득하길\"\\n융커 \"유럽의 주장 반복해...</td>\n",
       "      <td>[머니투데이 권다희 기자] [베이지북 \"관세로 미 제조업체 가격인상 부담 커져\"…수...</td>\n",
       "      <td>美 대중 무역적자, 낮은 저축률·높은 소비성향 등이 원인\\n美의 비난 공정하지도 객...</td>\n",
       "      <td>[아시아경제 김혜원 기자, 권재희 기자] 유럽연합(EU)이 19일부터 23개 철강 ...</td>\n",
       "      <td>\"미국산 우라늄 소비 30년만에 49%에서 3%로 줄어\"\\n\\n[CBS 노컷뉴스 임...</td>\n",
       "      <td>CNBC \"무역법 232조 따라 우라늄 수입규제 가능\"\\n윌버 로스 미 상무장관. ...</td>\n",
       "      <td>국가별 물량 없이 전체 물량 소진시 관세 부과…먼저 수출할수록 유리?\\n\\n(서울=...</td>\n",
       "      <td>동영상 뉴스\\n&lt;앵커&gt;\\n\\n경제 관련 안 좋은 소식 하나 더 있습니다. 유럽연합 ...</td>\n",
       "      <td>[앵커]\\n세계 주요 국가들을 상대로 무역전쟁을 일으킨 미국이, 국내외 거센 반발에...</td>\n",
       "      <td>美상무부 \"우라늄 수입, 국가안보 침해 여부 조사\"\\n무역확장법 23조에 따라..관...</td>\n",
       "      <td>【워싱턴=AP/뉴시스】윌버 로스 미국 상무장관은 지난달 20일 상원 청문회에 출석해...</td>\n",
       "      <td>[동아일보]\\n할당 초과물량 25%관세… 韓등 타격\\n유럽연합(EU)은 19일부터 ...</td>\n",
       "      <td>윌버 로스 미국 상무장관[로이터=연합뉴스]\\n\\n\\n(워싱턴=연합뉴스) 이준서 특파...</td>\n",
       "      <td>한국도 타격\\n【브뤼셀=AP/뉴시스】 세실리아 말름스트룀 유럽연합(EU) 집행위원회...</td>\n",
       "      <td>3년 간 수입량 기반 쿼터 설정…초과량에 25% 관세\\n프랑스의 한 공장에서 근로자...</td>\n",
       "      <td>[이미지출처=로이터연합뉴스]\\n\\n\\n[아시아경제 오현길 기자] 유럽연합(EU)이 ...</td>\n",
       "      <td>1분기 이익 26% 증가와 대조\\n\\n[ 김현석 기자 ] 달러 강세가 미국 기업들의...</td>\n",
       "      <td>5월 글로벌 美국채 보유액, 446억弗 늘어 8개월새 최대↑…경기침체우려 안전자산 ...</td>\n",
       "      <td>대미관계 악화일로 속 日·中·인도 등과 자유무역협정 논의\\n\\n호주·뉴질랜드·인도네...</td>\n",
       "    </tr>\n",
       "    <tr>\n",
       "      <th>18</th>\n",
       "      <td>[머니투데이 유희석 기자] [美 보호주의에 반발, 주요 무역협정 급물살…TPP·RC...</td>\n",
       "      <td>\"관세 효과 대부분 소비자에게 전가\"\\n\"가격 오르면 판매 200만대 감소할수도\"\\...</td>\n",
       "      <td>232조 적용 美 공청회 하루앞\\n\\n통상차관보 등 4명 대응팀 출국\\n\\n韓 관세...</td>\n",
       "      <td>- 17일 日-EU EPA 서명…2019년 발효\\n- 17~19일, 美빠진 TPP1...</td>\n",
       "      <td>\"日-EU 자유무역협정 체결은 美보호주의 향한 강력한 신호\"\\n\\n[제작 이태호] ...</td>\n",
       "      <td>EU 집행위원장, 미국과 자동차 관세 인하 협상 모색\\n\\n(브뤼셀·서울=연합뉴스)...</td>\n",
       "      <td>6월 산업생산, 전년 대비 3.8% 증가\\n\\n\\n【서울=뉴시스】박상주 기자 = 제...</td>\n",
       "      <td>\"향후 수년간 고용시장 견조, 인플레이션 2% 근처 머물 것\"\\n\\n\"장기간 고율관...</td>\n",
       "      <td>세계 GDP의 30% 차지 최대급 자유무역지대 탄생…내년 3월 발효 목표\\n\\n한국...</td>\n",
       "      <td>日-EU 경제동반자협정 서명\\n\\n미국과 중국 간 무역전쟁이 지속되는 가운데 일본과...</td>\n",
       "      <td>'미ㆍ중 통상전쟁 전망은?'(서울=연합뉴스) 강민지 기자 = 17일 오후 서울 영등...</td>\n",
       "      <td>중국 외교부 화춘잉 대변인이 정례 기자회견에서 기자들의 질의에 응답하고 있다.\\n\\...</td>\n",
       "      <td>중국 상무부 발표\\n© News1 김일환 디자이너\\n\\n(서울=뉴스1) 박승희 기자...</td>\n",
       "      <td>[한겨레] 연례 중-EU 정상회담 베이징에서 열려\\n\\n3년만에 무역·안보 등 다룬...</td>\n",
       "      <td>분쟁 확대 원치 않은데다 中폐쇄적 무역·투자 불만\\n중국과 마찬가지로 미국과 무역전...</td>\n",
       "      <td>투스크 의장 \"힘합쳐 무역분쟁 진화해야\"\\nEESC 위원장 \"미중이 의견 차 조정해...</td>\n",
       "      <td>[아시아경제 베이징 박선미 특파원]중국이 16일부터 한국과 일본산 합성고무에 반덤핑...</td>\n",
       "      <td>금호석유화학 12% 등 한국 업체 최대 37.3% 보증금 내야\\n\\n중국, 한국ㆍ일...</td>\n",
       "      <td>브렉시트 관련해 메이 총리에 \"EU 고소하라\" 조언\\n정작 기자회견선 \"물러나지 말...</td>\n",
       "      <td>中, 지난해 모바일 결제 1경6500조원… 5년새 244배 폭증\\n돈 흐름 제어하는...</td>\n",
       "    </tr>\n",
       "    <tr>\n",
       "      <th>19</th>\n",
       "      <td>저금리 여파로 부채비율 급등.. 1분기 247조달러 역대 최대\\n미중 무역전쟁 인플...</td>\n",
       "      <td>中 비관세조치 동원 등 맞대응\\n\\n美관광 꺼리고 불매운동 조짐\\n\\n王, 두문불출...</td>\n",
       "      <td>구속력 없지만 강경반대 표명\\n\\n商議도 “물가상승 불러” 비판\\n\\n다우·유럽증시...</td>\n",
       "      <td>위안화 절하되면 美관세 상쇄 효과도\\n\\n전문가들 \"중국 弱위안 당분간 방관할 것\"...</td>\n",
       "      <td>보복에 재보복… G2 무역전쟁 전면전\\n한 남성이 11일(현지시간) 홍콩 증권거래소...</td>\n",
       "      <td>美, 中에 추가 관세 폭탄 안팎\\n[서울신문]\\n첨단제품에 필요한 희토류 포함\\n中...</td>\n",
       "      <td>사상 유례없는 무역 충돌에 수출로 먹고사는 한국 '충격'… 기업들 \"답이 안나온다\"...</td>\n",
       "      <td>중국産 절반에 10% 추가 관세\\n\\n\\n\\n미국이 2000억달러(약 223조원) ...</td>\n",
       "      <td>[동아일보]\\n전면전 치닫는 무역전쟁\\n의류-생선 등 6031개 품목 예고… 中첨단...</td>\n",
       "      <td>미국, 소비재 등 6031개 품목 부과\\n1차 56조 합해 중국 대미 수출 절반\\n...</td>\n",
       "      <td>\"중국에 고통 준다더니 미국 가계가 벌 받아\"\\n\\n\"출구 찾기 어려운 수준 격화 ...</td>\n",
       "      <td>(제네바=연합뉴스) 이광철 특파원 = 중국에 무역전쟁을 선포한 미국이 세계무역기구(...</td>\n",
       "      <td>ㆍ환율 오름세 외환시장 ‘출렁’\\nㆍ주력 전기·전자로 ‘불똥’ 우려\\n\\n미·중 무...</td>\n",
       "      <td>[앵커]\\n\\n예상을 훌쩍 뛰어넘는 미국의 추가 관세부과 조치에 중국 정부는 당황하...</td>\n",
       "      <td>동영상 뉴스\\n&lt;앵커&gt;\\n\\n이럴 때 수출이라도 잘 돼야 하는데 나라 밖 상황도 좋...</td>\n",
       "      <td>동영상 뉴스\\n[앵커]\\n\\n미·중 무역전쟁은 확전으로 가고 있습니다. 미국이 관세...</td>\n",
       "      <td>美, 2000억弗 중국産 10% 관세 방침 / 9월부터 시행… 양국 강경대치 지속 ...</td>\n",
       "      <td>할리데이비슨·테슬라 등 美제조업 ‘엑소더스’ 가속화\\nBMW, 中생산 확대·美생산 ...</td>\n",
       "      <td>◆ G2 무역전쟁 전면전 ◆\\n\\n미국이 10일 2000억달러 규모의 중국산 수입품...</td>\n",
       "      <td>6000여개 품목 관세 목록에…직전 조치의 6배 규모\\n핸드백·디카·냉장고·샴푸 등...</td>\n",
       "    </tr>\n",
       "    <tr>\n",
       "      <th>20</th>\n",
       "      <td>[머니투데이 세종=정혜윤 기자] [산업부, 산업연구원·업종별 협단체와 추가 관세 부...</td>\n",
       "      <td>[이미지출처=연합뉴스]\\n\\n[아시아경제 이지은 기자]미국과 중국의 무역전쟁이 장기...</td>\n",
       "      <td>부동산·특별자산·혼합자산 펀드↑\\n주식형·파생상품 펀드·MMF↓\\n【서울=뉴시스】 ...</td>\n",
       "      <td>[머니투데이 유희석 기자, 권다희 기자, 베이징(중국)=진상현 특파원] [트럼프, ...</td>\n",
       "      <td>[이미지출처=연합뉴스]\\n\\n\\n[아시아경제 베이징 박선미 특파원] 중국 상무부는 ...</td>\n",
       "      <td>美中 예상 범위 내에서 갈등…수출주보다 내수주 중심 대응해야\\n美 11월 중간선거까...</td>\n",
       "      <td>[연합뉴스TV 제공]\\n\\n\\n中상무부, 구체적인 보복 조치 발표 안 해…소식통 \"...</td>\n",
       "      <td>[연합뉴스TV 제공]\\n\\n\\n(베이징·서울=연합뉴스) 김진방 특파원 김지연 기자 ...</td>\n",
       "      <td>[연합뉴스TV 제공]\\n\\n\\n</td>\n",
       "      <td>【서울=뉴시스】 안호균 기자 = 미국이 중국에 대한 2000억 달러(223조 400...</td>\n",
       "      <td>© News1 김일환 디자이너\\n\\n(서울=뉴스1) 박형기 기자 = 도널드 트럼프 ...</td>\n",
       "      <td>‘올 것 왔다’ 충격 속 대응 분주\\n\\n관세보복여력 800억달러 불과\\n\\n‘미국...</td>\n",
       "      <td>美 예고대로 0.2조 달러 관세부과…亞 증시 혼란\\n삼성증권 \"9월까지 공청회 절차...</td>\n",
       "      <td>\"중미관계를 위한 옳은 선택은 협력 뿐\"\\n© News1 방은영 디자이너\\n\\n(서...</td>\n",
       "      <td>【서울=뉴시스】안지혜 기자 = 도널드 트럼프 미 행정부가 10일(현지시간) 2000...</td>\n",
       "      <td>수출액 130조…고율관세 사정권\\n아르헨티나 주가 42.1%나 폭락\\n\\n세계 최대...</td>\n",
       "      <td>중국 상하이의 양산 심수항에 컨테이너들이 쌓여 있는 모습［로이터연합뉴스］\\n\\n韓,...</td>\n",
       "      <td>\"중국에 고통 준다더니 미국 가계가 벌 받아\"\\n\\n미중 무역전쟁, 세계 경제 위협...</td>\n",
       "      <td>\"미국 소비자와 근로자 피해 입기 전 불필요한 갈등고조 늦추라\"\\n\"미국에 부메랑으...</td>\n",
       "      <td>2천억달러 규모 6천31개 中수입품에 10% 관세 부과 예정\\n\\n무역전쟁 확전으로...</td>\n",
       "    </tr>\n",
       "    <tr>\n",
       "      <th>21</th>\n",
       "      <td>미국, 2천억달러 중국산 제품에 10% 추가 관세 부과 (CG)[연합뉴스TV 제공]...</td>\n",
       "      <td>미국, 2천억달러 중국산 제품에 10% 추가 관세 부과 (CG)[연합뉴스TV 제공]...</td>\n",
       "      <td>미국, 2천억달러 중국산 제품에 추가관세 부과 발표 (PG)사진합성 (사진출처 EP...</td>\n",
       "      <td>부처·무역계 관계자 첫 합동회의\\n[서울신문]\\n‘美 자동차 232조 간담회’ 개최...</td>\n",
       "      <td>[동아일보]\\n對美 협상 나섰다가 실패땐 시진핑에 부담… 투입 꺼리는듯\\n미중 갈등...</td>\n",
       "      <td>(제네바=연합뉴스) 이광철 특파원 = 스위스도 10일(현지시간) 철강, 알루미늄에 ...</td>\n",
       "      <td>【서울=뉴시스】이현주 기자 = 중국 내 테슬라 구매자들이 최근 미국과 중국 간 무역...</td>\n",
       "      <td>(도쿄=연합뉴스) 김정선 특파원 = 일본 정부는 2025년도에도 기초재정수지가 적자...</td>\n",
       "      <td>메르켈 \"중국 개방도 높아졌다\" 평가\\n리커창 \"獨기업에 기술이전 종용 않을것\"\\n...</td>\n",
       "      <td>중국 산둥성 취푸의 공장에서 미국산 대두로 만든 콩기름 제품이 나오고 있다. ［로이...</td>\n",
       "      <td>(서울=연합뉴스) 신유리 기자 = 바다를 건너 중국 항구에 도착한 미국산 수입품에 ...</td>\n",
       "      <td>리커창, 유럽 농산물 수입 모색…\"늘어난 세수로 기업손실 메울 것\"\\n\\n(베이징·...</td>\n",
       "      <td>미중 무역전쟁 (PG)\\n\\n\\n\"중국이 보이지 않는 손\"…'배후론' 제기하며 중국...</td>\n",
       "      <td>양국 ‘보복’ 악순환 우려 / 美, 340억弗 이어 160억弗 관세 / 中도 보복 ...</td>\n",
       "      <td>미국과 무역전쟁을 치르고 있는 중국이 대규모 수입 확대를 약속하며 화해의 손짓을 보...</td>\n",
       "      <td>- 최근 일주일 달러화 1.3% 급락\\n- 해답은 유럽…정치·경제 회복 덕\\n- 유...</td>\n",
       "      <td>[머니투데이 베이징(중국)=진상현 특파원] [미국의 공세에 대응하되 확전은 최대한 ...</td>\n",
       "      <td>[머니투데이 권다희 기자] [무역전쟁으로 경기 둔화 우려 고조…부채 감축과 경기 부...</td>\n",
       "      <td>[머니투데이 유희석 기자] [미국 농산물 통관 지연 등 비관세 조치…\"美 기업에 모...</td>\n",
       "      <td>\"올해, 작년보다 500억 달러 더 소비할 것\"\\n\\n\\n【서울=뉴시스】이현주 기자...</td>\n",
       "    </tr>\n",
       "    <tr>\n",
       "      <th>22</th>\n",
       "      <td>(서울=연합뉴스) 신유리 기자 = 중국의 식료품 유통 업체인 쑤저우화둥식품은 미국에...</td>\n",
       "      <td>구로다 하루히코(黑田東彦) 일본은행 총재\\n\\n\\n【서울=뉴시스】이재준 기자 = 구...</td>\n",
       "      <td>3%대 성장 물거품 가능성…주변국 협력, 공동대처 시급\\n“단기적으로 영향 미미하다...</td>\n",
       "      <td>정부 “부정적 전망 크지 않을 것”… 연구기관들 피해 예상액 제각각\\n\\n\\n미국과...</td>\n",
       "      <td>수입차에 25% 고율관세를 부과하는 내용의 ‘무역확장법 232조’를 적용하려는 미국...</td>\n",
       "      <td>미·중 무역전쟁 전망은…\\n\\n\\n美, 양호한 경제지표 믿고 中 전면 개방까지 밀어...</td>\n",
       "      <td>미·중 상대 아픈곳 공략 양국 정상에도 치명타 전망\\n화물 트럭들이 지난 5일(현지...</td>\n",
       "      <td>美·中 모두 ‘관세 폭탄’ 치명상… 그럼에도 패권전쟁 승자는 있다?\\n[서울신문]\\...</td>\n",
       "      <td>美와 통상전쟁 선택한 중국\\n\"중국 굴기 역사적 기회될 것\"\\n\\n통상전쟁 본질은 ...</td>\n",
       "      <td>[ 김현석 기자 ] 미국 경기 호황 덕에 도널드 트럼프 대통령이 대(對)중국 통상전...</td>\n",
       "      <td>미·중 각각 340억弗 물품에 관세 물리며 전쟁 포문 열어\\n車로 확전땐 세계경제 ...</td>\n",
       "      <td>제조업 시황전망BSI 96\\n설비투자·고용도 부진\\n국내 기업들이 올해 3.4분기 ...</td>\n",
       "      <td>전문가 5인의 긴급 제언\\n양평섭 대외경제硏 소장 \"EU도 보복관세 참전, 보호무역...</td>\n",
       "      <td>美 관세 부과한 6일, 시장은 안도감\\n\"미·중 갈등, 패권싸움 확전 가능성\"\\n\"...</td>\n",
       "      <td>- 전문가들 \"약한 모습 감출 것\"..''제2의 대공황'' 언급\\n- 美中 칼날, ...</td>\n",
       "      <td>- 美中전면전 이어 유럽연합과 러시아까지 가세\\n- WT0제소 줄이어..수입車 관세...</td>\n",
       "      <td>'일대일로 프로젝트' 활용키로…대미 곡물 의존도 커 효과 미지수\\n\\n미중 무역전쟁...</td>\n",
       "      <td>[한겨레] 미-중 당국 개전 이후 언급 삼가며 관망세 전환\\n\\n미국은 고율 관세 ...</td>\n",
       "      <td>\"상대방이 관세 부과하면 중국도 상응한 반격 나설 것\"\\n\\n中, 무역전쟁 발발에 ...</td>\n",
       "      <td>[머니투데이 베이징(중국)=진상현 특파원] [힘 앞서는 미국, 강공 위주 공세…중국...</td>\n",
       "    </tr>\n",
       "    <tr>\n",
       "      <th>23</th>\n",
       "      <td>미중 무역전쟁, 세계 경제 위협 (PG)[제작 정연주] 일러스트\\n\\n\\n(베이징=...</td>\n",
       "      <td>\"상대방이 관세 부과하면 중국도 상응한 반격 나설 것\"\\n\\n中, 무역전쟁 발발에 ...</td>\n",
       "      <td>최대 25% 관세에 年84만 대 미국 수출하는 한국 車업계 비상\\n美·中 '무역전쟁...</td>\n",
       "      <td>한국, 가장 영향받는 국가 10개국 중 6위 차지\\n中에 수출 의존…중간재 수출 타...</td>\n",
       "      <td>【지난=신화/뉴시스】1일 중국 국가통계국은 11월 제조업 구매관리자지수(PMI)를 ...</td>\n",
       "      <td>동영상 뉴스\\n[앵커]\\n\\n일각에서는 이런 무역전쟁이 2008년 글로벌 금융위기 ...</td>\n",
       "      <td>동영상 뉴스\\n&lt;앵커&gt;\\n\\n미국이 쏘아올린 철강 관세 조치가 세계 무역전쟁으로 번...</td>\n",
       "      <td>동영상 뉴스\\n[앵커]\\n\\n미국과 중국의 무역전쟁이 전세계로 번지고 있습니다. 유...</td>\n",
       "      <td>동영상 뉴스\\n[뉴스데스크]◀ 앵커</td>\n",
       "      <td>[이미지출처=연합뉴스]\\n[아시아경제 베이징 박선미 특파원] 미중 무역전쟁 발발이 ...</td>\n",
       "      <td>미국과 중국이 끝내 무역 전쟁의 방아쇠를 당겼다.\\n\\n글로벌 시장 전문가들은 세계...</td>\n",
       "      <td>\"고집 피우면 타인과 자신 모두에게 피해\"\\n\\n\\n【서울=뉴시스】문예성 기자 = ...</td>\n",
       "      <td>인민일보 \"중국, 미국의 극본대로 움직이지 않아…무역전쟁 전 세계에 피해\"\\n\\n\\...</td>\n",
       "      <td>WSJ, 무디스애널리틱스 분석결과 전해\\n이익 보는 지역은 별로 없고 타격 범위 커...</td>\n",
       "      <td>중국 상하이 바오샨 지구 수출항. © AFP=뉴스1\\n\\n(서울=뉴스1) 김정한 기...</td>\n",
       "      <td>【서울=뉴시스】안지혜 기자 = 도널드 트럼프 미국 행정부가 6일 340억 달러(약 ...</td>\n",
       "      <td>\"영화 수입쿼터, 중국의 가장 손쉬운 보복 무기 될수도\"\\n\\n(로스앤젤레스=연합뉴...</td>\n",
       "      <td>확전으로 치닫는 트럼프·시진핑\\n트럼프 “5000억 달러에 추가 관세”\\n11월 선...</td>\n",
       "      <td>중국산 제품 관세 전면 확대되면 소비재 가격 20% 이상 올라가\\n\\n(로스앤젤레스...</td>\n",
       "      <td>····\\nFILE PHOTO: Soybeans are seen in a field...</td>\n",
       "    </tr>\n",
       "    <tr>\n",
       "      <th>24</th>\n",
       "      <td>미국이 관세부과 액수 늘려 동일 규모 보복 불가능해 질 경우 대비해 다양한 질적 보...</td>\n",
       "      <td>\"일방적인 압박 시도는 헛된 것…중국 필요한 반격할 것\"\\n\\n트럼프, 대중 고율관...</td>\n",
       "      <td>루캉 중국 외교부 대변인 [중국 외교부 제공=연합뉴스 자료사진]\\n\\n\\n(베이징=...</td>\n",
       "      <td>WP 칼럼…중국보다 미국·동맹국 기업 피해\\n중국, 피해자 자처하며 반미 공동전선 ...</td>\n",
       "      <td>美, 340억달러 산업부품·기계·車 등 중국제품에 25% 관세\\n\\n中 \"핵심이익 ...</td>\n",
       "      <td>산업부 \"수출 영향 제한적\"…전문가 \"무역전쟁 확산시 더 큰 피해\"\\n\\n(서울=연...</td>\n",
       "      <td>(서울=연합뉴스) 신유리 기자 = 미국이 현지 시간으로 6일을 기해 대중 관세 폭탄...</td>\n",
       "      <td>미중 무역전쟁 (PG)\\n\\n\\n(서울=연합뉴스) 최윤정 기자 = 세계 최대 강대국...</td>\n",
       "      <td>미국의 연간 대중 수출규모 1299억달러에 불과\\n© News1 김일환 디자이너\\n...</td>\n",
       "      <td>(도쿄=연합뉴스) 최이락 특파원 = 일본 정부는 6일 미국이 중국산 수입품에 대한 ...</td>\n",
       "      <td>미중 무역전쟁 (PG)\\n\\n\\n미중 경제패권 다툼에 세계 경제둔화 가능성…성장률 ...</td>\n",
       "      <td>[머니투데이 권다희 기자, 구유나 기자] [中 즉각 반발 \"역습 강요받은 상황\"… ...</td>\n",
       "      <td>가오펑 중국 상무부 대변인 [AP=연합뉴스 자료사진]\\n\\n\\n(베이징=연합뉴스) ...</td>\n",
       "      <td>미국이 6일(현지시간) 중국에서 수입하는 340억 달러(약 38조원) 규모의 제품에...</td>\n",
       "      <td>美, 中제품에 고율관세 발효(베이징 로이터=연합뉴스) 미국은 미 동부시간으로 6일 ...</td>\n",
       "      <td>© News1 김일환 디자이너\\n\\n(서울=뉴스1) 박형기 기자 = 6일 0시(한국...</td>\n",
       "      <td>中, 같은 시간 동일한 규모 보복관세 효력 발휘\\n© News1 방은영 디자이너\\n...</td>\n",
       "      <td>미국이 중국에서 수입하는 340억 달러, 약 38조 원 규모의 제품에 대해 25%의...</td>\n",
       "      <td>미국-중국 관세폭탄 대결 임박 (PG)\\n\\n\\n</td>\n",
       "      <td>미중 무역전쟁(PG)\\n\\n\\n(서울=연합뉴스) 김정은 기자 = 미국 도널드 트럼프...</td>\n",
       "    </tr>\n",
       "    <tr>\n",
       "      <th>25</th>\n",
       "      <td>미, EU·캐나다·멕시코에 '국가안보' 내세워 철강관세 강행\\n\\nEU, 미국 겨냥...</td>\n",
       "      <td>아이폰(CG) [연합뉴스TV 제공]\\n\\n\\n첨단 IT 제품부터 가전 등 소비재에 ...</td>\n",
       "      <td>(서울=연합뉴스) 김지연 기자 = 미국이 6일(현지시간) 중국에서 수입하는 340억...</td>\n",
       "      <td>(서울=뉴스1) 김윤경 기자 = s914@news1.kr\\n\\n</td>\n",
       "      <td>트럼프, 중국산 제품에 고율관세 부과 (PG)[제작 정연주] 사진합성 (사진출처 E...</td>\n",
       "      <td>美, 160억 달러 규모 추가 조치 곧 발표\\n美, 9월 2000억 달러 관세 폭탄...</td>\n",
       "      <td>대두·車 등 동등 규모 관세\\n\\n트럼프에 정치적 타격 노려\\n\\n人民은행, 위안화...</td>\n",
       "      <td>- 창 휘두르는 美\\n\\n340억달러 대중관세 강행\\n\\n적자심화 첨단제품에 집중\\...</td>\n",
       "      <td>로이터, 충격 클 10개국 선정\\n\\n정부 “피해 미미할것”과 대비\\n\\n미국의 중...</td>\n",
       "      <td>美 관세부과 피해 우려에도 마이크론 반도체 잠정 판매금지 결정\\n국영 메모리 기업에...</td>\n",
       "      <td>\"첨단기술 발달 양보 못해, 美 갈등확대 결정대로 하라\"\\n\\n(선양=연합뉴스) 홍...</td>\n",
       "      <td>[머니투데이 김영선 기자] ['가격 올리고 성장률 낮추는' 무역갈등의 특수성…\\nN...</td>\n",
       "      <td>미중 경제패권 다툼에 세계 경제둔화 가능성···성장률 깎이고 수요 약화\\n트럼프 ‘...</td>\n",
       "      <td>궈수칭 중국 은보감위 주석[앙시망 캡처]\\n\\n\\n(상하이·베이징=연합뉴스) 정주호...</td>\n",
       "      <td>백운규 산업통상자원부 장관\\n\\n\\n[아시아경제 이광호 기자]\"미국과 중국 간 시행...</td>\n",
       "      <td>(세종=연합뉴스) 민경락 기자 = 정부는 미·중 무역분쟁이 우리 수출을 제약하는 요...</td>\n",
       "      <td>트럼프-시진핑 미중 무역전쟁 (PG)\\n\\n\\n미국과 같은 340억달러 어치 제품에...</td>\n",
       "      <td>명분은 무역적자·속내는 'G2 패권다툼'…무역갈등 우려 증폭\\n\\n소비대국 vs 생...</td>\n",
       "      <td>CNBC 갈무리\\n\\n(서울=뉴스1) 박형기 기자 = 도널드 트럼프 미국 행정부의 ...</td>\n",
       "      <td>\"나머지 160억달러어치 2주내 부과\"\\n\\n미국발 세계 무역전쟁·관세폭탄 (PG)...</td>\n",
       "    </tr>\n",
       "    <tr>\n",
       "      <th>26</th>\n",
       "      <td>6월 FOMC 의사록 공개…'무역 전쟁' 부정적 영향도 우려\\n\\n\\n\\n(뉴욕=연...</td>\n",
       "      <td>중국과 미국. © AFP=뉴스1\\n\\n(서울=뉴스1) 김정한 기자 = 미국이 중국에...</td>\n",
       "      <td>‘25％ 폭탄 돌리기’… 6일 340억 달러 제품에 관세 동시 발효\\n\\n\\n세계 ...</td>\n",
       "      <td>‘아메리카 퍼스트’ vs ‘차이나 파워’ 정면충돌\\n\\n\\n미국과 중국의 관세전쟁이...</td>\n",
       "      <td>블룸버그 \"中대응은 같은 규모·강도…시장은 이미 약세장\"\\n\\n中당국 \"펀더멘털 견...</td>\n",
       "      <td>위안화 가치 한 달새 3.3% 급락\\n“관세 먼저 안 매겨” 선제공격 자제\\n유럽·...</td>\n",
       "      <td>동영상 뉴스\\n[뉴스데스크]◀ 앵커</td>\n",
       "      <td>트럼프 말폭탄 석 달 만에 돌입\\n중국도 즉각 보복관세 예고\\n\\nWTO 다자무역체...</td>\n",
       "      <td>신임 CEO, 독일 사업체 책임자 지낸 쉬쯔양\\n재무·기술·인사 등 최고책임자도 교...</td>\n",
       "      <td>글로벌 교역 이미 냉각...중국 결사 항전땐 '치킨게임'\\n올해 들어 신규 수출 P...</td>\n",
       "      <td>美·中 `340억弗 관세폭탄` 맞불\\n\\n미국과 중국이 6일 각각 상대방을 향해 3...</td>\n",
       "      <td>미중 무역전쟁 (PG)\\n\\n\\n中상무부 \"중국, 먼저 총 쏘지 않을 것…美 관세 ...</td>\n",
       "      <td>트럼프-시진핑 미중 무역전쟁 임박 (PG)[제작 최자윤] 사진합성, 일러스트\\n\\n...</td>\n",
       "      <td>\"싸우고 싶지 않지만 국민을 위해 반격\"\\n美 자동차 관세 부과 반대 성명도 발표\\...</td>\n",
       "      <td>(서울=뉴스1) 박형기 기자 = 미중 무역분쟁이 격화되자 베트남 직접 투자가 급증하...</td>\n",
       "      <td>\"중국, 먼저 총 쏘지 않을 것…美 관세부과시 반격 불가피\"\\n\\n기자회견하는 가오...</td>\n",
       "      <td>기자회견하는 가오펑 중국 상무부 대변인(AP=연합뉴스)\\n\\n\\n(베이징=연합뉴스)...</td>\n",
       "      <td>美, 관세 부과에 지재권·기술 유출 규제로 中 견제 확대\\n\\n미국 경제 호조인 반...</td>\n",
       "      <td>트럼프의 핵합의 탈퇴가 근본 원인…OPEC 탓까지\\n이란, 호르무즈 해협 봉쇄 카드...</td>\n",
       "      <td>美 기업, 관세 발효시 보복조치 강화 우려\\n美 전문가 \"관세 문제 해결 못할 시 ...</td>\n",
       "    </tr>\n",
       "    <tr>\n",
       "      <th>27</th>\n",
       "      <td>6일 미국 중국산 제품에 25% 관세 발효…중국 보복 예고\\n\\n세계 성장률 떨어지...</td>\n",
       "      <td>글로벌 무역 갈등, 제조업 경기 회복세에 찬물\\n금속제품 제조업체 \"매출은 27%↑...</td>\n",
       "      <td>리커창 \"중국ㆍEU 협력해 일방주의 도전에 대응해야\"\\n\\n융커 \"EU, 중국과 함...</td>\n",
       "      <td>[그래픽] 美수입규제로 韓수출 2.6조원 손실\\n\\n\\n한국 철강·세탁기·태양광전지...</td>\n",
       "      <td>[동아일보]\\n그래픽=김충민 기자 kcm0514@donga.com\\n세계 경제에 암...</td>\n",
       "      <td>미국-중국 관세폭탄 대결 임박 (PG)[제작 정연주] 일러스트\\n\\n\\nWSJ보도…...</td>\n",
       "      <td>관세 부과 D-1 … 블룸버그의 경고\\n화학·자동차, 정보통신 제품 대상\\n양국 3...</td>\n",
       "      <td>ㆍ16~17일 베이징 정상회의서 보호무역 비판 공동성명 요청\\nㆍEU 측에선 반대 ...</td>\n",
       "      <td>ㆍ특허소송 대만 업체 손들어 주며 미국에 맞대응 의지\\nㆍ미국 여행 부정적 측면 강...</td>\n",
       "      <td>ㆍ미 의회, 통신장비업체 화웨이·ZTE까지 제재 법안 추진\\nㆍ11월 중간선거 앞두...</td>\n",
       "      <td>中, 마이크론 생산·판매 제한\\n\\n美가 차이나모바일 막자\\n中 '첨단산업 사수' ...</td>\n",
       "      <td>로하니 \"이란 원유수출 못막아\"\\n\\n압박 현실화땐 중동산 공급차질\\n\\n\"미 제재...</td>\n",
       "      <td>[머니투데이 유희석 기자, 강기준 기자] [中 관세부과, 시차 탓 美보다 12시간 ...</td>\n",
       "      <td>마이크론 빅마켓 잃어 주가 5.5%↓\\n中 \"유커들 美 불안한 치안 주의하라\"\\n관...</td>\n",
       "      <td>중국이 미국 반도체 업체인 마이크론의 중국 내 판매 금지를 예고하면서 미·중 간 무...</td>\n",
       "      <td>[머니투데이 반준환 기자] [마이크론 여파로 韓반도체 수요늘것…시간 지나면 반사이익...</td>\n",
       "      <td>[이미지출처=로이터연합뉴스]\\n\\n[아시아경제 조슬기나 기자] 이른바 트럼프발 자동...</td>\n",
       "      <td>[머니투데이 유희석 기자] [SSD·USB 등 메모리 제품 대상… 美中, 관세 부과...</td>\n",
       "      <td>달 바뀌었지만 실망·분노의 '뒤끝 트윗' 계속\\n\\n美시장 톱5 중 \"해외 이전\" ...</td>\n",
       "      <td>(서울=연합뉴스) 신유리 기자 = 미국과 중국 간 무역전쟁이 확산하는 가운데 중국이...</td>\n",
       "    </tr>\n",
       "    <tr>\n",
       "      <th>28</th>\n",
       "      <td>中, EU에 투자제한 완화 '유화책'도 제시…반대 부딪혀\\n\\n(서울=뉴스1) 김윤...</td>\n",
       "      <td>8월1일까지 한시적…제품 판매·서비스 가능\\n블룸버그 \"모든 제재 풀릴 수도\"\\n&lt;...</td>\n",
       "      <td>미국, 中 차이나모바일의 美시장 진입 거부(베이징 로이터=연합뉴스) 중국 광둥성 광...</td>\n",
       "      <td>도널드 트럼프(왼쪽) 미국 대통령과 시진핑 중국 국가주석.\\n\\n\\n미국이 ‘관세폭...</td>\n",
       "      <td>호르무즈 해협 봉쇄 가능성 시사\\nUAE는 트럼프 요구에 원유 증산 의사 나타내\\n...</td>\n",
       "      <td>[아시아경제 국제부 기자]미국과 중국이 오는 6일부터 상대국 제품에 고율 관세를 부...</td>\n",
       "      <td>© News1 김일환 디자이너\\n\\n(서울=뉴스1) 박형기 기자 = 도널드 트럼프 ...</td>\n",
       "      <td>EU “美가 때리면 3000억달러 상품에 보복” 中 “6일부터 美에 40% 관세”\\...</td>\n",
       "      <td>[오늘의 세상]\\n\"무역협상서 자동차는 가장 큰 것\" 수입차에 관세폭탄 위협\\n\\n...</td>\n",
       "      <td>[CBS노컷뉴스 박종환 기자]\\n사진=스마트이미지 제공\\n미국의 고율 관세 부과 방...</td>\n",
       "      <td>2017년 미국 총 수출액 19%에 해당\\n&lt;자료사진&gt; © AFP=뉴스1\\n\\n(서...</td>\n",
       "      <td>[머니투데이 권다희 기자] [WSJ \"포드, 테슬라, BMW, 다임러 등 타격 예상...</td>\n",
       "      <td>EU 집행위·車업계 일제히 美상무부에 항의 서한\\n\\n(서울=연합뉴스) 신유리 기자...</td>\n",
       "      <td>\"NAFTA, 11월 중간선거 이후 서명 원해…더 공정하길\"\\n\\n\"EU도 중국만큼...</td>\n",
       "      <td>\"NAFTA, 11월 중간선거 이후 서명 원해…더 공정하길 원해\"\\n\\n\\n\\n(뉴...</td>\n",
       "      <td>한국 CEO-중국 정부 직접 소통\\n리커창, 사실상 중국편 서달라 요청\\n윤부근 “...</td>\n",
       "      <td>Fed, 기준금리 결정하는 핵심지표\\n6년 만에 연간 목표치까지 올라\\n백악관선 “...</td>\n",
       "      <td>시진핑(오른쪽) 중국 국가주석과 제임스 매티스 미국 국방장관. 로이터 연합뉴스\\n\\...</td>\n",
       "      <td>[한겨레] “최근 방중 때 ‘물러서지 않는다’는 입장 밝혀”\\n\\n시진핑 “한 뼘도...</td>\n",
       "      <td>연방 상하원 및 자동차협회 “우리 입장에 공감”\\n백운규 산업통상자원부 장관이 지난...</td>\n",
       "    </tr>\n",
       "    <tr>\n",
       "      <th>29</th>\n",
       "      <td>미 유력 정재계 인사 만나 아웃리치\\n백운규 산업통상자원부 장관이 29일(현지시간)...</td>\n",
       "      <td>도요타·BMW, 상무부 의견서 제출…GM 등 미국 업계도 반대\\n\\n(서울=연합뉴스...</td>\n",
       "      <td>25% 관세 부과시 완성차 수출 5년간 662억 달러 예상\\n철강관세 협상 때처럼 ...</td>\n",
       "      <td>(서울=뉴스1) 박형기 기자 = 도널드 트럼프 대통령이 미국의 직업을 살린다는 명목...</td>\n",
       "      <td>동영상 뉴스\\n[뉴스데스크]◀ 앵커</td>\n",
       "      <td>5월 근원PCE상승률 2%···파월 \"2% 지속적 웃돌면 연준 움직여야\"\\n/이미지...</td>\n",
       "      <td>미중, 내달 6일 관세발효 앞두고 '막판 타협' 모색\\n\\n(서울=연합뉴스) 진병태...</td>\n",
       "      <td>미국산 철강·알루미늄·소비재에 총 14조원 부과\\n\\n(밴쿠버=연합뉴스) 조재용 통...</td>\n",
       "      <td>트럼프, 수입차 고율 관세 부과 전망(PG)[제작 이태호] 사진합성, 일러스트 * ...</td>\n",
       "      <td>【서울=뉴시스】 안호균 기자 = 미국 자동차업체 GM이 도널드 트럼프 행정부가 자동...</td>\n",
       "      <td>제롬 파월 연준 의장\\n[AFP=연합뉴스]\\n\\n\\n(뉴욕=연합뉴스) 이귀원 특파원...</td>\n",
       "      <td>(브뤼셀=연합뉴스) 김병수 특파원 = 유럽연합(EU)과 미국이 무역전쟁 위기로 치닫...</td>\n",
       "      <td>美 폭스콘 공장 착공식서 밝혀 / 北·美 싱가포르 회담 열기 직전 / ‘개최 불확실...</td>\n",
       "      <td>외국인 투자 제한 목록 63→48개로 축소…철도·송전망 외자제한 폐지\\n\\n자동차 ...</td>\n",
       "      <td>중국이 외국인 투자를 유치하기 위해 투자 규제 업종을 63개에서 48개로 대폭 줄이...</td>\n",
       "      <td>트럼프 착공식서 \"우리는 공정하고 균형 잡힌 상황을 원한다\"\\n\\n(서울=연합뉴스)...</td>\n",
       "      <td>미중 막판 협상 시도(PG) [제작 최자윤, 이태호] 사진합성\\n\\n\\n(상하이=연...</td>\n",
       "      <td>폭스콘 미국에 대규모 LCD 공장 건설\\n도널드 트럼프 대통령과 궈타이밍 폭스콘 C...</td>\n",
       "      <td>총 11조원 투입 예정\\n테리 궈 폭스콘 회장, 폴 라이언 하원의장 등과 첫삽\\n2...</td>\n",
       "      <td>트럼프, 폭스콘 위스콘신 공장 착공식 참석도널드 트럼프 미국 대통령은 28일(현지시...</td>\n",
       "    </tr>\n",
       "    <tr>\n",
       "      <th>...</th>\n",
       "      <td>...</td>\n",
       "      <td>...</td>\n",
       "      <td>...</td>\n",
       "      <td>...</td>\n",
       "      <td>...</td>\n",
       "      <td>...</td>\n",
       "      <td>...</td>\n",
       "      <td>...</td>\n",
       "      <td>...</td>\n",
       "      <td>...</td>\n",
       "      <td>...</td>\n",
       "      <td>...</td>\n",
       "      <td>...</td>\n",
       "      <td>...</td>\n",
       "      <td>...</td>\n",
       "      <td>...</td>\n",
       "      <td>...</td>\n",
       "      <td>...</td>\n",
       "      <td>...</td>\n",
       "      <td>...</td>\n",
       "    </tr>\n",
       "    <tr>\n",
       "      <th>49</th>\n",
       "      <td>김영주 한국무역협회장 [무역협회 제공=연합뉴스]\\n\\n\\n(서울=연합뉴스) 김동현 ...</td>\n",
       "      <td>삼성 시안공장서 낸드플래시 메모리, SK하이닉스 우시공장서 D램 메모리 생산 중\\n...</td>\n",
       "      <td>美·日 정상회담 앞두고 신경전\\n\\nTPP 재가입 검토 지시한 트럼프\\n중간선거 앞...</td>\n",
       "      <td>경기 살아나니…알아서 임금 올리는 日 기업들\\n\\n실적 개선 힘입어 올 평균 임금 ...</td>\n",
       "      <td>시리아 공습에 대한 러시아·이란 반응도 변수\\n【키프로스=AP/뉴시스】14일(현지시...</td>\n",
       "      <td>한국경제연구원 '미중 무역전쟁, 대안있는가' 세미나\\n권태신 한국경제연구원 원장. ...</td>\n",
       "      <td>(서울=연합뉴스) 김보경 기자 = 시리아의 화학무기 사용에 대한 서방국들의 '응징'...</td>\n",
       "      <td>미국 환율보고서 발표\\n\\n\\n이번에도 관찰대상국 지목… 美 “신속한 공개를” 노골...</td>\n",
       "      <td>[서울신문]\\n김동연 부총리 G20회의서 협의\\n美 “작년 하반기 원화 절상 과정\\...</td>\n",
       "      <td>중국·일본 등과 함께 또 '관찰 대상국' 분류\\n\\n\\n한국이 이번에도 '환율 조작...</td>\n",
       "      <td>[동아일보]\\n美, 외환시장 개입 정황 공개 압박\\n미국이 한국의 외환시장 개입 현...</td>\n",
       "      <td>[한겨레] 뉴스 분석 l 미 환율 보고서\\n\\n한국을 ‘관찰대상국’ 지정한 미국\\n...</td>\n",
       "      <td>【서울=뉴시스】조현아 기자 = 한국은행은 현재 벌어지고 있는 미·중 무역갈등이 무역...</td>\n",
       "      <td>[머니투데이 세종=정현수 기자] [정책권고 사항으로 처음 거론…사실상 매달 개입내역...</td>\n",
       "      <td>투자은행들 유가 전망치 상향…對이란 제재 등 리스크 줄줄이\\n\\n(서울=연합뉴스) ...</td>\n",
       "      <td>미국 복귀 검토 TPP협정 부속 공동선언문 준용 가능성\\n\\n분기별 개입내역 1분기...</td>\n",
       "      <td>김동연 부총리, 환시공개 담판…'환율' 불안감 최소화\\n영국·일본은 1개월 주기…분...</td>\n",
       "      <td>동영상 뉴스\\n[뉴스데스크]◀ 앵커</td>\n",
       "      <td>5회 연속 관찰대상국 포함……\"내수진작해 무역흑자 줄여야\"\\n\\n관찰대상국 6개국으...</td>\n",
       "      <td>5회 연속 '관찰대상국'에 이름 올려…이르면 내주 공개방안 발표할 듯\\n\\n[CBS...</td>\n",
       "    </tr>\n",
       "    <tr>\n",
       "      <th>50</th>\n",
       "      <td>(세종=연합뉴스) 이 율 기자 = 미국 재무부가 13일(현지시간) 발표한 환율보고서...</td>\n",
       "      <td>긴장 계속…中에 \"강하게 우려한다\" 경고성 메시지\\n© News1 방은영 디자이너\\...</td>\n",
       "      <td>5회 연속 관찰대상국 포함…\"외환시장 개입 제한하고 투명하게 공표해야\"\\n\\n관찰대...</td>\n",
       "      <td>미중 최악의 충돌은 피했다는 평가\\n블룸버그통신 갈무리\\n\\n(서울=뉴스1) 박형기...</td>\n",
       "      <td>美 재무부, 한국 외환시장 개입 내역 공개 압박\\n기재부 \"보고서내용은 예상한 수준...</td>\n",
       "      <td>환율조작국 피했지만 관찰대상국 지정\\n\\n사진=연합뉴스\\n\\n미국 재무부가 한국을 ...</td>\n",
       "      <td>3가지 조건 중 2가지 해당…5회 연속 관찰대상국으로 분류\\n\\n'오해 불식하겠다'...</td>\n",
       "      <td>(서울=연합뉴스) 장예진 기자 = 미국 재무부는 13일(현지시간) 발표한 반기 환율...</td>\n",
       "      <td>환율조작국 3개 요건 중 2개만 충족해 제외돼\\n美 \"외환시장 개입 내역 투명·신속...</td>\n",
       "      <td>[머니투데이 세종=정현수 기자] [관찰대상국으로 분류…환율보고서 \"외환시장 개입 내...</td>\n",
       "      <td>5회 연속 관찰대상국 포함…\"외환시장 개입 제한하고 투명하게 공표해야\"\\n\\n관찰대...</td>\n",
       "      <td>트럼프 행정부 3번째 환율보고서…이번에도 칼날 피해간 중국\\n\\n트럼프-시진핑 유화...</td>\n",
       "      <td>본문 내용이 없는 기사입니다.\\n\\n</td>\n",
       "      <td>[서울신문]\\n美 상무부, 넥스틸에 75% 반덤핑 관세\\n“정보 미제공”…불리한 가...</td>\n",
       "      <td>對美수출 '유정용 강관' 1위 업체, 미국에 공장 없다는 괘씸죄로 찍혀\\n\\n\\n/...</td>\n",
       "      <td>중국과의 무역전쟁 우위 점하려 환태평양경제협정 다시 중시\\n\\n\\n도널드 트럼프 미...</td>\n",
       "      <td>강대국 경쟁,한국엔 위기이자 기회\\n인도·동남아 시장이 중국 대안 될것\\n\\n\\n[...</td>\n",
       "      <td>한국산 철강 관세 면제 효과 사라져\\n세아·현대제철 등은 6.75%로 선방\\n미국이...</td>\n",
       "      <td>경제참모에 복귀 검토 지시\\n\\n對中 '경제동맹체' 지렛대 활용\\n통상전쟁 '경제·...</td>\n",
       "      <td>국내 중견 철강업체 넥스틸社\\n유정용 강관에 75% 반덤핑관세\\n단어 누락 트집, ...</td>\n",
       "    </tr>\n",
       "    <tr>\n",
       "      <th>51</th>\n",
       "      <td>[美, 한국 유정용 강관에 75% 관세 '뒤통수']\\n美에 픽업트럭·신약 등 내줬는...</td>\n",
       "      <td>넥스틸제품 75% 반덤핑관세…철강관세 면제 `편법 무력화`\\n\\n◆ 美, 한국철강에...</td>\n",
       "      <td>美상무부, 韓철강 최종판정서 불리한 가용정보 멋대로 적용\\n넥스틸 등 막대한 피해 ...</td>\n",
       "      <td>(서울=연합뉴스) 이해영 기자 = 도널드 트럼프 미국 대통령이 12일(현지시간) 환...</td>\n",
       "      <td>주지사·상원의원 백악관 회의서 발언\\n미중 무역갈등서 유리한 고지 점하려는 의도도\\...</td>\n",
       "      <td>산업부, 미·중 무역분쟁 관련 업계 간담회…국내 산업에 영향 점검\\n미국은 자동차·...</td>\n",
       "      <td>무역전쟁 (CG) [연합뉴스TV 제공]\\n\\n\\n산업부·업계 대응방안 간담회…화학·...</td>\n",
       "      <td>中, '개방 청사진' 제시하며 관영매체 동원 대미 압박 지속\\n\\n美, 中조치 현미...</td>\n",
       "      <td>지난달 정례회의 내용 공개…\"무역갈등엔 우려\"\\n\\n제롬 파월 미국 연방준비제도(F...</td>\n",
       "      <td>한국 등 대미 무역흑자국 지정 우려\\n\\n철강 관세 부과처럼, 24년간 묵혀뒀던 법...</td>\n",
       "      <td>무역전쟁 이어 폭탄발언 때마다\\n증시·원유·원자재시장 일파만파\\n올들어 변동성지수 ...</td>\n",
       "      <td>\"미국이 중국 이익 해치는 행동 이어간다면 온힘 다해 반격\"\\n\\n\\n\\n(베이징=...</td>\n",
       "      <td>시 주석 금융개방 확대 발언 하루 만에 인민은행 총재 상반기⋅연내 이행 11개 조치...</td>\n",
       "      <td>[그래픽] 미국 '시리아 사태' 중동에 항모전단 파견(서울=연합뉴스) 이재윤 기자 ...</td>\n",
       "      <td>대륙의 클래스…스타벅스 매장 크기 무려 300배(상하이 로이터 AFP =연합뉴스) ...</td>\n",
       "      <td>美 상무부 “한국 업체 협조 안했다”\\n\\n한국산 냉간압연강관에 최고 48% 반덤핑...</td>\n",
       "      <td>현대·기아차, 이미 합작사 형태로 현지생산\\n\"규제 완화된다 해도 바뀌는 것 없을 ...</td>\n",
       "      <td>이강 중국 인민은행장[중국일보 화면 캡처]\\n\\n\\n(베이징=연합뉴스) 심재훈 특파...</td>\n",
       "      <td>【서울=뉴시스】이재준 기자 = 도널드 트럼프 미국 대통령은 10일(현지시간) 시진핑...</td>\n",
       "      <td>미·중 무역분쟁 봉합 기대감 상승…백악관 \"중국 구체적 행동 보고 싶다\"\\n\\n(워...</td>\n",
       "    </tr>\n",
       "    <tr>\n",
       "      <th>52</th>\n",
       "      <td>[동아일보]\\n[美中 무역갈등 완화 조짐]보아오포럼 개막 연설서 ‘개방 확대 4대 ...</td>\n",
       "      <td>[동아일보]\\n[美中 무역갈등 완화 조짐]문재인 대통령 ‘마무리’ 발언과 대조\\n美...</td>\n",
       "      <td>美 추가제재 충격에 루블화 연이틀 급락(모스크바 로이터=연합뉴스) 10일 오후 6시...</td>\n",
       "      <td>보아오포럼서 “무역수지 균형 추구”\\n시장진입 규제 완화, 수입 확대 밝혀\\n시진핑...</td>\n",
       "      <td>지폐를 세고 있는 러시아 중부 크라스노야르스크의 노점상 [로이터=연합뉴스]\\n\\n\\...</td>\n",
       "      <td>동영상 뉴스\\n[뉴스데스크]◀ 앵커</td>\n",
       "      <td>보아오포럼서 對美 협상 메시지\\n\\n외국인 투자 제한 풀고 상품 수입도 확대 시사\\...</td>\n",
       "      <td>각료회의서 일부 긍정적 평가 / “우리 일자리를 잃었다” 피력도\\n도널드 트럼프 미...</td>\n",
       "      <td>트럼프 \"친구\" 발언에 시진핑 \"대외개방 확대·자동차 관세 인하\"로 화답\\n\\n낙관...</td>\n",
       "      <td>\"노골적 국수주의자 시진핑, 개혁개방에 양면적 태도\"\\n전문가들 \"이전에도 같은 약...</td>\n",
       "      <td>시진핑 주석이 10일 오전 보아오 포럼에서 연설하고 있다.\\n\\n(서울=뉴스1) 박...</td>\n",
       "      <td>ㆍ중국 보아오 포럼 개막\\nㆍIMF 총재·마윈 등 참석\\nㆍ미 보호무역 성토장 방불...</td>\n",
       "      <td>[머니투데이 김재현 이코노미스트] [편집자주] 멀리 보고 통 크게 노는 법을 생각해...</td>\n",
       "      <td>2030년까지 전기차 섬 조성, 도박도 허용 검토…'제2 홍콩' 부상\\n\\n중국 하...</td>\n",
       "      <td>\"중국 특색 자유무역항 건설 모색하겠다\"…하이난 염두에 둔 듯\\n\\n\"자동차 등 관...</td>\n",
       "      <td>금융서비스 시장 개방-수입 확대 방침도\\n미중 무역갈등 풀기 위한 협상 메시지 분석...</td>\n",
       "      <td>중국 보아오포럼 개막식 기조연설서 밝혀\\n[베이징= 이데일리 김인경 특파원] 시진핑...</td>\n",
       "      <td>\"중국 특색 자유무역항 건설 모색하겠다\"…하이난 염두에 둔 듯\\n\\n\"올해 자동차 ...</td>\n",
       "      <td>보아오포럼 기조 연설서 미국에 맞서 자유무역 확대 천명\\n시진핑 중국 국가주석 &lt;자...</td>\n",
       "      <td>[이미지출처=EPA연합뉴스]\\n\\n[아시아경제 조슬기나 기자]러시아 증시가 하루만에...</td>\n",
       "    </tr>\n",
       "    <tr>\n",
       "      <th>53</th>\n",
       "      <td>중국 상무부 “새로운 복합적인 조치를 미국에 취할 것” 경고\\n지난해 방한금지령, ...</td>\n",
       "      <td>'中관세'에 미국산 대두 유럽행…브라질 대두 중국행 늘어날듯\\n\\n미국산 석유화학제...</td>\n",
       "      <td>\"트럼프 대통령, 협상 위한 수단으로 관세 위협 활용\" 분석\\n\\n실물 경제·금리에...</td>\n",
       "      <td>(상하이=연합뉴스) 정주호 특파원 = 미국과의 무역전쟁으로 중국에 반미 애국주의 정...</td>\n",
       "      <td>WSJ 갈무리\\n\\n(서울=뉴스1) 박형기 기자 = 미국과 중국의 무역전쟁이 한창이...</td>\n",
       "      <td>\"中무역관행 바꿔 장기적으로 美경제에 이득\"\\n나바로 \"중국은 우리의 전략적 경쟁자...</td>\n",
       "      <td>美 통상전쟁 주 타깃은 '중국제조 2025'\\n\\n中 공세로 '태양광 몰락' 겪은 ...</td>\n",
       "      <td>\"미국, 무역전쟁으로 중국 부상 저지하려 해…똑같이 보복할것\"\\n\\n주영 중국대사 ...</td>\n",
       "      <td>민족적 자존심 대결 번져 / “中 향한 美 몽둥이 태워버리겠다 / 항미원조 전쟁방식...</td>\n",
       "      <td>中외교부 \"중국ㆍ유엔, 보호주의 함께 저지하기로\"\\n\\n왕이 중국 외교담당 국무위원...</td>\n",
       "      <td>무역전쟁 속 정치 실리\\n\\n# 트럼프, 러 스캔들 등 묻혀가\\n지지율 45% 이상...</td>\n",
       "      <td>① 韓환율 개입내역 공개…직접 언급 대신 `투명성` 우회 압박할듯\\n② 재정지출 확...</td>\n",
       "      <td>\"노동시장 완전고용 가까워져\"\\n샌프란 연은 총재 \"경기 낙관\"\\n\\n제롬 파월 미...</td>\n",
       "      <td>3월 일자리 10만3000개 ↑.. 파월 \"노동시장 흐름 강력\"\\nAP연합뉴스\\n【...</td>\n",
       "      <td>“한국전쟁 의지로 대미 무역전쟁 치르자\"며 반격의지 다져\\n中 주영대사 “미국 30...</td>\n",
       "      <td>\"미국, 무역전쟁으로 중국 부상 저지하려 해…똑같이 보복할것\"\\n\\n갈등 고조되는 ...</td>\n",
       "      <td>미·중 정면충돌에 국제사회 대북 압박 와해 조짐도\\n미국과 중국 간 무역 전쟁이 북...</td>\n",
       "      <td>트럼프 표밭 어디? vs 톈안먼사태 전에 인플레 있었다며?\\n\\n'대두벨트' 트럼프...</td>\n",
       "      <td>(워싱턴=연합뉴스) 이승우 특파원 = 도널드 트럼프 미국 대통령은 7일(현지시간) ...</td>\n",
       "      <td>[앵커]\\n\\n미국과 중국이 최근 각각 500억 달러 규모의 관세 폭탄을 주고받으며...</td>\n",
       "    </tr>\n",
       "    <tr>\n",
       "      <th>54</th>\n",
       "      <td>동영상 뉴스\\n[앵커]\\n\\n미국과 중국이 무역 전쟁 중인 가운데 트럼프 대통령이 ...</td>\n",
       "      <td>동영상 뉴스\\n미국과 중국의 무역분쟁이 결국 세계무역기구, WTO 에서 정식으로 다...</td>\n",
       "      <td>동영상 뉴스\\n[앵커]\\n보복 관세를 예고하며 무역전쟁도 불사하겠다고 나선 미국 트...</td>\n",
       "      <td>中상무부 \"美, 추가 관세부과 명단 발표하면 즉시 보복\"(베이징 AP=연합뉴스) 중...</td>\n",
       "      <td>美 지원사격 예상…\"中 지재권 침해 우려 공유\"\\n\\n(서울=뉴스1) 김혜지 기자 ...</td>\n",
       "      <td>WSJ “라이트하이저 USTR 대표가 대립적 접근 이끌어”\\n\\n작년 8월 백악관서...</td>\n",
       "      <td>동영상 뉴스\\n[앵커]\\n\\n미국과 중국의 관세 무역전쟁이 확전하는 가운데, 이번엔...</td>\n",
       "      <td>© News1 최진모 디자이너\\n\\n(서울=뉴스1) 김혜지 기자 = 중국 관영 언론...</td>\n",
       "      <td>中상무부 \"美, 추가 관세부과 명단 발표하면 즉시 보복\"(베이징 AP=연합뉴스) 중...</td>\n",
       "      <td>트럼프 추가 관세 지시에 6일 美 증시 3대지수 2%대 급락\\n'무역전쟁 위험' 낙...</td>\n",
       "      <td>日·EU, 美의 中 상대 지재권 침해 WTO 제소에 참여 방침\\n\\n미국무역대표부,...</td>\n",
       "      <td>\"협상 통한 해결 원하지만, 트럼프의 美 이익 방어 의지도 강해\"\\n\"증시 아직도 ...</td>\n",
       "      <td>\"중국은 미국의 위협에 굴복하거나 후퇴하는 일은 없을 것\"\\n\\n트럼프, 1천억달러...</td>\n",
       "      <td>【베이징=AP/뉴시스】도널드 트럼프 미국 대통령이 9일 중국 베이징 인민대회당에서 ...</td>\n",
       "      <td>[머니투데이 뉴욕(미국)=송정렬 특파원] [파월, \"점진적 금리인상, 노동시장 호조...</td>\n",
       "      <td>'미 추가관세, 중국 반발' 무역전쟁 우려 전면 부각\\n\\n2%대 급락…'다우 24...</td>\n",
       "      <td>6일(현지시간) 미국 백악관에서 인터뷰하고 있는 래리 커들로 미국 백악관 국가경제위...</td>\n",
       "      <td>[미국, 中에 1000억달러 추가관세 폭탄… 중국 \"끝까지 싸우겠다\"]\\n\\n- 포...</td>\n",
       "      <td>[동아일보]\\n[토요판 커버스토리]\\n도널드 트럼프 미국 대통령(사진)이 5일(현지...</td>\n",
       "      <td>[동아일보]\\n[토요판 커버스토리]美-中 무역전쟁 ‘양날의 칼’ 콩과 국채\\n《20...</td>\n",
       "    </tr>\n",
       "    <tr>\n",
       "      <th>55</th>\n",
       "      <td>[동아일보]\\n[토요판 커버스토리]美-中 무역전쟁 ‘양날의 칼’ 콩과 국채\\n지난달...</td>\n",
       "      <td>[동아일보]\\n미중 무역전쟁의 핵심 품목 중 하나로 떠오르고 있는 ‘콩(대두)’의 ...</td>\n",
       "      <td>\"美와 최근 대화 없었다\"\\n【화이트 설퍼 스프링스(미 웨스트 버지니아주)=AP/뉴...</td>\n",
       "      <td>\"절제된 접근…시작 안했지만 중국과 협상 계속될것\"\\n\\n래리 커들로 미국 백악관 ...</td>\n",
       "      <td>중국, 청명절 연휴 담화 발표 이어 이례적 밤늦게 기자회견\\n\\n미중 무역갈등 관련...</td>\n",
       "      <td>가오펑 중국 상무부 대변인.[중국 상무부]\\n\\n\\n(베이징=연합뉴스) 김진방 특파...</td>\n",
       "      <td>제윤정 “남은 한 달…고관세 부과 현실화 가능성 충분하다”\\n\\n[CBS &lt;시사자키...</td>\n",
       "      <td>동영상 뉴스\\n[앵커]\\n\\n미국과 중국이 서로 보복 관세를 매기겠다고 하고는 탐색...</td>\n",
       "      <td>동영상 뉴스\\n오늘 날씨 상황, 참 심난합니다.\\n\\n지금 전국 대부분 지역에서 황...</td>\n",
       "      <td>[한겨레] 미-중 무역전쟁 ‘치킨게임’\\n\\n경제·무역구조 미국 쪽 압도적\\n\\n중...</td>\n",
       "      <td>[CBS노컷뉴스 박종환 기자·장규석 워싱턴 특파원]\\n도널드 트럼프 미국 대통령 (...</td>\n",
       "      <td>[흔들리는 상품시장]\\n증시 변동성 커지며 VIX지수 연초 이후 72%나 뛰어\\n外...</td>\n",
       "      <td>트럼프, 1천억 달러 규모 중국산 수입품 추가관세 지시(PG)[제작 이태호, 최자윤...</td>\n",
       "      <td>트럼프, USTR에 \"1천억달러 규모 中 상품에 추가관세 고려 지시\"\\n\\n中, 청...</td>\n",
       "      <td>도널드 트럼프 미국 대통령이 1000억달러 규모 중국산 수입품에 추가 관세를 검토하...</td>\n",
       "      <td>WTO 상품이사회에 양허정지 통보불구 빨라야 3년 뒤\\n미국 정부가 삼성·LG 등 ...</td>\n",
       "      <td>지구 상 역대 최강 대국 두 나라의 기류가 심상치 않습니다. 날카롭게 벼린 칼로 급...</td>\n",
       "      <td>아세안 수출품, 中가치사슬과 높은 연계성\\n【베이징=AP/뉴시스】4일 중국 재정부 ...</td>\n",
       "      <td>중국 인터넷에 2016년 남중국해 분쟁때 발생한 KFC 불매운동 동영상이 다시 등장...</td>\n",
       "      <td>美 카길 \"무역전쟁 승자 없어\"…블룸버그 \"美 셰일업계도 타격 가능성\"\\n\\n\"車관...</td>\n",
       "    </tr>\n",
       "    <tr>\n",
       "      <th>56</th>\n",
       "      <td>(제네바=연합뉴스) 이광철 특파원 = 중국과 미국의 무역분쟁이 세계무역기구(WTO)...</td>\n",
       "      <td>베이징 특파원이 본 중국의 속내\\n사드 보복 때처럼 상대국 분열 노려\\n모든 카드 ...</td>\n",
       "      <td>워싱턴 특파원이 본 미국의 속내\\n대통령 협상 지렛대 최대한 키우고\\n참모들은 중국...</td>\n",
       "      <td>도널드 트럼프 미국 대통령 [워싱턴 AP=연합뉴스]\\n\\n\\n(워싱턴=연합뉴스) 강...</td>\n",
       "      <td>(뉴욕=연합뉴스) 이귀원 특파원 = 도널드 트럼프 미국 대통령이 무역적자 해소를 위...</td>\n",
       "      <td>【워싱턴=AP/뉴시스】 김재영 기자 = 미국의 무역수지 적자가 2월 달에도 전 달에...</td>\n",
       "      <td>동영상 뉴스\\n'무역전쟁' 미중 협상에도…한국은 이래저래 타격\\n\\n[앵커]\\n\\n...</td>\n",
       "      <td>동영상 뉴스\\n&lt;앵커&gt;\\n\\n서로 강력한 무역 보복 조치를 주고받았던 미국과 중국이...</td>\n",
       "      <td>동영상 뉴스\\n[뉴스데스크]◀ 앵커</td>\n",
       "      <td>WSJ “양국 대치 속 고도의 협상 국면에 진입” 평가\\n\\n\\n“불공정 무역관행 ...</td>\n",
       "      <td>美·中 '물밑협상' 돌입\\n\\n설리번 美 국무장관 대행·추이톈카이 中대사 회동\\n\\...</td>\n",
       "      <td>[한겨레] 미·중, 보복관세 발효 전에 협상 의향 밝혀\\n\\n이미 무누신 재무장관 ...</td>\n",
       "      <td>각국 이해득실 따져보니.. 보잉·테슬라 직격탄 위기감\\n美·中 사이 중개무역 맡아온...</td>\n",
       "      <td>파종 앞두고 고민 깊어져…\"미·중, 말싸움만 하고 끝내길\"\\n\\n(서울=연합뉴스) ...</td>\n",
       "      <td>한미FTA 이른 타결 배경은 \"소규모 패키지 딜\" 소개\\n김현종 통상교섭본부장. ©...</td>\n",
       "      <td>중국 동방항공은 여객기 도입선·구매 기종 변경 검토\\n\\n미중 무역전쟁［연합뉴스PG...</td>\n",
       "      <td>SCMP 기고문…트럼프 대북·대중외교 호평\\n\\n\"트럼프 '위험한 멍청이' 아냐…김...</td>\n",
       "      <td>[머니투데이 권혜민 기자] [\"환율 입장에 변화 없어…시장 결정에 맡기되 급격한 쏠...</td>\n",
       "      <td>NEC 위원장 “시행 않을수도”\\n\\n中재정부 “협상·협력의 시간”\\n\\n양국 외교...</td>\n",
       "      <td>지역경제 회생 방안은?(서울=연합뉴스) 안정원 기자 = 김동연 경제부총리 겸 기획재...</td>\n",
       "    </tr>\n",
       "    <tr>\n",
       "      <th>57</th>\n",
       "      <td>- 美·中 ‘무역전쟁’ 타협 돌입\\n\\n“세계 경제 주저앉을수도…”\\n\\n부과시점 ...</td>\n",
       "      <td>미-중 정부, 대화 필요성 잇달아 제기\\n트럼프 \"무역전쟁 아니다\" 수위 낮춰\\n【...</td>\n",
       "      <td>“첨단과학 수출 제한 탓”…협상 포석 美압박\\n“美 보조금 때문에 중국 대두농가 불...</td>\n",
       "      <td>바클레이스 \"보복관세 여파\"…합작 아닌 완제품 수출이라 타격 커\\n\\n\"장기적으로 ...</td>\n",
       "      <td>중국 상무부, 美 관세 폭탄에 동등한 보복 발표[신화=연합뉴스]\\n\\n\\n(베이징=...</td>\n",
       "      <td>【서울=뉴시스】이재준 기자 = 일본 체감 경기 동향을 반영하는 3월 수입차 판매량은...</td>\n",
       "      <td>미-중 관세폭탄ㆍ무역전쟁 속 대화 진행(PG)[제작 이태호, 조혜인] 사진합성, 일...</td>\n",
       "      <td>미국과 중국 간 무역갈등이 ‘치킨게임(마주 보고 돌진하는 두 자동차처럼 한쪽이 포기...</td>\n",
       "      <td>\"안보위협 대처 조치...세이프가드 발동 아냐\"\\n\\n\\n【서울=뉴시스】문예성 기자...</td>\n",
       "      <td>일본 수출항에서 컨테이너 선적 작업을 하고 있다.\\n\\n\\n【서울=뉴시스】이재준 기...</td>\n",
       "      <td>\"양측 관세 발효돼 시행되기까지 몇 개월 걸릴 것\"\\n\\n\\n【서울=뉴시스】 이혜원...</td>\n",
       "      <td>백악관 커들로 “아직 제안 상태, 시행까지는 시간 있다”\\n中 “모든 문제가 테이블...</td>\n",
       "      <td>미국과 중국이 관세 보복 조치를 주고받으며 갈등이 커진 가운데, 양국 정부가 4일(...</td>\n",
       "      <td>동영상 뉴스\\n[앵커]\\n\\n앞서 전해드린 것처럼 미국과 중국 두 고래의 무역전쟁이...</td>\n",
       "      <td>중국 베이징에 있는 테슬라 매장 - CNBC갈무리\\n\\n(서울=뉴스1) 박형기 기자...</td>\n",
       "      <td>미국 중국 무역 갈등(CG)[연합뉴스TV 제공]\\n\\n\\n(서울=연합뉴스) 김수진 ...</td>\n",
       "      <td>동영상 뉴스\\n[앵커]\\n미국과 중국의 통상갈등이 전면전으로 확대될 경우에는 우리나...</td>\n",
       "      <td>USTR 공고 '관세부과 리스트'에 비메모리 10개 품목만 포함\\n\\n(서울=연합뉴...</td>\n",
       "      <td>중국측 보복관세에 '농민 우려 불식' 발언\\n\\n(워싱턴=연합뉴스) 이승우 특파원 ...</td>\n",
       "      <td>中, 대미수출이 10%↓…韓 대중 수출액은 282억달러↓\\n\\n원화 강세에 가격 경...</td>\n",
       "    </tr>\n",
       "    <tr>\n",
       "      <th>58</th>\n",
       "      <td>\"중국이 시장지향적으로 움직이길 원해\"\\n\\n미중 무역전쟁 대결·트럼프-시진핑 (P...</td>\n",
       "      <td>\"트럼프 탓이 아니라 중국 탓\" 책임론 속 타협 여지\\n\\n트럼프도 \"중국과 무역전...</td>\n",
       "      <td>[서울신문]\\n미국 무역대표부(USTR)가 3일(현지시간) 25%의 고율 관세를 부...</td>\n",
       "      <td>[서울신문]\\n중국은 미국의 관세 폭탄에 대해 즉각 대두, 자동차 등 106개 미국...</td>\n",
       "      <td>中 경제성장하면 민주화할 것, 낙관론 비웃듯 '1인 독재' 치달아\\n'독재+市場경제...</td>\n",
       "      <td>서로 급소 찌르며 확전 양상\\n\\n\\n도널드 트럼프 미국 행정부가 3일(현지 시각)...</td>\n",
       "      <td>[동아일보]\\n美, 1300개 폭탄 투하… 中, 美서 수입 1∼3위 품목에 보복관세...</td>\n",
       "      <td>[동아일보]\\nG2, 보복관세 무역전쟁 격화\\n“우리는 지난 25년간 중국의 재건을...</td>\n",
       "      <td>[머니투데이 뉴욕(미국)=송정렬 특파원] [트럼프 트위터서 \"무역전쟁선 수년전 패배...</td>\n",
       "      <td>‘눈에는 눈 이에는 이’ 무역전쟁\\n미국, 로봇·항공 1300종 고율 관세\\n시진핑...</td>\n",
       "      <td>미, 무역적자 면하려 각국 환율 압박\\n1985년 플라자 합의 땐 엔고 이끌어\\n미...</td>\n",
       "      <td>무역전쟁 한국 산업 피해는\\n미국이 이르면 5월 말부터 500억 달러(약 54조원)...</td>\n",
       "      <td>\"상호존중 태도로 협상해야\"…\"절대 외부압력에 굴복하지 않을 것\"\\n\\n미중 무역전...</td>\n",
       "      <td>\"바보같은 사람들 때문에 무역적자\"\\n© News1 방은영 디자이너\\n\\n(서울=뉴...</td>\n",
       "      <td>[앵커]\\n\\n중국의 1300개 핵심 품목에 관세 폭탄을 발표한 미국에 대해서 '같...</td>\n",
       "      <td>동영상 뉴스\\n[앵커]\\n\\n보시는 것처럼 미국과 중국, 두 고래의 무역전쟁이 전면...</td>\n",
       "      <td>동영상 뉴스\\n[뉴스데스크]◀ 앵커</td>\n",
       "      <td>동영상 뉴스\\n&lt;앵커&gt;\\n\\n이렇게 중국이 맞받아치자 미국도 곧바로 추가 관세 폭탄...</td>\n",
       "      <td>겅솽 중국 외교부 대변인\\n\\n\\n【서울=뉴시스】이재준 기자 = 중국 정부는 4일 ...</td>\n",
       "      <td>中관세세칙위원회, 106개 품목 발표…항공기·소고기 등도 포함\\n\\n中, 美국채·외...</td>\n",
       "    </tr>\n",
       "    <tr>\n",
       "      <th>59</th>\n",
       "      <td>[서울신문]\\n미·중 무역전쟁이 확산되면 한국 수출이 최대 연 367억 달러나 급감...</td>\n",
       "      <td>中, 美대두·자동차 등에 25% 보복관세…\"시행일 추후 공표\"(베이징 EPA=연합뉴...</td>\n",
       "      <td>USTR, ‘중국제조 2025’에 고율관세…시진핑 추진 제조업 육성정책 정조준 / ...</td>\n",
       "      <td>【함부르크(독일)=AP/뉴시스】도널드 트럼프 미 대통령(왼쪽)과 시진핑(習近平) 중...</td>\n",
       "      <td>미국 중국 무역 갈등(CG) [연합뉴스TV 제공]\\n\\n\\n트럼프, 500억달러 상...</td>\n",
       "      <td>\"무역전쟁 양측에 해악…여전히 관계회복 희망\"\\n© News1 방은영 디자이너\\n\\...</td>\n",
       "      <td>美·中 '통상 전면전'\\n\\n라이트하이저, 보복관세 주도\\n나바로는 '원조 보호무역...</td>\n",
       "      <td>중국, 지난해 대두 400억 달러어치 수입...미국산이 140억 달러어치\\n\\n중국...</td>\n",
       "      <td>미국 중국 무역 갈등(CG) [연합뉴스TV 제공]\\n\\n\\n美, 30일간 의견수렴후...</td>\n",
       "      <td>美, 中 기술굴기 1,300개 품목에 500억弗 관세\\n中은 미국산 대두·車 등 1...</td>\n",
       "      <td>G2의 통상전쟁 노림수는\\n\\n◆ 美·中 통상전쟁 격화 ◆\\n\\n미국과 중국 간 무...</td>\n",
       "      <td>세이프가드 조사 후 수개월 내\\n관세 부과, 쿼터 적용 결정할 듯\\n대기업 수출 타...</td>\n",
       "      <td>中관세세칙위원회, 106개 품목 발표…항공기·소고기 등도 포함\\n\\n미중 무역전쟁 ...</td>\n",
       "      <td>도널드 트럼프 미국 대통령(오른쪽)과 시진핑 중국 국가주석 [이미지출처=AP연합뉴스...</td>\n",
       "      <td>中 기세 꺾으려는 美\\n10대 핵심산업에 관세폭탄, 신약·반도체 등 제재 정조준\\n...</td>\n",
       "      <td>미중 무역전쟁 대결·트럼프-시진핑 (PG)[제작 최자윤] 사진합성\\n\\n\\n中관세세...</td>\n",
       "      <td>[베이징= 이데일리 김인경 특파원] 시진핑 중국 국가주석이 경제까지 완전히 장악했다...</td>\n",
       "      <td>미중 무역전쟁 대결·트럼프-시진핑 (PG)[제작 최자윤] 사진합성\\n\\n\\n</td>\n",
       "      <td>美, '관세폭탄' 中수입품 목록 공개…500억불 상당 1천300개에 25%(워싱턴D...</td>\n",
       "      <td>미�중 무역전쟁 시작…수출주도 韓경제 먹구름 (CG)[연합뉴스TV 제공]\\n\\n\\n...</td>\n",
       "    </tr>\n",
       "    <tr>\n",
       "      <th>60</th>\n",
       "      <td>【서울=뉴시스】조성봉 기자 = 원달러 환율이 2.4원 내린 1,054.20으로 장을...</td>\n",
       "      <td>[머니투데이 베이징(중국)=진상현 특파원, 유희석 기자] [美 500억 달러 관세 ...</td>\n",
       "      <td>구로다 총재 연임…'물가목표 2% 달성·금융완화→정상화 연착륙' 과제\\n\\n(도쿄=...</td>\n",
       "      <td>미중 무역전쟁 대결·트럼프-시진핑 (PG)[제작 최자윤] 사진합성\\n\\n\\n인민일보...</td>\n",
       "      <td>꼬리무는 보복 : 미·중 무역전쟁이 전면전 조짐을 빚은 3일 도널드 트럼프 미 대통...</td>\n",
       "      <td>“지재권 도둑질 문제도 있다”\\n\\n러에 대해선 “강경하게 대응”\\n\\n도널드 트럼...</td>\n",
       "      <td>USTR, 中 1300種 관세부과\\n\\n中 ‘美농산물 관세’ 하루만에\\n\\n美 ‘5...</td>\n",
       "      <td>‘중국제조 2025’란\\n\\n‘중국제조(Made in China) 2025’는 시진...</td>\n",
       "      <td>보아오포럼서 발표 추진\\n\\n美보호무역 맞서 개방 주창\\n\\n시진핑(習近平·얼굴) ...</td>\n",
       "      <td>미중 무역전쟁 \"보복에 또 보복\" 한국 수출기업 초비상\\n\"美, 中수입 10% 줄이...</td>\n",
       "      <td>미국이 25%의 관세를 부과할 중국산(産) 1300개 제품의 목록을 3일(현지시간)...</td>\n",
       "      <td>스페인 모바일월드콩그레스 박람회 전시회 중국기업 화웨이 2018.3.1[신화=연합뉴...</td>\n",
       "      <td>미중 무역전쟁 대결·트럼프-시진핑 (PG)[제작 최자윤] 사진합성\\n\\n\\n中, 트...</td>\n",
       "      <td>[머니투데이 뉴욕(미국)=송정렬 특파원] [美 USTR, 25% 고율관세 부과할 1...</td>\n",
       "      <td>미중 무역전쟁 본격화 (PG)[제작 최자윤, 이태호] 일러스트\\n\\n\\n中상무부 대...</td>\n",
       "      <td>업계 청문회 거쳐 발효될 예정...미중, 치열한 협상 벌일 듯\\n\\n【서울=뉴시스】...</td>\n",
       "      <td>[그래픽] 미국 '관세폭탄' 중국 수입품 목록 공개\\n\\n\\n中상무부 대변인 \"美,...</td>\n",
       "      <td>[머니투데이 유희석 기자] [美, 500억달러 규모 관세 부과 목록 발표…中, 비슷...</td>\n",
       "      <td>미중 무역전쟁 대결·트럼프-시진핑 (PG)[제작 최자윤] 사진합성\\n\\n\\n의료기기...</td>\n",
       "      <td>\"내 인생 최고의 이틀은 중국에서 보낸 날이지만…\" 무역전쟁 지속 방침\\n\\n러시아...</td>\n",
       "    </tr>\n",
       "    <tr>\n",
       "      <th>61</th>\n",
       "      <td>미국이 500억달러(약 52조원)에 달하는 중국산 수입품에 추가 관세를 매기기로 했...</td>\n",
       "      <td>[한겨레] ‘근린궁핍화’ 가열에 글로벌 과잉품목 우려\\n\\n철강, EU ‘우회수출’...</td>\n",
       "      <td>로버트 라이트하이저 미국 무역대표부 대표. © AFP=뉴스1\\n\\n(서울=뉴스1) ...</td>\n",
       "      <td>[그래픽] 미국 '관세폭탄' 중국 수입품 목록 공개\\n\\n\\n中 미국산 128개품목...</td>\n",
       "      <td>미국산 수입 과일 (PG)[제작 최자윤] 일러스트\\n\\n\\n농촌경제연구원 분석…체리...</td>\n",
       "      <td>美, FTA 최종 협상서 추가 개방 요구 가능성… 무역대표부 보고서도 미국산 과일 ...</td>\n",
       "      <td>강경 입장 고수하는 美 / 농축산물 中 보복관세에 발끈 / “中, 또 펀치 날렸다”...</td>\n",
       "      <td>美 \"中보복관세 조치는 세계시장 질서 왜곡\" 발끈…미중 무역 보복전 점입가경\\n중국...</td>\n",
       "      <td>\"美는 中에 털리는 돼지 저금통\" 무역적자 줄이기 맹공\\n당시 USTR 부대표였던 ...</td>\n",
       "      <td>중국이 무역전쟁 반기는 4가지 이유…‘결사항전’ 여론에 미소 짓는 시진핑\\n3월23...</td>\n",
       "      <td>【서울=뉴시스】문예성 기자 = 미중 무역전쟁이 본격화 양상을 보이는 가운데 추이톈카...</td>\n",
       "      <td>\"美 관세폭탄 품목 발효시 미국산 대두·자동차 보복대상 올릴 것\"\\n\\n미중 무역전...</td>\n",
       "      <td>(서울=연합뉴스) 신유리 기자 = \"너무나 불안한 심정입니다. 농장에는 그나마 정치...</td>\n",
       "      <td>美철강 알루미늄 관세에 보복준비\\n\\n러시아 당국이 수입산 철강·알루미늄에 관세를 ...</td>\n",
       "      <td>백악관, 中 철강위기 자업자득\\n中 “美기업 제외 통계는 엉터리”\\n무역전쟁 격화…...</td>\n",
       "      <td>美상의와 '한미산업연대포럼' 개최해 한미FTA 윈윈 성과 설명\\n\\n(서울=연합뉴스...</td>\n",
       "      <td>한미산업연대포럼 개최…협력사례 공유도\\n© News1\\n\\n(서울=뉴스1) 조재현 ...</td>\n",
       "      <td>中, 미국산 수입품 30억달러 규모에 고율관세\\n© News1 방은영 디자이너\\n\\...</td>\n",
       "      <td>인민일보 \"미국이 보호주의 철회 안하면 중국은 대등조치 할 것\"\\n\\n미중 무역전쟁...</td>\n",
       "      <td>블라디미르 푸틴 러시아 대통령, /타스연합뉴스\\n\\n[서울경제] 러시아가 미국의 관...</td>\n",
       "    </tr>\n",
       "    <tr>\n",
       "      <th>62</th>\n",
       "      <td>【베이징=AP/뉴시스】지난 3월23일 중국 베이징의 한 슈퍼마켓에서 여성 1명이 미...</td>\n",
       "      <td>도널드 트럼프 대통령이 지난 달 29일 오하이오 리치필드 산업훈련소를 방문해 손을 ...</td>\n",
       "      <td>【베이징=AP/뉴시스】지난 3월23일 중국 베이징의 한 슈퍼마켓에서 미국 회사 로고...</td>\n",
       "      <td>[머니투데이 권다희 기자] [아마존, 넷플릭스, 인텔 등 대형 기술주 급락…어닝시즌...</td>\n",
       "      <td>'이에는 이, 눈에는 눈' 물고 물리는 맞대응…무역전쟁 격화\\n\\n(워싱턴=연합뉴스...</td>\n",
       "      <td>2분기 첫 거래 급락, 다우지수 장중 758포인트나 빠져\\n\\nS&amp;P500 200일...</td>\n",
       "      <td>[머니투데이 뉴욕(미국)=송정렬 특파원] [뉴욕증시, 기술주하락과 무역전쟁 우려에 ...</td>\n",
       "      <td>[서울신문]\\n중국이 미국의 관세폭탄 공격에 대한 첫 보복 조치를 2일 내놓았다. ...</td>\n",
       "      <td>[서울신문]\\n현지언론 “대등하게 보복” 환영\\n\\n중국 상무부는 2일 미국 수입품...</td>\n",
       "      <td>[서울신문]\\n미국의 관세 폭탄은 기본적으로 중국의 첨단기술 분야를 겨냥하고 있다....</td>\n",
       "      <td>[오늘의 세상]\\n무역전쟁 첫 반격… 미국산 128개 품목에 관세 부과\\n\\n돼지고...</td>\n",
       "      <td>미국과 중국 사이 ‘무역 전쟁’이 강도를 더해 가고 있다. 중국 정부는 2일 미국산...</td>\n",
       "      <td>동영상 뉴스\\n[앵커]\\n한미 FTA 개정 협상이 마무리되자 마자 미국이 이번에는 ...</td>\n",
       "      <td>[앵커]\\n\\n미국의 중국산 철강 관세에 맞서 중국이 미국산 수입품 128개 품목에...</td>\n",
       "      <td>美中 맞불관세(CG) [연합뉴스TV 제공]\\n\\n\\n\"미국은 중국이 반격 못할 것이...</td>\n",
       "      <td>中당국, 개인간 대출업체 규제도 강화\\n\\n(서울=연합뉴스) 최현석 기자 = 중국이...</td>\n",
       "      <td>중국 지식재산권 탈취 막기 위해 고안\\n'중국제조 2025 전략' 공략\\n© New...</td>\n",
       "      <td>미중 무역전쟁 본격화 (PG)[제작 최자윤, 이태호] 일러스트\\n\\n\\n'중국제조 ...</td>\n",
       "      <td>미중 무역전쟁 본격화 (PG)[제작 최자윤, 이태호] 일러스트\\n\\n\\n\"미국-중국...</td>\n",
       "      <td>미국 제품에 관세를 부과한다는 중국 상무부 발표문 - 상무부 홈피 갈무리\\n\\n(서...</td>\n",
       "    </tr>\n",
       "    <tr>\n",
       "      <th>63</th>\n",
       "      <td>중국 상무부 담화 발표 \"미국에 보복관세 민의 반영\", 무역전쟁 전면전보다 협상통한...</td>\n",
       "      <td>미중 무역전쟁 본격화 (PG)[제작 최자윤, 이태호] 일러스트\\n\\n\\n中정부 \"美...</td>\n",
       "      <td>최악의 대충돌 가능성은 작아…어떤 결과든 한국 경제에는 유리하지 않아\\n세계 1·2...</td>\n",
       "      <td>美이슈 연계 전략으로 통상압박\\n부처별 통합 대응전략 마련 지적\\n전문가, 컨트롤타...</td>\n",
       "      <td>미중 무역전쟁 본격화 (PG)[제작 최자윤, 이태호] 일러스트\\n\\n\\n中정부 \"美...</td>\n",
       "      <td>美 \"지재권 도둑질\" 비난에 中 \"국채 더 팔겠다\"\\n\\n[ 뉴욕=김현석/베이징=강...</td>\n",
       "      <td>[머니투데이 권다희 기자] [돼지고기 등에 25%, 과일 등 15% 관세 부과…대두...</td>\n",
       "      <td>【서울=뉴시스】조현아 기자 =최근 미국의 경상수지 적자가 소폭 확대되면서 재정수지 ...</td>\n",
       "      <td>산업부, 신규 로비업체 계약하며 70% 증액…\"최근 더 신경 쓰고 있다\"\\n\\n(서...</td>\n",
       "      <td>동영상 뉴스\\n&lt;앵커&gt;\\n\\n미국이 FTA와 철강에 이어서 이번엔 과일 문제를 들고...</td>\n",
       "      <td>[앵커]\\n\\n미 오하이오주를 방문해 연설하는 트럼프 미 대통령.\\n\\n한국과 FT...</td>\n",
       "      <td>동영상 뉴스\\n[앵커]\\n\\n트럼프 대통령이 한미 FTA 개정 합의를 \"북핵 협상이...</td>\n",
       "      <td>동영상 뉴스\\n[뉴스데스크]◀ 앵커</td>\n",
       "      <td>北·美대화 후로 개정 연기 시사 / 대중연설서 “매우 강력한 카드” / 트럼프 특유...</td>\n",
       "      <td>루캉 외교부 대변인[중국 외교부 제공]\\n\\n\\n(베이징=연합뉴스) 심재훈 특파원 ...</td>\n",
       "      <td>블룸버그통신 갈무리\\n\\n(서울=뉴스1) 박형기 기자 = 중국이 1,2위 조선소인 ...</td>\n",
       "      <td>[머니투데이 강기준 기자] [中 정부, 국영조선소 CSSC·CSIC 합병 예비 승인...</td>\n",
       "      <td>'아이치이(IQIYI)' 로고\\n\\n도널드 트럼프 미국 대통령의 중국의 대미 투자 ...</td>\n",
       "      <td>(서울=연합뉴스) 최현석 기자 = 중국이 한국 조선사들과 경쟁에서 우위를 점하기 위...</td>\n",
       "      <td>&lt;아이뉴스24&gt;\\n\\n[아이뉴스24 이영웅 기자] 중국이 국영 조선소인 중국선박공업...</td>\n",
       "    </tr>\n",
       "    <tr>\n",
       "      <th>64</th>\n",
       "      <td>정부, 당혹감 속 진의 파악 분주\\n도널드 트럼프 미국 대통령이 29일(현지시간) ...</td>\n",
       "      <td>중국제조 2025 조준한 미국 '관세폭탄'［연합뉴스 PG］\\n\\n\\n(상하이=연합뉴...</td>\n",
       "      <td>트럼프, 북미협상 후 한미FTA 개정 협상 발언 (PG)[제작 최자윤] 일러스트\\n...</td>\n",
       "      <td>(서울=연합뉴스) 진병태 기자 = 중국이 철강·알루미늄 제품에 대한 미국의 대규모 ...</td>\n",
       "      <td>【워싱턴=AP/뉴시스】21일(현지시간) 제롬 파월 연방준비제도(Fed·연준) 의장이...</td>\n",
       "      <td>【리치필드=AP/뉴시스】29일(현지시간) 도널드 트럼프 대통령이 오하이오주 리치필드...</td>\n",
       "      <td>【리치필드=AP/뉴시스】29일(현지시간) 도널드 트럼프 대통령이 오하이오주 리치필드...</td>\n",
       "      <td>오하이오서 북핵타결 이후 연기 시사\\nAP \"북핵협상에 한미FTA를 지렛대로\"\\n로...</td>\n",
       "      <td>[머니투데이 뉴욕(미국)=송정렬 특파원] [트럼프, \"매우 강력한 카드\"라며 한미F...</td>\n",
       "      <td>트럼프, 한미FTA 개정 \"北과 협상타결 이후로 미룰수도 있을 것\"(리치필드&lt;미 오...</td>\n",
       "      <td>‘FTA 개정’ 실패한 협상 지적 왜 나오나\\n김현종 통상교섭본부장(오른쪽)이 지난...</td>\n",
       "      <td>미국무역대표부 홈페이지에\\nFTAㆍ철강 관세 등 설명하며\\n“환율조작 금지 등 규제...</td>\n",
       "      <td>[美 \"철강·FTA·환율 패키지로 논의\"… 韓 \"전혀 별개 문제\"]\\n\\n美 \"환율...</td>\n",
       "      <td>[서울신문]\\n김현종 “美, 11월 선거 앞두고\\n정치적 효과 위해 묶어서 발표”\\...</td>\n",
       "      <td>나바로 CNN서 \"환율 평가절하, 하위 합의에 넣었다\"\\n김현종 靑TV서 \"美, 중...</td>\n",
       "      <td>CNN 인터뷰서 한미FTA 개정협상 성과 부각하며 환율문제 언급\\n\\n(워싱턴=연합...</td>\n",
       "      <td>환율 연계 놓고 한·미 다른 얘기\\n김현종 통상교섭본부장이 지난 26일 한?미 자유...</td>\n",
       "      <td>[머니투데이 구유나 기자] [ 500억달러 중국산 수입품 '폭탄관세' 4월 초→6월...</td>\n",
       "      <td>한미FTA 협상 (PG) [제작 이태호]\\n\\n\\n미국, FTA 성과로 '환율 합의...</td>\n",
       "      <td>라이트하이저 USTR 대표 \"4월초서 6월로 연기할 것\"\\n타협땐 관세 취소 전망도...</td>\n",
       "    </tr>\n",
       "    <tr>\n",
       "      <th>65</th>\n",
       "      <td>【베이징=AP/뉴시스】가오펑 중국 상무부 대변인이 29일 베이징에서 기자회견을 갖고...</td>\n",
       "      <td>30일 USTR, 미 농축산물 관계자들과 회의\\n트럼프 지지층 아이오와주 피해 막으...</td>\n",
       "      <td>\"美, 낭떠러지서 말고삐 돌려라…中, 모든 필요조치 통해 권익지킬것\"\\n\\n가오펑 ...</td>\n",
       "      <td>(서울=연합뉴스) 최현석 기자 = 지난달 일본의 소매판매가 증가세로 돌아섰지만, 증...</td>\n",
       "      <td>도널드 트럼프 미 대통령. © AFP=뉴스1\\n\\n(서울=뉴스1) 정진탄 기자 = ...</td>\n",
       "      <td>미 행정부 \"혁신적, 역사적 합의\"로 선전하며 '트럼프의 승리'로 자평\\n\\n전문가...</td>\n",
       "      <td>[머니투데이 권다희 기자] [호주·일본은 직간접적 타격 예상…싱가포르, 말레이시아 ...</td>\n",
       "      <td>【서울=뉴시스】권성근 기자 = 도널드 트럼프 미국 대통령이 중국과 무역전쟁을 불사하...</td>\n",
       "      <td>리커창 총리 중국발전고위급포럼 좌담회\\n\\n\\n(상하이=연합뉴스) 정주호 특파원 =...</td>\n",
       "      <td>WP칼럼니스트 로긴 \"동맹 필요한데 철강·알루미늄 관세는 역효과\"\\n\\n(워싱턴=연...</td>\n",
       "      <td>양국 고위급 대화 채널 본격 가동\\n美 \"자동차 관세 내리고 韓·日 반도체 대신 미...</td>\n",
       "      <td>미ㆍ중 WTO에서 충돌(PG)[제작 이태호] 사진합성, 일러스트\\n\\n\\n일본·EU...</td>\n",
       "      <td>ㆍ픽업트럭 관세 23년 더 유지\\nㆍ철강업계도 “수출 감소” 불만\\n\\n자동차업계는...</td>\n",
       "      <td>동영상 뉴스\\n한미FTA 재협상에서 가장 큰 피해가 예상됐던 분야가 바로 자동차산업...</td>\n",
       "      <td>27개 철강제품 대상, 9개월 이내 결론…중국산 최대 타깃 될 듯\\n\\n(브뤼셀=연...</td>\n",
       "      <td>[앵커]\\n\\n이번에는 워싱턴 연결해서 협상 진행 과정과 미국 현지의 분위기 자세히...</td>\n",
       "      <td>[앵커]\\n\\n이번 협상 결과를 보면 미국은 자동차가 무엇보다 최우선이었습니다.\\n...</td>\n",
       "      <td>[앵커]\\n\\n미국 트럼프 대통령이 자국 산업 보호를 위해 시작한 한미 FTA 개정...</td>\n",
       "      <td>[한겨레] 한-미 FTA 개정 타결\\n\\n철강 수출량 연간 268만톤 보장\\n\\n추...</td>\n",
       "      <td>동영상 뉴스\\n[앵커]\\n\\n자유무역협정 개정, 즉 철강 관세를 놓고 미국과 벌인 ...</td>\n",
       "    </tr>\n",
       "    <tr>\n",
       "      <th>66</th>\n",
       "      <td>동영상 뉴스\\n&lt;앵커&gt;\\n\\n이번 협상은 애초에 우리나라가 뭔가 얻을 수 있는 협상...</td>\n",
       "      <td>동영상 뉴스\\n&lt;앵커&gt;\\n\\n우리나라와 미국이 FTA 개정 협상과 철강 관세 협상을...</td>\n",
       "      <td>동영상 뉴스\\n[뉴스데스크]◀ 앵커</td>\n",
       "      <td>동영상 뉴스\\n[뉴스데스크]◀ 앵커</td>\n",
       "      <td>FT \"죄수 딜레마로 최악 피할 것\"\\n\\n\\n게티이미지뱅크\\n\\n\\n양대 강국(G...</td>\n",
       "      <td>“픽업 관세 연장 경쟁력 훼손 우려… 왜 어려움 겪는 업종 희생시키나” / 일각 “...</td>\n",
       "      <td>막내린 협상 의미·평가 / 美 수출 픽업트럭 관세 20년 더 늘어… 연비·온실가스 ...</td>\n",
       "      <td>[이데일리 경계영 기자] 한·미 양국이 자유무역협정(FTA) 개정 협상 원칙에 합의...</td>\n",
       "      <td>현대경제연구원 분석\\n\\n[ 김은정 기자 ] 미국과 중국 간 ‘무역전쟁’으로 한국의...</td>\n",
       "      <td>中외교부 정례 브리핑…\"공은 美에 있다\"\\n므누신 방중 보도엔 \"대화의 문은 늘 열...</td>\n",
       "      <td>韓·美 FTA 개정 - 철강관세 협상 타결\\n\\n전문가 이해 득실 분석\\n\\n\"선방...</td>\n",
       "      <td>동영상 뉴스\\n中, 美 국채 매도 시 소비심리 위축 우려\\n&lt;앵커&gt;\\n미국과 중국이...</td>\n",
       "      <td>\"미중 협상 진행 중… 대화의 문 열려 있어\"\\n\\n【서울=뉴시스】문예성 기자 = ...</td>\n",
       "      <td>한미FTA (CG) [연합뉴스TV 제공]\\n\\n\\n\"불리한 여건서 최소 양보\" 평가...</td>\n",
       "      <td>[한겨레] 관세폭탄·보복관세 뒤에선 고위급 교류 재개\\n\\n미국산 반도체 구매 확대...</td>\n",
       "      <td>마음 졸이던 산업계도 \"잘한 협상\" 논평 줄이어\\n\\n\\n(세종=뉴스1) 한종수 기...</td>\n",
       "      <td>협상결과 밝히는 김현종 통상교섭본부장(서울=연합뉴스) 안정원 기자 = 김현종 통상교...</td>\n",
       "      <td>[머니투데이 장시복 기자, 안정준 기자] [(상보)]\\n\\n김현종 통상교섭본부장이 ...</td>\n",
       "      <td>(서울=뉴스1) 윤지원 기자 = 화춘잉 중국 외교부 대변인은 26일 정례 브리핑에서...</td>\n",
       "      <td>한미 FTAㆍ철강관세 협상(CG) [연합뉴스TV 제공]\\n\\n\\n대통령·관계부처 총...</td>\n",
       "    </tr>\n",
       "    <tr>\n",
       "      <th>67</th>\n",
       "      <td>[머니투데이 유희석 기자, 뉴욕(미국)=송정렬 특파원] [中 고위급 잇달아 美 보호...</td>\n",
       "      <td>- 자동차업계 “수입차 공세 속 잠재적 리스크 확대”\\n- 철강업계, “최악 피했다...</td>\n",
       "      <td>한미 FTA, 미수출 한국 픽업트럭 관세 연장 (PG)[제작 최자윤] 일러스트\\n\\...</td>\n",
       "      <td>수입차 미국산 늘어날 기회\\n한국차 북미 무관세는 유지\\n\\n우리나라 완성차의 평택...</td>\n",
       "      <td>\"미중 무역 전쟁은 중국 이익에 부합 안 해\"\\n\\n【서울=뉴시스】이지예 기자 = ...</td>\n",
       "      <td>므누신 \"협상하고 있으며 합의에 이를지 지켜보고 있다\" 연급\\nFT, 中고위관계자 ...</td>\n",
       "      <td>한미FTA 자동차 (CG) [연합뉴스TV 제공]\\n\\n\\n미국 '관세 철폐 시한' ...</td>\n",
       "      <td>한미FTA 픽업트럭 관세 (CG) [연합뉴스TV 제공]\\n\\n\\n픽업트럭 관세 연장...</td>\n",
       "      <td>【서울=뉴시스】김동현 기자 = 한국무역협회는 26일 한미 자유무역협정(FTA) 개정...</td>\n",
       "      <td>중국 고위 참모 \"11월 중간선거 전 트럼프에 승리 안겨준다\"\\n\\n시진핑 중국 국...</td>\n",
       "      <td>[머니투데이 뉴욕(미국)=송정렬 특파원] [美, 자동차반도체 수출확대·금융규제 완화...</td>\n",
       "      <td>【서울=뉴시스】박진희 기자 = 김현종 통상교섭본부장이 26일 오전 서울 종로구 정부...</td>\n",
       "      <td>변호인 \"MB, '모든 책임 내게' 수차례 천명…검찰은 주변사람 끊임없이 조사\"\\n...</td>\n",
       "      <td>[머니투데이 장시복 기자] [미국산 유럽·일본차도 '어부지리'...\"장기적으로 타국...</td>\n",
       "      <td>자유개방시장 수혜만 누리고 의무 회피한 중국\\n\\n캐나다 학자 \"아무도 이의 제기 ...</td>\n",
       "      <td>美의 관세폭탄에 中 맞불대응 속 물밑협상…갈등 봉합 가능성\\n\\n한정 中부총리 \"무...</td>\n",
       "      <td>【서울=뉴시스】안지혜 기자 = 2021년 폐지 예정인 화물 자동차 관세철폐 기간이 ...</td>\n",
       "      <td>한미 FTA 협상 브리핑하는 김현종(서울=연합뉴스) 안정원 기자 = 김현종 통상교섭...</td>\n",
       "      <td>픽업트럽 관세 연장에 미래시장 축소…안전기준 완화로 미국산 공세 예상\\n\\n미국 생...</td>\n",
       "      <td>미국의 25% 철강 추가관세 부과국에서 한국이 제외된 것에 대해 국내 철강업계가 안...</td>\n",
       "    </tr>\n",
       "    <tr>\n",
       "      <th>68</th>\n",
       "      <td>컴퓨터·휴대전화·합성수지·유화\\n대중 수출 79% 중간재 피해 우려\\n“중국산과 경...</td>\n",
       "      <td>FTA 개정 협상 원칙적 타결\\n미국산 자동차에 대한 한국 시장 추가 개방과 한국산...</td>\n",
       "      <td>트럼프에 추가 무역보복 경고\\n한정 부총리도 “보호무역 출구 없다”\\n보유한 미 국...</td>\n",
       "      <td>중국, 전 세계 돼지고기 절반 소비\\n미국산 돼지고기에 25% 보복관세\\n트럼프 표...</td>\n",
       "      <td>자동차·항공기·반도체 등 미 주요 수출품목 타격 클 수도\\n\\n中 전 재무장관 \"중...</td>\n",
       "      <td>미·중 '통상 전면전'\\n'관세 보복' 넘어 패권경쟁 치닫는 미·중 통상전쟁\\n\\n...</td>\n",
       "      <td>성장률 저하·고용 악재 우려 / 美 “中 지재권 도둑질” WTO 제소 / 中 “국익...</td>\n",
       "      <td>농업·철강 지키고 車 양보…한미FTA 사실상 타결(영종도=연합뉴스) 서명곤 기자 =...</td>\n",
       "      <td>실물시장 번진 무역전쟁 공포\\n\\n◆ 美·中 무역전쟁 확산 ◆\\n\\n미국과 중국의 ...</td>\n",
       "      <td>美, 나프타 개정 등 무역질서 재편 노려\\n中, EU 연대 자유무역 주도권 잡기 역...</td>\n",
       "      <td>한미 협상 결과는(영종도=연합뉴스) 서명곤 기자 = 미국에서 한미 자유무역협정(FT...</td>\n",
       "      <td>김현종 \"농업 레드라인 지켰다·기존 관세양허 후퇴도 없어\"(영종도=연합뉴스) 서명곤...</td>\n",
       "      <td>김현종 미국과 협상 결과 설명(영종도=연합뉴스) 서명곤 기자 = 미국에서 한미 자유...</td>\n",
       "      <td>- [누구를 위한 무역전쟁인가]③\\n- 中 '보복 경고' 말 한 마디에..돼지고기,...</td>\n",
       "      <td>미 보복관세, 중 제2의 사드보복…우리 정부 곤혹\\n도널드 트럼프 미국 대통령과 시...</td>\n",
       "      <td>【서울=뉴시스】이재준 기자 = 미중 간 무역전쟁이 발발할 조짐을 보이는 속에서 그간...</td>\n",
       "      <td>미국 \"中, 지식재산권 도둑질\" WTO에 제소(베이징 AP=연합뉴스) 미국 정부는 ...</td>\n",
       "      <td>[머니투데이 베이징(중국)=진상현 특파원] [므누신·류허 첫 통화… 무역전쟁, 결국...</td>\n",
       "      <td>(워싱턴DC AP=연합뉴스) 도널드 트럼프 대통령은 23일(현지시간) 백악관에서 열...</td>\n",
       "      <td>(서울=연합뉴스) 황정우 기자 = 중국이 미국의 대중 무역제재에 맞서 애플과 제너럴...</td>\n",
       "    </tr>\n",
       "    <tr>\n",
       "      <th>69</th>\n",
       "      <td>\"중국, 미국과 무역전쟁 및 대화 나설 준비돼 있어…미국에 달려\"\\n\\n미중 무역 ...</td>\n",
       "      <td>김현종 통상교섭본부장이 지난 1월 31일~2월 1일 서울에서 열린 한·미 자유무역협...</td>\n",
       "      <td># 미국과 중국이 무역전쟁에 돌입했다. 선전포고는 도널드 트럼프 미국 대통령이 날렸...</td>\n",
       "      <td># 미국과 중국이 무역전쟁에 돌입했다. 선전포고는 도널드 트럼프 미국 대통령이 날렸...</td>\n",
       "      <td>[사진=게티이미지]\\n\\n유예 결정을 받은 철강 관세 면제와 한미 FTA 개정협상 ...</td>\n",
       "      <td>시카고상품거래소서 돈육 선물 가격 역대 최저치로\\n\\n대두·옥수수 거래 가격도 휘청...</td>\n",
       "      <td>추이톈카이(崔天凱) 주미 중국대사는 퉁상압박을 가하는 미국에 대한 대항조치로서 미국...</td>\n",
       "      <td>자동차·항공기·반도체 등 미 주요 수출품목 타격 클 수 있어\\n\\n中 전 재무장관 ...</td>\n",
       "      <td>【서울=뉴시스】이재준 기자 = 중국 정부는 미국이 중국을 지적재산권 침해 혐의로 세...</td>\n",
       "      <td>【서울=뉴시스】김종민 기자 = 미국과 중국 간의 통상전쟁이 격화되면서 양국(G2)과...</td>\n",
       "      <td>WTO 체제 산파 역할 한 미국이 WTO 흔들어…중재 기능 유명무실\\n\\n컨센서스 ...</td>\n",
       "      <td>주변국으로 확전 가능성…\"미·중 양패구상 우려, 세계경제에도 부담\"\\n\\n(서울=연...</td>\n",
       "      <td>(서울=연합뉴스) 경수현 기자 = 미국과 중국 간 무역전쟁의 전운이 고조되면서 증시...</td>\n",
       "      <td>【 베이징=AP/뉴시스】도널드 트럼프 미국 대통령이 9일 베이징 인민대회당에서 열린...</td>\n",
       "      <td>【워싱턴=AP/뉴시스】도널드 트럼프 미국 대통령이 22일(현지시간) 중국을 향한 5...</td>\n",
       "      <td>동영상 뉴스\\n[앵커]\\n미국과 중국의 관세 공방으로 무역전쟁이 본격화될 우려감이 ...</td>\n",
       "      <td>동영상 뉴스\\n미국이 중국에 500억 달러 규모의 관세를 부과한 데 이어 지식재산권...</td>\n",
       "      <td>【브뤼셀=AP/뉴시스】장 클로드 융커(왼쪽) 유럽연합(EU) 집행위원장과 도널트 투...</td>\n",
       "      <td>中류허 부총리 \"국가이익 보호할 준비됐다\"\\n러우지웨이 전 장관 \"미국산 대두부터 ...</td>\n",
       "      <td>【베이징=AP/뉴시스】류허(劉鶴) 중국 부총리가 24일 스티븐 므누신 미국 재무장관...</td>\n",
       "    </tr>\n",
       "    <tr>\n",
       "      <th>70</th>\n",
       "      <td>[머니투데이 구유나 기자] [지난해 美 수입 규모 13조원…美 아이오와주 등 타격 ...</td>\n",
       "      <td>GDP내 수출 10년간 35→19%…미국농업 중국의존도↑\\n\\nWSJ \"관세폭탄에도...</td>\n",
       "      <td>므누신 장관, '관세폭탄' 조치 통보…류허 \"中 이익지킬 능력 있다\"\\n\\n류허 중...</td>\n",
       "      <td>협상 포석 선점단계…중국, 미국에 양국 분업구조 설득 나서\\n\\n미국 중국 통상 갈...</td>\n",
       "      <td>도널드 트럼프 미 대통령© AFP=뉴스1\\n\\n\\n(서울=뉴스1) 윤지원 기자 = ...</td>\n",
       "      <td>환경오염 우려한 중국 폐기물금수조치 불가피…빗장치기 계속\\n\\n(서울=연합뉴스) 김...</td>\n",
       "      <td>\"세부 징세 리스트·세율 공개 안 돼…무역전쟁 발발해도 국지전에 그칠 듯\"\\n\\n인...</td>\n",
       "      <td>특허권 무단사용·기술 이전 강요 등 주장\\n\\n(워싱턴=연합뉴스) 이승우 특파원 =...</td>\n",
       "      <td>도널드 트럼프 미국 대통령이 22일(현지시간) 백악관에서 중국산 수입품에 대해 연 ...</td>\n",
       "      <td>동영상 뉴스\\n[앵커]\\n미국과 중국의 관세 공방으로 무역전쟁이 본격화될 우려감이 ...</td>\n",
       "      <td>중국 상무부, 30억달러 맞불 관세 계획 발표\\n\\n美 보호주의 맞서 싸울 준비와 ...</td>\n",
       "      <td>[머니투데이 뉴욕(미국)=송정렬 특파원]\\n뉴욕증시가 트럼프발 무역전쟁의 공포에 이...</td>\n",
       "      <td>23일 삼성전자 주가 3.98%, SK하이닉스 6.21% 하락\\n'중간재' 수출 비...</td>\n",
       "      <td>뉴욕증권거래소(NYSE). © AFP=뉴스1\\n\\n(서울=뉴스1) 이창규 기자 = ...</td>\n",
       "      <td>中 보복예고에 'G2 충돌' 가시화…내주 글로벌 증시도 살얼음\\n\\n무역전쟁 우려에...</td>\n",
       "      <td>[서울신문]\\n미국과 중국의 주고받기식 관세 폭탄으로 촉발된 ‘미·중 무역전쟁’의 ...</td>\n",
       "      <td>[서울신문]\\n작년 對中 수출 78.9%가 중간재\\n中성장률 둔화 땐 한국산 수입도...</td>\n",
       "      <td>[서울신문]\\n한국 中수출 타격 우려… 증시 급락\\n세계 주요 2개국(G2)인 미국...</td>\n",
       "      <td>미, 중국산 제품 1300여 개 겨냥\\n15일 내 관세 부과 행정명령 발동\\n대응 ...</td>\n",
       "      <td>미, 어느 품목에 몇 % 부과 결정까지\\n보름 정도 협상 시한 남아 있는 셈\\n\\n...</td>\n",
       "    </tr>\n",
       "    <tr>\n",
       "      <th>71</th>\n",
       "      <td>작년 대중국 수출액 1421억 달러\\n그중 79% 중간재·부품이 차지\\n중국의 대미...</td>\n",
       "      <td>\"중국, 대두·옥수수·밀까지 '트럼프 텃밭' 정조준\"\\n\\n\"떨어지는 수출 경쟁력 ...</td>\n",
       "      <td>미국이 한국산 철강에 대한 25% 관세 부과를 4월 말까지 유예하기는 했지만 향후 ...</td>\n",
       "      <td>ㆍ중, 합의 가능성 열어뒀지만…미, 환율조작국 발표 예정 등 불씨\\nㆍ‘중국 대미 ...</td>\n",
       "      <td>[앵커]\\n\\n미국이' 우리 철강제품에 대해 오늘(23일)부터 부과하려던 고율 관세...</td>\n",
       "      <td>[앵커]\\n\\n트럼프 미국 대통령이 오늘(23일) 중국에 대한 대규모 관세 부과 조...</td>\n",
       "      <td>동영상 뉴스\\n&lt;앵커&gt;\\n\\n이런 가운데 미국은 한국산 철강에 대한 25% 관세 부...</td>\n",
       "      <td>동영상 뉴스\\n[앵커]\\n\\n이런 가운데 미국은 수입산 철강에 '관세폭탄'을 매기는...</td>\n",
       "      <td>동영상 뉴스\\n[뉴스데스크]◀ 앵커</td>\n",
       "      <td>미·중 '통상 전면전' 새우 등 터지는 한국\\n중국·미국은 1·2위 교역 상대국…균...</td>\n",
       "      <td>미·중 '통상 전면전' 보복관세 치고받아\\n보복 악순환 우려\\n\\n\"글로벌 무역 위...</td>\n",
       "      <td>미·중 '통상 전면전' 보복관세 치고받아\\n\\n태양광·철강 이어 지재권 침해에 '관...</td>\n",
       "      <td>트럼프, ‘對中 무역적자 줄이겠다’ 의지 / 中기업의 美 IT업체 기술 빼가기도 차...</td>\n",
       "      <td>트럼프 ‘65조 中 수입품 관세’ 서명 / 중국 겨냥 “많은 조치 중 첫 번째” /...</td>\n",
       "      <td>中 해군, 남중국해에 실전훈련 예고 … 美해군의 군사작전에 맞대응\\n도널드 트럼프 ...</td>\n",
       "      <td>미·중 격돌에 세계 금융시장 패닉 코스피 6년여 만에 최대폭 하락… 안전자산에 돈 ...</td>\n",
       "      <td>【베이징=AP/뉴시스】도널드 트럼프 미국 대통령이 9일 중국 베이징 인민대회당에서 ...</td>\n",
       "      <td>美, 중국산 年 600억弗 관세..中, 128개 품목에 보복관세\\n양국 통상분쟁 확...</td>\n",
       "      <td>코스피 ‘공포지수’ 25% 뛰기도\\n대형주들 3% 이상씩 급락\\n미국발 무역분쟁 우...</td>\n",
       "      <td>세계 관세율 10%로 높이면 韓 수출 173억弗 줄어들어\\n中 성장둔화땐 전방위 타...</td>\n",
       "    </tr>\n",
       "    <tr>\n",
       "      <th>72</th>\n",
       "      <td>[한겨레] 트럼프 지시, 중국의 기술이전 요구 등에 집중\\n\\n중국의 최첨단 산업 ...</td>\n",
       "      <td>미국과 중국의 무역전쟁이 확전 양상이다. 선공은 도널드 트럼프 행정부가 시작했지만,...</td>\n",
       "      <td>[한겨레] 미국 이어 아시아 증시도 폭락세\\n\\n“미국 소비자·기업도 피해” 전망\\...</td>\n",
       "      <td>미중관계 크게 바꾼 도널드 트럼프 미국 대통령[AP=연합뉴스 자료사진]\\n\\n\\n미...</td>\n",
       "      <td>22일(현지시간) 미국 무역대표부(USTR)의 철강 관세 한시 면제 발표로 한국 통...</td>\n",
       "      <td>금융시장 이미 직격탄…\"수출·고용·경제성장에 타격 불가피\"\\n\\n\"소규모 개방경제로...</td>\n",
       "      <td>트럼프, 중국 수입품에 관세폭탄 행정명령 서명…中, 美 철강·돈육에 보복\\n글로벌증...</td>\n",
       "      <td>韓, 中수출의 79%가 중간재\\n中 대미수출 줄면 韓도 타격\\n中 편들 수도 없고 ...</td>\n",
       "      <td>中 서비스업 비중 커져 美영향력 감소…중국산에 美기업제품 많아\\n\\nWSJ \"움직이...</td>\n",
       "      <td>중국 미국에 대화로 문제 풀고 싶다는 의사 표시한 것\\nCNBC 갈무리\\n\\n(서울...</td>\n",
       "      <td>600억弗 관세폭탄 vs 30억弗 보복관세\\nUS President Donald T...</td>\n",
       "      <td>\"美국민에 500억불 세금 매긴 꼴\" vs 록히드마틴 \"미국에 중요\" 반색\\n\\n(...</td>\n",
       "      <td>미·중 '고래싸움'에…한국 반도체 등 중간재 수출 타격 우려 [한국무역협회 제공=연...</td>\n",
       "      <td>[머니투데이 베이징(중국)=진상현 특파원, 김신회 기자] [상무부, 돼지고기·과일·...</td>\n",
       "      <td>[머니투데이 유희석 기자] [中 '사드보복' 전략 사용 가능성…中 진출 美 기업, ...</td>\n",
       "      <td>미국발(發) 보호무역주의에 시달리고 있는 철강업계가 동남아로 눈을 돌리고 있다. 특...</td>\n",
       "      <td>도널드 트럼프 미국 대통령과 아베 신조 일본 총리 [이미지출처=AP연합뉴스]\\n\\n...</td>\n",
       "      <td>덴마크 총리 “EU-美, 밀접한 동맹…면제 대상 포함은 타당”\\n美에 ‘보복’ 경고...</td>\n",
       "      <td>(서울=연합뉴스) 이재윤 기자 = 미국의 관세폭탄 예고로 세계 양대 경제대국 미국과...</td>\n",
       "      <td>미국-중국 무역전쟁 서막(PG)[제작 이태호]\\n\\n\\n\"서비스 무역선 미국이 흑자...</td>\n",
       "    </tr>\n",
       "    <tr>\n",
       "      <th>73</th>\n",
       "      <td>(상하이=연합뉴스) 정주호 특파원 = 미국의 '관세폭탄' 예고에 중국이 먼저 미국산...</td>\n",
       "      <td>【워싱턴=AP/뉴시스】도널드 트럼프 미국대통령은 22일(현지시간) 백악관에서 중국산...</td>\n",
       "      <td>도널드 트럼프 미국 대통령이 22일(현지시간) 백악관에서 '중국의 경제침략을 표적으...</td>\n",
       "      <td>도널드 트럼프 미국 대통령이 22일(현지시간) 워싱턴 백악관에서 중국산 수입품에 대...</td>\n",
       "      <td>(베이징=연합뉴스) 김진방 특파원 = 미국이 중국 수입품에 대규모 관세를 물리겠다고...</td>\n",
       "      <td>(서울=연합뉴스) 이재윤 기자 = 도널드 트럼프 미국 대통령이 중국을 향해 '무역전...</td>\n",
       "      <td>【워싱턴=AP/뉴시스】최근 미국 정부와 언론이 지난 3일 개최된 중국의 '항일전쟁 ...</td>\n",
       "      <td>(서울=뉴스1) 김윤정 기자 = yjyj@\\n\\n</td>\n",
       "      <td>中, 맞불관세 계획 (PG) [제작 이태호]\\n\\n\\n</td>\n",
       "      <td>22일(현지시간) 도널드 트럼프 대통령이 중국산 제품에 600억달러의 관세를 매기는...</td>\n",
       "      <td>철강 관세 면제 협상이 장기화 (PG)[제작 최자윤] 일러스트\\n\\n\\n4월말까지 ...</td>\n",
       "      <td>\"정부 협상만 기다릴 수 없어\"…'품목 예외' 신청 추진\\n\\n(서울=연합뉴스) 김...</td>\n",
       "      <td>(서울=연합뉴스) 강건택 기자 = 22일(현지시간) 발표된 중국산 수입품에 대한 미...</td>\n",
       "      <td>중국 무역제재 행정명령에 서명하는 도널드 트럼프 미 대통령.© AFP=뉴스1\\n\\n...</td>\n",
       "      <td>청문회서 동맹에 미칠 악영향 우려 봇물 \"무역전쟁 방아쇠…동맹관계에 상처\"\\n\\n로...</td>\n",
       "      <td>[머니투데이 신현우 기자] [미국발 금리 인상으로 국내 금리 인상 예견…\"급여 감소...</td>\n",
       "      <td>대출금리 상승으로 이어져 ‘갭투자자’ 직격탄 가능성… 최악의 ‘거래 절벽’ 우려도\\...</td>\n",
       "      <td>100여개 품목 최대 600억 달러… 中 기업들의 대미 투자도 제한\\n사진=AP뉴시...</td>\n",
       "      <td>【워싱턴=AP/뉴시스】도널드 트럼프 미국 대통령이 22일(현지시간) 중국을 향한 5...</td>\n",
       "      <td>코스피 상승 2496\\n미국 기준금리 인상으로 한·미 금리 역전이 발생했지만 국내 ...</td>\n",
       "    </tr>\n",
       "    <tr>\n",
       "      <th>74</th>\n",
       "      <td>G2 무역전쟁 발발… 불똥은 전 세계로\\n\\n\\n韓·EU·호주 등과 면세 협상 대신...</td>\n",
       "      <td>① 원·달러 환율\\n달러 약세 원화 강세 지속땐 외국 자본 국내 붙잡아 둬\\n② 시...</td>\n",
       "      <td>전문가 \"금리 올라가며 신용도 낮은 차주들 가산금리 더 올라가 부담 커져\"\\n\\n[...</td>\n",
       "      <td>한국을 포함한 7개국 면제대상\\n김현종 본부장 \"4월말까지 유예\"\\n한미FTA 개정...</td>\n",
       "      <td>美·中 '무역전쟁' 선포하는 트럼프(워싱턴 AFP=연합뉴스) 도널드 트럼프 미국 대...</td>\n",
       "      <td>[서울신문]\\n코스피 소폭 상승… 시장은 담담\\n“가계빚 대비 ‘실탄’ 확보해둬야”...</td>\n",
       "      <td>[서울신문]\\n美 기준금리 0.25%P 인상\\n올해만 2차례 추가 인상 예고\\n한·...</td>\n",
       "      <td>[서울신문]\\n미국 금리 인상 속도가 빨라지면서 국내 대출금리도 한층 가파르게 오를...</td>\n",
       "      <td>미국 철강 '관세폭탄', 면제협상 (PG) [제작 최자윤] 일러스트\\n\\n\\n김현종...</td>\n",
       "      <td>[오늘의 세상]\\n\\n트럼프, 對中 기술장벽 세워 첨단투자 막고 중국産 제품 관세\\...</td>\n",
       "      <td>[동아일보]\\n주택대출 이자부담 크게 늘듯\\n4% 넘기면 시장영향 본격화\\n21일(...</td>\n",
       "      <td>[10년 7개월만에 기준금리 역전, 우리경제 영향 당장은 괜찮지만…]\\n\\n- 경제...</td>\n",
       "      <td>[동아일보]\\n53조원 규모 對中 징벌적 조치\\n도널드 트럼프 미국 대통령이 대중(...</td>\n",
       "      <td>[동아일보]\\n[한미 기준금리 역전]美 ‘경기회복 자신감’ 금리 인상\\n미국 연방준...</td>\n",
       "      <td>트럼프, 중국산 수입품에 관세 폭탄 (PG) [제작 이태호]\\n\\n\\n'중국의 경제...</td>\n",
       "      <td>도널드 트럼프 미국 대통령. © AFP=뉴스1\\n\\n(서울=뉴스1) 양재상 기자 =...</td>\n",
       "      <td>【워싱턴=AP/뉴시스】도널드 트럼프 미국 대통령이 22일(현지시간) 중국을 향한 5...</td>\n",
       "      <td>트럼프, 50조원대 정밀타격 vs 중국, 트럼프 표밭 '보복 칼날'\\n\\nG2와 폭...</td>\n",
       "      <td>미국이 중국산(産) 수입품에 약 500억달러(약 54조원)의 관세를 부과할 전망이다...</td>\n",
       "      <td>김현종 \"한국, 철강관세 부과 4월말까지 잠정유예\" [연합뉴스TV 제공]\\n\\n\\n</td>\n",
       "    </tr>\n",
       "    <tr>\n",
       "      <th>75</th>\n",
       "      <td>포스코에서 생산한 고품질 철강 냉연제품\\n미국 정부가 한국산 철강에 대한 관세를 결...</td>\n",
       "      <td>한국, 미국 철강 '관세 폭탄' 피해 (CG) [연합뉴스TV 제공]\\n\\n\\nUST...</td>\n",
       "      <td>美 USTR 대표 \"트럼프 대통령 기준에 따라 일시 면제\"\\n한국이 미국의 수입 철...</td>\n",
       "      <td>한국이 4월말까지 일시적으로 미국의 철강 관세 부과 대상국에서 제외됐다. 도널드 트...</td>\n",
       "      <td>[금리 인상기, 대출 해법]\\n미 금리 인상, 국내 대출자 이자 부담 직격탄\\n신규...</td>\n",
       "      <td>한·미 금리 역전에도 차분한 시장\\nFed 기준금리 1.50~1.75%로 올려\\n올...</td>\n",
       "      <td>한·미 간 금리 역전이 한국 경제 전반에 미칠 파급력은 당분간 제한적일 것으로 전망...</td>\n",
       "      <td>ㆍ인상 압박 커졌지만 가계빚 부담\\nㆍ“당장은 괜찮다”…5월 금통위 주목\\n\\n\\n...</td>\n",
       "      <td>ㆍ한·미 ‘금리 역전’ 이후\\nㆍ가계 원리금 늘어 소비 둔화\\nㆍ부동산시장엔 한파 ...</td>\n",
       "      <td>[앵커]\\n\\n미국 중앙은행인 연방준비제도가 석 달만에 또 금리를 올렸습니다.\\n\\...</td>\n",
       "      <td>동영상 뉴스\\n【 앵커멘트 】\\n미국이 오늘(22일) 새벽 기준금리를 올려 한미 정...</td>\n",
       "      <td>동영상 뉴스\\n[리포트]\\n미국 기준금리 인상이 가져올 여파, 경제부 심정숙 차장과...</td>\n",
       "      <td>- 주택구입부담지수 6년 만에 최고\\n- \"수익형, 대출통한 투자 많아 타격\"\\n\\...</td>\n",
       "      <td>[한겨레] ‘미 금리인상’ 한국 대응은?\\n\\n한-미 금리역전 0.75~1%p차\\n...</td>\n",
       "      <td>금리 역전 장기화 땐 자본유출 우려 / 내수경기 회복 더뎌 금리 인상 부담 / 시장...</td>\n",
       "      <td>국내 경제 파장·전망 / 연준, 인상 기조유지로 불확실성 해소 / 금융시장은 우려와...</td>\n",
       "      <td>미국 Fed 0.25%P 올려 연 1.50~1.75%… 한국은 연 1.50%\\n\\n...</td>\n",
       "      <td>한·미 기준금리 역전\\n\\n통화정책 셈법 복잡… '이주열 2기' 첫 시험대\\n\\n금...</td>\n",
       "      <td>한·미 기준금리 역전\\n\\n과거 두 차례 사례 살펴보니\\n\\n\"대규모 자본유출 방아...</td>\n",
       "      <td>라이트하이저 USTR 대표\\n철강관세 부과 대상서 한국 등 7개국 제외\\n\\nFTA...</td>\n",
       "    </tr>\n",
       "    <tr>\n",
       "      <th>76</th>\n",
       "      <td>10년만에 뒤집힌 한미금리\\n\\n◆ 한미금리 역전 ◆\\n\\n한미 양국의 정책금리가 ...</td>\n",
       "      <td>美 기준금리 0.25%P 올려\\n10년 만에 한국보다 높아져\\n한계차주 411조 이...</td>\n",
       "      <td>[머니투데이 송선옥 기자, 송정훈 기자, 진경진 기자] [성장률 상향으로 추가 금리...</td>\n",
       "      <td>한계차주 411조 이자폭탄\\n변동금리 주담대 기준되는\\n코픽스도 6개월 연속 상승\\...</td>\n",
       "      <td>■전면전 치닫는 G2 통상분쟁\\n美, 中 대미 흑자 '공격' 간주\\n관세·투자제한 ...</td>\n",
       "      <td>주식시장 호황으로 홍콩주민 유동자산 증가\\n원룸 11억원 경신…주거·교육 만족도 낮...</td>\n",
       "      <td>자료 : 한국은행\\n\\n한·미 간 금리역전 직후 대부분의 반응은 자금유출 가능성이 ...</td>\n",
       "      <td>【 서울·워싱턴=예병정기자 장도선특파원】 미국 중앙은행인 연방준비제도(연준)의 행보...</td>\n",
       "      <td>【서울=뉴시스】한국은행 금융통화위원회는 27일 기준금리를 연 1.50%로 동결했다....</td>\n",
       "      <td>[머니투데이 구경민 기자, 권혜민 기자] [편집자주] 한국과 미국의 기준금리가 10...</td>\n",
       "      <td>FOMC 결정으로 한미 금리역전 부담 조금은 덜어내\\n5월 넘기고 6월에 美 상황 ...</td>\n",
       "      <td>금융·정보통신·의료·제조업 등 해외투자 규제 완화\\n美 트럼프, 대중 무역 제재 패...</td>\n",
       "      <td>금융채·코픽스 등 가계대출 조달금리 상승으로 이어질 듯\\n\\n가계대출 70%가 변동...</td>\n",
       "      <td>[머니투데이 김신회 기자] [첫 FOMC 회견서 이론·모델 대신 경제지표 근거한 통...</td>\n",
       "      <td>Federal Reserve Chairman Jerome Powell holds a...</td>\n",
       "      <td>[머니투데이 김영선 기자] [23일 관세부과 명단서는 빠질 듯…美 \"4월 말까지 철...</td>\n",
       "      <td>23일 관세부과 명단서는 빠질 듯\\n美 \"4월 말까지 철강관세 협상 마무리\"\\n포스...</td>\n",
       "      <td>- 파월체제 첫 회의 금리 인상\\n\\n위원 7명은 “올 4회 인상” 주장\\n\\n내년...</td>\n",
       "      <td>인상 속도내며 옐런과 차별화\\n\\n기존정책 연속성 유지 발언도\\n\\n“보호무역 리스...</td>\n",
       "      <td>- 새우 등 터지는 韓\\n\\n휴대전화 등 반짝이익 있겠지만\\n\\n수출주력품 중간재 ...</td>\n",
       "    </tr>\n",
       "    <tr>\n",
       "      <th>77</th>\n",
       "      <td>이미지를 클릭하면 큰 이미지를 보실 수 있습니다.\\n\\n\\n- 중국에 관세폭탄 던지...</td>\n",
       "      <td>이미지를 클릭하면 큰 이미지를 보실 수 있습니다.\\n\\n\\n- 당한 만큼 되갚겠다는...</td>\n",
       "      <td>금리 역전에도…韓 원화·주식·채권 '강세'\\n\"FOMC 덜 매파적\"…국내 시장 '안...</td>\n",
       "      <td>【워싱턴=AP/뉴시스】21일(현지시각) 제롬 파월 연방준비제도(Fed·연준) 의장이...</td>\n",
       "      <td>美, 석달만에 0.25%P 금리인상…'올해 3차례 인상기조' 유지(워싱턴DC AP=...</td>\n",
       "      <td>(서울=연합뉴스) 홍정규 기자 = 금융감독원은 22일 미국 연방준비제도(연준)의 기...</td>\n",
       "      <td>비경제학자 출신답게 이론서 자유로워…\"필립스곡선 중시한 옐런과 차별화\"\\n\\n(서울...</td>\n",
       "      <td>제롬 파월 미 연준 의장(왼쪽)과 이주열 한은 총재. 연합뉴스\\n\\n\\n미국 중앙은...</td>\n",
       "      <td>\"가계부채 등 리스크요인 철저히 점검\"\\n22일 외화 유동성 회의…\"스트레스테스트 ...</td>\n",
       "      <td>(서울=연합뉴스) 증권팀 = 미국의 금리 인상에 따른 한·미 기준금리 역전에도 국내...</td>\n",
       "      <td>[헤럴드경제=유재훈 기자] 미국 중앙은행인 연방준비제도(Fedㆍ연준)가 기준금리를 ...</td>\n",
       "      <td>(사진=아시아경제DB)\\n\\n\\n[아시아경제 이현우 기자] 한국과 미국의 금리역전이...</td>\n",
       "      <td>[한겨레] 미 정책금리 인상, 역대 세번째 금리역전\\n\\n이 총재, 금융·경제상황 ...</td>\n",
       "      <td>한은, 올해 금리 인상 앞당겨질 수도\\n\\n\\n\\n(서울=연합뉴스) 윤선희 유현민 ...</td>\n",
       "      <td>금리인상시 재정확대와 엇박자 우려…긴밀공조 필요\\n\\n[헤럴드경제=이해준 기자]미국...</td>\n",
       "      <td>제롬 파월 미국 연방준비제도 의장. 뉴시스\\n\\n\\n미국 연방준비제도(연준)가 기준...</td>\n",
       "      <td>이주열 한국은행 총재 22일 출근길서 밝혀\\n이주열 한국은행 총재가 22일 오전 서...</td>\n",
       "      <td>이주열 한국은행 총재 22일 출근길서 밝혀\\n이주열 한국은행 총재가 22일 오전 서...</td>\n",
       "      <td>이주열 한국은행 총재 후보자 21일 국회에서 열린 인사청문회에 출석, 의원들 질의에...</td>\n",
       "      <td>질문 받는 이주열 총재(서울=연합뉴스) 정하종 기자 = 이주열 한국은행 총재가 22...</td>\n",
       "    </tr>\n",
       "    <tr>\n",
       "      <th>78</th>\n",
       "      <td>美무역대표부 대표, 中지식재산권 침해 비판\\n\"韓과 마지막 협상 중\"…철강 관세서 ...</td>\n",
       "      <td>EU 통상집행위원, 美 방문해 \"즉각 논의 개시\"\\n투스크 \"관세 면제 가능성, 조...</td>\n",
       "      <td>【워싱턴=신화/뉴시스】로버트 라이트하이저 미무역대표부(USTR) 대표가 18일(현지...</td>\n",
       "      <td>로버트 라이트하이저 미 무역대표부(USTR) 대표가 21일(현지시간) 하원 세입위원...</td>\n",
       "      <td>철강관세 면제 협상 (CG) [연합뉴스TV 제공]\\n\\n\\nUSTR대표, 한미FTA...</td>\n",
       "      <td>[이미지출처=로이터연합뉴스]\\n\\n[아시아경제 이지은 기자] 미국 연방준비제도(Fe...</td>\n",
       "      <td>[그래픽] 미 기준금리 0.25%P 인상, 10년만에 한국 금리 추월\\n\\n\\n파월...</td>\n",
       "      <td>[머니투데이 뉴욕(미국)=송정렬 특파원] [연준, 올해 첫 금리인상 단행… 내년 금...</td>\n",
       "      <td>[그래픽] 미 기준금리 0.25%P 인상, 10년만에 한국 금리 추월\\n\\n\\n[연...</td>\n",
       "      <td>\"금리차 0.75%p 이상 커지면 자본유출이 코스피에 강력한 하방압력될 듯\"\\n\\n...</td>\n",
       "      <td>미국연방준비제도(연준) © AFP=뉴스1\\n\\n(서울=뉴스1) 김정한 기자 = 미국...</td>\n",
       "      <td>제롬 파월 미 연준 의장이 21일(현지시간) 연방공개시장위원회 정례회의 뒤 가진 기...</td>\n",
       "      <td>소비·투자·고용 '양호한' 흐름..감세정책 한몫\\n내년 성장전망치도 2.4%..0....</td>\n",
       "      <td>석달 만에 0.25%포인트 인상..'제롬 파월' 의장 체제 이후 처음\\n2015년 ...</td>\n",
       "      <td>[서울신문]\\n중국산엔 年 64조원 관세 예고\\n한국 일부 철강 41% 관세 폭탄\\...</td>\n",
       "      <td>파월의 연준 첫 금리 인상...내년 금리인상 횟수도 늘려\\n[서울경제]\\n\\n미국 ...</td>\n",
       "      <td>[ 뉴욕=김현석 기자 ] 미 중앙은행(Fed)이 기준금리를 0.25%포인트 인상했다...</td>\n",
       "      <td>【워싱턴=AP/뉴시스】문예성 기자 = 미국 연방준비제도(Fed, 연준)가 21일(현...</td>\n",
       "      <td>연준, 2년새 6차례 1.5%P 인상…\"올해 3차례 인상기조 유지\"\\n\\n'골디락스...</td>\n",
       "      <td>1.5~1.75%로 한국보다 높아져…올해 세번 인상전망 유지\\n\\n[출처 = 연합뉴...</td>\n",
       "    </tr>\n",
       "  </tbody>\n",
       "</table>\n",
       "<p>79 rows × 20 columns</p>\n",
       "</div>"
      ],
      "text/plain": [
       "                                                   0   \\\n",
       "0   韓-印尼 정상 \"양국 긴밀 협조\"\\n美·中전쟁서 돌파구 모색\\n韓+아세안 10개국+...   \n",
       "1   [머니투데이 유희석 기자] [최대 농산물 수출품 '콩'만 수출 급감…트럼프, 관세 ...   \n",
       "2   \"'플라자 합의' 중국에 부과할 수 있다는 환상 버려야\"\\n\\n추이톈카이 주미 중국...   \n",
       "3   아르헨, 내년 부채 상환능력에 시장 불신…브라질, 대선 불확실성이 주요인\\n\\n아르...   \n",
       "4   [머니투데이 유희석 기자] [美 실업률 역사적 저점, 소비심리도 최고…\\n파월, 낮...   \n",
       "5   인민銀 기준환율 정할 때\\n'경기대응 요소' 다시 반영\\n\\n[ 강동균 기자 ] 중...   \n",
       "6   미중 이틀간 협상 중…中반도체·美 할리데이비슨 등 대상\\n\\n中상무부 \"미국에 반격...   \n",
       "7   ㆍ미 ‘관세폭탄’에 환율·물가 출렁\\nㆍ명절 앞둔 도심 위기 체감 ‘아직’\\nㆍ불안...   \n",
       "8   \"브런슨 목사 부당 처우 잊지 않을 것…터키 보복관세 유감\"\\n\\n세라 샌더스 미국...   \n",
       "9   리라화 다소 진정 기미 속\\n아르헨ㆍ인도 등도 환율 치솟아\\n미국과 갈등 확산 불안...   \n",
       "10  美, 몰아붙이다 內傷 中, 본전도 못 찾을라\\n\\n\\n도널드 트럼프 미국 행정부가 ...   \n",
       "11  6월 실질임금 2.8% 증가\\n소비지출은 5개월째 감소\\n모든 세대가 긴축에 익숙\\...   \n",
       "12  하반기 경제정책 방향 확정\\n\\n(1) 유동성 충분히 공급\\n(2) 부채 축소 속도...   \n",
       "13  (도쿄=연합뉴스) 최이락 특파원 = 일본은행은 31일 금융정책결정회의를 열고 장기금...   \n",
       "14  © News1 방은영 디자이너\\n\\n(서울=뉴스1) 양재상 기자 = 미국과 중국 대...   \n",
       "15  고래싸움에 새우등 터진다더니…\\n\\n【 서울·워싱턴=송경재 기자 장도선 특파원】 한...   \n",
       "16  트럼프 대통령 이어 므누신 재무장관도 위안 약세 문제 거론\\n도널드 트럼프 미국 대...   \n",
       "17  (서울=연합뉴스) 문정식 기자= 도널드 트럼프 대통령이 전방위적인 반대 여론에도 불...   \n",
       "18  [머니투데이 유희석 기자] [美 보호주의에 반발, 주요 무역협정 급물살…TPP·RC...   \n",
       "19  저금리 여파로 부채비율 급등.. 1분기 247조달러 역대 최대\\n미중 무역전쟁 인플...   \n",
       "20  [머니투데이 세종=정혜윤 기자] [산업부, 산업연구원·업종별 협단체와 추가 관세 부...   \n",
       "21  미국, 2천억달러 중국산 제품에 10% 추가 관세 부과 (CG)[연합뉴스TV 제공]...   \n",
       "22  (서울=연합뉴스) 신유리 기자 = 중국의 식료품 유통 업체인 쑤저우화둥식품은 미국에...   \n",
       "23  미중 무역전쟁, 세계 경제 위협 (PG)[제작 정연주] 일러스트\\n\\n\\n(베이징=...   \n",
       "24  미국이 관세부과 액수 늘려 동일 규모 보복 불가능해 질 경우 대비해 다양한 질적 보...   \n",
       "25  미, EU·캐나다·멕시코에 '국가안보' 내세워 철강관세 강행\\n\\nEU, 미국 겨냥...   \n",
       "26  6월 FOMC 의사록 공개…'무역 전쟁' 부정적 영향도 우려\\n\\n\\n\\n(뉴욕=연...   \n",
       "27  6일 미국 중국산 제품에 25% 관세 발효…중국 보복 예고\\n\\n세계 성장률 떨어지...   \n",
       "28  中, EU에 투자제한 완화 '유화책'도 제시…반대 부딪혀\\n\\n(서울=뉴스1) 김윤...   \n",
       "29  미 유력 정재계 인사 만나 아웃리치\\n백운규 산업통상자원부 장관이 29일(현지시간)...   \n",
       "..                                                ...   \n",
       "49  김영주 한국무역협회장 [무역협회 제공=연합뉴스]\\n\\n\\n(서울=연합뉴스) 김동현 ...   \n",
       "50  (세종=연합뉴스) 이 율 기자 = 미국 재무부가 13일(현지시간) 발표한 환율보고서...   \n",
       "51  [美, 한국 유정용 강관에 75% 관세 '뒤통수']\\n美에 픽업트럭·신약 등 내줬는...   \n",
       "52  [동아일보]\\n[美中 무역갈등 완화 조짐]보아오포럼 개막 연설서 ‘개방 확대 4대 ...   \n",
       "53  중국 상무부 “새로운 복합적인 조치를 미국에 취할 것” 경고\\n지난해 방한금지령, ...   \n",
       "54  동영상 뉴스\\n[앵커]\\n\\n미국과 중국이 무역 전쟁 중인 가운데 트럼프 대통령이 ...   \n",
       "55  [동아일보]\\n[토요판 커버스토리]美-中 무역전쟁 ‘양날의 칼’ 콩과 국채\\n지난달...   \n",
       "56  (제네바=연합뉴스) 이광철 특파원 = 중국과 미국의 무역분쟁이 세계무역기구(WTO)...   \n",
       "57  - 美·中 ‘무역전쟁’ 타협 돌입\\n\\n“세계 경제 주저앉을수도…”\\n\\n부과시점 ...   \n",
       "58  \"중국이 시장지향적으로 움직이길 원해\"\\n\\n미중 무역전쟁 대결·트럼프-시진핑 (P...   \n",
       "59  [서울신문]\\n미·중 무역전쟁이 확산되면 한국 수출이 최대 연 367억 달러나 급감...   \n",
       "60  【서울=뉴시스】조성봉 기자 = 원달러 환율이 2.4원 내린 1,054.20으로 장을...   \n",
       "61  미국이 500억달러(약 52조원)에 달하는 중국산 수입품에 추가 관세를 매기기로 했...   \n",
       "62  【베이징=AP/뉴시스】지난 3월23일 중국 베이징의 한 슈퍼마켓에서 여성 1명이 미...   \n",
       "63  중국 상무부 담화 발표 \"미국에 보복관세 민의 반영\", 무역전쟁 전면전보다 협상통한...   \n",
       "64  정부, 당혹감 속 진의 파악 분주\\n도널드 트럼프 미국 대통령이 29일(현지시간) ...   \n",
       "65  【베이징=AP/뉴시스】가오펑 중국 상무부 대변인이 29일 베이징에서 기자회견을 갖고...   \n",
       "66  동영상 뉴스\\n<앵커>\\n\\n이번 협상은 애초에 우리나라가 뭔가 얻을 수 있는 협상...   \n",
       "67  [머니투데이 유희석 기자, 뉴욕(미국)=송정렬 특파원] [中 고위급 잇달아 美 보호...   \n",
       "68  컴퓨터·휴대전화·합성수지·유화\\n대중 수출 79% 중간재 피해 우려\\n“중국산과 경...   \n",
       "69  \"중국, 미국과 무역전쟁 및 대화 나설 준비돼 있어…미국에 달려\"\\n\\n미중 무역 ...   \n",
       "70  [머니투데이 구유나 기자] [지난해 美 수입 규모 13조원…美 아이오와주 등 타격 ...   \n",
       "71  작년 대중국 수출액 1421억 달러\\n그중 79% 중간재·부품이 차지\\n중국의 대미...   \n",
       "72  [한겨레] 트럼프 지시, 중국의 기술이전 요구 등에 집중\\n\\n중국의 최첨단 산업 ...   \n",
       "73  (상하이=연합뉴스) 정주호 특파원 = 미국의 '관세폭탄' 예고에 중국이 먼저 미국산...   \n",
       "74  G2 무역전쟁 발발… 불똥은 전 세계로\\n\\n\\n韓·EU·호주 등과 면세 협상 대신...   \n",
       "75  포스코에서 생산한 고품질 철강 냉연제품\\n미국 정부가 한국산 철강에 대한 관세를 결...   \n",
       "76  10년만에 뒤집힌 한미금리\\n\\n◆ 한미금리 역전 ◆\\n\\n한미 양국의 정책금리가 ...   \n",
       "77  이미지를 클릭하면 큰 이미지를 보실 수 있습니다.\\n\\n\\n- 중국에 관세폭탄 던지...   \n",
       "78  美무역대표부 대표, 中지식재산권 침해 비판\\n\"韓과 마지막 협상 중\"…철강 관세서 ...   \n",
       "\n",
       "                                                   1   \\\n",
       "0   16일 베이징서 원탁회의…골드만 대표 등 초청\\n中, 월가 통해 교착빠진 무역협상 ...   \n",
       "1   5일 FTSE 신흥국지수 1.7% 하락\\n페소·리라 이어 루피아·랜드도 하락세\\n미...   \n",
       "2   \"무역전쟁 중에도 중국의 해외투자 꾸준히 늘어났다\"\\n\\nWTO사무총장 \"트럼프 발...   \n",
       "3   6년여간 연준 목표 2% 밑돌던 근원PCE물가, 7월에 2%↑\\n완전고용에 물가 정...   \n",
       "4   (도쿄=연합뉴스) 최이락 특파원 = 미국과 멕시코가 북미자유무역협정(NAFTAㆍ나프...   \n",
       "5   핵심쟁점 車부품·일몰조항 진전\\n캐나다 참여 여부가 관건으로\\n도널드 트럼프 미국 ...   \n",
       "6   미중 무역대결(PG)\\n\\n\\n(상하이=연합뉴스) 차대운 특파원 = 미국 정부가 2...   \n",
       "7   백악관 각료회의…커들로 \"투자자, 中서 美로 오고있다\"\\n\\n트럼프 \"공정한 것 얻...   \n",
       "8   터키, IMF 외 지원 받을 곳 없지만\\n이사국 미국의 구조조정 요구 걱정\\n국민에...   \n",
       "9   아르헨 금리 5%P 인상에도 페소화 가치 2.4% 떨어져…남아공 랜드화도 2.2%↓...   \n",
       "10  무역전쟁 격화 와중에 美 CEO들과 만찬서 중국문제 성토\\n\"일대일로는 모욕적\"… ...   \n",
       "11  @게티이미지뱅크\\n\\n중국이 미국에 대한 보복관세 부과대상에 액화천연가스(LNG)를...   \n",
       "12  콜라·휴지·기저귀부터 자동차·세탁기·맥주까지 소비재 가격 일제히 급등\\n관세 부담 ...   \n",
       "13  '단기금리 0.1%·장기금리 0% 유도' 틀은 유지하기로\\n2018년도 이래 물가상...   \n",
       "14  中총부채비율 10년새 260%로 급상승\\n[서울신문]\\n민간 빚 줄이려 대출 죄니 ...   \n",
       "15  \"중국은 경쟁적 통화 평가 절하 할 필요없어\"\\n트럼프·므누신 발언에 일일이 반박\\...   \n",
       "16  [동아일보]\\n상무부 주최 수입차관세 공청회\\n“미국의 수입 자동차 관세 부과는 한...   \n",
       "17  EU 집행위 사무총장 \"적 아니라 동맹이라고 설득하길\"\\n융커 \"유럽의 주장 반복해...   \n",
       "18  \"관세 효과 대부분 소비자에게 전가\"\\n\"가격 오르면 판매 200만대 감소할수도\"\\...   \n",
       "19  中 비관세조치 동원 등 맞대응\\n\\n美관광 꺼리고 불매운동 조짐\\n\\n王, 두문불출...   \n",
       "20  [이미지출처=연합뉴스]\\n\\n[아시아경제 이지은 기자]미국과 중국의 무역전쟁이 장기...   \n",
       "21  미국, 2천억달러 중국산 제품에 10% 추가 관세 부과 (CG)[연합뉴스TV 제공]...   \n",
       "22  구로다 하루히코(黑田東彦) 일본은행 총재\\n\\n\\n【서울=뉴시스】이재준 기자 = 구...   \n",
       "23  \"상대방이 관세 부과하면 중국도 상응한 반격 나설 것\"\\n\\n中, 무역전쟁 발발에 ...   \n",
       "24  \"일방적인 압박 시도는 헛된 것…중국 필요한 반격할 것\"\\n\\n트럼프, 대중 고율관...   \n",
       "25  아이폰(CG) [연합뉴스TV 제공]\\n\\n\\n첨단 IT 제품부터 가전 등 소비재에 ...   \n",
       "26  중국과 미국. © AFP=뉴스1\\n\\n(서울=뉴스1) 김정한 기자 = 미국이 중국에...   \n",
       "27  글로벌 무역 갈등, 제조업 경기 회복세에 찬물\\n금속제품 제조업체 \"매출은 27%↑...   \n",
       "28  8월1일까지 한시적…제품 판매·서비스 가능\\n블룸버그 \"모든 제재 풀릴 수도\"\\n<...   \n",
       "29  도요타·BMW, 상무부 의견서 제출…GM 등 미국 업계도 반대\\n\\n(서울=연합뉴스...   \n",
       "..                                                ...   \n",
       "49  삼성 시안공장서 낸드플래시 메모리, SK하이닉스 우시공장서 D램 메모리 생산 중\\n...   \n",
       "50  긴장 계속…中에 \"강하게 우려한다\" 경고성 메시지\\n© News1 방은영 디자이너\\...   \n",
       "51  넥스틸제품 75% 반덤핑관세…철강관세 면제 `편법 무력화`\\n\\n◆ 美, 한국철강에...   \n",
       "52  [동아일보]\\n[美中 무역갈등 완화 조짐]문재인 대통령 ‘마무리’ 발언과 대조\\n美...   \n",
       "53  '中관세'에 미국산 대두 유럽행…브라질 대두 중국행 늘어날듯\\n\\n미국산 석유화학제...   \n",
       "54  동영상 뉴스\\n미국과 중국의 무역분쟁이 결국 세계무역기구, WTO 에서 정식으로 다...   \n",
       "55  [동아일보]\\n미중 무역전쟁의 핵심 품목 중 하나로 떠오르고 있는 ‘콩(대두)’의 ...   \n",
       "56  베이징 특파원이 본 중국의 속내\\n사드 보복 때처럼 상대국 분열 노려\\n모든 카드 ...   \n",
       "57  미-중 정부, 대화 필요성 잇달아 제기\\n트럼프 \"무역전쟁 아니다\" 수위 낮춰\\n【...   \n",
       "58  \"트럼프 탓이 아니라 중국 탓\" 책임론 속 타협 여지\\n\\n트럼프도 \"중국과 무역전...   \n",
       "59  中, 美대두·자동차 등에 25% 보복관세…\"시행일 추후 공표\"(베이징 EPA=연합뉴...   \n",
       "60  [머니투데이 베이징(중국)=진상현 특파원, 유희석 기자] [美 500억 달러 관세 ...   \n",
       "61  [한겨레] ‘근린궁핍화’ 가열에 글로벌 과잉품목 우려\\n\\n철강, EU ‘우회수출’...   \n",
       "62  도널드 트럼프 대통령이 지난 달 29일 오하이오 리치필드 산업훈련소를 방문해 손을 ...   \n",
       "63  미중 무역전쟁 본격화 (PG)[제작 최자윤, 이태호] 일러스트\\n\\n\\n中정부 \"美...   \n",
       "64  중국제조 2025 조준한 미국 '관세폭탄'［연합뉴스 PG］\\n\\n\\n(상하이=연합뉴...   \n",
       "65  30일 USTR, 미 농축산물 관계자들과 회의\\n트럼프 지지층 아이오와주 피해 막으...   \n",
       "66  동영상 뉴스\\n<앵커>\\n\\n우리나라와 미국이 FTA 개정 협상과 철강 관세 협상을...   \n",
       "67  - 자동차업계 “수입차 공세 속 잠재적 리스크 확대”\\n- 철강업계, “최악 피했다...   \n",
       "68  FTA 개정 협상 원칙적 타결\\n미국산 자동차에 대한 한국 시장 추가 개방과 한국산...   \n",
       "69  김현종 통상교섭본부장이 지난 1월 31일~2월 1일 서울에서 열린 한·미 자유무역협...   \n",
       "70  GDP내 수출 10년간 35→19%…미국농업 중국의존도↑\\n\\nWSJ \"관세폭탄에도...   \n",
       "71  \"중국, 대두·옥수수·밀까지 '트럼프 텃밭' 정조준\"\\n\\n\"떨어지는 수출 경쟁력 ...   \n",
       "72  미국과 중국의 무역전쟁이 확전 양상이다. 선공은 도널드 트럼프 행정부가 시작했지만,...   \n",
       "73  【워싱턴=AP/뉴시스】도널드 트럼프 미국대통령은 22일(현지시간) 백악관에서 중국산...   \n",
       "74  ① 원·달러 환율\\n달러 약세 원화 강세 지속땐 외국 자본 국내 붙잡아 둬\\n② 시...   \n",
       "75  한국, 미국 철강 '관세 폭탄' 피해 (CG) [연합뉴스TV 제공]\\n\\n\\nUST...   \n",
       "76  美 기준금리 0.25%P 올려\\n10년 만에 한국보다 높아져\\n한계차주 411조 이...   \n",
       "77  이미지를 클릭하면 큰 이미지를 보실 수 있습니다.\\n\\n\\n- 당한 만큼 되갚겠다는...   \n",
       "78  EU 통상집행위원, 美 방문해 \"즉각 논의 개시\"\\n투스크 \"관세 면제 가능성, 조...   \n",
       "\n",
       "                                                   2   \\\n",
       "0   [머니투데이 김수현 인턴기자] [중간선거 앞둔 트럼프, 기업에 미국 내 생산 주문…...   \n",
       "1   도널드 트럼프 미국 대통령.© AFP=뉴스1\\n\\n(서울=뉴스1) 김정한 기자 = ...   \n",
       "2   \"미-멕시코 합의 의회통보\"…캐나다 합류 여지 열어놔\\n\\n\\n\\n(뉴욕=연합뉴스)...   \n",
       "3   중국과 무역전쟁 와중에 행정부내 강경파 힘싣기\\n\\n과거에도 \"나쁜 대접받아\" 불만...   \n",
       "4   트뤼도는 \"나프타 협상에서 캐나다 낙농 보호 불변\"\\n\\n\\n【서울=뉴시스】조인우 ...   \n",
       "5   [머니투데이 베이징(중국)=진상현 특파원] [편집자주] 지난 3월22일 도널드 트럼...   \n",
       "6   미중 이틀간 협상중…반도체·화학·플라스틱 등 산업재 대상 관세\\n\\n(서울=연합뉴스...   \n",
       "7   © News1 방은영 디자이너\\n\\n(서울=뉴스1) 양재상 기자 = 미국과 중국의 ...   \n",
       "8   외환스와프 등 규제·가계 소비도 억제…\"미와 긴장 완화가 근본 대책\" 지적도\\n\\n...   \n",
       "9   볼턴 美 보좌관 \"브런슨 목사 석방 없인 협상 없어\"\\n하메네이 터키 최고지도자 \"...   \n",
       "10  도널드 트럼프 미국 대통령(왼쪽)과 시진핑 중국 국가주석. ⓒ데일리안\\n\\n지난 5...   \n",
       "11  무역협상 성과 없을 경우 9월 18일 관세 발효\\n美, 인도에 농업 분야 시장 개방...   \n",
       "12  아시아 각국 제조업 지수 일제 하락\\n© News1 김일환 디자이너\\n\\n(서울=뉴...   \n",
       "13  마이크 폼페이오 미 국무장관이 30일(현지시간) 미 상공회의소 주최로 열린 인도-태...   \n",
       "14  스티븐 므누신 미국 재무장관 [AP=연합뉴스 자료사진]\\n\\n\\n스티븐 므누신 미국...   \n",
       "15  마크롱, 협상 권하는 트럼프에게 \"당신 책 읽었는데 우선 보복하라면서?\"\\n\\n(서...   \n",
       "16  “수요 감소로 일자리 62만개 줄 것”\\n상무부 주관 공청회서 입장 표명\\n드류 퍼...   \n",
       "17  [머니투데이 권다희 기자] [베이지북 \"관세로 미 제조업체 가격인상 부담 커져\"…수...   \n",
       "18  232조 적용 美 공청회 하루앞\\n\\n통상차관보 등 4명 대응팀 출국\\n\\n韓 관세...   \n",
       "19  구속력 없지만 강경반대 표명\\n\\n商議도 “물가상승 불러” 비판\\n\\n다우·유럽증시...   \n",
       "20  부동산·특별자산·혼합자산 펀드↑\\n주식형·파생상품 펀드·MMF↓\\n【서울=뉴시스】 ...   \n",
       "21  미국, 2천억달러 중국산 제품에 추가관세 부과 발표 (PG)사진합성 (사진출처 EP...   \n",
       "22  3%대 성장 물거품 가능성…주변국 협력, 공동대처 시급\\n“단기적으로 영향 미미하다...   \n",
       "23  최대 25% 관세에 年84만 대 미국 수출하는 한국 車업계 비상\\n美·中 '무역전쟁...   \n",
       "24  루캉 중국 외교부 대변인 [중국 외교부 제공=연합뉴스 자료사진]\\n\\n\\n(베이징=...   \n",
       "25  (서울=연합뉴스) 김지연 기자 = 미국이 6일(현지시간) 중국에서 수입하는 340억...   \n",
       "26  ‘25％ 폭탄 돌리기’… 6일 340억 달러 제품에 관세 동시 발효\\n\\n\\n세계 ...   \n",
       "27  리커창 \"중국ㆍEU 협력해 일방주의 도전에 대응해야\"\\n\\n융커 \"EU, 중국과 함...   \n",
       "28  미국, 中 차이나모바일의 美시장 진입 거부(베이징 로이터=연합뉴스) 중국 광둥성 광...   \n",
       "29  25% 관세 부과시 완성차 수출 5년간 662억 달러 예상\\n철강관세 협상 때처럼 ...   \n",
       "..                                                ...   \n",
       "49  美·日 정상회담 앞두고 신경전\\n\\nTPP 재가입 검토 지시한 트럼프\\n중간선거 앞...   \n",
       "50  5회 연속 관찰대상국 포함…\"외환시장 개입 제한하고 투명하게 공표해야\"\\n\\n관찰대...   \n",
       "51  美상무부, 韓철강 최종판정서 불리한 가용정보 멋대로 적용\\n넥스틸 등 막대한 피해 ...   \n",
       "52  美 추가제재 충격에 루블화 연이틀 급락(모스크바 로이터=연합뉴스) 10일 오후 6시...   \n",
       "53  \"트럼프 대통령, 협상 위한 수단으로 관세 위협 활용\" 분석\\n\\n실물 경제·금리에...   \n",
       "54  동영상 뉴스\\n[앵커]\\n보복 관세를 예고하며 무역전쟁도 불사하겠다고 나선 미국 트...   \n",
       "55  \"美와 최근 대화 없었다\"\\n【화이트 설퍼 스프링스(미 웨스트 버지니아주)=AP/뉴...   \n",
       "56  워싱턴 특파원이 본 미국의 속내\\n대통령 협상 지렛대 최대한 키우고\\n참모들은 중국...   \n",
       "57  “첨단과학 수출 제한 탓”…협상 포석 美압박\\n“美 보조금 때문에 중국 대두농가 불...   \n",
       "58  [서울신문]\\n미국 무역대표부(USTR)가 3일(현지시간) 25%의 고율 관세를 부...   \n",
       "59  USTR, ‘중국제조 2025’에 고율관세…시진핑 추진 제조업 육성정책 정조준 / ...   \n",
       "60  구로다 총재 연임…'물가목표 2% 달성·금융완화→정상화 연착륙' 과제\\n\\n(도쿄=...   \n",
       "61  로버트 라이트하이저 미국 무역대표부 대표. © AFP=뉴스1\\n\\n(서울=뉴스1) ...   \n",
       "62  【베이징=AP/뉴시스】지난 3월23일 중국 베이징의 한 슈퍼마켓에서 미국 회사 로고...   \n",
       "63  최악의 대충돌 가능성은 작아…어떤 결과든 한국 경제에는 유리하지 않아\\n세계 1·2...   \n",
       "64  트럼프, 북미협상 후 한미FTA 개정 협상 발언 (PG)[제작 최자윤] 일러스트\\n...   \n",
       "65  \"美, 낭떠러지서 말고삐 돌려라…中, 모든 필요조치 통해 권익지킬것\"\\n\\n가오펑 ...   \n",
       "66                               동영상 뉴스\\n[뉴스데스크]◀ 앵커    \n",
       "67  한미 FTA, 미수출 한국 픽업트럭 관세 연장 (PG)[제작 최자윤] 일러스트\\n\\...   \n",
       "68  트럼프에 추가 무역보복 경고\\n한정 부총리도 “보호무역 출구 없다”\\n보유한 미 국...   \n",
       "69  # 미국과 중국이 무역전쟁에 돌입했다. 선전포고는 도널드 트럼프 미국 대통령이 날렸...   \n",
       "70  므누신 장관, '관세폭탄' 조치 통보…류허 \"中 이익지킬 능력 있다\"\\n\\n류허 중...   \n",
       "71  미국이 한국산 철강에 대한 25% 관세 부과를 4월 말까지 유예하기는 했지만 향후 ...   \n",
       "72  [한겨레] 미국 이어 아시아 증시도 폭락세\\n\\n“미국 소비자·기업도 피해” 전망\\...   \n",
       "73  도널드 트럼프 미국 대통령이 22일(현지시간) 백악관에서 '중국의 경제침략을 표적으...   \n",
       "74  전문가 \"금리 올라가며 신용도 낮은 차주들 가산금리 더 올라가 부담 커져\"\\n\\n[...   \n",
       "75  美 USTR 대표 \"트럼프 대통령 기준에 따라 일시 면제\"\\n한국이 미국의 수입 철...   \n",
       "76  [머니투데이 송선옥 기자, 송정훈 기자, 진경진 기자] [성장률 상향으로 추가 금리...   \n",
       "77  금리 역전에도…韓 원화·주식·채권 '강세'\\n\"FOMC 덜 매파적\"…국내 시장 '안...   \n",
       "78  【워싱턴=신화/뉴시스】로버트 라이트하이저 미무역대표부(USTR) 대표가 18일(현지...   \n",
       "\n",
       "                                                   3   \\\n",
       "0   도널드 트럼프 미국 대통령/AP연합뉴스\\n\\n[서울경제] 미국에서 이른바 ‘블루칼라...   \n",
       "1   남아공 9년 만에 경기침체 진입·인니 루피아 가치 20년 만에 최저\\n\\n\"펀더멘털...   \n",
       "2   \"블룸버그 인터뷰서 언급\"…트럼프 \"비보도, 뻔뻔스럽게 깨져\"\\n\\n\\n\\n(뉴욕=...   \n",
       "3   블룸버그 갈무리\\n\\n(서울=뉴스1) 박형기 기자 = 도널드 트럼프 미국 대통령이 ...   \n",
       "4   【오타와(캐나다)=AP/뉴시스】쥐스탱 트뤼도 캐나다 총리가 31일(현지시간) 캐나다...   \n",
       "5   [머니투데이 뉴욕(미국)=송정렬 특파원] [파월, 잭슨홀 미팅 데뷔 연설서 \"임금·...   \n",
       "6   미국이 23일(현지시간)부터 160억달러 규모의 중국산 수입품에 대한 25% 관세부...   \n",
       "7   세계 금융시장에 큰 혼란을 불러 온 미국과 터키 간 갈등의 중심에는 미국인 복음주의...   \n",
       "8   외환스와프 등 규제·가계 소비도 억제…\"미와 긴장 완화가 근본 대책\" 지적도\\n\\n...   \n",
       "9   [머니투데이 유희석 기자, 강기준 기자, 구유나 기자] ['외채 의존한 성장→ 대외...   \n",
       "10  [머니투데이 유희석 기자] [中, 미국산 LNG·LPG 관세 부과 포함…겨울철 국제...   \n",
       "11  - 베이다이허 회의 개막\\n\\n올 핵심 주제 ‘경제위기 극복’\\n\\n국가에 대한 봉...   \n",
       "12  (도쿄=연합뉴스) 최이락 특파원 = 미국을 방문 중인 세코 히로시게(世耕弘成) 일본...   \n",
       "13  도널드 트럼프 미국 정부가 인도태평양 지역에 1억1300만달러 신규 투자 계획을 발...   \n",
       "14  유럽중앙은행(CG) [연합뉴스TV 제공]\\n\\n\\n'연말 양적완화 종료' 입장 유지...   \n",
       "15  \"오는 10월 중국 환율조작국 지정 가능성\" 대두\\n\\n\\n【서울=뉴시스】박상주 기...   \n",
       "16  중국 경제 전문가 프리처드 진단\\n트럼프 ‘첨단기술 중상주의’ 추구\\n‘중국제조 2...   \n",
       "17  美 대중 무역적자, 낮은 저축률·높은 소비성향 등이 원인\\n美의 비난 공정하지도 객...   \n",
       "18  - 17일 日-EU EPA 서명…2019년 발효\\n- 17~19일, 美빠진 TPP1...   \n",
       "19  위안화 절하되면 美관세 상쇄 효과도\\n\\n전문가들 \"중국 弱위안 당분간 방관할 것\"...   \n",
       "20  [머니투데이 유희석 기자, 권다희 기자, 베이징(중국)=진상현 특파원] [트럼프, ...   \n",
       "21  부처·무역계 관계자 첫 합동회의\\n[서울신문]\\n‘美 자동차 232조 간담회’ 개최...   \n",
       "22  정부 “부정적 전망 크지 않을 것”… 연구기관들 피해 예상액 제각각\\n\\n\\n미국과...   \n",
       "23  한국, 가장 영향받는 국가 10개국 중 6위 차지\\n中에 수출 의존…중간재 수출 타...   \n",
       "24  WP 칼럼…중국보다 미국·동맹국 기업 피해\\n중국, 피해자 자처하며 반미 공동전선 ...   \n",
       "25                (서울=뉴스1) 김윤경 기자 = s914@news1.kr\\n\\n   \n",
       "26  ‘아메리카 퍼스트’ vs ‘차이나 파워’ 정면충돌\\n\\n\\n미국과 중국의 관세전쟁이...   \n",
       "27  [그래픽] 美수입규제로 韓수출 2.6조원 손실\\n\\n\\n한국 철강·세탁기·태양광전지...   \n",
       "28  도널드 트럼프(왼쪽) 미국 대통령과 시진핑 중국 국가주석.\\n\\n\\n미국이 ‘관세폭...   \n",
       "29  (서울=뉴스1) 박형기 기자 = 도널드 트럼프 대통령이 미국의 직업을 살린다는 명목...   \n",
       "..                                                ...   \n",
       "49  경기 살아나니…알아서 임금 올리는 日 기업들\\n\\n실적 개선 힘입어 올 평균 임금 ...   \n",
       "50  미중 최악의 충돌은 피했다는 평가\\n블룸버그통신 갈무리\\n\\n(서울=뉴스1) 박형기...   \n",
       "51  (서울=연합뉴스) 이해영 기자 = 도널드 트럼프 미국 대통령이 12일(현지시간) 환...   \n",
       "52  보아오포럼서 “무역수지 균형 추구”\\n시장진입 규제 완화, 수입 확대 밝혀\\n시진핑...   \n",
       "53  (상하이=연합뉴스) 정주호 특파원 = 미국과의 무역전쟁으로 중국에 반미 애국주의 정...   \n",
       "54  中상무부 \"美, 추가 관세부과 명단 발표하면 즉시 보복\"(베이징 AP=연합뉴스) 중...   \n",
       "55  \"절제된 접근…시작 안했지만 중국과 협상 계속될것\"\\n\\n래리 커들로 미국 백악관 ...   \n",
       "56  도널드 트럼프 미국 대통령 [워싱턴 AP=연합뉴스]\\n\\n\\n(워싱턴=연합뉴스) 강...   \n",
       "57  바클레이스 \"보복관세 여파\"…합작 아닌 완제품 수출이라 타격 커\\n\\n\"장기적으로 ...   \n",
       "58  [서울신문]\\n중국은 미국의 관세 폭탄에 대해 즉각 대두, 자동차 등 106개 미국...   \n",
       "59  【함부르크(독일)=AP/뉴시스】도널드 트럼프 미 대통령(왼쪽)과 시진핑(習近平) 중...   \n",
       "60  미중 무역전쟁 대결·트럼프-시진핑 (PG)[제작 최자윤] 사진합성\\n\\n\\n인민일보...   \n",
       "61  [그래픽] 미국 '관세폭탄' 중국 수입품 목록 공개\\n\\n\\n中 미국산 128개품목...   \n",
       "62  [머니투데이 권다희 기자] [아마존, 넷플릭스, 인텔 등 대형 기술주 급락…어닝시즌...   \n",
       "63  美이슈 연계 전략으로 통상압박\\n부처별 통합 대응전략 마련 지적\\n전문가, 컨트롤타...   \n",
       "64  (서울=연합뉴스) 진병태 기자 = 중국이 철강·알루미늄 제품에 대한 미국의 대규모 ...   \n",
       "65  (서울=연합뉴스) 최현석 기자 = 지난달 일본의 소매판매가 증가세로 돌아섰지만, 증...   \n",
       "66                               동영상 뉴스\\n[뉴스데스크]◀ 앵커    \n",
       "67  수입차 미국산 늘어날 기회\\n한국차 북미 무관세는 유지\\n\\n우리나라 완성차의 평택...   \n",
       "68  중국, 전 세계 돼지고기 절반 소비\\n미국산 돼지고기에 25% 보복관세\\n트럼프 표...   \n",
       "69  # 미국과 중국이 무역전쟁에 돌입했다. 선전포고는 도널드 트럼프 미국 대통령이 날렸...   \n",
       "70  협상 포석 선점단계…중국, 미국에 양국 분업구조 설득 나서\\n\\n미국 중국 통상 갈...   \n",
       "71  ㆍ중, 합의 가능성 열어뒀지만…미, 환율조작국 발표 예정 등 불씨\\nㆍ‘중국 대미 ...   \n",
       "72  미중관계 크게 바꾼 도널드 트럼프 미국 대통령[AP=연합뉴스 자료사진]\\n\\n\\n미...   \n",
       "73  도널드 트럼프 미국 대통령이 22일(현지시간) 워싱턴 백악관에서 중국산 수입품에 대...   \n",
       "74  한국을 포함한 7개국 면제대상\\n김현종 본부장 \"4월말까지 유예\"\\n한미FTA 개정...   \n",
       "75  한국이 4월말까지 일시적으로 미국의 철강 관세 부과 대상국에서 제외됐다. 도널드 트...   \n",
       "76  한계차주 411조 이자폭탄\\n변동금리 주담대 기준되는\\n코픽스도 6개월 연속 상승\\...   \n",
       "77  【워싱턴=AP/뉴시스】21일(현지시각) 제롬 파월 연방준비제도(Fed·연준) 의장이...   \n",
       "78  로버트 라이트하이저 미 무역대표부(USTR) 대표가 21일(현지시간) 하원 세입위원...   \n",
       "\n",
       "                                                   4   \\\n",
       "0   (상하이=연합뉴스) 차대운 특파원 = 중국의 8월 소비자물가지수(CPI)가 작년 같...   \n",
       "1   아르헨티나, IMF에 구제금융 조기 집행 요구…메르발지수 및 헤알화 급락\\n터키도 ...   \n",
       "2   전문가들 \"정치적 불확실성·정책 혼선으로 기반 흔들려\"\\n\\n(상파울루=연합뉴스) ...   \n",
       "3   강행시 최대규모 관세폭탄…미중 무역전쟁 전면전으로 치달을듯\\n\\n\"2천억달러 규모 ...   \n",
       "4   멕시코와 타결 하루 만에..캐나다 외무장관 워싱턴行\\n31일 협상 마감시한..美 \"...   \n",
       "5   중국 난산 가려다 여수로…이미 여러 척 목적지 변경\\n\\n(서울=연합뉴스) 김지연 ...   \n",
       "6   중국 상무부 가오펑 대변인은 지난 6월 정례브리핑을 하고 있다. /사진=중국 상무부...   \n",
       "7   (워싱턴=연합뉴스) 송수경 특파원 = 도널드 트럼프 미국 행정부는 16일(현지시간)...   \n",
       "8   대변인 \"미국과 불화 해결되길 바라지만 미, 터키 사법부 간섭시도 중단해야\"\\n\\n...   \n",
       "9   페소화, 2.37% 하락해 사상 최저치 경신\\n랜드화는 장중 9.2% 폭락…위안·루...   \n",
       "10  (서울=연합뉴스) 진병태 기자 = 중국은 미국과 무역전쟁으로 미국산 대두에 고율의 ...   \n",
       "11  中 관세정보사이트, 美회원 2배↑\\n\\n미국과 중국의 무역전쟁이 장기화 국면에 접어...   \n",
       "12  므누신-류허 물밑 접촉…협상 재개 기대감 일어\\n\\n미국, 추가 관세나 관세율 인상...   \n",
       "13  (도쿄=연합뉴스) 최이락 김병규 특파원 = 일본은행(BOJ)은 15일 금융정책 결정...   \n",
       "14  '내년 여름까지 현행 금리 유지' 재확인\\n\\n프랑크푸르트 ECB 본부 [EPA=연...   \n",
       "15  위안화 1년만에 최저수준…'환율조작국' 지정시 전면전 가능성\\n\\nFT \"위안화, ...   \n",
       "16  (서울=연합뉴스) 김기성 기자 = 도널드 트럼프 미국 대통령은 필요하다면 미국으로 ...   \n",
       "17  [아시아경제 김혜원 기자, 권재희 기자] 유럽연합(EU)이 19일부터 23개 철강 ...   \n",
       "18  \"日-EU 자유무역협정 체결은 美보호주의 향한 강력한 신호\"\\n\\n[제작 이태호] ...   \n",
       "19  보복에 재보복… G2 무역전쟁 전면전\\n한 남성이 11일(현지시간) 홍콩 증권거래소...   \n",
       "20  [이미지출처=연합뉴스]\\n\\n\\n[아시아경제 베이징 박선미 특파원] 중국 상무부는 ...   \n",
       "21  [동아일보]\\n對美 협상 나섰다가 실패땐 시진핑에 부담… 투입 꺼리는듯\\n미중 갈등...   \n",
       "22  수입차에 25% 고율관세를 부과하는 내용의 ‘무역확장법 232조’를 적용하려는 미국...   \n",
       "23  【지난=신화/뉴시스】1일 중국 국가통계국은 11월 제조업 구매관리자지수(PMI)를 ...   \n",
       "24  美, 340억달러 산업부품·기계·車 등 중국제품에 25% 관세\\n\\n中 \"핵심이익 ...   \n",
       "25  트럼프, 중국산 제품에 고율관세 부과 (PG)[제작 정연주] 사진합성 (사진출처 E...   \n",
       "26  블룸버그 \"中대응은 같은 규모·강도…시장은 이미 약세장\"\\n\\n中당국 \"펀더멘털 견...   \n",
       "27  [동아일보]\\n그래픽=김충민 기자 kcm0514@donga.com\\n세계 경제에 암...   \n",
       "28  호르무즈 해협 봉쇄 가능성 시사\\nUAE는 트럼프 요구에 원유 증산 의사 나타내\\n...   \n",
       "29                               동영상 뉴스\\n[뉴스데스크]◀ 앵커    \n",
       "..                                                ...   \n",
       "49  시리아 공습에 대한 러시아·이란 반응도 변수\\n【키프로스=AP/뉴시스】14일(현지시...   \n",
       "50  美 재무부, 한국 외환시장 개입 내역 공개 압박\\n기재부 \"보고서내용은 예상한 수준...   \n",
       "51  주지사·상원의원 백악관 회의서 발언\\n미중 무역갈등서 유리한 고지 점하려는 의도도\\...   \n",
       "52  지폐를 세고 있는 러시아 중부 크라스노야르스크의 노점상 [로이터=연합뉴스]\\n\\n\\...   \n",
       "53  WSJ 갈무리\\n\\n(서울=뉴스1) 박형기 기자 = 미국과 중국의 무역전쟁이 한창이...   \n",
       "54  美 지원사격 예상…\"中 지재권 침해 우려 공유\"\\n\\n(서울=뉴스1) 김혜지 기자 ...   \n",
       "55  중국, 청명절 연휴 담화 발표 이어 이례적 밤늦게 기자회견\\n\\n미중 무역갈등 관련...   \n",
       "56  (뉴욕=연합뉴스) 이귀원 특파원 = 도널드 트럼프 미국 대통령이 무역적자 해소를 위...   \n",
       "57  중국 상무부, 美 관세 폭탄에 동등한 보복 발표[신화=연합뉴스]\\n\\n\\n(베이징=...   \n",
       "58  中 경제성장하면 민주화할 것, 낙관론 비웃듯 '1인 독재' 치달아\\n'독재+市場경제...   \n",
       "59  미국 중국 무역 갈등(CG) [연합뉴스TV 제공]\\n\\n\\n트럼프, 500억달러 상...   \n",
       "60  꼬리무는 보복 : 미·중 무역전쟁이 전면전 조짐을 빚은 3일 도널드 트럼프 미 대통...   \n",
       "61  미국산 수입 과일 (PG)[제작 최자윤] 일러스트\\n\\n\\n농촌경제연구원 분석…체리...   \n",
       "62  '이에는 이, 눈에는 눈' 물고 물리는 맞대응…무역전쟁 격화\\n\\n(워싱턴=연합뉴스...   \n",
       "63  미중 무역전쟁 본격화 (PG)[제작 최자윤, 이태호] 일러스트\\n\\n\\n中정부 \"美...   \n",
       "64  【워싱턴=AP/뉴시스】21일(현지시간) 제롬 파월 연방준비제도(Fed·연준) 의장이...   \n",
       "65  도널드 트럼프 미 대통령. © AFP=뉴스1\\n\\n(서울=뉴스1) 정진탄 기자 = ...   \n",
       "66  FT \"죄수 딜레마로 최악 피할 것\"\\n\\n\\n게티이미지뱅크\\n\\n\\n양대 강국(G...   \n",
       "67  \"미중 무역 전쟁은 중국 이익에 부합 안 해\"\\n\\n【서울=뉴시스】이지예 기자 = ...   \n",
       "68  자동차·항공기·반도체 등 미 주요 수출품목 타격 클 수도\\n\\n中 전 재무장관 \"중...   \n",
       "69  [사진=게티이미지]\\n\\n유예 결정을 받은 철강 관세 면제와 한미 FTA 개정협상 ...   \n",
       "70  도널드 트럼프 미 대통령© AFP=뉴스1\\n\\n\\n(서울=뉴스1) 윤지원 기자 = ...   \n",
       "71  [앵커]\\n\\n미국이' 우리 철강제품에 대해 오늘(23일)부터 부과하려던 고율 관세...   \n",
       "72  22일(현지시간) 미국 무역대표부(USTR)의 철강 관세 한시 면제 발표로 한국 통...   \n",
       "73  (베이징=연합뉴스) 김진방 특파원 = 미국이 중국 수입품에 대규모 관세를 물리겠다고...   \n",
       "74  美·中 '무역전쟁' 선포하는 트럼프(워싱턴 AFP=연합뉴스) 도널드 트럼프 미국 대...   \n",
       "75  [금리 인상기, 대출 해법]\\n미 금리 인상, 국내 대출자 이자 부담 직격탄\\n신규...   \n",
       "76  ■전면전 치닫는 G2 통상분쟁\\n美, 中 대미 흑자 '공격' 간주\\n관세·투자제한 ...   \n",
       "77  美, 석달만에 0.25%P 금리인상…'올해 3차례 인상기조' 유지(워싱턴DC AP=...   \n",
       "78  철강관세 면제 협상 (CG) [연합뉴스TV 제공]\\n\\n\\nUSTR대표, 한미FTA...   \n",
       "\n",
       "                                                   5   \\\n",
       "0   [한겨레] “일본과의 무역 협상 시작했다.\\n\\n합의 안 되면 일본에 큰 문제”\\n...   \n",
       "1   [아시아경제 나주석 기자] 미·중이 양쪽이 잘못된 판단에 기초해 무역전쟁을 진행하고...   \n",
       "2   【워싱턴=AP/뉴시스】김혜경 기자 = 순조롭게 진행되는 것 같았던 미국과 캐나다의 ...   \n",
       "3   상무부-노동부 발표 경제지표 호조에 고무\\n【서울=뉴시스】도널드 트럼프 미국 대통령...   \n",
       "4   멕시코와의 나프타 개정안에도 '아메리카 퍼스트'\\n\\n자동차·지재권·일몰조항 등 관...   \n",
       "5   잭슨홀미팅서도 '경기 논란'\\n\\n\"악화 시사\" vs \"확대해석 말라\"\\n\\n[ 김...   \n",
       "6   [머니투데이 김영선 기자] 미국이 23일(현지시간) 2차 대중(對中) 관세를 발효했...   \n",
       "7   \"트럼프, 좋은거래에 강력의지…中, 트럼프 의지 과소평가하면 안돼\"\\n\\n래리 커들...   \n",
       "8   터키가 미국산 제품에 고율의 보복 관세를 부과했다. 터키에 구금된 미국인 목사의 신...   \n",
       "9   [한겨레] 14일 국제금융센터 보고서\\n\\n“터키의 긴급 시장안정화 조처 역부족\\n...   \n",
       "10  소비자물가 2.1%↑·생산자물가 4.6%↑\\n\\n(서울·상하이=연합뉴스) 김지연 기...   \n",
       "11  (상하이=연합뉴스) 정주호 특파원 = 미국과의 무역전쟁과 위안화 약세가 중국의 일반...   \n",
       "12  (서울=연합뉴스) 김지연 기자 = 미국 거대 기술기업들이 향후 성장에 대한 우려로 ...   \n",
       "13  새로운 아시아 정책 본격 가동\\n\\n사회기반시설 등 1억달러 투자\\n\\n폼페이오 “...   \n",
       "14  겅솽 중국 외교부 대변인[중국 외교부 제공]\\n\\n\\n(베이징=연합뉴스) 심재훈 특...   \n",
       "15  글로벌 공급망 수출 의존도 높은 국가 피해\\n대만이 가장 취약...헝가리·체코·한국...   \n",
       "16  금속프레스 등 제조업 추가 개방 / 내년 4월부터… 구인난 타개 기대\\n저출산·고령...   \n",
       "17  \"미국산 우라늄 소비 30년만에 49%에서 3%로 줄어\"\\n\\n[CBS 노컷뉴스 임...   \n",
       "18  EU 집행위원장, 미국과 자동차 관세 인하 협상 모색\\n\\n(브뤼셀·서울=연합뉴스)...   \n",
       "19  美, 中에 추가 관세 폭탄 안팎\\n[서울신문]\\n첨단제품에 필요한 희토류 포함\\n中...   \n",
       "20  美中 예상 범위 내에서 갈등…수출주보다 내수주 중심 대응해야\\n美 11월 중간선거까...   \n",
       "21  (제네바=연합뉴스) 이광철 특파원 = 스위스도 10일(현지시간) 철강, 알루미늄에 ...   \n",
       "22  미·중 무역전쟁 전망은…\\n\\n\\n美, 양호한 경제지표 믿고 中 전면 개방까지 밀어...   \n",
       "23  동영상 뉴스\\n[앵커]\\n\\n일각에서는 이런 무역전쟁이 2008년 글로벌 금융위기 ...   \n",
       "24  산업부 \"수출 영향 제한적\"…전문가 \"무역전쟁 확산시 더 큰 피해\"\\n\\n(서울=연...   \n",
       "25  美, 160억 달러 규모 추가 조치 곧 발표\\n美, 9월 2000억 달러 관세 폭탄...   \n",
       "26  위안화 가치 한 달새 3.3% 급락\\n“관세 먼저 안 매겨” 선제공격 자제\\n유럽·...   \n",
       "27  미국-중국 관세폭탄 대결 임박 (PG)[제작 정연주] 일러스트\\n\\n\\nWSJ보도…...   \n",
       "28  [아시아경제 국제부 기자]미국과 중국이 오는 6일부터 상대국 제품에 고율 관세를 부...   \n",
       "29  5월 근원PCE상승률 2%···파월 \"2% 지속적 웃돌면 연준 움직여야\"\\n/이미지...   \n",
       "..                                                ...   \n",
       "49  한국경제연구원 '미중 무역전쟁, 대안있는가' 세미나\\n권태신 한국경제연구원 원장. ...   \n",
       "50  환율조작국 피했지만 관찰대상국 지정\\n\\n사진=연합뉴스\\n\\n미국 재무부가 한국을 ...   \n",
       "51  산업부, 미·중 무역분쟁 관련 업계 간담회…국내 산업에 영향 점검\\n미국은 자동차·...   \n",
       "52                               동영상 뉴스\\n[뉴스데스크]◀ 앵커    \n",
       "53  \"中무역관행 바꿔 장기적으로 美경제에 이득\"\\n나바로 \"중국은 우리의 전략적 경쟁자...   \n",
       "54  WSJ “라이트하이저 USTR 대표가 대립적 접근 이끌어”\\n\\n작년 8월 백악관서...   \n",
       "55  가오펑 중국 상무부 대변인.[중국 상무부]\\n\\n\\n(베이징=연합뉴스) 김진방 특파...   \n",
       "56  【워싱턴=AP/뉴시스】 김재영 기자 = 미국의 무역수지 적자가 2월 달에도 전 달에...   \n",
       "57  【서울=뉴시스】이재준 기자 = 일본 체감 경기 동향을 반영하는 3월 수입차 판매량은...   \n",
       "58  서로 급소 찌르며 확전 양상\\n\\n\\n도널드 트럼프 미국 행정부가 3일(현지 시각)...   \n",
       "59  \"무역전쟁 양측에 해악…여전히 관계회복 희망\"\\n© News1 방은영 디자이너\\n\\...   \n",
       "60  “지재권 도둑질 문제도 있다”\\n\\n러에 대해선 “강경하게 대응”\\n\\n도널드 트럼...   \n",
       "61  美, FTA 최종 협상서 추가 개방 요구 가능성… 무역대표부 보고서도 미국산 과일 ...   \n",
       "62  2분기 첫 거래 급락, 다우지수 장중 758포인트나 빠져\\n\\nS&P500 200일...   \n",
       "63  美 \"지재권 도둑질\" 비난에 中 \"국채 더 팔겠다\"\\n\\n[ 뉴욕=김현석/베이징=강...   \n",
       "64  【리치필드=AP/뉴시스】29일(현지시간) 도널드 트럼프 대통령이 오하이오주 리치필드...   \n",
       "65  미 행정부 \"혁신적, 역사적 합의\"로 선전하며 '트럼프의 승리'로 자평\\n\\n전문가...   \n",
       "66  “픽업 관세 연장 경쟁력 훼손 우려… 왜 어려움 겪는 업종 희생시키나” / 일각 “...   \n",
       "67  므누신 \"협상하고 있으며 합의에 이를지 지켜보고 있다\" 연급\\nFT, 中고위관계자 ...   \n",
       "68  미·중 '통상 전면전'\\n'관세 보복' 넘어 패권경쟁 치닫는 미·중 통상전쟁\\n\\n...   \n",
       "69  시카고상품거래소서 돈육 선물 가격 역대 최저치로\\n\\n대두·옥수수 거래 가격도 휘청...   \n",
       "70  환경오염 우려한 중국 폐기물금수조치 불가피…빗장치기 계속\\n\\n(서울=연합뉴스) 김...   \n",
       "71  [앵커]\\n\\n트럼프 미국 대통령이 오늘(23일) 중국에 대한 대규모 관세 부과 조...   \n",
       "72  금융시장 이미 직격탄…\"수출·고용·경제성장에 타격 불가피\"\\n\\n\"소규모 개방경제로...   \n",
       "73  (서울=연합뉴스) 이재윤 기자 = 도널드 트럼프 미국 대통령이 중국을 향해 '무역전...   \n",
       "74  [서울신문]\\n코스피 소폭 상승… 시장은 담담\\n“가계빚 대비 ‘실탄’ 확보해둬야”...   \n",
       "75  한·미 금리 역전에도 차분한 시장\\nFed 기준금리 1.50~1.75%로 올려\\n올...   \n",
       "76  주식시장 호황으로 홍콩주민 유동자산 증가\\n원룸 11억원 경신…주거·교육 만족도 낮...   \n",
       "77  (서울=연합뉴스) 홍정규 기자 = 금융감독원은 22일 미국 연방준비제도(연준)의 기...   \n",
       "78  [이미지출처=로이터연합뉴스]\\n\\n[아시아경제 이지은 기자] 미국 연방준비제도(Fe...   \n",
       "\n",
       "                                                   6   \\\n",
       "0   글로벌 금융위기 10년\\n\\n'10년 주기설'에 세계시장 긴장\\n\\n[ 김현석 기자...   \n",
       "1   ■ 김경수의 글로벌 경제 이야기 - (22) 美·中 무역전쟁은 ‘곪은 게 터진 격’...   \n",
       "2   WSJ \"트럼프 무역정책, 자동차업계 주요 결정에 영향 주기 시작\"\\n\\n중국 모터...   \n",
       "3   (뉴욕=연합뉴스) 이귀원 특파원 = 미국 노동부는 지난주 실업수당 청구 건수가 21...   \n",
       "4   자동차는 부품 75% 이상 역내 생산해야 무관세 적용\\n협정 유효기간은 16년…6년...   \n",
       "5   \"10년째 경기확장 막바지\"\\n1960년대 이후 국채 장단기 금리차\\n역전 9번 중...   \n",
       "6   (서울=연합뉴스) 김지연 기자 = 미국이 23일(현지시간) 160억달러(약 18조원...   \n",
       "7   \"자본 통제 계획 없어…외국인 직접투자 유치에 집중할 것\"\\n\\n(모스크바=연합뉴스...   \n",
       "8   [머니투데이 김영선 기자, 뉴욕(미국)=송정렬 특파원] [美제품 불매운동·추가 관세...   \n",
       "9   [머니투데이 정한결 기자] [터키 최대 가상화폐 거래소 거래량 63% 증가…포브스,...   \n",
       "10  (서울=연합뉴스) 김지연 기자 = 중국의 7월 생산자물가지수(PPI)가 지난해 같은...   \n",
       "11  【서울=뉴시스】이재준 기자 = 일본 체감 경기를 보여주는 6월 실질 소비지출은 전년...   \n",
       "12  소식통들 \"수일내 관보 게재될 것\"\\n【워싱턴=AP/뉴시스】도널드 트럼프 미국 대통...   \n",
       "13  농가와 같은 비율로 지원할 경우…\"무역전쟁 피하는 게 최선\"\\n\\n트럼프-시진핑 미...   \n",
       "14  인민은행 금융 완화조치 잇따라\\n\\n\"위안화 약세 용인도 경기 둔화 대응 결과\"\\n...   \n",
       "15  [머니투데이 강기준 기자] [BOE, 삼성이 독점하고 있는 애플 아이폰 OLED 공...   \n",
       "16  (1) 2분기 4% 성장 육박…한국은 2%대로 추락\\n(2) 실업급여 청구 48년여...   \n",
       "17  CNBC \"무역법 232조 따라 우라늄 수입규제 가능\"\\n윌버 로스 미 상무장관. ...   \n",
       "18  6월 산업생산, 전년 대비 3.8% 증가\\n\\n\\n【서울=뉴시스】박상주 기자 = 제...   \n",
       "19  사상 유례없는 무역 충돌에 수출로 먹고사는 한국 '충격'… 기업들 \"답이 안나온다\"...   \n",
       "20  [연합뉴스TV 제공]\\n\\n\\n中상무부, 구체적인 보복 조치 발표 안 해…소식통 \"...   \n",
       "21  【서울=뉴시스】이현주 기자 = 중국 내 테슬라 구매자들이 최근 미국과 중국 간 무역...   \n",
       "22  미·중 상대 아픈곳 공략 양국 정상에도 치명타 전망\\n화물 트럭들이 지난 5일(현지...   \n",
       "23  동영상 뉴스\\n<앵커>\\n\\n미국이 쏘아올린 철강 관세 조치가 세계 무역전쟁으로 번...   \n",
       "24  (서울=연합뉴스) 신유리 기자 = 미국이 현지 시간으로 6일을 기해 대중 관세 폭탄...   \n",
       "25  대두·車 등 동등 규모 관세\\n\\n트럼프에 정치적 타격 노려\\n\\n人民은행, 위안화...   \n",
       "26                               동영상 뉴스\\n[뉴스데스크]◀ 앵커    \n",
       "27  관세 부과 D-1 … 블룸버그의 경고\\n화학·자동차, 정보통신 제품 대상\\n양국 3...   \n",
       "28  © News1 김일환 디자이너\\n\\n(서울=뉴스1) 박형기 기자 = 도널드 트럼프 ...   \n",
       "29  미중, 내달 6일 관세발효 앞두고 '막판 타협' 모색\\n\\n(서울=연합뉴스) 진병태...   \n",
       "..                                                ...   \n",
       "49  (서울=연합뉴스) 김보경 기자 = 시리아의 화학무기 사용에 대한 서방국들의 '응징'...   \n",
       "50  3가지 조건 중 2가지 해당…5회 연속 관찰대상국으로 분류\\n\\n'오해 불식하겠다'...   \n",
       "51  무역전쟁 (CG) [연합뉴스TV 제공]\\n\\n\\n산업부·업계 대응방안 간담회…화학·...   \n",
       "52  보아오포럼서 對美 협상 메시지\\n\\n외국인 투자 제한 풀고 상품 수입도 확대 시사\\...   \n",
       "53  美 통상전쟁 주 타깃은 '중국제조 2025'\\n\\n中 공세로 '태양광 몰락' 겪은 ...   \n",
       "54  동영상 뉴스\\n[앵커]\\n\\n미국과 중국의 관세 무역전쟁이 확전하는 가운데, 이번엔...   \n",
       "55  제윤정 “남은 한 달…고관세 부과 현실화 가능성 충분하다”\\n\\n[CBS <시사자키...   \n",
       "56  동영상 뉴스\\n'무역전쟁' 미중 협상에도…한국은 이래저래 타격\\n\\n[앵커]\\n\\n...   \n",
       "57  미-중 관세폭탄ㆍ무역전쟁 속 대화 진행(PG)[제작 이태호, 조혜인] 사진합성, 일...   \n",
       "58  [동아일보]\\n美, 1300개 폭탄 투하… 中, 美서 수입 1∼3위 품목에 보복관세...   \n",
       "59  美·中 '통상 전면전'\\n\\n라이트하이저, 보복관세 주도\\n나바로는 '원조 보호무역...   \n",
       "60  USTR, 中 1300種 관세부과\\n\\n中 ‘美농산물 관세’ 하루만에\\n\\n美 ‘5...   \n",
       "61  강경 입장 고수하는 美 / 농축산물 中 보복관세에 발끈 / “中, 또 펀치 날렸다”...   \n",
       "62  [머니투데이 뉴욕(미국)=송정렬 특파원] [뉴욕증시, 기술주하락과 무역전쟁 우려에 ...   \n",
       "63  [머니투데이 권다희 기자] [돼지고기 등에 25%, 과일 등 15% 관세 부과…대두...   \n",
       "64  【리치필드=AP/뉴시스】29일(현지시간) 도널드 트럼프 대통령이 오하이오주 리치필드...   \n",
       "65  [머니투데이 권다희 기자] [호주·일본은 직간접적 타격 예상…싱가포르, 말레이시아 ...   \n",
       "66  막내린 협상 의미·평가 / 美 수출 픽업트럭 관세 20년 더 늘어… 연비·온실가스 ...   \n",
       "67  한미FTA 자동차 (CG) [연합뉴스TV 제공]\\n\\n\\n미국 '관세 철폐 시한' ...   \n",
       "68  성장률 저하·고용 악재 우려 / 美 “中 지재권 도둑질” WTO 제소 / 中 “국익...   \n",
       "69  추이톈카이(崔天凱) 주미 중국대사는 퉁상압박을 가하는 미국에 대한 대항조치로서 미국...   \n",
       "70  \"세부 징세 리스트·세율 공개 안 돼…무역전쟁 발발해도 국지전에 그칠 듯\"\\n\\n인...   \n",
       "71  동영상 뉴스\\n<앵커>\\n\\n이런 가운데 미국은 한국산 철강에 대한 25% 관세 부...   \n",
       "72  트럼프, 중국 수입품에 관세폭탄 행정명령 서명…中, 美 철강·돈육에 보복\\n글로벌증...   \n",
       "73  【워싱턴=AP/뉴시스】최근 미국 정부와 언론이 지난 3일 개최된 중국의 '항일전쟁 ...   \n",
       "74  [서울신문]\\n美 기준금리 0.25%P 인상\\n올해만 2차례 추가 인상 예고\\n한·...   \n",
       "75  한·미 간 금리 역전이 한국 경제 전반에 미칠 파급력은 당분간 제한적일 것으로 전망...   \n",
       "76  자료 : 한국은행\\n\\n한·미 간 금리역전 직후 대부분의 반응은 자금유출 가능성이 ...   \n",
       "77  비경제학자 출신답게 이론서 자유로워…\"필립스곡선 중시한 옐런과 차별화\"\\n\\n(서울...   \n",
       "78  [그래픽] 미 기준금리 0.25%P 인상, 10년만에 한국 금리 추월\\n\\n\\n파월...   \n",
       "\n",
       "                                                   7   \\\n",
       "0   터키·아르헨티나 금융위기, 신흥국으로 확산…증시도 '휘청'\\n\\n경상수지 적자, 대...   \n",
       "1   JP모건 수석분석가 글로벌 금융위기 10주년 보고서\\n\\n\"강세장 말미에 집단발작…...   \n",
       "2   금융위기로 자연금리·실업률 변화\\n경기 정점서 통화정책 근거 흔들\\n파월. [연합뉴...   \n",
       "3   중동계열 은행 ABCP 담은 국내 MMF '초비상'\\n\\n알파에셋자산운용도 환매 연...   \n",
       "4   (서울=연합뉴스) 김지연 기자 = 미국이 중국에서 수입하는 철강 휠(steel wh...   \n",
       "5   [머니투데이 진경진 기자] [[내일의전략]\"지수 이미 2200선, 외인 투자자들 자...   \n",
       "6   워싱턴서 이틀간 차관급 대표 회담 / 美, 관세로 ‘中 궁지 몰기’ 성공 판단 / ...   \n",
       "7   中증시·위안화 급락, 경기 둔화 가시화…대미 보복 카드는 소진\\n\\n베이다이허 회의...   \n",
       "8   [한겨레] 15일 관보 통해 자동차·주류·담배 등에 보복 관세 부과\\n\\n부통령 트...   \n",
       "9   \"대내외 경제 매우 복잡하고 많은 불확실성 내포…통화정책에 시계 중요\"\\n\\n격려사...   \n",
       "10  /사진=뉴시스\\n\\n미국이 추가로 160억달러(약 17조9000억원)의 중국 제품에...   \n",
       "11  중국의 오성홍기(좌)와 미국의 성조기. © AFP=뉴스1\\n\\n(서울=뉴스1) 김정...   \n",
       "12  [이미지출처=연합뉴스]\\n\\n\\n[아시아경제 뉴욕 김은별 특파원] 미국과 중국이 무...   \n",
       "13  지난 7월 11일(현지시간) 벨기에 브뤼셀에서 개막한 나토 정상회의. 독일이 러시아...   \n",
       "14  철강 고율관세 현재형…EU의 美LNG 수입확대도 현실성 의문\\n\\nEU자동차 겨냥 ...   \n",
       "15  G20경제수장회의 참석 므누신, 환율전쟁 우려에는 \"아니다\" 일축\\n\\n주요 20개...   \n",
       "16  미중 무역전쟁ㆍ무역협상 (PG)\\n\\n\\n시진핑 기고문서 \"UAE와 함께 다자무역체...   \n",
       "17  국가별 물량 없이 전체 물량 소진시 관세 부과…먼저 수출할수록 유리?\\n\\n(서울=...   \n",
       "18  \"향후 수년간 고용시장 견조, 인플레이션 2% 근처 머물 것\"\\n\\n\"장기간 고율관...   \n",
       "19  중국産 절반에 10% 추가 관세\\n\\n\\n\\n미국이 2000억달러(약 223조원) ...   \n",
       "20  [연합뉴스TV 제공]\\n\\n\\n(베이징·서울=연합뉴스) 김진방 특파원 김지연 기자 ...   \n",
       "21  (도쿄=연합뉴스) 김정선 특파원 = 일본 정부는 2025년도에도 기초재정수지가 적자...   \n",
       "22  美·中 모두 ‘관세 폭탄’ 치명상… 그럼에도 패권전쟁 승자는 있다?\\n[서울신문]\\...   \n",
       "23  동영상 뉴스\\n[앵커]\\n\\n미국과 중국의 무역전쟁이 전세계로 번지고 있습니다. 유...   \n",
       "24  미중 무역전쟁 (PG)\\n\\n\\n(서울=연합뉴스) 최윤정 기자 = 세계 최대 강대국...   \n",
       "25  - 창 휘두르는 美\\n\\n340억달러 대중관세 강행\\n\\n적자심화 첨단제품에 집중\\...   \n",
       "26  트럼프 말폭탄 석 달 만에 돌입\\n중국도 즉각 보복관세 예고\\n\\nWTO 다자무역체...   \n",
       "27  ㆍ16~17일 베이징 정상회의서 보호무역 비판 공동성명 요청\\nㆍEU 측에선 반대 ...   \n",
       "28  EU “美가 때리면 3000억달러 상품에 보복” 中 “6일부터 美에 40% 관세”\\...   \n",
       "29  미국산 철강·알루미늄·소비재에 총 14조원 부과\\n\\n(밴쿠버=연합뉴스) 조재용 통...   \n",
       "..                                                ...   \n",
       "49  미국 환율보고서 발표\\n\\n\\n이번에도 관찰대상국 지목… 美 “신속한 공개를” 노골...   \n",
       "50  (서울=연합뉴스) 장예진 기자 = 미국 재무부는 13일(현지시간) 발표한 반기 환율...   \n",
       "51  中, '개방 청사진' 제시하며 관영매체 동원 대미 압박 지속\\n\\n美, 中조치 현미...   \n",
       "52  각료회의서 일부 긍정적 평가 / “우리 일자리를 잃었다” 피력도\\n도널드 트럼프 미...   \n",
       "53  \"미국, 무역전쟁으로 중국 부상 저지하려 해…똑같이 보복할것\"\\n\\n주영 중국대사 ...   \n",
       "54  © News1 최진모 디자이너\\n\\n(서울=뉴스1) 김혜지 기자 = 중국 관영 언론...   \n",
       "55  동영상 뉴스\\n[앵커]\\n\\n미국과 중국이 서로 보복 관세를 매기겠다고 하고는 탐색...   \n",
       "56  동영상 뉴스\\n<앵커>\\n\\n서로 강력한 무역 보복 조치를 주고받았던 미국과 중국이...   \n",
       "57  미국과 중국 간 무역갈등이 ‘치킨게임(마주 보고 돌진하는 두 자동차처럼 한쪽이 포기...   \n",
       "58  [동아일보]\\nG2, 보복관세 무역전쟁 격화\\n“우리는 지난 25년간 중국의 재건을...   \n",
       "59  중국, 지난해 대두 400억 달러어치 수입...미국산이 140억 달러어치\\n\\n중국...   \n",
       "60  ‘중국제조 2025’란\\n\\n‘중국제조(Made in China) 2025’는 시진...   \n",
       "61  美 \"中보복관세 조치는 세계시장 질서 왜곡\" 발끈…미중 무역 보복전 점입가경\\n중국...   \n",
       "62  [서울신문]\\n중국이 미국의 관세폭탄 공격에 대한 첫 보복 조치를 2일 내놓았다. ...   \n",
       "63  【서울=뉴시스】조현아 기자 =최근 미국의 경상수지 적자가 소폭 확대되면서 재정수지 ...   \n",
       "64  오하이오서 북핵타결 이후 연기 시사\\nAP \"북핵협상에 한미FTA를 지렛대로\"\\n로...   \n",
       "65  【서울=뉴시스】권성근 기자 = 도널드 트럼프 미국 대통령이 중국과 무역전쟁을 불사하...   \n",
       "66  [이데일리 경계영 기자] 한·미 양국이 자유무역협정(FTA) 개정 협상 원칙에 합의...   \n",
       "67  한미FTA 픽업트럭 관세 (CG) [연합뉴스TV 제공]\\n\\n\\n픽업트럭 관세 연장...   \n",
       "68  농업·철강 지키고 車 양보…한미FTA 사실상 타결(영종도=연합뉴스) 서명곤 기자 =...   \n",
       "69  자동차·항공기·반도체 등 미 주요 수출품목 타격 클 수 있어\\n\\n中 전 재무장관 ...   \n",
       "70  특허권 무단사용·기술 이전 강요 등 주장\\n\\n(워싱턴=연합뉴스) 이승우 특파원 =...   \n",
       "71  동영상 뉴스\\n[앵커]\\n\\n이런 가운데 미국은 수입산 철강에 '관세폭탄'을 매기는...   \n",
       "72  韓, 中수출의 79%가 중간재\\n中 대미수출 줄면 韓도 타격\\n中 편들 수도 없고 ...   \n",
       "73                        (서울=뉴스1) 김윤정 기자 = yjyj@\\n\\n   \n",
       "74  [서울신문]\\n미국 금리 인상 속도가 빨라지면서 국내 대출금리도 한층 가파르게 오를...   \n",
       "75  ㆍ인상 압박 커졌지만 가계빚 부담\\nㆍ“당장은 괜찮다”…5월 금통위 주목\\n\\n\\n...   \n",
       "76  【 서울·워싱턴=예병정기자 장도선특파원】 미국 중앙은행인 연방준비제도(연준)의 행보...   \n",
       "77  제롬 파월 미 연준 의장(왼쪽)과 이주열 한은 총재. 연합뉴스\\n\\n\\n미국 중앙은...   \n",
       "78  [머니투데이 뉴욕(미국)=송정렬 특파원] [연준, 올해 첫 금리인상 단행… 내년 금...   \n",
       "\n",
       "                                                   8   \\\n",
       "0   대미 무역흑자 310억5천만달러 기록\\n\\n\"달러 강세·美 경기호조가 관세 효과 상...   \n",
       "1   (서울=연합뉴스) 진병태 기자 = 중국의 대규모 아프리카 원조에 미국이 '채무함정'...   \n",
       "2   아르헨 정부 12년간 통계 조작\\n적자 축소한 그리스는 국가부도\\n피케티 교수도 분...   \n",
       "3   현지 철강재 가격 폭등에 무릎\\n쿼터 수용국도 예외 신청 허용\\n업계 \"美 철강사 ...   \n",
       "4   무역전쟁 관련 신경전 치열…철강 관세·지적재산권도 협의중\\n\\n미중 대결·무역전쟁 ...   \n",
       "5   선진국, 中 기술이전 강요 등 부담 겪어\\n中, 선진국들 불만 과소평가\\n칼라 힐스...   \n",
       "6   송유관·유정용 등 이어 네번째\\n포스코산 열연·전기료 또 시비\\n[서울경제] 미국이...   \n",
       "7   무역전쟁 완화 계기 주목…160억달러 규모 관세 발효 앞두고 대화 재개\\n\\n중국,...   \n",
       "8   리라화 폭락 촉발한 철강·알루미늄 관세에 '이에는 이' 보복\\n\\n양국갈등 악화에 ...   \n",
       "9   특정상품 무관세 혜택 주는 GSP, 亞·태평양 25國대상 재검토\\n올 가을부터 동유...   \n",
       "10  매년 여름 중국 공산당 지도부의 비밀회의가 열리는 베이다허 전경 - SCMP 갈무리...   \n",
       "11  블룸버그통신 갈무리\\n\\n(서울=뉴스1) 박형기 기자 = 중국이 미중 무역전쟁 장기...   \n",
       "12  美 상공회의소, 트럼프 무역전쟁 전체 손실 보상 총 43조원 필요\\n농업분야에 14...   \n",
       "13  美음료·오토바이 등 제품 가격 인상 늘어\\n\\n(서울=연합뉴스) 김지연 김윤구 기자...   \n",
       "14  사진=AFP\\n[이데일리 김경민 기자] 미국과 중국의 무역전쟁 영향이 실물 경제로까...   \n",
       "15  \"단기,중기 경제 하락 위험 증가\"\\n\"대화와 행동 강화 필요\"\\n\"수출에 유리하게...   \n",
       "16  ‘협력’ 부품사들 적자늪서 허덕\\n\\n상반기 車생산량 7.3% 감소\\n\\n수입차 판...   \n",
       "17  동영상 뉴스\\n<앵커>\\n\\n경제 관련 안 좋은 소식 하나 더 있습니다. 유럽연합 ...   \n",
       "18  세계 GDP의 30% 차지 최대급 자유무역지대 탄생…내년 3월 발효 목표\\n\\n한국...   \n",
       "19  [동아일보]\\n전면전 치닫는 무역전쟁\\n의류-생선 등 6031개 품목 예고… 中첨단...   \n",
       "20                                  [연합뉴스TV 제공]\\n\\n\\n   \n",
       "21  메르켈 \"중국 개방도 높아졌다\" 평가\\n리커창 \"獨기업에 기술이전 종용 않을것\"\\n...   \n",
       "22  美와 통상전쟁 선택한 중국\\n\"중국 굴기 역사적 기회될 것\"\\n\\n통상전쟁 본질은 ...   \n",
       "23                               동영상 뉴스\\n[뉴스데스크]◀ 앵커    \n",
       "24  미국의 연간 대중 수출규모 1299억달러에 불과\\n© News1 김일환 디자이너\\n...   \n",
       "25  로이터, 충격 클 10개국 선정\\n\\n정부 “피해 미미할것”과 대비\\n\\n미국의 중...   \n",
       "26  신임 CEO, 독일 사업체 책임자 지낸 쉬쯔양\\n재무·기술·인사 등 최고책임자도 교...   \n",
       "27  ㆍ특허소송 대만 업체 손들어 주며 미국에 맞대응 의지\\nㆍ미국 여행 부정적 측면 강...   \n",
       "28  [오늘의 세상]\\n\"무역협상서 자동차는 가장 큰 것\" 수입차에 관세폭탄 위협\\n\\n...   \n",
       "29  트럼프, 수입차 고율 관세 부과 전망(PG)[제작 이태호] 사진합성, 일러스트 * ...   \n",
       "..                                                ...   \n",
       "49  [서울신문]\\n김동연 부총리 G20회의서 협의\\n美 “작년 하반기 원화 절상 과정\\...   \n",
       "50  환율조작국 3개 요건 중 2개만 충족해 제외돼\\n美 \"외환시장 개입 내역 투명·신속...   \n",
       "51  지난달 정례회의 내용 공개…\"무역갈등엔 우려\"\\n\\n제롬 파월 미국 연방준비제도(F...   \n",
       "52  트럼프 \"친구\" 발언에 시진핑 \"대외개방 확대·자동차 관세 인하\"로 화답\\n\\n낙관...   \n",
       "53  민족적 자존심 대결 번져 / “中 향한 美 몽둥이 태워버리겠다 / 항미원조 전쟁방식...   \n",
       "54  中상무부 \"美, 추가 관세부과 명단 발표하면 즉시 보복\"(베이징 AP=연합뉴스) 중...   \n",
       "55  동영상 뉴스\\n오늘 날씨 상황, 참 심난합니다.\\n\\n지금 전국 대부분 지역에서 황...   \n",
       "56                               동영상 뉴스\\n[뉴스데스크]◀ 앵커    \n",
       "57  \"안보위협 대처 조치...세이프가드 발동 아냐\"\\n\\n\\n【서울=뉴시스】문예성 기자...   \n",
       "58  [머니투데이 뉴욕(미국)=송정렬 특파원] [트럼프 트위터서 \"무역전쟁선 수년전 패배...   \n",
       "59  미국 중국 무역 갈등(CG) [연합뉴스TV 제공]\\n\\n\\n美, 30일간 의견수렴후...   \n",
       "60  보아오포럼서 발표 추진\\n\\n美보호무역 맞서 개방 주창\\n\\n시진핑(習近平·얼굴) ...   \n",
       "61  \"美는 中에 털리는 돼지 저금통\" 무역적자 줄이기 맹공\\n당시 USTR 부대표였던 ...   \n",
       "62  [서울신문]\\n현지언론 “대등하게 보복” 환영\\n\\n중국 상무부는 2일 미국 수입품...   \n",
       "63  산업부, 신규 로비업체 계약하며 70% 증액…\"최근 더 신경 쓰고 있다\"\\n\\n(서...   \n",
       "64  [머니투데이 뉴욕(미국)=송정렬 특파원] [트럼프, \"매우 강력한 카드\"라며 한미F...   \n",
       "65  리커창 총리 중국발전고위급포럼 좌담회\\n\\n\\n(상하이=연합뉴스) 정주호 특파원 =...   \n",
       "66  현대경제연구원 분석\\n\\n[ 김은정 기자 ] 미국과 중국 간 ‘무역전쟁’으로 한국의...   \n",
       "67  【서울=뉴시스】김동현 기자 = 한국무역협회는 26일 한미 자유무역협정(FTA) 개정...   \n",
       "68  실물시장 번진 무역전쟁 공포\\n\\n◆ 美·中 무역전쟁 확산 ◆\\n\\n미국과 중국의 ...   \n",
       "69  【서울=뉴시스】이재준 기자 = 중국 정부는 미국이 중국을 지적재산권 침해 혐의로 세...   \n",
       "70  도널드 트럼프 미국 대통령이 22일(현지시간) 백악관에서 중국산 수입품에 대해 연 ...   \n",
       "71                               동영상 뉴스\\n[뉴스데스크]◀ 앵커    \n",
       "72  中 서비스업 비중 커져 美영향력 감소…중국산에 美기업제품 많아\\n\\nWSJ \"움직이...   \n",
       "73                     中, 맞불관세 계획 (PG) [제작 이태호]\\n\\n\\n   \n",
       "74  미국 철강 '관세폭탄', 면제협상 (PG) [제작 최자윤] 일러스트\\n\\n\\n김현종...   \n",
       "75  ㆍ한·미 ‘금리 역전’ 이후\\nㆍ가계 원리금 늘어 소비 둔화\\nㆍ부동산시장엔 한파 ...   \n",
       "76  【서울=뉴시스】한국은행 금융통화위원회는 27일 기준금리를 연 1.50%로 동결했다....   \n",
       "77  \"가계부채 등 리스크요인 철저히 점검\"\\n22일 외화 유동성 회의…\"스트레스테스트 ...   \n",
       "78  [그래픽] 미 기준금리 0.25%P 인상, 10년만에 한국 금리 추월\\n\\n\\n[연...   \n",
       "\n",
       "                                                   9   \\\n",
       "0   8월말 기준 3조1천97억달러…중국 당국 \"달러 강세 영향\"\\n\\n나란히 놓인 달러...   \n",
       "1   신흥국 긴축 조치 잇따라\\n아르헨티나 중앙은행이 30일(현지시간) 페소화 가치 폭락...   \n",
       "2   매튜 킹 씨티그룹 채권투자 전략가\\n미국 경기 110개월째 확장 국면\\n채권·주식 ...   \n",
       "3   [머니투데이 유희석 기자] [아르헨, IMF 구제금융 조기 집행 요청…리라화 최근 ...   \n",
       "4   美 최후통첩에 캐나다 협상 재개…캐나다 총리 \"트럼프와 건설적 대화\"\\n\\n멕시코·...   \n",
       "5   댈러스·캔자스시티 연은총재 \"두차례 추가 인상 바람직\"\\n\"연준 통화정책, 정치적 ...   \n",
       "6   SCMP, 티모시 스트랫포드 전 USTR대표보 인터뷰\\n\"교착상태 지속될 것…추가 ...   \n",
       "7   \"관세 둘러싼 불안 타당하지만 자유 무역하려면 공정해야\"\\n【베드민스터 ( 미 뉴저...   \n",
       "8   \"美 '경제 공격'에 따른 보복 조치\"\\n레제프 타이이프 에르도안 터키 대통령 © ...   \n",
       "9   [동아일보]\\nGSP 철회 경고에 금융시장 출렁\\n1976년 개도국 ‘경제개발지원’...   \n",
       "10  [아시아경제 베이징 박선미 특파원] 미국과 중국이 지난달 6일 각각 340억달러 규...   \n",
       "11  \"관세 덕분에 21조 달러 국가채무 축소 시작할 수 있을 것\"\\n\\n도널드 트럼프 ...   \n",
       "12  폼페이오 \"1260억원으로 시작\"…에너지·SOC 부문 집중 투자\\n中과 갈등 빚는 ...   \n",
       "13  2018년 상반기 세계경제동향\\n\"美 자동차 관세부과시 철강보다 훨씬 큰 타격\"\\n...   \n",
       "14  글로벌 무역전쟁에서 미중 무역전쟁으로 압축\\n25일(현지시간) 도널드 트럼프 대통령...   \n",
       "15  [서울신문]\\n상반기 생산·수출·내수 모두 뒷걸음질\\n수입차 판매 17.9%↑… ‘...   \n",
       "16  AAM 등 업계대표 입장표명\\n\\n“차값 상승 따른 수요 감소로\\n\\n일자리 62만...   \n",
       "17  [앵커]\\n세계 주요 국가들을 상대로 무역전쟁을 일으킨 미국이, 국내외 거센 반발에...   \n",
       "18  日-EU 경제동반자협정 서명\\n\\n미국과 중국 간 무역전쟁이 지속되는 가운데 일본과...   \n",
       "19  미국, 소비재 등 6031개 품목 부과\\n1차 56조 합해 중국 대미 수출 절반\\n...   \n",
       "20  【서울=뉴시스】 안호균 기자 = 미국이 중국에 대한 2000억 달러(223조 400...   \n",
       "21  중국 산둥성 취푸의 공장에서 미국산 대두로 만든 콩기름 제품이 나오고 있다. ［로이...   \n",
       "22  [ 김현석 기자 ] 미국 경기 호황 덕에 도널드 트럼프 대통령이 대(對)중국 통상전...   \n",
       "23  [이미지출처=연합뉴스]\\n[아시아경제 베이징 박선미 특파원] 미중 무역전쟁 발발이 ...   \n",
       "24  (도쿄=연합뉴스) 최이락 특파원 = 일본 정부는 6일 미국이 중국산 수입품에 대한 ...   \n",
       "25  美 관세부과 피해 우려에도 마이크론 반도체 잠정 판매금지 결정\\n국영 메모리 기업에...   \n",
       "26  글로벌 교역 이미 냉각...중국 결사 항전땐 '치킨게임'\\n올해 들어 신규 수출 P...   \n",
       "27  ㆍ미 의회, 통신장비업체 화웨이·ZTE까지 제재 법안 추진\\nㆍ11월 중간선거 앞두...   \n",
       "28  [CBS노컷뉴스 박종환 기자]\\n사진=스마트이미지 제공\\n미국의 고율 관세 부과 방...   \n",
       "29  【서울=뉴시스】 안호균 기자 = 미국 자동차업체 GM이 도널드 트럼프 행정부가 자동...   \n",
       "..                                                ...   \n",
       "49  중국·일본 등과 함께 또 '관찰 대상국' 분류\\n\\n\\n한국이 이번에도 '환율 조작...   \n",
       "50  [머니투데이 세종=정현수 기자] [관찰대상국으로 분류…환율보고서 \"외환시장 개입 내...   \n",
       "51  한국 등 대미 무역흑자국 지정 우려\\n\\n철강 관세 부과처럼, 24년간 묵혀뒀던 법...   \n",
       "52  \"노골적 국수주의자 시진핑, 개혁개방에 양면적 태도\"\\n전문가들 \"이전에도 같은 약...   \n",
       "53  中외교부 \"중국ㆍ유엔, 보호주의 함께 저지하기로\"\\n\\n왕이 중국 외교담당 국무위원...   \n",
       "54  트럼프 추가 관세 지시에 6일 美 증시 3대지수 2%대 급락\\n'무역전쟁 위험' 낙...   \n",
       "55  [한겨레] 미-중 무역전쟁 ‘치킨게임’\\n\\n경제·무역구조 미국 쪽 압도적\\n\\n중...   \n",
       "56  WSJ “양국 대치 속 고도의 협상 국면에 진입” 평가\\n\\n\\n“불공정 무역관행 ...   \n",
       "57  일본 수출항에서 컨테이너 선적 작업을 하고 있다.\\n\\n\\n【서울=뉴시스】이재준 기...   \n",
       "58  ‘눈에는 눈 이에는 이’ 무역전쟁\\n미국, 로봇·항공 1300종 고율 관세\\n시진핑...   \n",
       "59  美, 中 기술굴기 1,300개 품목에 500억弗 관세\\n中은 미국산 대두·車 등 1...   \n",
       "60  미중 무역전쟁 \"보복에 또 보복\" 한국 수출기업 초비상\\n\"美, 中수입 10% 줄이...   \n",
       "61  중국이 무역전쟁 반기는 4가지 이유…‘결사항전’ 여론에 미소 짓는 시진핑\\n3월23...   \n",
       "62  [서울신문]\\n미국의 관세 폭탄은 기본적으로 중국의 첨단기술 분야를 겨냥하고 있다....   \n",
       "63  동영상 뉴스\\n<앵커>\\n\\n미국이 FTA와 철강에 이어서 이번엔 과일 문제를 들고...   \n",
       "64  트럼프, 한미FTA 개정 \"北과 협상타결 이후로 미룰수도 있을 것\"(리치필드<미 오...   \n",
       "65  WP칼럼니스트 로긴 \"동맹 필요한데 철강·알루미늄 관세는 역효과\"\\n\\n(워싱턴=연...   \n",
       "66  中외교부 정례 브리핑…\"공은 美에 있다\"\\n므누신 방중 보도엔 \"대화의 문은 늘 열...   \n",
       "67  중국 고위 참모 \"11월 중간선거 전 트럼프에 승리 안겨준다\"\\n\\n시진핑 중국 국...   \n",
       "68  美, 나프타 개정 등 무역질서 재편 노려\\n中, EU 연대 자유무역 주도권 잡기 역...   \n",
       "69  【서울=뉴시스】김종민 기자 = 미국과 중국 간의 통상전쟁이 격화되면서 양국(G2)과...   \n",
       "70  동영상 뉴스\\n[앵커]\\n미국과 중국의 관세 공방으로 무역전쟁이 본격화될 우려감이 ...   \n",
       "71  미·중 '통상 전면전' 새우 등 터지는 한국\\n중국·미국은 1·2위 교역 상대국…균...   \n",
       "72  중국 미국에 대화로 문제 풀고 싶다는 의사 표시한 것\\nCNBC 갈무리\\n\\n(서울...   \n",
       "73  22일(현지시간) 도널드 트럼프 대통령이 중국산 제품에 600억달러의 관세를 매기는...   \n",
       "74  [오늘의 세상]\\n\\n트럼프, 對中 기술장벽 세워 첨단투자 막고 중국産 제품 관세\\...   \n",
       "75  [앵커]\\n\\n미국 중앙은행인 연방준비제도가 석 달만에 또 금리를 올렸습니다.\\n\\...   \n",
       "76  [머니투데이 구경민 기자, 권혜민 기자] [편집자주] 한국과 미국의 기준금리가 10...   \n",
       "77  (서울=연합뉴스) 증권팀 = 미국의 금리 인상에 따른 한·미 기준금리 역전에도 국내...   \n",
       "78  \"금리차 0.75%p 이상 커지면 자본유출이 코스피에 강력한 하방압력될 듯\"\\n\\n...   \n",
       "\n",
       "                                                   10  \\\n",
       "0   도널드 트럼프 미국 대통령이 6일 (현지시간) 몬태나 주 빌링스의 ‘미국을 다시 위...   \n",
       "1   [머니투데이 정한결 기자] [베트남 등 인근 국가로 시설 이전 가속화… \"무역갈등,...   \n",
       "2   중국 항복은 이제 시간문제다\\n\\n유민호 퍼시픽21 소장\\n\\n지난 8월 13일 중...   \n",
       "3   \"완전 면제는 아냐…美 철강업체 물량부족 대응해 예외신청 받아주기로 한 것\"\\n[이...   \n",
       "4   [워싱턴=CBS노컷뉴스 장규석 특파원]\\n트럼프 미국 대통령은 '중국과 아직 대화할...   \n",
       "5   차관급 대화 채널 한계 노출…상대방 마지노선 떠본 탐색적 대화 그쳐\\n\\n美, 2천...   \n",
       "6   SCMP \"SOC 촉진 통해 경기 부양하는 옛 관행으로 되돌아가고 있다\"\\n\\n(서...   \n",
       "7   트럼프, 백악관서 20분 즉흥 인터뷰에서 밝혀\\n【유티카(미 뉴욕주)=AP/뉴시스】...   \n",
       "8   [이슈톡톡] 터키 리라화 폭락\\n폭락한 터키 리라화. 출처=연합\\n터키 리라화의 폭...   \n",
       "9   [앵커]\\n\\n터키발 충격은 우리나라를 포함한 아시아 금융시장 전체를 흔들었습니다....   \n",
       "10  시진핑 주석 \"애국정신 새시대 투쟁가치로 추구해야\", 관영매체들 애국심 고취 사설 ...   \n",
       "11  리샤오 지린대 경제원장 졸업연설문\\n중국 경제학자 시진핑 '중국 굴기' 정책 비난\\...   \n",
       "12  [ 김동욱 기자 ] 일본은행(BOJ)이 일정 범위 내에서 장기 금리 상승을 용인하기...   \n",
       "13  기재부 '세계경제동향'…\"상반기 세계경제 성장세 지속\"\\n\"금융 변동성 확대·무역갈...   \n",
       "14  미국 성조기와 유럽연합(EU) 국기. © AFP=뉴스1\\n\\n(서울=뉴스1) 김정한...   \n",
       "15  트럼프-시진핑 미중 무역전쟁ㆍ무역협상 (PG)\\n\\n\\n(뉴욕=연합뉴스) 이귀원 특...   \n",
       "16  홍영표 등 방미 원내대표들과 면담한 자리에서 밝혀\\n\\n윌버 로스 미국 상무장관 [...   \n",
       "17  美상무부 \"우라늄 수입, 국가안보 침해 여부 조사\"\\n무역확장법 23조에 따라..관...   \n",
       "18  '미ㆍ중 통상전쟁 전망은?'(서울=연합뉴스) 강민지 기자 = 17일 오후 서울 영등...   \n",
       "19  \"중국에 고통 준다더니 미국 가계가 벌 받아\"\\n\\n\"출구 찾기 어려운 수준 격화 ...   \n",
       "20  © News1 김일환 디자이너\\n\\n(서울=뉴스1) 박형기 기자 = 도널드 트럼프 ...   \n",
       "21  (서울=연합뉴스) 신유리 기자 = 바다를 건너 중국 항구에 도착한 미국산 수입품에 ...   \n",
       "22  미·중 각각 340억弗 물품에 관세 물리며 전쟁 포문 열어\\n車로 확전땐 세계경제 ...   \n",
       "23  미국과 중국이 끝내 무역 전쟁의 방아쇠를 당겼다.\\n\\n글로벌 시장 전문가들은 세계...   \n",
       "24  미중 무역전쟁 (PG)\\n\\n\\n미중 경제패권 다툼에 세계 경제둔화 가능성…성장률 ...   \n",
       "25  \"첨단기술 발달 양보 못해, 美 갈등확대 결정대로 하라\"\\n\\n(선양=연합뉴스) 홍...   \n",
       "26  美·中 `340억弗 관세폭탄` 맞불\\n\\n미국과 중국이 6일 각각 상대방을 향해 3...   \n",
       "27  中, 마이크론 생산·판매 제한\\n\\n美가 차이나모바일 막자\\n中 '첨단산업 사수' ...   \n",
       "28  2017년 미국 총 수출액 19%에 해당\\n<자료사진> © AFP=뉴스1\\n\\n(서...   \n",
       "29  제롬 파월 연준 의장\\n[AFP=연합뉴스]\\n\\n\\n(뉴욕=연합뉴스) 이귀원 특파원...   \n",
       "..                                                ...   \n",
       "49  [동아일보]\\n美, 외환시장 개입 정황 공개 압박\\n미국이 한국의 외환시장 개입 현...   \n",
       "50  5회 연속 관찰대상국 포함…\"외환시장 개입 제한하고 투명하게 공표해야\"\\n\\n관찰대...   \n",
       "51  무역전쟁 이어 폭탄발언 때마다\\n증시·원유·원자재시장 일파만파\\n올들어 변동성지수 ...   \n",
       "52  시진핑 주석이 10일 오전 보아오 포럼에서 연설하고 있다.\\n\\n(서울=뉴스1) 박...   \n",
       "53  무역전쟁 속 정치 실리\\n\\n# 트럼프, 러 스캔들 등 묻혀가\\n지지율 45% 이상...   \n",
       "54  日·EU, 美의 中 상대 지재권 침해 WTO 제소에 참여 방침\\n\\n미국무역대표부,...   \n",
       "55  [CBS노컷뉴스 박종환 기자·장규석 워싱턴 특파원]\\n도널드 트럼프 미국 대통령 (...   \n",
       "56  美·中 '물밑협상' 돌입\\n\\n설리번 美 국무장관 대행·추이톈카이 中대사 회동\\n\\...   \n",
       "57  \"양측 관세 발효돼 시행되기까지 몇 개월 걸릴 것\"\\n\\n\\n【서울=뉴시스】 이혜원...   \n",
       "58  미, 무역적자 면하려 각국 환율 압박\\n1985년 플라자 합의 땐 엔고 이끌어\\n미...   \n",
       "59  G2의 통상전쟁 노림수는\\n\\n◆ 美·中 통상전쟁 격화 ◆\\n\\n미국과 중국 간 무...   \n",
       "60  미국이 25%의 관세를 부과할 중국산(産) 1300개 제품의 목록을 3일(현지시간)...   \n",
       "61  【서울=뉴시스】문예성 기자 = 미중 무역전쟁이 본격화 양상을 보이는 가운데 추이톈카...   \n",
       "62  [오늘의 세상]\\n무역전쟁 첫 반격… 미국산 128개 품목에 관세 부과\\n\\n돼지고...   \n",
       "63  [앵커]\\n\\n미 오하이오주를 방문해 연설하는 트럼프 미 대통령.\\n\\n한국과 FT...   \n",
       "64  ‘FTA 개정’ 실패한 협상 지적 왜 나오나\\n김현종 통상교섭본부장(오른쪽)이 지난...   \n",
       "65  양국 고위급 대화 채널 본격 가동\\n美 \"자동차 관세 내리고 韓·日 반도체 대신 미...   \n",
       "66  韓·美 FTA 개정 - 철강관세 협상 타결\\n\\n전문가 이해 득실 분석\\n\\n\"선방...   \n",
       "67  [머니투데이 뉴욕(미국)=송정렬 특파원] [美, 자동차반도체 수출확대·금융규제 완화...   \n",
       "68  한미 협상 결과는(영종도=연합뉴스) 서명곤 기자 = 미국에서 한미 자유무역협정(FT...   \n",
       "69  WTO 체제 산파 역할 한 미국이 WTO 흔들어…중재 기능 유명무실\\n\\n컨센서스 ...   \n",
       "70  중국 상무부, 30억달러 맞불 관세 계획 발표\\n\\n美 보호주의 맞서 싸울 준비와 ...   \n",
       "71  미·중 '통상 전면전' 보복관세 치고받아\\n보복 악순환 우려\\n\\n\"글로벌 무역 위...   \n",
       "72  600억弗 관세폭탄 vs 30억弗 보복관세\\nUS President Donald T...   \n",
       "73  철강 관세 면제 협상이 장기화 (PG)[제작 최자윤] 일러스트\\n\\n\\n4월말까지 ...   \n",
       "74  [동아일보]\\n주택대출 이자부담 크게 늘듯\\n4% 넘기면 시장영향 본격화\\n21일(...   \n",
       "75  동영상 뉴스\\n【 앵커멘트 】\\n미국이 오늘(22일) 새벽 기준금리를 올려 한미 정...   \n",
       "76  FOMC 결정으로 한미 금리역전 부담 조금은 덜어내\\n5월 넘기고 6월에 美 상황 ...   \n",
       "77  [헤럴드경제=유재훈 기자] 미국 중앙은행인 연방준비제도(Fedㆍ연준)가 기준금리를 ...   \n",
       "78  미국연방준비제도(연준) © AFP=뉴스1\\n\\n(서울=뉴스1) 김정한 기자 = 미국...   \n",
       "\n",
       "                                                   11  \\\n",
       "0   애플, 美무역대표부에 서한 발송…추가관세에 불만 표시\\n\"中제품 관세 높이면 애플 ...   \n",
       "1   시진핑 중국 국가주석이 세계 강국 부상을 위해 집권 초기인 2013년 9월부터 야심...   \n",
       "2   수출기업·외국 채권 투자자에 7조원대 감세\\n\\n월 80만원 월급쟁이까지는 소득세 ...   \n",
       "3   한국·아르헨티나·브라질 철강, 아르헨티나 알루미늄 대상\\n\\n미국, 한국 철강제품 ...   \n",
       "4   트럼프 \"멋진 빅딜\"…캐나다 외교장관 28일 워싱턴행\\n\\n자동차 역내 부품비율 7...   \n",
       "5   美 요구사항 수정 제안했지만 中은 기존 '수입확대' 입장 고수\\n\\n중국 상무부 \"...   \n",
       "6   협상 앞두고 위안화 절상 압박\\n파월 향해선 “금리 인상 안 달가워”\\n제롬 파월....   \n",
       "7   \"경쟁은 이제 국내에서만\"…WSJ, 일부 과장논란 지적\\n\\n러스트벨트의 제철소 방...   \n",
       "8   \"美 조치, 중국의 합법적인 권익 해쳤고, WTO 권위와 존엄성에도 악영향\"\\n\\n...   \n",
       "9   동영상 뉴스\\n[앵커]\\n\\n터키발 불안에 우리나라를 포함한 아시아 증시는 동반 급...   \n",
       "10  7월 흑자 280억5천만달러, 전달보다 32% 감소\\n\\n(서울·상하이=연합뉴스) ...   \n",
       "11  ◆ G2 新통화전쟁 ◆\\n\\n미국과 중국 간 무역전쟁이 시작된 이후 위안화 가치가 ...   \n",
       "12  폼페이오 \"印·太에 1,260억 투자\"\\n\"지배 추구하는 어떤 나라에도 반대\"···...   \n",
       "13  한국·EU·일본 등 미국 자동차 관세 대응 (PG)[제작 정연주] 사진합성, 일러스...   \n",
       "14  미국 트럼프-융커 EU집행위원장 무역 담판 (PG)[제작 최자윤] 사진합성, 일러스...   \n",
       "15  中의 대미흑자 사상최대 치솟자 관세 이어 환율 카드까지 꺼내\\n中, 위안화 가치 더...   \n",
       "16  트럼프 정부 관세 중 최대 규모 될 듯\\n산업 타격·보복관세 등 광범위 후폭풍 예상...   \n",
       "17  【워싱턴=AP/뉴시스】윌버 로스 미국 상무장관은 지난달 20일 상원 청문회에 출석해...   \n",
       "18  중국 외교부 화춘잉 대변인이 정례 기자회견에서 기자들의 질의에 응답하고 있다.\\n\\...   \n",
       "19  (제네바=연합뉴스) 이광철 특파원 = 중국에 무역전쟁을 선포한 미국이 세계무역기구(...   \n",
       "20  ‘올 것 왔다’ 충격 속 대응 분주\\n\\n관세보복여력 800억달러 불과\\n\\n‘미국...   \n",
       "21  리커창, 유럽 농산물 수입 모색…\"늘어난 세수로 기업손실 메울 것\"\\n\\n(베이징·...   \n",
       "22  제조업 시황전망BSI 96\\n설비투자·고용도 부진\\n국내 기업들이 올해 3.4분기 ...   \n",
       "23  \"고집 피우면 타인과 자신 모두에게 피해\"\\n\\n\\n【서울=뉴시스】문예성 기자 = ...   \n",
       "24  [머니투데이 권다희 기자, 구유나 기자] [中 즉각 반발 \"역습 강요받은 상황\"… ...   \n",
       "25  [머니투데이 김영선 기자] ['가격 올리고 성장률 낮추는' 무역갈등의 특수성…\\nN...   \n",
       "26  미중 무역전쟁 (PG)\\n\\n\\n中상무부 \"중국, 먼저 총 쏘지 않을 것…美 관세 ...   \n",
       "27  로하니 \"이란 원유수출 못막아\"\\n\\n압박 현실화땐 중동산 공급차질\\n\\n\"미 제재...   \n",
       "28  [머니투데이 권다희 기자] [WSJ \"포드, 테슬라, BMW, 다임러 등 타격 예상...   \n",
       "29  (브뤼셀=연합뉴스) 김병수 특파원 = 유럽연합(EU)과 미국이 무역전쟁 위기로 치닫...   \n",
       "..                                                ...   \n",
       "49  [한겨레] 뉴스 분석 l 미 환율 보고서\\n\\n한국을 ‘관찰대상국’ 지정한 미국\\n...   \n",
       "50  트럼프 행정부 3번째 환율보고서…이번에도 칼날 피해간 중국\\n\\n트럼프-시진핑 유화...   \n",
       "51  \"미국이 중국 이익 해치는 행동 이어간다면 온힘 다해 반격\"\\n\\n\\n\\n(베이징=...   \n",
       "52  ㆍ중국 보아오 포럼 개막\\nㆍIMF 총재·마윈 등 참석\\nㆍ미 보호무역 성토장 방불...   \n",
       "53  ① 韓환율 개입내역 공개…직접 언급 대신 `투명성` 우회 압박할듯\\n② 재정지출 확...   \n",
       "54  \"협상 통한 해결 원하지만, 트럼프의 美 이익 방어 의지도 강해\"\\n\"증시 아직도 ...   \n",
       "55  [흔들리는 상품시장]\\n증시 변동성 커지며 VIX지수 연초 이후 72%나 뛰어\\n外...   \n",
       "56  [한겨레] 미·중, 보복관세 발효 전에 협상 의향 밝혀\\n\\n이미 무누신 재무장관 ...   \n",
       "57  백악관 커들로 “아직 제안 상태, 시행까지는 시간 있다”\\n中 “모든 문제가 테이블...   \n",
       "58  무역전쟁 한국 산업 피해는\\n미국이 이르면 5월 말부터 500억 달러(약 54조원)...   \n",
       "59  세이프가드 조사 후 수개월 내\\n관세 부과, 쿼터 적용 결정할 듯\\n대기업 수출 타...   \n",
       "60  스페인 모바일월드콩그레스 박람회 전시회 중국기업 화웨이 2018.3.1[신화=연합뉴...   \n",
       "61  \"美 관세폭탄 품목 발효시 미국산 대두·자동차 보복대상 올릴 것\"\\n\\n미중 무역전...   \n",
       "62  미국과 중국 사이 ‘무역 전쟁’이 강도를 더해 가고 있다. 중국 정부는 2일 미국산...   \n",
       "63  동영상 뉴스\\n[앵커]\\n\\n트럼프 대통령이 한미 FTA 개정 합의를 \"북핵 협상이...   \n",
       "64  미국무역대표부 홈페이지에\\nFTAㆍ철강 관세 등 설명하며\\n“환율조작 금지 등 규제...   \n",
       "65  미ㆍ중 WTO에서 충돌(PG)[제작 이태호] 사진합성, 일러스트\\n\\n\\n일본·EU...   \n",
       "66  동영상 뉴스\\n中, 美 국채 매도 시 소비심리 위축 우려\\n<앵커>\\n미국과 중국이...   \n",
       "67  【서울=뉴시스】박진희 기자 = 김현종 통상교섭본부장이 26일 오전 서울 종로구 정부...   \n",
       "68  김현종 \"농업 레드라인 지켰다·기존 관세양허 후퇴도 없어\"(영종도=연합뉴스) 서명곤...   \n",
       "69  주변국으로 확전 가능성…\"미·중 양패구상 우려, 세계경제에도 부담\"\\n\\n(서울=연...   \n",
       "70  [머니투데이 뉴욕(미국)=송정렬 특파원]\\n뉴욕증시가 트럼프발 무역전쟁의 공포에 이...   \n",
       "71  미·중 '통상 전면전' 보복관세 치고받아\\n\\n태양광·철강 이어 지재권 침해에 '관...   \n",
       "72  \"美국민에 500억불 세금 매긴 꼴\" vs 록히드마틴 \"미국에 중요\" 반색\\n\\n(...   \n",
       "73  \"정부 협상만 기다릴 수 없어\"…'품목 예외' 신청 추진\\n\\n(서울=연합뉴스) 김...   \n",
       "74  [10년 7개월만에 기준금리 역전, 우리경제 영향 당장은 괜찮지만…]\\n\\n- 경제...   \n",
       "75  동영상 뉴스\\n[리포트]\\n미국 기준금리 인상이 가져올 여파, 경제부 심정숙 차장과...   \n",
       "76  금융·정보통신·의료·제조업 등 해외투자 규제 완화\\n美 트럼프, 대중 무역 제재 패...   \n",
       "77  (사진=아시아경제DB)\\n\\n\\n[아시아경제 이현우 기자] 한국과 미국의 금리역전이...   \n",
       "78  제롬 파월 미 연준 의장이 21일(현지시간) 연방공개시장위원회 정례회의 뒤 가진 기...   \n",
       "\n",
       "                                                   12  \\\n",
       "0   2018년 5월 8일 인도네시아 자카르타 시내의 한 환전소에서 현지인 직원이 달러화...   \n",
       "1   대두 관세부과·아프리카돼지콜레라로 돼지고기 등 식탁물가도 불안\\n\\n중국 칭다오에 ...   \n",
       "2   도널드 트럼프(왼쪽) 미국 대통령과 시진핑 중국 국가주석.\\n\\n\\n도널드 트럼프 ...   \n",
       "3   【서울=뉴시스】조인우 기자 = 도널드 트럼프 미국 대통령이 한국산 철강 수입 쿼터 ...   \n",
       "4   【콜럼버스(미 오하이오주)=AP/뉴시스】도널드 트럼프 미 대통령이 25일(현지시간)...   \n",
       "5   [베이징= 이데일리 김인경 특파원] 미국과 중국이 무역 전쟁을 끝내기 위해 80여일...   \n",
       "6   WSJ 인터뷰서 \"EU·나프타 협상 함께 고려\"…韓업계도 일단 '숨통'\\n\\n윌버 ...   \n",
       "7   양국 경제·무역 문제 논의 예정\\n© News1 방은영 디자이너\\n\\n(서울=뉴스1...   \n",
       "8   [이미지출처=AP연합뉴스]\\n\\n\\n[아시아경제 뉴욕 김은별 특파원] 레제프 타이이...   \n",
       "9   동영상 뉴스\\n<앵커>\\n\\n오늘(13일) 하루 가장 관심이 많이 갔던 나라가 바로...   \n",
       "10  미중 무역전쟁 (PG)\\n\\n\\n美무역대표부, 340억달러 이은 2단계 조치 발표\\...   \n",
       "11  美, 경제 성장 힘입어 맹공… 中 “앉아서 안 당해”\\n[서울신문]\\n‘벼랑 끝’ ...   \n",
       "12  11월 중간선거 승리 노린 트럼프\\n의회 승인없이 자본차익 감세 선언\\nNYT \"수...   \n",
       "13  WSJ, 다음달 1일 FOMC서 금리 동결 전망\\n【워싱턴=AP/뉴시스】제롬 파월 ...   \n",
       "14  남아공 브릭스 정상회의 개막식서 연설\\n\\n(카이로=연합뉴스) 노재현 특파원 = 시...   \n",
       "15  [동아일보]\\n도널드 트럼프 미국 대통령이 중국과 유럽연합(EU)을 ‘환율조작국’이...   \n",
       "16  트럼프 \"강달러 美에 불이익\"…위안화 고시환율 2년만에 최대폭 절하\\n\\n환율 변동...   \n",
       "17  [동아일보]\\n할당 초과물량 25%관세… 韓등 타격\\n유럽연합(EU)은 19일부터 ...   \n",
       "18  중국 상무부 발표\\n© News1 김일환 디자이너\\n\\n(서울=뉴스1) 박승희 기자...   \n",
       "19  ㆍ환율 오름세 외환시장 ‘출렁’\\nㆍ주력 전기·전자로 ‘불똥’ 우려\\n\\n미·중 무...   \n",
       "20  美 예고대로 0.2조 달러 관세부과…亞 증시 혼란\\n삼성증권 \"9월까지 공청회 절차...   \n",
       "21  미중 무역전쟁 (PG)\\n\\n\\n\"중국이 보이지 않는 손\"…'배후론' 제기하며 중국...   \n",
       "22  전문가 5인의 긴급 제언\\n양평섭 대외경제硏 소장 \"EU도 보복관세 참전, 보호무역...   \n",
       "23  인민일보 \"중국, 미국의 극본대로 움직이지 않아…무역전쟁 전 세계에 피해\"\\n\\n\\...   \n",
       "24  가오펑 중국 상무부 대변인 [AP=연합뉴스 자료사진]\\n\\n\\n(베이징=연합뉴스) ...   \n",
       "25  미중 경제패권 다툼에 세계 경제둔화 가능성···성장률 깎이고 수요 약화\\n트럼프 ‘...   \n",
       "26  트럼프-시진핑 미중 무역전쟁 임박 (PG)[제작 최자윤] 사진합성, 일러스트\\n\\n...   \n",
       "27  [머니투데이 유희석 기자, 강기준 기자] [中 관세부과, 시차 탓 美보다 12시간 ...   \n",
       "28  EU 집행위·車업계 일제히 美상무부에 항의 서한\\n\\n(서울=연합뉴스) 신유리 기자...   \n",
       "29  美 폭스콘 공장 착공식서 밝혀 / 北·美 싱가포르 회담 열기 직전 / ‘개최 불확실...   \n",
       "..                                                ...   \n",
       "49  【서울=뉴시스】조현아 기자 = 한국은행은 현재 벌어지고 있는 미·중 무역갈등이 무역...   \n",
       "50                               본문 내용이 없는 기사입니다.\\n\\n   \n",
       "51  시 주석 금융개방 확대 발언 하루 만에 인민은행 총재 상반기⋅연내 이행 11개 조치...   \n",
       "52  [머니투데이 김재현 이코노미스트] [편집자주] 멀리 보고 통 크게 노는 법을 생각해...   \n",
       "53  \"노동시장 완전고용 가까워져\"\\n샌프란 연은 총재 \"경기 낙관\"\\n\\n제롬 파월 미...   \n",
       "54  \"중국은 미국의 위협에 굴복하거나 후퇴하는 일은 없을 것\"\\n\\n트럼프, 1천억달러...   \n",
       "55  트럼프, 1천억 달러 규모 중국산 수입품 추가관세 지시(PG)[제작 이태호, 최자윤...   \n",
       "56  각국 이해득실 따져보니.. 보잉·테슬라 직격탄 위기감\\n美·中 사이 중개무역 맡아온...   \n",
       "57  미국과 중국이 관세 보복 조치를 주고받으며 갈등이 커진 가운데, 양국 정부가 4일(...   \n",
       "58  \"상호존중 태도로 협상해야\"…\"절대 외부압력에 굴복하지 않을 것\"\\n\\n미중 무역전...   \n",
       "59  中관세세칙위원회, 106개 품목 발표…항공기·소고기 등도 포함\\n\\n미중 무역전쟁 ...   \n",
       "60  미중 무역전쟁 대결·트럼프-시진핑 (PG)[제작 최자윤] 사진합성\\n\\n\\n中, 트...   \n",
       "61  (서울=연합뉴스) 신유리 기자 = \"너무나 불안한 심정입니다. 농장에는 그나마 정치...   \n",
       "62  동영상 뉴스\\n[앵커]\\n한미 FTA 개정 협상이 마무리되자 마자 미국이 이번에는 ...   \n",
       "63                               동영상 뉴스\\n[뉴스데스크]◀ 앵커    \n",
       "64  [美 \"철강·FTA·환율 패키지로 논의\"… 韓 \"전혀 별개 문제\"]\\n\\n美 \"환율...   \n",
       "65  ㆍ픽업트럭 관세 23년 더 유지\\nㆍ철강업계도 “수출 감소” 불만\\n\\n자동차업계는...   \n",
       "66  \"미중 협상 진행 중… 대화의 문 열려 있어\"\\n\\n【서울=뉴시스】문예성 기자 = ...   \n",
       "67  변호인 \"MB, '모든 책임 내게' 수차례 천명…검찰은 주변사람 끊임없이 조사\"\\n...   \n",
       "68  김현종 미국과 협상 결과 설명(영종도=연합뉴스) 서명곤 기자 = 미국에서 한미 자유...   \n",
       "69  (서울=연합뉴스) 경수현 기자 = 미국과 중국 간 무역전쟁의 전운이 고조되면서 증시...   \n",
       "70  23일 삼성전자 주가 3.98%, SK하이닉스 6.21% 하락\\n'중간재' 수출 비...   \n",
       "71  트럼프, ‘對中 무역적자 줄이겠다’ 의지 / 中기업의 美 IT업체 기술 빼가기도 차...   \n",
       "72  미·중 '고래싸움'에…한국 반도체 등 중간재 수출 타격 우려 [한국무역협회 제공=연...   \n",
       "73  (서울=연합뉴스) 강건택 기자 = 22일(현지시간) 발표된 중국산 수입품에 대한 미...   \n",
       "74  [동아일보]\\n53조원 규모 對中 징벌적 조치\\n도널드 트럼프 미국 대통령이 대중(...   \n",
       "75  - 주택구입부담지수 6년 만에 최고\\n- \"수익형, 대출통한 투자 많아 타격\"\\n\\...   \n",
       "76  금융채·코픽스 등 가계대출 조달금리 상승으로 이어질 듯\\n\\n가계대출 70%가 변동...   \n",
       "77  [한겨레] 미 정책금리 인상, 역대 세번째 금리역전\\n\\n이 총재, 금융·경제상황 ...   \n",
       "78  소비·투자·고용 '양호한' 흐름..감세정책 한몫\\n내년 성장전망치도 2.4%..0....   \n",
       "\n",
       "                                                   13  \\\n",
       "0   【기준금리 세계 최고 60%, 아르헨 은행에 예치하면?】\\n\\n아르헨티나 중앙은행은...   \n",
       "1   비슷한 상황 벌어졌던 2월, 큰 폭 조정장 닥쳐\\n\\n\\n【서울=뉴시스】박상주 기자...   \n",
       "2   중국 채권 투자 외국자본에 이자 세금 3년간 면제\\n\\n리커창 중국 총리 [AP=연...   \n",
       "3   [머니투데이 구유나 기자]\\n/사진=뉴스1\\n미 상무부가 한국산 철강 관세를 면제한...   \n",
       "4   트럼프, 남은 회원국 캐나다 압박…\"하루만에 타결할 수도 있어\"\\n\\n자동차 역내 ...   \n",
       "5   23일부터 경제정책 심포지엄 잭슨홀미팅 개최\\n캔자스시티 연은총재 \"기준금리 3% ...   \n",
       "6   '금리인상 →강달러 →무역적자 심화' 고려한듯\\n연준 정책기조 '불변' 예상…中도 ...   \n",
       "7   [아시아경제 나주석 기자] 신흥국 경제를 뒤흔들었던 터키 리라화 폭락사태가 소강 국...   \n",
       "8   볼턴 “브런슨 목사 석방 전 터키와 협상 없다”\\n[서울신문]\\n경제 제재에 고위급...   \n",
       "9   美 무역제재 발표후 리라화 폭락 / 최근 1년 리라화 40% 이상 하락 / 10년 ...   \n",
       "10  부품·원재료 가격 오르지만 소비자가 올리긴 어려워\\n직원 해고, 투자 계획 취소, ...   \n",
       "11  트럼프, 중국 보복관세 \"악랄한 시도…실패할것\"(CG)[연합뉴스TV 제공]\\n\\n\\...   \n",
       "12  (도쿄=연합뉴스) 김정선 특파원 = 구로다 하루히코(黑田東彦) 일본은행 총재는 31...   \n",
       "13  기업활력 제고에 초점맞춰… 2분기 투자 7.3%↑, 소비 4.0%↑\\n매달 일자리 ...   \n",
       "14  남아공 브릭스 정상회의 개막식서 연설\\n\\n(카이로=연합뉴스) 노재현 특파원 = 시...   \n",
       "15  WSJ, 지난주 발표 관세목록에 1년 간 수입 안한 1000여개 제품 포함\\n【뉴욕...   \n",
       "16  ‘미국을 다시 위대하게’ 모자 쓴 도널드 트럼프 미국 대통령. SCMP 캡쳐\\n\\n...   \n",
       "17  윌버 로스 미국 상무장관[로이터=연합뉴스]\\n\\n\\n(워싱턴=연합뉴스) 이준서 특파...   \n",
       "18  [한겨레] 연례 중-EU 정상회담 베이징에서 열려\\n\\n3년만에 무역·안보 등 다룬...   \n",
       "19  [앵커]\\n\\n예상을 훌쩍 뛰어넘는 미국의 추가 관세부과 조치에 중국 정부는 당황하...   \n",
       "20  \"중미관계를 위한 옳은 선택은 협력 뿐\"\\n© News1 방은영 디자이너\\n\\n(서...   \n",
       "21  양국 ‘보복’ 악순환 우려 / 美, 340억弗 이어 160억弗 관세 / 中도 보복 ...   \n",
       "22  美 관세 부과한 6일, 시장은 안도감\\n\"미·중 갈등, 패권싸움 확전 가능성\"\\n\"...   \n",
       "23  WSJ, 무디스애널리틱스 분석결과 전해\\n이익 보는 지역은 별로 없고 타격 범위 커...   \n",
       "24  미국이 6일(현지시간) 중국에서 수입하는 340억 달러(약 38조원) 규모의 제품에...   \n",
       "25  궈수칭 중국 은보감위 주석[앙시망 캡처]\\n\\n\\n(상하이·베이징=연합뉴스) 정주호...   \n",
       "26  \"싸우고 싶지 않지만 국민을 위해 반격\"\\n美 자동차 관세 부과 반대 성명도 발표\\...   \n",
       "27  마이크론 빅마켓 잃어 주가 5.5%↓\\n中 \"유커들 美 불안한 치안 주의하라\"\\n관...   \n",
       "28  \"NAFTA, 11월 중간선거 이후 서명 원해…더 공정하길\"\\n\\n\"EU도 중국만큼...   \n",
       "29  외국인 투자 제한 목록 63→48개로 축소…철도·송전망 외자제한 폐지\\n\\n자동차 ...   \n",
       "..                                                ...   \n",
       "49  [머니투데이 세종=정현수 기자] [정책권고 사항으로 처음 거론…사실상 매달 개입내역...   \n",
       "50  [서울신문]\\n美 상무부, 넥스틸에 75% 반덤핑 관세\\n“정보 미제공”…불리한 가...   \n",
       "51  [그래픽] 미국 '시리아 사태' 중동에 항모전단 파견(서울=연합뉴스) 이재윤 기자 ...   \n",
       "52  2030년까지 전기차 섬 조성, 도박도 허용 검토…'제2 홍콩' 부상\\n\\n중국 하...   \n",
       "53  3월 일자리 10만3000개 ↑.. 파월 \"노동시장 흐름 강력\"\\nAP연합뉴스\\n【...   \n",
       "54  【베이징=AP/뉴시스】도널드 트럼프 미국 대통령이 9일 중국 베이징 인민대회당에서 ...   \n",
       "55  트럼프, USTR에 \"1천억달러 규모 中 상품에 추가관세 고려 지시\"\\n\\n中, 청...   \n",
       "56  파종 앞두고 고민 깊어져…\"미·중, 말싸움만 하고 끝내길\"\\n\\n(서울=연합뉴스) ...   \n",
       "57  동영상 뉴스\\n[앵커]\\n\\n앞서 전해드린 것처럼 미국과 중국 두 고래의 무역전쟁이...   \n",
       "58  \"바보같은 사람들 때문에 무역적자\"\\n© News1 방은영 디자이너\\n\\n(서울=뉴...   \n",
       "59  도널드 트럼프 미국 대통령(오른쪽)과 시진핑 중국 국가주석 [이미지출처=AP연합뉴스...   \n",
       "60  [머니투데이 뉴욕(미국)=송정렬 특파원] [美 USTR, 25% 고율관세 부과할 1...   \n",
       "61  美철강 알루미늄 관세에 보복준비\\n\\n러시아 당국이 수입산 철강·알루미늄에 관세를 ...   \n",
       "62  [앵커]\\n\\n미국의 중국산 철강 관세에 맞서 중국이 미국산 수입품 128개 품목에...   \n",
       "63  北·美대화 후로 개정 연기 시사 / 대중연설서 “매우 강력한 카드” / 트럼프 특유...   \n",
       "64  [서울신문]\\n김현종 “美, 11월 선거 앞두고\\n정치적 효과 위해 묶어서 발표”\\...   \n",
       "65  동영상 뉴스\\n한미FTA 재협상에서 가장 큰 피해가 예상됐던 분야가 바로 자동차산업...   \n",
       "66  한미FTA (CG) [연합뉴스TV 제공]\\n\\n\\n\"불리한 여건서 최소 양보\" 평가...   \n",
       "67  [머니투데이 장시복 기자] [미국산 유럽·일본차도 '어부지리'...\"장기적으로 타국...   \n",
       "68  - [누구를 위한 무역전쟁인가]③\\n- 中 '보복 경고' 말 한 마디에..돼지고기,...   \n",
       "69  【 베이징=AP/뉴시스】도널드 트럼프 미국 대통령이 9일 베이징 인민대회당에서 열린...   \n",
       "70  뉴욕증권거래소(NYSE). © AFP=뉴스1\\n\\n(서울=뉴스1) 이창규 기자 = ...   \n",
       "71  트럼프 ‘65조 中 수입품 관세’ 서명 / 중국 겨냥 “많은 조치 중 첫 번째” /...   \n",
       "72  [머니투데이 베이징(중국)=진상현 특파원, 김신회 기자] [상무부, 돼지고기·과일·...   \n",
       "73  중국 무역제재 행정명령에 서명하는 도널드 트럼프 미 대통령.© AFP=뉴스1\\n\\n...   \n",
       "74  [동아일보]\\n[한미 기준금리 역전]美 ‘경기회복 자신감’ 금리 인상\\n미국 연방준...   \n",
       "75  [한겨레] ‘미 금리인상’ 한국 대응은?\\n\\n한-미 금리역전 0.75~1%p차\\n...   \n",
       "76  [머니투데이 김신회 기자] [첫 FOMC 회견서 이론·모델 대신 경제지표 근거한 통...   \n",
       "77  한은, 올해 금리 인상 앞당겨질 수도\\n\\n\\n\\n(서울=연합뉴스) 윤선희 유현민 ...   \n",
       "78  석달 만에 0.25%포인트 인상..'제롬 파월' 의장 체제 이후 처음\\n2015년 ...   \n",
       "\n",
       "                                                   14  \\\n",
       "0   중국·멕시코·캐나다·한국·EU 이어 통상관계 재설정 추진\\n\\n\"무역전쟁 다음 타깃...   \n",
       "1   경제고문 래퍼 전언…\"무역전쟁에도 본심은 자유무역\"\\n\\n미국매체들 이르면 오는 7...   \n",
       "2   신뢰의 붕괴…이자율 올려도 자본은 급히 유출\\n정부의 무능과 부패…올해 경제 내내 ...   \n",
       "3   [사진=AFP제공]\\n[이데일리 정다슬 기자] 미국 정부가 한국산 철강 제품을 수입...   \n",
       "4   크리스티아 프릴랜드 캐나다 외무장관. © AFP=뉴스1\\n\\n(서울=뉴스1) 김정한...   \n",
       "5   제롬 파월 미 연준 의장［AP연합뉴스］\\n\\n잭슨홀 미팅, 트럼프 성토장\\n조지 연...   \n",
       "6   트럼프 \"중국 환율 조작한다고 생각…유럽도 마찬가지\"\\n금리 인상에도 불평 \"다른나...   \n",
       "7                            sophis731@newsis.com\\n\\n   \n",
       "8   터키 리라화 가치 올 들어 5분의1로 뚝\\n[서울신문]\\n아르헨 페소화·브라질 헤알...   \n",
       "9   에르도안 \"환율 폭등은 터키 굴복시키려는 음모\" [AFP=연합뉴스]\\n\\n\\n(이스...   \n",
       "10  중국, 위안화 절상 대응…달러당 6위안대 지키기 '안간힘'\\n\\n미국-중국 관세폭탄...   \n",
       "11  (하노이=연합뉴스) 민영규 특파원 = 미국이 촉발한 무역전쟁으로 보호무역주의에 대한...   \n",
       "12  트럼프 행정부, 1억1300만 달러 인도태평양 인프라 투자 발표\\n中일대일로 견제책...   \n",
       "13  무역전쟁 중인 중국, 경기 불안해지자 유동성 확대 공급\\n\\n유럽·일본·신흥국도 회...   \n",
       "14  (서울=연합뉴스) 문정식 기자 = 무역전쟁의 확산과 그로 인한 피해 우려에도 올해 ...   \n",
       "15  [시진핑, 阿에 공 들이는 이유]\\n세네갈 시작 4개국 순방 돌입\\n미국 阿 시장 ...   \n",
       "16  CNBC 인터뷰서 통화정책에 노골적 불만표출…\"푸틴의 '최악의 적' 될 것\"\\n\\n...   \n",
       "17  한국도 타격\\n【브뤼셀=AP/뉴시스】 세실리아 말름스트룀 유럽연합(EU) 집행위원회...   \n",
       "18  분쟁 확대 원치 않은데다 中폐쇄적 무역·투자 불만\\n중국과 마찬가지로 미국과 무역전...   \n",
       "19  동영상 뉴스\\n<앵커>\\n\\n이럴 때 수출이라도 잘 돼야 하는데 나라 밖 상황도 좋...   \n",
       "20  【서울=뉴시스】안지혜 기자 = 도널드 트럼프 미 행정부가 10일(현지시간) 2000...   \n",
       "21  미국과 무역전쟁을 치르고 있는 중국이 대규모 수입 확대를 약속하며 화해의 손짓을 보...   \n",
       "22  - 전문가들 \"약한 모습 감출 것\"..''제2의 대공황'' 언급\\n- 美中 칼날, ...   \n",
       "23  중국 상하이 바오샨 지구 수출항. © AFP=뉴스1\\n\\n(서울=뉴스1) 김정한 기...   \n",
       "24  美, 中제품에 고율관세 발효(베이징 로이터=연합뉴스) 미국은 미 동부시간으로 6일 ...   \n",
       "25  백운규 산업통상자원부 장관\\n\\n\\n[아시아경제 이광호 기자]\"미국과 중국 간 시행...   \n",
       "26  (서울=뉴스1) 박형기 기자 = 미중 무역분쟁이 격화되자 베트남 직접 투자가 급증하...   \n",
       "27  중국이 미국 반도체 업체인 마이크론의 중국 내 판매 금지를 예고하면서 미·중 간 무...   \n",
       "28  \"NAFTA, 11월 중간선거 이후 서명 원해…더 공정하길 원해\"\\n\\n\\n\\n(뉴...   \n",
       "29  중국이 외국인 투자를 유치하기 위해 투자 규제 업종을 63개에서 48개로 대폭 줄이...   \n",
       "..                                                ...   \n",
       "49  투자은행들 유가 전망치 상향…對이란 제재 등 리스크 줄줄이\\n\\n(서울=연합뉴스) ...   \n",
       "50  對美수출 '유정용 강관' 1위 업체, 미국에 공장 없다는 괘씸죄로 찍혀\\n\\n\\n/...   \n",
       "51  대륙의 클래스…스타벅스 매장 크기 무려 300배(상하이 로이터 AFP =연합뉴스) ...   \n",
       "52  \"중국 특색 자유무역항 건설 모색하겠다\"…하이난 염두에 둔 듯\\n\\n\"자동차 등 관...   \n",
       "53  “한국전쟁 의지로 대미 무역전쟁 치르자\"며 반격의지 다져\\n中 주영대사 “미국 30...   \n",
       "54  [머니투데이 뉴욕(미국)=송정렬 특파원] [파월, \"점진적 금리인상, 노동시장 호조...   \n",
       "55  도널드 트럼프 미국 대통령이 1000억달러 규모 중국산 수입품에 추가 관세를 검토하...   \n",
       "56  한미FTA 이른 타결 배경은 \"소규모 패키지 딜\" 소개\\n김현종 통상교섭본부장. ©...   \n",
       "57  중국 베이징에 있는 테슬라 매장 - CNBC갈무리\\n\\n(서울=뉴스1) 박형기 기자...   \n",
       "58  [앵커]\\n\\n중국의 1300개 핵심 품목에 관세 폭탄을 발표한 미국에 대해서 '같...   \n",
       "59  中 기세 꺾으려는 美\\n10대 핵심산업에 관세폭탄, 신약·반도체 등 제재 정조준\\n...   \n",
       "60  미중 무역전쟁 본격화 (PG)[제작 최자윤, 이태호] 일러스트\\n\\n\\n中상무부 대...   \n",
       "61  백악관, 中 철강위기 자업자득\\n中 “美기업 제외 통계는 엉터리”\\n무역전쟁 격화…...   \n",
       "62  美中 맞불관세(CG) [연합뉴스TV 제공]\\n\\n\\n\"미국은 중국이 반격 못할 것이...   \n",
       "63  루캉 외교부 대변인[중국 외교부 제공]\\n\\n\\n(베이징=연합뉴스) 심재훈 특파원 ...   \n",
       "64  나바로 CNN서 \"환율 평가절하, 하위 합의에 넣었다\"\\n김현종 靑TV서 \"美, 중...   \n",
       "65  27개 철강제품 대상, 9개월 이내 결론…중국산 최대 타깃 될 듯\\n\\n(브뤼셀=연...   \n",
       "66  [한겨레] 관세폭탄·보복관세 뒤에선 고위급 교류 재개\\n\\n미국산 반도체 구매 확대...   \n",
       "67  자유개방시장 수혜만 누리고 의무 회피한 중국\\n\\n캐나다 학자 \"아무도 이의 제기 ...   \n",
       "68  미 보복관세, 중 제2의 사드보복…우리 정부 곤혹\\n도널드 트럼프 미국 대통령과 시...   \n",
       "69  【워싱턴=AP/뉴시스】도널드 트럼프 미국 대통령이 22일(현지시간) 중국을 향한 5...   \n",
       "70  中 보복예고에 'G2 충돌' 가시화…내주 글로벌 증시도 살얼음\\n\\n무역전쟁 우려에...   \n",
       "71  中 해군, 남중국해에 실전훈련 예고 … 美해군의 군사작전에 맞대응\\n도널드 트럼프 ...   \n",
       "72  [머니투데이 유희석 기자] [中 '사드보복' 전략 사용 가능성…中 진출 美 기업, ...   \n",
       "73  청문회서 동맹에 미칠 악영향 우려 봇물 \"무역전쟁 방아쇠…동맹관계에 상처\"\\n\\n로...   \n",
       "74  트럼프, 중국산 수입품에 관세 폭탄 (PG) [제작 이태호]\\n\\n\\n'중국의 경제...   \n",
       "75  금리 역전 장기화 땐 자본유출 우려 / 내수경기 회복 더뎌 금리 인상 부담 / 시장...   \n",
       "76  Federal Reserve Chairman Jerome Powell holds a...   \n",
       "77  금리인상시 재정확대와 엇박자 우려…긴밀공조 필요\\n\\n[헤럴드경제=이해준 기자]미국...   \n",
       "78  [서울신문]\\n중국산엔 年 64조원 관세 예고\\n한국 일부 철강 41% 관세 폭탄\\...   \n",
       "\n",
       "                                                   15  \\\n",
       "0   \"완전히 방정식 바꿀것\"…캐나다·일본에도 무역 압박\\n\\n미중 무역전쟁 대결·트럼프...   \n",
       "1   기간산업 피해 또는 미국 우선주의 양자택일 기로\\n\\n멕시코 '시범타'…유럽연합·캐...   \n",
       "2   인도 사상최저·인니 3년내 최저…러·남아공·브라질도 급락\\n\\n영향 제한적일지 불분...   \n",
       "3   페소 급락에 외채상환 불능 우려…대통령 조기지원 긴급 요청\\n\\n잇단 달러매각에도 ...   \n",
       "4   (서울=연합뉴스) 김지연 기자 = 무역전쟁으로 중국 경제에 대한 우려가 커진 가운데...   \n",
       "5   \"정치와 무관하게 통화정책 결정할 것\"\\n\\n도널드 트럼프 대통령과 제롬 파월 연준...   \n",
       "6   로이터통신 인터뷰…\"무역협상 많은 기대없다\" 전방위 中압박\\n\\n트럼프, 중국 보복...   \n",
       "7   인민일보 \"미국 무역정책 입안자 귀 먹은 거 같다\" 비난\\n\\n충량 중국 국가발전개...   \n",
       "8   \"자극적인 게시글로 경제 안보 위협\"\\n【이스탄불=AP/뉴시스】 13일 터키 이스탄...   \n",
       "9   리라화 쇼크에 한국·일본·중국 등 亞 주요 증시 동반 하락\\n유로화 13개월래 최저...   \n",
       "10  \"美경제 믿기지 않는 새로운 경지로 이끌어\" 자화자찬\\n\\n(서울=연합뉴스) 권혜진...   \n",
       "11  싱가포르에서 지난 2일(현지시간) 열린 중국-아세안(ASEAN·동남아시아국가연합) ...   \n",
       "12  일본 취업자수 66개월째 플러스,구인배율 최고치\\n경제실적으로 무장한 아베, 적수없...   \n",
       "13  \"美, 기업환경 개선→고용 늘고, 소득 증가→내수↑\"\\n문재인정부 1년 간, 건설투...   \n",
       "14  \"중국·독일·한국 등 경상수지 과잉 흑자국가\"\\n\\n(서울=연합뉴스) 김윤구 기자 ...   \n",
       "15  현대硏 보고서…\"中 제조업 경쟁력 위축, 한국에 오히려 긍정적\"\\n\\n(CG)중국경...   \n",
       "16  시진핑 기고문서 \"UAE와 함께 다자무역체계 수호하자\"\\n\\n中경제ㆍ외교라인 총출동...   \n",
       "17  3년 간 수입량 기반 쿼터 설정…초과량에 25% 관세\\n프랑스의 한 공장에서 근로자...   \n",
       "18  투스크 의장 \"힘합쳐 무역분쟁 진화해야\"\\nEESC 위원장 \"미중이 의견 차 조정해...   \n",
       "19  동영상 뉴스\\n[앵커]\\n\\n미·중 무역전쟁은 확전으로 가고 있습니다. 미국이 관세...   \n",
       "20  수출액 130조…고율관세 사정권\\n아르헨티나 주가 42.1%나 폭락\\n\\n세계 최대...   \n",
       "21  - 최근 일주일 달러화 1.3% 급락\\n- 해답은 유럽…정치·경제 회복 덕\\n- 유...   \n",
       "22  - 美中전면전 이어 유럽연합과 러시아까지 가세\\n- WT0제소 줄이어..수입車 관세...   \n",
       "23  【서울=뉴시스】안지혜 기자 = 도널드 트럼프 미국 행정부가 6일 340억 달러(약 ...   \n",
       "24  © News1 김일환 디자이너\\n\\n(서울=뉴스1) 박형기 기자 = 6일 0시(한국...   \n",
       "25  (세종=연합뉴스) 민경락 기자 = 정부는 미·중 무역분쟁이 우리 수출을 제약하는 요...   \n",
       "26  \"중국, 먼저 총 쏘지 않을 것…美 관세부과시 반격 불가피\"\\n\\n기자회견하는 가오...   \n",
       "27  [머니투데이 반준환 기자] [마이크론 여파로 韓반도체 수요늘것…시간 지나면 반사이익...   \n",
       "28  한국 CEO-중국 정부 직접 소통\\n리커창, 사실상 중국편 서달라 요청\\n윤부근 “...   \n",
       "29  트럼프 착공식서 \"우리는 공정하고 균형 잡힌 상황을 원한다\"\\n\\n(서울=연합뉴스)...   \n",
       "..                                                ...   \n",
       "49  미국 복귀 검토 TPP협정 부속 공동선언문 준용 가능성\\n\\n분기별 개입내역 1분기...   \n",
       "50  중국과의 무역전쟁 우위 점하려 환태평양경제협정 다시 중시\\n\\n\\n도널드 트럼프 미...   \n",
       "51  美 상무부 “한국 업체 협조 안했다”\\n\\n한국산 냉간압연강관에 최고 48% 반덤핑...   \n",
       "52  금융서비스 시장 개방-수입 확대 방침도\\n미중 무역갈등 풀기 위한 협상 메시지 분석...   \n",
       "53  \"미국, 무역전쟁으로 중국 부상 저지하려 해…똑같이 보복할것\"\\n\\n갈등 고조되는 ...   \n",
       "54  '미 추가관세, 중국 반발' 무역전쟁 우려 전면 부각\\n\\n2%대 급락…'다우 24...   \n",
       "55  WTO 상품이사회에 양허정지 통보불구 빨라야 3년 뒤\\n미국 정부가 삼성·LG 등 ...   \n",
       "56  중국 동방항공은 여객기 도입선·구매 기종 변경 검토\\n\\n미중 무역전쟁［연합뉴스PG...   \n",
       "57  미국 중국 무역 갈등(CG)[연합뉴스TV 제공]\\n\\n\\n(서울=연합뉴스) 김수진 ...   \n",
       "58  동영상 뉴스\\n[앵커]\\n\\n보시는 것처럼 미국과 중국, 두 고래의 무역전쟁이 전면...   \n",
       "59  미중 무역전쟁 대결·트럼프-시진핑 (PG)[제작 최자윤] 사진합성\\n\\n\\n中관세세...   \n",
       "60  업계 청문회 거쳐 발효될 예정...미중, 치열한 협상 벌일 듯\\n\\n【서울=뉴시스】...   \n",
       "61  美상의와 '한미산업연대포럼' 개최해 한미FTA 윈윈 성과 설명\\n\\n(서울=연합뉴스...   \n",
       "62  中당국, 개인간 대출업체 규제도 강화\\n\\n(서울=연합뉴스) 최현석 기자 = 중국이...   \n",
       "63  블룸버그통신 갈무리\\n\\n(서울=뉴스1) 박형기 기자 = 중국이 1,2위 조선소인 ...   \n",
       "64  CNN 인터뷰서 한미FTA 개정협상 성과 부각하며 환율문제 언급\\n\\n(워싱턴=연합...   \n",
       "65  [앵커]\\n\\n이번에는 워싱턴 연결해서 협상 진행 과정과 미국 현지의 분위기 자세히...   \n",
       "66  마음 졸이던 산업계도 \"잘한 협상\" 논평 줄이어\\n\\n\\n(세종=뉴스1) 한종수 기...   \n",
       "67  美의 관세폭탄에 中 맞불대응 속 물밑협상…갈등 봉합 가능성\\n\\n한정 中부총리 \"무...   \n",
       "68  【서울=뉴시스】이재준 기자 = 미중 간 무역전쟁이 발발할 조짐을 보이는 속에서 그간...   \n",
       "69  동영상 뉴스\\n[앵커]\\n미국과 중국의 관세 공방으로 무역전쟁이 본격화될 우려감이 ...   \n",
       "70  [서울신문]\\n미국과 중국의 주고받기식 관세 폭탄으로 촉발된 ‘미·중 무역전쟁’의 ...   \n",
       "71  미·중 격돌에 세계 금융시장 패닉 코스피 6년여 만에 최대폭 하락… 안전자산에 돈 ...   \n",
       "72  미국발(發) 보호무역주의에 시달리고 있는 철강업계가 동남아로 눈을 돌리고 있다. 특...   \n",
       "73  [머니투데이 신현우 기자] [미국발 금리 인상으로 국내 금리 인상 예견…\"급여 감소...   \n",
       "74  도널드 트럼프 미국 대통령. © AFP=뉴스1\\n\\n(서울=뉴스1) 양재상 기자 =...   \n",
       "75  국내 경제 파장·전망 / 연준, 인상 기조유지로 불확실성 해소 / 금융시장은 우려와...   \n",
       "76  [머니투데이 김영선 기자] [23일 관세부과 명단서는 빠질 듯…美 \"4월 말까지 철...   \n",
       "77  제롬 파월 미국 연방준비제도 의장. 뉴시스\\n\\n\\n미국 연방준비제도(연준)가 기준...   \n",
       "78  파월의 연준 첫 금리 인상...내년 금리인상 횟수도 늘려\\n[서울경제]\\n\\n미국 ...   \n",
       "\n",
       "                                                   16  \\\n",
       "0   동영상 뉴스\\n[앵커]\\n\\n트럼프 행정부의 2000억 달러 어치의 중국제품에 대한...   \n",
       "1   \"멕시코산 車에 쿼터…FTA 개정한 한국도 예외 아닐수 있어\"\\n\\n(서울=연합뉴스...   \n",
       "2   블룸버그 갈무리\\n\\n(서울=뉴스1) 박형기 기자 = 도널드 트럼프 미국 대통령이 ...   \n",
       "3   트럼프 \"캐나다 총리, 매우 멋져\"…트뤼도 총리, 협상타결 가능성 피력\\n\\n트럼프...   \n",
       "4   AP연합.\\n【베이징 서울=조창원 특파원 박종원 기자】미구과 중국간 무역전쟁이 장기...   \n",
       "5   美, 160억달러 中 수입품에 관세\\n中도 예고대로 동일 관세로 맞불\\n연준 \"계속...   \n",
       "6   무역이어 마약 문제에서도 중국 거론… \"거의 전쟁 수준\" 발언도\\n\\n[워싱턴=CB...   \n",
       "7   왕셔우원(王受文) 중국 상무부 부부장 [연합뉴스 자료사진]\\n\\n\\n(상하이=연합뉴...   \n",
       "8   국내서 1조 팔려나간 신흥국 채권 '발등의 불'… 아르헨 국채는 -40%\\n\\n\\n...   \n",
       "9   인니 중앙은행 \"외환시장에 개입 중\"\\n남아공 중앙은행의 조정 예상\\n터키 리라화 ...   \n",
       "10  [그래픽] 미국, 160억달러 규모 중국 제품 23일부터 관세부과\\n\\n\\n美무역대...   \n",
       "11  \"상호 불신 커 타협 끌어내는 데 어려움 겪어\"\\n\\n中왕이 \"미국, 무역전쟁 목표...   \n",
       "12  [머니투데이 권다희 기자] [장기금리 목표 유연성 부여 및 포워드가이던스 도입… 단...   \n",
       "13  철강은 상반기 42.2% 소진…유정용강관은 추가 수출 어려워\\n\\n(서울=연합뉴스)...   \n",
       "14  【서울=뉴시스】하종민 기자 = KTB투자증권은 25일 미중 간 무역분쟁 이슈가 미국...   \n",
       "15  위안화 가파른 약세에 트럼프 환율전쟁 시동, 자본유출 압박 커질 듯\\n\\n[CBS노...   \n",
       "16  (부산=연합뉴스) 이영희 기자 = 부산항은 절반에 가까운 환적물동량을 미국과 중국에...   \n",
       "17  [이미지출처=로이터연합뉴스]\\n\\n\\n[아시아경제 오현길 기자] 유럽연합(EU)이 ...   \n",
       "18  [아시아경제 베이징 박선미 특파원]중국이 16일부터 한국과 일본산 합성고무에 반덤핑...   \n",
       "19  美, 2000억弗 중국産 10% 관세 방침 / 9월부터 시행… 양국 강경대치 지속 ...   \n",
       "20  중국 상하이의 양산 심수항에 컨테이너들이 쌓여 있는 모습［로이터연합뉴스］\\n\\n韓,...   \n",
       "21  [머니투데이 베이징(중국)=진상현 특파원] [미국의 공세에 대응하되 확전은 최대한 ...   \n",
       "22  '일대일로 프로젝트' 활용키로…대미 곡물 의존도 커 효과 미지수\\n\\n미중 무역전쟁...   \n",
       "23  \"영화 수입쿼터, 중국의 가장 손쉬운 보복 무기 될수도\"\\n\\n(로스앤젤레스=연합뉴...   \n",
       "24  中, 같은 시간 동일한 규모 보복관세 효력 발휘\\n© News1 방은영 디자이너\\n...   \n",
       "25  트럼프-시진핑 미중 무역전쟁 (PG)\\n\\n\\n미국과 같은 340억달러 어치 제품에...   \n",
       "26  기자회견하는 가오펑 중국 상무부 대변인(AP=연합뉴스)\\n\\n\\n(베이징=연합뉴스)...   \n",
       "27  [이미지출처=로이터연합뉴스]\\n\\n[아시아경제 조슬기나 기자] 이른바 트럼프발 자동...   \n",
       "28  Fed, 기준금리 결정하는 핵심지표\\n6년 만에 연간 목표치까지 올라\\n백악관선 “...   \n",
       "29  미중 막판 협상 시도(PG) [제작 최자윤, 이태호] 사진합성\\n\\n\\n(상하이=연...   \n",
       "..                                                ...   \n",
       "49  김동연 부총리, 환시공개 담판…'환율' 불안감 최소화\\n영국·일본은 1개월 주기…분...   \n",
       "50  강대국 경쟁,한국엔 위기이자 기회\\n인도·동남아 시장이 중국 대안 될것\\n\\n\\n[...   \n",
       "51  현대·기아차, 이미 합작사 형태로 현지생산\\n\"규제 완화된다 해도 바뀌는 것 없을 ...   \n",
       "52  중국 보아오포럼 개막식 기조연설서 밝혀\\n[베이징= 이데일리 김인경 특파원] 시진핑...   \n",
       "53  미·중 정면충돌에 국제사회 대북 압박 와해 조짐도\\n미국과 중국 간 무역 전쟁이 북...   \n",
       "54  6일(현지시간) 미국 백악관에서 인터뷰하고 있는 래리 커들로 미국 백악관 국가경제위...   \n",
       "55  지구 상 역대 최강 대국 두 나라의 기류가 심상치 않습니다. 날카롭게 벼린 칼로 급...   \n",
       "56  SCMP 기고문…트럼프 대북·대중외교 호평\\n\\n\"트럼프 '위험한 멍청이' 아냐…김...   \n",
       "57  동영상 뉴스\\n[앵커]\\n미국과 중국의 통상갈등이 전면전으로 확대될 경우에는 우리나...   \n",
       "58                               동영상 뉴스\\n[뉴스데스크]◀ 앵커    \n",
       "59  [베이징= 이데일리 김인경 특파원] 시진핑 중국 국가주석이 경제까지 완전히 장악했다...   \n",
       "60  [그래픽] 미국 '관세폭탄' 중국 수입품 목록 공개\\n\\n\\n中상무부 대변인 \"美,...   \n",
       "61  한미산업연대포럼 개최…협력사례 공유도\\n© News1\\n\\n(서울=뉴스1) 조재현 ...   \n",
       "62  중국 지식재산권 탈취 막기 위해 고안\\n'중국제조 2025 전략' 공략\\n© New...   \n",
       "63  [머니투데이 강기준 기자] [中 정부, 국영조선소 CSSC·CSIC 합병 예비 승인...   \n",
       "64  환율 연계 놓고 한·미 다른 얘기\\n김현종 통상교섭본부장이 지난 26일 한?미 자유...   \n",
       "65  [앵커]\\n\\n이번 협상 결과를 보면 미국은 자동차가 무엇보다 최우선이었습니다.\\n...   \n",
       "66  협상결과 밝히는 김현종 통상교섭본부장(서울=연합뉴스) 안정원 기자 = 김현종 통상교...   \n",
       "67  【서울=뉴시스】안지혜 기자 = 2021년 폐지 예정인 화물 자동차 관세철폐 기간이 ...   \n",
       "68  미국 \"中, 지식재산권 도둑질\" WTO에 제소(베이징 AP=연합뉴스) 미국 정부는 ...   \n",
       "69  동영상 뉴스\\n미국이 중국에 500억 달러 규모의 관세를 부과한 데 이어 지식재산권...   \n",
       "70  [서울신문]\\n작년 對中 수출 78.9%가 중간재\\n中성장률 둔화 땐 한국산 수입도...   \n",
       "71  【베이징=AP/뉴시스】도널드 트럼프 미국 대통령이 9일 중국 베이징 인민대회당에서 ...   \n",
       "72  도널드 트럼프 미국 대통령과 아베 신조 일본 총리 [이미지출처=AP연합뉴스]\\n\\n...   \n",
       "73  대출금리 상승으로 이어져 ‘갭투자자’ 직격탄 가능성… 최악의 ‘거래 절벽’ 우려도\\...   \n",
       "74  【워싱턴=AP/뉴시스】도널드 트럼프 미국 대통령이 22일(현지시간) 중국을 향한 5...   \n",
       "75  미국 Fed 0.25%P 올려 연 1.50~1.75%… 한국은 연 1.50%\\n\\n...   \n",
       "76  23일 관세부과 명단서는 빠질 듯\\n美 \"4월 말까지 철강관세 협상 마무리\"\\n포스...   \n",
       "77  이주열 한국은행 총재 22일 출근길서 밝혀\\n이주열 한국은행 총재가 22일 오전 서...   \n",
       "78  [ 뉴욕=김현석 기자 ] 미 중앙은행(Fed)이 기준금리를 0.25%포인트 인상했다...   \n",
       "\n",
       "                                                   17  \\\n",
       "0   WSJ 칼럼니스트 주장\\n\"트럼프, 대일 교역조건에 여전히 신경써\"\\n도널드 트럼프...   \n",
       "1   미-멕시코 양자협정 카드 흔들며 캐나다·의회 동시 압박\\n\\n캐나다 \"선의·유연성 ...   \n",
       "2   러·남아공·브라질 등 24곳 중 20곳 달러대비 환율 상승\\n\\n취약국 국한될지 미...   \n",
       "3   속보치보다 0.1%P 상향…상반기 3.2%로 '연 3% 성장' 기대 커져\\n\\n트럼...   \n",
       "4   2분기 스타벅스 매출 하락세로 돌아서\\n\\n중국 맥도날드 매장\\n\\n\\n(홍콩=연합...   \n",
       "5   美 관세 강행에 중국도 `맞불`\\n中반도체·화학·플라스틱 대상…美할리데이비드슨·주스...   \n",
       "6   로이터통신 인터뷰…對中 압박성 취지인 듯\\n\\n트럼프, 중국 보복관세 \"악랄한 시도...   \n",
       "7   SCMP 갈무리\\n\\n(서울=뉴스1) 박형기 기자 = 미중 무역전쟁으로 중국 경제 ...   \n",
       "8   리라화 폭락으로 세계 금융시장 요동\\nIMF 구제금융 가능성 제기되지만\\n터키 \"정...   \n",
       "9   모든 만기 지준율 250bp 인하…비핵심 외화부채 400bp↓\\n100억 리라, 6...   \n",
       "10  미중 무역 충돌 (PG)\\n\\n\\n미무역대표부, 340억달러 이은 2단계조치 발표…...   \n",
       "11  \"중국, 미국과 숫자 대결 안 해…무역전쟁 더 잘할 수 있어\"\\n\\n중국, 무역전쟁...   \n",
       "12  아시아ㆍ태평양에 1,200억원 “착수금”\\n폼페이오 장관, 1일부터 동남아 순방\\n...   \n",
       "13  [제공=게티이미지뱅크]\\n\\n-美관세, 자국 기업에도 ‘폭탄’\\n-비용 증가·생산시...   \n",
       "14  위안화 가치 1년만 최저 수준 추락 / 美, 환율조작국 의혹 제기 압박 / 中 “조...   \n",
       "15  블룸버그통신 갈무리\\n\\n(서울=뉴스1) 박형기 기자 = 도널드 트럼프 미국 대통령...   \n",
       "16  도널드 트럼프(오른쪽) 미국 대통령이 18일 백악관에서 주재한 각료회의에서 마이크 ...   \n",
       "17  1분기 이익 26% 증가와 대조\\n\\n[ 김현석 기자 ] 달러 강세가 미국 기업들의...   \n",
       "18  금호석유화학 12% 등 한국 업체 최대 37.3% 보증금 내야\\n\\n중국, 한국ㆍ일...   \n",
       "19  할리데이비슨·테슬라 등 美제조업 ‘엑소더스’ 가속화\\nBMW, 中생산 확대·美생산 ...   \n",
       "20  \"중국에 고통 준다더니 미국 가계가 벌 받아\"\\n\\n미중 무역전쟁, 세계 경제 위협...   \n",
       "21  [머니투데이 권다희 기자] [무역전쟁으로 경기 둔화 우려 고조…부채 감축과 경기 부...   \n",
       "22  [한겨레] 미-중 당국 개전 이후 언급 삼가며 관망세 전환\\n\\n미국은 고율 관세 ...   \n",
       "23  확전으로 치닫는 트럼프·시진핑\\n트럼프 “5000억 달러에 추가 관세”\\n11월 선...   \n",
       "24  미국이 중국에서 수입하는 340억 달러, 약 38조 원 규모의 제품에 대해 25%의...   \n",
       "25  명분은 무역적자·속내는 'G2 패권다툼'…무역갈등 우려 증폭\\n\\n소비대국 vs 생...   \n",
       "26  美, 관세 부과에 지재권·기술 유출 규제로 中 견제 확대\\n\\n미국 경제 호조인 반...   \n",
       "27  [머니투데이 유희석 기자] [SSD·USB 등 메모리 제품 대상… 美中, 관세 부과...   \n",
       "28  시진핑(오른쪽) 중국 국가주석과 제임스 매티스 미국 국방장관. 로이터 연합뉴스\\n\\...   \n",
       "29  폭스콘 미국에 대규모 LCD 공장 건설\\n도널드 트럼프 대통령과 궈타이밍 폭스콘 C...   \n",
       "..                                                ...   \n",
       "49                               동영상 뉴스\\n[뉴스데스크]◀ 앵커    \n",
       "50  한국산 철강 관세 면제 효과 사라져\\n세아·현대제철 등은 6.75%로 선방\\n미국이...   \n",
       "51  이강 중국 인민은행장[중국일보 화면 캡처]\\n\\n\\n(베이징=연합뉴스) 심재훈 특파...   \n",
       "52  \"중국 특색 자유무역항 건설 모색하겠다\"…하이난 염두에 둔 듯\\n\\n\"올해 자동차 ...   \n",
       "53  트럼프 표밭 어디? vs 톈안먼사태 전에 인플레 있었다며?\\n\\n'대두벨트' 트럼프...   \n",
       "54  [미국, 中에 1000억달러 추가관세 폭탄… 중국 \"끝까지 싸우겠다\"]\\n\\n- 포...   \n",
       "55  아세안 수출품, 中가치사슬과 높은 연계성\\n【베이징=AP/뉴시스】4일 중국 재정부 ...   \n",
       "56  [머니투데이 권혜민 기자] [\"환율 입장에 변화 없어…시장 결정에 맡기되 급격한 쏠...   \n",
       "57  USTR 공고 '관세부과 리스트'에 비메모리 10개 품목만 포함\\n\\n(서울=연합뉴...   \n",
       "58  동영상 뉴스\\n<앵커>\\n\\n이렇게 중국이 맞받아치자 미국도 곧바로 추가 관세 폭탄...   \n",
       "59         미중 무역전쟁 대결·트럼프-시진핑 (PG)[제작 최자윤] 사진합성\\n\\n\\n   \n",
       "60  [머니투데이 유희석 기자] [美, 500억달러 규모 관세 부과 목록 발표…中, 비슷...   \n",
       "61  中, 미국산 수입품 30억달러 규모에 고율관세\\n© News1 방은영 디자이너\\n\\...   \n",
       "62  미중 무역전쟁 본격화 (PG)[제작 최자윤, 이태호] 일러스트\\n\\n\\n'중국제조 ...   \n",
       "63  '아이치이(IQIYI)' 로고\\n\\n도널드 트럼프 미국 대통령의 중국의 대미 투자 ...   \n",
       "64  [머니투데이 구유나 기자] [ 500억달러 중국산 수입품 '폭탄관세' 4월 초→6월...   \n",
       "65  [앵커]\\n\\n미국 트럼프 대통령이 자국 산업 보호를 위해 시작한 한미 FTA 개정...   \n",
       "66  [머니투데이 장시복 기자, 안정준 기자] [(상보)]\\n\\n김현종 통상교섭본부장이 ...   \n",
       "67  한미 FTA 협상 브리핑하는 김현종(서울=연합뉴스) 안정원 기자 = 김현종 통상교섭...   \n",
       "68  [머니투데이 베이징(중국)=진상현 특파원] [므누신·류허 첫 통화… 무역전쟁, 결국...   \n",
       "69  【브뤼셀=AP/뉴시스】장 클로드 융커(왼쪽) 유럽연합(EU) 집행위원장과 도널트 투...   \n",
       "70  [서울신문]\\n한국 中수출 타격 우려… 증시 급락\\n세계 주요 2개국(G2)인 미국...   \n",
       "71  美, 중국산 年 600억弗 관세..中, 128개 품목에 보복관세\\n양국 통상분쟁 확...   \n",
       "72  덴마크 총리 “EU-美, 밀접한 동맹…면제 대상 포함은 타당”\\n美에 ‘보복’ 경고...   \n",
       "73  100여개 품목 최대 600억 달러… 中 기업들의 대미 투자도 제한\\n사진=AP뉴시...   \n",
       "74  트럼프, 50조원대 정밀타격 vs 중국, 트럼프 표밭 '보복 칼날'\\n\\nG2와 폭...   \n",
       "75  한·미 기준금리 역전\\n\\n통화정책 셈법 복잡… '이주열 2기' 첫 시험대\\n\\n금...   \n",
       "76  - 파월체제 첫 회의 금리 인상\\n\\n위원 7명은 “올 4회 인상” 주장\\n\\n내년...   \n",
       "77  이주열 한국은행 총재 22일 출근길서 밝혀\\n이주열 한국은행 총재가 22일 오전 서...   \n",
       "78  【워싱턴=AP/뉴시스】문예성 기자 = 미국 연방준비제도(Fed, 연준)가 21일(현...   \n",
       "\n",
       "                                                   18  \\\n",
       "0   아르헨·브라질 등 중남미서\\n8월에만 31억달러 돈 빠져\\n\\n◆ 끝나지 않은 금융...   \n",
       "1   (서울=연합뉴스) 김윤구 기자 = 도널드 트럼프 미국 대통령이 미국이 세계무역기구(...   \n",
       "2   \"WTO 태도 개선하라\" 무역전쟁 중 강경파 힘싣기\\n\\nEU자동차 무관세 제안 거...   \n",
       "3   트뤼도 캐나다 총리와 접촉 시사…\"그는 매우 멋졌다\"\\n\\n구글·페이스북·트위터 또...   \n",
       "4   중국, 외국기업도 첨단산업 육성책 동등 참여⋅불법 지재권 엄벌...산업정책 변경엔 ...   \n",
       "5   (서울=연합뉴스) 장재은 기자 = 미국이 무역분야에서 중국에 대해 호전적인 공세를 ...   \n",
       "6   22일 워싱턴서 미·중 무역협상 재개\\n온건파 므누신·커들로 협상안 마련\\n라이트하...   \n",
       "7   △레제프 타이이프 에르도안(왼쪽) 터키 대통령과 타밈 빈 하마드 알사니 카타르 국왕...   \n",
       "8   구제금융 500억 달러 받고도 휘청\\n빚 많은 이탈리아도 ‘약한 고리’\\n일각 “신...   \n",
       "9   [생생인터뷰] 리라화 폭락, 터키 직구 생각할 때 아냐... 장기적으로 세계 경제 ...   \n",
       "10  미중 무역전쟁 (PG)\\n\\n\\n\\n\\n(뉴욕=연합뉴스) 이귀원 특파원 = 미국무역...   \n",
       "11  \"최근 며칠간 고위급 레벨에서 중국과 일부 소통 있었다\"\\n\\n래리 커들로 미 백악...   \n",
       "12  (도쿄=연합뉴스) 김정선 특파원 = 일본은행(BOJ)이 31일 금융정책 결정회의에서...   \n",
       "13  中 기업들 자금난 현실화, 美 트럼프 지지층인 농축산업계 타격, 극적 타결 가능성 ...   \n",
       "14  왕 부주석, 중국·아프리카 민간포럼 참석…'운명공동체 구축' 강조\\n\\n남아공 방문...   \n",
       "15  도널드 트럼프 미국 대통령이 19일(현지시간) 대기업-노동자 대표, 학생들이 참석한...   \n",
       "16  우리 정부·업계 \"한미FTA로 美 우려 해소…한국 제외해야\" 강조\\n\\n트럼프, 수...   \n",
       "17  5월 글로벌 美국채 보유액, 446억弗 늘어 8개월새 최대↑…경기침체우려 안전자산 ...   \n",
       "18  브렉시트 관련해 메이 총리에 \"EU 고소하라\" 조언\\n정작 기자회견선 \"물러나지 말...   \n",
       "19  ◆ G2 무역전쟁 전면전 ◆\\n\\n미국이 10일 2000억달러 규모의 중국산 수입품...   \n",
       "20  \"미국 소비자와 근로자 피해 입기 전 불필요한 갈등고조 늦추라\"\\n\"미국에 부메랑으...   \n",
       "21  [머니투데이 유희석 기자] [미국 농산물 통관 지연 등 비관세 조치…\"美 기업에 모...   \n",
       "22  \"상대방이 관세 부과하면 중국도 상응한 반격 나설 것\"\\n\\n中, 무역전쟁 발발에 ...   \n",
       "23  중국산 제품 관세 전면 확대되면 소비재 가격 20% 이상 올라가\\n\\n(로스앤젤레스...   \n",
       "24                        미국-중국 관세폭탄 대결 임박 (PG)\\n\\n\\n   \n",
       "25  CNBC 갈무리\\n\\n(서울=뉴스1) 박형기 기자 = 도널드 트럼프 미국 행정부의 ...   \n",
       "26  트럼프의 핵합의 탈퇴가 근본 원인…OPEC 탓까지\\n이란, 호르무즈 해협 봉쇄 카드...   \n",
       "27  달 바뀌었지만 실망·분노의 '뒤끝 트윗' 계속\\n\\n美시장 톱5 중 \"해외 이전\" ...   \n",
       "28  [한겨레] “최근 방중 때 ‘물러서지 않는다’는 입장 밝혀”\\n\\n시진핑 “한 뼘도...   \n",
       "29  총 11조원 투입 예정\\n테리 궈 폭스콘 회장, 폴 라이언 하원의장 등과 첫삽\\n2...   \n",
       "..                                                ...   \n",
       "49  5회 연속 관찰대상국 포함……\"내수진작해 무역흑자 줄여야\"\\n\\n관찰대상국 6개국으...   \n",
       "50  경제참모에 복귀 검토 지시\\n\\n對中 '경제동맹체' 지렛대 활용\\n통상전쟁 '경제·...   \n",
       "51  【서울=뉴시스】이재준 기자 = 도널드 트럼프 미국 대통령은 10일(현지시간) 시진핑...   \n",
       "52  보아오포럼 기조 연설서 미국에 맞서 자유무역 확대 천명\\n시진핑 중국 국가주석 <자...   \n",
       "53  (워싱턴=연합뉴스) 이승우 특파원 = 도널드 트럼프 미국 대통령은 7일(현지시간) ...   \n",
       "54  [동아일보]\\n[토요판 커버스토리]\\n도널드 트럼프 미국 대통령(사진)이 5일(현지...   \n",
       "55  중국 인터넷에 2016년 남중국해 분쟁때 발생한 KFC 불매운동 동영상이 다시 등장...   \n",
       "56  NEC 위원장 “시행 않을수도”\\n\\n中재정부 “협상·협력의 시간”\\n\\n양국 외교...   \n",
       "57  중국측 보복관세에 '농민 우려 불식' 발언\\n\\n(워싱턴=연합뉴스) 이승우 특파원 ...   \n",
       "58  겅솽 중국 외교부 대변인\\n\\n\\n【서울=뉴시스】이재준 기자 = 중국 정부는 4일 ...   \n",
       "59  美, '관세폭탄' 中수입품 목록 공개…500억불 상당 1천300개에 25%(워싱턴D...   \n",
       "60  미중 무역전쟁 대결·트럼프-시진핑 (PG)[제작 최자윤] 사진합성\\n\\n\\n의료기기...   \n",
       "61  인민일보 \"미국이 보호주의 철회 안하면 중국은 대등조치 할 것\"\\n\\n미중 무역전쟁...   \n",
       "62  미중 무역전쟁 본격화 (PG)[제작 최자윤, 이태호] 일러스트\\n\\n\\n\"미국-중국...   \n",
       "63  (서울=연합뉴스) 최현석 기자 = 중국이 한국 조선사들과 경쟁에서 우위를 점하기 위...   \n",
       "64  한미FTA 협상 (PG) [제작 이태호]\\n\\n\\n미국, FTA 성과로 '환율 합의...   \n",
       "65  [한겨레] 한-미 FTA 개정 타결\\n\\n철강 수출량 연간 268만톤 보장\\n\\n추...   \n",
       "66  (서울=뉴스1) 윤지원 기자 = 화춘잉 중국 외교부 대변인은 26일 정례 브리핑에서...   \n",
       "67  픽업트럽 관세 연장에 미래시장 축소…안전기준 완화로 미국산 공세 예상\\n\\n미국 생...   \n",
       "68  (워싱턴DC AP=연합뉴스) 도널드 트럼프 대통령은 23일(현지시간) 백악관에서 열...   \n",
       "69  中류허 부총리 \"국가이익 보호할 준비됐다\"\\n러우지웨이 전 장관 \"미국산 대두부터 ...   \n",
       "70  미, 중국산 제품 1300여 개 겨냥\\n15일 내 관세 부과 행정명령 발동\\n대응 ...   \n",
       "71  코스피 ‘공포지수’ 25% 뛰기도\\n대형주들 3% 이상씩 급락\\n미국발 무역분쟁 우...   \n",
       "72  (서울=연합뉴스) 이재윤 기자 = 미국의 관세폭탄 예고로 세계 양대 경제대국 미국과...   \n",
       "73  【워싱턴=AP/뉴시스】도널드 트럼프 미국 대통령이 22일(현지시간) 중국을 향한 5...   \n",
       "74  미국이 중국산(産) 수입품에 약 500억달러(약 54조원)의 관세를 부과할 전망이다...   \n",
       "75  한·미 기준금리 역전\\n\\n과거 두 차례 사례 살펴보니\\n\\n\"대규모 자본유출 방아...   \n",
       "76  인상 속도내며 옐런과 차별화\\n\\n기존정책 연속성 유지 발언도\\n\\n“보호무역 리스...   \n",
       "77  이주열 한국은행 총재 후보자 21일 국회에서 열린 인사청문회에 출석, 의원들 질의에...   \n",
       "78  연준, 2년새 6차례 1.5%P 인상…\"올해 3차례 인상기조 유지\"\\n\\n'골디락스...   \n",
       "\n",
       "                                                   19  \n",
       "0   미 7월 무역적자 5개월 만에 최대\\n중국·EU 등 타깃 적자규모 더 커\\n중국산 ...  \n",
       "1   중국 칭다오항에 정박한 컨테이너선 [AP=연합뉴스 자료사진]\\n\\n\\n(상하이=연합...  \n",
       "2   \"미국이 강한 압력 가해도 중국에 효과 없어…평등한 대화 원해\"\\n\\n가오펑 대변인...  \n",
       "3   맥킨지 \"글로벌 금융위기 10년… 3대 리스크 지켜봐야\"\\n\\n\\n\\n2008년 9...  \n",
       "4   2천억불 관세부과 임박…中 기업사냥 견제·국제공조 타진\\n\\n美 매체 \"미중 무역전...  \n",
       "5   [머니투데이 김영선 기자, 베이징(중국)=진상현 특파원] [160억 달러 규모 상품...  \n",
       "6   신 팍스 아메리카나\\n\\n(1) 호황에도 재정적자 급증\\n(2) 무역전쟁發 세계교역...  \n",
       "7   외환거래 추가 규제·카타르 투자 약속에 리라화 가치 6%↑\\n\\n터키, 보복관세 부...  \n",
       "8   20% 폭락 후 14일 오전 장에서 7% 상승\\n볼턴-주미 터키 대사 회동 소식에 ...  \n",
       "9   양적완화로 풀린 유동성 잔치 속\\n중국 기업ㆍ지방정부 빚 늘려와\\nFed 금리 인상...  \n",
       "10  (도쿄=연합뉴스) 김병규 특파원 = 지난 6월 일본 근로자의 평균 명목임금이 21년...  \n",
       "11  중국의 석유 시추 시설. © AFP=뉴스1\\n\\n(서울=뉴스1) 김정한 기자 = 미...  \n",
       "12  기준금리 -0.1% 동결…\"당분간 현재의 낮은 금리 수준 유지 고려\"\\n\\n(도쿄=...  \n",
       "13  무역전쟁, EU 융커·트럼프·시진핑 (PG)[제작 정연주] 사진합성\\n\\n\\n백악관...  \n",
       "14  트럼프-시진핑 미중 무역전쟁ㆍ무역협상 (PG)\\n\\n\\n(뉴욕=연합뉴스) 이귀원 특...  \n",
       "15  베이징 소식통 \"中, 트럼프 강경자세에 외교채널 통해 유화제스처 전달\"\\n\\n추이톈...  \n",
       "16  \"미국 관리의 흑백 전도·적반하장 경악스럽다\"\\n\\n\\n【서울=뉴시스】문예성 기자 ...  \n",
       "17  대미관계 악화일로 속 日·中·인도 등과 자유무역협정 논의\\n\\n호주·뉴질랜드·인도네...  \n",
       "18  中, 지난해 모바일 결제 1경6500조원… 5년새 244배 폭증\\n돈 흐름 제어하는...  \n",
       "19  6000여개 품목 관세 목록에…직전 조치의 6배 규모\\n핸드백·디카·냉장고·샴푸 등...  \n",
       "20  2천억달러 규모 6천31개 中수입품에 10% 관세 부과 예정\\n\\n무역전쟁 확전으로...  \n",
       "21  \"올해, 작년보다 500억 달러 더 소비할 것\"\\n\\n\\n【서울=뉴시스】이현주 기자...  \n",
       "22  [머니투데이 베이징(중국)=진상현 특파원] [힘 앞서는 미국, 강공 위주 공세…중국...  \n",
       "23  ····\\nFILE PHOTO: Soybeans are seen in a field...  \n",
       "24  미중 무역전쟁(PG)\\n\\n\\n(서울=연합뉴스) 김정은 기자 = 미국 도널드 트럼프...  \n",
       "25  \"나머지 160억달러어치 2주내 부과\"\\n\\n미국발 세계 무역전쟁·관세폭탄 (PG)...  \n",
       "26  美 기업, 관세 발효시 보복조치 강화 우려\\n美 전문가 \"관세 문제 해결 못할 시 ...  \n",
       "27  (서울=연합뉴스) 신유리 기자 = 미국과 중국 간 무역전쟁이 확산하는 가운데 중국이...  \n",
       "28  연방 상하원 및 자동차협회 “우리 입장에 공감”\\n백운규 산업통상자원부 장관이 지난...  \n",
       "29  트럼프, 폭스콘 위스콘신 공장 착공식 참석도널드 트럼프 미국 대통령은 28일(현지시...  \n",
       "..                                                ...  \n",
       "49  5회 연속 '관찰대상국'에 이름 올려…이르면 내주 공개방안 발표할 듯\\n\\n[CBS...  \n",
       "50  국내 중견 철강업체 넥스틸社\\n유정용 강관에 75% 반덤핑관세\\n단어 누락 트집, ...  \n",
       "51  미·중 무역분쟁 봉합 기대감 상승…백악관 \"중국 구체적 행동 보고 싶다\"\\n\\n(워...  \n",
       "52  [이미지출처=EPA연합뉴스]\\n\\n[아시아경제 조슬기나 기자]러시아 증시가 하루만에...  \n",
       "53  [앵커]\\n\\n미국과 중국이 최근 각각 500억 달러 규모의 관세 폭탄을 주고받으며...  \n",
       "54  [동아일보]\\n[토요판 커버스토리]美-中 무역전쟁 ‘양날의 칼’ 콩과 국채\\n《20...  \n",
       "55  美 카길 \"무역전쟁 승자 없어\"…블룸버그 \"美 셰일업계도 타격 가능성\"\\n\\n\"車관...  \n",
       "56  지역경제 회생 방안은?(서울=연합뉴스) 안정원 기자 = 김동연 경제부총리 겸 기획재...  \n",
       "57  中, 대미수출이 10%↓…韓 대중 수출액은 282억달러↓\\n\\n원화 강세에 가격 경...  \n",
       "58  中관세세칙위원회, 106개 품목 발표…항공기·소고기 등도 포함\\n\\n中, 美국채·외...  \n",
       "59  미�중 무역전쟁 시작…수출주도 韓경제 먹구름 (CG)[연합뉴스TV 제공]\\n\\n\\n...  \n",
       "60  \"내 인생 최고의 이틀은 중국에서 보낸 날이지만…\" 무역전쟁 지속 방침\\n\\n러시아...  \n",
       "61  블라디미르 푸틴 러시아 대통령, /타스연합뉴스\\n\\n[서울경제] 러시아가 미국의 관...  \n",
       "62  미국 제품에 관세를 부과한다는 중국 상무부 발표문 - 상무부 홈피 갈무리\\n\\n(서...  \n",
       "63  <아이뉴스24>\\n\\n[아이뉴스24 이영웅 기자] 중국이 국영 조선소인 중국선박공업...  \n",
       "64  라이트하이저 USTR 대표 \"4월초서 6월로 연기할 것\"\\n타협땐 관세 취소 전망도...  \n",
       "65  동영상 뉴스\\n[앵커]\\n\\n자유무역협정 개정, 즉 철강 관세를 놓고 미국과 벌인 ...  \n",
       "66  한미 FTAㆍ철강관세 협상(CG) [연합뉴스TV 제공]\\n\\n\\n대통령·관계부처 총...  \n",
       "67  미국의 25% 철강 추가관세 부과국에서 한국이 제외된 것에 대해 국내 철강업계가 안...  \n",
       "68  (서울=연합뉴스) 황정우 기자 = 중국이 미국의 대중 무역제재에 맞서 애플과 제너럴...  \n",
       "69  【베이징=AP/뉴시스】류허(劉鶴) 중국 부총리가 24일 스티븐 므누신 미국 재무장관...  \n",
       "70  미, 어느 품목에 몇 % 부과 결정까지\\n보름 정도 협상 시한 남아 있는 셈\\n\\n...  \n",
       "71  세계 관세율 10%로 높이면 韓 수출 173억弗 줄어들어\\n中 성장둔화땐 전방위 타...  \n",
       "72  미국-중국 무역전쟁 서막(PG)[제작 이태호]\\n\\n\\n\"서비스 무역선 미국이 흑자...  \n",
       "73  코스피 상승 2496\\n미국 기준금리 인상으로 한·미 금리 역전이 발생했지만 국내 ...  \n",
       "74     김현종 \"한국, 철강관세 부과 4월말까지 잠정유예\" [연합뉴스TV 제공]\\n\\n\\n  \n",
       "75  라이트하이저 USTR 대표\\n철강관세 부과 대상서 한국 등 7개국 제외\\n\\nFTA...  \n",
       "76  - 새우 등 터지는 韓\\n\\n휴대전화 등 반짝이익 있겠지만\\n\\n수출주력품 중간재 ...  \n",
       "77  질문 받는 이주열 총재(서울=연합뉴스) 정하종 기자 = 이주열 한국은행 총재가 22...  \n",
       "78  1.5~1.75%로 한국보다 높아져…올해 세번 인상전망 유지\\n\\n[출처 = 연합뉴...  \n",
       "\n",
       "[79 rows x 20 columns]"
      ]
     },
     "execution_count": 13,
     "metadata": {},
     "output_type": "execute_result"
    }
   ],
   "source": [
    "df"
   ]
  },
  {
   "cell_type": "code",
   "execution_count": 15,
   "metadata": {
    "collapsed": false
   },
   "outputs": [],
   "source": [
    "df.to_csv('light_crawling3.csv')"
   ]
  },
  {
   "cell_type": "code",
   "execution_count": 16,
   "metadata": {
    "collapsed": false
   },
   "outputs": [
    {
     "data": {
      "text/plain": [
       "(79, 21)"
      ]
     },
     "execution_count": 16,
     "metadata": {},
     "output_type": "execute_result"
    }
   ],
   "source": [
    "train_df = pd.read_csv('light_crawling3.csv')\n",
    "train_df.shape"
   ]
  }
 ],
 "metadata": {
  "kernelspec": {
   "display_name": "Python 3",
   "language": "python",
   "name": "python3"
  },
  "language_info": {
   "codemirror_mode": {
    "name": "ipython",
    "version": 3
   },
   "file_extension": ".py",
   "mimetype": "text/x-python",
   "name": "python",
   "nbconvert_exporter": "python",
   "pygments_lexer": "ipython3",
   "version": "3.6.0"
  }
 },
 "nbformat": 4,
 "nbformat_minor": 2
}
