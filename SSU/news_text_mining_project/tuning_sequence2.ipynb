{
 "cells": [
  {
   "cell_type": "code",
   "execution_count": 16,
   "metadata": {
    "collapsed": false
   },
   "outputs": [],
   "source": [
    "import pandas as pd\n",
    "import numpy as np\n",
    "from first_project import *\n",
    "from sklearn.feature_extraction.text import HashingVectorizer , TfidfVectorizer , HashingVectorizer"
   ]
  },
  {
   "cell_type": "code",
   "execution_count": 2,
   "metadata": {
    "collapsed": true
   },
   "outputs": [],
   "source": [
    "train_df = pd.read_csv('first_konlpy_tuning.csv')"
   ]
  },
  {
   "cell_type": "code",
   "execution_count": 3,
   "metadata": {
    "collapsed": false
   },
   "outputs": [
    {
     "data": {
      "text/html": [
       "<div>\n",
       "<table border=\"1\" class=\"dataframe\">\n",
       "  <thead>\n",
       "    <tr style=\"text-align: right;\">\n",
       "      <th></th>\n",
       "      <th>0</th>\n",
       "    </tr>\n",
       "  </thead>\n",
       "  <tbody>\n",
       "    <tr>\n",
       "      <th>0</th>\n",
       "      <td>['머니', '머니투데이', '투데이', '베이징', '중국', '진상', '진상현...</td>\n",
       "    </tr>\n",
       "    <tr>\n",
       "      <th>1</th>\n",
       "      <td>['구로', '총재', '연임', '물가', '물가목표', '목표', '2', '달...</td>\n",
       "    </tr>\n",
       "    <tr>\n",
       "      <th>2</th>\n",
       "      <td>['미', '미중', '중', '무역', '무역전쟁', '전쟁', '대결', '트럼...</td>\n",
       "    </tr>\n",
       "    <tr>\n",
       "      <th>3</th>\n",
       "      <td>['꼬리', '보복', '미', '중', '무역', '무역전쟁', '전쟁', '전면...</td>\n",
       "    </tr>\n",
       "    <tr>\n",
       "      <th>4</th>\n",
       "      <td>['지재', '도둑질', '문제', '러', '선', '강경', '대응', '도',...</td>\n",
       "    </tr>\n",
       "  </tbody>\n",
       "</table>\n",
       "</div>"
      ],
      "text/plain": [
       "                                                   0\n",
       "0  ['머니', '머니투데이', '투데이', '베이징', '중국', '진상', '진상현...\n",
       "1  ['구로', '총재', '연임', '물가', '물가목표', '목표', '2', '달...\n",
       "2  ['미', '미중', '중', '무역', '무역전쟁', '전쟁', '대결', '트럼...\n",
       "3  ['꼬리', '보복', '미', '중', '무역', '무역전쟁', '전쟁', '전면...\n",
       "4  ['지재', '도둑질', '문제', '러', '선', '강경', '대응', '도',..."
      ]
     },
     "execution_count": 3,
     "metadata": {},
     "output_type": "execute_result"
    }
   ],
   "source": [
    "train_df = train_df.iloc[:,1:]\n",
    "train_df.head()"
   ]
  },
  {
   "cell_type": "code",
   "execution_count": 4,
   "metadata": {
    "collapsed": false,
    "scrolled": true
   },
   "outputs": [],
   "source": [
    "for i in range(len(train_df)) : \n",
    "    train_df.iat[i,0] = train_df.iat[i,0][1:-1]"
   ]
  },
  {
   "cell_type": "code",
   "execution_count": 5,
   "metadata": {
    "collapsed": false
   },
   "outputs": [
    {
     "data": {
      "text/plain": [
       "621867"
      ]
     },
     "execution_count": 5,
     "metadata": {},
     "output_type": "execute_result"
    }
   ],
   "source": [
    "training_ls = []\n",
    "for i in range(len(train_df)) : \n",
    "    new_ls = train_df.iat[i,0].split(',')\n",
    "\n",
    "    for i in range(len(new_ls)) : \n",
    "        new_ls[i] = new_ls[i].replace(' ','')\n",
    "    \n",
    "    for i in range(len(new_ls)) : \n",
    "        new_ls[i] = new_ls[i].replace(\"'\",'')\n",
    "    \n",
    "    training_ls += new_ls\n",
    "len(training_ls)"
   ]
  },
  {
   "cell_type": "code",
   "execution_count": 10,
   "metadata": {
    "collapsed": false
   },
   "outputs": [],
   "source": [
    "div_length = len(training_ls)//5\n",
    "training_ls1 , training_ls2 ,training_ls3 , training_ls4 , training_ls5 = \\\n",
    "training_ls[0:div_length] , training_ls[div_length:div_length*2] , \\\n",
    "training_ls[div_length*2:div_length*3] , training_ls[div_length*3:div_length*4] , \\\n",
    "training_ls[div_length*4:]"
   ]
  },
  {
   "cell_type": "code",
   "execution_count": 12,
   "metadata": {
    "collapsed": false
   },
   "outputs": [
    {
     "name": "stdout",
     "output_type": "stream",
     "text": [
      "124373\n"
     ]
    }
   ],
   "source": [
    "print(len(training_ls1))"
   ]
  },
  {
   "cell_type": "code",
   "execution_count": 57,
   "metadata": {
    "collapsed": false
   },
   "outputs": [
    {
     "data": {
      "text/plain": [
       "3952391"
      ]
     },
     "execution_count": 57,
     "metadata": {},
     "output_type": "execute_result"
    }
   ],
   "source": [
    "# word_ls = []\n",
    "# for i in range(len(train_df)):\n",
    "#     word_bundles += train_df.iat[i,0]\n",
    "# len(word_bundles)"
   ]
  }
 ],
 "metadata": {
  "kernelspec": {
   "display_name": "Python 3",
   "language": "python",
   "name": "python3"
  },
  "language_info": {
   "codemirror_mode": {
    "name": "ipython",
    "version": 3
   },
   "file_extension": ".py",
   "mimetype": "text/x-python",
   "name": "python",
   "nbconvert_exporter": "python",
   "pygments_lexer": "ipython3",
   "version": "3.6.0"
  }
 },
 "nbformat": 4,
 "nbformat_minor": 2
}
