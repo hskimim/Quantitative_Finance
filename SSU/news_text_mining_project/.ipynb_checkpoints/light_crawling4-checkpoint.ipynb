{
 "cells": [
  {
   "cell_type": "code",
   "execution_count": 84,
   "metadata": {
    "collapsed": true
   },
   "outputs": [],
   "source": [
    "from selenium import webdriver\n",
    "import time\n",
    "import re\n",
    "from sklearn.feature_extraction.text import CountVectorizer , TfidfVectorizer\n",
    "import pandas as pd\n",
    "from bs4 import BeautifulSoup\n",
    "import string\n",
    "import requests\n",
    "import numpy as np\n",
    "from IPython.display import display , Markdown "
   ]
  },
  {
   "cell_type": "code",
   "execution_count": 87,
   "metadata": {
    "collapsed": false
   },
   "outputs": [],
   "source": [
    "def light_crawling4(PageNum = 1):\n",
    "    for page in range(1,PageNum+1,1) : \n",
    "        url = 'https://media.daum.net/economic/#page={}'.format(PageNum)\n",
    "        driver = webdriver.Chrome()\n",
    "        driver.get(url)\n",
    "        ls = []\n",
    "\n",
    "        for i in range(15,50,1):\n",
    "            driver.execute_script('window.scrollTo(10,{});'.format(i*100))\n",
    "            try:\n",
    "                driver.find_element_by_css_selector('#mArticle > div > ul > li:nth-child({}) > strong > a'.format(i-14)).click()\n",
    "                ls.append(driver.find_element_by_css_selector('#harmonyContainer > section').text)\n",
    "            except : print('No data.')\n",
    "            time.sleep(1)\n",
    "            driver.get(url)\n",
    "        driver.close()\n",
    "        return ls"
   ]
  },
  {
   "cell_type": "code",
   "execution_count": 86,
   "metadata": {
    "collapsed": false
   },
   "outputs": [
    {
     "name": "stdout",
     "output_type": "stream",
     "text": [
      "No data at 21th rows.\n"
     ]
    },
    {
     "data": {
      "text/plain": [
       "20"
      ]
     },
     "execution_count": 86,
     "metadata": {},
     "output_type": "execute_result"
    }
   ],
   "source": [
    "ls = light_crawling4()\n",
    "len(ls)"
   ]
  }
 ],
 "metadata": {
  "kernelspec": {
   "display_name": "Python 3",
   "language": "python",
   "name": "python3"
  },
  "language_info": {
   "codemirror_mode": {
    "name": "ipython",
    "version": 3
   },
   "file_extension": ".py",
   "mimetype": "text/x-python",
   "name": "python",
   "nbconvert_exporter": "python",
   "pygments_lexer": "ipython3",
   "version": "3.6.0"
  }
 },
 "nbformat": 4,
 "nbformat_minor": 2
}
