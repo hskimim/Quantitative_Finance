{
 "cells": [
  {
   "cell_type": "code",
   "execution_count": 1,
   "metadata": {
    "collapsed": true
   },
   "outputs": [],
   "source": [
    "from korean_crawling_bundles import *"
   ]
  },
  {
   "cell_type": "code",
   "execution_count": 2,
   "metadata": {
    "collapsed": false
   },
   "outputs": [
    {
     "name": "stdout",
     "output_type": "stream",
     "text": [
      "37 37\n"
     ]
    }
   ],
   "source": [
    "link_ls1 , ls1 = light_crawling1()\n",
    "print(len(link_ls1) , len(ls1))"
   ]
  },
  {
   "cell_type": "code",
   "execution_count": 3,
   "metadata": {
    "collapsed": false,
    "scrolled": true
   },
   "outputs": [
    {
     "name": "stdout",
     "output_type": "stream",
     "text": [
      "27 16\n",
      "27 16\n"
     ]
    }
   ],
   "source": [
    "link_ls2 , ls2 = light_crawling2(1)\n",
    "link_ls5 , ls5 = light_crawling2(2)\n",
    "print(len(link_ls2) , len(ls2))\n",
    "print(len(link_ls5) , len(ls5))"
   ]
  },
  {
   "cell_type": "code",
   "execution_count": 4,
   "metadata": {
    "collapsed": false
   },
   "outputs": [
    {
     "data": {
      "text/plain": [
       "16"
      ]
     },
     "execution_count": 4,
     "metadata": {},
     "output_type": "execute_result"
    }
   ],
   "source": [
    "for idx in range(len(link_ls2)-1):\n",
    "    if link_ls2[idx] == link_ls2[idx+1]:\n",
    "        link_ls2[idx+1] = '0'\n",
    "        \n",
    "\n",
    "for idx,link in enumerate(link_ls2) : \n",
    "    if link == '0':\n",
    "        link_ls2.pop(idx)\n",
    "len(link_ls2)"
   ]
  },
  {
   "cell_type": "code",
   "execution_count": 5,
   "metadata": {
    "collapsed": false
   },
   "outputs": [
    {
     "data": {
      "text/plain": [
       "16"
      ]
     },
     "execution_count": 5,
     "metadata": {},
     "output_type": "execute_result"
    }
   ],
   "source": [
    "for idx in range(len(link_ls5)-1):\n",
    "    if link_ls5[idx] == link_ls5[idx+1]:\n",
    "        link_ls5[idx+1] = '0'\n",
    "        \n",
    "\n",
    "for idx,link in enumerate(link_ls5) : \n",
    "    if link == '0':\n",
    "        link_ls5.pop(idx)\n",
    "len(link_ls5)"
   ]
  },
  {
   "cell_type": "code",
   "execution_count": 7,
   "metadata": {
    "collapsed": false
   },
   "outputs": [
    {
     "name": "stdout",
     "output_type": "stream",
     "text": [
      "20 20\n"
     ]
    }
   ],
   "source": [
    "link_ls3 , ls3 = light_crawling3()\n",
    "print(len(link_ls3) , len(ls3))"
   ]
  },
  {
   "cell_type": "code",
   "execution_count": 8,
   "metadata": {
    "collapsed": false,
    "scrolled": true
   },
   "outputs": [
    {
     "name": "stdout",
     "output_type": "stream",
     "text": [
      "No data.\n",
      "No data.\n",
      "No data.\n",
      "No data.\n",
      "No data.\n",
      "No data.\n",
      "No data.\n",
      "No data.\n",
      "No data.\n",
      "No data.\n",
      "No data.\n",
      "No data.\n",
      "No data.\n",
      "No data.\n",
      "No data.\n",
      "20 20\n"
     ]
    }
   ],
   "source": [
    "link_ls4 , ls4 = light_crawling4()\n",
    "print(len(link_ls4) , len(ls4))"
   ]
  },
  {
   "cell_type": "code",
   "execution_count": 9,
   "metadata": {
    "collapsed": false
   },
   "outputs": [
    {
     "name": "stdout",
     "output_type": "stream",
     "text": [
      "93 93\n"
     ]
    }
   ],
   "source": [
    "ls = ls1 + ls2 + ls3 + ls4\n",
    "link_ls = link_ls1 + link_ls2 + link_ls3 + link_ls4\n",
    "print(len(ls) , len(link_ls))"
   ]
  },
  {
   "cell_type": "code",
   "execution_count": 10,
   "metadata": {
    "collapsed": false
   },
   "outputs": [],
   "source": [
    "df = pd.DataFrame(columns=['Link','Doc'])\n",
    "df['Link'] = link_ls\n",
    "df['Doc'] = ls\n",
    "df.to_csv('0917_with_link.csv',index=False)"
   ]
  }
 ],
 "metadata": {
  "kernelspec": {
   "display_name": "Python 3",
   "language": "python",
   "name": "python3"
  },
  "language_info": {
   "codemirror_mode": {
    "name": "ipython",
    "version": 3
   },
   "file_extension": ".py",
   "mimetype": "text/x-python",
   "name": "python",
   "nbconvert_exporter": "python",
   "pygments_lexer": "ipython3",
   "version": "3.6.0"
  }
 },
 "nbformat": 4,
 "nbformat_minor": 2
}
