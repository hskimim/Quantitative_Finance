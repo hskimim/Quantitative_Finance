{
 "cells": [
  {
   "cell_type": "code",
   "execution_count": 1,
   "metadata": {
    "collapsed": true
   },
   "outputs": [],
   "source": [
    "from first_project import *"
   ]
  },
  {
   "cell_type": "code",
   "execution_count": 4,
   "metadata": {
    "collapsed": true
   },
   "outputs": [],
   "source": [
    "def light_crawling1(PageNum=1):\n",
    "    ls = []\n",
    "    driver = webdriver.Chrome()\n",
    "    url = 'http://finance.daum.net/news/news_list.daum?type=main&section=&limit=30&page={}'.format(PageNum)\n",
    "    driver.get(url)\n",
    "    for i in range(1,10,1):\n",
    "        for j in range(1,6,1):\n",
    "            try : \n",
    "                driver.execute_script('window.scrollTo(10,{});'.format(i*100))\n",
    "                driver.find_element_by_css_selector('#contentWrap > ul:nth-child({}) > li:nth-child({}) > a'.format(i,j)).click()\n",
    "                ls.append(driver.find_element_by_css_selector('#newsView').text)\n",
    "                time.sleep(1)\n",
    "                driver.get(url)\n",
    "            except : pass\n",
    "\n",
    "    if PageNum == 1 :\n",
    "        for k in range(1,11,1):\n",
    "            try : \n",
    "                driver.find_element_by_css_selector('#contentWrap > div.topMainNewsBox > ul > li:nth-child({}) > a'.format(k)).click()\n",
    "                ls.append(driver.find_element_by_css_selector('#newsView').text)\n",
    "                time.sleep(1)\n",
    "                driver.get(url)\n",
    "            except : pass    \n",
    "    driver.close()\n",
    "    return ls"
   ]
  },
  {
   "cell_type": "code",
   "execution_count": 5,
   "metadata": {
    "collapsed": false
   },
   "outputs": [],
   "source": [
    "ls = light_crawling1()"
   ]
  },
  {
   "cell_type": "code",
   "execution_count": 6,
   "metadata": {
    "collapsed": false
   },
   "outputs": [
    {
     "data": {
      "text/plain": [
       "37"
      ]
     },
     "execution_count": 6,
     "metadata": {},
     "output_type": "execute_result"
    }
   ],
   "source": [
    "len(ls)"
   ]
  },
  {
   "cell_type": "code",
   "execution_count": 10,
   "metadata": {
    "collapsed": false
   },
   "outputs": [
    {
     "name": "stdout",
     "output_type": "stream",
     "text": [
      "\"새 유로6 디젤 모델 대다수 매연 기준 초과\"-獨 DUH\n",
      "뉴스1 | 권영미 기자 | 2018.09.14 22:03\n",
      "(서울=뉴스1) 권영미 기자 = 새 디젤 자동차 모델 대다수가 법정 매연 기준을 초과하고 있다고 독일 환경단체 DUH가 14일 지적했다.\n",
      "유르겐 레쉬 DUH 대표는 이날 기자회견에서 실험 결과 최신 유로6 디젤 매연 저감 기술 역시 이전 모델들과 다를 바 없이 '더럽다'고 주장했다.\n",
      "DUH는 유로 6 세대 차량을 실지 운행과 같은 조건에서 실험한 결과 질소산화물(NOx)이 법정기준보다 평균 5.5배 더 나왔다고 밝혔다. 차량중 8.4%만 기준내에 들었다.\n",
      "디젤 차량에서 나오는 매연 © AFP=뉴스1\n",
      "DUH는 이를 근거로 자동차업체들이 매연저감 장치 개선에 나서도록 정부가 강력 압박해야한다고 촉구했다.\n",
      "DUH는 최근 디젤차량 운행 제한에 나선 함부르크시를 비롯한 지방 정부들을 상대로 디젤 퇴치 운동을 펴고 있다.\n",
      "ungaungae@news1.kr\n",
      "<저작권자 © 뉴스1코리아, 무단전재 및 재배포 금지>\n"
     ]
    }
   ],
   "source": [
    "print(ls[3])"
   ]
  }
 ],
 "metadata": {
  "kernelspec": {
   "display_name": "Python 3",
   "language": "python",
   "name": "python3"
  },
  "language_info": {
   "codemirror_mode": {
    "name": "ipython",
    "version": 3
   },
   "file_extension": ".py",
   "mimetype": "text/x-python",
   "name": "python",
   "nbconvert_exporter": "python",
   "pygments_lexer": "ipython3",
   "version": "3.6.0"
  }
 },
 "nbformat": 4,
 "nbformat_minor": 2
}
