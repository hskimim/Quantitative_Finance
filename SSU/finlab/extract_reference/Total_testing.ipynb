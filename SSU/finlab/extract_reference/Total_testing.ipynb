{
 "cells": [
  {
   "cell_type": "code",
   "execution_count": 1,
   "metadata": {
    "collapsed": true
   },
   "outputs": [],
   "source": [
    "import extract_reference_type1 as ref1\n",
    "import extract_reference_type2 as ref2\n",
    "import re\n",
    "import numpy as np\n",
    "import pandas as pd\n",
    "import os\n",
    "import nltk"
   ]
  },
  {
   "cell_type": "code",
   "execution_count": 2,
   "metadata": {
    "collapsed": true
   },
   "outputs": [],
   "source": [
    "df1 = list(pd.read_csv('fail_to_make_ref.csv')['fail_to_make_ref'].values)\n",
    "failure_list = list(pd.read_csv('failure_pdf_name.csv')['failure_pdf_name'].values)\n",
    "file_path1 = ['paper_list/' +str(file) for file in os.listdir('paper_list') if '.pdf' in file ]\n",
    "file_path1 = [file for file in file_path1 if file not in failure_list] \n",
    "file_path1 = [file for file in file_path1 if file not in df1]"
   ]
  },
  {
   "cell_type": "code",
   "execution_count": 3,
   "metadata": {
    "collapsed": true
   },
   "outputs": [],
   "source": [
    "file_path2 = ['failure_paper_list/' +str(file) for file in os.listdir('failure_paper_list') if '.txt' in file ]\n",
    "file_path2 = [file for file in file_path2 if file not in failure_list] \n",
    "file_path2 = [file for file in file_path2 if file not in df1]"
   ]
  },
  {
   "cell_type": "code",
   "execution_count": 4,
   "metadata": {},
   "outputs": [
    {
     "data": {
      "text/plain": [
       "653"
      ]
     },
     "execution_count": 4,
     "metadata": {},
     "output_type": "execute_result"
    }
   ],
   "source": [
    "file_path = file_path1 + file_path2\n",
    "len(file_path)"
   ]
  },
  {
   "cell_type": "code",
   "execution_count": null,
   "metadata": {},
   "outputs": [
    {
     "name": "stdout",
     "output_type": "stream",
     "text": [
      "0\n"
     ]
    }
   ],
   "source": [
    "total_references = []\n",
    "for idx,path in enumerate(file_path) : \n",
    "    try : \n",
    "        if path[-3:] == 'pdf':\n",
    "            file_ = ref1.extract_text_from_pdf(path)\n",
    "        else : \n",
    "            file_ = ref1.extract_text_from_txt(path)\n",
    "\n",
    "        new_references = ref1.make_new_references_new_vers(file_,one_more_tuned=True)\n",
    "        new_references = ref1.fine_tuning_the_new_ref(new_references)\n",
    "        new_references = ref1.finer_tuning_new_references(new_references)\n",
    "        new_references = ref1.fine_tuning_the_new_ref(new_references)\n",
    "        new_references\n",
    "        total_references += new_references\n",
    "        if idx % 100 == 0 : print(idx)\n",
    "    except Exception as e :\n",
    "        print(e)\n",
    "        print(path,idx)"
   ]
  }
 ],
 "metadata": {
  "kernelspec": {
   "display_name": "Python 3",
   "language": "python",
   "name": "python3"
  }
 },
 "nbformat": 4,
 "nbformat_minor": 2
}
