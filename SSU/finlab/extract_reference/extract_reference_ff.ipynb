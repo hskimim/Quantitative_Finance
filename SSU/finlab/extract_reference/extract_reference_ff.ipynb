{
 "cells": [
  {
   "cell_type": "code",
   "execution_count": 8,
   "metadata": {
    "collapsed": true
   },
   "outputs": [],
   "source": [
    "import re"
   ]
  },
  {
   "cell_type": "code",
   "execution_count": 9,
   "metadata": {
    "collapsed": false,
    "scrolled": true
   },
   "outputs": [
    {
     "name": "stdout",
     "output_type": "stream",
     "text": [
      "All use subject to JSTOR Terms and Conditions\n",
      "\n"
     ]
    }
   ],
   "source": [
    "with open(\"05.Fama-French(1992 JF)The Cross-section of expected stock returns.txt\", 'r') as f:\n",
    "    lines = f.readlines()\n",
    "    print(lines[-3])"
   ]
  },
  {
   "cell_type": "code",
   "execution_count": 10,
   "metadata": {
    "collapsed": false
   },
   "outputs": [
    {
     "name": "stdout",
     "output_type": "stream",
     "text": [
      "5220\n"
     ]
    }
   ],
   "source": [
    "for idx,val in enumerate(lines):\n",
    "    if 'REFERENCE' in val :\n",
    "         print(idx)"
   ]
  },
  {
   "cell_type": "code",
   "execution_count": 11,
   "metadata": {
    "collapsed": false
   },
   "outputs": [],
   "source": [
    "references = lines[5221:-4]"
   ]
  },
  {
   "cell_type": "code",
   "execution_count": 13,
   "metadata": {
    "collapsed": false
   },
   "outputs": [
    {
     "name": "stdout",
     "output_type": "stream",
     "text": [
      "['\\n', 'This content downloaded from 147.47.158.174 on Thu, 05 Mar 2015 05:12:56 UTC\\n', 'All use subject to JSTOR Terms and Conditions\\n', '\\n']\n"
     ]
    }
   ],
   "source": [
    "print(references[13:17])\n",
    "del references[13:17]\n",
    "# we dont need below sentence"
   ]
  },
  {
   "cell_type": "code",
   "execution_count": 14,
   "metadata": {
    "collapsed": false
   },
   "outputs": [
    {
     "data": {
      "text/plain": [
       "24"
      ]
     },
     "execution_count": 14,
     "metadata": {},
     "output_type": "execute_result"
    }
   ],
   "source": [
    "count = 0\n",
    "for idx,i in enumerate(references):\n",
    "    if 'Journal' in i :\n",
    "        count += 1\n",
    "count"
   ]
  },
  {
   "cell_type": "code",
   "execution_count": 8,
   "metadata": {
    "collapsed": false,
    "scrolled": true
   },
   "outputs": [
    {
     "name": "stdout",
     "output_type": "stream",
     "text": [
      "4 Journal of Financial Economics 6, 103-126.\n",
      "\n",
      "8 NYSE common stocks: Further evidence, Journal of Financial Economics 12, 129-156.\n",
      "\n",
      "10 evidence, Journal of Finance 43, 507-528.\n",
      "\n",
      "12 45, 444-455.\n",
      "\n",
      "20 in Japan, Journal of Finance 46, 1739-1789.\n",
      "\n",
      "22 as an instrumental variable for risk, Journal of Finance 43, 309-325.\n",
      "\n",
      "24 Journal of Finance 46, 1467-1484.\n",
      "\n",
      "26 effect, Journal of Financial Economics 14, 451-471.\n",
      "\n",
      "28 Journal of Business 56, 383-403.\n",
      "\n",
      "30 of Finance 40, 557-581.\n",
      "\n",
      "32 of Financial Economics 7, 197-226.\n",
      "\n",
      "35 Political Economy 81, 607-636.\n",
      "\n",
      "37 infrequent trading: Comment, Journal of Financial Economics 12, 279-283.\n",
      "\n",
      "39 and stock returns, Journal of Finance 44, 135-148.\n",
      "\n",
      "40 Keim, Donald B., 1983, Size-related anomalies and stock return seasonality, Journal of Financial Economics 12, 13-32.\n",
      "\n",
      "43 Lakonishok, Josef, and Alan C. Shapiro, 1986, Systematic risk, total risk and size as determinants of stock market returns, Journal of Banking and Finance 10, 115-132.\n",
      "\n",
      "45 portfolios and capital budgets, Review of Economics and Statistics 47, 13-37.\n",
      "\n",
      "49 867-887.\n",
      "\n",
      "51 Quantitative Analysis 16, 439-462.\n",
      "\n",
      "53 firms, Journal of Portfolio Management 9, 18-28.\n",
      "\n",
      "57 Theory 13, 341-360.\n",
      "\n",
      "59 of risk, Journal of Finance 19, 425-442.\n",
      "\n",
      "61 sensitivity analysis, Journal of Financial Economics 10, 237-268.\n",
      "\n",
      "63 Papers 4, 25-45.\n",
      "\n"
     ]
    }
   ],
   "source": [
    "journal_idx_ls , journal_val_ls = [] ,[]\n",
    "for journal_idx,journal_val in enumerate(references):\n",
    "    if re.findall('[0-9]{3}-[0-9]{3}',journal_val) or re.findall('[0-9]{2}-[0-9]{2}',journal_val) or re.findall('[0-9]{4}-[0-9]{4}',journal_val):\n",
    "        print(journal_idx,journal_val)\n",
    "        journal_idx_ls.append(journal_idx)\n",
    "        journal_val_ls.append(journal_val)"
   ]
  },
  {
   "cell_type": "code",
   "execution_count": 9,
   "metadata": {
    "collapsed": false,
    "scrolled": true
   },
   "outputs": [
    {
     "name": "stdout",
     "output_type": "stream",
     "text": [
      "0 Alford, Andrew, Jennifer J. Jones, and Mark E. Zmijewski, 1992, Extensions and violations of\n",
      "\n",
      "3 Ball, Ray, 1978, Anomalies in relationships between securities' yields and yield-surrogates,\n",
      "\n",
      "5 Banz, Rolf W., 1981, The relationship between return and market value of common stocks,\n",
      "\n",
      "7 Basu, Sanjoy, 1983, The relationship between earnings yield, market value, and return for\n",
      "\n",
      "9 Bhandari, Laxmi Chand, 1988, Debt/Equity ratio and expected common stock returns: Empirical\n",
      "\n",
      "11 Black, Fischer, 1972, Capital market equilibrium with restricted borrowing, Journal of Business\n",
      "\n",
      "17 Michael C. Jensen, and Myron Scholes, 1972, The capital asset pricing model: some\n",
      "\n",
      "19 Chan, Louis K., Yasushi Hamao, and Josef Lakonishok, 1991, Fundamentals and stock returns\n",
      "\n",
      "21 Chan, K. C. and Nai-fu Chen, 1988, An unconditional asset-pricing test and the role of firm size\n",
      "\n",
      "23 , and Nai-fu Chen, 1991, Structural and return characteristics of small and large firms,\n",
      "\n",
      "25 , Nai-fu Chen, and David A. Hsieh, 1985, An exploratory investigation of the firm size\n",
      "\n",
      "27 Chen, Nai-fu, Richard Roll, and Stephen A. Ross, 1986, Economic forces and the stock market,\n",
      "\n",
      "29 DeBondt, Werner F. M., and Richard H. Thaler, 1985, Does the stock market overreact, Journal\n",
      "\n",
      "31 Dimson, Elroy, 1979, Risk measurement when shares are subject to infrequent trading, Journal\n",
      "\n",
      "33 Fama, Eugene F., 1976, Foundations of Finance (Basic Books, New York).\n",
      "\n",
      "34 , and James MacBeth, 1973, Risk, return and equilibrium: Empirical tests, Journal of\n",
      "\n",
      "36 Fowler, David J. and C. Harvey Rorke, 1983, Risk measurement when shares are subject to\n",
      "\n",
      "38 Jaffe, Jeffrey, Donald B. Keim, and Randolph Westerfield, 1989, Earnings yields, market values,\n",
      "\n",
      "41 , 1988, Stock market regularities: A synthesis of the evidence and explanations, in Elroy\n",
      "\n",
      "44 Lintner, John, 1965, The valuation of risk assets and the selection of risky investments in stock\n",
      "\n",
      "46 Markowitz, Harry, 1959, Portfolio Selection: Efficient Diversification of Investments (Wiley, New\n",
      "\n",
      "48 Merton, Robert C., 1973, An intertemporal capital asset pricing model, Econometrica 41,\n",
      "\n",
      "50 Reinganum, Marc R., 1981, A new empirical perspective on the CAPM, Journal of Financial and\n",
      "\n",
      "52 Roll, Richard, 1983, Vas ist Das? The turn-of-the-year effect and the return premia of small\n",
      "\n",
      "54 Rosenberg, Barr, Kenneth Reid, and Ronald Lanstein, 1985, Persuasive evidence of market\n",
      "\n",
      "56 Ross, Stephen A., 1976, The arbitrage theory of capital asset pricing, Journal of Economic\n",
      "\n",
      "58 Sharpe, William F., 1964, Capital asset prices: a theory of market equilibrium under conditions\n",
      "\n",
      "60 Stambaugh, Robert F., 1982, On the exclusion of assets from tests of the two-parameter model: A\n",
      "\n",
      "62 Stattman, Dennis, 1980, Book values and stock returns, The Chicago MBA: A Journal of Selected\n",
      "\n"
     ]
    }
   ],
   "source": [
    "paper_idx_ls , paper_val_ls = [],[]\n",
    "for paper_idx,paper_val in enumerate(references):\n",
    "    if re.findall('19[0-9]{2}',paper_val) or re.findall('18[0-9]{2}',paper_val) :\n",
    "        if paper_idx not in journal_idx_ls:\n",
    "            print(paper_idx,paper_val)\n",
    "            paper_idx_ls.append(paper_idx)\n",
    "            paper_val_ls.append(paper_val)"
   ]
  },
  {
   "cell_type": "code",
   "execution_count": 10,
   "metadata": {
    "collapsed": false
   },
   "outputs": [
    {
     "data": {
      "text/plain": [
       "29"
      ]
     },
     "execution_count": 10,
     "metadata": {},
     "output_type": "execute_result"
    }
   ],
   "source": [
    "paper_ls = []\n",
    "for idx,val in enumerate(paper_idx_ls):\n",
    "    try : \n",
    "        paper_ls.append(','.join(references[val:paper_idx_ls[idx+1]]))\n",
    "    except : \n",
    "        paper_ls.append(','.join(references[val:]))\n",
    "len(paper_ls)"
   ]
  },
  {
   "cell_type": "code",
   "execution_count": 11,
   "metadata": {
    "collapsed": false,
    "scrolled": true
   },
   "outputs": [
    {
     "data": {
      "text/plain": [
       "['Alford, Andrew, Jennifer J. Jones, and Mark E. Zmijewski, 1992, Extensions and violations of\\n,the statutory SEC Form 10-K filing date, Unpublished manuscript, University of Chicago,\\n,Chicago, IL.\\n',\n",
       " \"Ball, Ray, 1978, Anomalies in relationships between securities' yields and yield-surrogates,\\n,Journal of Financial Economics 6, 103-126.\\n\",\n",
       " 'Banz, Rolf W., 1981, The relationship between return and market value of common stocks,\\n,Journal of Financial Economics 9, 3-18.\\n',\n",
       " 'Basu, Sanjoy, 1983, The relationship between earnings yield, market value, and return for\\n,NYSE common stocks: Further evidence, Journal of Financial Economics 12, 129-156.\\n',\n",
       " 'Bhandari, Laxmi Chand, 1988, Debt/Equity ratio and expected common stock returns: Empirical\\n,evidence, Journal of Finance 43, 507-528.\\n',\n",
       " 'Black, Fischer, 1972, Capital market equilibrium with restricted borrowing, Journal of Business\\n,45, 444-455.\\n,\\x0cThe Cross-Section of Expected Stock Returns\\n,\\n,465\\n,\\n',\n",
       " 'Michael C. Jensen, and Myron Scholes, 1972, The capital asset pricing model: some\\n,empirical tests, in M. Jensen, ed.: Studies in the Theory of Capital Markets (Praeger).\\n',\n",
       " 'Chan, Louis K., Yasushi Hamao, and Josef Lakonishok, 1991, Fundamentals and stock returns\\n,in Japan, Journal of Finance 46, 1739-1789.\\n',\n",
       " 'Chan, K. C. and Nai-fu Chen, 1988, An unconditional asset-pricing test and the role of firm size\\n,as an instrumental variable for risk, Journal of Finance 43, 309-325.\\n',\n",
       " ', and Nai-fu Chen, 1991, Structural and return characteristics of small and large firms,\\n,Journal of Finance 46, 1467-1484.\\n',\n",
       " ', Nai-fu Chen, and David A. Hsieh, 1985, An exploratory investigation of the firm size\\n,effect, Journal of Financial Economics 14, 451-471.\\n',\n",
       " 'Chen, Nai-fu, Richard Roll, and Stephen A. Ross, 1986, Economic forces and the stock market,\\n,Journal of Business 56, 383-403.\\n',\n",
       " 'DeBondt, Werner F. M., and Richard H. Thaler, 1985, Does the stock market overreact, Journal\\n,of Finance 40, 557-581.\\n',\n",
       " 'Dimson, Elroy, 1979, Risk measurement when shares are subject to infrequent trading, Journal\\n,of Financial Economics 7, 197-226.\\n',\n",
       " 'Fama, Eugene F., 1976, Foundations of Finance (Basic Books, New York).\\n',\n",
       " ', and James MacBeth, 1973, Risk, return and equilibrium: Empirical tests, Journal of\\n,Political Economy 81, 607-636.\\n',\n",
       " 'Fowler, David J. and C. Harvey Rorke, 1983, Risk measurement when shares are subject to\\n,infrequent trading: Comment, Journal of Financial Economics 12, 279-283.\\n',\n",
       " 'Jaffe, Jeffrey, Donald B. Keim, and Randolph Westerfield, 1989, Earnings yields, market values,\\n,and stock returns, Journal of Finance 44, 135-148.\\n,Keim, Donald B., 1983, Size-related anomalies and stock return seasonality, Journal of Financial Economics 12, 13-32.\\n',\n",
       " ', 1988, Stock market regularities: A synthesis of the evidence and explanations, in Elroy\\n,Dimson, ed.: Stock Market Anomalies (Cambridge University Press, Cambridge).\\n,Lakonishok, Josef, and Alan C. Shapiro, 1986, Systematic risk, total risk and size as determinants of stock market returns, Journal of Banking and Finance 10, 115-132.\\n',\n",
       " 'Lintner, John, 1965, The valuation of risk assets and the selection of risky investments in stock\\n,portfolios and capital budgets, Review of Economics and Statistics 47, 13-37.\\n',\n",
       " 'Markowitz, Harry, 1959, Portfolio Selection: Efficient Diversification of Investments (Wiley, New\\n,York).\\n',\n",
       " 'Merton, Robert C., 1973, An intertemporal capital asset pricing model, Econometrica 41,\\n,867-887.\\n',\n",
       " 'Reinganum, Marc R., 1981, A new empirical perspective on the CAPM, Journal of Financial and\\n,Quantitative Analysis 16, 439-462.\\n',\n",
       " 'Roll, Richard, 1983, Vas ist Das? The turn-of-the-year effect and the return premia of small\\n,firms, Journal of Portfolio Management 9, 18-28.\\n',\n",
       " 'Rosenberg, Barr, Kenneth Reid, and Ronald Lanstein, 1985, Persuasive evidence of market\\n,inefficiency, Journal of Portfolio Management 11, 9-17.\\n',\n",
       " 'Ross, Stephen A., 1976, The arbitrage theory of capital asset pricing, Journal of Economic\\n,Theory 13, 341-360.\\n',\n",
       " 'Sharpe, William F., 1964, Capital asset prices: a theory of market equilibrium under conditions\\n,of risk, Journal of Finance 19, 425-442.\\n',\n",
       " 'Stambaugh, Robert F., 1982, On the exclusion of assets from tests of the two-parameter model: A\\n,sensitivity analysis, Journal of Financial Economics 10, 237-268.\\n',\n",
       " 'Stattman, Dennis, 1980, Book values and stock returns, The Chicago MBA: A Journal of Selected\\n,Papers 4, 25-45.\\n,\\n']"
      ]
     },
     "execution_count": 11,
     "metadata": {},
     "output_type": "execute_result"
    }
   ],
   "source": [
    "paper_ls"
   ]
  },
  {
   "cell_type": "code",
   "execution_count": 12,
   "metadata": {
    "collapsed": false
   },
   "outputs": [
    {
     "data": {
      "text/plain": [
       "'Black, Fischer, 1972, Capital market equilibrium with restricted borrowing, Journal of Business\\n,45, 444-455.\\n,\\x0cThe Cross-Section of Expected Stock Returns\\n,\\n,465\\n,\\n'"
      ]
     },
     "execution_count": 12,
     "metadata": {},
     "output_type": "execute_result"
    }
   ],
   "source": [
    "paper_ls[5]"
   ]
  },
  {
   "cell_type": "code",
   "execution_count": 13,
   "metadata": {
    "collapsed": false
   },
   "outputs": [
    {
     "data": {
      "text/plain": [
       "29"
      ]
     },
     "execution_count": 13,
     "metadata": {},
     "output_type": "execute_result"
    }
   ],
   "source": [
    "when_is_issued = []\n",
    "start_idx , end_idx = [],[]\n",
    "for idx,val in enumerate(paper_ls):\n",
    "    start_idx.append(re.search('19[0-9]{2}',val).start())\n",
    "    end_idx.append(re.search('19[0-9]{2}',val).end())\n",
    "    when_is_issued.append(val[start_idx[idx]:end_idx[idx]])\n",
    "len(when_is_issued)"
   ]
  },
  {
   "cell_type": "code",
   "execution_count": 14,
   "metadata": {
    "collapsed": false,
    "scrolled": true
   },
   "outputs": [
    {
     "data": {
      "text/plain": [
       "['1992',\n",
       " '1978',\n",
       " '1981',\n",
       " '1983',\n",
       " '1988',\n",
       " '1972',\n",
       " '1972',\n",
       " '1991',\n",
       " '1988',\n",
       " '1991',\n",
       " '1985',\n",
       " '1986',\n",
       " '1985',\n",
       " '1979',\n",
       " '1976',\n",
       " '1973',\n",
       " '1983',\n",
       " '1989',\n",
       " '1988',\n",
       " '1965',\n",
       " '1959',\n",
       " '1973',\n",
       " '1981',\n",
       " '1983',\n",
       " '1985',\n",
       " '1976',\n",
       " '1964',\n",
       " '1982',\n",
       " '1980']"
      ]
     },
     "execution_count": 14,
     "metadata": {},
     "output_type": "execute_result"
    }
   ],
   "source": [
    "when_is_issued"
   ]
  },
  {
   "cell_type": "code",
   "execution_count": 15,
   "metadata": {
    "collapsed": false
   },
   "outputs": [
    {
     "data": {
      "text/plain": [
       "29"
      ]
     },
     "execution_count": 15,
     "metadata": {},
     "output_type": "execute_result"
    }
   ],
   "source": [
    "who_is_issue = []\n",
    "for idx,val in enumerate(paper_ls):\n",
    "    who_is_issue.append(val[:start_idx[idx]])\n",
    "len(who_is_issue)"
   ]
  },
  {
   "cell_type": "code",
   "execution_count": 16,
   "metadata": {
    "collapsed": false,
    "scrolled": true
   },
   "outputs": [
    {
     "data": {
      "text/plain": [
       "['Alford, Andrew, Jennifer J. Jones, and Mark E. Zmijewski, ',\n",
       " 'Ball, Ray, ',\n",
       " 'Banz, Rolf W., ',\n",
       " 'Basu, Sanjoy, ',\n",
       " 'Bhandari, Laxmi Chand, ',\n",
       " 'Black, Fischer, ',\n",
       " 'Michael C. Jensen, and Myron Scholes, ',\n",
       " 'Chan, Louis K., Yasushi Hamao, and Josef Lakonishok, ',\n",
       " 'Chan, K. C. and Nai-fu Chen, ',\n",
       " ', and Nai-fu Chen, ',\n",
       " ', Nai-fu Chen, and David A. Hsieh, ',\n",
       " 'Chen, Nai-fu, Richard Roll, and Stephen A. Ross, ',\n",
       " 'DeBondt, Werner F. M., and Richard H. Thaler, ',\n",
       " 'Dimson, Elroy, ',\n",
       " 'Fama, Eugene F., ',\n",
       " ', and James MacBeth, ',\n",
       " 'Fowler, David J. and C. Harvey Rorke, ',\n",
       " 'Jaffe, Jeffrey, Donald B. Keim, and Randolph Westerfield, ',\n",
       " ', ',\n",
       " 'Lintner, John, ',\n",
       " 'Markowitz, Harry, ',\n",
       " 'Merton, Robert C., ',\n",
       " 'Reinganum, Marc R., ',\n",
       " 'Roll, Richard, ',\n",
       " 'Rosenberg, Barr, Kenneth Reid, and Ronald Lanstein, ',\n",
       " 'Ross, Stephen A., ',\n",
       " 'Sharpe, William F., ',\n",
       " 'Stambaugh, Robert F., ',\n",
       " 'Stattman, Dennis, ']"
      ]
     },
     "execution_count": 16,
     "metadata": {},
     "output_type": "execute_result"
    }
   ],
   "source": [
    "who_is_issue"
   ]
  },
  {
   "cell_type": "code",
   "execution_count": 17,
   "metadata": {
    "collapsed": false
   },
   "outputs": [
    {
     "data": {
      "text/plain": [
       "(29, 29)"
      ]
     },
     "execution_count": 17,
     "metadata": {},
     "output_type": "execute_result"
    }
   ],
   "source": [
    "code_start_ls = []\n",
    "journal_code = []\n",
    "for idx,val in enumerate(paper_ls):\n",
    "    try : code_start_ls.append(re.search('[0-9]+-[0-9]+',val).start())\n",
    "    except : code_start_ls.append(0)\n",
    "    if code_start_ls[idx] != 0 :\n",
    "        journal_code.append(val[code_start_ls[idx]:])\n",
    "    else : journal_code.append('0')\n",
    "len(code_start_ls) , len(journal_code)"
   ]
  },
  {
   "cell_type": "code",
   "execution_count": 18,
   "metadata": {
    "collapsed": false,
    "scrolled": true
   },
   "outputs": [
    {
     "data": {
      "text/plain": [
       "['0',\n",
       " '103-126.\\n',\n",
       " '3-18.\\n',\n",
       " '129-156.\\n',\n",
       " '507-528.\\n',\n",
       " '444-455.\\n,\\x0cThe Cross-Section of Expected Stock Returns\\n,\\n,465\\n,\\n',\n",
       " '0',\n",
       " '1739-1789.\\n',\n",
       " '309-325.\\n',\n",
       " '1467-1484.\\n',\n",
       " '451-471.\\n',\n",
       " '383-403.\\n',\n",
       " '557-581.\\n',\n",
       " '197-226.\\n',\n",
       " '0',\n",
       " '607-636.\\n',\n",
       " '279-283.\\n',\n",
       " '135-148.\\n,Keim, Donald B., 1983, Size-related anomalies and stock return seasonality, Journal of Financial Economics 12, 13-32.\\n',\n",
       " '115-132.\\n',\n",
       " '13-37.\\n',\n",
       " '0',\n",
       " '867-887.\\n',\n",
       " '439-462.\\n',\n",
       " '18-28.\\n',\n",
       " '9-17.\\n',\n",
       " '341-360.\\n',\n",
       " '425-442.\\n',\n",
       " '237-268.\\n',\n",
       " '25-45.\\n,\\n']"
      ]
     },
     "execution_count": 18,
     "metadata": {},
     "output_type": "execute_result"
    }
   ],
   "source": [
    "journal_code"
   ]
  },
  {
   "cell_type": "code",
   "execution_count": 19,
   "metadata": {
    "collapsed": false
   },
   "outputs": [],
   "source": [
    "code_idx_ls,journal_real_code = [],[]\n",
    "for idx,val in enumerate(journal_code):\n",
    "    code_idx_ls.append(val.find('\\n'))\n",
    "    journal_real_code.append(val[:code_idx_ls[idx]])"
   ]
  },
  {
   "cell_type": "code",
   "execution_count": 20,
   "metadata": {
    "collapsed": false,
    "scrolled": true
   },
   "outputs": [
    {
     "data": {
      "text/plain": [
       "['',\n",
       " '103-126.',\n",
       " '3-18.',\n",
       " '129-156.',\n",
       " '507-528.',\n",
       " '444-455.',\n",
       " '',\n",
       " '1739-1789.',\n",
       " '309-325.',\n",
       " '1467-1484.',\n",
       " '451-471.',\n",
       " '383-403.',\n",
       " '557-581.',\n",
       " '197-226.',\n",
       " '',\n",
       " '607-636.',\n",
       " '279-283.',\n",
       " '135-148.',\n",
       " '115-132.',\n",
       " '13-37.',\n",
       " '',\n",
       " '867-887.',\n",
       " '439-462.',\n",
       " '18-28.',\n",
       " '9-17.',\n",
       " '341-360.',\n",
       " '425-442.',\n",
       " '237-268.',\n",
       " '25-45.']"
      ]
     },
     "execution_count": 20,
     "metadata": {},
     "output_type": "execute_result"
    }
   ],
   "source": [
    "journal_real_code"
   ]
  },
  {
   "cell_type": "code",
   "execution_count": 28,
   "metadata": {
    "collapsed": false,
    "scrolled": false
   },
   "outputs": [
    {
     "data": {
      "text/plain": [
       "(29, 29)"
      ]
     },
     "execution_count": 28,
     "metadata": {},
     "output_type": "execute_result"
    }
   ],
   "source": [
    "journal_start_ls = []\n",
    "journal_word = []\n",
    "for idx,val in enumerate(paper_ls):\n",
    "    try : journal_start_ls.append(re.search('Journal',val).start())\n",
    "    except : journal_start_ls.append(0)\n",
    "    if journal_start_ls[idx] != 0 :\n",
    "        journal_word.append(val[journal_start_ls[idx]:])\n",
    "    else : journal_word.append('0')\n",
    "len(journal_start_ls) , len(journal_word)"
   ]
  },
  {
   "cell_type": "code",
   "execution_count": 29,
   "metadata": {
    "collapsed": false,
    "scrolled": true
   },
   "outputs": [
    {
     "data": {
      "text/plain": [
       "['0',\n",
       " 'Journal of Financial Economics 6, 103-126.\\n',\n",
       " 'Journal of Financial Economics 9, 3-18.\\n',\n",
       " 'Journal of Financial Economics 12, 129-156.\\n',\n",
       " 'Journal of Finance 43, 507-528.\\n',\n",
       " 'Journal of Business\\n,45, 444-455.\\n,\\x0cThe Cross-Section of Expected Stock Returns\\n,\\n,465\\n,\\n',\n",
       " '0',\n",
       " 'Journal of Finance 46, 1739-1789.\\n',\n",
       " 'Journal of Finance 43, 309-325.\\n',\n",
       " 'Journal of Finance 46, 1467-1484.\\n',\n",
       " 'Journal of Financial Economics 14, 451-471.\\n',\n",
       " 'Journal of Business 56, 383-403.\\n',\n",
       " 'Journal\\n,of Finance 40, 557-581.\\n',\n",
       " 'Journal\\n,of Financial Economics 7, 197-226.\\n',\n",
       " '0',\n",
       " 'Journal of\\n,Political Economy 81, 607-636.\\n',\n",
       " 'Journal of Financial Economics 12, 279-283.\\n',\n",
       " 'Journal of Finance 44, 135-148.\\n,Keim, Donald B., 1983, Size-related anomalies and stock return seasonality, Journal of Financial Economics 12, 13-32.\\n',\n",
       " 'Journal of Banking and Finance 10, 115-132.\\n',\n",
       " '0',\n",
       " '0',\n",
       " '0',\n",
       " 'Journal of Financial and\\n,Quantitative Analysis 16, 439-462.\\n',\n",
       " 'Journal of Portfolio Management 9, 18-28.\\n',\n",
       " 'Journal of Portfolio Management 11, 9-17.\\n',\n",
       " 'Journal of Economic\\n,Theory 13, 341-360.\\n',\n",
       " 'Journal of Finance 19, 425-442.\\n',\n",
       " 'Journal of Financial Economics 10, 237-268.\\n',\n",
       " 'Journal of Selected\\n,Papers 4, 25-45.\\n,\\n']"
      ]
     },
     "execution_count": 29,
     "metadata": {},
     "output_type": "execute_result"
    }
   ],
   "source": [
    "journal_word"
   ]
  },
  {
   "cell_type": "code",
   "execution_count": 50,
   "metadata": {
    "collapsed": false
   },
   "outputs": [
    {
     "data": {
      "text/plain": [
       "29"
      ]
     },
     "execution_count": 50,
     "metadata": {},
     "output_type": "execute_result"
    }
   ],
   "source": [
    "paper_name_ls = []\n",
    "for idx,val in enumerate(paper_ls):\n",
    "    if journal_start_ls[idx] != 0 :\n",
    "        paper_name_ls.append(val[end_idx[idx]:journal_start_ls[idx]])\n",
    "    else:\n",
    "        paper_name_ls.append(val[end_idx[idx]:])\n",
    "len(paper_name_ls) "
   ]
  },
  {
   "cell_type": "code",
   "execution_count": 51,
   "metadata": {
    "collapsed": false
   },
   "outputs": [],
   "source": [
    "paper_name_ls = [i.replace('\\n','') for i in paper_name_ls]"
   ]
  },
  {
   "cell_type": "code",
   "execution_count": 57,
   "metadata": {
    "collapsed": false,
    "scrolled": true
   },
   "outputs": [],
   "source": [
    "paper_name_ls = [paper[2:] if paper[0] == ',' else paper for paper in paper_name_ls]"
   ]
  },
  {
   "cell_type": "markdown",
   "metadata": {},
   "source": [
    "논문pdf 파일에서 참고문헌 추출해서 저자 연도 논문제목 저널을 정리"
   ]
  },
  {
   "cell_type": "code",
   "execution_count": 58,
   "metadata": {
    "collapsed": true
   },
   "outputs": [],
   "source": [
    "import pandas as pd"
   ]
  },
  {
   "cell_type": "code",
   "execution_count": 59,
   "metadata": {
    "collapsed": false
   },
   "outputs": [],
   "source": [
    "df = pd.DataFrame()\n",
    "df['when_is_issued'] = when_is_issued\n",
    "df['who_is_issue'] = who_is_issue\n",
    "df['paper_name'] = paper_name_ls\n",
    "df['journal_word'] = journal_word\n",
    "df['journal_code'] = journal_real_code"
   ]
  },
  {
   "cell_type": "code",
   "execution_count": 60,
   "metadata": {
    "collapsed": false,
    "scrolled": true
   },
   "outputs": [
    {
     "data": {
      "text/html": [
       "<div>\n",
       "<table border=\"1\" class=\"dataframe\">\n",
       "  <thead>\n",
       "    <tr style=\"text-align: right;\">\n",
       "      <th></th>\n",
       "      <th>when_is_issued</th>\n",
       "      <th>who_is_issue</th>\n",
       "      <th>paper_name</th>\n",
       "      <th>journal_word</th>\n",
       "      <th>journal_code</th>\n",
       "    </tr>\n",
       "  </thead>\n",
       "  <tbody>\n",
       "    <tr>\n",
       "      <th>0</th>\n",
       "      <td>1992</td>\n",
       "      <td>Alford, Andrew, Jennifer J. Jones, and Mark E....</td>\n",
       "      <td>Extensions and violations of,the statutory SEC...</td>\n",
       "      <td>0</td>\n",
       "      <td></td>\n",
       "    </tr>\n",
       "    <tr>\n",
       "      <th>1</th>\n",
       "      <td>1978</td>\n",
       "      <td>Ball, Ray,</td>\n",
       "      <td>Anomalies in relationships between securities'...</td>\n",
       "      <td>Journal of Financial Economics 6, 103-126.\\n</td>\n",
       "      <td>103-126.</td>\n",
       "    </tr>\n",
       "    <tr>\n",
       "      <th>2</th>\n",
       "      <td>1981</td>\n",
       "      <td>Banz, Rolf W.,</td>\n",
       "      <td>The relationship between return and market val...</td>\n",
       "      <td>Journal of Financial Economics 9, 3-18.\\n</td>\n",
       "      <td>3-18.</td>\n",
       "    </tr>\n",
       "    <tr>\n",
       "      <th>3</th>\n",
       "      <td>1983</td>\n",
       "      <td>Basu, Sanjoy,</td>\n",
       "      <td>The relationship between earnings yield, marke...</td>\n",
       "      <td>Journal of Financial Economics 12, 129-156.\\n</td>\n",
       "      <td>129-156.</td>\n",
       "    </tr>\n",
       "    <tr>\n",
       "      <th>4</th>\n",
       "      <td>1988</td>\n",
       "      <td>Bhandari, Laxmi Chand,</td>\n",
       "      <td>Debt/Equity ratio and expected common stock re...</td>\n",
       "      <td>Journal of Finance 43, 507-528.\\n</td>\n",
       "      <td>507-528.</td>\n",
       "    </tr>\n",
       "    <tr>\n",
       "      <th>5</th>\n",
       "      <td>1972</td>\n",
       "      <td>Black, Fischer,</td>\n",
       "      <td>Capital market equilibrium with restricted bor...</td>\n",
       "      <td>Journal of Business\\n,45, 444-455.\\n,\f",
       "The Cros...</td>\n",
       "      <td>444-455.</td>\n",
       "    </tr>\n",
       "    <tr>\n",
       "      <th>6</th>\n",
       "      <td>1972</td>\n",
       "      <td>Michael C. Jensen, and Myron Scholes,</td>\n",
       "      <td>The capital asset pricing model: some,empirica...</td>\n",
       "      <td>0</td>\n",
       "      <td></td>\n",
       "    </tr>\n",
       "    <tr>\n",
       "      <th>7</th>\n",
       "      <td>1991</td>\n",
       "      <td>Chan, Louis K., Yasushi Hamao, and Josef Lakon...</td>\n",
       "      <td>Fundamentals and stock returns,in Japan,</td>\n",
       "      <td>Journal of Finance 46, 1739-1789.\\n</td>\n",
       "      <td>1739-1789.</td>\n",
       "    </tr>\n",
       "    <tr>\n",
       "      <th>8</th>\n",
       "      <td>1988</td>\n",
       "      <td>Chan, K. C. and Nai-fu Chen,</td>\n",
       "      <td>An unconditional asset-pricing test and the ro...</td>\n",
       "      <td>Journal of Finance 43, 309-325.\\n</td>\n",
       "      <td>309-325.</td>\n",
       "    </tr>\n",
       "    <tr>\n",
       "      <th>9</th>\n",
       "      <td>1991</td>\n",
       "      <td>, and Nai-fu Chen,</td>\n",
       "      <td>Structural and return characteristics of small...</td>\n",
       "      <td>Journal of Finance 46, 1467-1484.\\n</td>\n",
       "      <td>1467-1484.</td>\n",
       "    </tr>\n",
       "    <tr>\n",
       "      <th>10</th>\n",
       "      <td>1985</td>\n",
       "      <td>, Nai-fu Chen, and David A. Hsieh,</td>\n",
       "      <td>An exploratory investigation of the firm size,...</td>\n",
       "      <td>Journal of Financial Economics 14, 451-471.\\n</td>\n",
       "      <td>451-471.</td>\n",
       "    </tr>\n",
       "    <tr>\n",
       "      <th>11</th>\n",
       "      <td>1986</td>\n",
       "      <td>Chen, Nai-fu, Richard Roll, and Stephen A. Ross,</td>\n",
       "      <td>Economic forces and the stock market,,</td>\n",
       "      <td>Journal of Business 56, 383-403.\\n</td>\n",
       "      <td>383-403.</td>\n",
       "    </tr>\n",
       "    <tr>\n",
       "      <th>12</th>\n",
       "      <td>1985</td>\n",
       "      <td>DeBondt, Werner F. M., and Richard H. Thaler,</td>\n",
       "      <td>Does the stock market overreact,</td>\n",
       "      <td>Journal\\n,of Finance 40, 557-581.\\n</td>\n",
       "      <td>557-581.</td>\n",
       "    </tr>\n",
       "    <tr>\n",
       "      <th>13</th>\n",
       "      <td>1979</td>\n",
       "      <td>Dimson, Elroy,</td>\n",
       "      <td>Risk measurement when shares are subject to in...</td>\n",
       "      <td>Journal\\n,of Financial Economics 7, 197-226.\\n</td>\n",
       "      <td>197-226.</td>\n",
       "    </tr>\n",
       "    <tr>\n",
       "      <th>14</th>\n",
       "      <td>1976</td>\n",
       "      <td>Fama, Eugene F.,</td>\n",
       "      <td>Foundations of Finance (Basic Books, New York).</td>\n",
       "      <td>0</td>\n",
       "      <td></td>\n",
       "    </tr>\n",
       "    <tr>\n",
       "      <th>15</th>\n",
       "      <td>1973</td>\n",
       "      <td>, and James MacBeth,</td>\n",
       "      <td>Risk, return and equilibrium: Empirical tests,</td>\n",
       "      <td>Journal of\\n,Political Economy 81, 607-636.\\n</td>\n",
       "      <td>607-636.</td>\n",
       "    </tr>\n",
       "    <tr>\n",
       "      <th>16</th>\n",
       "      <td>1983</td>\n",
       "      <td>Fowler, David J. and C. Harvey Rorke,</td>\n",
       "      <td>Risk measurement when shares are subject to,in...</td>\n",
       "      <td>Journal of Financial Economics 12, 279-283.\\n</td>\n",
       "      <td>279-283.</td>\n",
       "    </tr>\n",
       "    <tr>\n",
       "      <th>17</th>\n",
       "      <td>1989</td>\n",
       "      <td>Jaffe, Jeffrey, Donald B. Keim, and Randolph W...</td>\n",
       "      <td>Earnings yields, market values,,and stock retu...</td>\n",
       "      <td>Journal of Finance 44, 135-148.\\n,Keim, Donald...</td>\n",
       "      <td>135-148.</td>\n",
       "    </tr>\n",
       "    <tr>\n",
       "      <th>18</th>\n",
       "      <td>1988</td>\n",
       "      <td>,</td>\n",
       "      <td>Stock market regularities: A synthesis of the ...</td>\n",
       "      <td>Journal of Banking and Finance 10, 115-132.\\n</td>\n",
       "      <td>115-132.</td>\n",
       "    </tr>\n",
       "    <tr>\n",
       "      <th>19</th>\n",
       "      <td>1965</td>\n",
       "      <td>Lintner, John,</td>\n",
       "      <td>The valuation of risk assets and the selection...</td>\n",
       "      <td>0</td>\n",
       "      <td>13-37.</td>\n",
       "    </tr>\n",
       "    <tr>\n",
       "      <th>20</th>\n",
       "      <td>1959</td>\n",
       "      <td>Markowitz, Harry,</td>\n",
       "      <td>Portfolio Selection: Efficient Diversification...</td>\n",
       "      <td>0</td>\n",
       "      <td></td>\n",
       "    </tr>\n",
       "    <tr>\n",
       "      <th>21</th>\n",
       "      <td>1973</td>\n",
       "      <td>Merton, Robert C.,</td>\n",
       "      <td>An intertemporal capital asset pricing model, ...</td>\n",
       "      <td>0</td>\n",
       "      <td>867-887.</td>\n",
       "    </tr>\n",
       "    <tr>\n",
       "      <th>22</th>\n",
       "      <td>1981</td>\n",
       "      <td>Reinganum, Marc R.,</td>\n",
       "      <td>A new empirical perspective on the CAPM,</td>\n",
       "      <td>Journal of Financial and\\n,Quantitative Analys...</td>\n",
       "      <td>439-462.</td>\n",
       "    </tr>\n",
       "    <tr>\n",
       "      <th>23</th>\n",
       "      <td>1983</td>\n",
       "      <td>Roll, Richard,</td>\n",
       "      <td>Vas ist Das? The turn-of-the-year effect and t...</td>\n",
       "      <td>Journal of Portfolio Management 9, 18-28.\\n</td>\n",
       "      <td>18-28.</td>\n",
       "    </tr>\n",
       "    <tr>\n",
       "      <th>24</th>\n",
       "      <td>1985</td>\n",
       "      <td>Rosenberg, Barr, Kenneth Reid, and Ronald Lans...</td>\n",
       "      <td>Persuasive evidence of market,inefficiency,</td>\n",
       "      <td>Journal of Portfolio Management 11, 9-17.\\n</td>\n",
       "      <td>9-17.</td>\n",
       "    </tr>\n",
       "    <tr>\n",
       "      <th>25</th>\n",
       "      <td>1976</td>\n",
       "      <td>Ross, Stephen A.,</td>\n",
       "      <td>The arbitrage theory of capital asset pricing,</td>\n",
       "      <td>Journal of Economic\\n,Theory 13, 341-360.\\n</td>\n",
       "      <td>341-360.</td>\n",
       "    </tr>\n",
       "    <tr>\n",
       "      <th>26</th>\n",
       "      <td>1964</td>\n",
       "      <td>Sharpe, William F.,</td>\n",
       "      <td>Capital asset prices: a theory of market equil...</td>\n",
       "      <td>Journal of Finance 19, 425-442.\\n</td>\n",
       "      <td>425-442.</td>\n",
       "    </tr>\n",
       "    <tr>\n",
       "      <th>27</th>\n",
       "      <td>1982</td>\n",
       "      <td>Stambaugh, Robert F.,</td>\n",
       "      <td>On the exclusion of assets from tests of the t...</td>\n",
       "      <td>Journal of Financial Economics 10, 237-268.\\n</td>\n",
       "      <td>237-268.</td>\n",
       "    </tr>\n",
       "    <tr>\n",
       "      <th>28</th>\n",
       "      <td>1980</td>\n",
       "      <td>Stattman, Dennis,</td>\n",
       "      <td>Book values and stock returns, The Chicago MBA...</td>\n",
       "      <td>Journal of Selected\\n,Papers 4, 25-45.\\n,\\n</td>\n",
       "      <td>25-45.</td>\n",
       "    </tr>\n",
       "  </tbody>\n",
       "</table>\n",
       "</div>"
      ],
      "text/plain": [
       "   when_is_issued                                       who_is_issue  \\\n",
       "0            1992  Alford, Andrew, Jennifer J. Jones, and Mark E....   \n",
       "1            1978                                        Ball, Ray,    \n",
       "2            1981                                    Banz, Rolf W.,    \n",
       "3            1983                                     Basu, Sanjoy,    \n",
       "4            1988                            Bhandari, Laxmi Chand,    \n",
       "5            1972                                   Black, Fischer,    \n",
       "6            1972             Michael C. Jensen, and Myron Scholes,    \n",
       "7            1991  Chan, Louis K., Yasushi Hamao, and Josef Lakon...   \n",
       "8            1988                      Chan, K. C. and Nai-fu Chen,    \n",
       "9            1991                                , and Nai-fu Chen,    \n",
       "10           1985                , Nai-fu Chen, and David A. Hsieh,    \n",
       "11           1986  Chen, Nai-fu, Richard Roll, and Stephen A. Ross,    \n",
       "12           1985     DeBondt, Werner F. M., and Richard H. Thaler,    \n",
       "13           1979                                    Dimson, Elroy,    \n",
       "14           1976                                  Fama, Eugene F.,    \n",
       "15           1973                              , and James MacBeth,    \n",
       "16           1983             Fowler, David J. and C. Harvey Rorke,    \n",
       "17           1989  Jaffe, Jeffrey, Donald B. Keim, and Randolph W...   \n",
       "18           1988                                                 ,    \n",
       "19           1965                                    Lintner, John,    \n",
       "20           1959                                 Markowitz, Harry,    \n",
       "21           1973                                Merton, Robert C.,    \n",
       "22           1981                               Reinganum, Marc R.,    \n",
       "23           1983                                    Roll, Richard,    \n",
       "24           1985  Rosenberg, Barr, Kenneth Reid, and Ronald Lans...   \n",
       "25           1976                                 Ross, Stephen A.,    \n",
       "26           1964                               Sharpe, William F.,    \n",
       "27           1982                             Stambaugh, Robert F.,    \n",
       "28           1980                                 Stattman, Dennis,    \n",
       "\n",
       "                                           paper_name  \\\n",
       "0   Extensions and violations of,the statutory SEC...   \n",
       "1   Anomalies in relationships between securities'...   \n",
       "2   The relationship between return and market val...   \n",
       "3   The relationship between earnings yield, marke...   \n",
       "4   Debt/Equity ratio and expected common stock re...   \n",
       "5   Capital market equilibrium with restricted bor...   \n",
       "6   The capital asset pricing model: some,empirica...   \n",
       "7           Fundamentals and stock returns,in Japan,    \n",
       "8   An unconditional asset-pricing test and the ro...   \n",
       "9   Structural and return characteristics of small...   \n",
       "10  An exploratory investigation of the firm size,...   \n",
       "11             Economic forces and the stock market,,   \n",
       "12                  Does the stock market overreact,    \n",
       "13  Risk measurement when shares are subject to in...   \n",
       "14    Foundations of Finance (Basic Books, New York).   \n",
       "15    Risk, return and equilibrium: Empirical tests,    \n",
       "16  Risk measurement when shares are subject to,in...   \n",
       "17  Earnings yields, market values,,and stock retu...   \n",
       "18  Stock market regularities: A synthesis of the ...   \n",
       "19  The valuation of risk assets and the selection...   \n",
       "20  Portfolio Selection: Efficient Diversification...   \n",
       "21  An intertemporal capital asset pricing model, ...   \n",
       "22          A new empirical perspective on the CAPM,    \n",
       "23  Vas ist Das? The turn-of-the-year effect and t...   \n",
       "24       Persuasive evidence of market,inefficiency,    \n",
       "25    The arbitrage theory of capital asset pricing,    \n",
       "26  Capital asset prices: a theory of market equil...   \n",
       "27  On the exclusion of assets from tests of the t...   \n",
       "28  Book values and stock returns, The Chicago MBA...   \n",
       "\n",
       "                                         journal_word journal_code  \n",
       "0                                                   0               \n",
       "1        Journal of Financial Economics 6, 103-126.\\n     103-126.  \n",
       "2           Journal of Financial Economics 9, 3-18.\\n        3-18.  \n",
       "3       Journal of Financial Economics 12, 129-156.\\n     129-156.  \n",
       "4                   Journal of Finance 43, 507-528.\\n     507-528.  \n",
       "5   Journal of Business\\n,45, 444-455.\\n,\n",
       "The Cros...     444-455.  \n",
       "6                                                   0               \n",
       "7                 Journal of Finance 46, 1739-1789.\\n   1739-1789.  \n",
       "8                   Journal of Finance 43, 309-325.\\n     309-325.  \n",
       "9                 Journal of Finance 46, 1467-1484.\\n   1467-1484.  \n",
       "10      Journal of Financial Economics 14, 451-471.\\n     451-471.  \n",
       "11                 Journal of Business 56, 383-403.\\n     383-403.  \n",
       "12                Journal\\n,of Finance 40, 557-581.\\n     557-581.  \n",
       "13     Journal\\n,of Financial Economics 7, 197-226.\\n     197-226.  \n",
       "14                                                  0               \n",
       "15      Journal of\\n,Political Economy 81, 607-636.\\n     607-636.  \n",
       "16      Journal of Financial Economics 12, 279-283.\\n     279-283.  \n",
       "17  Journal of Finance 44, 135-148.\\n,Keim, Donald...     135-148.  \n",
       "18      Journal of Banking and Finance 10, 115-132.\\n     115-132.  \n",
       "19                                                  0       13-37.  \n",
       "20                                                  0               \n",
       "21                                                  0     867-887.  \n",
       "22  Journal of Financial and\\n,Quantitative Analys...     439-462.  \n",
       "23        Journal of Portfolio Management 9, 18-28.\\n       18-28.  \n",
       "24        Journal of Portfolio Management 11, 9-17.\\n        9-17.  \n",
       "25        Journal of Economic\\n,Theory 13, 341-360.\\n     341-360.  \n",
       "26                  Journal of Finance 19, 425-442.\\n     425-442.  \n",
       "27      Journal of Financial Economics 10, 237-268.\\n     237-268.  \n",
       "28        Journal of Selected\\n,Papers 4, 25-45.\\n,\\n       25-45.  "
      ]
     },
     "execution_count": 60,
     "metadata": {},
     "output_type": "execute_result"
    }
   ],
   "source": [
    "df"
   ]
  },
  {
   "cell_type": "code",
   "execution_count": 47,
   "metadata": {
    "collapsed": false,
    "scrolled": true
   },
   "outputs": [
    {
     "data": {
      "text/plain": [
       "['Alford, Andrew, Jennifer J. Jones, and Mark E. Zmijewski, 1992, Extensions and violations of\\n',\n",
       " 'the statutory SEC Form 10-K filing date, Unpublished manuscript, University of Chicago,\\n',\n",
       " 'Chicago, IL.\\n',\n",
       " \"Ball, Ray, 1978, Anomalies in relationships between securities' yields and yield-surrogates,\\n\",\n",
       " 'Journal of Financial Economics 6, 103-126.\\n',\n",
       " 'Banz, Rolf W., 1981, The relationship between return and market value of common stocks,\\n',\n",
       " 'Journal of Financial Economics 9, 3-18.\\n',\n",
       " 'Basu, Sanjoy, 1983, The relationship between earnings yield, market value, and return for\\n',\n",
       " 'NYSE common stocks: Further evidence, Journal of Financial Economics 12, 129-156.\\n',\n",
       " 'Bhandari, Laxmi Chand, 1988, Debt/Equity ratio and expected common stock returns: Empirical\\n',\n",
       " 'evidence, Journal of Finance 43, 507-528.\\n',\n",
       " 'Black, Fischer, 1972, Capital market equilibrium with restricted borrowing, Journal of Business\\n',\n",
       " '45, 444-455.\\n',\n",
       " '\\x0cThe Cross-Section of Expected Stock Returns\\n',\n",
       " '\\n',\n",
       " '465\\n',\n",
       " '\\n',\n",
       " 'Michael C. Jensen, and Myron Scholes, 1972, The capital asset pricing model: some\\n',\n",
       " 'empirical tests, in M. Jensen, ed.: Studies in the Theory of Capital Markets (Praeger).\\n',\n",
       " 'Chan, Louis K., Yasushi Hamao, and Josef Lakonishok, 1991, Fundamentals and stock returns\\n',\n",
       " 'in Japan, Journal of Finance 46, 1739-1789.\\n',\n",
       " 'Chan, K. C. and Nai-fu Chen, 1988, An unconditional asset-pricing test and the role of firm size\\n',\n",
       " 'as an instrumental variable for risk, Journal of Finance 43, 309-325.\\n',\n",
       " ', and Nai-fu Chen, 1991, Structural and return characteristics of small and large firms,\\n',\n",
       " 'Journal of Finance 46, 1467-1484.\\n',\n",
       " ', Nai-fu Chen, and David A. Hsieh, 1985, An exploratory investigation of the firm size\\n',\n",
       " 'effect, Journal of Financial Economics 14, 451-471.\\n',\n",
       " 'Chen, Nai-fu, Richard Roll, and Stephen A. Ross, 1986, Economic forces and the stock market,\\n',\n",
       " 'Journal of Business 56, 383-403.\\n',\n",
       " 'DeBondt, Werner F. M., and Richard H. Thaler, 1985, Does the stock market overreact, Journal\\n',\n",
       " 'of Finance 40, 557-581.\\n',\n",
       " 'Dimson, Elroy, 1979, Risk measurement when shares are subject to infrequent trading, Journal\\n',\n",
       " 'of Financial Economics 7, 197-226.\\n',\n",
       " 'Fama, Eugene F., 1976, Foundations of Finance (Basic Books, New York).\\n',\n",
       " ', and James MacBeth, 1973, Risk, return and equilibrium: Empirical tests, Journal of\\n',\n",
       " 'Political Economy 81, 607-636.\\n',\n",
       " 'Fowler, David J. and C. Harvey Rorke, 1983, Risk measurement when shares are subject to\\n',\n",
       " 'infrequent trading: Comment, Journal of Financial Economics 12, 279-283.\\n',\n",
       " 'Jaffe, Jeffrey, Donald B. Keim, and Randolph Westerfield, 1989, Earnings yields, market values,\\n',\n",
       " 'and stock returns, Journal of Finance 44, 135-148.\\n',\n",
       " 'Keim, Donald B., 1983, Size-related anomalies and stock return seasonality, Journal of Financial Economics 12, 13-32.\\n',\n",
       " ', 1988, Stock market regularities: A synthesis of the evidence and explanations, in Elroy\\n',\n",
       " 'Dimson, ed.: Stock Market Anomalies (Cambridge University Press, Cambridge).\\n',\n",
       " 'Lakonishok, Josef, and Alan C. Shapiro, 1986, Systematic risk, total risk and size as determinants of stock market returns, Journal of Banking and Finance 10, 115-132.\\n',\n",
       " 'Lintner, John, 1965, The valuation of risk assets and the selection of risky investments in stock\\n',\n",
       " 'portfolios and capital budgets, Review of Economics and Statistics 47, 13-37.\\n',\n",
       " 'Markowitz, Harry, 1959, Portfolio Selection: Efficient Diversification of Investments (Wiley, New\\n',\n",
       " 'York).\\n',\n",
       " 'Merton, Robert C., 1973, An intertemporal capital asset pricing model, Econometrica 41,\\n',\n",
       " '867-887.\\n',\n",
       " 'Reinganum, Marc R., 1981, A new empirical perspective on the CAPM, Journal of Financial and\\n',\n",
       " 'Quantitative Analysis 16, 439-462.\\n',\n",
       " 'Roll, Richard, 1983, Vas ist Das? The turn-of-the-year effect and the return premia of small\\n',\n",
       " 'firms, Journal of Portfolio Management 9, 18-28.\\n',\n",
       " 'Rosenberg, Barr, Kenneth Reid, and Ronald Lanstein, 1985, Persuasive evidence of market\\n',\n",
       " 'inefficiency, Journal of Portfolio Management 11, 9-17.\\n',\n",
       " 'Ross, Stephen A., 1976, The arbitrage theory of capital asset pricing, Journal of Economic\\n',\n",
       " 'Theory 13, 341-360.\\n',\n",
       " 'Sharpe, William F., 1964, Capital asset prices: a theory of market equilibrium under conditions\\n',\n",
       " 'of risk, Journal of Finance 19, 425-442.\\n',\n",
       " 'Stambaugh, Robert F., 1982, On the exclusion of assets from tests of the two-parameter model: A\\n',\n",
       " 'sensitivity analysis, Journal of Financial Economics 10, 237-268.\\n',\n",
       " 'Stattman, Dennis, 1980, Book values and stock returns, The Chicago MBA: A Journal of Selected\\n',\n",
       " 'Papers 4, 25-45.\\n',\n",
       " '\\n']"
      ]
     },
     "execution_count": 47,
     "metadata": {},
     "output_type": "execute_result"
    }
   ],
   "source": [
    "references"
   ]
  }
 ],
 "metadata": {
  "kernelspec": {
   "display_name": "Python 3",
   "language": "python",
   "name": "python3"
  },
  "language_info": {
   "codemirror_mode": {
    "name": "ipython",
    "version": 3
   },
   "file_extension": ".py",
   "mimetype": "text/x-python",
   "name": "python",
   "nbconvert_exporter": "python",
   "pygments_lexer": "ipython3",
   "version": "3.6.0"
  }
 },
 "nbformat": 4,
 "nbformat_minor": 2
}
