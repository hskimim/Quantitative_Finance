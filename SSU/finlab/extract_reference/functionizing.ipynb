{
 "cells": [
  {
   "cell_type": "code",
   "execution_count": 3,
   "metadata": {
    "collapsed": true
   },
   "outputs": [],
   "source": [
    "import io\n",
    "import re\n",
    " \n",
    "from pdfminer.converter import TextConverter\n",
    "from pdfminer.pdfinterp import PDFPageInterpreter\n",
    "from pdfminer.pdfinterp import PDFResourceManager\n",
    "from pdfminer.pdfpage import PDFPage\n",
    " \n",
    "def extract_text_from_pdf(pdf_path):\n",
    "    resource_manager = PDFResourceManager()\n",
    "    fake_file_handle = io.StringIO()\n",
    "    converter = TextConverter(resource_manager, fake_file_handle)\n",
    "    page_interpreter = PDFPageInterpreter(resource_manager, converter)\n",
    " \n",
    "    with open(pdf_path, 'rb') as fh:\n",
    "        for page in PDFPage.get_pages(fh, \n",
    "                                      caching=True,\n",
    "                                      check_extractable=True):\n",
    "            page_interpreter.process_page(page)\n",
    " \n",
    "        text = fake_file_handle.getvalue()\n",
    " \n",
    "    # close open handles\n",
    "    converter.close()\n",
    "    fake_file_handle.close()\n",
    " \n",
    "    if text:\n",
    "        return text"
   ]
  },
  {
   "cell_type": "code",
   "execution_count": 4,
   "metadata": {
    "collapsed": true
   },
   "outputs": [],
   "source": [
    "file = extract_text_from_pdf('09800627.pdf')"
   ]
  },
  {
   "cell_type": "code",
   "execution_count": 83,
   "metadata": {
    "collapsed": false
   },
   "outputs": [],
   "source": [
    "def make_references(start,end):\n",
    "    references = file[re.search(start,file).end():re.search(end,file).end()+1]\n",
    "    return references"
   ]
  },
  {
   "cell_type": "code",
   "execution_count": 84,
   "metadata": {
    "collapsed": false
   },
   "outputs": [
    {
     "data": {
      "text/plain": [
       "6222"
      ]
     },
     "execution_count": 84,
     "metadata": {},
     "output_type": "execute_result"
    }
   ],
   "source": [
    "references = make_references('참 고 문 헌','SSRN')\n",
    "len(references)"
   ]
  },
  {
   "cell_type": "code",
   "execution_count": 48,
   "metadata": {
    "collapsed": false
   },
   "outputs": [],
   "source": [
    "references = file[re.search('참 고 문 헌',file).end():re.search('SSRN',file).end()+1]"
   ]
  },
  {
   "cell_type": "code",
   "execution_count": 49,
   "metadata": {
    "collapsed": false,
    "scrolled": true
   },
   "outputs": [
    {
     "data": {
      "text/plain": [
       "'김성민, 장용원, “현금배당과 자사주매입의 선택에 관한 연구 : 현금흐름의 지속성을 중심으로,” ｢선물연구｣, 24, 2, 2016, 591-617.손삼호, 황세운, 빈기범, “한국 주식시장에서 장기소비 위험 모형의 유효성과 경기변동에 대한 시사점,” ｢선물연구｣, 20, 3, 2012, 265-295.윤보현, 최영민, “한국 주식시장에서의 대안 인덱스 투자전략 연구,” ｢선물연구｣, 22, 2, 2014, 285-308.Bansal, R., R. F. Dittmar, and C. T. Lundblad, “Consumption, dividends, and the cross section of equity returns,” The Journal of Finance, 60, 4, 2005, 1639-1672.Bansal, R., R. F. Dittmar, and D. Kiku, “Cointegration and consumption risks in asset returns,” The Review of Financial Studies, 22, 3, 2009, 1343-1375.Bansal, R. and A. Yaron, “Risks for the long run : A potential resolution of asset pricing puzzles,” The Journal of Finance, 59, 4, 2004, 1481-1509.Banz, R. W., “The Relationship Between Return and Market Value of Common Stocks,” Journal of Financial Economics, 9, 1, 1981, 3-18.Basu, S., “Investment performance of common stocks in relation to their price-earnings ratios : A test of the efficient market hypothesis,” The Journal of Finance, 32, 3, 1977, 663-682.Breeden, D., “An lntertemporal asset pricing model with stochastic investment and con-sumption opportunities,” Journal of Financial Economics, 6, 1979, 273-296.Campbell, J. Y., “Asset prices, consumption, and the business cycle,” Handbook of Macro-economics, 1, C, 1999, 1231-1303.Campbell, J. Y., “Asset pricing at the millennium,” The Journal of Finance, 55, 4, 2000, 1515-1567.Campbell, J. Y. and A. S. Kyle, “Smart money, noise trading and stock price behaviour,” The Review of Economic Studies, 60, 1, 1993, 1-34.Campbell, J. Y. and R. J. Shiller, “The dividend-price ratio and expectations of future dividends and discount factors,” The Review of Financial Studies, 1, 3, 1988, 195-228.Carhart, M. M., “On Persistence in Mutual Fund Performance,” Journal of Finance, 52, 1, 1997, 57-82.\\x0c현금흐름 위험 기반 KOSPI 수익률 횡단면 연구341Cohen, R. B., C. Polk, and T. Vuolteenaho, “The price is (almost) right,” The Journal of Finance, 64, 6, 2009, 2739-2782.Da, Z., “Cash flow, consumption risk, and the cross-section of stock returns,” The Journal of Finance, 64, 2, 2009, 923-956.Daniel, K. D. and D. A. Marshall, “Consumption-based modeling of long-horizon returns,” Technical report, 1998, Federal Reserve Bank of Chicago.De Bondt, W. F. M. and R. Thaler, “Does the stock market overreact?,” The Journal of Finance, 40, 3, 1985, 793-805.De Long, J. B., A. Shleifer, L. H. Summers, and R. J. Waldmann, “Noise trader risk in financial markets,” Journal of Political Economy, 98, 4, 1990, 703-738.Dechow, P. M., R. G. Sloan, and M. T. Soliman, “Implied equity duration : A new measure of equity risk,” Review of Accounting Studies, 9, 2-3, 2004, 197-228.Epstein, L. G. and S. E. Zin, “Substitution, risk aversion, and the temporal behavior of consumption,” Econometrica, 57, 4, 1989, 937-969.Fama, E. F., “Efficient capital markets : II,” The Journal of Finance, 46, 5, 1991, 1575-1617.Fama, E. F. and J. D. MacBeth, “Risk, return, and equilibrium : Empirical tests,” Journal of Political Economy, 81, 3, 1973, 607-636.Fama, E. F. and K. R. French, “Dividend yields and expected stock returns,” Journal of Financial Economics, 22, 1, 1988, 3-25.Fama, E. F. and K. R. French, “Business conditions and expected returns on stocks and bonds,” Journal of Financial Economics, 25, 1, 1989, 23-49.Fama, E. F. and K. R. French, “The cross-section of expected stock returns,” The Journal of Finance, 47, 2, 1992, 427-465.Fama, E. F. and K. R. French, “Common risk factors in the returns on stocks and bonds,” Journal of Financial Economics, 33, 1, 1993, 3-56.Fama, E. F. and K. R. French, “Multifactor explanations of asset pricing anomalies,” The Journal of Finance, 51, 1, 1996, 55-84.Fama, E. F. and K. R. French, “The corporate cost of capital and the return on corporate investment,” The Journal of Finance, 54, 6, 1999, 1939-1967.Grullon, G. and R. Michaely, “Dividends, share repurchases, and the substitution hypothesis,” The Journal of Finance, 57, 4, 2002, 1649-1684.Hansen, L. P., J. C. Heaton, and N. Li, “Consumption strikes back? measuring long-run \\x0c문성제․송준혁342risk,” Journal of Political Economy, 116, 2, 2008, 260-302.Jagannathan, R. and Y. Wang, “Lazy investors, discretionary consumption, and the cross- section of stock returns,” The Journal of Finance, 62, 4, 2007, 1623-1661.Jegadeesh, N. and S. Titman, “Returns to buying winners and selling losers : Implications for stock market efficiency,” The Journal of Finance, 48, 1, 1993, 65-91.Lettau, M. and J. A. Wachter, “Why is long-horizon equity less risky? a duration-based explanation of the value premium,” The Journal of Finance, 62, 1, 2007, 55-92.Lettau, M. and S. Ludvigson, “Resurrecting the (c)capm: A cross-sectional test when risk premia are time-varying,” Journal of Political Economy, 109, 6, 2001, 1238-1287.Lintner, J., “Security prices, risk, and maximal gains from diversification,” The Journal of Finance, 20, 4, 1965, 587-615.Lucas Jr., R. E., “Asset prices in an exchange economy,” Econometrica, 46, 6, 1978, 1429-1445.Menzly, L., T. Santos, and P. Veronesi, “Understanding predictability,” Journal of Political Economy, 112, 1, 2004, 1-47.Newey, W. K. and K. D. West, “Hypothesis testing with efficient method of moments estimation,” International Economic Review, 28, 1987, 777-787.Parker, J. A. and C. Julliard, “Consumption risk and the cross section of expected returns,” Journal of Political Economy, 113, 1, 2005, 185-222.Rubinstein, M., “The Valuation of Uncertain Income Streams and the Pricing of Options,” The Bell Journal of Economics, 7, 1976, 407-425. Santos, T. and P. Veronesi, “Conditional betas,” Technical report, 2004, National Bureau of Economic Research.Shanken, J., “Multivariate tests of the zero-beta CAPM,” Journal of Financial Economics, 14, 3, 1985, 327-348.Sharpe, W. F., “Capital asset prices : A theory of market equilibrium under conditions of risk,” The Journal of Finance, 19, 3, 1964, 425-442.Shiller R. J., S. Fischer, and B. M. Friedman, “Stock Prices and Social Dynamics,” Brookings Papers on Economic Activity, 2, 1984, 457-510Shumway, T., “The delisting bias in CRSP data,” The Journal of Finance, 52, 1, 1997, 327-340.Vuolteenaho, T., “Understanding the aggregate book-to-market ratio,” 1999, SSRN.'"
      ]
     },
     "execution_count": 49,
     "metadata": {},
     "output_type": "execute_result"
    }
   ],
   "source": [
    "references"
   ]
  },
  {
   "cell_type": "code",
   "execution_count": 86,
   "metadata": {
    "collapsed": true
   },
   "outputs": [],
   "source": [
    "def make_new_references(references):\n",
    "    code_ls = re.findall('[0-9]+[-][0-9]+',references)\n",
    "    \n",
    "    start_idx , end_idx =[],[]\n",
    "    for i,val in enumerate(code_ls):\n",
    "        start_idx.append(references.find(code_ls[i]))\n",
    "        end_idx.append(references.find(code_ls[i]) + len(val))\n",
    "    \n",
    "    new_references = []\n",
    "    for idx,val in enumerate(end_idx):\n",
    "        if idx == 0: new_references.append(references[:val])\n",
    "        else : new_references.append(references[end_idx[idx-1]:val])\n",
    "            \n",
    "    return new_references"
   ]
  },
  {
   "cell_type": "code",
   "execution_count": 89,
   "metadata": {
    "collapsed": false
   },
   "outputs": [
    {
     "data": {
      "text/plain": [
       "45"
      ]
     },
     "execution_count": 89,
     "metadata": {},
     "output_type": "execute_result"
    }
   ],
   "source": [
    "new_references = make_new_references(references=references)\n",
    "len(new_references)"
   ]
  },
  {
   "cell_type": "code",
   "execution_count": 68,
   "metadata": {
    "collapsed": false,
    "scrolled": true
   },
   "outputs": [],
   "source": [
    "code_ls = re.findall('[0-9]+[-][0-9]+',references)"
   ]
  },
  {
   "cell_type": "code",
   "execution_count": 69,
   "metadata": {
    "collapsed": false
   },
   "outputs": [
    {
     "data": {
      "text/plain": [
       "(45, 45)"
      ]
     },
     "execution_count": 69,
     "metadata": {},
     "output_type": "execute_result"
    }
   ],
   "source": [
    "start_idx , end_idx =[],[]\n",
    "for i,val in enumerate(code_ls):\n",
    "    start_idx.append(references.find(code_ls[i]))\n",
    "    end_idx.append(references.find(code_ls[i]) + len(val))\n",
    "len(start_idx) , len(end_idx)"
   ]
  },
  {
   "cell_type": "code",
   "execution_count": 70,
   "metadata": {
    "collapsed": true
   },
   "outputs": [],
   "source": [
    "new_references = []\n",
    "for idx,val in enumerate(end_idx):\n",
    "    if idx == 0: new_references.append(references[:val])\n",
    "    else : new_references.append(references[end_idx[idx-1]:val])"
   ]
  },
  {
   "cell_type": "code",
   "execution_count": 71,
   "metadata": {
    "collapsed": false,
    "scrolled": true
   },
   "outputs": [
    {
     "data": {
      "text/plain": [
       "['김성민, 장용원, “현금배당과 자사주매입의 선택에 관한 연구 : 현금흐름의 지속성을 중심으로,” ｢선물연구｣, 24, 2, 2016, 591-617',\n",
       " '.손삼호, 황세운, 빈기범, “한국 주식시장에서 장기소비 위험 모형의 유효성과 경기변동에 대한 시사점,” ｢선물연구｣, 20, 3, 2012, 265-295',\n",
       " '.윤보현, 최영민, “한국 주식시장에서의 대안 인덱스 투자전략 연구,” ｢선물연구｣, 22, 2, 2014, 285-308',\n",
       " '.Bansal, R., R. F. Dittmar, and C. T. Lundblad, “Consumption, dividends, and the cross section of equity returns,” The Journal of Finance, 60, 4, 2005, 1639-1672',\n",
       " '.Bansal, R., R. F. Dittmar, and D. Kiku, “Cointegration and consumption risks in asset returns,” The Review of Financial Studies, 22, 3, 2009, 1343-1375',\n",
       " '.Bansal, R. and A. Yaron, “Risks for the long run : A potential resolution of asset pricing puzzles,” The Journal of Finance, 59, 4, 2004, 1481-1509',\n",
       " '.Banz, R. W., “The Relationship Between Return and Market Value of Common Stocks,” Journal of Financial Economics, 9, 1, 1981, 3-18',\n",
       " '.Basu, S., “Investment performance of common stocks in relation to their price-earnings ratios : A test of the efficient market hypothesis,” The Journal of Finance, 32, 3, 1977, 663-682',\n",
       " '.Breeden, D., “An lntertemporal asset pricing model with stochastic investment and con-sumption opportunities,” Journal of Financial Economics, 6, 1979, 273-296',\n",
       " '.Campbell, J. Y., “Asset prices, consumption, and the business cycle,” Handbook of Macro-economics, 1, C, 1999, 1231-1303',\n",
       " '.Campbell, J. Y., “Asset pricing at the millennium,” The Journal of Finance, 55, 4, 2000, 1515-1567',\n",
       " '.Campbell, J. Y. and A. S. Kyle, “Smart money, noise trading and stock price behaviour,” The Review of Economic Studies, 60, 1, 1993, 1-34',\n",
       " '.Campbell, J. Y. and R. J. Shiller, “The dividend-price ratio and expectations of future dividends and discount factors,” The Review of Financial Studies, 1, 3, 1988, 195-228',\n",
       " '.Carhart, M. M., “On Persistence in Mutual Fund Performance,” Journal of Finance, 52, 1, 1997, 57-82',\n",
       " '.\\x0c현금흐름 위험 기반 KOSPI 수익률 횡단면 연구341Cohen, R. B., C. Polk, and T. Vuolteenaho, “The price is (almost) right,” The Journal of Finance, 64, 6, 2009, 2739-2782',\n",
       " '.Da, Z., “Cash flow, consumption risk, and the cross-section of stock returns,” The Journal of Finance, 64, 2, 2009, 923-956',\n",
       " '.Daniel, K. D. and D. A. Marshall, “Consumption-based modeling of long-horizon returns,” Technical report, 1998, Federal Reserve Bank of Chicago.De Bondt, W. F. M. and R. Thaler, “Does the stock market overreact?,” The Journal of Finance, 40, 3, 1985, 793-805',\n",
       " '.De Long, J. B., A. Shleifer, L. H. Summers, and R. J. Waldmann, “Noise trader risk in financial markets,” Journal of Political Economy, 98, 4, 1990, 703-738',\n",
       " '.Dechow, P. M., R. G. Sloan, and M. T. Soliman, “Implied equity duration : A new measure of equity risk,” Review of Accounting Studies, 9, 2-3',\n",
       " ', 2004, 197-228',\n",
       " '.Epstein, L. G. and S. E. Zin, “Substitution, risk aversion, and the temporal behavior of consumption,” Econometrica, 57, 4, 1989, 937-969',\n",
       " '.Fama, E. F., “Efficient capital markets : II,” The Journal of Finance, 46, 5, 1991, 1575-1617',\n",
       " '.Fama, E. F. and J. D. MacBeth, “Risk, return, and equilibrium : Empirical tests,” Journal of Political Economy, 81, 3, 1973, 607-636',\n",
       " '.Fama, E. F. and K. R. French, “Dividend yields and expected stock returns,” Journal of Financial Economics, 22, 1, 1988, 3-25',\n",
       " '.Fama, E. F. and K. R. French, “Business conditions and expected returns on stocks and bonds,” Journal of Financial Economics, 25, 1, 1989, 23-49',\n",
       " '.Fama, E. F. and K. R. French, “The cross-section of expected stock returns,” The Journal of Finance, 47, 2, 1992, 427-465',\n",
       " '.Fama, E. F. and K. R. French, “Common risk factors in the returns on stocks and bonds,” Journal of Financial Economics, 33, 1, 1993, 3-56',\n",
       " '.Fama, E. F. and K. R. French, “Multifactor explanations of asset pricing anomalies,” The Journal of Finance, 51, 1, 1996, 55-84',\n",
       " '.Fama, E. F. and K. R. French, “The corporate cost of capital and the return on corporate investment,” The Journal of Finance, 54, 6, 1999, 1939-1967',\n",
       " '.Grullon, G. and R. Michaely, “Dividends, share repurchases, and the substitution hypothesis,” The Journal of Finance, 57, 4, 2002, 1649-1684',\n",
       " '.Hansen, L. P., J. C. Heaton, and N. Li, “Consumption strikes back? measuring long-run \\x0c문성제․송준혁342risk,” Journal of Political Economy, 116, 2, 2008, 260-302',\n",
       " '.Jagannathan, R. and Y. Wang, “Lazy investors, discretionary consumption, and the cross- section of stock returns,” The Journal of Finance, 62, 4, 2007, 1623-1661',\n",
       " '.Jegadeesh, N. and S. Titman, “Returns to buying winners and selling losers : Implications for stock market efficiency,” The Journal of Finance, 48, 1, 1993, 65-91',\n",
       " '.Lettau, M. and J. A. Wachter, “Why is long-horizon equity less risky? a duration-based explanation of the value premium,” The Journal of Finance, 62, 1, 2007, 55-92',\n",
       " '.Lettau, M. and S. Ludvigson, “Resurrecting the (c)capm: A cross-sectional test when risk premia are time-varying,” Journal of Political Economy, 109, 6, 2001, 1238-1287',\n",
       " '.Lintner, J., “Security prices, risk, and maximal gains from diversification,” The Journal of Finance, 20, 4, 1965, 587-615',\n",
       " '.Lucas Jr., R. E., “Asset prices in an exchange economy,” Econometrica, 46, 6, 1978, 1429-1445',\n",
       " '.Menzly, L., T. Santos, and P. Veronesi, “Understanding predictability,” Journal of Political Economy, 112, 1, 2004, 1-47',\n",
       " '.Newey, W. K. and K. D. West, “Hypothesis testing with efficient method of moments estimation,” International Economic Review, 28, 1987, 777-787',\n",
       " '.Parker, J. A. and C. Julliard, “Consumption risk and the cross section of expected returns,” Journal of Political Economy, 113, 1, 2005, 185-222',\n",
       " '.Rubinstein, M., “The Valuation of Uncertain Income Streams and the Pricing of Options,” The Bell Journal of Economics, 7, 1976, 407-425',\n",
       " '. Santos, T. and P. Veronesi, “Conditional betas,” Technical report, 2004, National Bureau of Economic Research.Shanken, J., “Multivariate tests of the zero-beta CAPM,” Journal of Financial Economics, 14, 3, 1985, 327-348',\n",
       " '.Sharpe, W. F., “Capital asset prices : A theory of market equilibrium under conditions of risk,” The Journal of Finance, 19, 3, 1964, 425-442',\n",
       " '.Shiller R. J., S. Fischer, and B. M. Friedman, “Stock Prices and Social Dynamics,” Brookings Papers on Economic Activity, 2, 1984, 457-510',\n",
       " 'Shumway, T., “The delisting bias in CRSP data,” The Journal of Finance, 52, 1, 1997, 327-340']"
      ]
     },
     "execution_count": 71,
     "metadata": {},
     "output_type": "execute_result"
    }
   ],
   "source": [
    "new_references"
   ]
  },
  {
   "cell_type": "code",
   "execution_count": 90,
   "metadata": {
    "collapsed": true
   },
   "outputs": [],
   "source": [
    "def make_idx(new_references):\n",
    "    person_idx = []\n",
    "    for idx,val in enumerate(new_references):\n",
    "        person_idx.append(val[:val.find('“')])\n",
    "    \n",
    "    journal_idx = []\n",
    "    for idx,val in enumerate(new_references):\n",
    "        journal_idx.append(val[val.find('”')+1:])\n",
    "        \n",
    "    year_ls = []\n",
    "    for idx,val in enumerate(new_references):\n",
    "        if re.findall('20[0-9]{2}',val) or re.findall('19[0-9]{2}',val) != []:\n",
    "            year_ls.append((re.findall('20[0-9]{2}',val) or re.findall('19[0-9]{2}',val))[0])\n",
    "        else : year_ls.append('0')\n",
    "            \n",
    "    df = pd.DataFrame()\n",
    "    df['person'] = person_idx\n",
    "    df['journal'] = journal_idx\n",
    "    df['year'] = year_ls\n",
    "    df['code'] = code_ls\n",
    "    \n",
    "    return df"
   ]
  },
  {
   "cell_type": "code",
   "execution_count": 91,
   "metadata": {
    "collapsed": true
   },
   "outputs": [],
   "source": [
    "df = make_idx(new_references=new_references)"
   ]
  },
  {
   "cell_type": "code",
   "execution_count": 72,
   "metadata": {
    "collapsed": false
   },
   "outputs": [
    {
     "data": {
      "text/plain": [
       "45"
      ]
     },
     "execution_count": 72,
     "metadata": {},
     "output_type": "execute_result"
    }
   ],
   "source": [
    "person_idx = []\n",
    "for idx,val in enumerate(new_references):\n",
    "    person_idx.append(val[:val.find('“')])\n",
    "len(person_idx)"
   ]
  },
  {
   "cell_type": "code",
   "execution_count": 73,
   "metadata": {
    "collapsed": false,
    "scrolled": true
   },
   "outputs": [
    {
     "data": {
      "text/plain": [
       "['김성민, 장용원, ',\n",
       " '.손삼호, 황세운, 빈기범, ',\n",
       " '.윤보현, 최영민, ',\n",
       " '.Bansal, R., R. F. Dittmar, and C. T. Lundblad, ',\n",
       " '.Bansal, R., R. F. Dittmar, and D. Kiku, ',\n",
       " '.Bansal, R. and A. Yaron, ',\n",
       " '.Banz, R. W., ',\n",
       " '.Basu, S., ',\n",
       " '.Breeden, D., ',\n",
       " '.Campbell, J. Y., ',\n",
       " '.Campbell, J. Y., ',\n",
       " '.Campbell, J. Y. and A. S. Kyle, ',\n",
       " '.Campbell, J. Y. and R. J. Shiller, ',\n",
       " '.Carhart, M. M., ',\n",
       " '.\\x0c현금흐름 위험 기반 KOSPI 수익률 횡단면 연구341Cohen, R. B., C. Polk, and T. Vuolteenaho, ',\n",
       " '.Da, Z., ',\n",
       " '.Daniel, K. D. and D. A. Marshall, ',\n",
       " '.De Long, J. B., A. Shleifer, L. H. Summers, and R. J. Waldmann, ',\n",
       " '.Dechow, P. M., R. G. Sloan, and M. T. Soliman, ',\n",
       " ', 2004, 197-22',\n",
       " '.Epstein, L. G. and S. E. Zin, ',\n",
       " '.Fama, E. F., ',\n",
       " '.Fama, E. F. and J. D. MacBeth, ',\n",
       " '.Fama, E. F. and K. R. French, ',\n",
       " '.Fama, E. F. and K. R. French, ',\n",
       " '.Fama, E. F. and K. R. French, ',\n",
       " '.Fama, E. F. and K. R. French, ',\n",
       " '.Fama, E. F. and K. R. French, ',\n",
       " '.Fama, E. F. and K. R. French, ',\n",
       " '.Grullon, G. and R. Michaely, ',\n",
       " '.Hansen, L. P., J. C. Heaton, and N. Li, ',\n",
       " '.Jagannathan, R. and Y. Wang, ',\n",
       " '.Jegadeesh, N. and S. Titman, ',\n",
       " '.Lettau, M. and J. A. Wachter, ',\n",
       " '.Lettau, M. and S. Ludvigson, ',\n",
       " '.Lintner, J., ',\n",
       " '.Lucas Jr., R. E., ',\n",
       " '.Menzly, L., T. Santos, and P. Veronesi, ',\n",
       " '.Newey, W. K. and K. D. West, ',\n",
       " '.Parker, J. A. and C. Julliard, ',\n",
       " '.Rubinstein, M., ',\n",
       " '. Santos, T. and P. Veronesi, ',\n",
       " '.Sharpe, W. F., ',\n",
       " '.Shiller R. J., S. Fischer, and B. M. Friedman, ',\n",
       " 'Shumway, T., ']"
      ]
     },
     "execution_count": 73,
     "metadata": {},
     "output_type": "execute_result"
    }
   ],
   "source": [
    "person_idx"
   ]
  },
  {
   "cell_type": "code",
   "execution_count": 74,
   "metadata": {
    "collapsed": false
   },
   "outputs": [
    {
     "data": {
      "text/plain": [
       "45"
      ]
     },
     "execution_count": 74,
     "metadata": {},
     "output_type": "execute_result"
    }
   ],
   "source": [
    "journal_idx = []\n",
    "for idx,val in enumerate(new_references):\n",
    "    journal_idx.append(val[val.find('”')+1:])\n",
    "len(journal_idx)"
   ]
  },
  {
   "cell_type": "code",
   "execution_count": 75,
   "metadata": {
    "collapsed": false
   },
   "outputs": [
    {
     "data": {
      "text/plain": [
       "45"
      ]
     },
     "execution_count": 75,
     "metadata": {},
     "output_type": "execute_result"
    }
   ],
   "source": [
    "year_ls = []\n",
    "for idx,val in enumerate(new_references):\n",
    "    if re.findall('20[0-9]{2}',val) or re.findall('19[0-9]{2}',val) != []:\n",
    "        year_ls.append((re.findall('20[0-9]{2}',val) or re.findall('19[0-9]{2}',val))[0])\n",
    "    else : year_ls.append('0')\n",
    "len(year_ls)"
   ]
  },
  {
   "cell_type": "code",
   "execution_count": 76,
   "metadata": {
    "collapsed": false,
    "scrolled": true
   },
   "outputs": [
    {
     "data": {
      "text/plain": [
       "45"
      ]
     },
     "execution_count": 76,
     "metadata": {},
     "output_type": "execute_result"
    }
   ],
   "source": [
    "len(code_ls)"
   ]
  },
  {
   "cell_type": "code",
   "execution_count": 77,
   "metadata": {
    "collapsed": false
   },
   "outputs": [
    {
     "data": {
      "text/plain": [
       "(45, 45, 45, 45)"
      ]
     },
     "execution_count": 77,
     "metadata": {},
     "output_type": "execute_result"
    }
   ],
   "source": [
    "len(person_idx) ,len(journal_idx) ,len(year_ls) ,len(code_ls)"
   ]
  },
  {
   "cell_type": "code",
   "execution_count": 78,
   "metadata": {
    "collapsed": true
   },
   "outputs": [],
   "source": [
    "import pandas as pd\n",
    "df = pd.DataFrame()\n",
    "df['person'] = person_idx\n",
    "df['journal'] = journal_idx\n",
    "df['year'] = year_ls\n",
    "df['code'] = code_ls"
   ]
  },
  {
   "cell_type": "markdown",
   "metadata": {},
   "source": [
    "### 사전에 정해진 규칙에 따라 데이터 프레임을 형성해주는데, 최종본을 확인하고 직접 수정해준다."
   ]
  },
  {
   "cell_type": "code",
   "execution_count": 79,
   "metadata": {
    "collapsed": true
   },
   "outputs": [],
   "source": [
    "df['person'][14] = df['person'][14][32:]"
   ]
  },
  {
   "cell_type": "code",
   "execution_count": 80,
   "metadata": {
    "collapsed": false,
    "scrolled": true
   },
   "outputs": [
    {
     "data": {
      "text/html": [
       "<div>\n",
       "<table border=\"1\" class=\"dataframe\">\n",
       "  <thead>\n",
       "    <tr style=\"text-align: right;\">\n",
       "      <th></th>\n",
       "      <th>person</th>\n",
       "      <th>journal</th>\n",
       "      <th>year</th>\n",
       "      <th>code</th>\n",
       "    </tr>\n",
       "  </thead>\n",
       "  <tbody>\n",
       "    <tr>\n",
       "      <th>0</th>\n",
       "      <td>김성민, 장용원,</td>\n",
       "      <td>｢선물연구｣, 24, 2, 2016, 591-617</td>\n",
       "      <td>2016</td>\n",
       "      <td>591-617</td>\n",
       "    </tr>\n",
       "    <tr>\n",
       "      <th>1</th>\n",
       "      <td>.손삼호, 황세운, 빈기범,</td>\n",
       "      <td>｢선물연구｣, 20, 3, 2012, 265-295</td>\n",
       "      <td>2012</td>\n",
       "      <td>265-295</td>\n",
       "    </tr>\n",
       "    <tr>\n",
       "      <th>2</th>\n",
       "      <td>.윤보현, 최영민,</td>\n",
       "      <td>｢선물연구｣, 22, 2, 2014, 285-308</td>\n",
       "      <td>2014</td>\n",
       "      <td>285-308</td>\n",
       "    </tr>\n",
       "    <tr>\n",
       "      <th>3</th>\n",
       "      <td>.Bansal, R., R. F. Dittmar, and C. T. Lundblad,</td>\n",
       "      <td>The Journal of Finance, 60, 4, 2005, 1639-1672</td>\n",
       "      <td>2005</td>\n",
       "      <td>1639-1672</td>\n",
       "    </tr>\n",
       "    <tr>\n",
       "      <th>4</th>\n",
       "      <td>.Bansal, R., R. F. Dittmar, and D. Kiku,</td>\n",
       "      <td>The Review of Financial Studies, 22, 3, 2009,...</td>\n",
       "      <td>2009</td>\n",
       "      <td>1343-1375</td>\n",
       "    </tr>\n",
       "    <tr>\n",
       "      <th>5</th>\n",
       "      <td>.Bansal, R. and A. Yaron,</td>\n",
       "      <td>The Journal of Finance, 59, 4, 2004, 1481-1509</td>\n",
       "      <td>2004</td>\n",
       "      <td>1481-1509</td>\n",
       "    </tr>\n",
       "    <tr>\n",
       "      <th>6</th>\n",
       "      <td>.Banz, R. W.,</td>\n",
       "      <td>Journal of Financial Economics, 9, 1, 1981, 3-18</td>\n",
       "      <td>1981</td>\n",
       "      <td>3-18</td>\n",
       "    </tr>\n",
       "    <tr>\n",
       "      <th>7</th>\n",
       "      <td>.Basu, S.,</td>\n",
       "      <td>The Journal of Finance, 32, 3, 1977, 663-682</td>\n",
       "      <td>1977</td>\n",
       "      <td>663-682</td>\n",
       "    </tr>\n",
       "    <tr>\n",
       "      <th>8</th>\n",
       "      <td>.Breeden, D.,</td>\n",
       "      <td>Journal of Financial Economics, 6, 1979, 273-296</td>\n",
       "      <td>1979</td>\n",
       "      <td>273-296</td>\n",
       "    </tr>\n",
       "    <tr>\n",
       "      <th>9</th>\n",
       "      <td>.Campbell, J. Y.,</td>\n",
       "      <td>Handbook of Macro-economics, 1, C, 1999, 1231...</td>\n",
       "      <td>1999</td>\n",
       "      <td>1231-1303</td>\n",
       "    </tr>\n",
       "    <tr>\n",
       "      <th>10</th>\n",
       "      <td>.Campbell, J. Y.,</td>\n",
       "      <td>The Journal of Finance, 55, 4, 2000, 1515-1567</td>\n",
       "      <td>2000</td>\n",
       "      <td>1515-1567</td>\n",
       "    </tr>\n",
       "    <tr>\n",
       "      <th>11</th>\n",
       "      <td>.Campbell, J. Y. and A. S. Kyle,</td>\n",
       "      <td>The Review of Economic Studies, 60, 1, 1993, ...</td>\n",
       "      <td>1993</td>\n",
       "      <td>1-34</td>\n",
       "    </tr>\n",
       "    <tr>\n",
       "      <th>12</th>\n",
       "      <td>.Campbell, J. Y. and R. J. Shiller,</td>\n",
       "      <td>The Review of Financial Studies, 1, 3, 1988, ...</td>\n",
       "      <td>1988</td>\n",
       "      <td>195-228</td>\n",
       "    </tr>\n",
       "    <tr>\n",
       "      <th>13</th>\n",
       "      <td>.Carhart, M. M.,</td>\n",
       "      <td>Journal of Finance, 52, 1, 1997, 57-82</td>\n",
       "      <td>1997</td>\n",
       "      <td>57-82</td>\n",
       "    </tr>\n",
       "    <tr>\n",
       "      <th>14</th>\n",
       "      <td>Cohen, R. B., C. Polk, and T. Vuolteenaho,</td>\n",
       "      <td>The Journal of Finance, 64, 6, 2009, 2739-2782</td>\n",
       "      <td>2009</td>\n",
       "      <td>2739-2782</td>\n",
       "    </tr>\n",
       "    <tr>\n",
       "      <th>15</th>\n",
       "      <td>.Da, Z.,</td>\n",
       "      <td>The Journal of Finance, 64, 2, 2009, 923-956</td>\n",
       "      <td>2009</td>\n",
       "      <td>923-956</td>\n",
       "    </tr>\n",
       "    <tr>\n",
       "      <th>16</th>\n",
       "      <td>.Daniel, K. D. and D. A. Marshall,</td>\n",
       "      <td>Technical report, 1998, Federal Reserve Bank ...</td>\n",
       "      <td>1998</td>\n",
       "      <td>793-805</td>\n",
       "    </tr>\n",
       "    <tr>\n",
       "      <th>17</th>\n",
       "      <td>.De Long, J. B., A. Shleifer, L. H. Summers, a...</td>\n",
       "      <td>Journal of Political Economy, 98, 4, 1990, 70...</td>\n",
       "      <td>1990</td>\n",
       "      <td>703-738</td>\n",
       "    </tr>\n",
       "    <tr>\n",
       "      <th>18</th>\n",
       "      <td>.Dechow, P. M., R. G. Sloan, and M. T. Soliman,</td>\n",
       "      <td>Review of Accounting Studies, 9, 2-3</td>\n",
       "      <td>0</td>\n",
       "      <td>2-3</td>\n",
       "    </tr>\n",
       "    <tr>\n",
       "      <th>19</th>\n",
       "      <td>, 2004, 197-22</td>\n",
       "      <td>, 2004, 197-228</td>\n",
       "      <td>2004</td>\n",
       "      <td>197-228</td>\n",
       "    </tr>\n",
       "    <tr>\n",
       "      <th>20</th>\n",
       "      <td>.Epstein, L. G. and S. E. Zin,</td>\n",
       "      <td>Econometrica, 57, 4, 1989, 937-969</td>\n",
       "      <td>1989</td>\n",
       "      <td>937-969</td>\n",
       "    </tr>\n",
       "    <tr>\n",
       "      <th>21</th>\n",
       "      <td>.Fama, E. F.,</td>\n",
       "      <td>The Journal of Finance, 46, 5, 1991, 1575-1617</td>\n",
       "      <td>1991</td>\n",
       "      <td>1575-1617</td>\n",
       "    </tr>\n",
       "    <tr>\n",
       "      <th>22</th>\n",
       "      <td>.Fama, E. F. and J. D. MacBeth,</td>\n",
       "      <td>Journal of Political Economy, 81, 3, 1973, 60...</td>\n",
       "      <td>1973</td>\n",
       "      <td>607-636</td>\n",
       "    </tr>\n",
       "    <tr>\n",
       "      <th>23</th>\n",
       "      <td>.Fama, E. F. and K. R. French,</td>\n",
       "      <td>Journal of Financial Economics, 22, 1, 1988, ...</td>\n",
       "      <td>1988</td>\n",
       "      <td>3-25</td>\n",
       "    </tr>\n",
       "    <tr>\n",
       "      <th>24</th>\n",
       "      <td>.Fama, E. F. and K. R. French,</td>\n",
       "      <td>Journal of Financial Economics, 25, 1, 1989, ...</td>\n",
       "      <td>1989</td>\n",
       "      <td>23-49</td>\n",
       "    </tr>\n",
       "    <tr>\n",
       "      <th>25</th>\n",
       "      <td>.Fama, E. F. and K. R. French,</td>\n",
       "      <td>The Journal of Finance, 47, 2, 1992, 427-465</td>\n",
       "      <td>1992</td>\n",
       "      <td>427-465</td>\n",
       "    </tr>\n",
       "    <tr>\n",
       "      <th>26</th>\n",
       "      <td>.Fama, E. F. and K. R. French,</td>\n",
       "      <td>Journal of Financial Economics, 33, 1, 1993, ...</td>\n",
       "      <td>1993</td>\n",
       "      <td>3-56</td>\n",
       "    </tr>\n",
       "    <tr>\n",
       "      <th>27</th>\n",
       "      <td>.Fama, E. F. and K. R. French,</td>\n",
       "      <td>The Journal of Finance, 51, 1, 1996, 55-84</td>\n",
       "      <td>1996</td>\n",
       "      <td>55-84</td>\n",
       "    </tr>\n",
       "    <tr>\n",
       "      <th>28</th>\n",
       "      <td>.Fama, E. F. and K. R. French,</td>\n",
       "      <td>The Journal of Finance, 54, 6, 1999, 1939-1967</td>\n",
       "      <td>1999</td>\n",
       "      <td>1939-1967</td>\n",
       "    </tr>\n",
       "    <tr>\n",
       "      <th>29</th>\n",
       "      <td>.Grullon, G. and R. Michaely,</td>\n",
       "      <td>The Journal of Finance, 57, 4, 2002, 1649-1684</td>\n",
       "      <td>2002</td>\n",
       "      <td>1649-1684</td>\n",
       "    </tr>\n",
       "    <tr>\n",
       "      <th>30</th>\n",
       "      <td>.Hansen, L. P., J. C. Heaton, and N. Li,</td>\n",
       "      <td>Journal of Political Economy, 116, 2, 2008, 2...</td>\n",
       "      <td>2008</td>\n",
       "      <td>260-302</td>\n",
       "    </tr>\n",
       "    <tr>\n",
       "      <th>31</th>\n",
       "      <td>.Jagannathan, R. and Y. Wang,</td>\n",
       "      <td>The Journal of Finance, 62, 4, 2007, 1623-1661</td>\n",
       "      <td>2007</td>\n",
       "      <td>1623-1661</td>\n",
       "    </tr>\n",
       "    <tr>\n",
       "      <th>32</th>\n",
       "      <td>.Jegadeesh, N. and S. Titman,</td>\n",
       "      <td>The Journal of Finance, 48, 1, 1993, 65-91</td>\n",
       "      <td>1993</td>\n",
       "      <td>65-91</td>\n",
       "    </tr>\n",
       "    <tr>\n",
       "      <th>33</th>\n",
       "      <td>.Lettau, M. and J. A. Wachter,</td>\n",
       "      <td>The Journal of Finance, 62, 1, 2007, 55-92</td>\n",
       "      <td>2007</td>\n",
       "      <td>55-92</td>\n",
       "    </tr>\n",
       "    <tr>\n",
       "      <th>34</th>\n",
       "      <td>.Lettau, M. and S. Ludvigson,</td>\n",
       "      <td>Journal of Political Economy, 109, 6, 2001, 1...</td>\n",
       "      <td>2001</td>\n",
       "      <td>1238-1287</td>\n",
       "    </tr>\n",
       "    <tr>\n",
       "      <th>35</th>\n",
       "      <td>.Lintner, J.,</td>\n",
       "      <td>The Journal of Finance, 20, 4, 1965, 587-615</td>\n",
       "      <td>1965</td>\n",
       "      <td>587-615</td>\n",
       "    </tr>\n",
       "    <tr>\n",
       "      <th>36</th>\n",
       "      <td>.Lucas Jr., R. E.,</td>\n",
       "      <td>Econometrica, 46, 6, 1978, 1429-1445</td>\n",
       "      <td>1978</td>\n",
       "      <td>1429-1445</td>\n",
       "    </tr>\n",
       "    <tr>\n",
       "      <th>37</th>\n",
       "      <td>.Menzly, L., T. Santos, and P. Veronesi,</td>\n",
       "      <td>Journal of Political Economy, 112, 1, 2004, 1-47</td>\n",
       "      <td>2004</td>\n",
       "      <td>1-47</td>\n",
       "    </tr>\n",
       "    <tr>\n",
       "      <th>38</th>\n",
       "      <td>.Newey, W. K. and K. D. West,</td>\n",
       "      <td>International Economic Review, 28, 1987, 777-787</td>\n",
       "      <td>1987</td>\n",
       "      <td>777-787</td>\n",
       "    </tr>\n",
       "    <tr>\n",
       "      <th>39</th>\n",
       "      <td>.Parker, J. A. and C. Julliard,</td>\n",
       "      <td>Journal of Political Economy, 113, 1, 2005, 1...</td>\n",
       "      <td>2005</td>\n",
       "      <td>185-222</td>\n",
       "    </tr>\n",
       "    <tr>\n",
       "      <th>40</th>\n",
       "      <td>.Rubinstein, M.,</td>\n",
       "      <td>The Bell Journal of Economics, 7, 1976, 407-425</td>\n",
       "      <td>1976</td>\n",
       "      <td>407-425</td>\n",
       "    </tr>\n",
       "    <tr>\n",
       "      <th>41</th>\n",
       "      <td>. Santos, T. and P. Veronesi,</td>\n",
       "      <td>Technical report, 2004, National Bureau of Ec...</td>\n",
       "      <td>2004</td>\n",
       "      <td>327-348</td>\n",
       "    </tr>\n",
       "    <tr>\n",
       "      <th>42</th>\n",
       "      <td>.Sharpe, W. F.,</td>\n",
       "      <td>The Journal of Finance, 19, 3, 1964, 425-442</td>\n",
       "      <td>1964</td>\n",
       "      <td>425-442</td>\n",
       "    </tr>\n",
       "    <tr>\n",
       "      <th>43</th>\n",
       "      <td>.Shiller R. J., S. Fischer, and B. M. Friedman,</td>\n",
       "      <td>Brookings Papers on Economic Activity, 2, 198...</td>\n",
       "      <td>1984</td>\n",
       "      <td>457-510</td>\n",
       "    </tr>\n",
       "    <tr>\n",
       "      <th>44</th>\n",
       "      <td>Shumway, T.,</td>\n",
       "      <td>The Journal of Finance, 52, 1, 1997, 327-340</td>\n",
       "      <td>1997</td>\n",
       "      <td>327-340</td>\n",
       "    </tr>\n",
       "  </tbody>\n",
       "</table>\n",
       "</div>"
      ],
      "text/plain": [
       "                                               person  \\\n",
       "0                                          김성민, 장용원,    \n",
       "1                                    .손삼호, 황세운, 빈기범,    \n",
       "2                                         .윤보현, 최영민,    \n",
       "3    .Bansal, R., R. F. Dittmar, and C. T. Lundblad,    \n",
       "4           .Bansal, R., R. F. Dittmar, and D. Kiku,    \n",
       "5                          .Bansal, R. and A. Yaron,    \n",
       "6                                      .Banz, R. W.,    \n",
       "7                                         .Basu, S.,    \n",
       "8                                      .Breeden, D.,    \n",
       "9                                  .Campbell, J. Y.,    \n",
       "10                                 .Campbell, J. Y.,    \n",
       "11                  .Campbell, J. Y. and A. S. Kyle,    \n",
       "12               .Campbell, J. Y. and R. J. Shiller,    \n",
       "13                                  .Carhart, M. M.,    \n",
       "14        Cohen, R. B., C. Polk, and T. Vuolteenaho,    \n",
       "15                                          .Da, Z.,    \n",
       "16                .Daniel, K. D. and D. A. Marshall,    \n",
       "17  .De Long, J. B., A. Shleifer, L. H. Summers, a...   \n",
       "18   .Dechow, P. M., R. G. Sloan, and M. T. Soliman,    \n",
       "19                                     , 2004, 197-22   \n",
       "20                    .Epstein, L. G. and S. E. Zin,    \n",
       "21                                     .Fama, E. F.,    \n",
       "22                   .Fama, E. F. and J. D. MacBeth,    \n",
       "23                    .Fama, E. F. and K. R. French,    \n",
       "24                    .Fama, E. F. and K. R. French,    \n",
       "25                    .Fama, E. F. and K. R. French,    \n",
       "26                    .Fama, E. F. and K. R. French,    \n",
       "27                    .Fama, E. F. and K. R. French,    \n",
       "28                    .Fama, E. F. and K. R. French,    \n",
       "29                     .Grullon, G. and R. Michaely,    \n",
       "30          .Hansen, L. P., J. C. Heaton, and N. Li,    \n",
       "31                     .Jagannathan, R. and Y. Wang,    \n",
       "32                     .Jegadeesh, N. and S. Titman,    \n",
       "33                    .Lettau, M. and J. A. Wachter,    \n",
       "34                     .Lettau, M. and S. Ludvigson,    \n",
       "35                                     .Lintner, J.,    \n",
       "36                                .Lucas Jr., R. E.,    \n",
       "37          .Menzly, L., T. Santos, and P. Veronesi,    \n",
       "38                     .Newey, W. K. and K. D. West,    \n",
       "39                   .Parker, J. A. and C. Julliard,    \n",
       "40                                  .Rubinstein, M.,    \n",
       "41                     . Santos, T. and P. Veronesi,    \n",
       "42                                   .Sharpe, W. F.,    \n",
       "43   .Shiller R. J., S. Fischer, and B. M. Friedman,    \n",
       "44                                      Shumway, T.,    \n",
       "\n",
       "                                              journal  year       code  \n",
       "0                        ｢선물연구｣, 24, 2, 2016, 591-617  2016    591-617  \n",
       "1                        ｢선물연구｣, 20, 3, 2012, 265-295  2012    265-295  \n",
       "2                        ｢선물연구｣, 22, 2, 2014, 285-308  2014    285-308  \n",
       "3      The Journal of Finance, 60, 4, 2005, 1639-1672  2005  1639-1672  \n",
       "4    The Review of Financial Studies, 22, 3, 2009,...  2009  1343-1375  \n",
       "5      The Journal of Finance, 59, 4, 2004, 1481-1509  2004  1481-1509  \n",
       "6    Journal of Financial Economics, 9, 1, 1981, 3-18  1981       3-18  \n",
       "7        The Journal of Finance, 32, 3, 1977, 663-682  1977    663-682  \n",
       "8    Journal of Financial Economics, 6, 1979, 273-296  1979    273-296  \n",
       "9    Handbook of Macro-economics, 1, C, 1999, 1231...  1999  1231-1303  \n",
       "10     The Journal of Finance, 55, 4, 2000, 1515-1567  2000  1515-1567  \n",
       "11   The Review of Economic Studies, 60, 1, 1993, ...  1993       1-34  \n",
       "12   The Review of Financial Studies, 1, 3, 1988, ...  1988    195-228  \n",
       "13             Journal of Finance, 52, 1, 1997, 57-82  1997      57-82  \n",
       "14     The Journal of Finance, 64, 6, 2009, 2739-2782  2009  2739-2782  \n",
       "15       The Journal of Finance, 64, 2, 2009, 923-956  2009    923-956  \n",
       "16   Technical report, 1998, Federal Reserve Bank ...  1998    793-805  \n",
       "17   Journal of Political Economy, 98, 4, 1990, 70...  1990    703-738  \n",
       "18               Review of Accounting Studies, 9, 2-3     0        2-3  \n",
       "19                                    , 2004, 197-228  2004    197-228  \n",
       "20                 Econometrica, 57, 4, 1989, 937-969  1989    937-969  \n",
       "21     The Journal of Finance, 46, 5, 1991, 1575-1617  1991  1575-1617  \n",
       "22   Journal of Political Economy, 81, 3, 1973, 60...  1973    607-636  \n",
       "23   Journal of Financial Economics, 22, 1, 1988, ...  1988       3-25  \n",
       "24   Journal of Financial Economics, 25, 1, 1989, ...  1989      23-49  \n",
       "25       The Journal of Finance, 47, 2, 1992, 427-465  1992    427-465  \n",
       "26   Journal of Financial Economics, 33, 1, 1993, ...  1993       3-56  \n",
       "27         The Journal of Finance, 51, 1, 1996, 55-84  1996      55-84  \n",
       "28     The Journal of Finance, 54, 6, 1999, 1939-1967  1999  1939-1967  \n",
       "29     The Journal of Finance, 57, 4, 2002, 1649-1684  2002  1649-1684  \n",
       "30   Journal of Political Economy, 116, 2, 2008, 2...  2008    260-302  \n",
       "31     The Journal of Finance, 62, 4, 2007, 1623-1661  2007  1623-1661  \n",
       "32         The Journal of Finance, 48, 1, 1993, 65-91  1993      65-91  \n",
       "33         The Journal of Finance, 62, 1, 2007, 55-92  2007      55-92  \n",
       "34   Journal of Political Economy, 109, 6, 2001, 1...  2001  1238-1287  \n",
       "35       The Journal of Finance, 20, 4, 1965, 587-615  1965    587-615  \n",
       "36               Econometrica, 46, 6, 1978, 1429-1445  1978  1429-1445  \n",
       "37   Journal of Political Economy, 112, 1, 2004, 1-47  2004       1-47  \n",
       "38   International Economic Review, 28, 1987, 777-787  1987    777-787  \n",
       "39   Journal of Political Economy, 113, 1, 2005, 1...  2005    185-222  \n",
       "40    The Bell Journal of Economics, 7, 1976, 407-425  1976    407-425  \n",
       "41   Technical report, 2004, National Bureau of Ec...  2004    327-348  \n",
       "42       The Journal of Finance, 19, 3, 1964, 425-442  1964    425-442  \n",
       "43   Brookings Papers on Economic Activity, 2, 198...  1984    457-510  \n",
       "44       The Journal of Finance, 52, 1, 1997, 327-340  1997    327-340  "
      ]
     },
     "execution_count": 80,
     "metadata": {},
     "output_type": "execute_result"
    }
   ],
   "source": [
    "df"
   ]
  }
 ],
 "metadata": {
  "kernelspec": {
   "display_name": "Python 3",
   "language": "python",
   "name": "python3"
  },
  "language_info": {
   "codemirror_mode": {
    "name": "ipython",
    "version": 3
   },
   "file_extension": ".py",
   "mimetype": "text/x-python",
   "name": "python",
   "nbconvert_exporter": "python",
   "pygments_lexer": "ipython3",
   "version": "3.6.0"
  }
 },
 "nbformat": 4,
 "nbformat_minor": 2
}
