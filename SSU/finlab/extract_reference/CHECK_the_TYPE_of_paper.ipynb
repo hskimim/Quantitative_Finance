{
 "cells": [
  {
   "cell_type": "code",
   "execution_count": 1,
   "metadata": {},
   "outputs": [],
   "source": [
    "import extract_reference_type1 as ref1\n",
    "import re\n",
    "import numpy as np\n",
    "import pandas as pd\n",
    "import os"
   ]
  },
  {
   "cell_type": "code",
   "execution_count": 2,
   "metadata": {},
   "outputs": [
    {
     "data": {
      "text/plain": [
       "([3, 14, 36, 61, 66, 70, 71, 80, 81],\n",
       " ['paper_list/vol29_no4_495.pdf',\n",
       "  'paper_list/vol22_no1_45.pdf',\n",
       "  'paper_list/vol22_no4_33.pdf',\n",
       "  'paper_list/vol13_no2_245.pdf',\n",
       "  'paper_list/vol31_no2_259.pdf',\n",
       "  'paper_list/3302c61a_파생상품학회_옥기율,고광수,김태우.pdf',\n",
       "  'paper_list/vol28_no1_71.pdf',\n",
       "  'paper_list/vol24_no2_411.pdf',\n",
       "  'paper_list/vol27_no4_669.pdf',\n",
       "  'paper_list/00dfa1d7_이재웅.pdf',\n",
       "  'paper_list/2e19689b_연강흠,박순홍,황보라.pdf',\n",
       "  'paper_list/e1bebef5_ELW_LP_변동성활용방안_최영수 외.pdf',\n",
       "  'paper_list/vol27_no3_423.pdf',\n",
       "  'paper_list/35ba61c0_부동산 파생상품 개발을 위한 오피스 가격지수 산정_한양대_류강민.pdf',\n",
       "  'paper_list/cab5858a_23-3_주식형 펀드 보유 주식의 동조화 현상.pdf',\n",
       "  'paper_list/20180725162834_RU.pdf',\n",
       "  'paper_list/vol24_no1_231.pdf',\n",
       "  'paper_list/vol28_no4_589.pdf',\n",
       "  'paper_list/20180810121649_JF.pdf',\n",
       "  'paper_list/vol23_no3_213.pdf',\n",
       "  'paper_list/vol16_no1_269.pdf',\n",
       "  'paper_list/vol23_no2_121.pdf',\n",
       "  'paper_list/vol26_no3_311.pdf',\n",
       "  'paper_list/vol28_no3_351.pdf',\n",
       "  'paper_list/vol23_no3_287.pdf',\n",
       "  'paper_list/vol24_no2_483.pdf',\n",
       "  'paper_list/vol27_no2_333.pdf',\n",
       "  'paper_list/vol28_no2_235.pdf',\n",
       "  'paper_list/vol24_no3_851.pdf',\n",
       "  'paper_list/vol28_no1_109.pdf',\n",
       "  'paper_list/vol26_no2_153.pdf',\n",
       "  'paper_list/vol30_no2_143.pdf',\n",
       "  'paper_list/vol26_no4_485.pdf',\n",
       "  'paper_list/vol30_no3_237.pdf',\n",
       "  'paper_list/vol26_no1_67.pdf',\n",
       "  'paper_list/ee5c195f_전상경,이용석.pdf',\n",
       "  'paper_list/vol25_no4_559.pdf',\n",
       "  'paper_list/vol21_no1_33.pdf',\n",
       "  'paper_list/vol23_no4_405.pdf',\n",
       "  'paper_list/vol26_no3_381.pdf',\n",
       "  'paper_list/vol22_no3_73.pdf',\n",
       "  'paper_list/vol28_no4_625.pdf',\n",
       "  'paper_list/c89ea226_문규현-홍정효-한덕희.pdf',\n",
       "  'paper_list/vol28_no1_135.pdf',\n",
       "  'paper_list/vol25_no1_37.pdf',\n",
       "  'paper_list/vol25_no3_357.pdf',\n",
       "  'paper_list/vol25_no3_451.pdf',\n",
       "  'paper_list/vol28_no2_309.pdf',\n",
       "  'paper_list/vol25_no2_247.pdf',\n",
       "  'paper_list/vol24_no1_275.pdf',\n",
       "  'paper_list/2365cb4b_A study on the forecasting performance of range volatility estimators with nonlinear filters_김은영.pdf',\n",
       "  'paper_list/d2959a36_방두완,박세운,박연우.pdf',\n",
       "  'paper_list/vol27_no4_603.pdf',\n",
       "  'paper_list/abe03a81_황선웅,조영석.pdf',\n",
       "  'paper_list/vol30_no3_361.pdf',\n",
       "  'paper_list/8db98515_김무성-강태훈.pdf',\n",
       "  'paper_list/vol26_no2_251.pdf',\n",
       "  'paper_list/vol24_no2_367.pdf',\n",
       "  'paper_list/vol24_no4_1021.pdf',\n",
       "  'paper_list/vol31_no3_351.pdf',\n",
       "  'paper_list/vol25_no2_203.pdf',\n",
       "  'paper_list/20180810115757_QV.pdf',\n",
       "  'paper_list/db4c1381_박진우,김경순,이진훤.pdf',\n",
       "  'paper_list/vol22_no3_35.pdf',\n",
       "  'paper_list/4602e178_파생상품학회_동조화논문_민성기_한성대.pdf',\n",
       "  'paper_list/vol29_no4_473.pdf',\n",
       "  'paper_list/vol31_no1_1.pdf',\n",
       "  'paper_list/vol24_no3_909.pdf',\n",
       "  'paper_list/vol22_no4_1.pdf',\n",
       "  'paper_list/vol12_no2_281.pdf',\n",
       "  'paper_list/vol23_no2_89.pdf',\n",
       "  'paper_list/vol27_no3_493.pdf',\n",
       "  'paper_list/vol23_no4_437.pdf',\n",
       "  'paper_list/vol22_no2_1.pdf',\n",
       "  'paper_list/1c783328_김병곤,김동욱.pdf',\n",
       "  'paper_list/vol27_no2_177.pdf',\n",
       "  'paper_list/b88bffcb_[최우진,김광문,곽민석].pdf',\n",
       "  'paper_list/vol30_no2_181.pdf',\n",
       "  'paper_list/93338aa4_[최병욱].pdf',\n",
       "  'paper_list/vol25_no1_89.pdf',\n",
       "  'paper_list/vol27_no1_141.pdf',\n",
       "  'paper_list/vol28_no2_195.pdf',\n",
       "  'paper_list/vol23_no2_159.pdf',\n",
       "  'paper_list/vol25_no3_409.pdf',\n",
       "  'paper_list/20180810121509_RT.pdf',\n",
       "  'paper_list/vol29_no4_437.pdf',\n",
       "  'paper_list/9497d1fd_박경서, 변희섭.pdf',\n",
       "  'paper_list/vol26_no3_281.pdf',\n",
       "  'paper_list/vol25_no2_161.pdf',\n",
       "  'paper_list/vol24_no4_1069.pdf',\n",
       "  'paper_list/20180810121046_EZ.pdf',\n",
       "  'paper_list/a4ba1bd2_권택호,박래수,장욱.pdf',\n",
       "  'paper_list/vol27_no4_631.pdf',\n",
       "  'paper_list/vol29_no1_77.pdf',\n",
       "  'paper_list/20180725162729_UB.pdf',\n",
       "  'paper_list/a414a2fd_강윤식,국찬표.pdf',\n",
       "  'paper_list/vol26_no1_101.pdf',\n",
       "  'paper_list/03038650_강소현,강장구,박호경.pdf',\n",
       "  'paper_list/d75a2798_1-1.Cash Holdings for Korean Chaebols Financial Turmoil and Valuation.pdf',\n",
       "  'paper_list/vol27_no2_213.pdf',\n",
       "  'paper_list/855ba021_오세경,박창문.pdf',\n",
       "  'paper_list/def7b0a4_오갑진,임규빈.pdf',\n",
       "  'paper_list/vol22_no1_63.pdf',\n",
       "  'paper_list/vol9_no1_1.pdf',\n",
       "  'paper_list/20180810121046_XT.pdf',\n",
       "  'paper_list/5dce838b_이우백.pdf',\n",
       "  'paper_list/vol28_no3_417.pdf',\n",
       "  'paper_list/vol24_no4_1231.pdf',\n",
       "  'paper_list/vol23_no3_249.pdf',\n",
       "  'paper_list/vol28_no2_163.pdf',\n",
       "  'paper_list/5781a8bc_권택호-정성창.pdf',\n",
       "  'paper_list/vol31_no3_415.pdf',\n",
       "  'paper_list/vol30_no2_103.pdf',\n",
       "  'paper_list/vol27_no1_105.pdf',\n",
       "  'paper_list/5444398f_신민식, 김수은.pdf',\n",
       "  'paper_list/vol29_no1_37.pdf',\n",
       "  'paper_list/vol29_no3_343.pdf',\n",
       "  'paper_list/62ba439e_옥기율,이상구.pdf',\n",
       "  'paper_list/vol24_no4_1175.pdf',\n",
       "  'paper_list/vol24_no3_757.pdf',\n",
       "  'paper_list/dcfcaec9_정성창,이철수, 김영환, 송동엽.pdf',\n",
       "  'paper_list/vol29_no3_377.pdf',\n",
       "  'paper_list/ccd35b72_정진호,조희국,임성묵.pdf',\n",
       "  'paper_list/vol25_no2_293.pdf',\n",
       "  'paper_list/9798ff96_정완호,국찬표.pdf',\n",
       "  'paper_list/vol23_no4_327.pdf',\n",
       "  'paper_list/vol29_no4_521.pdf',\n",
       "  'paper_list/vol30_no3_317.pdf',\n",
       "  'paper_list/vol24_no2_455.pdf',\n",
       "  'paper_list/vol31_no1_39.pdf',\n",
       "  'paper_list/vol31_no3_399.pdf',\n",
       "  'paper_list/vol31_no3_303.pdf',\n",
       "  'paper_list/vol24_no1_167.pdf',\n",
       "  'paper_list/vol27_no2_257.pdf',\n",
       "  'paper_list/vol25_no4_499.pdf',\n",
       "  'paper_list/vol23_no1_55.pdf',\n",
       "  'paper_list/vol24_no2_621.pdf',\n",
       "  'paper_list/0df9bada_파생상품학회_DFM알고리즘_Hyeon-Ohk Bae etc.pdf',\n",
       "  'paper_list/97dd71f6_강태훈,김무성.pdf',\n",
       "  'paper_list/vol29_no3_321.pdf',\n",
       "  'paper_list/vol27_no1_1.pdf',\n",
       "  'paper_list/20180810121649_DH.pdf',\n",
       "  'paper_list/vol21_no3_1.pdf',\n",
       "  'paper_list/vol24_no3_725.pdf',\n",
       "  'paper_list/vol26_no2_183.pdf',\n",
       "  'paper_list/vol31_no1_117.pdf',\n",
       "  'paper_list/vol30_no4_433.pdf',\n",
       "  'paper_list/20180725162834_OQ.pdf',\n",
       "  'paper_list/vol22_no2_71.pdf',\n",
       "  'paper_list/vol28_no1_37.pdf',\n",
       "  'paper_list/vol22_no4_63.pdf',\n",
       "  'paper_list/vol29_no2_265.pdf',\n",
       "  'paper_list/vol28_no3_385.pdf',\n",
       "  'paper_list/vol27_no3_529.pdf',\n",
       "  'paper_list/vol29_no2_193.pdf',\n",
       "  'paper_list/vol18_no2_289.pdf',\n",
       "  'paper_list/vol29_no2_149.pdf',\n",
       "  'paper_list/vol29_no3_425.pdf',\n",
       "  'paper_list/vol24_no3_953.pdf',\n",
       "  'paper_list/vol26_no4_527.pdf',\n",
       "  'paper_list/vol24_no4_1113.pdf',\n",
       "  'paper_list/vol28_no4_551.pdf',\n",
       "  'paper_list/vol10_no1_37.pdf',\n",
       "  'paper_list/vol24_no1_91.pdf',\n",
       "  'paper_list/8eaf46b4_유시용.pdf',\n",
       "  'paper_list/vol29_no1_113.pdf',\n",
       "  'paper_list/vol26_no1_23.pdf',\n",
       "  'paper_list/vol27_no3_383.pdf',\n",
       "  'paper_list/vol24_no2_665.pdf',\n",
       "  'paper_list/vol19_no2_39.pdf',\n",
       "  'paper_list/vol30_no2_217.pdf',\n",
       "  'paper_list/vol27_no1_45.pdf',\n",
       "  'paper_list/vol24_no1_133.pdf',\n",
       "  'paper_list/vol27_no4_709.pdf',\n",
       "  'paper_list/vol22_no3_1.pdf',\n",
       "  'paper_list/vol30_no3_277.pdf',\n",
       "  'paper_list/vol14_no2_49.pdf',\n",
       "  'paper_list/vol22_no1_1.pdf',\n",
       "  'paper_list/20180810115757_KZ.pdf',\n",
       "  'paper_list/vol17_no1_175.pdf',\n",
       "  'paper_list/acea352c_2012_FullPaper75_이우백.pdf',\n",
       "  'paper_list/vol23_no1_27.pdf',\n",
       "  'paper_list/20180810115757_EI.pdf',\n",
       "  'paper_list/vol28_no2_269.pdf',\n",
       "  'paper_list/vol28_no4_667.pdf',\n",
       "  'paper_list/380975ea_김권식,김병준.pdf',\n",
       "  'paper_list/vol24_no4_1153.pdf',\n",
       "  'paper_list/vol28_no3_487.pdf',\n",
       "  'paper_list/vol30_no1_69.pdf',\n",
       "  'paper_list/vol31_no2_221.pdf',\n",
       "  'paper_list/f0ebdfa5_원종연.pdf',\n",
       "  'paper_list/vol26_no2_213.pdf',\n",
       "  'paper_list/vol26_no3_353.pdf',\n",
       "  'paper_list/vol24_no1_41.pdf',\n",
       "  'paper_list/78af1f16_이진호,박영석,최운열.pdf',\n",
       "  'paper_list/vol23_no1_1.pdf',\n",
       "  'paper_list/vol24_no1_1.pdf',\n",
       "  'paper_list/vol25_no1_123.pdf',\n",
       "  'paper_list/vol25_no1_1.pdf',\n",
       "  'paper_list/vol28_no3_453.pdf',\n",
       "  'paper_list/vol25_no4_521.pdf',\n",
       "  'paper_list/vol29_no2_235.pdf',\n",
       "  'paper_list/vol26_no1_1.pdf',\n",
       "  'paper_list/vol29_no1_1.pdf',\n",
       "  'paper_list/vol26_no2_123.pdf',\n",
       "  'paper_list/vol31_no1_83.pdf',\n",
       "  'paper_list/vol11_no1_1.pdf',\n",
       "  'paper_list/vol27_no1_73.pdf',\n",
       "  'paper_list/vol30_no4_479.pdf',\n",
       "  'paper_list/vol27_no2_297.pdf',\n",
       "  'paper_list/vol27_no3_457.pdf',\n",
       "  'paper_list/vol30_no4_395.pdf',\n",
       "  'paper_list/vol30_no4_461.pdf',\n",
       "  'paper_list/20180810121649_SU.pdf',\n",
       "  'paper_list/vol24_no2_525.pdf',\n",
       "  'paper_list/vol28_no1_1.pdf',\n",
       "  'paper_list/20180810120519_HL.pdf'])"
      ]
     },
     "execution_count": 2,
     "metadata": {},
     "output_type": "execute_result"
    }
   ],
   "source": [
    "df1 = list(pd.read_csv('fail_to_make_ref.csv')['fail_to_make_ref'].values)\n",
    "failure_list = list(pd.read_csv('failure_pdf_name.csv')['failure_pdf_name'].values)\n",
    "df1 , failure_list"
   ]
  },
  {
   "cell_type": "code",
   "execution_count": 3,
   "metadata": {},
   "outputs": [],
   "source": [
    "file_path = ['paper_list/' +str(file) for file in os.listdir('paper_list') if '.pdf' in file ]\n",
    "file_path = [file for file in file_path if file not in failure_list] \n",
    "file_path = [file for file in file_path if file not in df1]"
   ]
  },
  {
   "cell_type": "code",
   "execution_count": 17,
   "metadata": {},
   "outputs": [
    {
     "data": {
      "text/plain": [
       "436"
      ]
     },
     "execution_count": 17,
     "metadata": {},
     "output_type": "execute_result"
    }
   ],
   "source": [
    "len(file_path)"
   ]
  },
  {
   "cell_type": "code",
   "execution_count": 18,
   "metadata": {
    "scrolled": true
   },
   "outputs": [
    {
     "name": "stdout",
     "output_type": "stream",
     "text": [
      "paper_list/97283ac1_2012_FullPaper37_이창준.pdf\n"
     ]
    }
   ],
   "source": [
    "path = file_path[np.random.randint(len(file_path)-1)]\n",
    "file_ = ref1.extract_text_from_pdf(path)\n",
    "print(path)"
   ]
  },
  {
   "cell_type": "code",
   "execution_count": 5,
   "metadata": {},
   "outputs": [],
   "source": [
    "def give_me_the_clean_ref (file_): \n",
    "    if '“' in  ref1.make_references(file_) and '”' in  ref1.make_references(file_):\n",
    "        return ref1.make_new_references(file_)"
   ]
  },
  {
   "cell_type": "code",
   "execution_count": 6,
   "metadata": {
    "scrolled": true
   },
   "outputs": [
    {
     "data": {
      "text/markdown": [
       "make_references func is working on..."
      ],
      "text/plain": [
       "<IPython.core.display.Markdown object>"
      ]
     },
     "metadata": {},
     "output_type": "display_data"
    },
    {
     "data": {
      "text/plain": [
       "[' Acharya, V. V., and L. H. Pedersen, 2005, “Asset pricing with liquidity risk,” Journal of Financial Economics 77, 375-410',\n",
       " '.  Amihud, Y., 2002, “Illiquidity and stock returns: cross-section and time-series effects,” Journal of Financial Markets 5, 31-56',\n",
       " '.  Amihud, Y., and H. Mendelson, 1986, “Asset pricing and the bid-ask spread,” Journal of Financial Economics 17, 223-249',\n",
       " '.  Amihud, Y., and H. Mendelson, and L. H. Pedersen, 2005, “Liquidity and asset prices,” Foundations and Trends in Finance 1, 269-364',\n",
       " '.  Baek, J., J. Kang, and K. Park, 2004, “Corporate governance and firm value: Evidence from the Korean financial crisis,” Journal of Financial Economics 71, 265-313',\n",
       " '.  Bekaert, G., C. R. Harvey, and C. Lundblad, 2007, “Liquidity and expected returns: Lessons from emerging markets,” Review of Financial Studies 20, 1783-1831',\n",
       " '.  Berk, J. B., 1995, “A critique of size related anomalies,” Review of Financial Studies 8, 275-286',\n",
       " '.  Brandt, M. W., and L. Wang, 2010, “Measuring the time-varying risk-return relation from the cross-section of equity returns,” Working paper, Duke University.  Chang, R., and A. Velasco, 2001, “A model of financial crises in emerging markets,” Quarterly Journal of Economics 116, 489-517',\n",
       " '.  Choe, H., and C. Yang, 2009, “Liquidity risk and asset returns: The case of the Korean stock market,” Korean Journal of Financial Management 26, 103-139',\n",
       " '.  Chui, A. C. W., S. Titman, and K. C. J. Wei, 2010, “Individualism and momentum around the world,” Journal of Finance 65, 361-392',\n",
       " '. \\x0c24   Cochrane, J. H., 2005, “Asset pricing (revised edition),” Princeton University Press.  Connor, G., and R. A. Korajczyk, 1986, “Performance measurement with the arbitrage pricing theory: A new framework for analysis,” Journal of Financial Economics 15, 373-394',\n",
       " '.  Datar, V. T., N. Y. Naik, and R. Radcliffe, 1998, “Liquidity and stock returns: an alternative test,” Journal of Financial Markets 1, 203-219',\n",
       " '.  DeBondt, W. F. M., and R. Thaler, 1985, “Does the stock market overreact?” Journal of Finance 40, 793-805',\n",
       " '.  Fama, E. F., and K. R. French, 1992, “The cross-section of expected stock returns,” Journal of Finance 47, 427-465',\n",
       " '.  Fama, E. F., and K. R. French, 1993, “Common risk factors in the returns on stocks and bonds,” Journal of financial Economics 33, 3-56',\n",
       " '.  Fama, E. F., and K. R. French, 1996, “Multifactor explanations of asset pricing anomalies,” Journal of Finance 51, 55-84',\n",
       " '.  Gibbons, M. R., S. A. Ross, and J. Shanken, 1989, “A test of the efficiency of a given portfolio,” Econometrica 57, 1121-1152',\n",
       " '.  Hansen, B. E., 2007, “Least squares model averaging,” Econometrica 75, 1175-1189',\n",
       " '.  Harris, L., 1990, “Statistical properties of the Roll serial covariance bid/ask spread estimator,” Journal of Finance 45, 579-590',\n",
       " '.  Hasbrouck, J., 2009, “Trading costs and returns for U.S. equities: Estimating effective costs from daily data,” Journal of Finance 64, 1445-1477',\n",
       " '.  Jegadeesh, N., and S. Titman, 1993, “Returns to buying winners and selling losers: implications for stock market efficiency,” Journal of Finance 48, 65-91',\n",
       " '. \\x0c25   Kim, D., and S. Shin, 2006, “The risk of earnings information uncertainty and the January effect in Korean stock markets,” Asia-Pacific Journal of Financial Studies 35, 71-102',\n",
       " '.  Korajczyk, R. A., and R. Sadka, 2008, “Pricing the commonality across alternative measures of liquidity,” Journal of Financial Economics 87, 45-72',\n",
       " '.  Lam, K. S. K., and L. H. K. Tam, 2011, “Liquidity and asset pricing: Evidence from the Hong Kong stock market,” Journal of Banking & Finance 35, 2217-2230',\n",
       " '.  Lewellen, J., S. Nagel, and J. Shanken, 2010, “A skeptical appraisal of asset pricing tests,” Journal of Financial Economics 96, 175-194',\n",
       " '.  Liu, W., 2006, “A liquidity-augmented capital asset pricing model,” Journal of Financial Economics 82, 631-671',\n",
       " '.  Liu, W., and N. Strong, 2008, “Biases in decomposing holding-period portfolio returns,” Review of Financial Studies 21, 2243-2274',\n",
       " '.  Lo, A., and C. Mackinlay, 1990, “Data snooping biases in tests of financial asset pricing models,” Review of Financial Studies 3, 431-467',\n",
       " '.  Pastor, L., and R. F. Stambaugh, 2003, “Liquidity risk and expected stock returns,” Journal of Political Economy 111, 642-685',\n",
       " '.  Roll, R., 1984, “A simple implicit measure of the effective bid-ask spread in an efficient market,” Journal of Finance 39, 1127-1139',\n",
       " '.  Sadka, R., 2006, “Momentum and post-earnings-announcement drift anomalies: the role of liquidity risk,” Journal of Financial Economics 80, 309-349',\n",
       " '.  Yun, S., B. Ku, Y. Yeom, and J. Hahn, 2009, “The cross-section of stock returns in Korea: An empirical investigation,” Asian Review of Financial Research 22, 1-43']"
      ]
     },
     "execution_count": 6,
     "metadata": {},
     "output_type": "execute_result"
    }
   ],
   "source": [
    "give_me_the_clean_ref(ref1.extract_text_from_pdf('paper_list/97283ac1_2012_FullPaper37_이창준.pdf'))"
   ]
  }
 ],
 "metadata": {
  "kernelspec": {
   "display_name": "Python 3",
   "language": "python",
   "name": "python3"
  },
  "language_info": {
   "codemirror_mode": {
    "name": "ipython",
    "version": 3
   },
   "file_extension": ".py",
   "mimetype": "text/x-python",
   "name": "python",
   "nbconvert_exporter": "python",
   "pygments_lexer": "ipython3",
   "version": "3.6.3"
  }
 },
 "nbformat": 4,
 "nbformat_minor": 2
}
