{
 "cells": [
  {
   "cell_type": "code",
   "execution_count": 1,
   "metadata": {
    "collapsed": true
   },
   "outputs": [],
   "source": [
    "import extract_reference_type1 as ref1\n",
    "import extract_reference_type2 as ref2\n",
    "import re\n",
    "import numpy as np\n",
    "import pandas as pd\n",
    "import os\n",
    "from nameparser import HumanName\n",
    "import nltk"
   ]
  },
  {
   "cell_type": "code",
   "execution_count": 2,
   "metadata": {},
   "outputs": [
    {
     "data": {
      "text/plain": [
       "653"
      ]
     },
     "execution_count": 2,
     "metadata": {},
     "output_type": "execute_result"
    }
   ],
   "source": [
    "df1 = list(pd.read_csv('fail_to_make_ref.csv')['fail_to_make_ref'].values)\n",
    "failure_list = list(pd.read_csv('failure_pdf_name.csv')['failure_pdf_name'].values)\n",
    "file_path1 = ['paper_list/' +str(file) for file in os.listdir('paper_list') if '.pdf' in file ]\n",
    "file_path1 = [file for file in file_path1 if file not in failure_list] \n",
    "file_path1 = [file for file in file_path1 if file not in df1]\n",
    "\n",
    "file_path2 = ['failure_paper_list/' +str(file) for file in os.listdir('failure_paper_list') if '.txt' in file ]\n",
    "file_path2 = [file for file in file_path2 if file not in failure_list] \n",
    "file_path2 = [file for file in file_path2 if file not in df1]\n",
    "\n",
    "file_path = file_path1 + file_path2\n",
    "len(file_path)"
   ]
  },
  {
   "cell_type": "code",
   "execution_count": 3,
   "metadata": {
    "scrolled": true
   },
   "outputs": [
    {
     "name": "stdout",
     "output_type": "stream",
     "text": [
      "type the number : 5\n",
      "paper_list/20180810121649_YB.pdf\n"
     ]
    }
   ],
   "source": [
    "input_ = int(input('type the number : '))\n",
    "path = file_path[input_]\n",
    "file_ = ref1.extract_text_from_pdf(path)\n",
    "print(path)\n",
    "references = (ref1.make_references(file_))"
   ]
  },
  {
   "cell_type": "code",
   "execution_count": 4,
   "metadata": {
    "scrolled": true
   },
   "outputs": [
    {
     "data": {
      "text/plain": [
       "['김영환 정성창 전선애 “외국인 투자자가 국내 유가증권시장 상장기업의 배당행태에 미치는 여향에 대한 연구: 다양한 계량경제모형의 적용” 재무관리연구 제26권 제1호 2009.3 pp. 1-29',\n",
       " '박경서 이은정 “외국인 투자자가 한국기업의 경영 및 지배구조에 미치는 영향” 금융연구 제20권 제2호 2006 pp.73~113',\n",
       " '박현수 “외국인 주식투자가 국내기업의 성장에 미치는 영향” 삼성경제연구소 Issue Paper 2004배재수 황문우 외국인의 주식보유 증가가 상장기업의 배당 및 투자에 미치는 영향 한국은행2006',\n",
       " '.빈기범 조성훈 “외국인 주주가 배당 및 투자 의사결정에 미치는 영향 분석” 한국증권연구원2005',\n",
       " '서병호 은행그룹의 배당성향 추이 및 국제비교 금융포커스 주간 금융브리프 20권 49호 2011.12.17.-12.23 pp. 12-13',\n",
       " '.설원식김수정 “외국인 투자자가 기업의 배당에 미치는 영향” 증권학회지 제35권 제1호 2006 1-40',\n",
       " '.이만우 노준화 “외국인 투자자가 기업에 미친 영향-배당 투자 기부금 및 자기주식 취득을 중심으로-” 세무와 회계저널 제7권 제1호 2006 pp. 7-25이병기 외국인 투자자가 배당 및 R&D 투자에 미치는 영향 한국경제연구원2006',\n",
       " '이지혜 변희섭 2014 “기업의 사회적 책임 활동과 배당행태” 경영학연구 제43권 제2호 2014년 4월 pp. 353-385',\n",
       " '.정성창 전선애 “은행의 소유구조가 대출 및 경영성과에 미치는 영향” 산업경제연구 제27권 제6호 2014년 12월 pp. 2709-2735',\n",
       " '.공정거래원회 규모 기업집단 지정현황 1998년～2007년',\n",
       " '. Abreu and Gulamhussen 2013 “Dividend payouts: Evidence from U.S. banking holding companies in the context of the financial crisis” Journal of Corporate Finance 54-65',\n",
       " '.BCBS 2011 Basel III: a global regulatory framework for more resilient banks and banking systems. Basel Committe on Banking Supervision ().',\n",
       " 'Boldin R. Leggett K. 1995 “Bank dividend policy as a signal of bank quality” Finacial Services Review 4(1) pp. 1-8',\n",
       " 'Collins M. Blackwell D. Sinkey J. 1994 “Financial innovation investment opportunities and corporate policy choices for large bank holding companies” The Financial Review 29(2) pp.223~247',\n",
       " 'De Haas Ralph “In defence of foreign banks” VOX CEPR’s Policy May 2009()De Haas Ralph and Iman van Lelyveld (2006) ‘Foreign banks and credit stability in Central and Eastern Europe. A panel data analysis Journal of Banking & Finance 30 1927-1952',\n",
       " 'Fama E. French K 2001 “Disappearing dividends; changing firm characteristics or lower propensity to pay? Journal of Financial Economics 60 pp.3~43',\n",
       " 'Federal Reserve Board (FRB) 2011 Federal Reserve System 12 CFR Part 225 capital plans. Fed. Regist. 76(231) 74631-74648',\n",
       " ' ().Filbeck G. Mullineaux D. 1993 “Regulatory montoring and the impact of bank holding company dividend changes on equity returns” Financial Review 28(3) pp.403~415',\n",
       " 'Eric Floyd Nan Li and Douglas J. Skinner 2015“Payout policy through the financial crisis: The growth of repurchases and the resilience of dividends” Journal of Financial Economics 118 pp. 299-316',\n",
       " '.Jagannathan M. Stephens V. Weisbach M. 2000 \"Fiancial flexibility and the choice between dividends and stock repurchases\" Journal of Financial Economics 57(3) pp. 355-384',\n",
       " '.Jensen M. 1986 \"Agency costs of free cash flow corporate finance and takeovers\" American Economic Review 76(2) pp. 323-329',\n",
       " '.Jensen G. Lundstrum L. Miller R. 2010 \"What do dividend reductions signal?\"Journal of Corporate Finance 16(5) pp. 736-747',\n",
       " '.John K. Mehran H. QianY. 2010 \"Outside monitoring and CEO compensation in the banking industry\" Journal of Corporate Finance 16(4) pp. 383-399',\n",
       " '.LaPorta R. Lopez-de-Silanes F. Shliefer A. Vishny R.W. 2000 \"Agency problems and dividend policies aroung the word\" Journal of Finance 55 pp. 1-33',\n",
       " '.La Porta Rafael Florencio Lopez-de-Silanes and Andrei Shleifer 1999 \"Corporate ownership around the world\" Journal of Finance 54 471–517.',\n",
       " 'Lapetitm Lepetit Celine Meslier and Leo Indra Wardhana 2017“Reducing agency conflicts through bank dividend payout decisions: the role of opacity and ownership structure” Applied Economics published online: 08 March 2017.Tabias Basse Sebastian Reddemann Johannes-Jorg Riegler J.-Maatthias Graf von der Schulenberg 2014 \"Bank dividend policy and the global financial crisis: Empirical evidence from Europe\" European Journal of Political Economy pp. 525-532',\n",
       " 'Theis J. Duttal A. 2009 “Explanatory factors of bank dividend policy: revisited”Managerial Finance 35(6) pp.501-508',\n",
       " '박경서 이은정 이인무 “국내기업의 배당행태와 투자자의 반응에 관한 연구” 재무연구 제16권 제2호 2003 ',\n",
       " '26.박창균 “외국인 주식투자 비중 확대와 배당 및 투자” 한국개발연구원2005',\n",
       " '.이만우 노준화 “외국인 투자자가 기업에 미친 영향-배당 투자 기부금 및 자기주식 취득을 중심으로-” 세무와 회계저널 제7권 제1호 2006 pp. ',\n",
       " '5이병기 외국인 투자자가 배당 및 R&D 투자에 미치는 영향 한국경제연구원2006']"
      ]
     },
     "execution_count": 4,
     "metadata": {},
     "output_type": "execute_result"
    }
   ],
   "source": [
    "new_references = ref1.make_new_references_new_vers(file_,one_more_tuned=True)\n",
    "new_references = ref1.fine_tuning_the_new_ref(new_references)\n",
    "new_references = ref1.finer_tuning_new_references(new_references)\n",
    "new_references = ref1.fine_tuning_the_new_ref(new_references)\n",
    "new_references"
   ]
  },
  {
   "cell_type": "code",
   "execution_count": 5,
   "metadata": {
    "collapsed": true
   },
   "outputs": [],
   "source": [
    "korean_paper_list , english_paper_list = ref2.divide_kor_eng(new_references)"
   ]
  },
  {
   "cell_type": "code",
   "execution_count": 6,
   "metadata": {
    "collapsed": true,
    "scrolled": true
   },
   "outputs": [],
   "source": [
    "kor_latent_name_list = ref2.latent_name_kor_eng(korean_paper_list,kor=True)\n",
    "eng_latent_name_list = ref2.latent_name_kor_eng(english_paper_list,kor=False)"
   ]
  },
  {
   "cell_type": "code",
   "execution_count": 17,
   "metadata": {},
   "outputs": [
    {
     "data": {
      "text/html": [
       "<div>\n",
       "<style>\n",
       "    .dataframe thead tr:only-child th {\n",
       "        text-align: right;\n",
       "    }\n",
       "\n",
       "    .dataframe thead th {\n",
       "        text-align: left;\n",
       "    }\n",
       "\n",
       "    .dataframe tbody tr th {\n",
       "        vertical-align: top;\n",
       "    }\n",
       "</style>\n",
       "<table border=\"1\" class=\"dataframe\">\n",
       "  <thead>\n",
       "    <tr style=\"text-align: right;\">\n",
       "      <th></th>\n",
       "      <th>paper_list</th>\n",
       "      <th>year</th>\n",
       "      <th>quote</th>\n",
       "      <th>latent_name</th>\n",
       "    </tr>\n",
       "  </thead>\n",
       "  <tbody>\n",
       "    <tr>\n",
       "      <th>0</th>\n",
       "      <td>Abreu and Gulamhussen 2013 “Dividend payouts: ...</td>\n",
       "      <td>2013</td>\n",
       "      <td>“Dividend payouts: Evidence from U.S. banking ...</td>\n",
       "      <td>[Abreu, and, Gulamhussen]</td>\n",
       "    </tr>\n",
       "    <tr>\n",
       "      <th>1</th>\n",
       "      <td>BCBS 2011 Basel III: a global regulatory frame...</td>\n",
       "      <td>2011</td>\n",
       "      <td>0</td>\n",
       "      <td>[BCBS, Basel]</td>\n",
       "    </tr>\n",
       "    <tr>\n",
       "      <th>2</th>\n",
       "      <td>Boldin R. Leggett K. 1995 “Bank dividend polic...</td>\n",
       "      <td>1995</td>\n",
       "      <td>“Bank dividend policy as a signal of bank qual...</td>\n",
       "      <td>[Boldin, R., Leggett]</td>\n",
       "    </tr>\n",
       "    <tr>\n",
       "      <th>3</th>\n",
       "      <td>Collins M. Blackwell D. Sinkey J. 1994 “Financ...</td>\n",
       "      <td>1994</td>\n",
       "      <td>“Financial innovation investment opportunities...</td>\n",
       "      <td>[Collins, M., Blackwell]</td>\n",
       "    </tr>\n",
       "    <tr>\n",
       "      <th>4</th>\n",
       "      <td>De Haas Ralph “In defence of foreign banks” VO...</td>\n",
       "      <td>2009</td>\n",
       "      <td>“In defence of foreign banks”</td>\n",
       "      <td>[De, Haas, Ralph]</td>\n",
       "    </tr>\n",
       "    <tr>\n",
       "      <th>5</th>\n",
       "      <td>Fama E. French K 2001 “Disappearing dividends;...</td>\n",
       "      <td>2001</td>\n",
       "      <td>0</td>\n",
       "      <td>[Fama, E., French]</td>\n",
       "    </tr>\n",
       "    <tr>\n",
       "      <th>6</th>\n",
       "      <td>Federal Reserve Board (FRB) 2011 Federal Reser...</td>\n",
       "      <td>2011</td>\n",
       "      <td>0</td>\n",
       "      <td>[Federal, Reserve, Board]</td>\n",
       "    </tr>\n",
       "    <tr>\n",
       "      <th>7</th>\n",
       "      <td>Filbeck G. Mullineaux D. 1993 “Regulatory mont...</td>\n",
       "      <td>1993</td>\n",
       "      <td>“Regulatory montoring and the impact of bank h...</td>\n",
       "      <td>[Filbeck, G., Mullineaux]</td>\n",
       "    </tr>\n",
       "    <tr>\n",
       "      <th>8</th>\n",
       "      <td>Eric Floyd Nan Li and Douglas J. Skinner 2015“...</td>\n",
       "      <td>2015</td>\n",
       "      <td>“Payout policy through the financial crisis: T...</td>\n",
       "      <td>[Eric, Floyd, Nan]</td>\n",
       "    </tr>\n",
       "    <tr>\n",
       "      <th>9</th>\n",
       "      <td>Jagannathan M. Stephens V. Weisbach M. 2000 \"F...</td>\n",
       "      <td>2000</td>\n",
       "      <td>0</td>\n",
       "      <td>[Jagannathan, M., Stephens]</td>\n",
       "    </tr>\n",
       "    <tr>\n",
       "      <th>10</th>\n",
       "      <td>Jensen M. 1986 \"Agency costs of free cash flow...</td>\n",
       "      <td>1986</td>\n",
       "      <td>0</td>\n",
       "      <td>[Jensen, M.]</td>\n",
       "    </tr>\n",
       "    <tr>\n",
       "      <th>11</th>\n",
       "      <td>Jensen G. Lundstrum L. Miller R. 2010 \"What do...</td>\n",
       "      <td>2010</td>\n",
       "      <td>0</td>\n",
       "      <td>[Jensen, G., Lundstrum]</td>\n",
       "    </tr>\n",
       "    <tr>\n",
       "      <th>12</th>\n",
       "      <td>John K. Mehran H. QianY. 2010 \"Outside monitor...</td>\n",
       "      <td>2010</td>\n",
       "      <td>0</td>\n",
       "      <td>[John, K., Mehran]</td>\n",
       "    </tr>\n",
       "    <tr>\n",
       "      <th>13</th>\n",
       "      <td>LaPorta R. Lopez-de-Silanes F. Shliefer A. Vis...</td>\n",
       "      <td>2000</td>\n",
       "      <td>0</td>\n",
       "      <td>[LaPorta, R., Lopez-de-Silanes]</td>\n",
       "    </tr>\n",
       "    <tr>\n",
       "      <th>14</th>\n",
       "      <td>La Porta Rafael Florencio Lopez-de-Silanes and...</td>\n",
       "      <td>1999</td>\n",
       "      <td>0</td>\n",
       "      <td>[La, Porta, Rafael]</td>\n",
       "    </tr>\n",
       "    <tr>\n",
       "      <th>15</th>\n",
       "      <td>Lapetitm Lepetit Celine Meslier and Leo Indra ...</td>\n",
       "      <td>2017</td>\n",
       "      <td>“Reducing agency conflicts through bank divide...</td>\n",
       "      <td>[Lapetitm, Lepetit, Celine]</td>\n",
       "    </tr>\n",
       "    <tr>\n",
       "      <th>16</th>\n",
       "      <td>Theis J. Duttal A. 2009 “Explanatory factors o...</td>\n",
       "      <td>2009</td>\n",
       "      <td>“Explanatory factors of bank dividend policy: ...</td>\n",
       "      <td>[Theis, J., Duttal]</td>\n",
       "    </tr>\n",
       "  </tbody>\n",
       "</table>\n",
       "</div>"
      ],
      "text/plain": [
       "                                           paper_list  year  \\\n",
       "0   Abreu and Gulamhussen 2013 “Dividend payouts: ...  2013   \n",
       "1   BCBS 2011 Basel III: a global regulatory frame...  2011   \n",
       "2   Boldin R. Leggett K. 1995 “Bank dividend polic...  1995   \n",
       "3   Collins M. Blackwell D. Sinkey J. 1994 “Financ...  1994   \n",
       "4   De Haas Ralph “In defence of foreign banks” VO...  2009   \n",
       "5   Fama E. French K 2001 “Disappearing dividends;...  2001   \n",
       "6   Federal Reserve Board (FRB) 2011 Federal Reser...  2011   \n",
       "7   Filbeck G. Mullineaux D. 1993 “Regulatory mont...  1993   \n",
       "8   Eric Floyd Nan Li and Douglas J. Skinner 2015“...  2015   \n",
       "9   Jagannathan M. Stephens V. Weisbach M. 2000 \"F...  2000   \n",
       "10  Jensen M. 1986 \"Agency costs of free cash flow...  1986   \n",
       "11  Jensen G. Lundstrum L. Miller R. 2010 \"What do...  2010   \n",
       "12  John K. Mehran H. QianY. 2010 \"Outside monitor...  2010   \n",
       "13  LaPorta R. Lopez-de-Silanes F. Shliefer A. Vis...  2000   \n",
       "14  La Porta Rafael Florencio Lopez-de-Silanes and...  1999   \n",
       "15  Lapetitm Lepetit Celine Meslier and Leo Indra ...  2017   \n",
       "16  Theis J. Duttal A. 2009 “Explanatory factors o...  2009   \n",
       "\n",
       "                                                quote  \\\n",
       "0   “Dividend payouts: Evidence from U.S. banking ...   \n",
       "1                                                   0   \n",
       "2   “Bank dividend policy as a signal of bank qual...   \n",
       "3   “Financial innovation investment opportunities...   \n",
       "4                       “In defence of foreign banks”   \n",
       "5                                                   0   \n",
       "6                                                   0   \n",
       "7   “Regulatory montoring and the impact of bank h...   \n",
       "8   “Payout policy through the financial crisis: T...   \n",
       "9                                                   0   \n",
       "10                                                  0   \n",
       "11                                                  0   \n",
       "12                                                  0   \n",
       "13                                                  0   \n",
       "14                                                  0   \n",
       "15  “Reducing agency conflicts through bank divide...   \n",
       "16  “Explanatory factors of bank dividend policy: ...   \n",
       "\n",
       "                        latent_name  \n",
       "0         [Abreu, and, Gulamhussen]  \n",
       "1                     [BCBS, Basel]  \n",
       "2             [Boldin, R., Leggett]  \n",
       "3          [Collins, M., Blackwell]  \n",
       "4                 [De, Haas, Ralph]  \n",
       "5                [Fama, E., French]  \n",
       "6         [Federal, Reserve, Board]  \n",
       "7         [Filbeck, G., Mullineaux]  \n",
       "8                [Eric, Floyd, Nan]  \n",
       "9       [Jagannathan, M., Stephens]  \n",
       "10                     [Jensen, M.]  \n",
       "11          [Jensen, G., Lundstrum]  \n",
       "12               [John, K., Mehran]  \n",
       "13  [LaPorta, R., Lopez-de-Silanes]  \n",
       "14              [La, Porta, Rafael]  \n",
       "15      [Lapetitm, Lepetit, Celine]  \n",
       "16              [Theis, J., Duttal]  "
      ]
     },
     "execution_count": 17,
     "metadata": {},
     "output_type": "execute_result"
    }
   ],
   "source": [
    "make_nltk_df(english_paper_list,kor=False)"
   ]
  }
 ],
 "metadata": {
  "kernelspec": {
   "display_name": "Python 3",
   "language": "python",
   "name": "python3"
  },
  "language_info": {
   "codemirror_mode": {
    "name": "ipython",
    "version": 3
   },
   "file_extension": ".py",
   "mimetype": "text/x-python",
   "name": "python",
   "nbconvert_exporter": "python",
   "pygments_lexer": "ipython3",
   "version": "3.6.3"
  }
 },
 "nbformat": 4,
 "nbformat_minor": 2
}
