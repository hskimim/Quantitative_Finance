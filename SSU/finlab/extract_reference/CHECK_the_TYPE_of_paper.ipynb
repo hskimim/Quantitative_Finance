{
 "cells": [
  {
   "cell_type": "code",
   "execution_count": 1,
   "metadata": {
    "collapsed": true
   },
   "outputs": [],
   "source": [
    "import extract_reference_type1 as ref1\n",
    "import extract_reference_type2 as ref2\n",
    "import re\n",
    "import numpy as np\n",
    "import pandas as pd\n",
    "import os\n",
    "from nameparser import HumanName\n",
    "import nltk"
   ]
  },
  {
   "cell_type": "code",
   "execution_count": 2,
   "metadata": {},
   "outputs": [],
   "source": [
    "df1 = list(pd.read_csv('fail_to_make_ref.csv')['fail_to_make_ref'].values)\n",
    "failure_list = list(pd.read_csv('failure_pdf_name.csv')['failure_pdf_name'].values)\n",
    "file_path1 = ['paper_list/' +str(file) for file in os.listdir('paper_list') if '.pdf' in file ]\n",
    "file_path1 = [file for file in file_path1 if file not in failure_list] \n",
    "file_path1 = [file for file in file_path1 if file not in df1]"
   ]
  },
  {
   "cell_type": "code",
   "execution_count": 3,
   "metadata": {
    "collapsed": true
   },
   "outputs": [],
   "source": [
    "file_path2 = ['failure_paper_list/' +str(file) for file in os.listdir('failure_paper_list') if '.txt' in file ]\n",
    "file_path2 = [file for file in file_path2 if file not in failure_list] \n",
    "file_path2 = [file for file in file_path2 if file not in df1]"
   ]
  },
  {
   "cell_type": "code",
   "execution_count": 4,
   "metadata": {
    "collapsed": true
   },
   "outputs": [],
   "source": [
    "file_path = file_path1 + file_path2"
   ]
  },
  {
   "cell_type": "code",
   "execution_count": 5,
   "metadata": {},
   "outputs": [
    {
     "data": {
      "text/plain": [
       "653"
      ]
     },
     "execution_count": 5,
     "metadata": {},
     "output_type": "execute_result"
    }
   ],
   "source": [
    "len(file_path)"
   ]
  },
  {
   "cell_type": "code",
   "execution_count": 6,
   "metadata": {
    "scrolled": true
   },
   "outputs": [
    {
     "name": "stdout",
     "output_type": "stream",
     "text": [
      "type the number : 0\n",
      "paper_list/aa55ff6f_2-3.Lame Duck Presidency and Stock Returns.pdf\n"
     ]
    }
   ],
   "source": [
    "input_ = int(input('type the number : '))\n",
    "path = file_path[input_]\n",
    "file_ = ref1.extract_text_from_pdf(path)\n",
    "print(path)\n",
    "references = (ref1.make_references(file_))"
   ]
  },
  {
   "cell_type": "code",
   "execution_count": 7,
   "metadata": {
    "scrolled": false
   },
   "outputs": [
    {
     "data": {
      "text/plain": [
       "['Berry C.R. Burden B.C. Howell W.G. 2010. The President and the distribution of federal spending. American Political Science Review Vol 104 No. 4 November 783-799',\n",
       " 'Cooper M.J. Gulen H. Ovtchinnikov A.V. 2010. Corporate political contributions and stock returns. Journal of Finance 65 687-724.',\n",
       " 'Faccio M. 2006. Politically connected firms. American Economic Review 96 369-386.',\n",
       " 'Faccio M. 2010. Differences between politically connected and nonconnected firms: a cross-country analysis Financial Management Autumn 905-929.',\n",
       " 'Faccio M. Masulis R.W. McConnell J.J. 2006. Political connections and corporate bailouts. Journal of Finance 61 2597-2635.',\n",
       " 'Faccio M. Parsley D.C. 2009. Sudden deaths: taking stock of geographic ties. Journal of Financial and Quantitative Analysis 44 683-718.',\n",
       " 'Fisman R. 2001. Estimating the value of political connections. American Economic Review 91 1095-1102.',\n",
       " 'Goldman Eitan Jörg Rocholl and Jongil So 2013 “Politically Connected Boards of Directors and the Allocation of Procurement Contracts” Review of Finance 17 1617-1648.',\n",
       " 'Goldman E. Rocholl J. So J. 2009. Do politically connected boards affect firm value? Review of Financial Studies 22 2331-2360.',\n",
       " 'Hill M.D. Kelly G.W. Van Ness R.A. 2013. Determinants and effects of corporate lobbying Financial Management winter 931-957',\n",
       " ' Kim Chansog (Francis) Christos Pantzalis and Jung Chul Park 2012 Political geography and stock returns: The value and risk implications of proximity to political power Journal of Financial Economics 106 196-228.',\n",
       " 'Mebane W.R. Wawro G.J. 2002. Presidential pork barrel politics. Unpublished working paper Cornell University and Columbia University.',\n",
       " 'Pantzalis Christos and Jung Chul Park 2014 Political interference and stock-price consequences of local bias.Unpublished working paper University of South Florida',\n",
       " 'Shor B. 2006. Presidential power and distributive politics: federal expenditures in the 50 states 001. Unpublished working paper University']"
      ]
     },
     "execution_count": 7,
     "metadata": {},
     "output_type": "execute_result"
    }
   ],
   "source": [
    "new_references = ref1.make_new_references_new_vers(file_,one_more_tuned=True)\n",
    "new_references = ref1.fine_tuning_the_new_ref(new_references)\n",
    "new_references = ref1.finer_tuning_new_references(new_references)\n",
    "new_references = ref1.fine_tuning_the_new_ref(new_references)\n",
    "new_references"
   ]
  }
 ],
 "metadata": {
  "kernelspec": {
   "display_name": "Python 3",
   "language": "python",
   "name": "python3"
  },
  "language_info": {
   "codemirror_mode": {
    "name": "ipython",
    "version": 3
   },
   "file_extension": ".py",
   "mimetype": "text/x-python",
   "name": "python",
   "nbconvert_exporter": "python",
   "pygments_lexer": "ipython3",
   "version": "3.6.3"
  }
 },
 "nbformat": 4,
 "nbformat_minor": 2
}
