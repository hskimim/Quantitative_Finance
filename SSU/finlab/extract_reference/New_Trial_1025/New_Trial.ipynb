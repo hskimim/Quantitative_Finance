{
 "cells": [
  {
   "cell_type": "code",
   "execution_count": 312,
   "metadata": {
    "collapsed": true
   },
   "outputs": [],
   "source": [
    "from selenium import webdriver\n",
    "import time\n",
    "import re\n",
    "import pandas as pd\n",
    "import pickle"
   ]
  },
  {
   "cell_type": "markdown",
   "metadata": {},
   "source": [
    "## 딱 각잡는데까지의 코드"
   ]
  },
  {
   "cell_type": "code",
   "execution_count": 316,
   "metadata": {},
   "outputs": [],
   "source": [
    "pw = pickle.load( open('pw.pickle', 'rb') )"
   ]
  },
  {
   "cell_type": "code",
   "execution_count": 295,
   "metadata": {},
   "outputs": [],
   "source": [
    "url = 'https://www.kci.go.kr/kciportal/main.kci'\n",
    "driver = webdriver.Chrome()\n",
    "driver.get(url)\n",
    "time.sleep(1)\n",
    "driver.set_window_size(5000, 5000)\n",
    "driver.find_element_by_css_selector('#loginType3').click()\n",
    "driver.find_element_by_css_selector('#userID').send_keys('jmanchung')\n",
    "time.sleep(1)\n",
    "driver.find_element_by_css_selector('#userPW').send_keys(pw)\n",
    "driver.find_element_by_css_selector('#mLogin > div > button > img').click()\n",
    "time.sleep(1)\n",
    "driver.find_element_by_css_selector('#gnb > li:nth-child(2) > a > img').click()\n",
    "time.sleep(1)\n",
    "driver.find_element_by_css_selector('#AKCFrm > div > div.head > table > tbody > tr:nth-child(2) > td:nth-child(1) > select').click()\n",
    "driver.find_element_by_css_selector('#AKCFrm > div > div.head > table > tbody > tr:nth-child(2) > td:nth-child(1) > select > option:nth-child(5)').click()\n",
    "driver.find_element_by_css_selector('#AKCFrm > div > div.head > table > tbody > tr:nth-child(2) > td:nth-child(2) > input').send_keys('증권학회지')\n",
    "driver.find_element_by_css_selector('#AKCFrm > div > div.btn_wrap > div > input[type=\"image\"]').click()\n",
    "time.sleep(1)\n",
    "driver.find_element_by_css_selector('#conLeft > div > h4:nth-child(5) > a').click()\n",
    "for k in range(1,10):\n",
    "    driver.find_element_by_css_selector('#pubdt{}'.format(k)).click()\n",
    "driver.find_element_by_css_selector('#faceted_pubdt_list > li.chekReSearch.al_right > a > img').click()\n",
    "time.sleep(1)"
   ]
  },
  {
   "cell_type": "markdown",
   "metadata": {},
   "source": [
    "## 논문 긁어오는 코드 시작"
   ]
  },
  {
   "cell_type": "code",
   "execution_count": 296,
   "metadata": {
    "scrolled": true
   },
   "outputs": [
    {
     "name": "stdout",
     "output_type": "stream",
     "text": [
      "Alert Text: None\n",
      "Message: unexpected alert open: {Alert text : 예기치 않은 에러가 발생했습니다. 지속적인 발생시 관리자에게 문의하시기 바랍니다.}\n",
      "  (Session info: chrome=70.0.3538.67)\n",
      "  (Driver info: chromedriver=2.42.591071 (0b695ff80972cc1a65a5cd643186d2ae582cd4ac),platform=Linux 4.15.0-36-generic x86_64)\n",
      "\n"
     ]
    }
   ],
   "source": [
    "information_list = []\n",
    "references_list = []\n",
    "\n",
    "for page in range(1,1000):\n",
    "    try : \n",
    "        for i in range(1,60+1):\n",
    "            references = []\n",
    "            driver.execute_script('window.scrollTo(100,{});'.format(i*100))\n",
    "            word = driver.find_element_by_css_selector('#poArtiSearList > table > tbody > tr:nth-child({}) > td:nth-child(2) > p'.format(i)).text\n",
    "            if ','.join(re.findall('2009|2010|2011|2012|2013|2014|2015|2016|2017|',word)).replace(',','') :\n",
    "                information_list.append(word)\n",
    "                driver.find_element_by_css_selector('#poArtiSearList > table > tbody > tr:nth-child({}) > td:nth-child(2) > p > label'.format(i)).click()\n",
    "                time.sleep(1)\n",
    "                driver.execute_script('window.scrollTo(100,5000);')\n",
    "                length_ = int(','.join(re.findall('\\d',driver.find_element_by_css_selector('#refeList').text)).replace(',',''))\n",
    "                driver.find_element_by_css_selector('#refeList > img').click()\n",
    "                for j in range(1,length_+1):\n",
    "                    driver.execute_script('window.scrollTo(100,{})'.format(100*j))\n",
    "                    references.append(driver.find_element_by_css_selector('#printArea > div.articleBody > div:nth-child(3) > div > p:nth-child({})'.format(j)).text)\n",
    "                references_list.append(','.join(references))\n",
    "                driver.back()\n",
    "                time.sleep(1)\n",
    "        driver.find_element_by_css_selector('#sBody > div.section > div > div > div > a:nth-child(5) > img').click()\n",
    "        time.sleep(1)\n",
    "    except Exception as e :\n",
    "        print(e)\n",
    "        break"
   ]
  },
  {
   "cell_type": "markdown",
   "metadata": {},
   "source": [
    "# making dataframe"
   ]
  },
  {
   "cell_type": "code",
   "execution_count": 301,
   "metadata": {
    "collapsed": true
   },
   "outputs": [],
   "source": [
    "df = pd.DataFrame(columns=['ref','info'])\n",
    "df['ref'] = references_list\n",
    "df['info'] = information_list\n",
    "df.to_csv('til_359.csv',index=False)"
   ]
  },
  {
   "cell_type": "code",
   "execution_count": 310,
   "metadata": {},
   "outputs": [
    {
     "data": {
      "text/html": [
       "<div>\n",
       "<style>\n",
       "    .dataframe thead tr:only-child th {\n",
       "        text-align: right;\n",
       "    }\n",
       "\n",
       "    .dataframe thead th {\n",
       "        text-align: left;\n",
       "    }\n",
       "\n",
       "    .dataframe tbody tr th {\n",
       "        vertical-align: top;\n",
       "    }\n",
       "</style>\n",
       "<table border=\"1\" class=\"dataframe\">\n",
       "  <thead>\n",
       "    <tr style=\"text-align: right;\">\n",
       "      <th></th>\n",
       "      <th>ref</th>\n",
       "      <th>info</th>\n",
       "    </tr>\n",
       "  </thead>\n",
       "  <tbody>\n",
       "    <tr>\n",
       "      <th>349</th>\n",
       "      <td>1. [학술지(정기간행물)] - 강효석 / 1990 / 기업공개시 공모주 가격결정에...</td>\n",
       "      <td>의무보호예수제도 변천에 따른 실증분석과 이에 근거한 합리적인 방안 도출: 최대주주를...</td>\n",
       "    </tr>\n",
       "    <tr>\n",
       "      <th>350</th>\n",
       "      <td>1. [학술지(정기간행물)] - 강준구 / 2003 / 국내기업 자본조달정책의 효율...</td>\n",
       "      <td>분리형 사모 신주인수권부사채 발행제도의 문제점\\n윤평식 | 한국증권학회 | 한국증권...</td>\n",
       "    </tr>\n",
       "    <tr>\n",
       "      <th>351</th>\n",
       "      <td>1. [학술지(정기간행물)] - 강경훈 / 2011 / 복수평가제도가 신용등급 쇼핑...</td>\n",
       "      <td>국내 회사채 시장의 등급인플레이션 분석\\n한재준 | 강경훈 | 배영수 | 한국증권학...</td>\n",
       "    </tr>\n",
       "    <tr>\n",
       "      <th>352</th>\n",
       "      <td>1. [보고서] - 강윤식 / 2013 / 사외이사 인력뱅크의 활용과 의의 : 2-...</td>\n",
       "      <td>국민연금 주주권 행사의 독립성 및 전문성 확보 방안\\n강윤식 | 위경우 | 한국증권...</td>\n",
       "    </tr>\n",
       "    <tr>\n",
       "      <th>353</th>\n",
       "      <td>1. [학술지(정기간행물)] - 고광수 / 2004 / 투자 주체별 포트폴리오 특성...</td>\n",
       "      <td>상장적격성 실질심사제도와 정보비대칭\\n이포상 | 박진우 | 한국증권학회 | 한국증권...</td>\n",
       "    </tr>\n",
       "    <tr>\n",
       "      <th>354</th>\n",
       "      <td>1. [학술지(정기간행물)] - 안희준 / 2006 / 투자자별 소유지분과 정보비대...</td>\n",
       "      <td>국고채시장의 시장조성활동이 가격발견기능과 유동성에 미치는 영향\\n안희준 | 김학겸 ...</td>\n",
       "    </tr>\n",
       "    <tr>\n",
       "      <th>355</th>\n",
       "      <td>1. [학술지(정기간행물)] - 강윤식 / 2012 / 사외이사의 독립성과 기업가치...</td>\n",
       "      <td>대규모기업집단 소속 상장회사에 대한 내부거래 규제의 실효성\\n김산월 | 연강흠 | ...</td>\n",
       "    </tr>\n",
       "    <tr>\n",
       "      <th>356</th>\n",
       "      <td>1. [학술지(정기간행물)] - 강병호 / 2006 / 투자자 거래활동 유형별 주식...</td>\n",
       "      <td>과세제도 정책 변경으로 인한 프로그램 매매의 영향력 및 투자자 거래행태의 구조적 변...</td>\n",
       "    </tr>\n",
       "    <tr>\n",
       "      <th>357</th>\n",
       "      <td>1. [학술지(정기간행물)] - 구본일 / 2008 / 우리나라 기업의 자본구조에 ...</td>\n",
       "      <td>한국 상장기업의 자본구조에 관한 재고찰: 상충관계이론 VS. 자본조달순위이론\\n이은...</td>\n",
       "    </tr>\n",
       "    <tr>\n",
       "      <th>358</th>\n",
       "      <td>1. [학술지(정기간행물)] - 김세권 / 2011 / 부도위험과 주식수익률 / 한...</td>\n",
       "      <td>신용부도스왑 스프레드에 대한 체계적 위험의 영향\\n박윤정 | 김정무 | 한국증권학회...</td>\n",
       "    </tr>\n",
       "  </tbody>\n",
       "</table>\n",
       "</div>"
      ],
      "text/plain": [
       "                                                   ref  \\\n",
       "349  1. [학술지(정기간행물)] - 강효석 / 1990 / 기업공개시 공모주 가격결정에...   \n",
       "350  1. [학술지(정기간행물)] - 강준구 / 2003 / 국내기업 자본조달정책의 효율...   \n",
       "351  1. [학술지(정기간행물)] - 강경훈 / 2011 / 복수평가제도가 신용등급 쇼핑...   \n",
       "352  1. [보고서] - 강윤식 / 2013 / 사외이사 인력뱅크의 활용과 의의 : 2-...   \n",
       "353  1. [학술지(정기간행물)] - 고광수 / 2004 / 투자 주체별 포트폴리오 특성...   \n",
       "354  1. [학술지(정기간행물)] - 안희준 / 2006 / 투자자별 소유지분과 정보비대...   \n",
       "355  1. [학술지(정기간행물)] - 강윤식 / 2012 / 사외이사의 독립성과 기업가치...   \n",
       "356  1. [학술지(정기간행물)] - 강병호 / 2006 / 투자자 거래활동 유형별 주식...   \n",
       "357  1. [학술지(정기간행물)] - 구본일 / 2008 / 우리나라 기업의 자본구조에 ...   \n",
       "358  1. [학술지(정기간행물)] - 김세권 / 2011 / 부도위험과 주식수익률 / 한...   \n",
       "\n",
       "                                                  info  \n",
       "349  의무보호예수제도 변천에 따른 실증분석과 이에 근거한 합리적인 방안 도출: 최대주주를...  \n",
       "350  분리형 사모 신주인수권부사채 발행제도의 문제점\\n윤평식 | 한국증권학회 | 한국증권...  \n",
       "351  국내 회사채 시장의 등급인플레이션 분석\\n한재준 | 강경훈 | 배영수 | 한국증권학...  \n",
       "352  국민연금 주주권 행사의 독립성 및 전문성 확보 방안\\n강윤식 | 위경우 | 한국증권...  \n",
       "353  상장적격성 실질심사제도와 정보비대칭\\n이포상 | 박진우 | 한국증권학회 | 한국증권...  \n",
       "354  국고채시장의 시장조성활동이 가격발견기능과 유동성에 미치는 영향\\n안희준 | 김학겸 ...  \n",
       "355  대규모기업집단 소속 상장회사에 대한 내부거래 규제의 실효성\\n김산월 | 연강흠 | ...  \n",
       "356  과세제도 정책 변경으로 인한 프로그램 매매의 영향력 및 투자자 거래행태의 구조적 변...  \n",
       "357  한국 상장기업의 자본구조에 관한 재고찰: 상충관계이론 VS. 자본조달순위이론\\n이은...  \n",
       "358  신용부도스왑 스프레드에 대한 체계적 위험의 영향\\n박윤정 | 김정무 | 한국증권학회...  "
      ]
     },
     "execution_count": 310,
     "metadata": {},
     "output_type": "execute_result"
    }
   ],
   "source": [
    "df.tail(10)"
   ]
  },
  {
   "cell_type": "markdown",
   "metadata": {},
   "source": [
    "# more tuning process"
   ]
  },
  {
   "cell_type": "code",
   "execution_count": 304,
   "metadata": {
    "collapsed": true
   },
   "outputs": [],
   "source": [
    "testing_ls = [[j for i in [info.split('|') for info in information_list[idx].split('\\n') ] for j in i] for idx in range(len(information_list))]\n",
    "paper_name_list = [testing_ls[idx][0] for idx in range(len(testing_ls))]\n",
    "name_list = [testing_ls[i][1:idx] for i in range(len(testing_ls)) for idx,val in enumerate(testing_ls[i]) if '증권' in val]\n",
    "name_list = [','.join(name) for name in name_list]"
   ]
  },
  {
   "cell_type": "code",
   "execution_count": 309,
   "metadata": {
    "collapsed": true
   },
   "outputs": [],
   "source": [
    "driver.close()"
   ]
  }
 ],
 "metadata": {
  "kernelspec": {
   "display_name": "Python 3",
   "language": "python",
   "name": "python3"
  },
  "language_info": {
   "codemirror_mode": {
    "name": "ipython",
    "version": 3
   },
   "file_extension": ".py",
   "mimetype": "text/x-python",
   "name": "python",
   "nbconvert_exporter": "python",
   "pygments_lexer": "ipython3",
   "version": "3.6.3"
  }
 },
 "nbformat": 4,
 "nbformat_minor": 2
}
