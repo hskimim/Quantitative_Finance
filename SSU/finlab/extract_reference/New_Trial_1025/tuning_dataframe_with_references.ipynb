{
 "cells": [
  {
   "cell_type": "markdown",
   "metadata": {},
   "source": [
    "### network analysis\n",
    "- 논문 간의 키워드 연관성을 추출해본다.\n",
    "- 키워드로 논문간의 번들을 형성할 수 있다. \n",
    "    - 논문의 트렌드를 형성할 수 있다."
   ]
  },
  {
   "cell_type": "code",
   "execution_count": 14,
   "metadata": {
    "collapsed": true
   },
   "outputs": [],
   "source": [
    "import numpy as np\n",
    "import pandas as pd\n",
    "from IPython.display import display\n",
    "import re"
   ]
  },
  {
   "cell_type": "code",
   "execution_count": 3,
   "metadata": {},
   "outputs": [],
   "source": [
    "df = pd.read_csv('references.csv')"
   ]
  },
  {
   "cell_type": "code",
   "execution_count": 7,
   "metadata": {},
   "outputs": [
    {
     "data": {
      "text/html": [
       "<div>\n",
       "<style>\n",
       "    .dataframe thead tr:only-child th {\n",
       "        text-align: right;\n",
       "    }\n",
       "\n",
       "    .dataframe thead th {\n",
       "        text-align: left;\n",
       "    }\n",
       "\n",
       "    .dataframe tbody tr th {\n",
       "        vertical-align: top;\n",
       "    }\n",
       "</style>\n",
       "<table border=\"1\" class=\"dataframe\">\n",
       "  <thead>\n",
       "    <tr style=\"text-align: right;\">\n",
       "      <th></th>\n",
       "      <th>infor</th>\n",
       "      <th>refer</th>\n",
       "    </tr>\n",
       "  </thead>\n",
       "  <tbody>\n",
       "    <tr>\n",
       "      <th>1457</th>\n",
       "      <td>KOSPI200 옵션전략지수의 성과\\n권순신 | 강병진 | 정재만 | 한국파생상품학...</td>\n",
       "      <td>0</td>\n",
       "    </tr>\n",
       "    <tr>\n",
       "      <th>1458</th>\n",
       "      <td>KRX금시장과 국제금융시장의 상호연관성에 관한 연구 : CME선물시장을 중심으로\\n...</td>\n",
       "      <td>0</td>\n",
       "    </tr>\n",
       "    <tr>\n",
       "      <th>1459</th>\n",
       "      <td>Analytical Approximations of American Call Opt...</td>\n",
       "      <td>0</td>\n",
       "    </tr>\n",
       "    <tr>\n",
       "      <th>1460</th>\n",
       "      <td>현금흐름 위험 기반 KOSPI 수익률 횡단면 연구\\n문성제 | 송준혁 | 한국파생상...</td>\n",
       "      <td>0</td>\n",
       "    </tr>\n",
       "    <tr>\n",
       "      <th>1461</th>\n",
       "      <td>모호성 회피성향이 예방적 노력에 미치는 영향\\n홍지민 | 한국파생상품학회 | 선물연...</td>\n",
       "      <td>0</td>\n",
       "    </tr>\n",
       "  </tbody>\n",
       "</table>\n",
       "</div>"
      ],
      "text/plain": [
       "                                                  infor refer\n",
       "1457  KOSPI200 옵션전략지수의 성과\\n권순신 | 강병진 | 정재만 | 한국파생상품학...     0\n",
       "1458  KRX금시장과 국제금융시장의 상호연관성에 관한 연구 : CME선물시장을 중심으로\\n...     0\n",
       "1459  Analytical Approximations of American Call Opt...     0\n",
       "1460  현금흐름 위험 기반 KOSPI 수익률 횡단면 연구\\n문성제 | 송준혁 | 한국파생상...     0\n",
       "1461  모호성 회피성향이 예방적 노력에 미치는 영향\\n홍지민 | 한국파생상품학회 | 선물연...     0"
      ]
     },
     "execution_count": 7,
     "metadata": {},
     "output_type": "execute_result"
    }
   ],
   "source": [
    "df.tail()"
   ]
  },
  {
   "cell_type": "code",
   "execution_count": 9,
   "metadata": {},
   "outputs": [
    {
     "data": {
      "text/plain": [
       "242"
      ]
     },
     "execution_count": 9,
     "metadata": {},
     "output_type": "execute_result"
    }
   ],
   "source": [
    "len([i for i in df['refer'].values if i == '0'])"
   ]
  },
  {
   "cell_type": "markdown",
   "metadata": {},
   "source": [
    "### 참고문헌이 나와있지 않은 논문의 수"
   ]
  },
  {
   "cell_type": "code",
   "execution_count": 16,
   "metadata": {},
   "outputs": [
    {
     "data": {
      "text/plain": [
       "'16.55266757865937%'"
      ]
     },
     "execution_count": 16,
     "metadata": {},
     "output_type": "execute_result"
    }
   ],
   "source": [
    "str(((len([i for i in df['refer'].values if i == '0']) / len(df)) * 100)) + '%'"
   ]
  },
  {
   "cell_type": "code",
   "execution_count": 4,
   "metadata": {
    "collapsed": true
   },
   "outputs": [],
   "source": [
    "def tuning_process1(df):\n",
    "    tuned_ls = []\n",
    "    process_ls = []\n",
    "    \n",
    "    testing_ls = [re.split('[0-9]+. \\[',ref) if ref != '0' else '0' for ref in df['ref'].values]\n",
    "\n",
    "    for element in testing_ls :\n",
    "        process_ls = []\n",
    "        if element == '0' : \n",
    "            tuned_ls.append('0')\n",
    "        else : \n",
    "            for idx,paper in enumerate(element) : \n",
    "                if paper != '' :\n",
    "                    process_ls.append('[' + paper)\n",
    "                else : del element[idx]\n",
    "            tuned_ls.append(process_ls)\n",
    "\n",
    "    return tuned_ls"
   ]
  },
  {
   "cell_type": "code",
   "execution_count": 5,
   "metadata": {
    "collapsed": true,
    "scrolled": true
   },
   "outputs": [],
   "source": [
    "def extract_front_parenthesis(df):\n",
    "    tuned_ls = []\n",
    "    for ref in df['tuned_ref'].values :\n",
    "        process_ls = []\n",
    "        if ref == '0' : \n",
    "            tuned_ls.append('0')\n",
    "        else :\n",
    "            for paper in ref : \n",
    "                process_ls.append(re.findall('\\[.+\\]',paper))\n",
    "            tuned_ls.append(process_ls)\n",
    "\n",
    "    return tuned_ls"
   ]
  },
  {
   "cell_type": "code",
   "execution_count": 6,
   "metadata": {
    "collapsed": true
   },
   "outputs": [],
   "source": [
    "def cutting_front_parentheses(df):\n",
    "    tuned_ls = []\n",
    "    for ref in df['tuned_ref'].values :\n",
    "        process_ls = []\n",
    "        if ref == '0' : \n",
    "            tuned_ls.append('0')\n",
    "        else :\n",
    "            for paper in ref : \n",
    "                try : \n",
    "                    process_ls.append(paper[re.search('\\[.+\\] - \\/',paper).end():])\n",
    "                except : \n",
    "                    process_ls.append('0')\n",
    "            tuned_ls.append(process_ls)\n",
    "\n",
    "    return tuned_ls"
   ]
  },
  {
   "cell_type": "code",
   "execution_count": 35,
   "metadata": {},
   "outputs": [
    {
     "name": "stdout",
     "output_type": "stream",
     "text": [
      "709 11\n",
      "2483 15\n",
      "2483 18\n",
      "2483 22\n",
      "2669 20\n"
     ]
    }
   ],
   "source": [
    "first_parenthesis = []\n",
    "second_parenthesis = []\n",
    "\n",
    "for idx1,element in enumerate(df['tuned_ref'].values):\n",
    "    process_ls1 = []\n",
    "    process_ls2 = []\n",
    "    for idx2,ref in enumerate(element):        \n",
    "        process_ls1.append(re.findall('\\[.+\\]',ref))\n",
    "        if ref == '0' : \n",
    "            process_ls2.append('0')\n",
    "        else : \n",
    "            try : \n",
    "                process_ls2.append(ref[re.search('\\[.+\\] - \\/*',ref).end():])\n",
    "            except : \n",
    "                pass\n",
    "                print(idx1,idx2)\n",
    "    first_parenthesis.append(process_ls1)\n",
    "    second_parenthesis.append(process_ls2)\n",
    "first_parenthesis = [ref for ref in first_parenthesis]\n",
    "second_parenthesis = [ref for ref in second_parenthesis]"
   ]
  },
  {
   "cell_type": "code",
   "execution_count": 36,
   "metadata": {
    "scrolled": true
   },
   "outputs": [
    {
     "name": "stdout",
     "output_type": "stream",
     "text": [
      "[Updated August 13, 2009],\n",
      "[최종접속일 2008.2.15],\n",
      "[최종접속일 2008.2.9],\n",
      "[최종접속일 2008.2.2],\n",
      "[17 C.F.R. Pts 230, 239 and 242],\n"
     ]
    }
   ],
   "source": [
    "print(df['tuned_ref'].values[709][11])\n",
    "print(df['tuned_ref'].values[2483][15])\n",
    "print(df['tuned_ref'].values[2483][18])\n",
    "print(df['tuned_ref'].values[2483][22])\n",
    "print(df['tuned_ref'].values[2669][20])"
   ]
  },
  {
   "cell_type": "markdown",
   "metadata": {},
   "source": [
    "### 위에 있는 것 전에 것과 병합시키기"
   ]
  },
  {
   "cell_type": "code",
   "execution_count": 37,
   "metadata": {
    "collapsed": true
   },
   "outputs": [],
   "source": [
    "df['tuned_ref'].values[709][10] = df['tuned_ref'].values[709][10] + df['tuned_ref'].values[709][11]\n",
    "df['tuned_ref'].values[2483][14] = df['tuned_ref'].values[2483][14] + df['tuned_ref'].values[709][15]\n",
    "df['tuned_ref'].values[2483][17] = df['tuned_ref'].values[2483][17] + df['tuned_ref'].values[709][18]\n",
    "df['tuned_ref'].values[2483][21] = df['tuned_ref'].values[2483][21] + df['tuned_ref'].values[709][22]\n",
    "df['tuned_ref'].values[2669][19] = df['tuned_ref'].values[2669][19] + df['tuned_ref'].values[709][20]"
   ]
  },
  {
   "cell_type": "code",
   "execution_count": 38,
   "metadata": {
    "collapsed": true
   },
   "outputs": [],
   "source": [
    "del df['tuned_ref'].values[709][11]\n",
    "del df['tuned_ref'].values[2483][15]\n",
    "del df['tuned_ref'].values[2483][18]\n",
    "del df['tuned_ref'].values[2483][22]\n",
    "del df['tuned_ref'].values[2669][20]"
   ]
  },
  {
   "cell_type": "code",
   "execution_count": 39,
   "metadata": {},
   "outputs": [
    {
     "name": "stdout",
     "output_type": "stream",
     "text": [
      "2483 17\n",
      "2483 20\n"
     ]
    }
   ],
   "source": [
    "first_parenthesis = []\n",
    "second_parenthesis = []\n",
    "\n",
    "for idx1,element in enumerate(df['tuned_ref'].values):\n",
    "    process_ls1 = []\n",
    "    process_ls2 = []\n",
    "    for idx2,ref in enumerate(element):        \n",
    "        process_ls1.append(re.findall('\\[.+\\]',ref))\n",
    "        if ref == '0' : \n",
    "            process_ls2.append('0')\n",
    "        else : \n",
    "            try : \n",
    "                process_ls2.append(ref[re.search('\\[.+\\] - \\/*',ref).end():])\n",
    "            except : \n",
    "                pass\n",
    "                print(idx1,idx2)\n",
    "    first_parenthesis.append(process_ls1)\n",
    "    second_parenthesis.append(process_ls2)\n",
    "first_parenthesis = [ref for ref in first_parenthesis]\n",
    "second_parenthesis = [ref for ref in second_parenthesis]"
   ]
  },
  {
   "cell_type": "code",
   "execution_count": 40,
   "metadata": {
    "collapsed": true
   },
   "outputs": [],
   "source": [
    "df['tuned_ref'].values[2483][16] = df['tuned_ref'].values[2483][16] + df['tuned_ref'].values[2483][17]\n",
    "df['tuned_ref'].values[2483][19] = df['tuned_ref'].values[2483][19] + df['tuned_ref'].values[2483][20]\n",
    "\n",
    "del df['tuned_ref'].values[2483][17]\n",
    "del df['tuned_ref'].values[2483][20]"
   ]
  },
  {
   "cell_type": "code",
   "execution_count": 41,
   "metadata": {},
   "outputs": [
    {
     "name": "stdout",
     "output_type": "stream",
     "text": [
      "2483 19\n"
     ]
    }
   ],
   "source": [
    "first_parenthesis = []\n",
    "second_parenthesis = []\n",
    "\n",
    "for idx1,element in enumerate(df['tuned_ref'].values):\n",
    "    process_ls1 = []\n",
    "    process_ls2 = []\n",
    "    for idx2,ref in enumerate(element):        \n",
    "        process_ls1.append(re.findall('\\[.+\\]',ref))\n",
    "        if ref == '0' : \n",
    "            process_ls2.append('0')\n",
    "        else : \n",
    "            try : \n",
    "                process_ls2.append(ref[re.search('\\[.+\\] - \\/*',ref).end():])\n",
    "            except : \n",
    "                pass\n",
    "                print(idx1,idx2)\n",
    "    first_parenthesis.append(process_ls1)\n",
    "    second_parenthesis.append(process_ls2)\n",
    "first_parenthesis = [ref for ref in first_parenthesis]\n",
    "second_parenthesis = [ref for ref in second_parenthesis]"
   ]
  },
  {
   "cell_type": "code",
   "execution_count": 42,
   "metadata": {
    "collapsed": true
   },
   "outputs": [],
   "source": [
    "df['tuned_ref'].values[2483][18] = df['tuned_ref'].values[2483][18] + df['tuned_ref'].values[2483][19]\n",
    "\n",
    "del df['tuned_ref'].values[2483][19]"
   ]
  },
  {
   "cell_type": "code",
   "execution_count": 43,
   "metadata": {
    "collapsed": true
   },
   "outputs": [],
   "source": [
    "df.to_csv(\"refereces.csv\",index=False)"
   ]
  },
  {
   "cell_type": "code",
   "execution_count": 53,
   "metadata": {},
   "outputs": [
    {
     "data": {
      "text/plain": [
       "111672"
      ]
     },
     "execution_count": 53,
     "metadata": {},
     "output_type": "execute_result"
    }
   ],
   "source": [
    "len([paper for ref in df['tuned_ref'] for paper in element])"
   ]
  },
  {
   "cell_type": "code",
   "execution_count": 54,
   "metadata": {},
   "outputs": [
    {
     "data": {
      "text/plain": [
       "67277"
      ]
     },
     "execution_count": 54,
     "metadata": {},
     "output_type": "execute_result"
    }
   ],
   "source": [
    "sum(df['len'])"
   ]
  },
  {
   "cell_type": "code",
   "execution_count": 55,
   "metadata": {},
   "outputs": [
    {
     "data": {
      "text/html": [
       "<div>\n",
       "<style>\n",
       "    .dataframe thead tr:only-child th {\n",
       "        text-align: right;\n",
       "    }\n",
       "\n",
       "    .dataframe thead th {\n",
       "        text-align: left;\n",
       "    }\n",
       "\n",
       "    .dataframe tbody tr th {\n",
       "        vertical-align: top;\n",
       "    }\n",
       "</style>\n",
       "<table border=\"1\" class=\"dataframe\">\n",
       "  <thead>\n",
       "    <tr style=\"text-align: right;\">\n",
       "      <th></th>\n",
       "      <th>infor</th>\n",
       "      <th>ref</th>\n",
       "      <th>tuned_ref</th>\n",
       "      <th>len</th>\n",
       "    </tr>\n",
       "  </thead>\n",
       "  <tbody>\n",
       "    <tr>\n",
       "      <th>3379</th>\n",
       "      <td>공매도 거래와 기업성과\\n박순홍 | 한국재무관리학회 | 재무관리연구 | 34(4) ...</td>\n",
       "      <td>1. [학술지(정기간행물)] - 이영섭 / 2015 / 한국 주식시장에서의 공매도와...</td>\n",
       "      <td>[[학술지(정기간행물)] - 이준서 / 2010 / 주가와 공매도간 인과 관계에 관...</td>\n",
       "      <td>26</td>\n",
       "    </tr>\n",
       "    <tr>\n",
       "      <th>3380</th>\n",
       "      <td>한국 제조기업의 환위험관리 성과\\n권택호 | 한국재무관리학회 | 재무관리연구 | 3...</td>\n",
       "      <td>1. [학술지(정기간행물)] - 권택호 / 1998 / 환노출의 통화별 차이와 비대...</td>\n",
       "      <td>[[학술지(정기간행물)] - 권택호 / 1999 / OSPI 200 포함 기업과 비...</td>\n",
       "      <td>33</td>\n",
       "    </tr>\n",
       "    <tr>\n",
       "      <th>3381</th>\n",
       "      <td>금융분쟁과 투자자 보호\\n유진 | 손정국 | 한국재무관리학회 | 재무관리연구 | 3...</td>\n",
       "      <td>1. [학술지(정기간행물)] - 김용길 / 2014 / 금융분쟁에 있어서 ADR제도...</td>\n",
       "      <td>[[학술지(정기간행물)] - 김윤정 / 2016 / 금융투자상품 불완전판매와 고령투...</td>\n",
       "      <td>25</td>\n",
       "    </tr>\n",
       "    <tr>\n",
       "      <th>3382</th>\n",
       "      <td>관료 출신 사외이사는 기업에 기여하는가? 금융회사 사외이사를 중심으로\\n이창민 | ...</td>\n",
       "      <td>1. [학술지(정기간행물)] - 강윤식 / 2012 / 사외이사의 독립성과 기업가치...</td>\n",
       "      <td>[[학술지(정기간행물)] - 강형철 / 2006 / 기업집단의 계열사간 거래의 결정...</td>\n",
       "      <td>55</td>\n",
       "    </tr>\n",
       "    <tr>\n",
       "      <th>3383</th>\n",
       "      <td>우리나라 일반은행의 배당정책 및 소유구조\\n정성창 | 전선애 | 한국재무관리학회 |...</td>\n",
       "      <td>1. [학술지(정기간행물)] - 김영환 / 2009 / 외국인 투자자가 국내 유가증...</td>\n",
       "      <td>[[학술지(정기간행물)] - 박경서 / 2006 / 외국인투자자가 한국기업의 경영 ...</td>\n",
       "      <td>33</td>\n",
       "    </tr>\n",
       "  </tbody>\n",
       "</table>\n",
       "</div>"
      ],
      "text/plain": [
       "                                                  infor  \\\n",
       "3379  공매도 거래와 기업성과\\n박순홍 | 한국재무관리학회 | 재무관리연구 | 34(4) ...   \n",
       "3380  한국 제조기업의 환위험관리 성과\\n권택호 | 한국재무관리학회 | 재무관리연구 | 3...   \n",
       "3381  금융분쟁과 투자자 보호\\n유진 | 손정국 | 한국재무관리학회 | 재무관리연구 | 3...   \n",
       "3382  관료 출신 사외이사는 기업에 기여하는가? 금융회사 사외이사를 중심으로\\n이창민 | ...   \n",
       "3383  우리나라 일반은행의 배당정책 및 소유구조\\n정성창 | 전선애 | 한국재무관리학회 |...   \n",
       "\n",
       "                                                    ref  \\\n",
       "3379  1. [학술지(정기간행물)] - 이영섭 / 2015 / 한국 주식시장에서의 공매도와...   \n",
       "3380  1. [학술지(정기간행물)] - 권택호 / 1998 / 환노출의 통화별 차이와 비대...   \n",
       "3381  1. [학술지(정기간행물)] - 김용길 / 2014 / 금융분쟁에 있어서 ADR제도...   \n",
       "3382  1. [학술지(정기간행물)] - 강윤식 / 2012 / 사외이사의 독립성과 기업가치...   \n",
       "3383  1. [학술지(정기간행물)] - 김영환 / 2009 / 외국인 투자자가 국내 유가증...   \n",
       "\n",
       "                                              tuned_ref  len  \n",
       "3379  [[학술지(정기간행물)] - 이준서 / 2010 / 주가와 공매도간 인과 관계에 관...   26  \n",
       "3380  [[학술지(정기간행물)] - 권택호 / 1999 / OSPI 200 포함 기업과 비...   33  \n",
       "3381  [[학술지(정기간행물)] - 김윤정 / 2016 / 금융투자상품 불완전판매와 고령투...   25  \n",
       "3382  [[학술지(정기간행물)] - 강형철 / 2006 / 기업집단의 계열사간 거래의 결정...   55  \n",
       "3383  [[학술지(정기간행물)] - 박경서 / 2006 / 외국인투자자가 한국기업의 경영 ...   33  "
      ]
     },
     "execution_count": 55,
     "metadata": {},
     "output_type": "execute_result"
    }
   ],
   "source": [
    "df.tail()"
   ]
  },
  {
   "cell_type": "code",
   "execution_count": 70,
   "metadata": {
    "collapsed": true
   },
   "outputs": [],
   "source": [
    "sum_ = 0\n",
    "check_list = []\n",
    "\n",
    "for i in range(len(df['tuned_ref'])):\n",
    "    if int(df['len'].values[i]) != len(df['tuned_ref'].values[i]):\n",
    "        sum_ += 1\n",
    "        check_list.append(i)"
   ]
  },
  {
   "cell_type": "code",
   "execution_count": 71,
   "metadata": {},
   "outputs": [
    {
     "data": {
      "text/plain": [
       "203"
      ]
     },
     "execution_count": 71,
     "metadata": {},
     "output_type": "execute_result"
    }
   ],
   "source": [
    "sum_"
   ]
  },
  {
   "cell_type": "code",
   "execution_count": 72,
   "metadata": {},
   "outputs": [
    {
     "name": "stdout",
     "output_type": "stream",
     "text": [
      "[0, 1, 2, 3, 4, 5, 6, 7, 8, 9, 10, 11, 12, 13, 14, 15, 16, 17, 18, 19, 20, 21, 22, 23, 24, 25, 26, 27, 28, 29, 30, 31, 32, 33, 34, 35, 36, 37, 38, 39, 40, 41, 42, 43, 44, 45, 46, 47, 48, 49, 50, 131, 134, 709, 2356, 2357, 2358, 2359, 2360, 2361, 2362, 2363, 2364, 2365, 2366, 2367, 2368, 2369, 2370, 2371, 2372, 2373, 2374, 2375, 2376, 2377, 2378, 2379, 2380, 2381, 2382, 2383, 2384, 2385, 2386, 2387, 2388, 2389, 2390, 2391, 2392, 2393, 2394, 2395, 2396, 2397, 2398, 2399, 2416, 2418, 2422, 2431, 2434, 2435, 2436, 2437, 2438, 2439, 2440, 2441, 2442, 2443, 2444, 2445, 2446, 2447, 2448, 2449, 2450, 2483, 2499, 2503, 2561, 2562, 2563, 2564, 2565, 2566, 2567, 2568, 2569, 2623, 2669, 2732, 2733, 2734, 2735, 2736, 2737, 2738, 2739, 2740, 2741, 2742, 2743, 2744, 2745, 2746, 2747, 2748, 2749, 2750, 2751, 2752, 2759, 2760, 2764, 2791, 2792, 2793, 2794, 2795, 2973, 2974, 2975, 2976, 2977, 2978, 2979, 2980, 2981, 2982, 2983, 2984, 2985, 2986, 2987, 2988, 2989, 2990, 2991, 2992, 2993, 2994, 2995, 2996, 2997, 2998, 2999, 3000, 3001, 3002, 3003, 3004, 3005, 3006, 3007, 3008, 3009, 3010, 3011, 3012, 3013]\n"
     ]
    }
   ],
   "source": [
    "print(check_list)"
   ]
  },
  {
   "cell_type": "code",
   "execution_count": 87,
   "metadata": {},
   "outputs": [
    {
     "data": {
      "text/html": [
       "<div>\n",
       "<style>\n",
       "    .dataframe thead tr:only-child th {\n",
       "        text-align: right;\n",
       "    }\n",
       "\n",
       "    .dataframe thead th {\n",
       "        text-align: left;\n",
       "    }\n",
       "\n",
       "    .dataframe tbody tr th {\n",
       "        vertical-align: top;\n",
       "    }\n",
       "</style>\n",
       "<table border=\"1\" class=\"dataframe\">\n",
       "  <thead>\n",
       "    <tr style=\"text-align: right;\">\n",
       "      <th></th>\n",
       "      <th>infor</th>\n",
       "      <th>ref</th>\n",
       "      <th>tuned_ref</th>\n",
       "      <th>len</th>\n",
       "    </tr>\n",
       "  </thead>\n",
       "  <tbody>\n",
       "    <tr>\n",
       "      <th>709</th>\n",
       "      <td>Microfinance Interest Rate Puzzle: Price Ratio...</td>\n",
       "      <td>1. [학술지(정기간행물)] - Alvarez, F. / 2002 / Money, ...</td>\n",
       "      <td>[[학술지(정기간행물)] - Arellano, M. / 1991 / Some tes...</td>\n",
       "      <td>47</td>\n",
       "    </tr>\n",
       "    <tr>\n",
       "      <th>2483</th>\n",
       "      <td>바젤Ⅱ(신BIS협약)가 자본시장에 미치는 영향 및 과제\\n오성근 | 한국증권법학회 ...</td>\n",
       "      <td>1. [기타자료] - 금융감독원 / 2008 / 07년 자산유동화증권(ABS) 발행...</td>\n",
       "      <td>[[기타자료] - 금융감독원 / 2008 / 대부업체에 대한 검사제도 개선,” 정례...</td>\n",
       "      <td>28</td>\n",
       "    </tr>\n",
       "    <tr>\n",
       "      <th>2669</th>\n",
       "      <td>미래의 사모펀드규제: 법제도론을 중심으로\\n김은집 | 한국증권법학회 | 증권법연구 ...</td>\n",
       "      <td>1. [기타자료] - / / 자본시장과 금융투자업에 관한 법률,2. [기타자료] -...</td>\n",
       "      <td>[[기타자료] - / 2010 / Dodd-Frank Wall Street Refo...</td>\n",
       "      <td>30</td>\n",
       "    </tr>\n",
       "  </tbody>\n",
       "</table>\n",
       "</div>"
      ],
      "text/plain": [
       "                                                  infor  \\\n",
       "709   Microfinance Interest Rate Puzzle: Price Ratio...   \n",
       "2483  바젤Ⅱ(신BIS협약)가 자본시장에 미치는 영향 및 과제\\n오성근 | 한국증권법학회 ...   \n",
       "2669  미래의 사모펀드규제: 법제도론을 중심으로\\n김은집 | 한국증권법학회 | 증권법연구 ...   \n",
       "\n",
       "                                                    ref  \\\n",
       "709   1. [학술지(정기간행물)] - Alvarez, F. / 2002 / Money, ...   \n",
       "2483  1. [기타자료] - 금융감독원 / 2008 / 07년 자산유동화증권(ABS) 발행...   \n",
       "2669  1. [기타자료] - / / 자본시장과 금융투자업에 관한 법률,2. [기타자료] -...   \n",
       "\n",
       "                                              tuned_ref  len  \n",
       "709   [[학술지(정기간행물)] - Arellano, M. / 1991 / Some tes...   47  \n",
       "2483  [[기타자료] - 금융감독원 / 2008 / 대부업체에 대한 검사제도 개선,” 정례...   28  \n",
       "2669  [[기타자료] - / 2010 / Dodd-Frank Wall Street Refo...   30  "
      ]
     },
     "execution_count": 87,
     "metadata": {},
     "output_type": "execute_result"
    }
   ],
   "source": [
    "testing_df = df.iloc[check_list][df.iloc[check_list]['tuned_ref'] != '0']\n",
    "testing_df"
   ]
  },
  {
   "cell_type": "code",
   "execution_count": 108,
   "metadata": {},
   "outputs": [
    {
     "data": {
      "text/plain": [
       "(46, 47)"
      ]
     },
     "execution_count": 108,
     "metadata": {},
     "output_type": "execute_result"
    }
   ],
   "source": [
    "len(testing_df['tuned_ref'].values[0]) , testing_df['len'].values[0]"
   ]
  },
  {
   "cell_type": "code",
   "execution_count": 107,
   "metadata": {
    "scrolled": true
   },
   "outputs": [
    {
     "data": {
      "text/plain": [
       "'1. [학술지(정기간행물)] - Alvarez, F. / 2002 / Money, interest rates, and exchange rates with endogenously segmented markets / Journal of Political Economy 110 : 73 ~ 112,2. [학술지(정기간행물)] - Arellano, M. / 1991 / Some tests of specification for panel data: Monte Carlo evidence and an application to employment equations / Review of Economic Studies 58 : 277 ~ 297,3. [단행본] - Armendariz, B. / 2010 / The economics of microfinance / MIT Press,4. [학술지(정기간행물)] - Ashta, A. / 2009 / Microcredit capital flows and interest rates: an alternative explanation / Journal of Economic Issues 43 : 661 ~ 684,5. [학술지(정기간행물)] - Bertrand, M. / 2003 / Enjoying the quiet life? Corporate governance and managerial preferences / Journal of Political Economy 111 : 1043 ~ 1075,6. [학술지(정기간행물)] - Blundell, R. / 1998 / Initial conditions and moment restrictions in dynamic panel data models / Journal of Econometrics 87 : 115 ~ 143,7. [인터넷자원] - Bruck, C. / / Millions for millions,8. [학술지(정기간행물)] - Bruton, D. G. / 2011 / Microlending in emerging economies:building a new line of inquiry from the ground up / Journal of International Business Studies 42 : 718 ~ 739,9. [학술지(정기간행물)] - Bruton, G. / 2015 / New financial alternatives in seeding entrepreneurship: microfinance, crowdfunding, and peer-to-peer innovations / Entrepreneurship Theory and Practice 39 : 9 ~ 26,10. [보고서] - Canova, F. / 2013 / Panel vector autoregressive models: a survey,11. [학술지(정기간행물)] - Chatterjee, S. / 1992 / Endogenous market participation and the general equilibrium value of money / Journal of Political Economy 100 : 615 ~ 646,12. [인터넷자원] - Copeland, R. / / For global investors,’microfinance’ funds pay off—so far, Wall Street Journal Online 13, [Updated August 13, 2009],13. [학술지(정기간행물)] - Cotler, P. / 2013 / The lending interest rates in the microfinance sector:searching for its determinants / Journal of CENTRUM Cathedra: The Business and Economics Research Journal 6 : 69 ~ 81,14. [단행본] - Davidson, R. / 1993 / Estimation and inference in econometrics / Oxford University Press,15. [학술지(정기간행물)] - De Castro, J. O. / 2014 / Shades of grey: how do informal firms navigate between macro and meso institutional environments? / Strategic Entrepreneurship Journal 8 : 75 ~ 94,16. [학술지(정기간행물)] - De Mel, S. / 2008 / Returns to capital in microenterprises:evidence from a field experiment / Quarterly Journal of Economics 123 : 1329 ~ 1372,17. [학술대회논문] - Dorfleitner, G. / 2011 / Explaining microcredit interest rates: an international comparison / Second European Research Conference in Microfinance,18. [학술지(정기간행물)] - Eaton, J. / 1986 / The pure theory of country risk / European Economic Review 30 : 481 ~ 513,19. [보고서] - Fernando, N. A. / 2006 / Understanding and dealing with high interest rates on microcredit,20. [학술지(정기간행물)] - Freedman, M. P. / 2000 / Challenges to launching grassroots microlending programs: a case study / Journal of Developmental Entrepreneurship 5 : 235 ~ 248,21. [학술지(정기간행물)] - Garmaise, M. J. / 2013 / Cheap credit, lending operations, and international politics: the case of global microfinance / Journal of Finance 68 : 1551 ~ 1576,22. [학술지(정기간행물)] - Gompers, P. / 2000 / Money chasing deals? The impact of fund inflows on private equity valuations / Journal of Financial Economics 55 : 281 ~ 325,23. [단행본] - Greene, W. H. / 2012 / Econometric analysis / Pearson,24. [학술지(정기간행물)] - Hermes, N. / 2007 / The empirics of microfinance: what do we know? / The Economic Journal 117 : 1 ~ 10,25. [단행본] - Hofstede, G. / 1980 / Culture’s consequences: national differences in thinking and organizing / Sage,26. [학술지(정기간행물)] - Hofstede, G. / 1985 / The interaction between national and organizational value systems / Journal of Management Studies 22 : 347 ~ 357,27. [단행본] - Hofstede, G. H. / 2001 / Culture’s consequences: comparing values, behaviors, institutions and organizations across nations / Sage,28. [학술지(정기간행물)] - Holtz-Eakin, D. / 1988 / Estimating vector autoregressions with panel data / Econometrica 56 : 1371 ~ 1395,29. [학술지(정기간행물)] - Hudon, M. / 2009 / Should access to credit be a right? / Journal of Business Ethics 84 : 17 ~ 28,30. [보고서] - Karaivanov, A. / 2016 / Non-grant micro nance, incentives, and e ciency,31. [학술지(정기간행물)] - Karlan, D. S. / 2008 / Credit elasticities in less-developed economies:implications for microfinance / American Economic Review 98 : 1040 ~ 1068,32. [학술지(정기간행물)] - Karlan, D. S. / 2009 / Observing unobservables: identifying information asymmetries with a consumer credit field experiment / Econometrica 77 : 1993 ~ 2008,33. [학술지(정기간행물)] - Khavul, S. / 2013 / Harnessing innovation for change: sustainability and poverty in developing countries / Journal of Management Studies 50 : 285 ~ 306,34. [학술지(정기간행물)] - Khavul, S. / 2013 / When institutional change outruns the change agent: the contested terrain of entrepreneurial microfinance for those in poverty / Journal of Business Venturing 28 : 30 ~ 50,35. [보고서] - Liang, H. / 2014 / Finance and social responsibility in the informal economy: institutional voids, globalization and microfinance institutions,36. [인터넷자원] - MacFarquhar, N. / / Banks making big profits from tiny loans,37. [단행본] - Mosley, P. / 1996 / Metamorphosis from ngo to commercial bank: the case of Bancosol in Bolivia / Routledge,38. [학술지(정기간행물)] - Roberts, P. W. / 2013 / The profit orientation of microfinance institutions and effective interest rates / World Development 41 : 120 ~ 131,39. [단행본] - Smith, A. / 1937 / The wealth of nations / Random House,40. [학술지(정기간행물)] - Stiglitz, J. E. / 1981 / Credit rationing in markets with imperfect information / The American Economic Review 71 : 393 ~ 410,41. [학술지(정기간행물)] - Stiglitz, J. E. / 1983 / Incentive effects of terminations: applications to the credit and labor markets / The American Economic Review 73 : 912 ~ 927,42. [학술지(정기간행물)] - Sun, S. L. / 2015 / Cutting microfinance interest rates: an opportunity co-creation perspective / Entrepreneurship Theory and Practice 39 : 101 ~ 128,43. [인터넷자원] - United Nations / / The millennium development goals report summary,44. [보고서] - Wiesner, S. / 2010 / Can ‘bad’ microfinance practices be the consequence of too much funding chasing too few microfinance institutions?,45. [학술지(정기간행물)] - Wintoki, M. B. / 2012 / Endogeneity and the dynamics of internal corporate governance / Journal of Financial Economics 105 : 581 ~ 606,46. [단행본] - Yunus, M. / 2003 / Banker to the poor: micro-lending and the battle against world poverty public affairs / Public Affairs,47. [단행본] - Yunus, M. / 2008 / Creating a world without poverty: social business and the future of capitalism / Public Affairs'"
      ]
     },
     "execution_count": 107,
     "metadata": {},
     "output_type": "execute_result"
    }
   ],
   "source": [
    "testing_df['ref'].values[0]"
   ]
  },
  {
   "cell_type": "code",
   "execution_count": 94,
   "metadata": {
    "scrolled": true
   },
   "outputs": [
    {
     "data": {
      "text/plain": [
       "['[학술지(정기간행물)] - Arellano, M. / 1991 / Some tests of specification for panel data: Monte Carlo evidence and an application to employment equations / Review of Economic Studies 58 : 277 ~ 297,',\n",
       " '[단행본] - Armendariz, B. / 2010 / The economics of microfinance / MIT Press,',\n",
       " '[학술지(정기간행물)] - Ashta, A. / 2009 / Microcredit capital flows and interest rates: an alternative explanation / Journal of Economic Issues 43 : 661 ~ 684,',\n",
       " '[학술지(정기간행물)] - Bertrand, M. / 2003 / Enjoying the quiet life? Corporate governance and managerial preferences / Journal of Political Economy 111 : 1043 ~ 1075,',\n",
       " '[학술지(정기간행물)] - Blundell, R. / 1998 / Initial conditions and moment restrictions in dynamic panel data models / Journal of Econometrics 87 : 115 ~ 143,',\n",
       " '[인터넷자원] - Bruck, C. / / Millions for millions,',\n",
       " '[학술지(정기간행물)] - Bruton, D. G. / 2011 / Microlending in emerging economies:building a new line of inquiry from the ground up / Journal of International Business Studies 42 : 718 ~ 739,',\n",
       " '[학술지(정기간행물)] - Bruton, G. / 2015 / New financial alternatives in seeding entrepreneurship: microfinance, crowdfunding, and peer-to-peer innovations / Entrepreneurship Theory and Practice 39 : 9 ~ 26,',\n",
       " '[보고서] - Canova, F. / 2013 / Panel vector autoregressive models: a survey,',\n",
       " '[학술지(정기간행물)] - Chatterjee, S. / 1992 / Endogenous market participation and the general equilibrium value of money / Journal of Political Economy 100 : 615 ~ 646,',\n",
       " '[인터넷자원] - Copeland, R. / / For global investors,’microfinance’ funds pay off—so far, Wall Street Journal Online [Updated August 13, 2009],',\n",
       " '[학술지(정기간행물)] - Cotler, P. / 2013 / The lending interest rates in the microfinance sector:searching for its determinants / Journal of CENTRUM Cathedra: The Business and Economics Research Journal 6 : 69 ~ 81,',\n",
       " '[단행본] - Davidson, R. / 1993 / Estimation and inference in econometrics / Oxford University Press,',\n",
       " '[학술지(정기간행물)] - De Castro, J. O. / 2014 / Shades of grey: how do informal firms navigate between macro and meso institutional environments? / Strategic Entrepreneurship Journal 8 : 75 ~ 94,',\n",
       " '[학술지(정기간행물)] - De Mel, S. / 2008 / Returns to capital in microenterprises:evidence from a field experiment / Quarterly Journal of Economics 123 : 1329 ~ 1372,',\n",
       " '[학술대회논문] - Dorfleitner, G. / 2011 / Explaining microcredit interest rates: an international comparison / Second European Research Conference in Microfinance,',\n",
       " '[학술지(정기간행물)] - Eaton, J. / 1986 / The pure theory of country risk / European Economic Review 30 : 481 ~ 513,',\n",
       " '[보고서] - Fernando, N. A. / 2006 / Understanding and dealing with high interest rates on microcredit,',\n",
       " '[학술지(정기간행물)] - Freedman, M. P. / 2000 / Challenges to launching grassroots microlending programs: a case study / Journal of Developmental Entrepreneurship 5 : 235 ~ 248,',\n",
       " '[학술지(정기간행물)] - Garmaise, M. J. / 2013 / Cheap credit, lending operations, and international politics: the case of global microfinance / Journal of Finance 68 : 1551 ~ 1576,',\n",
       " '[학술지(정기간행물)] - Gompers, P. / 2000 / Money chasing deals? The impact of fund inflows on private equity valuations / Journal of Financial Economics 55 : 281 ~ 325,',\n",
       " '[단행본] - Greene, W. H. / 2012 / Econometric analysis / Pearson,',\n",
       " '[학술지(정기간행물)] - Hermes, N. / 2007 / The empirics of microfinance: what do we know? / The Economic Journal 117 : 1 ~ 10,',\n",
       " '[단행본] - Hofstede, G. / 1980 / Culture’s consequences: national differences in thinking and organizing / Sage,',\n",
       " '[학술지(정기간행물)] - Hofstede, G. / 1985 / The interaction between national and organizational value systems / Journal of Management Studies 22 : 347 ~ 357,',\n",
       " '[단행본] - Hofstede, G. H. / 2001 / Culture’s consequences: comparing values, behaviors, institutions and organizations across nations / Sage,',\n",
       " '[학술지(정기간행물)] - Holtz-Eakin, D. / 1988 / Estimating vector autoregressions with panel data / Econometrica 56 : 1371 ~ 1395,',\n",
       " '[학술지(정기간행물)] - Hudon, M. / 2009 / Should access to credit be a right? / Journal of Business Ethics 84 : 17 ~ 28,',\n",
       " '[보고서] - Karaivanov, A. / 2016 / Non-grant micro nance, incentives, and e ciency,',\n",
       " '[학술지(정기간행물)] - Karlan, D. S. / 2008 / Credit elasticities in less-developed economies:implications for microfinance / American Economic Review 98 : 1040 ~ 1068,',\n",
       " '[학술지(정기간행물)] - Karlan, D. S. / 2009 / Observing unobservables: identifying information asymmetries with a consumer credit field experiment / Econometrica 77 : 1993 ~ 2008,',\n",
       " '[학술지(정기간행물)] - Khavul, S. / 2013 / Harnessing innovation for change: sustainability and poverty in developing countries / Journal of Management Studies 50 : 285 ~ 306,',\n",
       " '[학술지(정기간행물)] - Khavul, S. / 2013 / When institutional change outruns the change agent: the contested terrain of entrepreneurial microfinance for those in poverty / Journal of Business Venturing 28 : 30 ~ 50,',\n",
       " '[보고서] - Liang, H. / 2014 / Finance and social responsibility in the informal economy: institutional voids, globalization and microfinance institutions,',\n",
       " '[인터넷자원] - MacFarquhar, N. / / Banks making big profits from tiny loans,',\n",
       " '[단행본] - Mosley, P. / 1996 / Metamorphosis from ngo to commercial bank: the case of Bancosol in Bolivia / Routledge,',\n",
       " '[학술지(정기간행물)] - Roberts, P. W. / 2013 / The profit orientation of microfinance institutions and effective interest rates / World Development 41 : 120 ~ 131,',\n",
       " '[단행본] - Smith, A. / 1937 / The wealth of nations / Random House,',\n",
       " '[학술지(정기간행물)] - Stiglitz, J. E. / 1981 / Credit rationing in markets with imperfect information / The American Economic Review 71 : 393 ~ 410,',\n",
       " '[학술지(정기간행물)] - Stiglitz, J. E. / 1983 / Incentive effects of terminations: applications to the credit and labor markets / The American Economic Review 73 : 912 ~ 927,',\n",
       " '[학술지(정기간행물)] - Sun, S. L. / 2015 / Cutting microfinance interest rates: an opportunity co-creation perspective / Entrepreneurship Theory and Practice 39 : 101 ~ 128,',\n",
       " '[인터넷자원] - United Nations / / The millennium development goals report summary,',\n",
       " '[보고서] - Wiesner, S. / 2010 / Can ‘bad’ microfinance practices be the consequence of too much funding chasing too few microfinance institutions?,',\n",
       " '[학술지(정기간행물)] - Wintoki, M. B. / 2012 / Endogeneity and the dynamics of internal corporate governance / Journal of Financial Economics 105 : 581 ~ 606,',\n",
       " '[단행본] - Yunus, M. / 2003 / Banker to the poor: micro-lending and the battle against world poverty public affairs / Public Affairs,',\n",
       " '[단행본] - Yunus, M. / 2008 / Creating a world without poverty: social business and the future of capitalism / Public Affairs']"
      ]
     },
     "execution_count": 94,
     "metadata": {},
     "output_type": "execute_result"
    }
   ],
   "source": [
    "testing_df['tuned_ref'].values[0]"
   ]
  },
  {
   "cell_type": "code",
   "execution_count": 109,
   "metadata": {},
   "outputs": [
    {
     "data": {
      "text/plain": [
       "(22, 28)"
      ]
     },
     "execution_count": 109,
     "metadata": {},
     "output_type": "execute_result"
    }
   ],
   "source": [
    "len(testing_df['tuned_ref'].values[1]) , testing_df['len'].values[1]"
   ]
  },
  {
   "cell_type": "code",
   "execution_count": 96,
   "metadata": {
    "scrolled": true
   },
   "outputs": [
    {
     "data": {
      "text/plain": [
       "['[기타자료] - 금융감독원 / 2008 / 대부업체에 대한 검사제도 개선,” 정례브리핑자료,',\n",
       " '[기타자료] - 금융감독원 / 2006 / 대출모집인의 부당·과장광고에 대한 지도 강화,” 보도자료,',\n",
       " '[기타자료] - 금융감독원 / 2003 / 불법 금융거래의 유형 및 특성,” 보고서,',\n",
       " '[기타자료] - 금융감독원 / 2007 / 주택담보대출 소비자보호방안 시행 및 향후 추진과제,” 보도자료,',\n",
       " '[기타자료] - 금융감독원 / 2007 / 주택담보대출 여신심사체계 선진화 방안,” 보도자료, 2007.2.1. ※이상 금융감독원 자료 출처: http://www.fss.or.kr,',\n",
       " '[기타자료] - 김민석 / 2007 / 서브프라임 사태의 금융시장 파급경로 분석 및 정책적 시사점,” 이슈페이퍼 [07-04], 증권연구원,',\n",
       " '[학술지(정기간행물)] - 삼성경제연구소 / 2007 / 미국 가계부채 증가의 배경과 영향 / SERI 경제 포커스 (173),',\n",
       " '[학술지(정기간행물)] - 삼성경제연구소 / 2008 / 서브프라임 파장과 세계경제불안 / SERI 경제 포커스 (178),',\n",
       " '[학술지(정기간행물)] - 양기진 / 2008 / 자산유동화법의 개정방향: 제13조(자산양도요건)의 재검토 / 홍익법학 9 (1),',\n",
       " '[학술지(정기간행물)] - 이중희 / 2007 / 미국 서브프라임모기지 시장의 성장과 위기, 그리고 한국의 주택담보대출시장 상황 / 주택금융월보 (3월),',\n",
       " '[학술지(정기간행물)] - 홍종학 / 2005 / 약탈적 대출에 관한 소고 / 한국경제학보 12 (1),',\n",
       " '[기타자료] - 한국은행 / 2008 / 미국 서브프라임모기지 사태의 진행상황과 전망,” 보도참고자료,',\n",
       " '[기타자료] - 국회 / 2008 / 대부업의등록및금융이용자보호에관한법률 일부개정법률안(대안),’ 2007.11.22. 출처: http://likms.assembly.go.kr/bill/ [최종접속일 2008.2.15],',\n",
       " '[기타자료] - 구 재정경제부 / 2008 / 대출모집인의 대부업등록대상 여부,” 유권해석자료, 2006.1.3. 출처: http://www.mofe.go.kr/ [최종접속일 2008.2.5],',\n",
       " '[기타자료] - Kormos, Benjamin J / 2007 / Quis Custodiet Ipsos Custodes? Revisiting Rating Agency Regulation” (December 4, 2007). Available at SSRN: http://ssrn.com/abstract=[학술지(정기간행물)] - De Mel, S. / 2008 / Returns to capital in microenterprises:evidence from a field experiment / Quarterly Journal of Economics 123 : 1329 ~ 1372,',\n",
       " '[기타자료] - Eggert, Kurt / 2004 / Limiting Abuse and Opportunism by Mortgage Servicers,” Housing Policy Debate, vol.15, issue 3, Fannie Mae Foundation(2004) Available at http://www.fanniemaefoun-dation.org/programs/upd/pdf/hpd_1503_Eggert.pdf [최종접속일 2008.2.5],',\n",
       " '[기타자료] - Lewis, Holden / 2008 / “‘Moral hazard’ helps shape mortgage mess,” Bankrate.com (April 18, 2007), Available at http://www.bankrate.com/brm/news/mortgages/20070418_subprime_mortgage_ morality_a1.asp?caret=[보고서] - Fernando, N. A. / 2006 / Understanding and dealing with high interest rates on microcredit,[최종접속일 2008.2.9],',\n",
       " '[기타자료] - Pennington-Cross, Anthony et al / 2007 / State and Local Anti-Predatory Lending Laws: The Effect of Legal Enforcement Mechanisms,” Seminar paper, in Payday and Predatory Lending Seminar in Cleveland FED(on Oct. 26, 2007)(Aug. 7, 2007),',\n",
       " '[기타자료] - Peterson, Christopher L. / 2007 / Predatory Structured Finance” . Cardozo Law Review, Vol. 28, No. 5 (2007), Available at SSRN: http://ssrn.com/abstract=[단행본] - Greene, W. H. / 2012 / Econometric analysis / Pearson,[최종접속일 2008.2.2],[최종접속일 2008.2.2],',\n",
       " '[기타자료] - 小林正宏 / 2008 / サブプライム問題と情報開示,” Housing Finance(Summer 2007). 출처: http://www.jhf.go.jp/about/kikou/kihou/pdf/h19_natu02_6.pdf [최종접속일 2008. 2.10],',\n",
       " '[단행본] - 兒島幸良 / 2007 / 改正證券取引法·金融商品取引法のポイント / 商事法務,',\n",
       " '[단행본] - 柏尾哲哉 / 2008 / Q&A 金融商品取引法の實務 / 三省堂']"
      ]
     },
     "execution_count": 96,
     "metadata": {},
     "output_type": "execute_result"
    }
   ],
   "source": [
    "testing_df['tuned_ref'].values[1]"
   ]
  },
  {
   "cell_type": "code",
   "execution_count": 98,
   "metadata": {},
   "outputs": [
    {
     "data": {
      "text/plain": [
       "'1. [기타자료] - 금융감독원 / 2008 / 07년 자산유동화증권(ABS) 발행실적 분석,” 보도자료,2. [기타자료] - 금융감독원 / 2008 / 대부업체에 대한 검사제도 개선,” 정례브리핑자료,3. [기타자료] - 금융감독원 / 2006 / 대출모집인의 부당·과장광고에 대한 지도 강화,” 보도자료,4. [기타자료] - 금융감독원 / 2003 / 불법 금융거래의 유형 및 특성,” 보고서,5. [기타자료] - 금융감독원 / 2007 / 주택담보대출 소비자보호방안 시행 및 향후 추진과제,” 보도자료,6. [기타자료] - 금융감독원 / 2007 / 주택담보대출 여신심사체계 선진화 방안,” 보도자료, 2007.2.1. ※이상 금융감독원 자료 출처: http://www.fss.or.kr,7. [기타자료] - 김민석 / 2007 / 서브프라임 사태의 금융시장 파급경로 분석 및 정책적 시사점,” 이슈페이퍼 [07-04], 증권연구원,8. [학술지(정기간행물)] - 삼성경제연구소 / 2007 / 미국 가계부채 증가의 배경과 영향 / SERI 경제 포커스 (173),9. [학술지(정기간행물)] - 삼성경제연구소 / 2008 / 서브프라임 파장과 세계경제불안 / SERI 경제 포커스 (178),10. [학술지(정기간행물)] - 양기진 / 2008 / 자산유동화법의 개정방향: 제13조(자산양도요건)의 재검토 / 홍익법학 9 (1),11. [학술지(정기간행물)] - 이중희 / 2007 / 미국 서브프라임모기지 시장의 성장과 위기, 그리고 한국의 주택담보대출시장 상황 / 주택금융월보 (3월),12. [학술지(정기간행물)] - 홍종학 / 2005 / 약탈적 대출에 관한 소고 / 한국경제학보 12 (1),13. [기타자료] - 한국은행 / 2008 / 미국 서브프라임모기지 사태의 진행상황과 전망,” 보도참고자료,14. [기타자료] - 국회 / 2008 / 대부업의등록및금융이용자보호에관한법률 일부개정법률안(대안),’ 2007.11.22. 출처: http://likms.assembly.go.kr/bill/ [최종접속일 2008.2.15],15. [기타자료] - 구 재정경제부 / 2008 / 대출모집인의 대부업등록대상 여부,” 유권해석자료, 2006.1.3. 출처: http://www.mofe.go.kr/ [최종접속일 2008.2.5],16. [기타자료] - Kormos, Benjamin J / 2007 / Quis Custodiet Ipsos Custodes? Revisiting Rating Agency Regulation” (December 4, 2007). Available at SSRN: http://ssrn.com/abstract=1085132 [최종접속일 2008.2.15],17. [기타자료] - Eggert, Kurt / 2004 / Limiting Abuse and Opportunism by Mortgage Servicers,” Housing Policy Debate, vol.15, issue 3, Fannie Mae Foundation(2004) Available at http://www.fanniemaefoun-dation.org/programs/upd/pdf/hpd_1503_Eggert.pdf [최종접속일 2008.2.5],18. [기타자료] - Lewis, Holden / 2008 / “‘Moral hazard’ helps shape mortgage mess,” Bankrate.com (April 18, 2007), Available at http://www.bankrate.com/brm/news/mortgages/20070418_subprime_mortgage_ morality_a1.asp?caret=3c [최종접속일 2008.2.9],19. [기타자료] - Morgenson / 2007 / Inside the Countrywide Lending Spree,” New York Times (2007), Available at http://www.nytimes.com/,20. [기타자료] - Pennington-Cross, Anthony et al / 2007 / State and Local Anti-Predatory Lending Laws: The Effect of Legal Enforcement Mechanisms,” Seminar paper, in Payday and Predatory Lending Seminar in Cleveland FED(on Oct. 26, 2007)(Aug. 7, 2007),21. [기타자료] - Peterson, Christopher L. / 2007 / Predatory Structured Finance” . Cardozo Law Review, Vol. 28, No. 5 (2007), Available at SSRN: http://ssrn.com/abstract=929118 [최종접속일 2008.2.2],22. [기타자료] - Renuart / 2004 / An Overview of the Predatory Mortgage Lending Process,” Housing Policy Debate, Vol. 15, Issue 3, Fannie Mae Foundation(2004)Available at http://www. fanniemaefoundation.org/programs/hpd/pdf/hpd_1503_Renuart.pdf [최종접속일 2008.2.10],23. [기타자료] - Thaler / 2007 / The Role of Sales Incentives in the Housing Loan Financial Crisis,” (IE 342-Organizational Behavior, Northwestern University, 2007) Available at http://www.alumni. northwestern.edu/files/07%20Mortgages%20Alex%20T.pdf,24. [기타자료] - 小林正宏 / 2008 / サブプライム問題と情報開示,” Housing Finance(Summer 2007). 출처: http://www.jhf.go.jp/about/kikou/kihou/pdf/h19_natu02_6.pdf [최종접속일 2008. 2.10],25. [단행본] - 兒島幸良 / 2007 / 改正證券取引法·金融商品取引法のポイント / 商事法務,26. [단행본] - 柏尾哲哉 / 2008 / Q&A 金融商品取引法の實務 / 三省堂'"
      ]
     },
     "execution_count": 98,
     "metadata": {},
     "output_type": "execute_result"
    }
   ],
   "source": [
    "testing_df['ref'].values[1]"
   ]
  },
  {
   "cell_type": "code",
   "execution_count": 110,
   "metadata": {},
   "outputs": [
    {
     "data": {
      "text/plain": [
       "(29, 30)"
      ]
     },
     "execution_count": 110,
     "metadata": {},
     "output_type": "execute_result"
    }
   ],
   "source": [
    "len(testing_df['tuned_ref'].values[2]) , testing_df['len'].values[2]"
   ]
  },
  {
   "cell_type": "code",
   "execution_count": 99,
   "metadata": {
    "scrolled": true
   },
   "outputs": [
    {
     "data": {
      "text/plain": [
       "['[기타자료] - / 2010 / Dodd-Frank Wall Street Reform and Consumer Protection Act of 2010,',\n",
       " '[기타자료] - / 2012 / Jumpstart Our Business Startups Act of 2012,',\n",
       " '[기타자료] - / 1940 / Investment Company Act of 1940,',\n",
       " '[기타자료] - / 1940 / Investment Advisers Act of 1940,',\n",
       " '[기타자료] - / 1933 / Securities Act of 1933,',\n",
       " '[기타자료] - / 1934 / Securities Exchange Act of 1934,',\n",
       " '[기타자료] - / / Directive on the Alternative Investment Fund Managers,',\n",
       " '[기타자료] - / 1953 / S.E.C. v. Ralston Purina Co., 346 U.S. 119,',\n",
       " '[학술지(정기간행물)] - 김갑래 / 2013 / Dodd-Frank 개혁과 미국 연방 법제하의 사모펀드 제도 연구 / 재무관리연구 30 (1) : 153 ~ 181,',\n",
       " '[학술지(정기간행물)] - 노희진 / 2010 / 사모펀드 규율체계의 선진화방안 / 자본시장 Weekly (30),',\n",
       " '[학술지(정기간행물)] - 박삼철 / 2015 / 사모펀드규제 정비의 현황과 과제 / BFL (71),',\n",
       " '[학술지(정기간행물)] - 박삼철 / 2009 / 사모펀드 規制의 바람직한 모습 / 금융법연구 6 (2) : 85 ~ 108,',\n",
       " '[학술지(정기간행물)] - 손영화 / 2010 / 헤지펀드에 관한 규제 / 상사판례연구 23 (1) : 451 ~ 511,',\n",
       " '[학술지(정기간행물)] - 송종준 / 2006 / 미국의 헤지펀드 규제와 법적 시사점 / 증권법연구 7 (1) : 49 ~ 99,',\n",
       " '[학술지(정기간행물)] - 오성근 / 2010 / 헤지펀드에 대한 규제동향 －IOSCO와 금융안정포럼의 논의 등을 중심으로－ / 한양법학 (31) : 165 ~ 187,',\n",
       " '[학술지(정기간행물)] - 정주호 / 2015 / 자본시장법상 헤지펀드 규제에 관한 법적 고찰 / 법학논총 33 : 389 ~ 417,',\n",
       " '[학술대회논문] - Callum MaCarthy / 2006 / Hedge Funds: What Should be the Regulatory Response / former FSA Chairman, Speech at European Money and Finance Forum,',\n",
       " '[보고서] - Financial Services Authority, Assessing the Possible Sources of Systemic Risk from Hedge Funds / 2012 / A Report on the Findings of the FSA’s Hedge Fund Survey and Hedge Fund as Counterparty Survey,',\n",
       " '[기타자료] - / 2006 / The Regulatory Environment for Hedge Funds: A Survey and Comparison / IOSCO,',\n",
       " '[인터넷자원] - Securities Exchange Commission / / Eliminating the Prohibition against General Solicitation and General Advertising in Rule 506 and 144A Offerings, Release No. 33-[학술지(정기간행물)] - Garmaise, M. J. / 2013 / Cheap credit, lending operations, and international politics: the case of global microfinance / Journal of Finance 68 : 1551 ~ 1576,',\n",
       " '[인터넷자원] - Securities Exchange Commission / / Exemptions for Advisers to Venture Capital Funds, Private Fund Advisers with Less then $ 150 million in Assets under Management, and Foreign Private Advisers, Release No. 3222,',\n",
       " '[인터넷자원] - / / Staff Report ot the U.S. Securities & Exchange Commission, Implications of the Growth of Hedge Funds,',\n",
       " '[기타자료] - Martin Cornish / 2009 / International Guide to Hedge Fund Regulation,',\n",
       " '[학위논문] - Eun Jip Kim / 2014 / Rethinking Hedge Fund Regulation: Focusing on the U.S., the U.K., and Korea / SJD / Indiana University,',\n",
       " '[기타자료] - / 2009 / Hedge Fund Regulation in the European Union: Current Trends and Future Prospects / Phoebus Athanassiou,',\n",
       " '[기타자료] - Thomas P. Lemke / 2009 / Hedge Funds and Other Private Funds: Regulation and Compliance,',\n",
       " '[학술지(정기간행물)] - Houman B. Shadab / 2009 / Coming Together After the Crisis: Global Convergence of Private Equity and Hedge Funds / Nw. J. Int’l L. & Bus (603),',\n",
       " '[학술지(정기간행물)] - Michael McDonald / 2011 / Notes and Comments, Containing Systemic Risks: New Developments in Trans-Atlantic Hedge Fund Regulation / Loy. L. A. Int’l & Comp. L. Rev (237),',\n",
       " '[학술지(정기간행물)] - Robert J. Bianchi / 2010 / Hedge Fund Regulation and Systemic Risk / Griffith L. Rev (6)']"
      ]
     },
     "execution_count": 99,
     "metadata": {},
     "output_type": "execute_result"
    }
   ],
   "source": [
    "testing_df['tuned_ref'].values[2]"
   ]
  },
  {
   "cell_type": "code",
   "execution_count": 100,
   "metadata": {},
   "outputs": [
    {
     "data": {
      "text/plain": [
       "'1. [기타자료] - / / 자본시장과 금융투자업에 관한 법률,2. [기타자료] - / 2010 / Dodd-Frank Wall Street Reform and Consumer Protection Act of 2010,3. [기타자료] - / 2012 / Jumpstart Our Business Startups Act of 2012,4. [기타자료] - / 1940 / Investment Company Act of 1940,5. [기타자료] - / 1940 / Investment Advisers Act of 1940,6. [기타자료] - / 1933 / Securities Act of 1933,7. [기타자료] - / 1934 / Securities Exchange Act of 1934,8. [기타자료] - / / Directive on the Alternative Investment Fund Managers,9. [기타자료] - / 1953 / S.E.C. v. Ralston Purina Co., 346 U.S. 119,10. [학술지(정기간행물)] - 김갑래 / 2013 / Dodd-Frank 개혁과 미국 연방 법제하의 사모펀드 제도 연구 / 재무관리연구 30 (1) : 153 ~ 181,11. [학술지(정기간행물)] - 노희진 / 2010 / 사모펀드 규율체계의 선진화방안 / 자본시장 Weekly (30),12. [학술지(정기간행물)] - 박삼철 / 2015 / 사모펀드규제 정비의 현황과 과제 / BFL (71),13. [학술지(정기간행물)] - 박삼철 / 2009 / 사모펀드 規制의 바람직한 모습 / 금융법연구 6 (2) : 85 ~ 108,14. [학술지(정기간행물)] - 손영화 / 2010 / 헤지펀드에 관한 규제 / 상사판례연구 23 (1) : 451 ~ 511,15. [학술지(정기간행물)] - 송종준 / 2006 / 미국의 헤지펀드 규제와 법적 시사점 / 증권법연구 7 (1) : 49 ~ 99,16. [학술지(정기간행물)] - 오성근 / 2010 / 헤지펀드에 대한 규제동향 －IOSCO와 금융안정포럼의 논의 등을 중심으로－ / 한양법학 (31) : 165 ~ 187,17. [학술지(정기간행물)] - 정주호 / 2015 / 자본시장법상 헤지펀드 규제에 관한 법적 고찰 / 법학논총 33 : 389 ~ 417,18. [학술대회논문] - Callum MaCarthy / 2006 / Hedge Funds: What Should be the Regulatory Response / former FSA Chairman, Speech at European Money and Finance Forum,19. [보고서] - Financial Services Authority, Assessing the Possible Sources of Systemic Risk from Hedge Funds / 2012 / A Report on the Findings of the FSA’s Hedge Fund Survey and Hedge Fund as Counterparty Survey,20. [기타자료] - / 2006 / The Regulatory Environment for Hedge Funds: A Survey and Comparison / IOSCO,21. [인터넷자원] - Securities Exchange Commission / / Eliminating the Prohibition against General Solicitation and General Advertising in Rule 506 and 144A Offerings, Release No. 33-9534 [17 C.F.R. Pts 230, 239 and 242],22. [인터넷자원] - Securities Exchange Commission / / Exemptions for Advisers to Venture Capital Funds, Private Fund Advisers with Less then $ 150 million in Assets under Management, and Foreign Private Advisers, Release No. 3222,23. [인터넷자원] - / / Staff Report ot the U.S. Securities & Exchange Commission, Implications of the Growth of Hedge Funds,24. [기타자료] - Martin Cornish / 2009 / International Guide to Hedge Fund Regulation,25. [학위논문] - Eun Jip Kim / 2014 / Rethinking Hedge Fund Regulation: Focusing on the U.S., the U.K., and Korea / SJD / Indiana University,26. [기타자료] - / 2009 / Hedge Fund Regulation in the European Union: Current Trends and Future Prospects / Phoebus Athanassiou,27. [기타자료] - Thomas P. Lemke / 2009 / Hedge Funds and Other Private Funds: Regulation and Compliance,28. [학술지(정기간행물)] - Houman B. Shadab / 2009 / Coming Together After the Crisis: Global Convergence of Private Equity and Hedge Funds / Nw. J. Int’l L. & Bus (603),29. [학술지(정기간행물)] - Michael McDonald / 2011 / Notes and Comments, Containing Systemic Risks: New Developments in Trans-Atlantic Hedge Fund Regulation / Loy. L. A. Int’l & Comp. L. Rev (237),30. [학술지(정기간행물)] - Robert J. Bianchi / 2010 / Hedge Fund Regulation and Systemic Risk / Griffith L. Rev (6)'"
      ]
     },
     "execution_count": 100,
     "metadata": {},
     "output_type": "execute_result"
    }
   ],
   "source": [
    "testing_df['ref'].values[2]"
   ]
  }
 ],
 "metadata": {
  "kernelspec": {
   "display_name": "Python 3",
   "language": "python",
   "name": "python3"
  },
  "language_info": {
   "codemirror_mode": {
    "name": "ipython",
    "version": 3
   },
   "file_extension": ".py",
   "mimetype": "text/x-python",
   "name": "python",
   "nbconvert_exporter": "python",
   "pygments_lexer": "ipython3",
   "version": "3.6.3"
  }
 },
 "nbformat": 4,
 "nbformat_minor": 2
}
