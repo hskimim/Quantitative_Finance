{
 "cells": [
  {
   "cell_type": "markdown",
   "metadata": {},
   "source": [
    "### network analysis\n",
    "- 논문 간의 키워드 연관성을 추출해본다.\n",
    "- 키워드로 논문간의 번들을 형성할 수 있다. \n",
    "    - 논문의 트렌드를 형성할 수 있다."
   ]
  },
  {
   "cell_type": "code",
   "execution_count": 1,
   "metadata": {
    "collapsed": true
   },
   "outputs": [],
   "source": [
    "import numpy as np\n",
    "import pandas as pd\n",
    "from IPython.display import display\n",
    "import re"
   ]
  },
  {
   "cell_type": "code",
   "execution_count": 2,
   "metadata": {
    "collapsed": true
   },
   "outputs": [],
   "source": [
    "df = pd.read_csv('references.csv')"
   ]
  },
  {
   "cell_type": "code",
   "execution_count": 3,
   "metadata": {},
   "outputs": [
    {
     "data": {
      "text/html": [
       "<div>\n",
       "<style>\n",
       "    .dataframe thead tr:only-child th {\n",
       "        text-align: right;\n",
       "    }\n",
       "\n",
       "    .dataframe thead th {\n",
       "        text-align: left;\n",
       "    }\n",
       "\n",
       "    .dataframe tbody tr th {\n",
       "        vertical-align: top;\n",
       "    }\n",
       "</style>\n",
       "<table border=\"1\" class=\"dataframe\">\n",
       "  <thead>\n",
       "    <tr style=\"text-align: right;\">\n",
       "      <th></th>\n",
       "      <th>infor</th>\n",
       "      <th>refer</th>\n",
       "    </tr>\n",
       "  </thead>\n",
       "  <tbody>\n",
       "    <tr>\n",
       "      <th>1457</th>\n",
       "      <td>KOSPI200 옵션전략지수의 성과\\n권순신 | 강병진 | 정재만 | 한국파생상품학...</td>\n",
       "      <td>0</td>\n",
       "    </tr>\n",
       "    <tr>\n",
       "      <th>1458</th>\n",
       "      <td>KRX금시장과 국제금융시장의 상호연관성에 관한 연구 : CME선물시장을 중심으로\\n...</td>\n",
       "      <td>0</td>\n",
       "    </tr>\n",
       "    <tr>\n",
       "      <th>1459</th>\n",
       "      <td>Analytical Approximations of American Call Opt...</td>\n",
       "      <td>0</td>\n",
       "    </tr>\n",
       "    <tr>\n",
       "      <th>1460</th>\n",
       "      <td>현금흐름 위험 기반 KOSPI 수익률 횡단면 연구\\n문성제 | 송준혁 | 한국파생상...</td>\n",
       "      <td>0</td>\n",
       "    </tr>\n",
       "    <tr>\n",
       "      <th>1461</th>\n",
       "      <td>모호성 회피성향이 예방적 노력에 미치는 영향\\n홍지민 | 한국파생상품학회 | 선물연...</td>\n",
       "      <td>0</td>\n",
       "    </tr>\n",
       "  </tbody>\n",
       "</table>\n",
       "</div>"
      ],
      "text/plain": [
       "                                                  infor refer\n",
       "1457  KOSPI200 옵션전략지수의 성과\\n권순신 | 강병진 | 정재만 | 한국파생상품학...     0\n",
       "1458  KRX금시장과 국제금융시장의 상호연관성에 관한 연구 : CME선물시장을 중심으로\\n...     0\n",
       "1459  Analytical Approximations of American Call Opt...     0\n",
       "1460  현금흐름 위험 기반 KOSPI 수익률 횡단면 연구\\n문성제 | 송준혁 | 한국파생상...     0\n",
       "1461  모호성 회피성향이 예방적 노력에 미치는 영향\\n홍지민 | 한국파생상품학회 | 선물연...     0"
      ]
     },
     "execution_count": 3,
     "metadata": {},
     "output_type": "execute_result"
    }
   ],
   "source": [
    "df.tail()"
   ]
  },
  {
   "cell_type": "markdown",
   "metadata": {},
   "source": [
    "### 참고문헌이 나와있지 않은 논문의 수"
   ]
  },
  {
   "cell_type": "code",
   "execution_count": 4,
   "metadata": {},
   "outputs": [
    {
     "data": {
      "text/plain": [
       "242"
      ]
     },
     "execution_count": 4,
     "metadata": {},
     "output_type": "execute_result"
    }
   ],
   "source": [
    "len([i for i in df['refer'].values if i == '0'])"
   ]
  },
  {
   "cell_type": "code",
   "execution_count": 5,
   "metadata": {},
   "outputs": [
    {
     "data": {
      "text/plain": [
       "'16.55266757865937%'"
      ]
     },
     "execution_count": 5,
     "metadata": {},
     "output_type": "execute_result"
    }
   ],
   "source": [
    "str(((len([i for i in df['refer'].values if i == '0']) / len(df)) * 100)) + '%'"
   ]
  },
  {
   "cell_type": "markdown",
   "metadata": {},
   "source": [
    "# Tuning_process"
   ]
  },
  {
   "cell_type": "markdown",
   "metadata": {},
   "source": [
    "#### 우선 information 컬럼을 늘려준다.\n",
    "- refer 컬럼을 split 하는 과정을 시행한다."
   ]
  },
  {
   "cell_type": "code",
   "execution_count": 6,
   "metadata": {},
   "outputs": [
    {
     "name": "stdout",
     "output_type": "stream",
     "text": [
      "31\n",
      "32\n"
     ]
    }
   ],
   "source": [
    "print(len(re.findall('[0-9]{1,}. \\[',df['refer'].values[100])))\n",
    "print(len(re.split('[0-9]{1,}. \\[',df['refer'].values[100])))"
   ]
  },
  {
   "cell_type": "code",
   "execution_count": 7,
   "metadata": {
    "collapsed": true
   },
   "outputs": [],
   "source": [
    "head_ls = re.findall('[0-9]{1,}. \\[',df['refer'].values[100])"
   ]
  },
  {
   "cell_type": "code",
   "execution_count": 8,
   "metadata": {
    "scrolled": false
   },
   "outputs": [
    {
     "data": {
      "text/plain": [
       "['학술지(정기간행물)] - / 1986 / Large Shareholders and Corporate Control (94) : 461 ~ 488,',\n",
       " '학술지(정기간행물)] - / 1995 / Do Corporations Award CEO Stock Options Effectively? 39 : 237 ~ 269']"
      ]
     },
     "execution_count": 8,
     "metadata": {},
     "output_type": "execute_result"
    }
   ],
   "source": [
    "testing_ls = re.split('[0-9]{1,}. \\[',df['refer'].values[100])\n",
    "process_ls = []\n",
    "for i in range(len(testing_ls)):\n",
    "    if re.search('\\/ [0-9]{,4} \\/',testing_ls[i]) : \n",
    "        process_ls.append(testing_ls[i])\n",
    "process_ls[-2:]"
   ]
  },
  {
   "cell_type": "code",
   "execution_count": 9,
   "metadata": {
    "scrolled": true
   },
   "outputs": [
    {
     "data": {
      "text/plain": [
       "['30. [학술지(정기간행물)] - / 1986 / Large Shareholders and Corporate Control (94) : 461 ~ 488,',\n",
       " '31. [학술지(정기간행물)] - / 1995 / Do Corporations Award CEO Stock Options Effectively? 39 : 237 ~ 269']"
      ]
     },
     "execution_count": 9,
     "metadata": {},
     "output_type": "execute_result"
    }
   ],
   "source": [
    "title_ls = []\n",
    "for i in range(len(process_ls)):\n",
    "    title_ls.append(head_ls[i] + process_ls[i])\n",
    "title_ls[-2:]"
   ]
  },
  {
   "cell_type": "markdown",
   "metadata": {},
   "source": [
    "### information 컬럼을 늘려주는 function(generalization) 프로세스"
   ]
  },
  {
   "cell_type": "code",
   "execution_count": 10,
   "metadata": {
    "collapsed": true
   },
   "outputs": [],
   "source": [
    "#length column 을 만들어주기 위한 프로세스\n",
    "final_process_ls = []\n",
    "\n",
    "for i in range(len(df['refer'])):\n",
    "    try :\n",
    "        title_ls = []\n",
    "        if df['refer'].values[i] != '0' : \n",
    "            head_ls = re.findall('[0-9]{1,}. \\[',df['refer'].values[i])\n",
    "            testing_ls = re.split('[0-9]{1,}. \\[',df['refer'].values[i])\n",
    "            process_ls = []\n",
    "            for j in range(len(testing_ls)):\n",
    "                if re.search('\\/ [0-9]{,4} \\/',testing_ls[j]) : \n",
    "                    process_ls.append(testing_ls[j])\n",
    "            for k in range(len(process_ls)):\n",
    "                title_ls.append(head_ls[k] + process_ls[k])\n",
    "        else : title_ls.append('0')\n",
    "        final_process_ls.append(title_ls)\n",
    "    except Exception as e:\n",
    "        print(i)\n",
    "        print(len(process_ls),len(head_ls))\n",
    "        print(e)\n",
    "        break"
   ]
  },
  {
   "cell_type": "code",
   "execution_count": 11,
   "metadata": {
    "collapsed": true
   },
   "outputs": [],
   "source": [
    "df['length'] = [len(i) for i in final_process_ls]"
   ]
  },
  {
   "cell_type": "code",
   "execution_count": 12,
   "metadata": {
    "collapsed": true
   },
   "outputs": [],
   "source": [
    "new_df = pd.DataFrame()\n",
    "new_df['refer'] = [j for i in final_process_ls for j in i]"
   ]
  },
  {
   "cell_type": "code",
   "execution_count": 13,
   "metadata": {},
   "outputs": [
    {
     "name": "stdout",
     "output_type": "stream",
     "text": [
      "37247\n"
     ]
    }
   ],
   "source": [
    "extending_title_ls = []\n",
    "for i in range(len(df)):\n",
    "    for _ in range(df['length'].values[i]):\n",
    "        extending_title_ls.append(df['infor'].values[i])\n",
    "print(len(extending_title_ls))\n",
    "new_df['infor'] = extending_title_ls"
   ]
  },
  {
   "cell_type": "code",
   "execution_count": 14,
   "metadata": {
    "collapsed": true
   },
   "outputs": [],
   "source": [
    "new_df = pd.DataFrame()\n",
    "new_df['infor'] = extending_title_ls\n",
    "new_df['refer'] = [j for i in final_process_ls for j in i]"
   ]
  },
  {
   "cell_type": "code",
   "execution_count": 15,
   "metadata": {
    "scrolled": true
   },
   "outputs": [
    {
     "data": {
      "text/html": [
       "<div>\n",
       "<style>\n",
       "    .dataframe thead tr:only-child th {\n",
       "        text-align: right;\n",
       "    }\n",
       "\n",
       "    .dataframe thead th {\n",
       "        text-align: left;\n",
       "    }\n",
       "\n",
       "    .dataframe tbody tr th {\n",
       "        vertical-align: top;\n",
       "    }\n",
       "</style>\n",
       "<table border=\"1\" class=\"dataframe\">\n",
       "  <thead>\n",
       "    <tr style=\"text-align: right;\">\n",
       "      <th></th>\n",
       "      <th>infor</th>\n",
       "      <th>refer</th>\n",
       "    </tr>\n",
       "  </thead>\n",
       "  <tbody>\n",
       "    <tr>\n",
       "      <th>37242</th>\n",
       "      <td>KOSPI200 옵션전략지수의 성과\\n권순신 | 강병진 | 정재만 | 한국파생상품학...</td>\n",
       "      <td>0</td>\n",
       "    </tr>\n",
       "    <tr>\n",
       "      <th>37243</th>\n",
       "      <td>KRX금시장과 국제금융시장의 상호연관성에 관한 연구 : CME선물시장을 중심으로\\n...</td>\n",
       "      <td>0</td>\n",
       "    </tr>\n",
       "    <tr>\n",
       "      <th>37244</th>\n",
       "      <td>Analytical Approximations of American Call Opt...</td>\n",
       "      <td>0</td>\n",
       "    </tr>\n",
       "    <tr>\n",
       "      <th>37245</th>\n",
       "      <td>현금흐름 위험 기반 KOSPI 수익률 횡단면 연구\\n문성제 | 송준혁 | 한국파생상...</td>\n",
       "      <td>0</td>\n",
       "    </tr>\n",
       "    <tr>\n",
       "      <th>37246</th>\n",
       "      <td>모호성 회피성향이 예방적 노력에 미치는 영향\\n홍지민 | 한국파생상품학회 | 선물연...</td>\n",
       "      <td>0</td>\n",
       "    </tr>\n",
       "  </tbody>\n",
       "</table>\n",
       "</div>"
      ],
      "text/plain": [
       "                                                   infor refer\n",
       "37242  KOSPI200 옵션전략지수의 성과\\n권순신 | 강병진 | 정재만 | 한국파생상품학...     0\n",
       "37243  KRX금시장과 국제금융시장의 상호연관성에 관한 연구 : CME선물시장을 중심으로\\n...     0\n",
       "37244  Analytical Approximations of American Call Opt...     0\n",
       "37245  현금흐름 위험 기반 KOSPI 수익률 횡단면 연구\\n문성제 | 송준혁 | 한국파생상...     0\n",
       "37246  모호성 회피성향이 예방적 노력에 미치는 영향\\n홍지민 | 한국파생상품학회 | 선물연...     0"
      ]
     },
     "execution_count": 15,
     "metadata": {},
     "output_type": "execute_result"
    }
   ],
   "source": [
    "set(new_df['infor'].values) == set(df['infor'].values)\n",
    "#OK\n",
    "new_df.tail()"
   ]
  },
  {
   "cell_type": "code",
   "execution_count": 16,
   "metadata": {
    "collapsed": true
   },
   "outputs": [],
   "source": [
    "new_df.to_csv('extended_references.csv',index=False)"
   ]
  },
  {
   "cell_type": "markdown",
   "metadata": {},
   "source": [
    "# Text Tuning process"
   ]
  },
  {
   "cell_type": "markdown",
   "metadata": {},
   "source": [
    "# 우선 references 가 아닌 논문의 이름부터 튜닝한다."
   ]
  },
  {
   "cell_type": "markdown",
   "metadata": {},
   "source": [
    "infor 컬럼은 | 단위로 잘라줄 수 있고 \\n 단위로 잘라줄 수 있다."
   ]
  },
  {
   "cell_type": "code",
   "execution_count": 17,
   "metadata": {
    "collapsed": true,
    "scrolled": true
   },
   "outputs": [],
   "source": [
    "for idx in range(len(new_df['infor'].values)):\n",
    "    if '\\n' not in new_df['infor'].values[idx].split('|')[0]:\n",
    "        print(idx)"
   ]
  },
  {
   "cell_type": "code",
   "execution_count": 18,
   "metadata": {},
   "outputs": [
    {
     "data": {
      "text/plain": [
       "True"
      ]
     },
     "execution_count": 18,
     "metadata": {},
     "output_type": "execute_result"
    }
   ],
   "source": [
    "new_title_ls = []\n",
    "for idx in range(len(new_df['infor'].values)):\n",
    "    testing_ls = new_df['infor'].values[idx].split('|')\n",
    "    new_title_ls.append([j for i in [i.split('\\n') for i in testing_ls] for j in i])\n",
    "len(new_title_ls) == len(new_df)"
   ]
  },
  {
   "cell_type": "markdown",
   "metadata": {},
   "source": [
    "### 튜닝한 데이터에 대해서 해당 프로세스의 새로운 데이터들을 넣어줄 새로운 데이터 프레임 tuned_df 를 만들어준다."
   ]
  },
  {
   "cell_type": "code",
   "execution_count": 19,
   "metadata": {},
   "outputs": [
    {
     "data": {
      "text/html": [
       "<div>\n",
       "<style>\n",
       "    .dataframe thead tr:only-child th {\n",
       "        text-align: right;\n",
       "    }\n",
       "\n",
       "    .dataframe thead th {\n",
       "        text-align: left;\n",
       "    }\n",
       "\n",
       "    .dataframe tbody tr th {\n",
       "        vertical-align: top;\n",
       "    }\n",
       "</style>\n",
       "<table border=\"1\" class=\"dataframe\">\n",
       "  <thead>\n",
       "    <tr style=\"text-align: right;\">\n",
       "      <th></th>\n",
       "      <th>title_bundle</th>\n",
       "    </tr>\n",
       "  </thead>\n",
       "  <tbody>\n",
       "    <tr>\n",
       "      <th>37242</th>\n",
       "      <td>[KOSPI200 옵션전략지수의 성과, 권순신 ,  강병진 ,  정재만 ,  한국파...</td>\n",
       "    </tr>\n",
       "    <tr>\n",
       "      <th>37243</th>\n",
       "      <td>[KRX금시장과 국제금융시장의 상호연관성에 관한 연구 : CME선물시장을 중심으로,...</td>\n",
       "    </tr>\n",
       "    <tr>\n",
       "      <th>37244</th>\n",
       "      <td>[Analytical Approximations of American Call Op...</td>\n",
       "    </tr>\n",
       "    <tr>\n",
       "      <th>37245</th>\n",
       "      <td>[현금흐름 위험 기반 KOSPI 수익률 횡단면 연구, 문성제 ,  송준혁 ,  한국...</td>\n",
       "    </tr>\n",
       "    <tr>\n",
       "      <th>37246</th>\n",
       "      <td>[모호성 회피성향이 예방적 노력에 미치는 영향, 홍지민 ,  한국파생상품학회 ,  ...</td>\n",
       "    </tr>\n",
       "  </tbody>\n",
       "</table>\n",
       "</div>"
      ],
      "text/plain": [
       "                                            title_bundle\n",
       "37242  [KOSPI200 옵션전략지수의 성과, 권순신 ,  강병진 ,  정재만 ,  한국파...\n",
       "37243  [KRX금시장과 국제금융시장의 상호연관성에 관한 연구 : CME선물시장을 중심으로,...\n",
       "37244  [Analytical Approximations of American Call Op...\n",
       "37245  [현금흐름 위험 기반 KOSPI 수익률 횡단면 연구, 문성제 ,  송준혁 ,  한국...\n",
       "37246  [모호성 회피성향이 예방적 노력에 미치는 영향, 홍지민 ,  한국파생상품학회 ,  ..."
      ]
     },
     "execution_count": 19,
     "metadata": {},
     "output_type": "execute_result"
    }
   ],
   "source": [
    "tuned_df = pd.DataFrame()\n",
    "tuned_df['title_bundle'] = new_title_ls\n",
    "tuned_df.tail()"
   ]
  },
  {
   "cell_type": "markdown",
   "metadata": {},
   "source": [
    "### 리스트의 첫 번째 엘리먼트가 항상 논문의 이름인지 확인하는 프로세스가 필요해 보인다."
   ]
  },
  {
   "cell_type": "code",
   "execution_count": 20,
   "metadata": {},
   "outputs": [
    {
     "data": {
      "text/plain": [
       "['기업의 소유구조와 기업가치 및 수익률에 대한 연구: 임원지분율을 중심으로',\n",
       " '김병호 ',\n",
       " ' 한국증권학회 ',\n",
       " ' Asia-Pacific Journal of Financial Studies ',\n",
       " ' 30() ',\n",
       " ' pp.391~434 ',\n",
       " ' 2002.06 ',\n",
       " ' 경영학',\n",
       " '피인용횟수 : 84']"
      ]
     },
     "execution_count": 20,
     "metadata": {},
     "output_type": "execute_result"
    }
   ],
   "source": [
    "tuned_df['title_bundle'].values[0]"
   ]
  },
  {
   "cell_type": "markdown",
   "metadata": {},
   "source": [
    "#### 이름이 넉넉잡아 5글자 이내라고 가정, 검사해본다."
   ]
  },
  {
   "cell_type": "code",
   "execution_count": 21,
   "metadata": {
    "collapsed": true
   },
   "outputs": [],
   "source": [
    "for paper in tuned_df['title_bundle'].values:\n",
    "    if len(paper[0]) <= 5 : \n",
    "        print(paper)\n",
    "        \n",
    "# 없으므로 naive 하지만, 각 리스트의 첫 번째 엘리먼트는 페이퍼 이름인 것을 확인할 수 있다."
   ]
  },
  {
   "cell_type": "markdown",
   "metadata": {},
   "source": [
    "### paper name 파싱! "
   ]
  },
  {
   "cell_type": "code",
   "execution_count": 22,
   "metadata": {},
   "outputs": [
    {
     "data": {
      "text/html": [
       "<div>\n",
       "<style>\n",
       "    .dataframe thead tr:only-child th {\n",
       "        text-align: right;\n",
       "    }\n",
       "\n",
       "    .dataframe thead th {\n",
       "        text-align: left;\n",
       "    }\n",
       "\n",
       "    .dataframe tbody tr th {\n",
       "        vertical-align: top;\n",
       "    }\n",
       "</style>\n",
       "<table border=\"1\" class=\"dataframe\">\n",
       "  <thead>\n",
       "    <tr style=\"text-align: right;\">\n",
       "      <th></th>\n",
       "      <th>title_bundle</th>\n",
       "      <th>paper_name</th>\n",
       "    </tr>\n",
       "  </thead>\n",
       "  <tbody>\n",
       "    <tr>\n",
       "      <th>37242</th>\n",
       "      <td>[KOSPI200 옵션전략지수의 성과, 권순신 ,  강병진 ,  정재만 ,  한국파...</td>\n",
       "      <td>KOSPI200 옵션전략지수의 성과</td>\n",
       "    </tr>\n",
       "    <tr>\n",
       "      <th>37243</th>\n",
       "      <td>[KRX금시장과 국제금융시장의 상호연관성에 관한 연구 : CME선물시장을 중심으로,...</td>\n",
       "      <td>KRX금시장과 국제금융시장의 상호연관성에 관한 연구 : CME선물시장을 중심으로</td>\n",
       "    </tr>\n",
       "    <tr>\n",
       "      <th>37244</th>\n",
       "      <td>[Analytical Approximations of American Call Op...</td>\n",
       "      <td>Analytical Approximations of American Call Opt...</td>\n",
       "    </tr>\n",
       "    <tr>\n",
       "      <th>37245</th>\n",
       "      <td>[현금흐름 위험 기반 KOSPI 수익률 횡단면 연구, 문성제 ,  송준혁 ,  한국...</td>\n",
       "      <td>현금흐름 위험 기반 KOSPI 수익률 횡단면 연구</td>\n",
       "    </tr>\n",
       "    <tr>\n",
       "      <th>37246</th>\n",
       "      <td>[모호성 회피성향이 예방적 노력에 미치는 영향, 홍지민 ,  한국파생상품학회 ,  ...</td>\n",
       "      <td>모호성 회피성향이 예방적 노력에 미치는 영향</td>\n",
       "    </tr>\n",
       "  </tbody>\n",
       "</table>\n",
       "</div>"
      ],
      "text/plain": [
       "                                            title_bundle  \\\n",
       "37242  [KOSPI200 옵션전략지수의 성과, 권순신 ,  강병진 ,  정재만 ,  한국파...   \n",
       "37243  [KRX금시장과 국제금융시장의 상호연관성에 관한 연구 : CME선물시장을 중심으로,...   \n",
       "37244  [Analytical Approximations of American Call Op...   \n",
       "37245  [현금흐름 위험 기반 KOSPI 수익률 횡단면 연구, 문성제 ,  송준혁 ,  한국...   \n",
       "37246  [모호성 회피성향이 예방적 노력에 미치는 영향, 홍지민 ,  한국파생상품학회 ,  ...   \n",
       "\n",
       "                                              paper_name  \n",
       "37242                                KOSPI200 옵션전략지수의 성과  \n",
       "37243       KRX금시장과 국제금융시장의 상호연관성에 관한 연구 : CME선물시장을 중심으로  \n",
       "37244  Analytical Approximations of American Call Opt...  \n",
       "37245                        현금흐름 위험 기반 KOSPI 수익률 횡단면 연구  \n",
       "37246                           모호성 회피성향이 예방적 노력에 미치는 영향  "
      ]
     },
     "execution_count": 22,
     "metadata": {},
     "output_type": "execute_result"
    }
   ],
   "source": [
    "tuned_df['paper_name'] = [i[0] for i in tuned_df['title_bundle'].values]\n",
    "tuned_df.tail()"
   ]
  },
  {
   "cell_type": "markdown",
   "metadata": {},
   "source": [
    "#### 리스트에서 두 번째부터 `한국증권학회` , `한국재무관리학회` , `한국파생상품학회` , `한국재무학회` 가 나오는 엘리먼트의 리스트 인덱스 전까지는 이름 즉, 저자이다."
   ]
  },
  {
   "cell_type": "code",
   "execution_count": 23,
   "metadata": {},
   "outputs": [
    {
     "data": {
      "text/plain": [
       "['기업의 소유구조와 기업가치 및 수익률에 대한 연구: 임원지분율을 중심으로',\n",
       " '김병호 ',\n",
       " ' 한국증권학회 ',\n",
       " ' Asia-Pacific Journal of Financial Studies ',\n",
       " ' 30() ',\n",
       " ' pp.391~434 ',\n",
       " ' 2002.06 ',\n",
       " ' 경영학',\n",
       " '피인용횟수 : 84']"
      ]
     },
     "execution_count": 23,
     "metadata": {},
     "output_type": "execute_result"
    }
   ],
   "source": [
    "tuned_df['title_bundle'].values[0]"
   ]
  },
  {
   "cell_type": "markdown",
   "metadata": {},
   "source": [
    "##### 우선 한국증권학회 , 한국재무관리학회 , 한국파생상품학회 , 한국재무학회 가 나오는 인덱스를 찾는다."
   ]
  },
  {
   "cell_type": "code",
   "execution_count": 24,
   "metadata": {
    "collapsed": true
   },
   "outputs": [],
   "source": [
    "testing_ls = []\n",
    "for paper in tuned_df['title_bundle'].values : \n",
    "    for idx in range(len(paper)):\n",
    "        if re.findall('한국증권학회|한국재무관리학회|한국파생상품학회|한국재무학회',paper[idx]) : \n",
    "            testing_ls.append(idx)\n",
    "            break"
   ]
  },
  {
   "cell_type": "code",
   "execution_count": 25,
   "metadata": {
    "collapsed": true
   },
   "outputs": [],
   "source": [
    "institution_ls = []\n",
    "for idx in range(len(tuned_df['title_bundle'].values)):\n",
    "    institution_ls.append(tuned_df['title_bundle'].values[idx][testing_ls[idx]])"
   ]
  },
  {
   "cell_type": "code",
   "execution_count": 26,
   "metadata": {},
   "outputs": [
    {
     "data": {
      "text/plain": [
       "[' 한국파생상품학회 ', ' 한국파생상품학회 ']"
      ]
     },
     "execution_count": 26,
     "metadata": {},
     "output_type": "execute_result"
    }
   ],
   "source": [
    "institution_ls[-2:]"
   ]
  },
  {
   "cell_type": "code",
   "execution_count": 27,
   "metadata": {
    "collapsed": true
   },
   "outputs": [],
   "source": [
    "for i in institution_ls : \n",
    "    if not re.findall('한국증권학회|한국재무관리학회|한국파생상품학회|한국재무학회',i):\n",
    "        print(i)\n",
    "\n",
    "# 아무것도 출력되지 않으므로 institution_ls 에는 발행기관명만 있다는 것을 알 수 있다."
   ]
  },
  {
   "cell_type": "code",
   "execution_count": 28,
   "metadata": {},
   "outputs": [],
   "source": [
    "tuned_df['institution'] = institution_ls"
   ]
  },
  {
   "cell_type": "markdown",
   "metadata": {},
   "source": [
    "### 이번에는 이름을 해본다. 이름은 두번째 요소부터 발행기관명 사이의 엘리먼트이다. 발행기관명의 인덱스는 testing_ls에 넣어두었다."
   ]
  },
  {
   "cell_type": "code",
   "execution_count": 29,
   "metadata": {
    "collapsed": true
   },
   "outputs": [],
   "source": [
    "name_ls = []\n",
    "for idx,val in enumerate(tuned_df['title_bundle']):\n",
    "    name_ls.append(val[1:testing_ls[idx]])\n",
    "name_ls = [','.join(i) for i in name_ls]\n",
    "# 리스트를 문자열 형식으로 바꿔준다."
   ]
  },
  {
   "cell_type": "code",
   "execution_count": 30,
   "metadata": {
    "collapsed": true
   },
   "outputs": [],
   "source": [
    "tuned_df['author'] = name_ls"
   ]
  },
  {
   "cell_type": "markdown",
   "metadata": {},
   "source": [
    "### 이번에는 저널명이다 testing_ls에서 1을 더해준다."
   ]
  },
  {
   "cell_type": "code",
   "execution_count": 31,
   "metadata": {
    "collapsed": true
   },
   "outputs": [],
   "source": [
    "journal_ls = []\n",
    "for idx,val in enumerate(tuned_df['title_bundle']):\n",
    "    journal_ls.append(val[testing_ls[idx]+1])"
   ]
  },
  {
   "cell_type": "code",
   "execution_count": 32,
   "metadata": {
    "collapsed": true
   },
   "outputs": [],
   "source": [
    "tuned_df['journal'] = journal_ls"
   ]
  },
  {
   "cell_type": "markdown",
   "metadata": {},
   "source": [
    "#### 나머지 4개의 요소를 보게 되면, 33(1)는 무엇인지 모르겠고 나머지는 각각 페이지 수와, 논문 발행 년도 , 논문의 분야 카테고리 , 마지막으로 피인용횟수가 되겠다. 각각 분배해주자."
   ]
  },
  {
   "cell_type": "code",
   "execution_count": 33,
   "metadata": {},
   "outputs": [
    {
     "data": {
      "text/plain": [
       "['해외전환사채 전환권가치의 정보효과',\n",
       " '정무권 ',\n",
       " ' 한국증권학회 ',\n",
       " ' Asia-Pacific Journal of Financial Studies ',\n",
       " ' 33(1) ',\n",
       " ' pp.33~68 ',\n",
       " ' 2004.03 ',\n",
       " ' 경영학',\n",
       " '피인용횟수 : 3']"
      ]
     },
     "execution_count": 33,
     "metadata": {},
     "output_type": "execute_result"
    }
   ],
   "source": [
    "tuned_df['title_bundle'].values[100]"
   ]
  },
  {
   "cell_type": "markdown",
   "metadata": {},
   "source": [
    "### 뭔지 모르겠지만 넣어준다."
   ]
  },
  {
   "cell_type": "code",
   "execution_count": 34,
   "metadata": {
    "collapsed": true
   },
   "outputs": [],
   "source": [
    "dont_know_ls = []\n",
    "for idx,val in enumerate(tuned_df['title_bundle']):\n",
    "    dont_know_ls.append(val[-5])\n",
    "\n",
    "tuned_df['dont_know'] = dont_know_ls"
   ]
  },
  {
   "cell_type": "code",
   "execution_count": 35,
   "metadata": {},
   "outputs": [
    {
     "data": {
      "text/plain": [
       "' 33(1) '"
      ]
     },
     "execution_count": 35,
     "metadata": {},
     "output_type": "execute_result"
    }
   ],
   "source": [
    "dont_know_ls[100]"
   ]
  },
  {
   "cell_type": "code",
   "execution_count": 36,
   "metadata": {},
   "outputs": [
    {
     "data": {
      "text/plain": [
       "[]"
      ]
     },
     "execution_count": 36,
     "metadata": {},
     "output_type": "execute_result"
    }
   ],
   "source": [
    "[i for i in dont_know_ls if not re.findall(' [0-9]{2}\\(.*\\)',i)]"
   ]
  },
  {
   "cell_type": "markdown",
   "metadata": {},
   "source": [
    "### 페이지 수"
   ]
  },
  {
   "cell_type": "code",
   "execution_count": 37,
   "metadata": {
    "collapsed": true
   },
   "outputs": [],
   "source": [
    "page_ls = []\n",
    "for idx,val in enumerate(tuned_df['title_bundle']):\n",
    "    page_ls.append(val[-4])\n",
    "\n",
    "tuned_df['page'] = page_ls"
   ]
  },
  {
   "cell_type": "code",
   "execution_count": 38,
   "metadata": {},
   "outputs": [
    {
     "data": {
      "text/plain": [
       "[]"
      ]
     },
     "execution_count": 38,
     "metadata": {},
     "output_type": "execute_result"
    }
   ],
   "source": [
    "[i for i in page_ls if not re.findall(' pp.',i)]"
   ]
  },
  {
   "cell_type": "markdown",
   "metadata": {},
   "source": [
    "### 발행 시점"
   ]
  },
  {
   "cell_type": "code",
   "execution_count": 39,
   "metadata": {
    "collapsed": true
   },
   "outputs": [],
   "source": [
    "year_ls = []\n",
    "for idx,val in enumerate(tuned_df['title_bundle']):\n",
    "    year_ls.append(val[-3])\n",
    "\n",
    "tuned_df['year'] = year_ls"
   ]
  },
  {
   "cell_type": "code",
   "execution_count": 40,
   "metadata": {},
   "outputs": [
    {
     "data": {
      "text/plain": [
       "[]"
      ]
     },
     "execution_count": 40,
     "metadata": {},
     "output_type": "execute_result"
    }
   ],
   "source": [
    "[i for i in year_ls if not re.findall(' 20',i)]"
   ]
  },
  {
   "cell_type": "markdown",
   "metadata": {},
   "source": [
    "### 논문 분야"
   ]
  },
  {
   "cell_type": "code",
   "execution_count": 41,
   "metadata": {
    "collapsed": true
   },
   "outputs": [],
   "source": [
    "field_ls = []\n",
    "for idx,val in enumerate(tuned_df['title_bundle']):\n",
    "    field_ls.append(val[-2])\n",
    "\n",
    "tuned_df['field'] = field_ls"
   ]
  },
  {
   "cell_type": "code",
   "execution_count": 42,
   "metadata": {},
   "outputs": [
    {
     "data": {
      "text/plain": [
       "[]"
      ]
     },
     "execution_count": 42,
     "metadata": {},
     "output_type": "execute_result"
    }
   ],
   "source": [
    "[i for i in field_ls if not re.findall('경영학',i)]"
   ]
  },
  {
   "cell_type": "markdown",
   "metadata": {},
   "source": [
    "### 피인용 횟수"
   ]
  },
  {
   "cell_type": "code",
   "execution_count": 43,
   "metadata": {
    "collapsed": true
   },
   "outputs": [],
   "source": [
    "cited_ls = []\n",
    "for idx,val in enumerate(tuned_df['title_bundle']):\n",
    "    cited_ls.append(val[-1])\n",
    "\n",
    "tuned_df['cited'] = cited_ls"
   ]
  },
  {
   "cell_type": "code",
   "execution_count": 44,
   "metadata": {},
   "outputs": [
    {
     "data": {
      "text/plain": [
       "[]"
      ]
     },
     "execution_count": 44,
     "metadata": {},
     "output_type": "execute_result"
    }
   ],
   "source": [
    "[i for i in cited_ls if not re.findall('피인용횟수',i)]"
   ]
  },
  {
   "cell_type": "markdown",
   "metadata": {},
   "source": [
    "# 이렇게 해서 기존 new_df 라는 데이터 프레임에서 infor 컬럼의 튜닝을 끝냈다."
   ]
  },
  {
   "cell_type": "code",
   "execution_count": 45,
   "metadata": {},
   "outputs": [
    {
     "data": {
      "text/html": [
       "<div>\n",
       "<style>\n",
       "    .dataframe thead tr:only-child th {\n",
       "        text-align: right;\n",
       "    }\n",
       "\n",
       "    .dataframe thead th {\n",
       "        text-align: left;\n",
       "    }\n",
       "\n",
       "    .dataframe tbody tr th {\n",
       "        vertical-align: top;\n",
       "    }\n",
       "</style>\n",
       "<table border=\"1\" class=\"dataframe\">\n",
       "  <thead>\n",
       "    <tr style=\"text-align: right;\">\n",
       "      <th></th>\n",
       "      <th>paper_name</th>\n",
       "      <th>institution</th>\n",
       "      <th>author</th>\n",
       "      <th>journal</th>\n",
       "      <th>dont_know</th>\n",
       "      <th>page</th>\n",
       "      <th>year</th>\n",
       "      <th>field</th>\n",
       "      <th>cited</th>\n",
       "    </tr>\n",
       "  </thead>\n",
       "  <tbody>\n",
       "    <tr>\n",
       "      <th>37242</th>\n",
       "      <td>KOSPI200 옵션전략지수의 성과</td>\n",
       "      <td>한국파생상품학회</td>\n",
       "      <td>권순신 , 강병진 , 정재만</td>\n",
       "      <td>선물연구</td>\n",
       "      <td>26(2)</td>\n",
       "      <td>pp.183~216</td>\n",
       "      <td>2018.05</td>\n",
       "      <td>경영학</td>\n",
       "      <td>피인용횟수 : 0</td>\n",
       "    </tr>\n",
       "    <tr>\n",
       "      <th>37243</th>\n",
       "      <td>KRX금시장과 국제금융시장의 상호연관성에 관한 연구 : CME선물시장을 중심으로</td>\n",
       "      <td>한국파생상품학회</td>\n",
       "      <td>염명훈 , 김지훈</td>\n",
       "      <td>선물연구</td>\n",
       "      <td>26(3)</td>\n",
       "      <td>pp.345~369</td>\n",
       "      <td>2018.08</td>\n",
       "      <td>경영학</td>\n",
       "      <td>피인용횟수 : 0</td>\n",
       "    </tr>\n",
       "    <tr>\n",
       "      <th>37244</th>\n",
       "      <td>Analytical Approximations of American Call Opt...</td>\n",
       "      <td>한국파생상품학회</td>\n",
       "      <td>배광일</td>\n",
       "      <td>선물연구</td>\n",
       "      <td>26(3)</td>\n",
       "      <td>pp.283~310</td>\n",
       "      <td>2018.08</td>\n",
       "      <td>경영학</td>\n",
       "      <td>피인용횟수 : 0</td>\n",
       "    </tr>\n",
       "    <tr>\n",
       "      <th>37245</th>\n",
       "      <td>현금흐름 위험 기반 KOSPI 수익률 횡단면 연구</td>\n",
       "      <td>한국파생상품학회</td>\n",
       "      <td>문성제 , 송준혁</td>\n",
       "      <td>선물연구</td>\n",
       "      <td>26(3)</td>\n",
       "      <td>pp.311~343</td>\n",
       "      <td>2018.08</td>\n",
       "      <td>경영학</td>\n",
       "      <td>피인용횟수 : 0</td>\n",
       "    </tr>\n",
       "    <tr>\n",
       "      <th>37246</th>\n",
       "      <td>모호성 회피성향이 예방적 노력에 미치는 영향</td>\n",
       "      <td>한국파생상품학회</td>\n",
       "      <td>홍지민</td>\n",
       "      <td>선물연구</td>\n",
       "      <td>26(3)</td>\n",
       "      <td>pp.371~389</td>\n",
       "      <td>2018.08</td>\n",
       "      <td>경영학</td>\n",
       "      <td>피인용횟수 : 0</td>\n",
       "    </tr>\n",
       "  </tbody>\n",
       "</table>\n",
       "</div>"
      ],
      "text/plain": [
       "                                              paper_name institution  \\\n",
       "37242                                KOSPI200 옵션전략지수의 성과   한국파생상품학회    \n",
       "37243       KRX금시장과 국제금융시장의 상호연관성에 관한 연구 : CME선물시장을 중심으로   한국파생상품학회    \n",
       "37244  Analytical Approximations of American Call Opt...   한국파생상품학회    \n",
       "37245                        현금흐름 위험 기반 KOSPI 수익률 횡단면 연구   한국파생상품학회    \n",
       "37246                           모호성 회피성향이 예방적 노력에 미치는 영향   한국파생상품학회    \n",
       "\n",
       "                 author journal dont_know          page       year field  \\\n",
       "37242  권순신 , 강병진 , 정재만    선물연구     26(2)    pp.183~216    2018.05    경영학   \n",
       "37243        염명훈 , 김지훈    선물연구     26(3)    pp.345~369    2018.08    경영학   \n",
       "37244              배광일    선물연구     26(3)    pp.283~310    2018.08    경영학   \n",
       "37245        문성제 , 송준혁    선물연구     26(3)    pp.311~343    2018.08    경영학   \n",
       "37246              홍지민    선물연구     26(3)    pp.371~389    2018.08    경영학   \n",
       "\n",
       "           cited  \n",
       "37242  피인용횟수 : 0  \n",
       "37243  피인용횟수 : 0  \n",
       "37244  피인용횟수 : 0  \n",
       "37245  피인용횟수 : 0  \n",
       "37246  피인용횟수 : 0  "
      ]
     },
     "execution_count": 45,
     "metadata": {},
     "output_type": "execute_result"
    }
   ],
   "source": [
    "final_tuned_df = tuned_df.iloc[:,1:]\n",
    "final_tuned_df.tail()"
   ]
  },
  {
   "cell_type": "code",
   "execution_count": 46,
   "metadata": {
    "collapsed": true
   },
   "outputs": [],
   "source": [
    "final_tuned_df.to_csv('tuned_dataframe_infor.csv',index=False)"
   ]
  },
  {
   "cell_type": "markdown",
   "metadata": {},
   "source": [
    "# 이번엔 refer 컬럼에 대한 튜닝을 해보자."
   ]
  },
  {
   "cell_type": "markdown",
   "metadata": {},
   "source": [
    "우선 / 로 split 이 가능해 보인다."
   ]
  },
  {
   "cell_type": "markdown",
   "metadata": {},
   "source": [
    "#### 참고문헌이 없어서 '0' 으로 등록되지 않은 리스트 중 첫 번째가   \"숫자. [학술지 형태] - \"  가 아닌 경우를 찾아본다."
   ]
  },
  {
   "cell_type": "code",
   "execution_count": 47,
   "metadata": {
    "scrolled": true
   },
   "outputs": [
    {
     "data": {
      "text/plain": [
       "True"
      ]
     },
     "execution_count": 47,
     "metadata": {},
     "output_type": "execute_result"
    }
   ],
   "source": [
    "new_refer_ls = []\n",
    "\n",
    "for idx in range(len(new_df['refer'].values)):\n",
    "    new_refer_ls.append(new_df['refer'].values[idx].split(' / '))\n",
    "len(new_refer_ls) == len(new_df)"
   ]
  },
  {
   "cell_type": "code",
   "execution_count": 48,
   "metadata": {},
   "outputs": [
    {
     "data": {
      "text/plain": [
       "{3, 4, 5}"
      ]
     },
     "execution_count": 48,
     "metadata": {},
     "output_type": "execute_result"
    }
   ],
   "source": [
    "set([len(i) for idx,i in enumerate(new_refer_ls) if i[0] != '0'])\n",
    "\n",
    "#3종류의 리스트가 있다."
   ]
  },
  {
   "cell_type": "code",
   "execution_count": 49,
   "metadata": {
    "collapsed": true
   },
   "outputs": [],
   "source": [
    "for i in new_refer_ls : \n",
    "    if i[0] != '0' : \n",
    "        if not re.findall('[0-9]{1,}. \\[.+\\] -',i[0]) : \n",
    "            print(i)\n",
    "            \n",
    "# 없다. 참고문헌이 있는 리스트의 첫 번째 엘리먼트는 동일한 형태를 띄고 있음을 알 수 있다."
   ]
  },
  {
   "cell_type": "markdown",
   "metadata": {},
   "source": [
    "#### 참고문헌이 없어서 '0' 으로 등록되지 않은 리스트 중 두 번째가 년도의 형태가 아닌 경우를 찾아본다."
   ]
  },
  {
   "cell_type": "code",
   "execution_count": 50,
   "metadata": {},
   "outputs": [
    {
     "name": "stdout",
     "output_type": "stream",
     "text": [
      "['4. [학술지(정기간행물)] -', '4', 'Shareholder Preferences and Dividend Policy (45) : 993 ~ 1018,']\n",
      "3\n",
      "['8. [학술지(정기간행물)] -', '4', 'Two Agency Cost Explanations of Dividends (74) : 650 ~ 659,']\n",
      "3\n",
      "['33. [학술지(정기간행물)] - Kyle, Albert S', '53', 'Continuous auctions and insider trading', 'Econometrica 53 : 1315 ~ 1335,']\n",
      "4\n",
      "['27. [보고서] - Huang, J', '203', 'How much of the corporate-treasury yield spread is due to credit risk : 1 ~ 57,']\n",
      "3\n",
      "['6. [학술지(정기간행물)] - Bliss, R. R.', '200', 'Testing the Stability of Implied Probability Density Functions', 'Journal of Banking and Finance 26 : 381 ~ 422,']\n",
      "4\n",
      "['16. [학술지(정기간행물)] - Figlewski, S.', '179', 'Subjective information and market efficiency in a betting market', 'Journal of Political Economy 87 : 75 ~ 89,']\n",
      "4\n",
      "['11. [학술지(정기간행물)] - Ait-Sahalia, Y.', '200', 'How Often to Sample a Continuous-Time Process in the Presence of Market Microstructure Noise', 'Review of Financial Studies 18 : 351 ~ 416,']\n",
      "4\n"
     ]
    }
   ],
   "source": [
    "for i in new_refer_ls : \n",
    "    if i[0] != '0' : \n",
    "        if not re.findall('[0-9]{4}',i[1]) : \n",
    "            print(i)\n",
    "            print(len(i))\n",
    "            \n",
    "# 안타깝게도 존재한다. 이런 경우 일단 귀속시킨 후에 교수님께 피드백을 요청한다. 7개만 나와서 그나마 다행인듯..ㅠㅠ"
   ]
  },
  {
   "cell_type": "markdown",
   "metadata": {},
   "source": [
    "### 3개짜리의 구조\n",
    "- 1. 논문의 성향\n",
    "- 1.5. 논문의 저자(있는 경우도 있고 없는 경우도 있음)\n",
    "- 2. 논문의 년도\n",
    "- 3. 논문의 이름"
   ]
  },
  {
   "cell_type": "code",
   "execution_count": 51,
   "metadata": {},
   "outputs": [
    {
     "data": {
      "text/plain": [
       "8071"
      ]
     },
     "execution_count": 51,
     "metadata": {},
     "output_type": "execute_result"
    }
   ],
   "source": [
    "len([i for i in new_refer_ls if len(i) == 3])"
   ]
  },
  {
   "cell_type": "markdown",
   "metadata": {},
   "source": [
    "### 즉, 3개짜리에는 발행기관명과 학술지명이 있는 경우, 없는 경우가 불규칙하게 분포되어 있다. 이 또한 교수님께 피드백을 받아야 하는 부분이다."
   ]
  },
  {
   "cell_type": "code",
   "execution_count": 52,
   "metadata": {},
   "outputs": [
    {
     "data": {
      "text/plain": [
       "['1. [학술지(정기간행물)] -',\n",
       " '2001',\n",
       " '은행중심 자금조달 시스템의 문제점: 은행의 유동성위기가 기업가치에 미치는 영향 14 (1) : 161 ~ 188,']"
      ]
     },
     "execution_count": 52,
     "metadata": {},
     "output_type": "execute_result"
    }
   ],
   "source": [
    "[i for i in new_refer_ls if len(i) == 3][0]"
   ]
  },
  {
   "cell_type": "code",
   "execution_count": 53,
   "metadata": {
    "scrolled": false
   },
   "outputs": [
    {
     "name": "stdout",
     "output_type": "stream",
     "text": [
      "8071\n"
     ]
    },
    {
     "data": {
      "text/plain": [
       "'은행중심 자금조달 시스템의 문제점: 은행의 유동성위기가 기업가치에 미치는 영향 14 (1) : 161 ~ 188,'"
      ]
     },
     "execution_count": 53,
     "metadata": {},
     "output_type": "execute_result"
    }
   ],
   "source": [
    "print(len([i for i in new_refer_ls if len(i) == 3]))\n",
    "[i[-1] for i in new_refer_ls if len(i) == 3][0]\n",
    "# 즉, 3개짜리에는 발행기관명과 학술지명이 있는 경우, 없는 경우가 불규칙하게 분포되어 있다. 이 또한 교수님께 피드백을 받아야 하는 부분이다."
   ]
  },
  {
   "cell_type": "code",
   "execution_count": 54,
   "metadata": {},
   "outputs": [
    {
     "data": {
      "text/plain": [
       "['The Benefits of Lending Relationships Evidence from Small Business Data Journal of Finance 49 : 3 ~ 37,',\n",
       " 'A Stylized Model of Customer Relationships Journal of Finance 45 : 1069 ~ 1087,',\n",
       " 'The Value of Bank Durability Borrowers as Bank Stakeholders Journal of Finance 48 : 247 ~ 266,',\n",
       " 'Valuation of primary issue convertible bonds Journal of Financial Research 9 : 251 ~ 259,',\n",
       " 'The case of event studies Journal of Financial Economics 8 : 1 ~ 31,']"
      ]
     },
     "execution_count": 54,
     "metadata": {},
     "output_type": "execute_result"
    }
   ],
   "source": [
    "len([j for j in [i[-1] for i in new_refer_ls if len(i) == 3] if re.findall('Journal',j)])\n",
    "[j for j in [i[-1] for i in new_refer_ls if len(i) == 3] if re.findall('Journal',j)][:5]"
   ]
  },
  {
   "cell_type": "markdown",
   "metadata": {},
   "source": [
    "### 우선 이름이 있는 것을 뽑아주기 위해서 첫 번째 리스트를 한 번 더 세분화시켜준다."
   ]
  },
  {
   "cell_type": "code",
   "execution_count": 55,
   "metadata": {},
   "outputs": [
    {
     "data": {
      "text/plain": [
       "True"
      ]
     },
     "execution_count": 55,
     "metadata": {},
     "output_type": "execute_result"
    }
   ],
   "source": [
    "tuned_new_refer = []\n",
    "for idx in range(len(new_refer_ls)):\n",
    "    tuned_new_refer.append(new_refer_ls[idx][0].split(\" -\") + new_refer_ls[idx][1:])\n",
    "len(tuned_new_refer) == len(new_refer_ls)"
   ]
  },
  {
   "cell_type": "code",
   "execution_count": 56,
   "metadata": {
    "collapsed": true
   },
   "outputs": [],
   "source": [
    "merge = [(1, 3)]\n",
    "\n",
    "for ls in tuned_new_refer : \n",
    "    if ls[0] != '0': \n",
    "        if not re.findall('[0-9]{1,4}',ls[2]) : \n",
    "            for t in merge[::-1]:\n",
    "                merged = ''.join(ls[t[0]:t[1]])  # merging values within a range\n",
    "                ls[t[0]:t[1]] = [merged]"
   ]
  },
  {
   "cell_type": "code",
   "execution_count": 57,
   "metadata": {
    "collapsed": true
   },
   "outputs": [],
   "source": [
    "for ls in tuned_new_refer : \n",
    "    if ls[0] != '0': \n",
    "        if not re.findall('[0-9]{1,4}',ls[2]) : \n",
    "            print(ls)"
   ]
  },
  {
   "cell_type": "code",
   "execution_count": 58,
   "metadata": {},
   "outputs": [
    {
     "data": {
      "text/plain": [
       "{4, 5, 6}"
      ]
     },
     "execution_count": 58,
     "metadata": {},
     "output_type": "execute_result"
    }
   ],
   "source": [
    "set([len(i) for idx,i in enumerate(tuned_new_refer) if i[0] != '0'])\n",
    "\n",
    "#3종류의 리스트가 있다."
   ]
  },
  {
   "cell_type": "markdown",
   "metadata": {},
   "source": [
    "## 길이가 4개짜리인 데이터 프레임만들기"
   ]
  },
  {
   "cell_type": "code",
   "execution_count": 59,
   "metadata": {},
   "outputs": [
    {
     "data": {
      "text/plain": [
       "['1. [학술지(정기간행물)]',\n",
       " '',\n",
       " '2001',\n",
       " '은행중심 자금조달 시스템의 문제점: 은행의 유동성위기가 기업가치에 미치는 영향 14 (1) : 161 ~ 188,']"
      ]
     },
     "execution_count": 59,
     "metadata": {},
     "output_type": "execute_result"
    }
   ],
   "source": [
    "[i for i in tuned_new_refer if len(i) == 4][0]"
   ]
  },
  {
   "cell_type": "markdown",
   "metadata": {},
   "source": [
    "## Characteristic of paper"
   ]
  },
  {
   "cell_type": "code",
   "execution_count": 60,
   "metadata": {
    "collapsed": true
   },
   "outputs": [],
   "source": [
    "char_paper_ls = [re.findall('\\[.+\\]',i[0])[0] for i in [i for i in tuned_new_refer if len(i) == 4]]"
   ]
  },
  {
   "cell_type": "markdown",
   "metadata": {},
   "source": [
    "## author of paper"
   ]
  },
  {
   "cell_type": "code",
   "execution_count": 61,
   "metadata": {
    "collapsed": true
   },
   "outputs": [],
   "source": [
    "name_ls = [i[1] for i in tuned_new_refer if len(i) == 4]"
   ]
  },
  {
   "cell_type": "markdown",
   "metadata": {},
   "source": [
    "## year of paper published"
   ]
  },
  {
   "cell_type": "code",
   "execution_count": 62,
   "metadata": {
    "collapsed": true
   },
   "outputs": [],
   "source": [
    "year_ls = [i[2] for i in tuned_new_refer if len(i) == 4]"
   ]
  },
  {
   "cell_type": "markdown",
   "metadata": {},
   "source": [
    "## name of paper"
   ]
  },
  {
   "cell_type": "code",
   "execution_count": 63,
   "metadata": {
    "collapsed": true
   },
   "outputs": [],
   "source": [
    "paper_ls = [i[3] for i in tuned_new_refer if len(i) == 4]"
   ]
  },
  {
   "cell_type": "code",
   "execution_count": 64,
   "metadata": {
    "scrolled": true
   },
   "outputs": [
    {
     "data": {
      "text/plain": [
       "True"
      ]
     },
     "execution_count": 64,
     "metadata": {},
     "output_type": "execute_result"
    }
   ],
   "source": [
    "len(char_paper_ls) == len(name_ls) == len(year_ls) == len(paper_ls)"
   ]
  },
  {
   "cell_type": "code",
   "execution_count": 65,
   "metadata": {
    "scrolled": true
   },
   "outputs": [
    {
     "data": {
      "text/html": [
       "<div>\n",
       "<style>\n",
       "    .dataframe thead tr:only-child th {\n",
       "        text-align: right;\n",
       "    }\n",
       "\n",
       "    .dataframe thead th {\n",
       "        text-align: left;\n",
       "    }\n",
       "\n",
       "    .dataframe tbody tr th {\n",
       "        vertical-align: top;\n",
       "    }\n",
       "</style>\n",
       "<table border=\"1\" class=\"dataframe\">\n",
       "  <thead>\n",
       "    <tr style=\"text-align: right;\">\n",
       "      <th></th>\n",
       "      <th>char</th>\n",
       "      <th>name</th>\n",
       "      <th>year</th>\n",
       "      <th>paper</th>\n",
       "    </tr>\n",
       "  </thead>\n",
       "  <tbody>\n",
       "    <tr>\n",
       "      <th>8066</th>\n",
       "      <td>[보고서]</td>\n",
       "      <td>Fink, J.</td>\n",
       "      <td>2006</td>\n",
       "      <td>Firm age and fluctuations in idiosyncratic risk,</td>\n",
       "    </tr>\n",
       "    <tr>\n",
       "      <th>8067</th>\n",
       "      <td>[보고서]</td>\n",
       "      <td>Liu, B.</td>\n",
       "      <td>2012</td>\n",
       "      <td>Idiosyncratic volatility on Australian stock r...</td>\n",
       "    </tr>\n",
       "    <tr>\n",
       "      <th>8068</th>\n",
       "      <td>[보고서]</td>\n",
       "      <td>Chen, R. R.</td>\n",
       "      <td>2005</td>\n",
       "      <td>Dynamic Interactions between Interest rate, Cr...</td>\n",
       "    </tr>\n",
       "    <tr>\n",
       "      <th>8069</th>\n",
       "      <td>[보고서]</td>\n",
       "      <td>Kim, J.</td>\n",
       "      <td>2017</td>\n",
       "      <td>A Theory on the Expected Returns of Defautable...</td>\n",
       "    </tr>\n",
       "    <tr>\n",
       "      <th>8070</th>\n",
       "      <td>[보고서]</td>\n",
       "      <td>Tang, D. Y.</td>\n",
       "      <td>2007</td>\n",
       "      <td>Liquidity and Credit Default Swap Spreads,</td>\n",
       "    </tr>\n",
       "  </tbody>\n",
       "</table>\n",
       "</div>"
      ],
      "text/plain": [
       "       char          name  year  \\\n",
       "8066  [보고서]      Fink, J.  2006   \n",
       "8067  [보고서]       Liu, B.  2012   \n",
       "8068  [보고서]   Chen, R. R.  2005   \n",
       "8069  [보고서]       Kim, J.  2017   \n",
       "8070  [보고서]   Tang, D. Y.  2007   \n",
       "\n",
       "                                                  paper  \n",
       "8066   Firm age and fluctuations in idiosyncratic risk,  \n",
       "8067  Idiosyncratic volatility on Australian stock r...  \n",
       "8068  Dynamic Interactions between Interest rate, Cr...  \n",
       "8069  A Theory on the Expected Returns of Defautable...  \n",
       "8070         Liquidity and Credit Default Swap Spreads,  "
      ]
     },
     "execution_count": 65,
     "metadata": {},
     "output_type": "execute_result"
    }
   ],
   "source": [
    "len_4_df = pd.DataFrame()\n",
    "len_4_df['char'] = char_paper_ls\n",
    "len_4_df['name'] = name_ls\n",
    "len_4_df['year'] = year_ls\n",
    "len_4_df['paper'] = paper_ls\n",
    "\n",
    "len_4_df.tail()"
   ]
  },
  {
   "cell_type": "markdown",
   "metadata": {},
   "source": [
    "---------------"
   ]
  },
  {
   "cell_type": "markdown",
   "metadata": {},
   "source": [
    "# 4개짜리의 구조\n",
    "- 마지막 엘리먼트는 저널명이 되겠다."
   ]
  },
  {
   "cell_type": "code",
   "execution_count": 66,
   "metadata": {},
   "outputs": [
    {
     "data": {
      "text/plain": [
       "['9. [학술지(정기간행물)] - Kreps, D',\n",
       " '1982',\n",
       " 'Reputation and Imperfect Information',\n",
       " 'Journal of Economic Theory 27 : 253 ~ 279,']"
      ]
     },
     "execution_count": 66,
     "metadata": {},
     "output_type": "execute_result"
    }
   ],
   "source": [
    "[i for i in new_refer_ls if len(i) == 4][800]"
   ]
  },
  {
   "cell_type": "code",
   "execution_count": 67,
   "metadata": {},
   "outputs": [
    {
     "data": {
      "text/plain": [
       "['Journal of Finance 63 : 2345 ~ 2384,',\n",
       " '한국경제연구 28 (4) : 39 ~ 90,',\n",
       " '보험학회지 76 (76) : 32 ~ 60,',\n",
       " 'Review of Financial Studies 20 (5) : 1429 ~ 1460,',\n",
       " 'Journal of Financial Research 5 : 95 ~ 104,']"
      ]
     },
     "execution_count": 67,
     "metadata": {},
     "output_type": "execute_result"
    }
   ],
   "source": [
    "list(set([paper[-1] for paper in [i for i in new_refer_ls if len(i) == 4]]))[-5:]"
   ]
  },
  {
   "cell_type": "code",
   "execution_count": 68,
   "metadata": {
    "scrolled": true
   },
   "outputs": [
    {
     "name": "stdout",
     "output_type": "stream",
     "text": [
      "28840\n"
     ]
    }
   ],
   "source": [
    "print(len([paper[-1] for paper in [i for i in new_refer_ls if len(i) == 4]]))"
   ]
  },
  {
   "cell_type": "markdown",
   "metadata": {},
   "source": [
    "- 아래는 길이가 4개인 리스트에서 저널명을 나타내는 마지막 리스트를 빼온 것이다.\n",
    "- 이 리스트를 통해서 길이가 3개짜리인 리스트의 마지막에서 저널명이 포함된 것을 빼와본다.\n",
    "- 우선 일반화를 위해서 숫자를 다 빼고 유니크한 값으로 변환시켜준다."
   ]
  },
  {
   "cell_type": "code",
   "execution_count": 69,
   "metadata": {},
   "outputs": [
    {
     "data": {
      "text/plain": [
       "['Journal of Finance 58 (3) : 1113 ~ 1137,',\n",
       " 'Journal of Political Economy 111 (6) : 1183 ~ 1220,',\n",
       " 'Journal of Finance 52 (1) : 35 ~ 55,',\n",
       " 'Journal of Financial and Quantitative Analysis 34 (1) : 89 ~ 114,',\n",
       " 'Journal of Business 75 (4) : 583 ~ 608']"
      ]
     },
     "execution_count": 69,
     "metadata": {},
     "output_type": "execute_result"
    }
   ],
   "source": [
    "[paper[-1] for paper in [i for i in new_refer_ls if len(i) == 4]][-5:]"
   ]
  },
  {
   "cell_type": "code",
   "execution_count": 70,
   "metadata": {},
   "outputs": [
    {
     "data": {
      "text/plain": [
       "28840"
      ]
     },
     "execution_count": 70,
     "metadata": {},
     "output_type": "execute_result"
    }
   ],
   "source": [
    "len([paper[-1] for paper in [i for i in new_refer_ls if len(i) == 4]])"
   ]
  },
  {
   "cell_type": "markdown",
   "metadata": {},
   "source": [
    "좀 걸린다."
   ]
  },
  {
   "cell_type": "markdown",
   "metadata": {},
   "source": [
    "# 4개짜리 데이터 프레임으로 만들기"
   ]
  },
  {
   "cell_type": "code",
   "execution_count": 71,
   "metadata": {},
   "outputs": [
    {
     "data": {
      "text/plain": [
       "['4. [학술지(정기간행물)]',\n",
       " ' 정완호',\n",
       " '2003',\n",
       " '기업 신용위험의 측정- 채권수익률을 이용하여 -',\n",
       " 'Asia-Pacific Journal of Financial Studies 32 (1) : 135 ~ 172,']"
      ]
     },
     "execution_count": 71,
     "metadata": {},
     "output_type": "execute_result"
    }
   ],
   "source": [
    "[i for i in tuned_new_refer if len(i) == 5][0]"
   ]
  },
  {
   "cell_type": "markdown",
   "metadata": {},
   "source": [
    "## Characteristic of paper"
   ]
  },
  {
   "cell_type": "code",
   "execution_count": 72,
   "metadata": {
    "collapsed": true
   },
   "outputs": [],
   "source": [
    "char_paper_ls = [re.findall('\\[.+\\]',i[0])[0] for i in [i for i in tuned_new_refer if len(i) == 5]]"
   ]
  },
  {
   "cell_type": "markdown",
   "metadata": {},
   "source": [
    "## author of paper"
   ]
  },
  {
   "cell_type": "code",
   "execution_count": 73,
   "metadata": {
    "collapsed": true
   },
   "outputs": [],
   "source": [
    "name_ls = [i[1] for i in tuned_new_refer if len(i) == 5]"
   ]
  },
  {
   "cell_type": "markdown",
   "metadata": {},
   "source": [
    "## year of paper published"
   ]
  },
  {
   "cell_type": "code",
   "execution_count": 74,
   "metadata": {
    "collapsed": true
   },
   "outputs": [],
   "source": [
    "year_ls = [i[2] for i in tuned_new_refer if len(i) == 5]"
   ]
  },
  {
   "cell_type": "markdown",
   "metadata": {},
   "source": [
    "## name of paper"
   ]
  },
  {
   "cell_type": "code",
   "execution_count": 75,
   "metadata": {
    "collapsed": true
   },
   "outputs": [],
   "source": [
    "paper_ls = [i[3] for i in tuned_new_refer if len(i) == 5]"
   ]
  },
  {
   "cell_type": "markdown",
   "metadata": {},
   "source": [
    "## journal name which paper published"
   ]
  },
  {
   "cell_type": "code",
   "execution_count": 76,
   "metadata": {
    "collapsed": true
   },
   "outputs": [],
   "source": [
    "journal_ls = [i[-1] for i in tuned_new_refer if len(i) == 5]"
   ]
  },
  {
   "cell_type": "code",
   "execution_count": 77,
   "metadata": {
    "scrolled": true
   },
   "outputs": [
    {
     "data": {
      "text/plain": [
       "True"
      ]
     },
     "execution_count": 77,
     "metadata": {},
     "output_type": "execute_result"
    }
   ],
   "source": [
    "len(char_paper_ls) == len(name_ls) == len(year_ls) == len(paper_ls) == len(journal_ls)"
   ]
  },
  {
   "cell_type": "code",
   "execution_count": 78,
   "metadata": {
    "scrolled": true
   },
   "outputs": [
    {
     "data": {
      "text/html": [
       "<div>\n",
       "<style>\n",
       "    .dataframe thead tr:only-child th {\n",
       "        text-align: right;\n",
       "    }\n",
       "\n",
       "    .dataframe thead th {\n",
       "        text-align: left;\n",
       "    }\n",
       "\n",
       "    .dataframe tbody tr th {\n",
       "        vertical-align: top;\n",
       "    }\n",
       "</style>\n",
       "<table border=\"1\" class=\"dataframe\">\n",
       "  <thead>\n",
       "    <tr style=\"text-align: right;\">\n",
       "      <th></th>\n",
       "      <th>char</th>\n",
       "      <th>name</th>\n",
       "      <th>year</th>\n",
       "      <th>paper</th>\n",
       "      <th>journal</th>\n",
       "    </tr>\n",
       "  </thead>\n",
       "  <tbody>\n",
       "    <tr>\n",
       "      <th>28835</th>\n",
       "      <td>[학술지(정기간행물)]</td>\n",
       "      <td>Ofek, E.</td>\n",
       "      <td>2003</td>\n",
       "      <td>Dotcom Mania : The Rise and Fall of Internet S...</td>\n",
       "      <td>Journal of Finance 58 (3) : 1113 ~ 1137,</td>\n",
       "    </tr>\n",
       "    <tr>\n",
       "      <th>28836</th>\n",
       "      <td>[학술지(정기간행물)]</td>\n",
       "      <td>Scheinkman, J. A.</td>\n",
       "      <td>2003</td>\n",
       "      <td>Overconfidence and Speculative Bubbles</td>\n",
       "      <td>Journal of Political Economy 111 (6) : 1183 ~ ...</td>\n",
       "    </tr>\n",
       "    <tr>\n",
       "      <th>28837</th>\n",
       "      <td>[학술지(정기간행물)]</td>\n",
       "      <td>Shleifer, A.</td>\n",
       "      <td>1997</td>\n",
       "      <td>The Limits of Arbitrage</td>\n",
       "      <td>Journal of Finance 52 (1) : 35 ~ 55,</td>\n",
       "    </tr>\n",
       "    <tr>\n",
       "      <th>28838</th>\n",
       "      <td>[학술지(정기간행물)]</td>\n",
       "      <td>Tkac, P. A.</td>\n",
       "      <td>1999</td>\n",
       "      <td>A Trading Volume Benchmark : Theory and Evidence</td>\n",
       "      <td>Journal of Financial and Quantitative Analysis...</td>\n",
       "    </tr>\n",
       "    <tr>\n",
       "      <th>28839</th>\n",
       "      <td>[학술지(정기간행물)]</td>\n",
       "      <td>Wurgler, J.</td>\n",
       "      <td>2002</td>\n",
       "      <td>Does Arbitrage Flatten Demand Curves for Stocks?</td>\n",
       "      <td>Journal of Business 75 (4) : 583 ~ 608</td>\n",
       "    </tr>\n",
       "  </tbody>\n",
       "</table>\n",
       "</div>"
      ],
      "text/plain": [
       "               char                name  year  \\\n",
       "28835  [학술지(정기간행물)]            Ofek, E.  2003   \n",
       "28836  [학술지(정기간행물)]   Scheinkman, J. A.  2003   \n",
       "28837  [학술지(정기간행물)]        Shleifer, A.  1997   \n",
       "28838  [학술지(정기간행물)]         Tkac, P. A.  1999   \n",
       "28839  [학술지(정기간행물)]         Wurgler, J.  2002   \n",
       "\n",
       "                                                   paper  \\\n",
       "28835  Dotcom Mania : The Rise and Fall of Internet S...   \n",
       "28836             Overconfidence and Speculative Bubbles   \n",
       "28837                            The Limits of Arbitrage   \n",
       "28838   A Trading Volume Benchmark : Theory and Evidence   \n",
       "28839   Does Arbitrage Flatten Demand Curves for Stocks?   \n",
       "\n",
       "                                                 journal  \n",
       "28835           Journal of Finance 58 (3) : 1113 ~ 1137,  \n",
       "28836  Journal of Political Economy 111 (6) : 1183 ~ ...  \n",
       "28837               Journal of Finance 52 (1) : 35 ~ 55,  \n",
       "28838  Journal of Financial and Quantitative Analysis...  \n",
       "28839             Journal of Business 75 (4) : 583 ~ 608  "
      ]
     },
     "execution_count": 78,
     "metadata": {},
     "output_type": "execute_result"
    }
   ],
   "source": [
    "len_5_df = pd.DataFrame()\n",
    "len_5_df['char'] = char_paper_ls\n",
    "len_5_df['name'] = name_ls\n",
    "len_5_df['year'] = year_ls\n",
    "len_5_df['paper'] = paper_ls\n",
    "len_5_df['journal'] = journal_ls\n",
    "\n",
    "len_5_df.tail()"
   ]
  },
  {
   "cell_type": "markdown",
   "metadata": {},
   "source": [
    "-------------------------------------"
   ]
  },
  {
   "cell_type": "markdown",
   "metadata": {},
   "source": [
    "# 5개짜리의 구조"
   ]
  },
  {
   "cell_type": "code",
   "execution_count": 79,
   "metadata": {},
   "outputs": [
    {
     "data": {
      "text/plain": [
       "94"
      ]
     },
     "execution_count": 79,
     "metadata": {},
     "output_type": "execute_result"
    }
   ],
   "source": [
    "len([i for i in new_refer_ls if len(i) == 5])"
   ]
  },
  {
   "cell_type": "markdown",
   "metadata": {},
   "source": [
    "- 우선 첫 번째 리스트에서 - 이후에 성명이 나와있는 경우가 있다.\n",
    "- 마지막과 그 전 리스트 엘리먼트는 해당 저자의 소속과 학위가 나와있다."
   ]
  },
  {
   "cell_type": "markdown",
   "metadata": {},
   "source": [
    "# 학위"
   ]
  },
  {
   "cell_type": "code",
   "execution_count": 80,
   "metadata": {
    "scrolled": true
   },
   "outputs": [
    {
     "data": {
      "text/plain": [
       "{'Ph.D', '博士', '박사', '석사'}"
      ]
     },
     "execution_count": 80,
     "metadata": {},
     "output_type": "execute_result"
    }
   ],
   "source": [
    "set([paper[-2] for paper in [i for i in new_refer_ls if len(i) == 5]])"
   ]
  },
  {
   "cell_type": "markdown",
   "metadata": {},
   "source": [
    "# 소속"
   ]
  },
  {
   "cell_type": "code",
   "execution_count": 81,
   "metadata": {
    "scrolled": false
   },
   "outputs": [
    {
     "data": {
      "text/plain": [
       "['UZH and ETHZ,',\n",
       " '전남대학교 대학원,',\n",
       " '계명대학교 대학원,',\n",
       " 'Seoul National University,',\n",
       " '명지대대학원,']"
      ]
     },
     "execution_count": 81,
     "metadata": {},
     "output_type": "execute_result"
    }
   ],
   "source": [
    "list(set([paper[-1] for paper in [i for i in new_refer_ls if len(i) == 5]]))[-5:]"
   ]
  },
  {
   "cell_type": "markdown",
   "metadata": {},
   "source": [
    "# 길이가 6개인 리스트를 나눠서 데이터 프레임으로 넣기"
   ]
  },
  {
   "cell_type": "code",
   "execution_count": 82,
   "metadata": {},
   "outputs": [
    {
     "data": {
      "text/plain": [
       "['22. [학위논문]',\n",
       " ' Low, A',\n",
       " '1992',\n",
       " 'Essays on asymmetric information in international finance',\n",
       " '박사',\n",
       " 'University of California,']"
      ]
     },
     "execution_count": 82,
     "metadata": {},
     "output_type": "execute_result"
    }
   ],
   "source": [
    "[i for i in tuned_new_refer if len(i) == 6][0]"
   ]
  },
  {
   "cell_type": "markdown",
   "metadata": {},
   "source": [
    "## Characteristic of paper"
   ]
  },
  {
   "cell_type": "code",
   "execution_count": 83,
   "metadata": {
    "collapsed": true
   },
   "outputs": [],
   "source": [
    "char_paper_ls = [re.findall('\\[.+\\]',i[0])[0] for i in [i for i in tuned_new_refer if len(i) == 6]]"
   ]
  },
  {
   "cell_type": "markdown",
   "metadata": {},
   "source": [
    "## Author of paper"
   ]
  },
  {
   "cell_type": "code",
   "execution_count": 84,
   "metadata": {
    "collapsed": true
   },
   "outputs": [],
   "source": [
    "name_ls = []\n",
    "\n",
    "for k in range(len([i for i in tuned_new_refer if len(i) == 6])):\n",
    "    name_ls.append([i for i in tuned_new_refer if len(i) == 6][k]\\\n",
    "[1:[idx for idx,val in enumerate([i for i in tuned_new_refer if len(i) == 6][k]) if re.findall(\"[0-9]{4}\",val)][0]][0])"
   ]
  },
  {
   "cell_type": "markdown",
   "metadata": {},
   "source": [
    "## Year of paper published"
   ]
  },
  {
   "cell_type": "code",
   "execution_count": 85,
   "metadata": {
    "collapsed": true
   },
   "outputs": [],
   "source": [
    "year_ls = []\n",
    "\n",
    "for k in range(len([i for i in tuned_new_refer if len(i) == 6])):\n",
    "    year_ls.append([i for i in tuned_new_refer if len(i) == 6][k]\\\n",
    "[[idx for idx,val in enumerate([i for i in tuned_new_refer if len(i) == 6][k]) if re.findall(\"[0-9]{4}\",val)][0]])"
   ]
  },
  {
   "cell_type": "markdown",
   "metadata": {},
   "source": [
    "## Name of paper"
   ]
  },
  {
   "cell_type": "code",
   "execution_count": 86,
   "metadata": {
    "collapsed": true
   },
   "outputs": [],
   "source": [
    "paper_ls = []\n",
    "\n",
    "for k in range(len([i for i in tuned_new_refer if len(i) == 6])):\n",
    "    paper_ls.append([i for i in tuned_new_refer if len(i) == 6][k]\\\n",
    "[[idx+1 for idx,val in enumerate([i for i in tuned_new_refer if len(i) == 6][k]) if re.findall(\"[0-9]{4}\",val)][0]])"
   ]
  },
  {
   "cell_type": "markdown",
   "metadata": {},
   "source": [
    "## Details about Author (degree , school)"
   ]
  },
  {
   "cell_type": "code",
   "execution_count": 87,
   "metadata": {
    "collapsed": true
   },
   "outputs": [],
   "source": [
    "degree_ls = [i[-2] for i in tuned_new_refer if len(i) == 6]\n",
    "school_ls = [i[-1] for i in tuned_new_refer if len(i) == 6]"
   ]
  },
  {
   "cell_type": "code",
   "execution_count": 88,
   "metadata": {},
   "outputs": [
    {
     "data": {
      "text/plain": [
       "True"
      ]
     },
     "execution_count": 88,
     "metadata": {},
     "output_type": "execute_result"
    }
   ],
   "source": [
    "len(char_paper_ls) == len(name_ls) == len(year_ls) == len(paper_ls) == len(degree_ls) == len(school_ls)"
   ]
  },
  {
   "cell_type": "code",
   "execution_count": 89,
   "metadata": {
    "scrolled": true
   },
   "outputs": [
    {
     "data": {
      "text/html": [
       "<div>\n",
       "<style>\n",
       "    .dataframe thead tr:only-child th {\n",
       "        text-align: right;\n",
       "    }\n",
       "\n",
       "    .dataframe thead th {\n",
       "        text-align: left;\n",
       "    }\n",
       "\n",
       "    .dataframe tbody tr th {\n",
       "        vertical-align: top;\n",
       "    }\n",
       "</style>\n",
       "<table border=\"1\" class=\"dataframe\">\n",
       "  <thead>\n",
       "    <tr style=\"text-align: right;\">\n",
       "      <th></th>\n",
       "      <th>char</th>\n",
       "      <th>name</th>\n",
       "      <th>year</th>\n",
       "      <th>paper</th>\n",
       "      <th>degree</th>\n",
       "      <th>school</th>\n",
       "    </tr>\n",
       "  </thead>\n",
       "  <tbody>\n",
       "    <tr>\n",
       "      <th>89</th>\n",
       "      <td>[학위논문]</td>\n",
       "      <td>Wei, X.</td>\n",
       "      <td>2009</td>\n",
       "      <td>The price effect and the issuance clustering a...</td>\n",
       "      <td>석사</td>\n",
       "      <td>National University of Singapore,</td>\n",
       "    </tr>\n",
       "    <tr>\n",
       "      <th>90</th>\n",
       "      <td>[학위논문]</td>\n",
       "      <td>박성환</td>\n",
       "      <td>2011</td>\n",
       "      <td>지방채발행의 추이분석과 영향구조에 관한 연구</td>\n",
       "      <td>박사</td>\n",
       "      <td>영남대학교 대학원,</td>\n",
       "    </tr>\n",
       "    <tr>\n",
       "      <th>91</th>\n",
       "      <td>[학위논문]</td>\n",
       "      <td>김동현</td>\n",
       "      <td>2008</td>\n",
       "      <td>국내 민간의료보험 시장의 역선택에 관한 실증연구</td>\n",
       "      <td>석사</td>\n",
       "      <td>경희대학교 대학원,</td>\n",
       "    </tr>\n",
       "    <tr>\n",
       "      <th>92</th>\n",
       "      <td>[학위논문]</td>\n",
       "      <td>이수진</td>\n",
       "      <td>2012</td>\n",
       "      <td>민간의료보험이 의료수요에 미치는 영향 : 도덕적 해이와 역선택 효과의 실증적 구분</td>\n",
       "      <td>석사</td>\n",
       "      <td>연세대학교 대학원,</td>\n",
       "    </tr>\n",
       "    <tr>\n",
       "      <th>93</th>\n",
       "      <td>[학위논문]</td>\n",
       "      <td>한영하</td>\n",
       "      <td>2014</td>\n",
       "      <td>한국주택금융공사 보금자리론 조기상환율 추정 및 가치산정 연구</td>\n",
       "      <td>박사</td>\n",
       "      <td>연세대학교 대학원,</td>\n",
       "    </tr>\n",
       "  </tbody>\n",
       "</table>\n",
       "</div>"
      ],
      "text/plain": [
       "      char      name  year                                              paper  \\\n",
       "89  [학위논문]   Wei, X.  2009  The price effect and the issuance clustering a...   \n",
       "90  [학위논문]       박성환  2011                           지방채발행의 추이분석과 영향구조에 관한 연구   \n",
       "91  [학위논문]       김동현  2008                         국내 민간의료보험 시장의 역선택에 관한 실증연구   \n",
       "92  [학위논문]       이수진  2012      민간의료보험이 의료수요에 미치는 영향 : 도덕적 해이와 역선택 효과의 실증적 구분   \n",
       "93  [학위논문]       한영하  2014                  한국주택금융공사 보금자리론 조기상환율 추정 및 가치산정 연구   \n",
       "\n",
       "   degree                             school  \n",
       "89     석사  National University of Singapore,  \n",
       "90     박사                         영남대학교 대학원,  \n",
       "91     석사                         경희대학교 대학원,  \n",
       "92     석사                         연세대학교 대학원,  \n",
       "93     박사                         연세대학교 대학원,  "
      ]
     },
     "execution_count": 89,
     "metadata": {},
     "output_type": "execute_result"
    }
   ],
   "source": [
    "len_6_df = pd.DataFrame()\n",
    "len_6_df['char'] = char_paper_ls\n",
    "len_6_df['name'] = name_ls\n",
    "len_6_df['year'] = year_ls\n",
    "len_6_df['paper'] = paper_ls\n",
    "len_6_df['degree'] = degree_ls\n",
    "len_6_df['school'] = school_ls\n",
    "\n",
    "len_6_df.tail()"
   ]
  },
  {
   "cell_type": "markdown",
   "metadata": {},
   "source": [
    "# concatenate the 3 dataframe"
   ]
  },
  {
   "cell_type": "code",
   "execution_count": 90,
   "metadata": {},
   "outputs": [
    {
     "data": {
      "text/html": [
       "<div>\n",
       "<style>\n",
       "    .dataframe thead tr:only-child th {\n",
       "        text-align: right;\n",
       "    }\n",
       "\n",
       "    .dataframe thead th {\n",
       "        text-align: left;\n",
       "    }\n",
       "\n",
       "    .dataframe tbody tr th {\n",
       "        vertical-align: top;\n",
       "    }\n",
       "</style>\n",
       "<table border=\"1\" class=\"dataframe\">\n",
       "  <thead>\n",
       "    <tr style=\"text-align: right;\">\n",
       "      <th></th>\n",
       "      <th>char</th>\n",
       "      <th>degree</th>\n",
       "      <th>journal</th>\n",
       "      <th>name</th>\n",
       "      <th>paper</th>\n",
       "      <th>school</th>\n",
       "      <th>year</th>\n",
       "    </tr>\n",
       "  </thead>\n",
       "  <tbody>\n",
       "    <tr>\n",
       "      <th>37000</th>\n",
       "      <td>[학위논문]</td>\n",
       "      <td>석사</td>\n",
       "      <td>NaN</td>\n",
       "      <td>Wei, X.</td>\n",
       "      <td>The price effect and the issuance clustering a...</td>\n",
       "      <td>National University of Singapore,</td>\n",
       "      <td>2009</td>\n",
       "    </tr>\n",
       "    <tr>\n",
       "      <th>37001</th>\n",
       "      <td>[학위논문]</td>\n",
       "      <td>박사</td>\n",
       "      <td>NaN</td>\n",
       "      <td>박성환</td>\n",
       "      <td>지방채발행의 추이분석과 영향구조에 관한 연구</td>\n",
       "      <td>영남대학교 대학원,</td>\n",
       "      <td>2011</td>\n",
       "    </tr>\n",
       "    <tr>\n",
       "      <th>37002</th>\n",
       "      <td>[학위논문]</td>\n",
       "      <td>석사</td>\n",
       "      <td>NaN</td>\n",
       "      <td>김동현</td>\n",
       "      <td>국내 민간의료보험 시장의 역선택에 관한 실증연구</td>\n",
       "      <td>경희대학교 대학원,</td>\n",
       "      <td>2008</td>\n",
       "    </tr>\n",
       "    <tr>\n",
       "      <th>37003</th>\n",
       "      <td>[학위논문]</td>\n",
       "      <td>석사</td>\n",
       "      <td>NaN</td>\n",
       "      <td>이수진</td>\n",
       "      <td>민간의료보험이 의료수요에 미치는 영향 : 도덕적 해이와 역선택 효과의 실증적 구분</td>\n",
       "      <td>연세대학교 대학원,</td>\n",
       "      <td>2012</td>\n",
       "    </tr>\n",
       "    <tr>\n",
       "      <th>37004</th>\n",
       "      <td>[학위논문]</td>\n",
       "      <td>박사</td>\n",
       "      <td>NaN</td>\n",
       "      <td>한영하</td>\n",
       "      <td>한국주택금융공사 보금자리론 조기상환율 추정 및 가치산정 연구</td>\n",
       "      <td>연세대학교 대학원,</td>\n",
       "      <td>2014</td>\n",
       "    </tr>\n",
       "  </tbody>\n",
       "</table>\n",
       "</div>"
      ],
      "text/plain": [
       "         char degree journal      name  \\\n",
       "37000  [학위논문]     석사     NaN   Wei, X.   \n",
       "37001  [학위논문]     박사     NaN       박성환   \n",
       "37002  [학위논문]     석사     NaN       김동현   \n",
       "37003  [학위논문]     석사     NaN       이수진   \n",
       "37004  [학위논문]     박사     NaN       한영하   \n",
       "\n",
       "                                                   paper  \\\n",
       "37000  The price effect and the issuance clustering a...   \n",
       "37001                           지방채발행의 추이분석과 영향구조에 관한 연구   \n",
       "37002                         국내 민간의료보험 시장의 역선택에 관한 실증연구   \n",
       "37003      민간의료보험이 의료수요에 미치는 영향 : 도덕적 해이와 역선택 효과의 실증적 구분   \n",
       "37004                  한국주택금융공사 보금자리론 조기상환율 추정 및 가치산정 연구   \n",
       "\n",
       "                                  school  year  \n",
       "37000  National University of Singapore,  2009  \n",
       "37001                         영남대학교 대학원,  2011  \n",
       "37002                         경희대학교 대학원,  2008  \n",
       "37003                         연세대학교 대학원,  2012  \n",
       "37004                         연세대학교 대학원,  2014  "
      ]
     },
     "execution_count": 90,
     "metadata": {},
     "output_type": "execute_result"
    }
   ],
   "source": [
    "final_df = pd.concat([len_4_df,len_5_df],axis=0)\n",
    "final_df = pd.concat([final_df,len_6_df],axis=0)\n",
    "final_df.reset_index(drop=True,inplace=True)\n",
    "final_df.tail()"
   ]
  },
  {
   "cell_type": "code",
   "execution_count": 91,
   "metadata": {
    "collapsed": true
   },
   "outputs": [],
   "source": [
    "final_df.to_csv('tuned_dataframe_refer.csv',index=False)"
   ]
  },
  {
   "cell_type": "markdown",
   "metadata": {},
   "source": [
    "# concatenate tuned_infor and tuned_refer dataframe"
   ]
  },
  {
   "cell_type": "code",
   "execution_count": 92,
   "metadata": {
    "collapsed": true
   },
   "outputs": [],
   "source": [
    "infor_csv = pd.read_csv(\"tuned_dataframe_infor.csv\")\n",
    "refer_csv = pd.read_csv(\"tuned_dataframe_refer.csv\")\n",
    "\n",
    "df = pd.concat([infor_csv,refer_csv],axis=1)"
   ]
  },
  {
   "cell_type": "code",
   "execution_count": 93,
   "metadata": {
    "collapsed": true
   },
   "outputs": [],
   "source": [
    "df.columns = ['paper_name_infor', 'institution_infor', 'author_infor', 'journal_infor', 'dont_know_infor', 'page_infor',\n",
    "       'year_infor', 'field_infor', 'cited_infor', 'char_refer', 'degree_refer', 'journal_refer', 'name_refer', 'paper_refer',\n",
    "       'school_refer', 'year_refer']"
   ]
  },
  {
   "cell_type": "code",
   "execution_count": 94,
   "metadata": {
    "collapsed": true
   },
   "outputs": [],
   "source": [
    "df.to_csv('tuned_dataframe.csv',index=False)"
   ]
  },
  {
   "cell_type": "code",
   "execution_count": 95,
   "metadata": {
    "scrolled": true
   },
   "outputs": [
    {
     "data": {
      "text/html": [
       "<div>\n",
       "<style>\n",
       "    .dataframe thead tr:only-child th {\n",
       "        text-align: right;\n",
       "    }\n",
       "\n",
       "    .dataframe thead th {\n",
       "        text-align: left;\n",
       "    }\n",
       "\n",
       "    .dataframe tbody tr th {\n",
       "        vertical-align: top;\n",
       "    }\n",
       "</style>\n",
       "<table border=\"1\" class=\"dataframe\">\n",
       "  <thead>\n",
       "    <tr style=\"text-align: right;\">\n",
       "      <th></th>\n",
       "      <th>paper_name_infor</th>\n",
       "      <th>institution_infor</th>\n",
       "      <th>author_infor</th>\n",
       "      <th>journal_infor</th>\n",
       "      <th>dont_know_infor</th>\n",
       "      <th>page_infor</th>\n",
       "      <th>year_infor</th>\n",
       "      <th>field_infor</th>\n",
       "      <th>cited_infor</th>\n",
       "      <th>char_refer</th>\n",
       "      <th>degree_refer</th>\n",
       "      <th>journal_refer</th>\n",
       "      <th>name_refer</th>\n",
       "      <th>paper_refer</th>\n",
       "      <th>school_refer</th>\n",
       "      <th>year_refer</th>\n",
       "    </tr>\n",
       "  </thead>\n",
       "  <tbody>\n",
       "    <tr>\n",
       "      <th>37242</th>\n",
       "      <td>KOSPI200 옵션전략지수의 성과</td>\n",
       "      <td>한국파생상품학회</td>\n",
       "      <td>권순신 , 강병진 , 정재만</td>\n",
       "      <td>선물연구</td>\n",
       "      <td>26(2)</td>\n",
       "      <td>pp.183~216</td>\n",
       "      <td>2018.05</td>\n",
       "      <td>경영학</td>\n",
       "      <td>피인용횟수 : 0</td>\n",
       "      <td>NaN</td>\n",
       "      <td>NaN</td>\n",
       "      <td>NaN</td>\n",
       "      <td>NaN</td>\n",
       "      <td>NaN</td>\n",
       "      <td>NaN</td>\n",
       "      <td>NaN</td>\n",
       "    </tr>\n",
       "    <tr>\n",
       "      <th>37243</th>\n",
       "      <td>KRX금시장과 국제금융시장의 상호연관성에 관한 연구 : CME선물시장을 중심으로</td>\n",
       "      <td>한국파생상품학회</td>\n",
       "      <td>염명훈 , 김지훈</td>\n",
       "      <td>선물연구</td>\n",
       "      <td>26(3)</td>\n",
       "      <td>pp.345~369</td>\n",
       "      <td>2018.08</td>\n",
       "      <td>경영학</td>\n",
       "      <td>피인용횟수 : 0</td>\n",
       "      <td>NaN</td>\n",
       "      <td>NaN</td>\n",
       "      <td>NaN</td>\n",
       "      <td>NaN</td>\n",
       "      <td>NaN</td>\n",
       "      <td>NaN</td>\n",
       "      <td>NaN</td>\n",
       "    </tr>\n",
       "    <tr>\n",
       "      <th>37244</th>\n",
       "      <td>Analytical Approximations of American Call Opt...</td>\n",
       "      <td>한국파생상품학회</td>\n",
       "      <td>배광일</td>\n",
       "      <td>선물연구</td>\n",
       "      <td>26(3)</td>\n",
       "      <td>pp.283~310</td>\n",
       "      <td>2018.08</td>\n",
       "      <td>경영학</td>\n",
       "      <td>피인용횟수 : 0</td>\n",
       "      <td>NaN</td>\n",
       "      <td>NaN</td>\n",
       "      <td>NaN</td>\n",
       "      <td>NaN</td>\n",
       "      <td>NaN</td>\n",
       "      <td>NaN</td>\n",
       "      <td>NaN</td>\n",
       "    </tr>\n",
       "    <tr>\n",
       "      <th>37245</th>\n",
       "      <td>현금흐름 위험 기반 KOSPI 수익률 횡단면 연구</td>\n",
       "      <td>한국파생상품학회</td>\n",
       "      <td>문성제 , 송준혁</td>\n",
       "      <td>선물연구</td>\n",
       "      <td>26(3)</td>\n",
       "      <td>pp.311~343</td>\n",
       "      <td>2018.08</td>\n",
       "      <td>경영학</td>\n",
       "      <td>피인용횟수 : 0</td>\n",
       "      <td>NaN</td>\n",
       "      <td>NaN</td>\n",
       "      <td>NaN</td>\n",
       "      <td>NaN</td>\n",
       "      <td>NaN</td>\n",
       "      <td>NaN</td>\n",
       "      <td>NaN</td>\n",
       "    </tr>\n",
       "    <tr>\n",
       "      <th>37246</th>\n",
       "      <td>모호성 회피성향이 예방적 노력에 미치는 영향</td>\n",
       "      <td>한국파생상품학회</td>\n",
       "      <td>홍지민</td>\n",
       "      <td>선물연구</td>\n",
       "      <td>26(3)</td>\n",
       "      <td>pp.371~389</td>\n",
       "      <td>2018.08</td>\n",
       "      <td>경영학</td>\n",
       "      <td>피인용횟수 : 0</td>\n",
       "      <td>NaN</td>\n",
       "      <td>NaN</td>\n",
       "      <td>NaN</td>\n",
       "      <td>NaN</td>\n",
       "      <td>NaN</td>\n",
       "      <td>NaN</td>\n",
       "      <td>NaN</td>\n",
       "    </tr>\n",
       "  </tbody>\n",
       "</table>\n",
       "</div>"
      ],
      "text/plain": [
       "                                        paper_name_infor institution_infor  \\\n",
       "37242                                KOSPI200 옵션전략지수의 성과         한국파생상품학회    \n",
       "37243       KRX금시장과 국제금융시장의 상호연관성에 관한 연구 : CME선물시장을 중심으로         한국파생상품학회    \n",
       "37244  Analytical Approximations of American Call Opt...         한국파생상품학회    \n",
       "37245                        현금흐름 위험 기반 KOSPI 수익률 횡단면 연구         한국파생상품학회    \n",
       "37246                           모호성 회피성향이 예방적 노력에 미치는 영향         한국파생상품학회    \n",
       "\n",
       "           author_infor journal_infor dont_know_infor    page_infor  \\\n",
       "37242  권순신 , 강병진 , 정재만          선물연구           26(2)    pp.183~216    \n",
       "37243        염명훈 , 김지훈          선물연구           26(3)    pp.345~369    \n",
       "37244              배광일          선물연구           26(3)    pp.283~310    \n",
       "37245        문성제 , 송준혁          선물연구           26(3)    pp.311~343    \n",
       "37246              홍지민          선물연구           26(3)    pp.371~389    \n",
       "\n",
       "       year_infor field_infor cited_infor char_refer degree_refer  \\\n",
       "37242     2018.05         경영학   피인용횟수 : 0        NaN          NaN   \n",
       "37243     2018.08         경영학   피인용횟수 : 0        NaN          NaN   \n",
       "37244     2018.08         경영학   피인용횟수 : 0        NaN          NaN   \n",
       "37245     2018.08         경영학   피인용횟수 : 0        NaN          NaN   \n",
       "37246     2018.08         경영학   피인용횟수 : 0        NaN          NaN   \n",
       "\n",
       "      journal_refer name_refer paper_refer school_refer  year_refer  \n",
       "37242           NaN        NaN         NaN          NaN         NaN  \n",
       "37243           NaN        NaN         NaN          NaN         NaN  \n",
       "37244           NaN        NaN         NaN          NaN         NaN  \n",
       "37245           NaN        NaN         NaN          NaN         NaN  \n",
       "37246           NaN        NaN         NaN          NaN         NaN  "
      ]
     },
     "execution_count": 95,
     "metadata": {},
     "output_type": "execute_result"
    }
   ],
   "source": [
    "df.tail()"
   ]
  },
  {
   "cell_type": "markdown",
   "metadata": {},
   "source": [
    "## 정리\n",
    "- 4개짜리 리스트 (8071개)\n",
    "    - 논문의 특성\n",
    "    - 이름(공백이라고 해도 무방)\n",
    "    - 년도\n",
    "    - 논문 이름(저널이름이 함께 포함되어 있는 경우가 있음, Journal만 있는 경우가 900개 넘는다.)\n",
    "- 5개짜리 리스트 (28840개)\n",
    "    - 논문의 특성\n",
    "    - 이름\n",
    "    - 년도\n",
    "    - 논문의 이름\n",
    "    - 저널의 이름\n",
    "- 6개짜리 리스트 (94개)\n",
    "    - 논문의 특성\n",
    "    - 이름\n",
    "    - 년도\n",
    "    - 논문의 이름\n",
    "    - 저자의 학위\n",
    "    - 저자의 소속"
   ]
  },
  {
   "cell_type": "code",
   "execution_count": 96,
   "metadata": {
    "scrolled": true
   },
   "outputs": [
    {
     "data": {
      "text/plain": [
       "(8071, 28840, 94)"
      ]
     },
     "execution_count": 96,
     "metadata": {},
     "output_type": "execute_result"
    }
   ],
   "source": [
    "(len([i for i in tuned_new_refer if len(i) == 4]),\n",
    "len([i for i in tuned_new_refer if len(i) == 5]),\n",
    "len([i for i in tuned_new_refer if len(i) == 6]))"
   ]
  },
  {
   "cell_type": "code",
   "execution_count": 97,
   "metadata": {},
   "outputs": [
    {
     "data": {
      "text/plain": [
       "['1. [학술지(정기간행물)]',\n",
       " '',\n",
       " '2001',\n",
       " '은행중심 자금조달 시스템의 문제점: 은행의 유동성위기가 기업가치에 미치는 영향 14 (1) : 161 ~ 188,']"
      ]
     },
     "execution_count": 97,
     "metadata": {},
     "output_type": "execute_result"
    }
   ],
   "source": [
    "[i for i in tuned_new_refer if len(i) == 4][0]"
   ]
  },
  {
   "cell_type": "code",
   "execution_count": 98,
   "metadata": {},
   "outputs": [
    {
     "data": {
      "text/plain": [
       "['4. [학술지(정기간행물)]',\n",
       " ' 정완호',\n",
       " '2003',\n",
       " '기업 신용위험의 측정- 채권수익률을 이용하여 -',\n",
       " 'Asia-Pacific Journal of Financial Studies 32 (1) : 135 ~ 172,']"
      ]
     },
     "execution_count": 98,
     "metadata": {},
     "output_type": "execute_result"
    }
   ],
   "source": [
    "[i for i in tuned_new_refer if len(i) == 5][0]"
   ]
  },
  {
   "cell_type": "code",
   "execution_count": 99,
   "metadata": {},
   "outputs": [
    {
     "data": {
      "text/plain": [
       "['22. [학위논문]',\n",
       " ' Low, A',\n",
       " '1992',\n",
       " 'Essays on asymmetric information in international finance',\n",
       " '박사',\n",
       " 'University of California,']"
      ]
     },
     "execution_count": 99,
     "metadata": {},
     "output_type": "execute_result"
    }
   ],
   "source": [
    "[i for i in tuned_new_refer if len(i) == 6][0]"
   ]
  },
  {
   "cell_type": "markdown",
   "metadata": {},
   "source": [
    "# ! 34,50,52 부분을 교수님께 여쭈어보아야 한다."
   ]
  },
  {
   "cell_type": "markdown",
   "metadata": {},
   "source": [
    "## 추가적인 튜닝 (아직 적용하지는 않았음)"
   ]
  },
  {
   "cell_type": "code",
   "execution_count": null,
   "metadata": {},
   "outputs": [],
   "source": [
    "extract_journal_ls = []\n",
    "for idx in range(28840):\n",
    "    extract_journal_ls.append(\\\n",
    "','.join(re.findall('\\D',[paper[-1] for paper in [i for i in new_refer_ls if len(i) == 4]][idx]))\\\n",
    ".replace(',','').split(' : ')[0])\n",
    "                              \n",
    "len(extract_journal_ls) == len([paper[-1] for paper in [i for i in new_refer_ls if len(i) == 4]])"
   ]
  },
  {
   "cell_type": "code",
   "execution_count": null,
   "metadata": {
    "collapsed": true
   },
   "outputs": [],
   "source": [
    "extract_journal_ls = [i.replace('(','') for i in extract_journal_ls]\n",
    "extract_journal_ls = [i.replace(')','') for i in extract_journal_ls]\n",
    "print(len(extract_journal_ls))\n",
    "extract_journal_ls = list(set(extract_journal_ls))\n",
    "print(len(extract_journal_ls))"
   ]
  }
 ],
 "metadata": {
  "kernelspec": {
   "display_name": "Python 3",
   "language": "python",
   "name": "python3"
  },
  "language_info": {
   "codemirror_mode": {
    "name": "ipython",
    "version": 3
   },
   "file_extension": ".py",
   "mimetype": "text/x-python",
   "name": "python",
   "nbconvert_exporter": "python",
   "pygments_lexer": "ipython3",
   "version": "3.6.3"
  }
 },
 "nbformat": 4,
 "nbformat_minor": 2
}
