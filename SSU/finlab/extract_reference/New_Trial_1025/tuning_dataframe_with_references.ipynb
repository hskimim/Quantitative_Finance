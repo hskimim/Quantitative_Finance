{
 "cells": [
  {
   "cell_type": "code",
   "execution_count": 1,
   "metadata": {
    "collapsed": true
   },
   "outputs": [],
   "source": [
    "import pandas as pd\n",
    "from IPython.display import display\n",
    "import re"
   ]
  },
  {
   "cell_type": "code",
   "execution_count": 2,
   "metadata": {
    "collapsed": true
   },
   "outputs": [],
   "source": [
    "df1 = pd.read_csv('증권학회지.csv')\n",
    "df2 = pd.read_csv('선물연구.csv')\n",
    "df3 = pd.read_csv('재무관리csv')"
   ]
  },
  {
   "cell_type": "code",
   "execution_count": 3,
   "metadata": {},
   "outputs": [
    {
     "name": "stdout",
     "output_type": "stream",
     "text": [
      "130\n",
      "29\n",
      "41\n"
     ]
    }
   ],
   "source": [
    "print(len([ref for ref in df1['ref'] if ref == '0']))\n",
    "print(len([ref for ref in df2['ref'] if ref == '0']))\n",
    "print(len([ref for ref in df3['ref'] if ref == '0']))"
   ]
  },
  {
   "cell_type": "code",
   "execution_count": 4,
   "metadata": {},
   "outputs": [
    {
     "data": {
      "text/html": [
       "<div>\n",
       "<style>\n",
       "    .dataframe thead tr:only-child th {\n",
       "        text-align: right;\n",
       "    }\n",
       "\n",
       "    .dataframe thead th {\n",
       "        text-align: left;\n",
       "    }\n",
       "\n",
       "    .dataframe tbody tr th {\n",
       "        vertical-align: top;\n",
       "    }\n",
       "</style>\n",
       "<table border=\"1\" class=\"dataframe\">\n",
       "  <thead>\n",
       "    <tr style=\"text-align: right;\">\n",
       "      <th></th>\n",
       "      <th>infor</th>\n",
       "      <th>ref</th>\n",
       "    </tr>\n",
       "  </thead>\n",
       "  <tbody>\n",
       "    <tr>\n",
       "      <th>2727</th>\n",
       "      <td>지능형 인공지능(AI)의 발전에 따른 자본시장법제 정비방향과 과제\\n안수현 | 한국...</td>\n",
       "      <td>1. [학술지(정기간행물)] - 김영주 / 2014 / 고빈도 거래의 법적 규제 /...</td>\n",
       "    </tr>\n",
       "    <tr>\n",
       "      <th>2728</th>\n",
       "      <td>중앙청산소의 복구와 정리\\n김성용 | 한국증권법학회 | 증권법연구 | 18(3) |...</td>\n",
       "      <td>1. [보고서] - 한국거래소 / 2016 / 2015-2016 KRX 청산결제 리...</td>\n",
       "    </tr>\n",
       "    <tr>\n",
       "      <th>2729</th>\n",
       "      <td>기업지배구조 개선을 위한 상법 개정안의 쟁점별 검토―제20대 국회 논의를 중심으로―...</td>\n",
       "      <td>1. [학술지(정기간행물)] - 강정민 / 2010 / 개정상법의 감사위원회 위원 ...</td>\n",
       "    </tr>\n",
       "    <tr>\n",
       "      <th>2730</th>\n",
       "      <td>키코 판결의 재조명―형법 제347조상 사기죄의 인용가능성을 중심으로―\\n박선종 | ...</td>\n",
       "      <td>1. [학술지(정기간행물)] - 김용재 / 2014 / KIKO 사건의 주요 쟁점에...</td>\n",
       "    </tr>\n",
       "    <tr>\n",
       "      <th>2731</th>\n",
       "      <td>크라우드펀딩 투자자에 대한 후견적 보호의 한계 및 펀딩플랫폼 활성화 방안\\n신현탁 ...</td>\n",
       "      <td>1. [학술지(정기간행물)] - 강영기 / 2017 / 투자형 크라우드 펀딩의 활용...</td>\n",
       "    </tr>\n",
       "  </tbody>\n",
       "</table>\n",
       "</div>"
      ],
      "text/plain": [
       "                                                  infor  \\\n",
       "2727  지능형 인공지능(AI)의 발전에 따른 자본시장법제 정비방향과 과제\\n안수현 | 한국...   \n",
       "2728  중앙청산소의 복구와 정리\\n김성용 | 한국증권법학회 | 증권법연구 | 18(3) |...   \n",
       "2729  기업지배구조 개선을 위한 상법 개정안의 쟁점별 검토―제20대 국회 논의를 중심으로―...   \n",
       "2730  키코 판결의 재조명―형법 제347조상 사기죄의 인용가능성을 중심으로―\\n박선종 | ...   \n",
       "2731  크라우드펀딩 투자자에 대한 후견적 보호의 한계 및 펀딩플랫폼 활성화 방안\\n신현탁 ...   \n",
       "\n",
       "                                                    ref  \n",
       "2727  1. [학술지(정기간행물)] - 김영주 / 2014 / 고빈도 거래의 법적 규제 /...  \n",
       "2728  1. [보고서] - 한국거래소 / 2016 / 2015-2016 KRX 청산결제 리...  \n",
       "2729  1. [학술지(정기간행물)] - 강정민 / 2010 / 개정상법의 감사위원회 위원 ...  \n",
       "2730  1. [학술지(정기간행물)] - 김용재 / 2014 / KIKO 사건의 주요 쟁점에...  \n",
       "2731  1. [학술지(정기간행물)] - 강영기 / 2017 / 투자형 크라우드 펀딩의 활용...  "
      ]
     },
     "metadata": {},
     "output_type": "display_data"
    },
    {
     "data": {
      "text/html": [
       "<div>\n",
       "<style>\n",
       "    .dataframe thead tr:only-child th {\n",
       "        text-align: right;\n",
       "    }\n",
       "\n",
       "    .dataframe thead th {\n",
       "        text-align: left;\n",
       "    }\n",
       "\n",
       "    .dataframe tbody tr th {\n",
       "        vertical-align: top;\n",
       "    }\n",
       "</style>\n",
       "<table border=\"1\" class=\"dataframe\">\n",
       "  <thead>\n",
       "    <tr style=\"text-align: right;\">\n",
       "      <th></th>\n",
       "      <th>infor</th>\n",
       "      <th>ref</th>\n",
       "    </tr>\n",
       "  </thead>\n",
       "  <tbody>\n",
       "    <tr>\n",
       "      <th>236</th>\n",
       "      <td>펀드매니저 교체가 운용성과의 재량적 조정에 미치는 영향 : 계약이론 모형의 확장과 ...</td>\n",
       "      <td>1. [학술지(정기간행물)] - 강장구 / 2010 / Sharpe의 방법론을 이용...</td>\n",
       "    </tr>\n",
       "    <tr>\n",
       "      <th>237</th>\n",
       "      <td>고유변동성의 결정요인에 대한 연구 : 자산증가율을 중심으로\\n이은정 | 길재욱 | ...</td>\n",
       "      <td>1. [학술지(정기간행물)] - 고봉찬 / 2007 / 발생액 이상현상에 대한 위험...</td>\n",
       "    </tr>\n",
       "    <tr>\n",
       "      <th>238</th>\n",
       "      <td>부도연계 증권의 기대수익률 횡단면에 대한 연구\\n김정무 | 박윤정 | 한국파생상품학...</td>\n",
       "      <td>1. [학술지(정기간행물)] - 강병진 / 2016 / KOSPI200 지수옵션 수...</td>\n",
       "    </tr>\n",
       "    <tr>\n",
       "      <th>239</th>\n",
       "      <td>미니파생상품시장의 가격발견 효과 분석 : KOSPI200 미니옵션의 사례\\n이우백 ...</td>\n",
       "      <td>1. [기타자료] - 금융위원회 / 2015 / 자본시장 개혁을 위한 정책 추진방안...</td>\n",
       "    </tr>\n",
       "    <tr>\n",
       "      <th>240</th>\n",
       "      <td>펀드매니저 교체가 운용성과의 재량적 조정에 미치는 영향 : 계약이론 모형의 확장과 ...</td>\n",
       "      <td>1. [학술지(정기간행물)] - 강장구 / 2010 / Sharpe의 방법론을 이용...</td>\n",
       "    </tr>\n",
       "  </tbody>\n",
       "</table>\n",
       "</div>"
      ],
      "text/plain": [
       "                                                 infor  \\\n",
       "236  펀드매니저 교체가 운용성과의 재량적 조정에 미치는 영향 : 계약이론 모형의 확장과 ...   \n",
       "237  고유변동성의 결정요인에 대한 연구 : 자산증가율을 중심으로\\n이은정 | 길재욱 | ...   \n",
       "238  부도연계 증권의 기대수익률 횡단면에 대한 연구\\n김정무 | 박윤정 | 한국파생상품학...   \n",
       "239  미니파생상품시장의 가격발견 효과 분석 : KOSPI200 미니옵션의 사례\\n이우백 ...   \n",
       "240  펀드매니저 교체가 운용성과의 재량적 조정에 미치는 영향 : 계약이론 모형의 확장과 ...   \n",
       "\n",
       "                                                   ref  \n",
       "236  1. [학술지(정기간행물)] - 강장구 / 2010 / Sharpe의 방법론을 이용...  \n",
       "237  1. [학술지(정기간행물)] - 고봉찬 / 2007 / 발생액 이상현상에 대한 위험...  \n",
       "238  1. [학술지(정기간행물)] - 강병진 / 2016 / KOSPI200 지수옵션 수...  \n",
       "239  1. [기타자료] - 금융위원회 / 2015 / 자본시장 개혁을 위한 정책 추진방안...  \n",
       "240  1. [학술지(정기간행물)] - 강장구 / 2010 / Sharpe의 방법론을 이용...  "
      ]
     },
     "metadata": {},
     "output_type": "display_data"
    },
    {
     "data": {
      "text/html": [
       "<div>\n",
       "<style>\n",
       "    .dataframe thead tr:only-child th {\n",
       "        text-align: right;\n",
       "    }\n",
       "\n",
       "    .dataframe thead th {\n",
       "        text-align: left;\n",
       "    }\n",
       "\n",
       "    .dataframe tbody tr th {\n",
       "        vertical-align: top;\n",
       "    }\n",
       "</style>\n",
       "<table border=\"1\" class=\"dataframe\">\n",
       "  <thead>\n",
       "    <tr style=\"text-align: right;\">\n",
       "      <th></th>\n",
       "      <th>infor</th>\n",
       "      <th>ref</th>\n",
       "    </tr>\n",
       "  </thead>\n",
       "  <tbody>\n",
       "    <tr>\n",
       "      <th>406</th>\n",
       "      <td>공매도 거래와 기업성과\\n박순홍 | 한국재무관리학회 | 재무관리연구 | 34(4) ...</td>\n",
       "      <td>1. [학술지(정기간행물)] - 이영섭 / 2015 / 한국 주식시장에서의 공매도와...</td>\n",
       "    </tr>\n",
       "    <tr>\n",
       "      <th>407</th>\n",
       "      <td>한국 제조기업의 환위험관리 성과\\n권택호 | 한국재무관리학회 | 재무관리연구 | 3...</td>\n",
       "      <td>1. [학술지(정기간행물)] - 권택호 / 1998 / 환노출의 통화별 차이와 비대...</td>\n",
       "    </tr>\n",
       "    <tr>\n",
       "      <th>408</th>\n",
       "      <td>금융분쟁과 투자자 보호\\n유진 | 손정국 | 한국재무관리학회 | 재무관리연구 | 3...</td>\n",
       "      <td>1. [학술지(정기간행물)] - 김용길 / 2014 / 금융분쟁에 있어서 ADR제도...</td>\n",
       "    </tr>\n",
       "    <tr>\n",
       "      <th>409</th>\n",
       "      <td>관료 출신 사외이사는 기업에 기여하는가? 금융회사 사외이사를 중심으로\\n이창민 | ...</td>\n",
       "      <td>1. [학술지(정기간행물)] - 강윤식 / 2012 / 사외이사의 독립성과 기업가치...</td>\n",
       "    </tr>\n",
       "    <tr>\n",
       "      <th>410</th>\n",
       "      <td>우리나라 일반은행의 배당정책 및 소유구조\\n정성창 | 전선애 | 한국재무관리학회 |...</td>\n",
       "      <td>1. [학술지(정기간행물)] - 김영환 / 2009 / 외국인 투자자가 국내 유가증...</td>\n",
       "    </tr>\n",
       "  </tbody>\n",
       "</table>\n",
       "</div>"
      ],
      "text/plain": [
       "                                                 infor  \\\n",
       "406  공매도 거래와 기업성과\\n박순홍 | 한국재무관리학회 | 재무관리연구 | 34(4) ...   \n",
       "407  한국 제조기업의 환위험관리 성과\\n권택호 | 한국재무관리학회 | 재무관리연구 | 3...   \n",
       "408  금융분쟁과 투자자 보호\\n유진 | 손정국 | 한국재무관리학회 | 재무관리연구 | 3...   \n",
       "409  관료 출신 사외이사는 기업에 기여하는가? 금융회사 사외이사를 중심으로\\n이창민 | ...   \n",
       "410  우리나라 일반은행의 배당정책 및 소유구조\\n정성창 | 전선애 | 한국재무관리학회 |...   \n",
       "\n",
       "                                                   ref  \n",
       "406  1. [학술지(정기간행물)] - 이영섭 / 2015 / 한국 주식시장에서의 공매도와...  \n",
       "407  1. [학술지(정기간행물)] - 권택호 / 1998 / 환노출의 통화별 차이와 비대...  \n",
       "408  1. [학술지(정기간행물)] - 김용길 / 2014 / 금융분쟁에 있어서 ADR제도...  \n",
       "409  1. [학술지(정기간행물)] - 강윤식 / 2012 / 사외이사의 독립성과 기업가치...  \n",
       "410  1. [학술지(정기간행물)] - 김영환 / 2009 / 외국인 투자자가 국내 유가증...  "
      ]
     },
     "metadata": {},
     "output_type": "display_data"
    }
   ],
   "source": [
    "display(df1.tail())\n",
    "display(df2.tail())\n",
    "display(df3.tail())"
   ]
  },
  {
   "cell_type": "code",
   "execution_count": 5,
   "metadata": {
    "collapsed": true
   },
   "outputs": [],
   "source": [
    "def tuning_process1(df):\n",
    "    tuned_ls = []\n",
    "    process_ls = []\n",
    "    \n",
    "    testing_ls = [re.split('[0-9]+. \\[',ref) if ref != '0' else '0' for ref in df['ref'].values]\n",
    "\n",
    "    for element in testing_ls :\n",
    "        process_ls = []\n",
    "        if element == '0' : \n",
    "            tuned_ls.append('0')\n",
    "        else : \n",
    "            for idx,paper in enumerate(element) : \n",
    "                if paper != '' :\n",
    "                    process_ls.append('[' + paper)\n",
    "                else : del element[idx]\n",
    "            tuned_ls.append(process_ls)\n",
    "\n",
    "    return tuned_ls"
   ]
  },
  {
   "cell_type": "code",
   "execution_count": 6,
   "metadata": {
    "collapsed": true
   },
   "outputs": [],
   "source": [
    "df1['tuned_ref'] = tuning_process1(df1)\n",
    "df2['tuned_ref'] = tuning_process1(df2)\n",
    "df3['tuned_ref'] = tuning_process1(df3)"
   ]
  },
  {
   "cell_type": "code",
   "execution_count": 7,
   "metadata": {
    "collapsed": true
   },
   "outputs": [],
   "source": [
    "df = pd.concat([df1,df2],axis=0)\n",
    "df = pd.concat([df,df3],axis=0)\n",
    "df['len'] = [len(ref) if type(ref) == list else 0 for ref in df['tuned_ref']]"
   ]
  },
  {
   "cell_type": "code",
   "execution_count": 16,
   "metadata": {
    "scrolled": false
   },
   "outputs": [],
   "source": [
    "df.reset_index(drop=True,inplace=True)"
   ]
  },
  {
   "cell_type": "code",
   "execution_count": 17,
   "metadata": {
    "collapsed": true
   },
   "outputs": [],
   "source": [
    "df.to_csv(\"refereces.csv\",index=False)"
   ]
  },
  {
   "cell_type": "code",
   "execution_count": 10,
   "metadata": {
    "scrolled": true
   },
   "outputs": [],
   "source": [
    "def extract_front_parenthesis(df):\n",
    "    tuned_ls = []\n",
    "    for ref in df['tuned_ref'].values :\n",
    "        process_ls = []\n",
    "        if ref == '0' : \n",
    "            tuned_ls.append('0')\n",
    "        else :\n",
    "            for paper in ref : \n",
    "                process_ls.append(re.findall('\\[.+\\]',paper))\n",
    "            tuned_ls.append(process_ls)\n",
    "\n",
    "    return tuned_ls"
   ]
  },
  {
   "cell_type": "code",
   "execution_count": 11,
   "metadata": {
    "collapsed": true
   },
   "outputs": [],
   "source": [
    "def cutting_front_parentheses(df):\n",
    "    tuned_ls = []\n",
    "    for ref in df['tuned_ref'].values :\n",
    "        process_ls = []\n",
    "        if ref == '0' : \n",
    "            tuned_ls.append('0')\n",
    "        else :\n",
    "            for paper in ref : \n",
    "                try : \n",
    "                    process_ls.append(paper[re.search('\\[.+\\] - \\/',paper).end():])\n",
    "                except : \n",
    "                    process_ls.append('0')\n",
    "            tuned_ls.append(process_ls)\n",
    "\n",
    "    return tuned_ls"
   ]
  },
  {
   "cell_type": "code",
   "execution_count": 12,
   "metadata": {},
   "outputs": [
    {
     "name": "stdout",
     "output_type": "stream",
     "text": [
      "709 11\n",
      "2483 15\n",
      "2483 18\n",
      "2483 22\n",
      "2669 20\n"
     ]
    }
   ],
   "source": [
    "first_parenthesis = []\n",
    "second_parenthesis = []\n",
    "\n",
    "for idx1,element in enumerate(df['tuned_ref'].values):\n",
    "    process_ls1 = []\n",
    "    process_ls2 = []\n",
    "    for idx2,ref in enumerate(element):        \n",
    "        process_ls1.append(re.findall('\\[.+\\]',ref))\n",
    "        if ref == '0' : \n",
    "            process_ls2.append('0')\n",
    "        else : \n",
    "            try : \n",
    "                process_ls2.append(ref[re.search('\\[.+\\] - \\/*',ref).end():])\n",
    "            except : \n",
    "                pass\n",
    "                print(idx1,idx2)\n",
    "    first_parenthesis.append(process_ls1)\n",
    "    second_parenthesis.append(process_ls2)\n",
    "first_parenthesis = [ref for ref in first_parenthesis]\n",
    "second_parenthesis = [ref for ref in second_parenthesis]"
   ]
  },
  {
   "cell_type": "code",
   "execution_count": 13,
   "metadata": {
    "scrolled": true
   },
   "outputs": [
    {
     "name": "stdout",
     "output_type": "stream",
     "text": [
      "[Updated August 13, 2009],\n",
      "[최종접속일 2008.2.15],\n",
      "[최종접속일 2008.2.9],\n",
      "[최종접속일 2008.2.2],\n",
      "[17 C.F.R. Pts 230, 239 and 242],\n"
     ]
    }
   ],
   "source": [
    "print(df['tuned_ref'].values[709][11])\n",
    "print(df['tuned_ref'].values[2483][15])\n",
    "print(df['tuned_ref'].values[2483][18])\n",
    "print(df['tuned_ref'].values[2483][22])\n",
    "print(df['tuned_ref'].values[2669][20])"
   ]
  }
 ],
 "metadata": {
  "kernelspec": {
   "display_name": "Python 3",
   "language": "python",
   "name": "python3"
  },
  "language_info": {
   "codemirror_mode": {
    "name": "ipython",
    "version": 3
   },
   "file_extension": ".py",
   "mimetype": "text/x-python",
   "name": "python",
   "nbconvert_exporter": "python",
   "pygments_lexer": "ipython3",
   "version": "3.6.3"
  }
 },
 "nbformat": 4,
 "nbformat_minor": 2
}
