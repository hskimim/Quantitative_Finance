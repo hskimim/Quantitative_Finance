{
 "cells": [
  {
   "cell_type": "markdown",
   "metadata": {},
   "source": [
    "# 크롤링을 통해 받아온 데이터를 1차적으로 튜닝한 프로세스"
   ]
  },
  {
   "cell_type": "code",
   "execution_count": 214,
   "metadata": {
    "collapsed": true
   },
   "outputs": [],
   "source": [
    "import numpy as np\n",
    "import pandas as pd\n",
    "from IPython.display import display\n",
    "import re"
   ]
  },
  {
   "cell_type": "code",
   "execution_count": 215,
   "metadata": {
    "collapsed": true,
    "scrolled": true
   },
   "outputs": [],
   "source": [
    "df = pd.read_csv('references.csv')"
   ]
  },
  {
   "cell_type": "code",
   "execution_count": 216,
   "metadata": {},
   "outputs": [
    {
     "data": {
      "text/html": [
       "<div>\n",
       "<style>\n",
       "    .dataframe thead tr:only-child th {\n",
       "        text-align: right;\n",
       "    }\n",
       "\n",
       "    .dataframe thead th {\n",
       "        text-align: left;\n",
       "    }\n",
       "\n",
       "    .dataframe tbody tr th {\n",
       "        vertical-align: top;\n",
       "    }\n",
       "</style>\n",
       "<table border=\"1\" class=\"dataframe\">\n",
       "  <thead>\n",
       "    <tr style=\"text-align: right;\">\n",
       "      <th></th>\n",
       "      <th>infor</th>\n",
       "      <th>refer</th>\n",
       "    </tr>\n",
       "  </thead>\n",
       "  <tbody>\n",
       "    <tr>\n",
       "      <th>1457</th>\n",
       "      <td>Why do Shareholders Allow Their Managers to be...</td>\n",
       "      <td>1. [학술지(정기간행물)] - Asquith, Paul / 1983 / The g...</td>\n",
       "    </tr>\n",
       "    <tr>\n",
       "      <th>1458</th>\n",
       "      <td>How Does Prior Information Affect Analyst Fore...</td>\n",
       "      <td>1. [학술지(정기간행물)] - Abarbanell, J. S / 1991 / Jo...</td>\n",
       "    </tr>\n",
       "    <tr>\n",
       "      <th>1459</th>\n",
       "      <td>Studies on Information Asymmetry, Price Manipu...</td>\n",
       "      <td>1. [학술지(정기간행물)] - Avery, C / 1998 / Multidimen...</td>\n",
       "    </tr>\n",
       "    <tr>\n",
       "      <th>1460</th>\n",
       "      <td>Corporate Cash Holdings and Tax-induced Debt F...</td>\n",
       "      <td>1. [학술지(정기간행물)] - Bae, K.-H / 2002 / Tunneling...</td>\n",
       "    </tr>\n",
       "    <tr>\n",
       "      <th>1461</th>\n",
       "      <td>Corporate Diversification, Relatedness, and Fi...</td>\n",
       "      <td>1. [학술지(정기간행물)] - Amihud, Yakov / 1981 / Risk ...</td>\n",
       "    </tr>\n",
       "  </tbody>\n",
       "</table>\n",
       "</div>"
      ],
      "text/plain": [
       "                                                  infor  \\\n",
       "1457  Why do Shareholders Allow Their Managers to be...   \n",
       "1458  How Does Prior Information Affect Analyst Fore...   \n",
       "1459  Studies on Information Asymmetry, Price Manipu...   \n",
       "1460  Corporate Cash Holdings and Tax-induced Debt F...   \n",
       "1461  Corporate Diversification, Relatedness, and Fi...   \n",
       "\n",
       "                                                  refer  \n",
       "1457  1. [학술지(정기간행물)] - Asquith, Paul / 1983 / The g...  \n",
       "1458  1. [학술지(정기간행물)] - Abarbanell, J. S / 1991 / Jo...  \n",
       "1459  1. [학술지(정기간행물)] - Avery, C / 1998 / Multidimen...  \n",
       "1460  1. [학술지(정기간행물)] - Bae, K.-H / 2002 / Tunneling...  \n",
       "1461  1. [학술지(정기간행물)] - Amihud, Yakov / 1981 / Risk ...  "
      ]
     },
     "execution_count": 216,
     "metadata": {},
     "output_type": "execute_result"
    }
   ],
   "source": [
    "df.tail()"
   ]
  },
  {
   "cell_type": "code",
   "execution_count": 217,
   "metadata": {
    "scrolled": false
   },
   "outputs": [
    {
     "data": {
      "text/plain": [
       "'제품시장경쟁이 주식수익률에 미치는 영향: 한-미 FTA를 통한 증거\\n류두진 | 류두원 | 황준호 | 한국재무학회 | 재무연구 | 28(3) | pp.487~512 | 2015.08 | 경영학\\n피인용횟수 : 5'"
      ]
     },
     "execution_count": 217,
     "metadata": {},
     "output_type": "execute_result"
    }
   ],
   "source": [
    "df['infor'].values[500]"
   ]
  },
  {
   "cell_type": "code",
   "execution_count": 218,
   "metadata": {
    "scrolled": false
   },
   "outputs": [
    {
     "data": {
      "text/plain": [
       "'1. [학술지(정기간행물)] - 박경서 / 2011 / 상품시장에서의 경쟁과 기업지배구조의 상호작용이 투자와 배당에 미치는 영향 / 재무연구 24 (2) : 483 ~ 522,2. [학술지(정기간행물)] - 류두원 / 2013 / 시장경쟁은 기업에 어떠한 영향을 미치는가?: 산업집중도와 기업가치 및 부채비율의 관계에 관한 실증연구 / 경영학연구 42 (2) : 435 ~ 456,3. [학술지(정기간행물)] - 류두원 / 2014 / 산업집중도에 따른 주식수익률 차이는 존재하는가? / 한국증권학회지 43 (4) : 657 ~ 678,4. [학술지(정기간행물)] - 류두원 / 2013 / 시장경쟁은 회사채 신용등급 변경공시에 따른 주식가격반응에 어떠한 영향을 주는가? / 경영학연구 42 (4) : 929 ~ 957,5. [학술지(정기간행물)] - 류두원 / 2014 / 정부기관의 중소기업 포상이 나아가야할 방향: 기업 가치에 미치는 영향을 중심으로 / 한국증권학회지 43 (1) : 47 ~ 69,6. [학술지(정기간행물)] - Ali, A. / 2009 / The Limitations of Industry Concentration Measure Constructed with Compustat Data: Implications for Finance Research / Review of Financial Studies 22 (10) : 3839 ~ 3871,7. [학술지(정기간행물)] - Alimov, A. / 2014 / Product Market Competition and the Value of Corporate Cash: Evidence from trade liberalization / Journal of Corporate Finance 25 : 122 ~ 139,8. [보고서] - Bustamante, M. C. / 2014 / Product Market Competition and Industry Returns,9. [학술지(정기간행물)] - Card, D. / 1994 / Minimum Wages and Employment: A Case Study of the Fast-Food Industry in New Jersey and Pennsylvania / American Economic Review 84 (4) : 772 ~ 793,10. [학술지(정기간행물)] - Fama, E. F. / 1993 / Common Risk Factors in the Returns on Stocks and Bonds / Journal of Financial Economics 33 (1) : 3 ~ 56,11. [학술지(정기간행물)] - Flammer, C. / 2015 / Does Product Market Competition Foster Corporate Social Responsibility? Evidence from Trade Liberalization / Strategic Management Journal,12. [학술지(정기간행물)] - Gallagher, D. R. / 2014 / Industry Concentration, Excess Returns and Innovation in Australia / Accounting and Finance 55 (2) : 443 ~ 466,13. [학술지(정기간행물)] - Giroud, X. / 2010 / Does Corporate Governance Matter in Competitive Industries? / Journal of Financial Economics 95 (3) : 312 ~ 331,14. [학술지(정기간행물)] - Hou, K. / 2006 / Industry Concentration and Average Stock Returns / Journal of Finance 61 (4) : 1927 ~ 1956'"
      ]
     },
     "execution_count": 218,
     "metadata": {},
     "output_type": "execute_result"
    }
   ],
   "source": [
    "df['refer'].values[500]"
   ]
  },
  {
   "cell_type": "markdown",
   "metadata": {},
   "source": [
    "### 참고문헌이 나와있지 않은 논문의 수"
   ]
  },
  {
   "cell_type": "code",
   "execution_count": 219,
   "metadata": {},
   "outputs": [
    {
     "data": {
      "text/plain": [
       "242"
      ]
     },
     "execution_count": 219,
     "metadata": {},
     "output_type": "execute_result"
    }
   ],
   "source": [
    "len([i for i in df['refer'].values if i == '0'])"
   ]
  },
  {
   "cell_type": "code",
   "execution_count": 220,
   "metadata": {},
   "outputs": [
    {
     "data": {
      "text/plain": [
       "'16.55266757865937%'"
      ]
     },
     "execution_count": 220,
     "metadata": {},
     "output_type": "execute_result"
    }
   ],
   "source": [
    "str(((len([i for i in df['refer'].values if i == '0']) / len(df)) * 100)) + '%'"
   ]
  },
  {
   "cell_type": "markdown",
   "metadata": {},
   "source": [
    "# Tuning_process"
   ]
  },
  {
   "cell_type": "markdown",
   "metadata": {},
   "source": [
    "#### 우선 information 컬럼을 늘려준다.\n",
    "- refer 컬럼을 split 하는 과정을 시행한다."
   ]
  },
  {
   "cell_type": "code",
   "execution_count": 221,
   "metadata": {},
   "outputs": [
    {
     "name": "stdout",
     "output_type": "stream",
     "text": [
      "40\n",
      "41\n"
     ]
    }
   ],
   "source": [
    "print(len(re.findall('[0-9]{1,}. \\[',df['refer'].values[100])))\n",
    "print(len(re.split('[0-9]{1,}. \\[',df['refer'].values[100])))"
   ]
  },
  {
   "cell_type": "code",
   "execution_count": 222,
   "metadata": {
    "collapsed": true
   },
   "outputs": [],
   "source": [
    "head_ls = re.findall('[0-9]{1,}. \\[',df['refer'].values[100])"
   ]
  },
  {
   "cell_type": "code",
   "execution_count": 223,
   "metadata": {
    "scrolled": false
   },
   "outputs": [
    {
     "data": {
      "text/plain": [
       "['학술지(정기간행물)] - Wermers, R / 1999 / Mutual fund herding and the impact on stock prices / Journal of Finance 54 : 581 ~ 622,',\n",
       " '학술지(정기간행물)] - Yeh, Y. / 2000 / The Interaction and volatility asymmetry of unexpected returns in the greater China stock markets / Global Finance Journal 11 : 129 ~ 149']"
      ]
     },
     "execution_count": 223,
     "metadata": {},
     "output_type": "execute_result"
    }
   ],
   "source": [
    "testing_ls = re.split('[0-9]{1,}. \\[',df['refer'].values[100])\n",
    "process_ls = []\n",
    "for i in range(len(testing_ls)):\n",
    "    if re.search('\\/ [0-9]{,4} \\/',testing_ls[i]) : \n",
    "        process_ls.append(testing_ls[i])\n",
    "process_ls[-2:]"
   ]
  },
  {
   "cell_type": "code",
   "execution_count": 224,
   "metadata": {
    "scrolled": true
   },
   "outputs": [
    {
     "data": {
      "text/plain": [
       "['39. [학술지(정기간행물)] - Wermers, R / 1999 / Mutual fund herding and the impact on stock prices / Journal of Finance 54 : 581 ~ 622,',\n",
       " '40. [학술지(정기간행물)] - Yeh, Y. / 2000 / The Interaction and volatility asymmetry of unexpected returns in the greater China stock markets / Global Finance Journal 11 : 129 ~ 149']"
      ]
     },
     "execution_count": 224,
     "metadata": {},
     "output_type": "execute_result"
    }
   ],
   "source": [
    "title_ls = []\n",
    "for i in range(len(process_ls)):\n",
    "    title_ls.append(head_ls[i] + process_ls[i])\n",
    "title_ls[-2:]"
   ]
  },
  {
   "cell_type": "markdown",
   "metadata": {},
   "source": [
    "### information 컬럼을 늘려주는 function(generalization) 프로세스"
   ]
  },
  {
   "cell_type": "code",
   "execution_count": 225,
   "metadata": {
    "collapsed": true
   },
   "outputs": [],
   "source": [
    "#length column 을 만들어주기 위한 프로세스\n",
    "final_process_ls = []\n",
    "\n",
    "for i in range(len(df['refer'])):\n",
    "    try :\n",
    "        title_ls = []\n",
    "        if df['refer'].values[i] != '0' : \n",
    "            head_ls = re.findall('[0-9]{1,}. \\[',df['refer'].values[i])\n",
    "            testing_ls = re.split('[0-9]{1,}. \\[',df['refer'].values[i])\n",
    "            process_ls = []\n",
    "            for j in range(len(testing_ls)):\n",
    "                if re.search('\\/ [0-9]{,4} \\/',testing_ls[j]) : \n",
    "                    process_ls.append(testing_ls[j])\n",
    "            for k in range(len(process_ls)):\n",
    "                title_ls.append(head_ls[k] + process_ls[k])\n",
    "        else : title_ls.append('0')\n",
    "        final_process_ls.append(title_ls)\n",
    "    except Exception as e:\n",
    "        print(i)\n",
    "        print(len(process_ls),len(head_ls))\n",
    "        print(e)\n",
    "        break"
   ]
  },
  {
   "cell_type": "code",
   "execution_count": 226,
   "metadata": {
    "collapsed": true
   },
   "outputs": [],
   "source": [
    "df['length'] = [len(i) for i in final_process_ls]"
   ]
  },
  {
   "cell_type": "code",
   "execution_count": 227,
   "metadata": {
    "collapsed": true
   },
   "outputs": [],
   "source": [
    "new_df = pd.DataFrame()\n",
    "new_df['refer'] = [j for i in final_process_ls for j in i]"
   ]
  },
  {
   "cell_type": "code",
   "execution_count": 228,
   "metadata": {},
   "outputs": [
    {
     "name": "stdout",
     "output_type": "stream",
     "text": [
      "37247\n"
     ]
    }
   ],
   "source": [
    "extending_title_ls = []\n",
    "for i in range(len(df)):\n",
    "    for _ in range(df['length'].values[i]):\n",
    "        extending_title_ls.append(df['infor'].values[i])\n",
    "print(len(extending_title_ls))\n",
    "new_df['infor'] = extending_title_ls"
   ]
  },
  {
   "cell_type": "code",
   "execution_count": 229,
   "metadata": {
    "collapsed": true
   },
   "outputs": [],
   "source": [
    "new_df = pd.DataFrame()\n",
    "new_df['infor'] = extending_title_ls\n",
    "new_df['refer'] = [j for i in final_process_ls for j in i]"
   ]
  },
  {
   "cell_type": "code",
   "execution_count": 230,
   "metadata": {
    "scrolled": true
   },
   "outputs": [
    {
     "data": {
      "text/html": [
       "<div>\n",
       "<style>\n",
       "    .dataframe thead tr:only-child th {\n",
       "        text-align: right;\n",
       "    }\n",
       "\n",
       "    .dataframe thead th {\n",
       "        text-align: left;\n",
       "    }\n",
       "\n",
       "    .dataframe tbody tr th {\n",
       "        vertical-align: top;\n",
       "    }\n",
       "</style>\n",
       "<table border=\"1\" class=\"dataframe\">\n",
       "  <thead>\n",
       "    <tr style=\"text-align: right;\">\n",
       "      <th></th>\n",
       "      <th>infor</th>\n",
       "      <th>refer</th>\n",
       "    </tr>\n",
       "  </thead>\n",
       "  <tbody>\n",
       "    <tr>\n",
       "      <th>37242</th>\n",
       "      <td>Corporate Diversification, Relatedness, and Fi...</td>\n",
       "      <td>40. [기타자료] - Villalonga, Belen / 1999 / Does D...</td>\n",
       "    </tr>\n",
       "    <tr>\n",
       "      <th>37243</th>\n",
       "      <td>Corporate Diversification, Relatedness, and Fi...</td>\n",
       "      <td>41. [학술지(정기간행물)] - Villalonga, Belen / 2004 / ...</td>\n",
       "    </tr>\n",
       "    <tr>\n",
       "      <th>37244</th>\n",
       "      <td>Corporate Diversification, Relatedness, and Fi...</td>\n",
       "      <td>42. [학술지(정기간행물)] - Villalonga, Belen / 2004 / ...</td>\n",
       "    </tr>\n",
       "    <tr>\n",
       "      <th>37245</th>\n",
       "      <td>Corporate Diversification, Relatedness, and Fi...</td>\n",
       "      <td>43. [학술지(정기간행물)] - Weston, J. F / 1970 / The N...</td>\n",
       "    </tr>\n",
       "    <tr>\n",
       "      <th>37246</th>\n",
       "      <td>Corporate Diversification, Relatedness, and Fi...</td>\n",
       "      <td>44. [학술지(정기간행물)] - Whited, Toni M / 2001 / Is ...</td>\n",
       "    </tr>\n",
       "  </tbody>\n",
       "</table>\n",
       "</div>"
      ],
      "text/plain": [
       "                                                   infor  \\\n",
       "37242  Corporate Diversification, Relatedness, and Fi...   \n",
       "37243  Corporate Diversification, Relatedness, and Fi...   \n",
       "37244  Corporate Diversification, Relatedness, and Fi...   \n",
       "37245  Corporate Diversification, Relatedness, and Fi...   \n",
       "37246  Corporate Diversification, Relatedness, and Fi...   \n",
       "\n",
       "                                                   refer  \n",
       "37242  40. [기타자료] - Villalonga, Belen / 1999 / Does D...  \n",
       "37243  41. [학술지(정기간행물)] - Villalonga, Belen / 2004 / ...  \n",
       "37244  42. [학술지(정기간행물)] - Villalonga, Belen / 2004 / ...  \n",
       "37245  43. [학술지(정기간행물)] - Weston, J. F / 1970 / The N...  \n",
       "37246  44. [학술지(정기간행물)] - Whited, Toni M / 2001 / Is ...  "
      ]
     },
     "execution_count": 230,
     "metadata": {},
     "output_type": "execute_result"
    }
   ],
   "source": [
    "set(new_df['infor'].values) == set(df['infor'].values)\n",
    "#OK\n",
    "new_df.tail()"
   ]
  },
  {
   "cell_type": "code",
   "execution_count": 231,
   "metadata": {
    "collapsed": true
   },
   "outputs": [],
   "source": [
    "new_df.to_csv('extended_references.csv',index=False)"
   ]
  },
  {
   "cell_type": "markdown",
   "metadata": {},
   "source": [
    "# Text Tuning process"
   ]
  },
  {
   "cell_type": "markdown",
   "metadata": {},
   "source": [
    "# 우선 references 가 아닌 논문의 이름부터 튜닝한다."
   ]
  },
  {
   "cell_type": "markdown",
   "metadata": {},
   "source": [
    "infor 컬럼은 | 단위로 잘라줄 수 있고 \\n 단위로 잘라줄 수 있다."
   ]
  },
  {
   "cell_type": "code",
   "execution_count": 232,
   "metadata": {
    "collapsed": true,
    "scrolled": true
   },
   "outputs": [],
   "source": [
    "for idx in range(len(new_df['infor'].values)):\n",
    "    if '\\n' not in new_df['infor'].values[idx].split('|')[0]:\n",
    "        print(idx)"
   ]
  },
  {
   "cell_type": "code",
   "execution_count": 233,
   "metadata": {},
   "outputs": [
    {
     "data": {
      "text/plain": [
       "True"
      ]
     },
     "execution_count": 233,
     "metadata": {},
     "output_type": "execute_result"
    }
   ],
   "source": [
    "new_title_ls = []\n",
    "for idx in range(len(new_df['infor'].values)):\n",
    "    testing_ls = new_df['infor'].values[idx].split('|')\n",
    "    new_title_ls.append([j for i in [i.split('\\n') for i in testing_ls] for j in i])\n",
    "len(new_title_ls) == len(new_df)"
   ]
  },
  {
   "cell_type": "markdown",
   "metadata": {},
   "source": [
    "### 튜닝한 데이터에 대해서 해당 프로세스의 새로운 데이터들을 넣어줄 새로운 데이터 프레임 tuned_df 를 만들어준다."
   ]
  },
  {
   "cell_type": "code",
   "execution_count": 234,
   "metadata": {},
   "outputs": [
    {
     "data": {
      "text/html": [
       "<div>\n",
       "<style>\n",
       "    .dataframe thead tr:only-child th {\n",
       "        text-align: right;\n",
       "    }\n",
       "\n",
       "    .dataframe thead th {\n",
       "        text-align: left;\n",
       "    }\n",
       "\n",
       "    .dataframe tbody tr th {\n",
       "        vertical-align: top;\n",
       "    }\n",
       "</style>\n",
       "<table border=\"1\" class=\"dataframe\">\n",
       "  <thead>\n",
       "    <tr style=\"text-align: right;\">\n",
       "      <th></th>\n",
       "      <th>title_bundle</th>\n",
       "    </tr>\n",
       "  </thead>\n",
       "  <tbody>\n",
       "    <tr>\n",
       "      <th>37242</th>\n",
       "      <td>[Corporate Diversification, Relatedness, and F...</td>\n",
       "    </tr>\n",
       "    <tr>\n",
       "      <th>37243</th>\n",
       "      <td>[Corporate Diversification, Relatedness, and F...</td>\n",
       "    </tr>\n",
       "    <tr>\n",
       "      <th>37244</th>\n",
       "      <td>[Corporate Diversification, Relatedness, and F...</td>\n",
       "    </tr>\n",
       "    <tr>\n",
       "      <th>37245</th>\n",
       "      <td>[Corporate Diversification, Relatedness, and F...</td>\n",
       "    </tr>\n",
       "    <tr>\n",
       "      <th>37246</th>\n",
       "      <td>[Corporate Diversification, Relatedness, and F...</td>\n",
       "    </tr>\n",
       "  </tbody>\n",
       "</table>\n",
       "</div>"
      ],
      "text/plain": [
       "                                            title_bundle\n",
       "37242  [Corporate Diversification, Relatedness, and F...\n",
       "37243  [Corporate Diversification, Relatedness, and F...\n",
       "37244  [Corporate Diversification, Relatedness, and F...\n",
       "37245  [Corporate Diversification, Relatedness, and F...\n",
       "37246  [Corporate Diversification, Relatedness, and F..."
      ]
     },
     "execution_count": 234,
     "metadata": {},
     "output_type": "execute_result"
    }
   ],
   "source": [
    "tuned_df = pd.DataFrame()\n",
    "tuned_df['title_bundle'] = new_title_ls\n",
    "tuned_df.tail()"
   ]
  },
  {
   "cell_type": "markdown",
   "metadata": {},
   "source": [
    "### 리스트의 첫 번째 엘리먼트가 항상 논문의 이름인지 확인하는 프로세스가 필요해 보인다."
   ]
  },
  {
   "cell_type": "code",
   "execution_count": 235,
   "metadata": {},
   "outputs": [
    {
     "data": {
      "text/plain": [
       "['발생액 이상현상과 차익거래기회에 관한 연구',\n",
       " '고봉찬 ',\n",
       " ' 김진우 ',\n",
       " ' 한국증권학회 ',\n",
       " ' 한국증권학회지 ',\n",
       " ' 38(1) ',\n",
       " ' pp.77~105 ',\n",
       " ' 2009.03 ',\n",
       " ' 경영학',\n",
       " '피인용횟수 : 13']"
      ]
     },
     "execution_count": 235,
     "metadata": {},
     "output_type": "execute_result"
    }
   ],
   "source": [
    "tuned_df['title_bundle'].values[0]"
   ]
  },
  {
   "cell_type": "markdown",
   "metadata": {},
   "source": [
    "#### 이름이 넉넉잡아 5글자 이내라고 가정, 검사해본다."
   ]
  },
  {
   "cell_type": "code",
   "execution_count": 236,
   "metadata": {
    "collapsed": true
   },
   "outputs": [],
   "source": [
    "for paper in tuned_df['title_bundle'].values:\n",
    "    if len(paper[0]) <= 5 : \n",
    "        print(paper)\n",
    "        \n",
    "# 없으므로 naive 하지만, 각 리스트의 첫 번째 엘리먼트는 페이퍼 이름인 것을 확인할 수 있다."
   ]
  },
  {
   "cell_type": "markdown",
   "metadata": {},
   "source": [
    "### paper name 파싱! "
   ]
  },
  {
   "cell_type": "code",
   "execution_count": 237,
   "metadata": {},
   "outputs": [
    {
     "data": {
      "text/html": [
       "<div>\n",
       "<style>\n",
       "    .dataframe thead tr:only-child th {\n",
       "        text-align: right;\n",
       "    }\n",
       "\n",
       "    .dataframe thead th {\n",
       "        text-align: left;\n",
       "    }\n",
       "\n",
       "    .dataframe tbody tr th {\n",
       "        vertical-align: top;\n",
       "    }\n",
       "</style>\n",
       "<table border=\"1\" class=\"dataframe\">\n",
       "  <thead>\n",
       "    <tr style=\"text-align: right;\">\n",
       "      <th></th>\n",
       "      <th>title_bundle</th>\n",
       "      <th>paper_name</th>\n",
       "    </tr>\n",
       "  </thead>\n",
       "  <tbody>\n",
       "    <tr>\n",
       "      <th>37242</th>\n",
       "      <td>[Corporate Diversification, Relatedness, and F...</td>\n",
       "      <td>Corporate Diversification, Relatedness, and Fi...</td>\n",
       "    </tr>\n",
       "    <tr>\n",
       "      <th>37243</th>\n",
       "      <td>[Corporate Diversification, Relatedness, and F...</td>\n",
       "      <td>Corporate Diversification, Relatedness, and Fi...</td>\n",
       "    </tr>\n",
       "    <tr>\n",
       "      <th>37244</th>\n",
       "      <td>[Corporate Diversification, Relatedness, and F...</td>\n",
       "      <td>Corporate Diversification, Relatedness, and Fi...</td>\n",
       "    </tr>\n",
       "    <tr>\n",
       "      <th>37245</th>\n",
       "      <td>[Corporate Diversification, Relatedness, and F...</td>\n",
       "      <td>Corporate Diversification, Relatedness, and Fi...</td>\n",
       "    </tr>\n",
       "    <tr>\n",
       "      <th>37246</th>\n",
       "      <td>[Corporate Diversification, Relatedness, and F...</td>\n",
       "      <td>Corporate Diversification, Relatedness, and Fi...</td>\n",
       "    </tr>\n",
       "  </tbody>\n",
       "</table>\n",
       "</div>"
      ],
      "text/plain": [
       "                                            title_bundle  \\\n",
       "37242  [Corporate Diversification, Relatedness, and F...   \n",
       "37243  [Corporate Diversification, Relatedness, and F...   \n",
       "37244  [Corporate Diversification, Relatedness, and F...   \n",
       "37245  [Corporate Diversification, Relatedness, and F...   \n",
       "37246  [Corporate Diversification, Relatedness, and F...   \n",
       "\n",
       "                                              paper_name  \n",
       "37242  Corporate Diversification, Relatedness, and Fi...  \n",
       "37243  Corporate Diversification, Relatedness, and Fi...  \n",
       "37244  Corporate Diversification, Relatedness, and Fi...  \n",
       "37245  Corporate Diversification, Relatedness, and Fi...  \n",
       "37246  Corporate Diversification, Relatedness, and Fi...  "
      ]
     },
     "execution_count": 237,
     "metadata": {},
     "output_type": "execute_result"
    }
   ],
   "source": [
    "tuned_df['paper_name'] = [i[0] for i in tuned_df['title_bundle'].values]\n",
    "tuned_df.tail()"
   ]
  },
  {
   "cell_type": "markdown",
   "metadata": {},
   "source": [
    "#### 리스트에서 두 번째부터 `한국증권학회` , `한국재무관리학회` , `한국파생상품학회` , `한국재무학회` 가 나오는 엘리먼트의 리스트 인덱스 전까지는 이름 즉, 저자이다."
   ]
  },
  {
   "cell_type": "code",
   "execution_count": 238,
   "metadata": {},
   "outputs": [
    {
     "data": {
      "text/plain": [
       "['발생액 이상현상과 차익거래기회에 관한 연구',\n",
       " '고봉찬 ',\n",
       " ' 김진우 ',\n",
       " ' 한국증권학회 ',\n",
       " ' 한국증권학회지 ',\n",
       " ' 38(1) ',\n",
       " ' pp.77~105 ',\n",
       " ' 2009.03 ',\n",
       " ' 경영학',\n",
       " '피인용횟수 : 13']"
      ]
     },
     "execution_count": 238,
     "metadata": {},
     "output_type": "execute_result"
    }
   ],
   "source": [
    "tuned_df['title_bundle'].values[0]"
   ]
  },
  {
   "cell_type": "markdown",
   "metadata": {},
   "source": [
    "##### 우선 한국증권학회 , 한국재무관리학회 , 한국파생상품학회 , 한국재무학회 가 나오는 인덱스를 찾는다."
   ]
  },
  {
   "cell_type": "code",
   "execution_count": 239,
   "metadata": {
    "collapsed": true
   },
   "outputs": [],
   "source": [
    "testing_ls = []\n",
    "for paper in tuned_df['title_bundle'].values : \n",
    "    for idx in range(len(paper)):\n",
    "        if re.findall('한국증권학회|한국재무관리학회|한국파생상품학회|한국재무학회',paper[idx]) : \n",
    "            testing_ls.append(idx)\n",
    "            break"
   ]
  },
  {
   "cell_type": "code",
   "execution_count": 240,
   "metadata": {
    "collapsed": true
   },
   "outputs": [],
   "source": [
    "institution_ls = []\n",
    "for idx in range(len(tuned_df['title_bundle'].values)):\n",
    "    institution_ls.append(tuned_df['title_bundle'].values[idx][testing_ls[idx]])"
   ]
  },
  {
   "cell_type": "code",
   "execution_count": 241,
   "metadata": {},
   "outputs": [
    {
     "data": {
      "text/plain": [
       "[' 한국증권학회 ', ' 한국증권학회 ']"
      ]
     },
     "execution_count": 241,
     "metadata": {},
     "output_type": "execute_result"
    }
   ],
   "source": [
    "institution_ls[-2:]"
   ]
  },
  {
   "cell_type": "code",
   "execution_count": 242,
   "metadata": {
    "collapsed": true
   },
   "outputs": [],
   "source": [
    "for i in institution_ls : \n",
    "    if not re.findall('한국증권학회|한국재무관리학회|한국파생상품학회|한국재무학회',i):\n",
    "        print(i)\n",
    "\n",
    "# 아무것도 출력되지 않으므로 institution_ls 에는 발행기관명만 있다는 것을 알 수 있다."
   ]
  },
  {
   "cell_type": "code",
   "execution_count": 243,
   "metadata": {
    "collapsed": true
   },
   "outputs": [],
   "source": [
    "tuned_df['institution'] = institution_ls"
   ]
  },
  {
   "cell_type": "markdown",
   "metadata": {},
   "source": [
    "### 이번에는 이름을 해본다. 이름은 두번째 요소부터 발행기관명 사이의 엘리먼트이다. 발행기관명의 인덱스는 testing_ls에 넣어두었다."
   ]
  },
  {
   "cell_type": "code",
   "execution_count": 244,
   "metadata": {
    "collapsed": true
   },
   "outputs": [],
   "source": [
    "name_ls = []\n",
    "for idx,val in enumerate(tuned_df['title_bundle']):\n",
    "    name_ls.append(val[1:testing_ls[idx]])\n",
    "name_ls = [','.join(i) for i in name_ls]\n",
    "# 리스트를 문자열 형식으로 바꿔준다."
   ]
  },
  {
   "cell_type": "code",
   "execution_count": 245,
   "metadata": {
    "collapsed": true
   },
   "outputs": [],
   "source": [
    "tuned_df['author'] = name_ls"
   ]
  },
  {
   "cell_type": "markdown",
   "metadata": {},
   "source": [
    "### 이번에는 저널명이다 testing_ls에서 1을 더해준다."
   ]
  },
  {
   "cell_type": "code",
   "execution_count": 246,
   "metadata": {
    "collapsed": true
   },
   "outputs": [],
   "source": [
    "journal_ls = []\n",
    "for idx,val in enumerate(tuned_df['title_bundle']):\n",
    "    journal_ls.append(val[testing_ls[idx]+1])"
   ]
  },
  {
   "cell_type": "code",
   "execution_count": 247,
   "metadata": {
    "collapsed": true
   },
   "outputs": [],
   "source": [
    "tuned_df['journal'] = journal_ls"
   ]
  },
  {
   "cell_type": "markdown",
   "metadata": {},
   "source": [
    "#### 나머지 4개의 요소를 보게 되면, 33(1)는 무엇인지 모르겠고 나머지는 각각 페이지 수와, 논문 발행 년도 , 논문의 분야 카테고리 , 마지막으로 피인용횟수가 되겠다. 각각 분배해주자."
   ]
  },
  {
   "cell_type": "code",
   "execution_count": 248,
   "metadata": {},
   "outputs": [
    {
     "data": {
      "text/plain": [
       "['프로그램매매 중단장치가 주식시장의 정보비대칭에 미치는 영향',\n",
       " '박종원 ',\n",
       " ' 이우백 ',\n",
       " ' 권택호 ',\n",
       " ' 한국증권학회 ',\n",
       " ' 한국증권학회지 ',\n",
       " ' 38(3) ',\n",
       " ' pp.325~369 ',\n",
       " ' 2009.09 ',\n",
       " ' 경영학',\n",
       " '피인용횟수 : 7']"
      ]
     },
     "execution_count": 248,
     "metadata": {},
     "output_type": "execute_result"
    }
   ],
   "source": [
    "tuned_df['title_bundle'].values[100]"
   ]
  },
  {
   "cell_type": "markdown",
   "metadata": {},
   "source": [
    "### 뭔지 모르겠지만 넣어준다."
   ]
  },
  {
   "cell_type": "code",
   "execution_count": 249,
   "metadata": {
    "collapsed": true
   },
   "outputs": [],
   "source": [
    "dont_know_ls = []\n",
    "for idx,val in enumerate(tuned_df['title_bundle']):\n",
    "    dont_know_ls.append(val[-5])\n",
    "\n",
    "tuned_df['dont_know'] = dont_know_ls"
   ]
  },
  {
   "cell_type": "code",
   "execution_count": 250,
   "metadata": {},
   "outputs": [
    {
     "data": {
      "text/plain": [
       "' 38(3) '"
      ]
     },
     "execution_count": 250,
     "metadata": {},
     "output_type": "execute_result"
    }
   ],
   "source": [
    "dont_know_ls[100]"
   ]
  },
  {
   "cell_type": "code",
   "execution_count": 251,
   "metadata": {},
   "outputs": [
    {
     "data": {
      "text/plain": [
       "[]"
      ]
     },
     "execution_count": 251,
     "metadata": {},
     "output_type": "execute_result"
    }
   ],
   "source": [
    "[i for i in dont_know_ls if not re.findall(' [0-9]{2}\\(.*\\)',i)]"
   ]
  },
  {
   "cell_type": "markdown",
   "metadata": {},
   "source": [
    "### 페이지 수"
   ]
  },
  {
   "cell_type": "code",
   "execution_count": 252,
   "metadata": {
    "collapsed": true
   },
   "outputs": [],
   "source": [
    "page_ls = []\n",
    "for idx,val in enumerate(tuned_df['title_bundle']):\n",
    "    page_ls.append(val[-4])\n",
    "\n",
    "tuned_df['page'] = page_ls"
   ]
  },
  {
   "cell_type": "code",
   "execution_count": 253,
   "metadata": {},
   "outputs": [
    {
     "data": {
      "text/plain": [
       "[]"
      ]
     },
     "execution_count": 253,
     "metadata": {},
     "output_type": "execute_result"
    }
   ],
   "source": [
    "[i for i in page_ls if not re.findall(' pp.',i)]"
   ]
  },
  {
   "cell_type": "markdown",
   "metadata": {},
   "source": [
    "### 발행 시점"
   ]
  },
  {
   "cell_type": "code",
   "execution_count": 254,
   "metadata": {
    "collapsed": true
   },
   "outputs": [],
   "source": [
    "year_ls = []\n",
    "for idx,val in enumerate(tuned_df['title_bundle']):\n",
    "    year_ls.append(val[-3])\n",
    "\n",
    "tuned_df['year'] = year_ls"
   ]
  },
  {
   "cell_type": "code",
   "execution_count": 255,
   "metadata": {},
   "outputs": [
    {
     "data": {
      "text/plain": [
       "[]"
      ]
     },
     "execution_count": 255,
     "metadata": {},
     "output_type": "execute_result"
    }
   ],
   "source": [
    "[i for i in year_ls if not re.findall(' 20',i)]"
   ]
  },
  {
   "cell_type": "markdown",
   "metadata": {},
   "source": [
    "### 논문 분야"
   ]
  },
  {
   "cell_type": "code",
   "execution_count": 256,
   "metadata": {
    "collapsed": true
   },
   "outputs": [],
   "source": [
    "field_ls = []\n",
    "for idx,val in enumerate(tuned_df['title_bundle']):\n",
    "    field_ls.append(val[-2])\n",
    "\n",
    "tuned_df['field'] = field_ls"
   ]
  },
  {
   "cell_type": "code",
   "execution_count": 257,
   "metadata": {},
   "outputs": [
    {
     "data": {
      "text/plain": [
       "[]"
      ]
     },
     "execution_count": 257,
     "metadata": {},
     "output_type": "execute_result"
    }
   ],
   "source": [
    "[i for i in field_ls if not re.findall('경영학',i)]"
   ]
  },
  {
   "cell_type": "markdown",
   "metadata": {},
   "source": [
    "### 피인용 횟수"
   ]
  },
  {
   "cell_type": "code",
   "execution_count": 258,
   "metadata": {
    "collapsed": true
   },
   "outputs": [],
   "source": [
    "cited_ls = []\n",
    "for idx,val in enumerate(tuned_df['title_bundle']):\n",
    "    cited_ls.append(val[-1])\n",
    "\n",
    "tuned_df['cited'] = cited_ls"
   ]
  },
  {
   "cell_type": "code",
   "execution_count": 259,
   "metadata": {},
   "outputs": [
    {
     "data": {
      "text/plain": [
       "[]"
      ]
     },
     "execution_count": 259,
     "metadata": {},
     "output_type": "execute_result"
    }
   ],
   "source": [
    "[i for i in cited_ls if not re.findall('피인용횟수',i)]"
   ]
  },
  {
   "cell_type": "markdown",
   "metadata": {},
   "source": [
    "# 이렇게 해서 기존 new_df 라는 데이터 프레임에서 infor 컬럼의 튜닝을 끝냈다."
   ]
  },
  {
   "cell_type": "code",
   "execution_count": 260,
   "metadata": {},
   "outputs": [
    {
     "data": {
      "text/html": [
       "<div>\n",
       "<style>\n",
       "    .dataframe thead tr:only-child th {\n",
       "        text-align: right;\n",
       "    }\n",
       "\n",
       "    .dataframe thead th {\n",
       "        text-align: left;\n",
       "    }\n",
       "\n",
       "    .dataframe tbody tr th {\n",
       "        vertical-align: top;\n",
       "    }\n",
       "</style>\n",
       "<table border=\"1\" class=\"dataframe\">\n",
       "  <thead>\n",
       "    <tr style=\"text-align: right;\">\n",
       "      <th></th>\n",
       "      <th>paper_name</th>\n",
       "      <th>institution</th>\n",
       "      <th>author</th>\n",
       "      <th>journal</th>\n",
       "      <th>dont_know</th>\n",
       "      <th>page</th>\n",
       "      <th>year</th>\n",
       "      <th>field</th>\n",
       "      <th>cited</th>\n",
       "    </tr>\n",
       "  </thead>\n",
       "  <tbody>\n",
       "    <tr>\n",
       "      <th>37242</th>\n",
       "      <td>Corporate Diversification, Relatedness, and Fi...</td>\n",
       "      <td>한국증권학회</td>\n",
       "      <td>배성철 , 권택호 , 이장우</td>\n",
       "      <td>Asia-Pacific Journal of Financial Studies</td>\n",
       "      <td>37(6)</td>\n",
       "      <td>pp.1025~1064</td>\n",
       "      <td>2008.12</td>\n",
       "      <td>경영학</td>\n",
       "      <td>피인용횟수 : 20</td>\n",
       "    </tr>\n",
       "    <tr>\n",
       "      <th>37243</th>\n",
       "      <td>Corporate Diversification, Relatedness, and Fi...</td>\n",
       "      <td>한국증권학회</td>\n",
       "      <td>배성철 , 권택호 , 이장우</td>\n",
       "      <td>Asia-Pacific Journal of Financial Studies</td>\n",
       "      <td>37(6)</td>\n",
       "      <td>pp.1025~1064</td>\n",
       "      <td>2008.12</td>\n",
       "      <td>경영학</td>\n",
       "      <td>피인용횟수 : 20</td>\n",
       "    </tr>\n",
       "    <tr>\n",
       "      <th>37244</th>\n",
       "      <td>Corporate Diversification, Relatedness, and Fi...</td>\n",
       "      <td>한국증권학회</td>\n",
       "      <td>배성철 , 권택호 , 이장우</td>\n",
       "      <td>Asia-Pacific Journal of Financial Studies</td>\n",
       "      <td>37(6)</td>\n",
       "      <td>pp.1025~1064</td>\n",
       "      <td>2008.12</td>\n",
       "      <td>경영학</td>\n",
       "      <td>피인용횟수 : 20</td>\n",
       "    </tr>\n",
       "    <tr>\n",
       "      <th>37245</th>\n",
       "      <td>Corporate Diversification, Relatedness, and Fi...</td>\n",
       "      <td>한국증권학회</td>\n",
       "      <td>배성철 , 권택호 , 이장우</td>\n",
       "      <td>Asia-Pacific Journal of Financial Studies</td>\n",
       "      <td>37(6)</td>\n",
       "      <td>pp.1025~1064</td>\n",
       "      <td>2008.12</td>\n",
       "      <td>경영학</td>\n",
       "      <td>피인용횟수 : 20</td>\n",
       "    </tr>\n",
       "    <tr>\n",
       "      <th>37246</th>\n",
       "      <td>Corporate Diversification, Relatedness, and Fi...</td>\n",
       "      <td>한국증권학회</td>\n",
       "      <td>배성철 , 권택호 , 이장우</td>\n",
       "      <td>Asia-Pacific Journal of Financial Studies</td>\n",
       "      <td>37(6)</td>\n",
       "      <td>pp.1025~1064</td>\n",
       "      <td>2008.12</td>\n",
       "      <td>경영학</td>\n",
       "      <td>피인용횟수 : 20</td>\n",
       "    </tr>\n",
       "  </tbody>\n",
       "</table>\n",
       "</div>"
      ],
      "text/plain": [
       "                                              paper_name institution  \\\n",
       "37242  Corporate Diversification, Relatedness, and Fi...     한국증권학회    \n",
       "37243  Corporate Diversification, Relatedness, and Fi...     한국증권학회    \n",
       "37244  Corporate Diversification, Relatedness, and Fi...     한국증권학회    \n",
       "37245  Corporate Diversification, Relatedness, and Fi...     한국증권학회    \n",
       "37246  Corporate Diversification, Relatedness, and Fi...     한국증권학회    \n",
       "\n",
       "                 author                                      journal  \\\n",
       "37242  배성철 , 권택호 , 이장우    Asia-Pacific Journal of Financial Studies    \n",
       "37243  배성철 , 권택호 , 이장우    Asia-Pacific Journal of Financial Studies    \n",
       "37244  배성철 , 권택호 , 이장우    Asia-Pacific Journal of Financial Studies    \n",
       "37245  배성철 , 권택호 , 이장우    Asia-Pacific Journal of Financial Studies    \n",
       "37246  배성철 , 권택호 , 이장우    Asia-Pacific Journal of Financial Studies    \n",
       "\n",
       "      dont_know            page       year field       cited  \n",
       "37242    37(6)    pp.1025~1064    2008.12    경영학  피인용횟수 : 20  \n",
       "37243    37(6)    pp.1025~1064    2008.12    경영학  피인용횟수 : 20  \n",
       "37244    37(6)    pp.1025~1064    2008.12    경영학  피인용횟수 : 20  \n",
       "37245    37(6)    pp.1025~1064    2008.12    경영학  피인용횟수 : 20  \n",
       "37246    37(6)    pp.1025~1064    2008.12    경영학  피인용횟수 : 20  "
      ]
     },
     "execution_count": 260,
     "metadata": {},
     "output_type": "execute_result"
    }
   ],
   "source": [
    "final_tuned_df = tuned_df.iloc[:,1:]\n",
    "final_tuned_df.tail()"
   ]
  },
  {
   "cell_type": "code",
   "execution_count": 261,
   "metadata": {},
   "outputs": [
    {
     "data": {
      "text/html": [
       "<div>\n",
       "<style>\n",
       "    .dataframe thead tr:only-child th {\n",
       "        text-align: right;\n",
       "    }\n",
       "\n",
       "    .dataframe thead th {\n",
       "        text-align: left;\n",
       "    }\n",
       "\n",
       "    .dataframe tbody tr th {\n",
       "        vertical-align: top;\n",
       "    }\n",
       "</style>\n",
       "<table border=\"1\" class=\"dataframe\">\n",
       "  <thead>\n",
       "    <tr style=\"text-align: right;\">\n",
       "      <th></th>\n",
       "      <th>paper_name</th>\n",
       "      <th>institution</th>\n",
       "      <th>author</th>\n",
       "      <th>journal</th>\n",
       "      <th>dont_know</th>\n",
       "      <th>page</th>\n",
       "      <th>year</th>\n",
       "      <th>field</th>\n",
       "      <th>cited</th>\n",
       "    </tr>\n",
       "  </thead>\n",
       "  <tbody>\n",
       "    <tr>\n",
       "      <th>0</th>\n",
       "      <td>발생액 이상현상과 차익거래기회에 관한 연구</td>\n",
       "      <td>한국증권학회</td>\n",
       "      <td>고봉찬 , 김진우</td>\n",
       "      <td>한국증권학회지</td>\n",
       "      <td>38(1)</td>\n",
       "      <td>pp.77~105</td>\n",
       "      <td>2009.03</td>\n",
       "      <td>경영학</td>\n",
       "      <td>피인용횟수 : 13</td>\n",
       "    </tr>\n",
       "    <tr>\n",
       "      <th>1</th>\n",
       "      <td>발생액 이상현상과 차익거래기회에 관한 연구</td>\n",
       "      <td>한국증권학회</td>\n",
       "      <td>고봉찬 , 김진우</td>\n",
       "      <td>한국증권학회지</td>\n",
       "      <td>38(1)</td>\n",
       "      <td>pp.77~105</td>\n",
       "      <td>2009.03</td>\n",
       "      <td>경영학</td>\n",
       "      <td>피인용횟수 : 13</td>\n",
       "    </tr>\n",
       "    <tr>\n",
       "      <th>2</th>\n",
       "      <td>발생액 이상현상과 차익거래기회에 관한 연구</td>\n",
       "      <td>한국증권학회</td>\n",
       "      <td>고봉찬 , 김진우</td>\n",
       "      <td>한국증권학회지</td>\n",
       "      <td>38(1)</td>\n",
       "      <td>pp.77~105</td>\n",
       "      <td>2009.03</td>\n",
       "      <td>경영학</td>\n",
       "      <td>피인용횟수 : 13</td>\n",
       "    </tr>\n",
       "    <tr>\n",
       "      <th>3</th>\n",
       "      <td>발생액 이상현상과 차익거래기회에 관한 연구</td>\n",
       "      <td>한국증권학회</td>\n",
       "      <td>고봉찬 , 김진우</td>\n",
       "      <td>한국증권학회지</td>\n",
       "      <td>38(1)</td>\n",
       "      <td>pp.77~105</td>\n",
       "      <td>2009.03</td>\n",
       "      <td>경영학</td>\n",
       "      <td>피인용횟수 : 13</td>\n",
       "    </tr>\n",
       "    <tr>\n",
       "      <th>4</th>\n",
       "      <td>발생액 이상현상과 차익거래기회에 관한 연구</td>\n",
       "      <td>한국증권학회</td>\n",
       "      <td>고봉찬 , 김진우</td>\n",
       "      <td>한국증권학회지</td>\n",
       "      <td>38(1)</td>\n",
       "      <td>pp.77~105</td>\n",
       "      <td>2009.03</td>\n",
       "      <td>경영학</td>\n",
       "      <td>피인용횟수 : 13</td>\n",
       "    </tr>\n",
       "  </tbody>\n",
       "</table>\n",
       "</div>"
      ],
      "text/plain": [
       "                paper_name institution      author    journal dont_know  \\\n",
       "0  발생액 이상현상과 차익거래기회에 관한 연구     한국증권학회   고봉찬 , 김진우    한국증권학회지     38(1)    \n",
       "1  발생액 이상현상과 차익거래기회에 관한 연구     한국증권학회   고봉찬 , 김진우    한국증권학회지     38(1)    \n",
       "2  발생액 이상현상과 차익거래기회에 관한 연구     한국증권학회   고봉찬 , 김진우    한국증권학회지     38(1)    \n",
       "3  발생액 이상현상과 차익거래기회에 관한 연구     한국증권학회   고봉찬 , 김진우    한국증권학회지     38(1)    \n",
       "4  발생액 이상현상과 차익거래기회에 관한 연구     한국증권학회   고봉찬 , 김진우    한국증권학회지     38(1)    \n",
       "\n",
       "          page       year field       cited  \n",
       "0   pp.77~105    2009.03    경영학  피인용횟수 : 13  \n",
       "1   pp.77~105    2009.03    경영학  피인용횟수 : 13  \n",
       "2   pp.77~105    2009.03    경영학  피인용횟수 : 13  \n",
       "3   pp.77~105    2009.03    경영학  피인용횟수 : 13  \n",
       "4   pp.77~105    2009.03    경영학  피인용횟수 : 13  "
      ]
     },
     "execution_count": 261,
     "metadata": {},
     "output_type": "execute_result"
    }
   ],
   "source": [
    "final_tuned_df.head()"
   ]
  },
  {
   "cell_type": "code",
   "execution_count": 262,
   "metadata": {
    "collapsed": true
   },
   "outputs": [],
   "source": [
    "final_tuned_df.to_csv('tuned_dataframe_infor.csv',index=False)"
   ]
  },
  {
   "cell_type": "markdown",
   "metadata": {},
   "source": [
    "# 이번엔 refer 컬럼에 대한 튜닝을 해보자."
   ]
  },
  {
   "cell_type": "markdown",
   "metadata": {},
   "source": [
    "우선 / 로 split 이 가능해 보인다."
   ]
  },
  {
   "cell_type": "markdown",
   "metadata": {},
   "source": [
    "#### 참고문헌이 없어서 '0' 으로 등록되지 않은 리스트 중 첫 번째가   \"숫자. [학술지 형태] - \"  가 아닌 경우를 찾아본다."
   ]
  },
  {
   "cell_type": "code",
   "execution_count": 263,
   "metadata": {
    "scrolled": true
   },
   "outputs": [
    {
     "data": {
      "text/html": [
       "<div>\n",
       "<style>\n",
       "    .dataframe thead tr:only-child th {\n",
       "        text-align: right;\n",
       "    }\n",
       "\n",
       "    .dataframe thead th {\n",
       "        text-align: left;\n",
       "    }\n",
       "\n",
       "    .dataframe tbody tr th {\n",
       "        vertical-align: top;\n",
       "    }\n",
       "</style>\n",
       "<table border=\"1\" class=\"dataframe\">\n",
       "  <thead>\n",
       "    <tr style=\"text-align: right;\">\n",
       "      <th></th>\n",
       "      <th>infor</th>\n",
       "      <th>refer</th>\n",
       "    </tr>\n",
       "  </thead>\n",
       "  <tbody>\n",
       "    <tr>\n",
       "      <th>37242</th>\n",
       "      <td>Corporate Diversification, Relatedness, and Fi...</td>\n",
       "      <td>40. [기타자료] - Villalonga, Belen / 1999 / Does D...</td>\n",
       "    </tr>\n",
       "    <tr>\n",
       "      <th>37243</th>\n",
       "      <td>Corporate Diversification, Relatedness, and Fi...</td>\n",
       "      <td>41. [학술지(정기간행물)] - Villalonga, Belen / 2004 / ...</td>\n",
       "    </tr>\n",
       "    <tr>\n",
       "      <th>37244</th>\n",
       "      <td>Corporate Diversification, Relatedness, and Fi...</td>\n",
       "      <td>42. [학술지(정기간행물)] - Villalonga, Belen / 2004 / ...</td>\n",
       "    </tr>\n",
       "    <tr>\n",
       "      <th>37245</th>\n",
       "      <td>Corporate Diversification, Relatedness, and Fi...</td>\n",
       "      <td>43. [학술지(정기간행물)] - Weston, J. F / 1970 / The N...</td>\n",
       "    </tr>\n",
       "    <tr>\n",
       "      <th>37246</th>\n",
       "      <td>Corporate Diversification, Relatedness, and Fi...</td>\n",
       "      <td>44. [학술지(정기간행물)] - Whited, Toni M / 2001 / Is ...</td>\n",
       "    </tr>\n",
       "  </tbody>\n",
       "</table>\n",
       "</div>"
      ],
      "text/plain": [
       "                                                   infor  \\\n",
       "37242  Corporate Diversification, Relatedness, and Fi...   \n",
       "37243  Corporate Diversification, Relatedness, and Fi...   \n",
       "37244  Corporate Diversification, Relatedness, and Fi...   \n",
       "37245  Corporate Diversification, Relatedness, and Fi...   \n",
       "37246  Corporate Diversification, Relatedness, and Fi...   \n",
       "\n",
       "                                                   refer  \n",
       "37242  40. [기타자료] - Villalonga, Belen / 1999 / Does D...  \n",
       "37243  41. [학술지(정기간행물)] - Villalonga, Belen / 2004 / ...  \n",
       "37244  42. [학술지(정기간행물)] - Villalonga, Belen / 2004 / ...  \n",
       "37245  43. [학술지(정기간행물)] - Weston, J. F / 1970 / The N...  \n",
       "37246  44. [학술지(정기간행물)] - Whited, Toni M / 2001 / Is ...  "
      ]
     },
     "execution_count": 263,
     "metadata": {},
     "output_type": "execute_result"
    }
   ],
   "source": [
    "new_df.tail()"
   ]
  },
  {
   "cell_type": "code",
   "execution_count": 264,
   "metadata": {
    "scrolled": true
   },
   "outputs": [
    {
     "data": {
      "text/plain": [
       "True"
      ]
     },
     "execution_count": 264,
     "metadata": {},
     "output_type": "execute_result"
    }
   ],
   "source": [
    "new_refer_ls = []\n",
    "\n",
    "for idx in range(len(new_df['refer'].values)):\n",
    "    new_refer_ls.append(new_df['refer'].values[idx].split(' / '))\n",
    "len(new_refer_ls) == len(new_df)"
   ]
  },
  {
   "cell_type": "code",
   "execution_count": 265,
   "metadata": {},
   "outputs": [
    {
     "data": {
      "text/html": [
       "<div>\n",
       "<style>\n",
       "    .dataframe thead tr:only-child th {\n",
       "        text-align: right;\n",
       "    }\n",
       "\n",
       "    .dataframe thead th {\n",
       "        text-align: left;\n",
       "    }\n",
       "\n",
       "    .dataframe tbody tr th {\n",
       "        vertical-align: top;\n",
       "    }\n",
       "</style>\n",
       "<table border=\"1\" class=\"dataframe\">\n",
       "  <thead>\n",
       "    <tr style=\"text-align: right;\">\n",
       "      <th></th>\n",
       "      <th>infor</th>\n",
       "      <th>refer</th>\n",
       "      <th>tuned_refer</th>\n",
       "    </tr>\n",
       "  </thead>\n",
       "  <tbody>\n",
       "    <tr>\n",
       "      <th>37242</th>\n",
       "      <td>Corporate Diversification, Relatedness, and Fi...</td>\n",
       "      <td>40. [기타자료] - Villalonga, Belen / 1999 / Does D...</td>\n",
       "      <td>[40. [기타자료] - Villalonga, Belen, 1999, Does Di...</td>\n",
       "    </tr>\n",
       "    <tr>\n",
       "      <th>37243</th>\n",
       "      <td>Corporate Diversification, Relatedness, and Fi...</td>\n",
       "      <td>41. [학술지(정기간행물)] - Villalonga, Belen / 2004 / ...</td>\n",
       "      <td>[41. [학술지(정기간행물)] - Villalonga, Belen, 2004, D...</td>\n",
       "    </tr>\n",
       "    <tr>\n",
       "      <th>37244</th>\n",
       "      <td>Corporate Diversification, Relatedness, and Fi...</td>\n",
       "      <td>42. [학술지(정기간행물)] - Villalonga, Belen / 2004 / ...</td>\n",
       "      <td>[42. [학술지(정기간행물)] - Villalonga, Belen, 2004, D...</td>\n",
       "    </tr>\n",
       "    <tr>\n",
       "      <th>37245</th>\n",
       "      <td>Corporate Diversification, Relatedness, and Fi...</td>\n",
       "      <td>43. [학술지(정기간행물)] - Weston, J. F / 1970 / The N...</td>\n",
       "      <td>[43. [학술지(정기간행물)] - Weston, J. F, 1970, The Na...</td>\n",
       "    </tr>\n",
       "    <tr>\n",
       "      <th>37246</th>\n",
       "      <td>Corporate Diversification, Relatedness, and Fi...</td>\n",
       "      <td>44. [학술지(정기간행물)] - Whited, Toni M / 2001 / Is ...</td>\n",
       "      <td>[44. [학술지(정기간행물)] - Whited, Toni M, 2001, Is I...</td>\n",
       "    </tr>\n",
       "  </tbody>\n",
       "</table>\n",
       "</div>"
      ],
      "text/plain": [
       "                                                   infor  \\\n",
       "37242  Corporate Diversification, Relatedness, and Fi...   \n",
       "37243  Corporate Diversification, Relatedness, and Fi...   \n",
       "37244  Corporate Diversification, Relatedness, and Fi...   \n",
       "37245  Corporate Diversification, Relatedness, and Fi...   \n",
       "37246  Corporate Diversification, Relatedness, and Fi...   \n",
       "\n",
       "                                                   refer  \\\n",
       "37242  40. [기타자료] - Villalonga, Belen / 1999 / Does D...   \n",
       "37243  41. [학술지(정기간행물)] - Villalonga, Belen / 2004 / ...   \n",
       "37244  42. [학술지(정기간행물)] - Villalonga, Belen / 2004 / ...   \n",
       "37245  43. [학술지(정기간행물)] - Weston, J. F / 1970 / The N...   \n",
       "37246  44. [학술지(정기간행물)] - Whited, Toni M / 2001 / Is ...   \n",
       "\n",
       "                                             tuned_refer  \n",
       "37242  [40. [기타자료] - Villalonga, Belen, 1999, Does Di...  \n",
       "37243  [41. [학술지(정기간행물)] - Villalonga, Belen, 2004, D...  \n",
       "37244  [42. [학술지(정기간행물)] - Villalonga, Belen, 2004, D...  \n",
       "37245  [43. [학술지(정기간행물)] - Weston, J. F, 1970, The Na...  \n",
       "37246  [44. [학술지(정기간행물)] - Whited, Toni M, 2001, Is I...  "
      ]
     },
     "execution_count": 265,
     "metadata": {},
     "output_type": "execute_result"
    }
   ],
   "source": [
    "new_df['tuned_refer'] = new_refer_ls\n",
    "new_df.tail()"
   ]
  },
  {
   "cell_type": "code",
   "execution_count": 266,
   "metadata": {},
   "outputs": [
    {
     "data": {
      "text/plain": [
       "['1. [학술지(정기간행물)] - 고봉찬',\n",
       " '2007',\n",
       " '발생액 이상현상에 대한 위험평가',\n",
       " 'Asia-Pacific Journal of Financial Studies 36 (3) : 425 ~ 461,']"
      ]
     },
     "execution_count": 266,
     "metadata": {},
     "output_type": "execute_result"
    }
   ],
   "source": [
    "new_df['tuned_refer'][0]"
   ]
  },
  {
   "cell_type": "code",
   "execution_count": 267,
   "metadata": {},
   "outputs": [
    {
     "data": {
      "text/plain": [
       "{1, 3, 4, 5}"
      ]
     },
     "execution_count": 267,
     "metadata": {},
     "output_type": "execute_result"
    }
   ],
   "source": [
    "set([len(i) for idx,i in enumerate(new_df['tuned_refer'])])\n"
   ]
  },
  {
   "cell_type": "code",
   "execution_count": 268,
   "metadata": {
    "collapsed": true
   },
   "outputs": [],
   "source": [
    "for i in new_refer_ls : \n",
    "    if i[0] != '0' : \n",
    "        if not re.findall('[0-9]{1,}. \\[.+\\] -',i[0]) : \n",
    "            print(i)\n",
    "            \n",
    "# 없다. 참고문헌이 있는 리스트의 첫 번째 엘리먼트는 동일한 형태를 띄고 있음을 알 수 있다."
   ]
  },
  {
   "cell_type": "markdown",
   "metadata": {},
   "source": [
    "#### 참고문헌이 없어서 '0' 으로 등록되지 않은 리스트 중 두 번째가 년도의 형태가 아닌 경우를 찾아본다."
   ]
  },
  {
   "cell_type": "code",
   "execution_count": 269,
   "metadata": {},
   "outputs": [
    {
     "name": "stdout",
     "output_type": "stream",
     "text": [
      "['27. [보고서] - Huang, J', '203', 'How much of the corporate-treasury yield spread is due to credit risk : 1 ~ 57,']\n",
      "3\n",
      "['6. [학술지(정기간행물)] - Bliss, R. R.', '200', 'Testing the Stability of Implied Probability Density Functions', 'Journal of Banking and Finance 26 : 381 ~ 422,']\n",
      "4\n",
      "['16. [학술지(정기간행물)] - Figlewski, S.', '179', 'Subjective information and market efficiency in a betting market', 'Journal of Political Economy 87 : 75 ~ 89,']\n",
      "4\n",
      "['11. [학술지(정기간행물)] - Ait-Sahalia, Y.', '200', 'How Often to Sample a Continuous-Time Process in the Presence of Market Microstructure Noise', 'Review of Financial Studies 18 : 351 ~ 416,']\n",
      "4\n",
      "['4. [학술지(정기간행물)] -', '4', 'Shareholder Preferences and Dividend Policy (45) : 993 ~ 1018,']\n",
      "3\n",
      "['8. [학술지(정기간행물)] -', '4', 'Two Agency Cost Explanations of Dividends (74) : 650 ~ 659,']\n",
      "3\n",
      "['33. [학술지(정기간행물)] - Kyle, Albert S', '53', 'Continuous auctions and insider trading', 'Econometrica 53 : 1315 ~ 1335,']\n",
      "4\n"
     ]
    }
   ],
   "source": [
    "for i in new_refer_ls : \n",
    "    if i[0] != '0' : \n",
    "        if not re.findall('[0-9]{4}',i[1]) : \n",
    "            print(i)\n",
    "            print(len(i))\n",
    "            \n",
    "# 안타깝게도 존재한다. 이런 경우 일단 귀속시킨 후에 교수님께 피드백을 요청한다. 7개만 나와서 그나마 다행인듯..ㅠㅠ"
   ]
  },
  {
   "cell_type": "markdown",
   "metadata": {},
   "source": [
    "### 3개짜리의 구조\n",
    "- 1. 논문의 성향\n",
    "- 1.5. 논문의 저자(있는 경우도 있고 없는 경우도 있음)\n",
    "- 2. 논문의 년도\n",
    "- 3. 논문의 이름"
   ]
  },
  {
   "cell_type": "code",
   "execution_count": 270,
   "metadata": {},
   "outputs": [
    {
     "name": "stdout",
     "output_type": "stream",
     "text": [
      "242 8071 28840 94\n"
     ]
    }
   ],
   "source": [
    "print(len([i for i in new_refer_ls if len(i) == 1]),\n",
    "len([i for i in new_refer_ls if len(i) == 3]),\n",
    "len([i for i in new_refer_ls if len(i) == 4]),\n",
    "len([i for i in new_refer_ls if len(i) == 5]))"
   ]
  },
  {
   "cell_type": "markdown",
   "metadata": {},
   "source": [
    "### 즉, 3개짜리에는 발행기관명과 학술지명이 있는 경우, 없는 경우가 불규칙하게 분포되어 있다. 이 또한 교수님께 피드백을 받아야 하는 부분이다."
   ]
  },
  {
   "cell_type": "code",
   "execution_count": 271,
   "metadata": {},
   "outputs": [
    {
     "data": {
      "text/plain": [
       "['53. [보고서] - New York Stock Exchange',\n",
       " '1991',\n",
       " 'The Rule 80A Index Arbitrage Tick Test: Report to the U.S. Securities and Exchange Commission,']"
      ]
     },
     "execution_count": 271,
     "metadata": {},
     "output_type": "execute_result"
    }
   ],
   "source": [
    "[i for i in new_refer_ls if len(i) == 3][0]"
   ]
  },
  {
   "cell_type": "code",
   "execution_count": 272,
   "metadata": {
    "scrolled": false
   },
   "outputs": [
    {
     "data": {
      "text/plain": [
       "'The Rule 80A Index Arbitrage Tick Test: Report to the U.S. Securities and Exchange Commission,'"
      ]
     },
     "execution_count": 272,
     "metadata": {},
     "output_type": "execute_result"
    }
   ],
   "source": [
    "[i[-1] for i in new_refer_ls if len(i) == 3][0]\n",
    "# 즉, 3개짜리에는 발행기관명과 학술지명이 있는 경우, 없는 경우가 불규칙하게 분포되어 있다. 이 또한 교수님께 피드백을 받아야 하는 부분이다."
   ]
  },
  {
   "cell_type": "code",
   "execution_count": 273,
   "metadata": {
    "scrolled": true
   },
   "outputs": [
    {
     "data": {
      "text/plain": [
       "['/ Journal of Finance 43 : 541 ~ 566,',\n",
       " 'Using Financial Data to Measure Effects of Regulation Journal of Law and Economics : 121 ~ 158',\n",
       " 'Theory of the Firm Journal of Financial Economics : 305 ~ 360,',\n",
       " 'Efficient analytic approximation of American option values Journal of Finance : 301 ~ 320,',\n",
       " 'The valuation of American put options Journal of Finance : 449 ~ 462,']"
      ]
     },
     "execution_count": 273,
     "metadata": {},
     "output_type": "execute_result"
    }
   ],
   "source": [
    "[j for j in [i[-1] for i in new_refer_ls if len(i) == 3] if re.findall('Journal',j)][:5]"
   ]
  },
  {
   "cell_type": "markdown",
   "metadata": {},
   "source": [
    "# 나중에 병합할 때 혼류가 없도록 길이에 따른 인덱스를 저장해준다"
   ]
  },
  {
   "cell_type": "code",
   "execution_count": 274,
   "metadata": {},
   "outputs": [
    {
     "data": {
      "text/plain": [
       "(242, 8071, 28840, 94)"
      ]
     },
     "execution_count": 274,
     "metadata": {},
     "output_type": "execute_result"
    }
   ],
   "source": [
    "len_1_idx = [idx for idx,val in enumerate(new_df['tuned_refer']) if len(val) == 1] # 없는 값\n",
    "len_3_idx = [idx for idx,val in enumerate(new_df['tuned_refer']) if len(val) == 3]\n",
    "len_4_idx = [idx for idx,val in enumerate(new_df['tuned_refer']) if len(val) == 4]\n",
    "len_5_idx = [idx for idx,val in enumerate(new_df['tuned_refer']) if len(val) == 5]\n",
    "len(len_1_idx),len(len_3_idx),len(len_4_idx),len(len_5_idx)"
   ]
  },
  {
   "cell_type": "code",
   "execution_count": 275,
   "metadata": {},
   "outputs": [
    {
     "data": {
      "text/plain": [
       "True"
      ]
     },
     "execution_count": 275,
     "metadata": {},
     "output_type": "execute_result"
    }
   ],
   "source": [
    "len(len_1_idx) +len(len_3_idx) +len(len_4_idx)  + len(len_5_idx) == len(new_df)"
   ]
  },
  {
   "cell_type": "markdown",
   "metadata": {},
   "source": [
    "# 전체 데이터에 실시"
   ]
  },
  {
   "cell_type": "markdown",
   "metadata": {},
   "source": [
    "- 기준으로 split"
   ]
  },
  {
   "cell_type": "code",
   "execution_count": 276,
   "metadata": {},
   "outputs": [
    {
     "data": {
      "text/plain": [
       "True"
      ]
     },
     "execution_count": 276,
     "metadata": {},
     "output_type": "execute_result"
    }
   ],
   "source": [
    "tuned_new_refer = []\n",
    "for idx in range(len(new_refer_ls)):\n",
    "    tuned_new_refer.append(new_refer_ls[idx][0].split(\" -\") + new_refer_ls[idx][1:])\n",
    "len(tuned_new_refer) == len(new_refer_ls)"
   ]
  },
  {
   "cell_type": "markdown",
   "metadata": {},
   "source": [
    "가장 첫 번째 character 엘리먼트와 3번째 엘리먼스인 년도 사이에 무엇이 있으면 하나로 병합시켜준다. (이름)"
   ]
  },
  {
   "cell_type": "code",
   "execution_count": 277,
   "metadata": {
    "collapsed": true
   },
   "outputs": [],
   "source": [
    "merge = [(1, 3)]\n",
    "\n",
    "for ls in tuned_new_refer : \n",
    "    if ls[0] != '0': \n",
    "        if not re.findall('[0-9]{1,4}',ls[2]) : \n",
    "            for t in merge[::-1]:\n",
    "                merged = ''.join(ls[t[0]:t[1]])  # merging values within a range\n",
    "                ls[t[0]:t[1]] = [merged]"
   ]
  },
  {
   "cell_type": "markdown",
   "metadata": {},
   "source": [
    "아무것도 안나오면 정상"
   ]
  },
  {
   "cell_type": "code",
   "execution_count": 278,
   "metadata": {
    "collapsed": true
   },
   "outputs": [],
   "source": [
    "for ls in tuned_new_refer : \n",
    "    if ls[0] != '0': \n",
    "        if not re.findall('[0-9]{1,4}',ls[2]) : \n",
    "            print(ls)"
   ]
  },
  {
   "cell_type": "markdown",
   "metadata": {},
   "source": [
    "1을 제외하고 나머지는 1씩 증가했다."
   ]
  },
  {
   "cell_type": "code",
   "execution_count": 279,
   "metadata": {},
   "outputs": [
    {
     "data": {
      "text/plain": [
       "{1, 4, 5, 6}"
      ]
     },
     "execution_count": 279,
     "metadata": {},
     "output_type": "execute_result"
    }
   ],
   "source": [
    "set([len(i) for i in tuned_new_refer])"
   ]
  },
  {
   "cell_type": "markdown",
   "metadata": {},
   "source": [
    "### tuned_new_refer 와 new_refer_ls 의 차이는 단지 튜닝 전이냐 후이냐일 뿐이이여야 한다."
   ]
  },
  {
   "cell_type": "code",
   "execution_count": 280,
   "metadata": {},
   "outputs": [
    {
     "data": {
      "text/plain": [
       "['3. [학술지(정기간행물)]',\n",
       " ' Amihud, Yakov',\n",
       " '2002',\n",
       " 'Illiquidity and Stock Returns: Cross-Section and Time- Series Effects',\n",
       " 'Journal of Financial Markets 5 (1) : 31 ~ 56,']"
      ]
     },
     "execution_count": 280,
     "metadata": {},
     "output_type": "execute_result"
    }
   ],
   "source": [
    "tuned_new_refer[2]"
   ]
  },
  {
   "cell_type": "code",
   "execution_count": 281,
   "metadata": {},
   "outputs": [
    {
     "data": {
      "text/plain": [
       "['3. [학술지(정기간행물)] - Amihud, Yakov',\n",
       " '2002',\n",
       " 'Illiquidity and Stock Returns: Cross-Section and Time- Series Effects',\n",
       " 'Journal of Financial Markets 5 (1) : 31 ~ 56,']"
      ]
     },
     "execution_count": 281,
     "metadata": {},
     "output_type": "execute_result"
    }
   ],
   "source": [
    "new_refer_ls[2]"
   ]
  },
  {
   "cell_type": "markdown",
   "metadata": {},
   "source": [
    "## 길이가 4개짜리인 데이터 프레임만들기"
   ]
  },
  {
   "cell_type": "code",
   "execution_count": 282,
   "metadata": {},
   "outputs": [
    {
     "data": {
      "text/plain": [
       "['54. [보고서]',\n",
       " ' New York Stkc Exchange',\n",
       " '1998',\n",
       " 'Trading Analysis of October 27 and 28, 1997: A Report by the Division of Market Regulation to the U.S. Securities and Exchange Commission,']"
      ]
     },
     "execution_count": 282,
     "metadata": {},
     "output_type": "execute_result"
    }
   ],
   "source": [
    "[i for i in tuned_new_refer if len(i) == 4][1]"
   ]
  },
  {
   "cell_type": "markdown",
   "metadata": {},
   "source": [
    "## Characteristic of paper"
   ]
  },
  {
   "cell_type": "code",
   "execution_count": 283,
   "metadata": {
    "collapsed": true
   },
   "outputs": [],
   "source": [
    "char_paper_ls = [re.findall('\\[.+\\]',i[0])[0] for i in [i for i in tuned_new_refer if len(i) == 4]]"
   ]
  },
  {
   "cell_type": "code",
   "execution_count": 284,
   "metadata": {},
   "outputs": [
    {
     "data": {
      "text/plain": [
       "'[보고서]'"
      ]
     },
     "execution_count": 284,
     "metadata": {},
     "output_type": "execute_result"
    }
   ],
   "source": [
    "char_paper_ls[0]"
   ]
  },
  {
   "cell_type": "code",
   "execution_count": 285,
   "metadata": {},
   "outputs": [
    {
     "data": {
      "text/plain": [
       "'[보고서]'"
      ]
     },
     "execution_count": 285,
     "metadata": {},
     "output_type": "execute_result"
    }
   ],
   "source": [
    "char_paper_ls[1]"
   ]
  },
  {
   "cell_type": "markdown",
   "metadata": {},
   "source": [
    "## author of paper"
   ]
  },
  {
   "cell_type": "code",
   "execution_count": 286,
   "metadata": {
    "collapsed": true
   },
   "outputs": [],
   "source": [
    "name_ls = [i[1] for i in tuned_new_refer if len(i) == 4]"
   ]
  },
  {
   "cell_type": "code",
   "execution_count": 287,
   "metadata": {},
   "outputs": [
    {
     "data": {
      "text/plain": [
       "' New York Stkc Exchange'"
      ]
     },
     "execution_count": 287,
     "metadata": {},
     "output_type": "execute_result"
    }
   ],
   "source": [
    "name_ls[1]"
   ]
  },
  {
   "cell_type": "markdown",
   "metadata": {},
   "source": [
    "## year of paper published"
   ]
  },
  {
   "cell_type": "code",
   "execution_count": 288,
   "metadata": {
    "collapsed": true
   },
   "outputs": [],
   "source": [
    "year_ls = [i[2] for i in tuned_new_refer if len(i) == 4]"
   ]
  },
  {
   "cell_type": "code",
   "execution_count": 289,
   "metadata": {},
   "outputs": [
    {
     "data": {
      "text/plain": [
       "'1998'"
      ]
     },
     "execution_count": 289,
     "metadata": {},
     "output_type": "execute_result"
    }
   ],
   "source": [
    "year_ls[1]"
   ]
  },
  {
   "cell_type": "markdown",
   "metadata": {},
   "source": [
    "## name of paper"
   ]
  },
  {
   "cell_type": "code",
   "execution_count": 290,
   "metadata": {
    "collapsed": true
   },
   "outputs": [],
   "source": [
    "paper_ls = [i[3] for i in tuned_new_refer if len(i) == 4]"
   ]
  },
  {
   "cell_type": "code",
   "execution_count": 291,
   "metadata": {},
   "outputs": [
    {
     "data": {
      "text/plain": [
       "'Trading Analysis of October 27 and 28, 1997: A Report by the Division of Market Regulation to the U.S. Securities and Exchange Commission,'"
      ]
     },
     "execution_count": 291,
     "metadata": {},
     "output_type": "execute_result"
    }
   ],
   "source": [
    "paper_ls[1]"
   ]
  },
  {
   "cell_type": "code",
   "execution_count": 292,
   "metadata": {
    "scrolled": false
   },
   "outputs": [
    {
     "data": {
      "text/plain": [
       "True"
      ]
     },
     "execution_count": 292,
     "metadata": {},
     "output_type": "execute_result"
    }
   ],
   "source": [
    "len(char_paper_ls) == len(name_ls) == len(year_ls) == len(paper_ls)"
   ]
  },
  {
   "cell_type": "code",
   "execution_count": 293,
   "metadata": {
    "scrolled": true
   },
   "outputs": [
    {
     "data": {
      "text/html": [
       "<div>\n",
       "<style>\n",
       "    .dataframe thead tr:only-child th {\n",
       "        text-align: right;\n",
       "    }\n",
       "\n",
       "    .dataframe thead th {\n",
       "        text-align: left;\n",
       "    }\n",
       "\n",
       "    .dataframe tbody tr th {\n",
       "        vertical-align: top;\n",
       "    }\n",
       "</style>\n",
       "<table border=\"1\" class=\"dataframe\">\n",
       "  <thead>\n",
       "    <tr style=\"text-align: right;\">\n",
       "      <th></th>\n",
       "      <th>char</th>\n",
       "      <th>name</th>\n",
       "      <th>year</th>\n",
       "      <th>paper</th>\n",
       "    </tr>\n",
       "  </thead>\n",
       "  <tbody>\n",
       "    <tr>\n",
       "      <th>8066</th>\n",
       "      <td>[학술지(정기간행물)]</td>\n",
       "      <td>Plesko, G. A</td>\n",
       "      <td>2003</td>\n",
       "      <td>Journal of Accounting and Economics 35 : 201 ~...</td>\n",
       "    </tr>\n",
       "    <tr>\n",
       "      <th>8067</th>\n",
       "      <td>[기타자료]</td>\n",
       "      <td>Ross, M. P</td>\n",
       "      <td>1997</td>\n",
       "      <td>Corporate hedging: What, why and how? Working ...</td>\n",
       "    </tr>\n",
       "    <tr>\n",
       "      <th>8068</th>\n",
       "      <td>[학술지(정기간행물)]</td>\n",
       "      <td>Baek, Jae-Seung</td>\n",
       "      <td>2004</td>\n",
       "      <td>Journal of Financial Economics 71 : 265 ~ 313,</td>\n",
       "    </tr>\n",
       "    <tr>\n",
       "      <th>8069</th>\n",
       "      <td>[기타자료]</td>\n",
       "      <td>Chandler, A. D</td>\n",
       "      <td>1977</td>\n",
       "      <td>The Visible Hand, Belknap Press, Cambridge, MA...</td>\n",
       "    </tr>\n",
       "    <tr>\n",
       "      <th>8070</th>\n",
       "      <td>[기타자료]</td>\n",
       "      <td>Villalonga, Belen</td>\n",
       "      <td>1999</td>\n",
       "      <td>Does Diversification Cause the “Diversificatio...</td>\n",
       "    </tr>\n",
       "  </tbody>\n",
       "</table>\n",
       "</div>"
      ],
      "text/plain": [
       "              char                name  year  \\\n",
       "8066  [학술지(정기간행물)]        Plesko, G. A  2003   \n",
       "8067        [기타자료]          Ross, M. P  1997   \n",
       "8068  [학술지(정기간행물)]     Baek, Jae-Seung  2004   \n",
       "8069        [기타자료]      Chandler, A. D  1977   \n",
       "8070        [기타자료]   Villalonga, Belen  1999   \n",
       "\n",
       "                                                  paper  \n",
       "8066  Journal of Accounting and Economics 35 : 201 ~...  \n",
       "8067  Corporate hedging: What, why and how? Working ...  \n",
       "8068     Journal of Financial Economics 71 : 265 ~ 313,  \n",
       "8069  The Visible Hand, Belknap Press, Cambridge, MA...  \n",
       "8070  Does Diversification Cause the “Diversificatio...  "
      ]
     },
     "execution_count": 293,
     "metadata": {},
     "output_type": "execute_result"
    }
   ],
   "source": [
    "len_4_df = pd.DataFrame()\n",
    "len_4_df['char'] = char_paper_ls\n",
    "len_4_df['name'] = name_ls\n",
    "len_4_df['year'] = year_ls\n",
    "len_4_df['paper'] = paper_ls\n",
    "\n",
    "len_4_df.tail()"
   ]
  },
  {
   "cell_type": "markdown",
   "metadata": {},
   "source": [
    "이전에 길이가 3이였던 데이터 프레임이 4가 된 것이기 때문에, 인덱스를 일치시켜주기 위해서 대입해준다."
   ]
  },
  {
   "cell_type": "code",
   "execution_count": 294,
   "metadata": {},
   "outputs": [],
   "source": [
    "len_4_df.index = len_3_idx"
   ]
  },
  {
   "cell_type": "code",
   "execution_count": 295,
   "metadata": {},
   "outputs": [
    {
     "data": {
      "text/html": [
       "<div>\n",
       "<style>\n",
       "    .dataframe thead tr:only-child th {\n",
       "        text-align: right;\n",
       "    }\n",
       "\n",
       "    .dataframe thead th {\n",
       "        text-align: left;\n",
       "    }\n",
       "\n",
       "    .dataframe tbody tr th {\n",
       "        vertical-align: top;\n",
       "    }\n",
       "</style>\n",
       "<table border=\"1\" class=\"dataframe\">\n",
       "  <thead>\n",
       "    <tr style=\"text-align: right;\">\n",
       "      <th></th>\n",
       "      <th>char</th>\n",
       "      <th>name</th>\n",
       "      <th>year</th>\n",
       "      <th>paper</th>\n",
       "    </tr>\n",
       "  </thead>\n",
       "  <tbody>\n",
       "    <tr>\n",
       "      <th>37195</th>\n",
       "      <td>[학술지(정기간행물)]</td>\n",
       "      <td>Plesko, G. A</td>\n",
       "      <td>2003</td>\n",
       "      <td>Journal of Accounting and Economics 35 : 201 ~...</td>\n",
       "    </tr>\n",
       "    <tr>\n",
       "      <th>37196</th>\n",
       "      <td>[기타자료]</td>\n",
       "      <td>Ross, M. P</td>\n",
       "      <td>1997</td>\n",
       "      <td>Corporate hedging: What, why and how? Working ...</td>\n",
       "    </tr>\n",
       "    <tr>\n",
       "      <th>37206</th>\n",
       "      <td>[학술지(정기간행물)]</td>\n",
       "      <td>Baek, Jae-Seung</td>\n",
       "      <td>2004</td>\n",
       "      <td>Journal of Financial Economics 71 : 265 ~ 313,</td>\n",
       "    </tr>\n",
       "    <tr>\n",
       "      <th>37211</th>\n",
       "      <td>[기타자료]</td>\n",
       "      <td>Chandler, A. D</td>\n",
       "      <td>1977</td>\n",
       "      <td>The Visible Hand, Belknap Press, Cambridge, MA...</td>\n",
       "    </tr>\n",
       "    <tr>\n",
       "      <th>37242</th>\n",
       "      <td>[기타자료]</td>\n",
       "      <td>Villalonga, Belen</td>\n",
       "      <td>1999</td>\n",
       "      <td>Does Diversification Cause the “Diversificatio...</td>\n",
       "    </tr>\n",
       "  </tbody>\n",
       "</table>\n",
       "</div>"
      ],
      "text/plain": [
       "               char                name  year  \\\n",
       "37195  [학술지(정기간행물)]        Plesko, G. A  2003   \n",
       "37196        [기타자료]          Ross, M. P  1997   \n",
       "37206  [학술지(정기간행물)]     Baek, Jae-Seung  2004   \n",
       "37211        [기타자료]      Chandler, A. D  1977   \n",
       "37242        [기타자료]   Villalonga, Belen  1999   \n",
       "\n",
       "                                                   paper  \n",
       "37195  Journal of Accounting and Economics 35 : 201 ~...  \n",
       "37196  Corporate hedging: What, why and how? Working ...  \n",
       "37206     Journal of Financial Economics 71 : 265 ~ 313,  \n",
       "37211  The Visible Hand, Belknap Press, Cambridge, MA...  \n",
       "37242  Does Diversification Cause the “Diversificatio...  "
      ]
     },
     "execution_count": 295,
     "metadata": {},
     "output_type": "execute_result"
    }
   ],
   "source": [
    "len_4_df.tail()"
   ]
  },
  {
   "cell_type": "code",
   "execution_count": 296,
   "metadata": {
    "scrolled": true
   },
   "outputs": [
    {
     "data": {
      "text/plain": [
       "array([['[기타자료]', ' Villalonga, Belen', '1999',\n",
       "        'Does Diversification Cause the “Diversification Discount? Working paper, Harvard University,']],\n",
       "      dtype=object)"
      ]
     },
     "execution_count": 296,
     "metadata": {},
     "output_type": "execute_result"
    }
   ],
   "source": [
    "len_4_df.tail(1).values"
   ]
  },
  {
   "cell_type": "code",
   "execution_count": 297,
   "metadata": {},
   "outputs": [
    {
     "data": {
      "text/plain": [
       "array(['40. [기타자료] - Villalonga, Belen / 1999 / Does Diversification Cause the “Diversification Discount? Working paper, Harvard University,'],\n",
       "      dtype=object)"
      ]
     },
     "execution_count": 297,
     "metadata": {},
     "output_type": "execute_result"
    }
   ],
   "source": [
    "new_df.iloc[37242:37243]['refer'].values"
   ]
  },
  {
   "cell_type": "code",
   "execution_count": 298,
   "metadata": {},
   "outputs": [
    {
     "data": {
      "text/plain": [
       "True"
      ]
     },
     "execution_count": 298,
     "metadata": {},
     "output_type": "execute_result"
    }
   ],
   "source": [
    "list(len_4_df.index.values) == len_3_idx"
   ]
  },
  {
   "cell_type": "markdown",
   "metadata": {},
   "source": [
    "---------------"
   ]
  },
  {
   "cell_type": "markdown",
   "metadata": {},
   "source": [
    "# 4개짜리의 구조\n",
    "- 마지막 엘리먼트는 저널명이 되겠다."
   ]
  },
  {
   "cell_type": "code",
   "execution_count": 299,
   "metadata": {},
   "outputs": [
    {
     "data": {
      "text/plain": [
       "['22. [학술지(정기간행물)] - Jensen, M',\n",
       " '1976',\n",
       " 'Theory of the Firm: Managerial Behavior, Agency Costs and Ownership Structure',\n",
       " 'Journal of Financial Economics 3 : 305 ~ 360,']"
      ]
     },
     "execution_count": 299,
     "metadata": {},
     "output_type": "execute_result"
    }
   ],
   "source": [
    "[i for i in new_refer_ls if len(i) == 4][800]"
   ]
  },
  {
   "cell_type": "code",
   "execution_count": 300,
   "metadata": {},
   "outputs": [
    {
     "data": {
      "text/plain": [
       "['Journal of Banking and Finance 22 : 1481 ~ 1506,',\n",
       " 'Quarterly Journal of Economics 104 : 1 ~ 24,',\n",
       " 'The Journal of Finance 50 : 1175 ~ 1199,',\n",
       " 'Journal of Financial and Quantitative Analysis 28 (2) : 177 ~ 194,',\n",
       " 'Financial Management 18 : 36 ~ 46,']"
      ]
     },
     "execution_count": 300,
     "metadata": {},
     "output_type": "execute_result"
    }
   ],
   "source": [
    "list(set([paper[-1] for paper in [i for i in new_refer_ls if len(i) == 4]]))[-5:]"
   ]
  },
  {
   "cell_type": "code",
   "execution_count": 301,
   "metadata": {
    "scrolled": true
   },
   "outputs": [
    {
     "name": "stdout",
     "output_type": "stream",
     "text": [
      "28840\n"
     ]
    }
   ],
   "source": [
    "print(len([paper[-1] for paper in [i for i in new_refer_ls if len(i) == 4]]))"
   ]
  },
  {
   "cell_type": "markdown",
   "metadata": {},
   "source": [
    "- 아래는 길이가 4개인 리스트에서 저널명을 나타내는 마지막 리스트를 빼온 것이다.\n",
    "- 이 리스트를 통해서 길이가 3개짜리인 리스트의 마지막에서 저널명이 포함된 것을 빼와본다.\n",
    "- 우선 일반화를 위해서 숫자를 다 빼고 유니크한 값으로 변환시켜준다."
   ]
  },
  {
   "cell_type": "code",
   "execution_count": 302,
   "metadata": {
    "scrolled": true
   },
   "outputs": [
    {
     "data": {
      "text/plain": [
       "['Journal of Financial Economics 26 : 3 ~ 27,',\n",
       " 'Journal of Finance 59 : 479 ~ 506,',\n",
       " 'Financial Management 33 : 5 ~ 27,',\n",
       " 'St. John’s Review 44 : 66 ~ 80,',\n",
       " 'Journal of Finance 56 : 1667 ~ 1691']"
      ]
     },
     "execution_count": 302,
     "metadata": {},
     "output_type": "execute_result"
    }
   ],
   "source": [
    "[paper[-1] for paper in [i for i in new_refer_ls if len(i) == 4]][-5:]"
   ]
  },
  {
   "cell_type": "code",
   "execution_count": 303,
   "metadata": {},
   "outputs": [
    {
     "data": {
      "text/plain": [
       "28840"
      ]
     },
     "execution_count": 303,
     "metadata": {},
     "output_type": "execute_result"
    }
   ],
   "source": [
    "len([paper[-1] for paper in [i for i in new_refer_ls if len(i) == 4]])"
   ]
  },
  {
   "cell_type": "markdown",
   "metadata": {},
   "source": [
    "# 4개짜리 데이터 프레임으로 만들기"
   ]
  },
  {
   "cell_type": "code",
   "execution_count": 304,
   "metadata": {},
   "outputs": [
    {
     "data": {
      "text/plain": [
       "['1. [학술지(정기간행물)]',\n",
       " ' 고봉찬',\n",
       " '2007',\n",
       " '발생액 이상현상에 대한 위험평가',\n",
       " 'Asia-Pacific Journal of Financial Studies 36 (3) : 425 ~ 461,']"
      ]
     },
     "execution_count": 304,
     "metadata": {},
     "output_type": "execute_result"
    }
   ],
   "source": [
    "[i for i in tuned_new_refer if len(i) == 5][0]"
   ]
  },
  {
   "cell_type": "markdown",
   "metadata": {},
   "source": [
    "## Characteristic of paper"
   ]
  },
  {
   "cell_type": "code",
   "execution_count": 305,
   "metadata": {
    "collapsed": true
   },
   "outputs": [],
   "source": [
    "char_paper_ls = [re.findall('\\[.+\\]',i[0])[0] for i in [i for i in tuned_new_refer if len(i) == 5]]"
   ]
  },
  {
   "cell_type": "code",
   "execution_count": 306,
   "metadata": {},
   "outputs": [
    {
     "data": {
      "text/plain": [
       "'[학술지(정기간행물)]'"
      ]
     },
     "execution_count": 306,
     "metadata": {},
     "output_type": "execute_result"
    }
   ],
   "source": [
    "char_paper_ls[0]"
   ]
  },
  {
   "cell_type": "markdown",
   "metadata": {},
   "source": [
    "## author of paper"
   ]
  },
  {
   "cell_type": "code",
   "execution_count": 307,
   "metadata": {
    "collapsed": true
   },
   "outputs": [],
   "source": [
    "name_ls = [i[1] for i in tuned_new_refer if len(i) == 5]"
   ]
  },
  {
   "cell_type": "code",
   "execution_count": 308,
   "metadata": {},
   "outputs": [
    {
     "data": {
      "text/plain": [
       "' 고봉찬'"
      ]
     },
     "execution_count": 308,
     "metadata": {},
     "output_type": "execute_result"
    }
   ],
   "source": [
    "name_ls[0]"
   ]
  },
  {
   "cell_type": "markdown",
   "metadata": {},
   "source": [
    "## year of paper published"
   ]
  },
  {
   "cell_type": "code",
   "execution_count": 309,
   "metadata": {
    "collapsed": true
   },
   "outputs": [],
   "source": [
    "year_ls = [i[2] for i in tuned_new_refer if len(i) == 5]"
   ]
  },
  {
   "cell_type": "code",
   "execution_count": 310,
   "metadata": {},
   "outputs": [
    {
     "data": {
      "text/plain": [
       "'2007'"
      ]
     },
     "execution_count": 310,
     "metadata": {},
     "output_type": "execute_result"
    }
   ],
   "source": [
    "year_ls[0]"
   ]
  },
  {
   "cell_type": "markdown",
   "metadata": {},
   "source": [
    "## name of paper"
   ]
  },
  {
   "cell_type": "code",
   "execution_count": 311,
   "metadata": {
    "collapsed": true
   },
   "outputs": [],
   "source": [
    "paper_ls = [i[3] for i in tuned_new_refer if len(i) == 5]"
   ]
  },
  {
   "cell_type": "code",
   "execution_count": 312,
   "metadata": {},
   "outputs": [
    {
     "data": {
      "text/plain": [
       "'발생액 이상현상에 대한 위험평가'"
      ]
     },
     "execution_count": 312,
     "metadata": {},
     "output_type": "execute_result"
    }
   ],
   "source": [
    "paper_ls[0]"
   ]
  },
  {
   "cell_type": "code",
   "execution_count": null,
   "metadata": {
    "collapsed": true
   },
   "outputs": [],
   "source": []
  },
  {
   "cell_type": "markdown",
   "metadata": {},
   "source": [
    "## journal name which paper published"
   ]
  },
  {
   "cell_type": "code",
   "execution_count": 313,
   "metadata": {
    "collapsed": true
   },
   "outputs": [],
   "source": [
    "journal_ls = [i[-1] for i in tuned_new_refer if len(i) == 5]"
   ]
  },
  {
   "cell_type": "code",
   "execution_count": 314,
   "metadata": {},
   "outputs": [
    {
     "data": {
      "text/plain": [
       "'Asia-Pacific Journal of Financial Studies 36 (3) : 425 ~ 461,'"
      ]
     },
     "execution_count": 314,
     "metadata": {},
     "output_type": "execute_result"
    }
   ],
   "source": [
    "journal_ls[0]"
   ]
  },
  {
   "cell_type": "code",
   "execution_count": 315,
   "metadata": {
    "scrolled": true
   },
   "outputs": [
    {
     "data": {
      "text/plain": [
       "True"
      ]
     },
     "execution_count": 315,
     "metadata": {},
     "output_type": "execute_result"
    }
   ],
   "source": [
    "len(char_paper_ls) == len(name_ls) == len(year_ls) == len(paper_ls) == len(journal_ls)"
   ]
  },
  {
   "cell_type": "code",
   "execution_count": 316,
   "metadata": {
    "scrolled": true
   },
   "outputs": [
    {
     "data": {
      "text/html": [
       "<div>\n",
       "<style>\n",
       "    .dataframe thead tr:only-child th {\n",
       "        text-align: right;\n",
       "    }\n",
       "\n",
       "    .dataframe thead th {\n",
       "        text-align: left;\n",
       "    }\n",
       "\n",
       "    .dataframe tbody tr th {\n",
       "        vertical-align: top;\n",
       "    }\n",
       "</style>\n",
       "<table border=\"1\" class=\"dataframe\">\n",
       "  <thead>\n",
       "    <tr style=\"text-align: right;\">\n",
       "      <th></th>\n",
       "      <th>char</th>\n",
       "      <th>name</th>\n",
       "      <th>year</th>\n",
       "      <th>paper</th>\n",
       "      <th>journal</th>\n",
       "    </tr>\n",
       "  </thead>\n",
       "  <tbody>\n",
       "    <tr>\n",
       "      <th>28835</th>\n",
       "      <td>[학술지(정기간행물)]</td>\n",
       "      <td>Stulz, Ren?M</td>\n",
       "      <td>1990</td>\n",
       "      <td>Managerial Direction and Optimal Financing Pol...</td>\n",
       "      <td>Journal of Financial Economics 26 : 3 ~ 27,</td>\n",
       "    </tr>\n",
       "    <tr>\n",
       "      <th>28836</th>\n",
       "      <td>[학술지(정기간행물)]</td>\n",
       "      <td>Villalonga, Belen</td>\n",
       "      <td>2004</td>\n",
       "      <td>Diversification discount or premium? New Evide...</td>\n",
       "      <td>Journal of Finance 59 : 479 ~ 506,</td>\n",
       "    </tr>\n",
       "    <tr>\n",
       "      <th>28837</th>\n",
       "      <td>[학술지(정기간행물)]</td>\n",
       "      <td>Villalonga, Belen</td>\n",
       "      <td>2004</td>\n",
       "      <td>Does Diversification Cause the Diversification...</td>\n",
       "      <td>Financial Management 33 : 5 ~ 27,</td>\n",
       "    </tr>\n",
       "    <tr>\n",
       "      <th>28838</th>\n",
       "      <td>[학술지(정기간행물)]</td>\n",
       "      <td>Weston, J. F</td>\n",
       "      <td>1970</td>\n",
       "      <td>The Nature and Significance of Conglomerate Firms</td>\n",
       "      <td>St. John’s Review 44 : 66 ~ 80,</td>\n",
       "    </tr>\n",
       "    <tr>\n",
       "      <th>28839</th>\n",
       "      <td>[학술지(정기간행물)]</td>\n",
       "      <td>Whited, Toni M</td>\n",
       "      <td>2001</td>\n",
       "      <td>Is It Inefficient Investment That Causes the D...</td>\n",
       "      <td>Journal of Finance 56 : 1667 ~ 1691</td>\n",
       "    </tr>\n",
       "  </tbody>\n",
       "</table>\n",
       "</div>"
      ],
      "text/plain": [
       "               char                name  year  \\\n",
       "28835  [학술지(정기간행물)]        Stulz, Ren?M  1990   \n",
       "28836  [학술지(정기간행물)]   Villalonga, Belen  2004   \n",
       "28837  [학술지(정기간행물)]   Villalonga, Belen  2004   \n",
       "28838  [학술지(정기간행물)]        Weston, J. F  1970   \n",
       "28839  [학술지(정기간행물)]      Whited, Toni M  2001   \n",
       "\n",
       "                                                   paper  \\\n",
       "28835  Managerial Direction and Optimal Financing Pol...   \n",
       "28836  Diversification discount or premium? New Evide...   \n",
       "28837  Does Diversification Cause the Diversification...   \n",
       "28838  The Nature and Significance of Conglomerate Firms   \n",
       "28839  Is It Inefficient Investment That Causes the D...   \n",
       "\n",
       "                                           journal  \n",
       "28835  Journal of Financial Economics 26 : 3 ~ 27,  \n",
       "28836           Journal of Finance 59 : 479 ~ 506,  \n",
       "28837            Financial Management 33 : 5 ~ 27,  \n",
       "28838              St. John’s Review 44 : 66 ~ 80,  \n",
       "28839          Journal of Finance 56 : 1667 ~ 1691  "
      ]
     },
     "execution_count": 316,
     "metadata": {},
     "output_type": "execute_result"
    }
   ],
   "source": [
    "len_5_df = pd.DataFrame()\n",
    "len_5_df['char'] = char_paper_ls\n",
    "len_5_df['name'] = name_ls\n",
    "len_5_df['year'] = year_ls\n",
    "len_5_df['paper'] = paper_ls\n",
    "len_5_df['journal'] = journal_ls\n",
    "\n",
    "len_5_df.tail()"
   ]
  },
  {
   "cell_type": "code",
   "execution_count": 317,
   "metadata": {
    "collapsed": true
   },
   "outputs": [],
   "source": [
    "len_5_df.index = len_4_idx"
   ]
  },
  {
   "cell_type": "code",
   "execution_count": 318,
   "metadata": {},
   "outputs": [
    {
     "data": {
      "text/html": [
       "<div>\n",
       "<style>\n",
       "    .dataframe thead tr:only-child th {\n",
       "        text-align: right;\n",
       "    }\n",
       "\n",
       "    .dataframe thead th {\n",
       "        text-align: left;\n",
       "    }\n",
       "\n",
       "    .dataframe tbody tr th {\n",
       "        vertical-align: top;\n",
       "    }\n",
       "</style>\n",
       "<table border=\"1\" class=\"dataframe\">\n",
       "  <thead>\n",
       "    <tr style=\"text-align: right;\">\n",
       "      <th></th>\n",
       "      <th>char</th>\n",
       "      <th>name</th>\n",
       "      <th>year</th>\n",
       "      <th>paper</th>\n",
       "      <th>journal</th>\n",
       "    </tr>\n",
       "  </thead>\n",
       "  <tbody>\n",
       "    <tr>\n",
       "      <th>37241</th>\n",
       "      <td>[학술지(정기간행물)]</td>\n",
       "      <td>Stulz, Ren?M</td>\n",
       "      <td>1990</td>\n",
       "      <td>Managerial Direction and Optimal Financing Pol...</td>\n",
       "      <td>Journal of Financial Economics 26 : 3 ~ 27,</td>\n",
       "    </tr>\n",
       "    <tr>\n",
       "      <th>37243</th>\n",
       "      <td>[학술지(정기간행물)]</td>\n",
       "      <td>Villalonga, Belen</td>\n",
       "      <td>2004</td>\n",
       "      <td>Diversification discount or premium? New Evide...</td>\n",
       "      <td>Journal of Finance 59 : 479 ~ 506,</td>\n",
       "    </tr>\n",
       "    <tr>\n",
       "      <th>37244</th>\n",
       "      <td>[학술지(정기간행물)]</td>\n",
       "      <td>Villalonga, Belen</td>\n",
       "      <td>2004</td>\n",
       "      <td>Does Diversification Cause the Diversification...</td>\n",
       "      <td>Financial Management 33 : 5 ~ 27,</td>\n",
       "    </tr>\n",
       "    <tr>\n",
       "      <th>37245</th>\n",
       "      <td>[학술지(정기간행물)]</td>\n",
       "      <td>Weston, J. F</td>\n",
       "      <td>1970</td>\n",
       "      <td>The Nature and Significance of Conglomerate Firms</td>\n",
       "      <td>St. John’s Review 44 : 66 ~ 80,</td>\n",
       "    </tr>\n",
       "    <tr>\n",
       "      <th>37246</th>\n",
       "      <td>[학술지(정기간행물)]</td>\n",
       "      <td>Whited, Toni M</td>\n",
       "      <td>2001</td>\n",
       "      <td>Is It Inefficient Investment That Causes the D...</td>\n",
       "      <td>Journal of Finance 56 : 1667 ~ 1691</td>\n",
       "    </tr>\n",
       "  </tbody>\n",
       "</table>\n",
       "</div>"
      ],
      "text/plain": [
       "               char                name  year  \\\n",
       "37241  [학술지(정기간행물)]        Stulz, Ren?M  1990   \n",
       "37243  [학술지(정기간행물)]   Villalonga, Belen  2004   \n",
       "37244  [학술지(정기간행물)]   Villalonga, Belen  2004   \n",
       "37245  [학술지(정기간행물)]        Weston, J. F  1970   \n",
       "37246  [학술지(정기간행물)]      Whited, Toni M  2001   \n",
       "\n",
       "                                                   paper  \\\n",
       "37241  Managerial Direction and Optimal Financing Pol...   \n",
       "37243  Diversification discount or premium? New Evide...   \n",
       "37244  Does Diversification Cause the Diversification...   \n",
       "37245  The Nature and Significance of Conglomerate Firms   \n",
       "37246  Is It Inefficient Investment That Causes the D...   \n",
       "\n",
       "                                           journal  \n",
       "37241  Journal of Financial Economics 26 : 3 ~ 27,  \n",
       "37243           Journal of Finance 59 : 479 ~ 506,  \n",
       "37244            Financial Management 33 : 5 ~ 27,  \n",
       "37245              St. John’s Review 44 : 66 ~ 80,  \n",
       "37246          Journal of Finance 56 : 1667 ~ 1691  "
      ]
     },
     "execution_count": 318,
     "metadata": {},
     "output_type": "execute_result"
    }
   ],
   "source": [
    "len_5_df.tail()"
   ]
  },
  {
   "cell_type": "code",
   "execution_count": 319,
   "metadata": {
    "scrolled": true
   },
   "outputs": [
    {
     "data": {
      "text/plain": [
       "True"
      ]
     },
     "execution_count": 319,
     "metadata": {},
     "output_type": "execute_result"
    }
   ],
   "source": [
    "list(len_5_df.index.values) == len_4_idx"
   ]
  },
  {
   "cell_type": "code",
   "execution_count": 320,
   "metadata": {
    "scrolled": true
   },
   "outputs": [
    {
     "data": {
      "text/plain": [
       "array([['[학술지(정기간행물)]', ' Whited, Toni M', '2001',\n",
       "        'Is It Inefficient Investment That Causes the Diversification Discount',\n",
       "        'Journal of Finance 56 : 1667 ~ 1691']], dtype=object)"
      ]
     },
     "execution_count": 320,
     "metadata": {},
     "output_type": "execute_result"
    }
   ],
   "source": [
    "len_5_df.tail(1).values"
   ]
  },
  {
   "cell_type": "code",
   "execution_count": 321,
   "metadata": {},
   "outputs": [
    {
     "data": {
      "text/plain": [
       "['44. [학술지(정기간행물)] - Whited, Toni M',\n",
       " '2001',\n",
       " 'Is It Inefficient Investment That Causes the Diversification Discount',\n",
       " 'Journal of Finance 56 : 1667 ~ 1691']"
      ]
     },
     "execution_count": 321,
     "metadata": {},
     "output_type": "execute_result"
    }
   ],
   "source": [
    "new_df['tuned_refer'][37246]"
   ]
  },
  {
   "cell_type": "markdown",
   "metadata": {},
   "source": [
    "-------------------------------------"
   ]
  },
  {
   "cell_type": "markdown",
   "metadata": {},
   "source": [
    "# 5개짜리의 구조"
   ]
  },
  {
   "cell_type": "code",
   "execution_count": 322,
   "metadata": {},
   "outputs": [
    {
     "data": {
      "text/plain": [
       "94"
      ]
     },
     "execution_count": 322,
     "metadata": {},
     "output_type": "execute_result"
    }
   ],
   "source": [
    "len([i for i in new_refer_ls if len(i) == 5])"
   ]
  },
  {
   "cell_type": "markdown",
   "metadata": {},
   "source": [
    "- 우선 첫 번째 리스트에서 - 이후에 성명이 나와있는 경우가 있다.\n",
    "- 마지막과 그 전 리스트 엘리먼트는 해당 저자의 소속과 학위가 나와있다."
   ]
  },
  {
   "cell_type": "markdown",
   "metadata": {},
   "source": [
    "# 학위"
   ]
  },
  {
   "cell_type": "code",
   "execution_count": 323,
   "metadata": {
    "scrolled": true
   },
   "outputs": [
    {
     "data": {
      "text/plain": [
       "{'Ph.D', '博士', '박사', '석사'}"
      ]
     },
     "execution_count": 323,
     "metadata": {},
     "output_type": "execute_result"
    }
   ],
   "source": [
    "set([paper[-2] for paper in [i for i in new_refer_ls if len(i) == 5]])"
   ]
  },
  {
   "cell_type": "markdown",
   "metadata": {},
   "source": [
    "# 소속"
   ]
  },
  {
   "cell_type": "code",
   "execution_count": 324,
   "metadata": {
    "scrolled": false
   },
   "outputs": [
    {
     "data": {
      "text/plain": [
       "['한국외국어대학교,',\n",
       " '아주대학교 공공정책대학원,',\n",
       " 'KAIST',\n",
       " 'University of Southern California',\n",
       " '연세대학교 경제대학원,']"
      ]
     },
     "execution_count": 324,
     "metadata": {},
     "output_type": "execute_result"
    }
   ],
   "source": [
    "list(set([paper[-1] for paper in [i for i in new_refer_ls if len(i) == 5]]))[-5:]"
   ]
  },
  {
   "cell_type": "code",
   "execution_count": 325,
   "metadata": {},
   "outputs": [
    {
     "data": {
      "text/plain": [
       "Int64Index([    0,     1,     2,     3,     4,     5,     6,     7,     8,\n",
       "                9,\n",
       "            ...\n",
       "            37236, 37237, 37238, 37239, 37240, 37241, 37243, 37244, 37245,\n",
       "            37246],\n",
       "           dtype='int64', length=28840)"
      ]
     },
     "execution_count": 325,
     "metadata": {},
     "output_type": "execute_result"
    }
   ],
   "source": [
    "len_5_df.index"
   ]
  },
  {
   "cell_type": "markdown",
   "metadata": {},
   "source": [
    "# 길이가 6개인 리스트를 나눠서 데이터 프레임으로 넣기"
   ]
  },
  {
   "cell_type": "code",
   "execution_count": 326,
   "metadata": {},
   "outputs": [
    {
     "data": {
      "text/plain": [
       "['10. [학위논문]',\n",
       " ' 張榮光',\n",
       " '1985',\n",
       " '企業合倂과 株式取得이 株主의 富에 미치는 影響에 關한 實證的 硏究',\n",
       " '박사',\n",
       " '고려대학교 대학원,']"
      ]
     },
     "execution_count": 326,
     "metadata": {},
     "output_type": "execute_result"
    }
   ],
   "source": [
    "[i for i in tuned_new_refer if len(i) == 6][0]"
   ]
  },
  {
   "cell_type": "markdown",
   "metadata": {},
   "source": [
    "## Characteristic of paper"
   ]
  },
  {
   "cell_type": "code",
   "execution_count": 327,
   "metadata": {
    "collapsed": true
   },
   "outputs": [],
   "source": [
    "char_paper_ls = [re.findall('\\[.+\\]',i[0])[0] for i in [i for i in tuned_new_refer if len(i) == 6]]"
   ]
  },
  {
   "cell_type": "markdown",
   "metadata": {},
   "source": [
    "## Author of paper"
   ]
  },
  {
   "cell_type": "code",
   "execution_count": 328,
   "metadata": {
    "collapsed": true
   },
   "outputs": [],
   "source": [
    "name_ls = []\n",
    "\n",
    "for k in range(len([i for i in tuned_new_refer if len(i) == 6])):\n",
    "    name_ls.append([i for i in tuned_new_refer if len(i) == 6][k]\\\n",
    "[1:[idx for idx,val in enumerate([i for i in tuned_new_refer if len(i) == 6][k]) if re.findall(\"[0-9]{4}\",val)][0]][0])"
   ]
  },
  {
   "cell_type": "markdown",
   "metadata": {},
   "source": [
    "## Year of paper published"
   ]
  },
  {
   "cell_type": "code",
   "execution_count": 329,
   "metadata": {
    "collapsed": true
   },
   "outputs": [],
   "source": [
    "year_ls = []\n",
    "\n",
    "for k in range(len([i for i in tuned_new_refer if len(i) == 6])):\n",
    "    year_ls.append([i for i in tuned_new_refer if len(i) == 6][k]\\\n",
    "[[idx for idx,val in enumerate([i for i in tuned_new_refer if len(i) == 6][k]) if re.findall(\"[0-9]{4}\",val)][0]])"
   ]
  },
  {
   "cell_type": "markdown",
   "metadata": {},
   "source": [
    "## Name of paper"
   ]
  },
  {
   "cell_type": "code",
   "execution_count": 330,
   "metadata": {
    "collapsed": true
   },
   "outputs": [],
   "source": [
    "paper_ls = []\n",
    "\n",
    "for k in range(len([i for i in tuned_new_refer if len(i) == 6])):\n",
    "    paper_ls.append([i for i in tuned_new_refer if len(i) == 6][k]\\\n",
    "[[idx+1 for idx,val in enumerate([i for i in tuned_new_refer if len(i) == 6][k]) if re.findall(\"[0-9]{4}\",val)][0]])"
   ]
  },
  {
   "cell_type": "markdown",
   "metadata": {},
   "source": [
    "## Details about Author (degree , school)"
   ]
  },
  {
   "cell_type": "code",
   "execution_count": 331,
   "metadata": {
    "collapsed": true
   },
   "outputs": [],
   "source": [
    "degree_ls = [i[-2] for i in tuned_new_refer if len(i) == 6]\n",
    "school_ls = [i[-1] for i in tuned_new_refer if len(i) == 6]"
   ]
  },
  {
   "cell_type": "code",
   "execution_count": 332,
   "metadata": {},
   "outputs": [
    {
     "data": {
      "text/plain": [
       "True"
      ]
     },
     "execution_count": 332,
     "metadata": {},
     "output_type": "execute_result"
    }
   ],
   "source": [
    "len(char_paper_ls) == len(name_ls) == len(year_ls) == len(paper_ls) == len(degree_ls) == len(school_ls)"
   ]
  },
  {
   "cell_type": "code",
   "execution_count": 333,
   "metadata": {
    "scrolled": true
   },
   "outputs": [
    {
     "data": {
      "text/html": [
       "<div>\n",
       "<style>\n",
       "    .dataframe thead tr:only-child th {\n",
       "        text-align: right;\n",
       "    }\n",
       "\n",
       "    .dataframe thead th {\n",
       "        text-align: left;\n",
       "    }\n",
       "\n",
       "    .dataframe tbody tr th {\n",
       "        vertical-align: top;\n",
       "    }\n",
       "</style>\n",
       "<table border=\"1\" class=\"dataframe\">\n",
       "  <thead>\n",
       "    <tr style=\"text-align: right;\">\n",
       "      <th></th>\n",
       "      <th>char</th>\n",
       "      <th>name</th>\n",
       "      <th>year</th>\n",
       "      <th>paper</th>\n",
       "      <th>degree</th>\n",
       "      <th>school</th>\n",
       "    </tr>\n",
       "  </thead>\n",
       "  <tbody>\n",
       "    <tr>\n",
       "      <th>89</th>\n",
       "      <td>[학위논문]</td>\n",
       "      <td>김동현</td>\n",
       "      <td>2008</td>\n",
       "      <td>국내 민간의료보험 시장의 역선택에 관한 실증연구</td>\n",
       "      <td>석사</td>\n",
       "      <td>경희대학교 대학원,</td>\n",
       "    </tr>\n",
       "    <tr>\n",
       "      <th>90</th>\n",
       "      <td>[학위논문]</td>\n",
       "      <td>이수진</td>\n",
       "      <td>2012</td>\n",
       "      <td>민간의료보험이 의료수요에 미치는 영향 : 도덕적 해이와 역선택 효과의 실증적 구분</td>\n",
       "      <td>석사</td>\n",
       "      <td>연세대학교 대학원,</td>\n",
       "    </tr>\n",
       "    <tr>\n",
       "      <th>91</th>\n",
       "      <td>[학위논문]</td>\n",
       "      <td>한영하</td>\n",
       "      <td>2014</td>\n",
       "      <td>한국주택금융공사 보금자리론 조기상환율 추정 및 가치산정 연구</td>\n",
       "      <td>박사</td>\n",
       "      <td>연세대학교 대학원,</td>\n",
       "    </tr>\n",
       "    <tr>\n",
       "      <th>92</th>\n",
       "      <td>[학위논문]</td>\n",
       "      <td>Low, A</td>\n",
       "      <td>1992</td>\n",
       "      <td>Essays on asymmetric information in internatio...</td>\n",
       "      <td>박사</td>\n",
       "      <td>University of California,</td>\n",
       "    </tr>\n",
       "    <tr>\n",
       "      <th>93</th>\n",
       "      <td>[학위논문]</td>\n",
       "      <td>Averbukh, V</td>\n",
       "      <td>1997</td>\n",
       "      <td>Pricing American options using Monte Carlo sim...</td>\n",
       "      <td>박사</td>\n",
       "      <td>Cornell University,</td>\n",
       "    </tr>\n",
       "  </tbody>\n",
       "</table>\n",
       "</div>"
      ],
      "text/plain": [
       "      char          name  year  \\\n",
       "89  [학위논문]           김동현  2008   \n",
       "90  [학위논문]           이수진  2012   \n",
       "91  [학위논문]           한영하  2014   \n",
       "92  [학위논문]        Low, A  1992   \n",
       "93  [학위논문]   Averbukh, V  1997   \n",
       "\n",
       "                                                paper degree  \\\n",
       "89                         국내 민간의료보험 시장의 역선택에 관한 실증연구     석사   \n",
       "90      민간의료보험이 의료수요에 미치는 영향 : 도덕적 해이와 역선택 효과의 실증적 구분     석사   \n",
       "91                  한국주택금융공사 보금자리론 조기상환율 추정 및 가치산정 연구     박사   \n",
       "92  Essays on asymmetric information in internatio...     박사   \n",
       "93  Pricing American options using Monte Carlo sim...     박사   \n",
       "\n",
       "                       school  \n",
       "89                 경희대학교 대학원,  \n",
       "90                 연세대학교 대학원,  \n",
       "91                 연세대학교 대학원,  \n",
       "92  University of California,  \n",
       "93        Cornell University,  "
      ]
     },
     "execution_count": 333,
     "metadata": {},
     "output_type": "execute_result"
    }
   ],
   "source": [
    "len_6_df = pd.DataFrame()\n",
    "len_6_df['char'] = char_paper_ls\n",
    "len_6_df['name'] = name_ls\n",
    "len_6_df['year'] = year_ls\n",
    "len_6_df['paper'] = paper_ls\n",
    "len_6_df['degree'] = degree_ls\n",
    "len_6_df['school'] = school_ls\n",
    "\n",
    "len_6_df.tail()"
   ]
  },
  {
   "cell_type": "code",
   "execution_count": 334,
   "metadata": {
    "collapsed": true
   },
   "outputs": [],
   "source": [
    "len_6_df.index = len_5_idx"
   ]
  },
  {
   "cell_type": "code",
   "execution_count": 335,
   "metadata": {},
   "outputs": [
    {
     "data": {
      "text/html": [
       "<div>\n",
       "<style>\n",
       "    .dataframe thead tr:only-child th {\n",
       "        text-align: right;\n",
       "    }\n",
       "\n",
       "    .dataframe thead th {\n",
       "        text-align: left;\n",
       "    }\n",
       "\n",
       "    .dataframe tbody tr th {\n",
       "        vertical-align: top;\n",
       "    }\n",
       "</style>\n",
       "<table border=\"1\" class=\"dataframe\">\n",
       "  <thead>\n",
       "    <tr style=\"text-align: right;\">\n",
       "      <th></th>\n",
       "      <th>char</th>\n",
       "      <th>name</th>\n",
       "      <th>year</th>\n",
       "      <th>paper</th>\n",
       "      <th>degree</th>\n",
       "      <th>school</th>\n",
       "    </tr>\n",
       "  </thead>\n",
       "  <tbody>\n",
       "    <tr>\n",
       "      <th>32447</th>\n",
       "      <td>[학위논문]</td>\n",
       "      <td>김동현</td>\n",
       "      <td>2008</td>\n",
       "      <td>국내 민간의료보험 시장의 역선택에 관한 실증연구</td>\n",
       "      <td>석사</td>\n",
       "      <td>경희대학교 대학원,</td>\n",
       "    </tr>\n",
       "    <tr>\n",
       "      <th>32453</th>\n",
       "      <td>[학위논문]</td>\n",
       "      <td>이수진</td>\n",
       "      <td>2012</td>\n",
       "      <td>민간의료보험이 의료수요에 미치는 영향 : 도덕적 해이와 역선택 효과의 실증적 구분</td>\n",
       "      <td>석사</td>\n",
       "      <td>연세대학교 대학원,</td>\n",
       "    </tr>\n",
       "    <tr>\n",
       "      <th>32878</th>\n",
       "      <td>[학위논문]</td>\n",
       "      <td>한영하</td>\n",
       "      <td>2014</td>\n",
       "      <td>한국주택금융공사 보금자리론 조기상환율 추정 및 가치산정 연구</td>\n",
       "      <td>박사</td>\n",
       "      <td>연세대학교 대학원,</td>\n",
       "    </tr>\n",
       "    <tr>\n",
       "      <th>36364</th>\n",
       "      <td>[학위논문]</td>\n",
       "      <td>Low, A</td>\n",
       "      <td>1992</td>\n",
       "      <td>Essays on asymmetric information in internatio...</td>\n",
       "      <td>박사</td>\n",
       "      <td>University of California,</td>\n",
       "    </tr>\n",
       "    <tr>\n",
       "      <th>36602</th>\n",
       "      <td>[학위논문]</td>\n",
       "      <td>Averbukh, V</td>\n",
       "      <td>1997</td>\n",
       "      <td>Pricing American options using Monte Carlo sim...</td>\n",
       "      <td>박사</td>\n",
       "      <td>Cornell University,</td>\n",
       "    </tr>\n",
       "  </tbody>\n",
       "</table>\n",
       "</div>"
      ],
      "text/plain": [
       "         char          name  year  \\\n",
       "32447  [학위논문]           김동현  2008   \n",
       "32453  [학위논문]           이수진  2012   \n",
       "32878  [학위논문]           한영하  2014   \n",
       "36364  [학위논문]        Low, A  1992   \n",
       "36602  [학위논문]   Averbukh, V  1997   \n",
       "\n",
       "                                                   paper degree  \\\n",
       "32447                         국내 민간의료보험 시장의 역선택에 관한 실증연구     석사   \n",
       "32453      민간의료보험이 의료수요에 미치는 영향 : 도덕적 해이와 역선택 효과의 실증적 구분     석사   \n",
       "32878                  한국주택금융공사 보금자리론 조기상환율 추정 및 가치산정 연구     박사   \n",
       "36364  Essays on asymmetric information in internatio...     박사   \n",
       "36602  Pricing American options using Monte Carlo sim...     박사   \n",
       "\n",
       "                          school  \n",
       "32447                 경희대학교 대학원,  \n",
       "32453                 연세대학교 대학원,  \n",
       "32878                 연세대학교 대학원,  \n",
       "36364  University of California,  \n",
       "36602        Cornell University,  "
      ]
     },
     "execution_count": 335,
     "metadata": {},
     "output_type": "execute_result"
    }
   ],
   "source": [
    "len_6_df.tail()"
   ]
  },
  {
   "cell_type": "code",
   "execution_count": 336,
   "metadata": {},
   "outputs": [
    {
     "data": {
      "text/plain": [
       "True"
      ]
     },
     "execution_count": 336,
     "metadata": {},
     "output_type": "execute_result"
    }
   ],
   "source": [
    "list(len_6_df.index) == len_5_idx"
   ]
  },
  {
   "cell_type": "code",
   "execution_count": 337,
   "metadata": {},
   "outputs": [
    {
     "data": {
      "text/plain": [
       "['1. [학위논문] - Averbukh, V',\n",
       " '1997',\n",
       " 'Pricing American options using Monte Carlo simulation',\n",
       " '박사',\n",
       " 'Cornell University,']"
      ]
     },
     "execution_count": 337,
     "metadata": {},
     "output_type": "execute_result"
    }
   ],
   "source": [
    "new_df['tuned_refer'][36602]"
   ]
  },
  {
   "cell_type": "markdown",
   "metadata": {},
   "source": [
    "## 결측치만 모여있는 데이터프레임 만들기"
   ]
  },
  {
   "cell_type": "code",
   "execution_count": 338,
   "metadata": {},
   "outputs": [
    {
     "data": {
      "text/plain": [
       "242"
      ]
     },
     "execution_count": 338,
     "metadata": {},
     "output_type": "execute_result"
    }
   ],
   "source": [
    "len(len_1_idx)"
   ]
  },
  {
   "cell_type": "code",
   "execution_count": 339,
   "metadata": {},
   "outputs": [
    {
     "data": {
      "text/html": [
       "<div>\n",
       "<style>\n",
       "    .dataframe thead tr:only-child th {\n",
       "        text-align: right;\n",
       "    }\n",
       "\n",
       "    .dataframe thead th {\n",
       "        text-align: left;\n",
       "    }\n",
       "\n",
       "    .dataframe tbody tr th {\n",
       "        vertical-align: top;\n",
       "    }\n",
       "</style>\n",
       "<table border=\"1\" class=\"dataframe\">\n",
       "  <thead>\n",
       "    <tr style=\"text-align: right;\">\n",
       "      <th></th>\n",
       "      <th>char</th>\n",
       "      <th>name</th>\n",
       "      <th>year</th>\n",
       "      <th>paper</th>\n",
       "      <th>degree</th>\n",
       "      <th>school</th>\n",
       "    </tr>\n",
       "  </thead>\n",
       "  <tbody>\n",
       "    <tr>\n",
       "      <th>33185</th>\n",
       "      <td>NaN</td>\n",
       "      <td>NaN</td>\n",
       "      <td>NaN</td>\n",
       "      <td>NaN</td>\n",
       "      <td>NaN</td>\n",
       "      <td>NaN</td>\n",
       "    </tr>\n",
       "    <tr>\n",
       "      <th>33186</th>\n",
       "      <td>NaN</td>\n",
       "      <td>NaN</td>\n",
       "      <td>NaN</td>\n",
       "      <td>NaN</td>\n",
       "      <td>NaN</td>\n",
       "      <td>NaN</td>\n",
       "    </tr>\n",
       "    <tr>\n",
       "      <th>33187</th>\n",
       "      <td>NaN</td>\n",
       "      <td>NaN</td>\n",
       "      <td>NaN</td>\n",
       "      <td>NaN</td>\n",
       "      <td>NaN</td>\n",
       "      <td>NaN</td>\n",
       "    </tr>\n",
       "    <tr>\n",
       "      <th>35176</th>\n",
       "      <td>NaN</td>\n",
       "      <td>NaN</td>\n",
       "      <td>NaN</td>\n",
       "      <td>NaN</td>\n",
       "      <td>NaN</td>\n",
       "      <td>NaN</td>\n",
       "    </tr>\n",
       "    <tr>\n",
       "      <th>35226</th>\n",
       "      <td>NaN</td>\n",
       "      <td>NaN</td>\n",
       "      <td>NaN</td>\n",
       "      <td>NaN</td>\n",
       "      <td>NaN</td>\n",
       "      <td>NaN</td>\n",
       "    </tr>\n",
       "  </tbody>\n",
       "</table>\n",
       "</div>"
      ],
      "text/plain": [
       "      char name year paper degree school\n",
       "33185  NaN  NaN  NaN   NaN    NaN    NaN\n",
       "33186  NaN  NaN  NaN   NaN    NaN    NaN\n",
       "33187  NaN  NaN  NaN   NaN    NaN    NaN\n",
       "35176  NaN  NaN  NaN   NaN    NaN    NaN\n",
       "35226  NaN  NaN  NaN   NaN    NaN    NaN"
      ]
     },
     "execution_count": 339,
     "metadata": {},
     "output_type": "execute_result"
    }
   ],
   "source": [
    "len_1_df = pd.DataFrame(index=len_1_idx,columns=['char','name','year','paper','degree','school'])\n",
    "len_1_df.tail()"
   ]
  },
  {
   "cell_type": "code",
   "execution_count": 340,
   "metadata": {},
   "outputs": [
    {
     "data": {
      "text/plain": [
       "infor          한국주식시장의 이익정보 불확실성위험과 1월효과\\n김동철 | 신성호 | 한국증권학회 ...\n",
       "refer                                                          0\n",
       "tuned_refer                                                  [0]\n",
       "Name: 35226, dtype: object"
      ]
     },
     "execution_count": 340,
     "metadata": {},
     "output_type": "execute_result"
    }
   ],
   "source": [
    "new_df.iloc[35226]"
   ]
  },
  {
   "cell_type": "markdown",
   "metadata": {},
   "source": [
    "\n",
    "# concatenate the 3 dataframe"
   ]
  },
  {
   "cell_type": "code",
   "execution_count": 341,
   "metadata": {},
   "outputs": [
    {
     "data": {
      "text/html": [
       "<div>\n",
       "<style>\n",
       "    .dataframe thead tr:only-child th {\n",
       "        text-align: right;\n",
       "    }\n",
       "\n",
       "    .dataframe thead th {\n",
       "        text-align: left;\n",
       "    }\n",
       "\n",
       "    .dataframe tbody tr th {\n",
       "        vertical-align: top;\n",
       "    }\n",
       "</style>\n",
       "<table border=\"1\" class=\"dataframe\">\n",
       "  <thead>\n",
       "    <tr style=\"text-align: right;\">\n",
       "      <th></th>\n",
       "      <th>char</th>\n",
       "      <th>name</th>\n",
       "      <th>year</th>\n",
       "      <th>paper</th>\n",
       "      <th>degree</th>\n",
       "      <th>school</th>\n",
       "    </tr>\n",
       "  </thead>\n",
       "  <tbody>\n",
       "    <tr>\n",
       "      <th>33185</th>\n",
       "      <td>NaN</td>\n",
       "      <td>NaN</td>\n",
       "      <td>NaN</td>\n",
       "      <td>NaN</td>\n",
       "      <td>NaN</td>\n",
       "      <td>NaN</td>\n",
       "    </tr>\n",
       "    <tr>\n",
       "      <th>33186</th>\n",
       "      <td>NaN</td>\n",
       "      <td>NaN</td>\n",
       "      <td>NaN</td>\n",
       "      <td>NaN</td>\n",
       "      <td>NaN</td>\n",
       "      <td>NaN</td>\n",
       "    </tr>\n",
       "    <tr>\n",
       "      <th>33187</th>\n",
       "      <td>NaN</td>\n",
       "      <td>NaN</td>\n",
       "      <td>NaN</td>\n",
       "      <td>NaN</td>\n",
       "      <td>NaN</td>\n",
       "      <td>NaN</td>\n",
       "    </tr>\n",
       "    <tr>\n",
       "      <th>35176</th>\n",
       "      <td>NaN</td>\n",
       "      <td>NaN</td>\n",
       "      <td>NaN</td>\n",
       "      <td>NaN</td>\n",
       "      <td>NaN</td>\n",
       "      <td>NaN</td>\n",
       "    </tr>\n",
       "    <tr>\n",
       "      <th>35226</th>\n",
       "      <td>NaN</td>\n",
       "      <td>NaN</td>\n",
       "      <td>NaN</td>\n",
       "      <td>NaN</td>\n",
       "      <td>NaN</td>\n",
       "      <td>NaN</td>\n",
       "    </tr>\n",
       "  </tbody>\n",
       "</table>\n",
       "</div>"
      ],
      "text/plain": [
       "      char name year paper degree school\n",
       "33185  NaN  NaN  NaN   NaN    NaN    NaN\n",
       "33186  NaN  NaN  NaN   NaN    NaN    NaN\n",
       "33187  NaN  NaN  NaN   NaN    NaN    NaN\n",
       "35176  NaN  NaN  NaN   NaN    NaN    NaN\n",
       "35226  NaN  NaN  NaN   NaN    NaN    NaN"
      ]
     },
     "metadata": {},
     "output_type": "display_data"
    },
    {
     "data": {
      "text/html": [
       "<div>\n",
       "<style>\n",
       "    .dataframe thead tr:only-child th {\n",
       "        text-align: right;\n",
       "    }\n",
       "\n",
       "    .dataframe thead th {\n",
       "        text-align: left;\n",
       "    }\n",
       "\n",
       "    .dataframe tbody tr th {\n",
       "        vertical-align: top;\n",
       "    }\n",
       "</style>\n",
       "<table border=\"1\" class=\"dataframe\">\n",
       "  <thead>\n",
       "    <tr style=\"text-align: right;\">\n",
       "      <th></th>\n",
       "      <th>char</th>\n",
       "      <th>name</th>\n",
       "      <th>year</th>\n",
       "      <th>paper</th>\n",
       "    </tr>\n",
       "  </thead>\n",
       "  <tbody>\n",
       "    <tr>\n",
       "      <th>37195</th>\n",
       "      <td>[학술지(정기간행물)]</td>\n",
       "      <td>Plesko, G. A</td>\n",
       "      <td>2003</td>\n",
       "      <td>Journal of Accounting and Economics 35 : 201 ~...</td>\n",
       "    </tr>\n",
       "    <tr>\n",
       "      <th>37196</th>\n",
       "      <td>[기타자료]</td>\n",
       "      <td>Ross, M. P</td>\n",
       "      <td>1997</td>\n",
       "      <td>Corporate hedging: What, why and how? Working ...</td>\n",
       "    </tr>\n",
       "    <tr>\n",
       "      <th>37206</th>\n",
       "      <td>[학술지(정기간행물)]</td>\n",
       "      <td>Baek, Jae-Seung</td>\n",
       "      <td>2004</td>\n",
       "      <td>Journal of Financial Economics 71 : 265 ~ 313,</td>\n",
       "    </tr>\n",
       "    <tr>\n",
       "      <th>37211</th>\n",
       "      <td>[기타자료]</td>\n",
       "      <td>Chandler, A. D</td>\n",
       "      <td>1977</td>\n",
       "      <td>The Visible Hand, Belknap Press, Cambridge, MA...</td>\n",
       "    </tr>\n",
       "    <tr>\n",
       "      <th>37242</th>\n",
       "      <td>[기타자료]</td>\n",
       "      <td>Villalonga, Belen</td>\n",
       "      <td>1999</td>\n",
       "      <td>Does Diversification Cause the “Diversificatio...</td>\n",
       "    </tr>\n",
       "  </tbody>\n",
       "</table>\n",
       "</div>"
      ],
      "text/plain": [
       "               char                name  year  \\\n",
       "37195  [학술지(정기간행물)]        Plesko, G. A  2003   \n",
       "37196        [기타자료]          Ross, M. P  1997   \n",
       "37206  [학술지(정기간행물)]     Baek, Jae-Seung  2004   \n",
       "37211        [기타자료]      Chandler, A. D  1977   \n",
       "37242        [기타자료]   Villalonga, Belen  1999   \n",
       "\n",
       "                                                   paper  \n",
       "37195  Journal of Accounting and Economics 35 : 201 ~...  \n",
       "37196  Corporate hedging: What, why and how? Working ...  \n",
       "37206     Journal of Financial Economics 71 : 265 ~ 313,  \n",
       "37211  The Visible Hand, Belknap Press, Cambridge, MA...  \n",
       "37242  Does Diversification Cause the “Diversificatio...  "
      ]
     },
     "metadata": {},
     "output_type": "display_data"
    },
    {
     "data": {
      "text/html": [
       "<div>\n",
       "<style>\n",
       "    .dataframe thead tr:only-child th {\n",
       "        text-align: right;\n",
       "    }\n",
       "\n",
       "    .dataframe thead th {\n",
       "        text-align: left;\n",
       "    }\n",
       "\n",
       "    .dataframe tbody tr th {\n",
       "        vertical-align: top;\n",
       "    }\n",
       "</style>\n",
       "<table border=\"1\" class=\"dataframe\">\n",
       "  <thead>\n",
       "    <tr style=\"text-align: right;\">\n",
       "      <th></th>\n",
       "      <th>char</th>\n",
       "      <th>name</th>\n",
       "      <th>year</th>\n",
       "      <th>paper</th>\n",
       "      <th>journal</th>\n",
       "    </tr>\n",
       "  </thead>\n",
       "  <tbody>\n",
       "    <tr>\n",
       "      <th>37241</th>\n",
       "      <td>[학술지(정기간행물)]</td>\n",
       "      <td>Stulz, Ren?M</td>\n",
       "      <td>1990</td>\n",
       "      <td>Managerial Direction and Optimal Financing Pol...</td>\n",
       "      <td>Journal of Financial Economics 26 : 3 ~ 27,</td>\n",
       "    </tr>\n",
       "    <tr>\n",
       "      <th>37243</th>\n",
       "      <td>[학술지(정기간행물)]</td>\n",
       "      <td>Villalonga, Belen</td>\n",
       "      <td>2004</td>\n",
       "      <td>Diversification discount or premium? New Evide...</td>\n",
       "      <td>Journal of Finance 59 : 479 ~ 506,</td>\n",
       "    </tr>\n",
       "    <tr>\n",
       "      <th>37244</th>\n",
       "      <td>[학술지(정기간행물)]</td>\n",
       "      <td>Villalonga, Belen</td>\n",
       "      <td>2004</td>\n",
       "      <td>Does Diversification Cause the Diversification...</td>\n",
       "      <td>Financial Management 33 : 5 ~ 27,</td>\n",
       "    </tr>\n",
       "    <tr>\n",
       "      <th>37245</th>\n",
       "      <td>[학술지(정기간행물)]</td>\n",
       "      <td>Weston, J. F</td>\n",
       "      <td>1970</td>\n",
       "      <td>The Nature and Significance of Conglomerate Firms</td>\n",
       "      <td>St. John’s Review 44 : 66 ~ 80,</td>\n",
       "    </tr>\n",
       "    <tr>\n",
       "      <th>37246</th>\n",
       "      <td>[학술지(정기간행물)]</td>\n",
       "      <td>Whited, Toni M</td>\n",
       "      <td>2001</td>\n",
       "      <td>Is It Inefficient Investment That Causes the D...</td>\n",
       "      <td>Journal of Finance 56 : 1667 ~ 1691</td>\n",
       "    </tr>\n",
       "  </tbody>\n",
       "</table>\n",
       "</div>"
      ],
      "text/plain": [
       "               char                name  year  \\\n",
       "37241  [학술지(정기간행물)]        Stulz, Ren?M  1990   \n",
       "37243  [학술지(정기간행물)]   Villalonga, Belen  2004   \n",
       "37244  [학술지(정기간행물)]   Villalonga, Belen  2004   \n",
       "37245  [학술지(정기간행물)]        Weston, J. F  1970   \n",
       "37246  [학술지(정기간행물)]      Whited, Toni M  2001   \n",
       "\n",
       "                                                   paper  \\\n",
       "37241  Managerial Direction and Optimal Financing Pol...   \n",
       "37243  Diversification discount or premium? New Evide...   \n",
       "37244  Does Diversification Cause the Diversification...   \n",
       "37245  The Nature and Significance of Conglomerate Firms   \n",
       "37246  Is It Inefficient Investment That Causes the D...   \n",
       "\n",
       "                                           journal  \n",
       "37241  Journal of Financial Economics 26 : 3 ~ 27,  \n",
       "37243           Journal of Finance 59 : 479 ~ 506,  \n",
       "37244            Financial Management 33 : 5 ~ 27,  \n",
       "37245              St. John’s Review 44 : 66 ~ 80,  \n",
       "37246          Journal of Finance 56 : 1667 ~ 1691  "
      ]
     },
     "metadata": {},
     "output_type": "display_data"
    },
    {
     "data": {
      "text/html": [
       "<div>\n",
       "<style>\n",
       "    .dataframe thead tr:only-child th {\n",
       "        text-align: right;\n",
       "    }\n",
       "\n",
       "    .dataframe thead th {\n",
       "        text-align: left;\n",
       "    }\n",
       "\n",
       "    .dataframe tbody tr th {\n",
       "        vertical-align: top;\n",
       "    }\n",
       "</style>\n",
       "<table border=\"1\" class=\"dataframe\">\n",
       "  <thead>\n",
       "    <tr style=\"text-align: right;\">\n",
       "      <th></th>\n",
       "      <th>char</th>\n",
       "      <th>name</th>\n",
       "      <th>year</th>\n",
       "      <th>paper</th>\n",
       "      <th>degree</th>\n",
       "      <th>school</th>\n",
       "    </tr>\n",
       "  </thead>\n",
       "  <tbody>\n",
       "    <tr>\n",
       "      <th>32447</th>\n",
       "      <td>[학위논문]</td>\n",
       "      <td>김동현</td>\n",
       "      <td>2008</td>\n",
       "      <td>국내 민간의료보험 시장의 역선택에 관한 실증연구</td>\n",
       "      <td>석사</td>\n",
       "      <td>경희대학교 대학원,</td>\n",
       "    </tr>\n",
       "    <tr>\n",
       "      <th>32453</th>\n",
       "      <td>[학위논문]</td>\n",
       "      <td>이수진</td>\n",
       "      <td>2012</td>\n",
       "      <td>민간의료보험이 의료수요에 미치는 영향 : 도덕적 해이와 역선택 효과의 실증적 구분</td>\n",
       "      <td>석사</td>\n",
       "      <td>연세대학교 대학원,</td>\n",
       "    </tr>\n",
       "    <tr>\n",
       "      <th>32878</th>\n",
       "      <td>[학위논문]</td>\n",
       "      <td>한영하</td>\n",
       "      <td>2014</td>\n",
       "      <td>한국주택금융공사 보금자리론 조기상환율 추정 및 가치산정 연구</td>\n",
       "      <td>박사</td>\n",
       "      <td>연세대학교 대학원,</td>\n",
       "    </tr>\n",
       "    <tr>\n",
       "      <th>36364</th>\n",
       "      <td>[학위논문]</td>\n",
       "      <td>Low, A</td>\n",
       "      <td>1992</td>\n",
       "      <td>Essays on asymmetric information in internatio...</td>\n",
       "      <td>박사</td>\n",
       "      <td>University of California,</td>\n",
       "    </tr>\n",
       "    <tr>\n",
       "      <th>36602</th>\n",
       "      <td>[학위논문]</td>\n",
       "      <td>Averbukh, V</td>\n",
       "      <td>1997</td>\n",
       "      <td>Pricing American options using Monte Carlo sim...</td>\n",
       "      <td>박사</td>\n",
       "      <td>Cornell University,</td>\n",
       "    </tr>\n",
       "  </tbody>\n",
       "</table>\n",
       "</div>"
      ],
      "text/plain": [
       "         char          name  year  \\\n",
       "32447  [학위논문]           김동현  2008   \n",
       "32453  [학위논문]           이수진  2012   \n",
       "32878  [학위논문]           한영하  2014   \n",
       "36364  [학위논문]        Low, A  1992   \n",
       "36602  [학위논문]   Averbukh, V  1997   \n",
       "\n",
       "                                                   paper degree  \\\n",
       "32447                         국내 민간의료보험 시장의 역선택에 관한 실증연구     석사   \n",
       "32453      민간의료보험이 의료수요에 미치는 영향 : 도덕적 해이와 역선택 효과의 실증적 구분     석사   \n",
       "32878                  한국주택금융공사 보금자리론 조기상환율 추정 및 가치산정 연구     박사   \n",
       "36364  Essays on asymmetric information in internatio...     박사   \n",
       "36602  Pricing American options using Monte Carlo sim...     박사   \n",
       "\n",
       "                          school  \n",
       "32447                 경희대학교 대학원,  \n",
       "32453                 연세대학교 대학원,  \n",
       "32878                 연세대학교 대학원,  \n",
       "36364  University of California,  \n",
       "36602        Cornell University,  "
      ]
     },
     "metadata": {},
     "output_type": "display_data"
    }
   ],
   "source": [
    "display(len_1_df.tail())\n",
    "display(len_4_df.tail())\n",
    "display(len_5_df.tail())\n",
    "display(len_6_df.tail())"
   ]
  },
  {
   "cell_type": "code",
   "execution_count": 342,
   "metadata": {},
   "outputs": [
    {
     "data": {
      "text/html": [
       "<div>\n",
       "<style>\n",
       "    .dataframe thead tr:only-child th {\n",
       "        text-align: right;\n",
       "    }\n",
       "\n",
       "    .dataframe thead th {\n",
       "        text-align: left;\n",
       "    }\n",
       "\n",
       "    .dataframe tbody tr th {\n",
       "        vertical-align: top;\n",
       "    }\n",
       "</style>\n",
       "<table border=\"1\" class=\"dataframe\">\n",
       "  <thead>\n",
       "    <tr style=\"text-align: right;\">\n",
       "      <th></th>\n",
       "      <th>char</th>\n",
       "      <th>degree</th>\n",
       "      <th>journal</th>\n",
       "      <th>name</th>\n",
       "      <th>paper</th>\n",
       "      <th>school</th>\n",
       "      <th>year</th>\n",
       "    </tr>\n",
       "  </thead>\n",
       "  <tbody>\n",
       "    <tr>\n",
       "      <th>33185</th>\n",
       "      <td>NaN</td>\n",
       "      <td>NaN</td>\n",
       "      <td>NaN</td>\n",
       "      <td>NaN</td>\n",
       "      <td>NaN</td>\n",
       "      <td>NaN</td>\n",
       "      <td>NaN</td>\n",
       "    </tr>\n",
       "    <tr>\n",
       "      <th>33186</th>\n",
       "      <td>NaN</td>\n",
       "      <td>NaN</td>\n",
       "      <td>NaN</td>\n",
       "      <td>NaN</td>\n",
       "      <td>NaN</td>\n",
       "      <td>NaN</td>\n",
       "      <td>NaN</td>\n",
       "    </tr>\n",
       "    <tr>\n",
       "      <th>33187</th>\n",
       "      <td>NaN</td>\n",
       "      <td>NaN</td>\n",
       "      <td>NaN</td>\n",
       "      <td>NaN</td>\n",
       "      <td>NaN</td>\n",
       "      <td>NaN</td>\n",
       "      <td>NaN</td>\n",
       "    </tr>\n",
       "    <tr>\n",
       "      <th>35176</th>\n",
       "      <td>NaN</td>\n",
       "      <td>NaN</td>\n",
       "      <td>NaN</td>\n",
       "      <td>NaN</td>\n",
       "      <td>NaN</td>\n",
       "      <td>NaN</td>\n",
       "      <td>NaN</td>\n",
       "    </tr>\n",
       "    <tr>\n",
       "      <th>35226</th>\n",
       "      <td>NaN</td>\n",
       "      <td>NaN</td>\n",
       "      <td>NaN</td>\n",
       "      <td>NaN</td>\n",
       "      <td>NaN</td>\n",
       "      <td>NaN</td>\n",
       "      <td>NaN</td>\n",
       "    </tr>\n",
       "  </tbody>\n",
       "</table>\n",
       "</div>"
      ],
      "text/plain": [
       "      char degree journal name paper school year\n",
       "33185  NaN    NaN     NaN  NaN   NaN    NaN  NaN\n",
       "33186  NaN    NaN     NaN  NaN   NaN    NaN  NaN\n",
       "33187  NaN    NaN     NaN  NaN   NaN    NaN  NaN\n",
       "35176  NaN    NaN     NaN  NaN   NaN    NaN  NaN\n",
       "35226  NaN    NaN     NaN  NaN   NaN    NaN  NaN"
      ]
     },
     "execution_count": 342,
     "metadata": {},
     "output_type": "execute_result"
    }
   ],
   "source": [
    "final_df = pd.concat([len_4_df,len_5_df],axis=0)\n",
    "final_df = pd.concat([final_df,len_6_df],axis=0)\n",
    "final_df = pd.concat([final_df,len_1_df],axis=0)\n",
    "# final_df.reset_index(drop=True,inplace=True)\n",
    "final_df.tail()"
   ]
  },
  {
   "cell_type": "code",
   "execution_count": 343,
   "metadata": {},
   "outputs": [
    {
     "data": {
      "text/plain": [
       "True"
      ]
     },
     "execution_count": 343,
     "metadata": {},
     "output_type": "execute_result"
    }
   ],
   "source": [
    "list(final_df.index.values) == len_3_idx + len_4_idx + len_5_idx + len_1_idx"
   ]
  },
  {
   "cell_type": "code",
   "execution_count": 344,
   "metadata": {},
   "outputs": [],
   "source": [
    "testing_df = final_df.reset_index()\n",
    "testing_df.sort_values(by='index',inplace=True)\n",
    "final_df = testing_df.set_index('index')"
   ]
  },
  {
   "cell_type": "code",
   "execution_count": 345,
   "metadata": {
    "collapsed": true
   },
   "outputs": [],
   "source": [
    "final_df.to_csv('tuned_dataframe_refer.csv',index=False)"
   ]
  },
  {
   "cell_type": "code",
   "execution_count": 346,
   "metadata": {},
   "outputs": [
    {
     "data": {
      "text/plain": [
       "(37247, 7)"
      ]
     },
     "execution_count": 346,
     "metadata": {},
     "output_type": "execute_result"
    }
   ],
   "source": [
    "final_df.shape"
   ]
  },
  {
   "cell_type": "code",
   "execution_count": 347,
   "metadata": {},
   "outputs": [
    {
     "data": {
      "text/html": [
       "<div>\n",
       "<style>\n",
       "    .dataframe thead tr:only-child th {\n",
       "        text-align: right;\n",
       "    }\n",
       "\n",
       "    .dataframe thead th {\n",
       "        text-align: left;\n",
       "    }\n",
       "\n",
       "    .dataframe tbody tr th {\n",
       "        vertical-align: top;\n",
       "    }\n",
       "</style>\n",
       "<table border=\"1\" class=\"dataframe\">\n",
       "  <thead>\n",
       "    <tr style=\"text-align: right;\">\n",
       "      <th></th>\n",
       "      <th>char</th>\n",
       "      <th>degree</th>\n",
       "      <th>journal</th>\n",
       "      <th>name</th>\n",
       "      <th>paper</th>\n",
       "      <th>school</th>\n",
       "      <th>year</th>\n",
       "    </tr>\n",
       "    <tr>\n",
       "      <th>index</th>\n",
       "      <th></th>\n",
       "      <th></th>\n",
       "      <th></th>\n",
       "      <th></th>\n",
       "      <th></th>\n",
       "      <th></th>\n",
       "      <th></th>\n",
       "    </tr>\n",
       "  </thead>\n",
       "  <tbody>\n",
       "    <tr>\n",
       "      <th>37242</th>\n",
       "      <td>[기타자료]</td>\n",
       "      <td>NaN</td>\n",
       "      <td>NaN</td>\n",
       "      <td>Villalonga, Belen</td>\n",
       "      <td>Does Diversification Cause the “Diversificatio...</td>\n",
       "      <td>NaN</td>\n",
       "      <td>1999</td>\n",
       "    </tr>\n",
       "    <tr>\n",
       "      <th>37243</th>\n",
       "      <td>[학술지(정기간행물)]</td>\n",
       "      <td>NaN</td>\n",
       "      <td>Journal of Finance 59 : 479 ~ 506,</td>\n",
       "      <td>Villalonga, Belen</td>\n",
       "      <td>Diversification discount or premium? New Evide...</td>\n",
       "      <td>NaN</td>\n",
       "      <td>2004</td>\n",
       "    </tr>\n",
       "    <tr>\n",
       "      <th>37244</th>\n",
       "      <td>[학술지(정기간행물)]</td>\n",
       "      <td>NaN</td>\n",
       "      <td>Financial Management 33 : 5 ~ 27,</td>\n",
       "      <td>Villalonga, Belen</td>\n",
       "      <td>Does Diversification Cause the Diversification...</td>\n",
       "      <td>NaN</td>\n",
       "      <td>2004</td>\n",
       "    </tr>\n",
       "    <tr>\n",
       "      <th>37245</th>\n",
       "      <td>[학술지(정기간행물)]</td>\n",
       "      <td>NaN</td>\n",
       "      <td>St. John’s Review 44 : 66 ~ 80,</td>\n",
       "      <td>Weston, J. F</td>\n",
       "      <td>The Nature and Significance of Conglomerate Firms</td>\n",
       "      <td>NaN</td>\n",
       "      <td>1970</td>\n",
       "    </tr>\n",
       "    <tr>\n",
       "      <th>37246</th>\n",
       "      <td>[학술지(정기간행물)]</td>\n",
       "      <td>NaN</td>\n",
       "      <td>Journal of Finance 56 : 1667 ~ 1691</td>\n",
       "      <td>Whited, Toni M</td>\n",
       "      <td>Is It Inefficient Investment That Causes the D...</td>\n",
       "      <td>NaN</td>\n",
       "      <td>2001</td>\n",
       "    </tr>\n",
       "  </tbody>\n",
       "</table>\n",
       "</div>"
      ],
      "text/plain": [
       "               char degree                              journal  \\\n",
       "index                                                             \n",
       "37242        [기타자료]    NaN                                  NaN   \n",
       "37243  [학술지(정기간행물)]    NaN   Journal of Finance 59 : 479 ~ 506,   \n",
       "37244  [학술지(정기간행물)]    NaN    Financial Management 33 : 5 ~ 27,   \n",
       "37245  [학술지(정기간행물)]    NaN      St. John’s Review 44 : 66 ~ 80,   \n",
       "37246  [학술지(정기간행물)]    NaN  Journal of Finance 56 : 1667 ~ 1691   \n",
       "\n",
       "                     name                                              paper  \\\n",
       "index                                                                          \n",
       "37242   Villalonga, Belen  Does Diversification Cause the “Diversificatio...   \n",
       "37243   Villalonga, Belen  Diversification discount or premium? New Evide...   \n",
       "37244   Villalonga, Belen  Does Diversification Cause the Diversification...   \n",
       "37245        Weston, J. F  The Nature and Significance of Conglomerate Firms   \n",
       "37246      Whited, Toni M  Is It Inefficient Investment That Causes the D...   \n",
       "\n",
       "      school  year  \n",
       "index               \n",
       "37242    NaN  1999  \n",
       "37243    NaN  2004  \n",
       "37244    NaN  2004  \n",
       "37245    NaN  1970  \n",
       "37246    NaN  2001  "
      ]
     },
     "execution_count": 347,
     "metadata": {},
     "output_type": "execute_result"
    }
   ],
   "source": [
    "final_df.tail()"
   ]
  },
  {
   "cell_type": "code",
   "execution_count": 348,
   "metadata": {},
   "outputs": [
    {
     "data": {
      "text/html": [
       "<div>\n",
       "<style>\n",
       "    .dataframe thead tr:only-child th {\n",
       "        text-align: right;\n",
       "    }\n",
       "\n",
       "    .dataframe thead th {\n",
       "        text-align: left;\n",
       "    }\n",
       "\n",
       "    .dataframe tbody tr th {\n",
       "        vertical-align: top;\n",
       "    }\n",
       "</style>\n",
       "<table border=\"1\" class=\"dataframe\">\n",
       "  <thead>\n",
       "    <tr style=\"text-align: right;\">\n",
       "      <th></th>\n",
       "      <th>infor</th>\n",
       "      <th>refer</th>\n",
       "      <th>tuned_refer</th>\n",
       "    </tr>\n",
       "  </thead>\n",
       "  <tbody>\n",
       "    <tr>\n",
       "      <th>37242</th>\n",
       "      <td>Corporate Diversification, Relatedness, and Fi...</td>\n",
       "      <td>40. [기타자료] - Villalonga, Belen / 1999 / Does D...</td>\n",
       "      <td>[40. [기타자료] - Villalonga, Belen, 1999, Does Di...</td>\n",
       "    </tr>\n",
       "    <tr>\n",
       "      <th>37243</th>\n",
       "      <td>Corporate Diversification, Relatedness, and Fi...</td>\n",
       "      <td>41. [학술지(정기간행물)] - Villalonga, Belen / 2004 / ...</td>\n",
       "      <td>[41. [학술지(정기간행물)] - Villalonga, Belen, 2004, D...</td>\n",
       "    </tr>\n",
       "    <tr>\n",
       "      <th>37244</th>\n",
       "      <td>Corporate Diversification, Relatedness, and Fi...</td>\n",
       "      <td>42. [학술지(정기간행물)] - Villalonga, Belen / 2004 / ...</td>\n",
       "      <td>[42. [학술지(정기간행물)] - Villalonga, Belen, 2004, D...</td>\n",
       "    </tr>\n",
       "    <tr>\n",
       "      <th>37245</th>\n",
       "      <td>Corporate Diversification, Relatedness, and Fi...</td>\n",
       "      <td>43. [학술지(정기간행물)] - Weston, J. F / 1970 / The N...</td>\n",
       "      <td>[43. [학술지(정기간행물)] - Weston, J. F, 1970, The Na...</td>\n",
       "    </tr>\n",
       "    <tr>\n",
       "      <th>37246</th>\n",
       "      <td>Corporate Diversification, Relatedness, and Fi...</td>\n",
       "      <td>44. [학술지(정기간행물)] - Whited, Toni M / 2001 / Is ...</td>\n",
       "      <td>[44. [학술지(정기간행물)] - Whited, Toni M, 2001, Is I...</td>\n",
       "    </tr>\n",
       "  </tbody>\n",
       "</table>\n",
       "</div>"
      ],
      "text/plain": [
       "                                                   infor  \\\n",
       "37242  Corporate Diversification, Relatedness, and Fi...   \n",
       "37243  Corporate Diversification, Relatedness, and Fi...   \n",
       "37244  Corporate Diversification, Relatedness, and Fi...   \n",
       "37245  Corporate Diversification, Relatedness, and Fi...   \n",
       "37246  Corporate Diversification, Relatedness, and Fi...   \n",
       "\n",
       "                                                   refer  \\\n",
       "37242  40. [기타자료] - Villalonga, Belen / 1999 / Does D...   \n",
       "37243  41. [학술지(정기간행물)] - Villalonga, Belen / 2004 / ...   \n",
       "37244  42. [학술지(정기간행물)] - Villalonga, Belen / 2004 / ...   \n",
       "37245  43. [학술지(정기간행물)] - Weston, J. F / 1970 / The N...   \n",
       "37246  44. [학술지(정기간행물)] - Whited, Toni M / 2001 / Is ...   \n",
       "\n",
       "                                             tuned_refer  \n",
       "37242  [40. [기타자료] - Villalonga, Belen, 1999, Does Di...  \n",
       "37243  [41. [학술지(정기간행물)] - Villalonga, Belen, 2004, D...  \n",
       "37244  [42. [학술지(정기간행물)] - Villalonga, Belen, 2004, D...  \n",
       "37245  [43. [학술지(정기간행물)] - Weston, J. F, 1970, The Na...  \n",
       "37246  [44. [학술지(정기간행물)] - Whited, Toni M, 2001, Is I...  "
      ]
     },
     "execution_count": 348,
     "metadata": {},
     "output_type": "execute_result"
    }
   ],
   "source": [
    "new_df.tail()"
   ]
  },
  {
   "cell_type": "markdown",
   "metadata": {},
   "source": [
    "# concatenate tuned_infor and tuned_refer dataframe"
   ]
  },
  {
   "cell_type": "code",
   "execution_count": 349,
   "metadata": {
    "collapsed": true
   },
   "outputs": [],
   "source": [
    "infor_csv = pd.read_csv(\"tuned_dataframe_infor.csv\")\n",
    "refer_csv = pd.read_csv(\"tuned_dataframe_refer.csv\")\n",
    "\n",
    "df = pd.concat([infor_csv,refer_csv],axis=1)"
   ]
  },
  {
   "cell_type": "code",
   "execution_count": 350,
   "metadata": {
    "collapsed": true
   },
   "outputs": [],
   "source": [
    "df.columns = ['paper_name_infor', 'institution_infor', 'author_infor', 'journal_infor', 'dont_know_infor', 'page_infor',\n",
    "       'year_infor', 'field_infor', 'cited_infor', 'char_refer', 'degree_refer', 'journal_refer', 'name_refer', 'paper_refer',\n",
    "       'school_refer', 'year_refer']"
   ]
  },
  {
   "cell_type": "code",
   "execution_count": 351,
   "metadata": {
    "collapsed": true
   },
   "outputs": [],
   "source": [
    "df.to_csv('tuned_dataframe.csv',index=False)"
   ]
  },
  {
   "cell_type": "code",
   "execution_count": 352,
   "metadata": {
    "scrolled": true
   },
   "outputs": [
    {
     "data": {
      "text/html": [
       "<div>\n",
       "<style>\n",
       "    .dataframe thead tr:only-child th {\n",
       "        text-align: right;\n",
       "    }\n",
       "\n",
       "    .dataframe thead th {\n",
       "        text-align: left;\n",
       "    }\n",
       "\n",
       "    .dataframe tbody tr th {\n",
       "        vertical-align: top;\n",
       "    }\n",
       "</style>\n",
       "<table border=\"1\" class=\"dataframe\">\n",
       "  <thead>\n",
       "    <tr style=\"text-align: right;\">\n",
       "      <th></th>\n",
       "      <th>paper_name_infor</th>\n",
       "      <th>institution_infor</th>\n",
       "      <th>author_infor</th>\n",
       "      <th>journal_infor</th>\n",
       "      <th>dont_know_infor</th>\n",
       "      <th>page_infor</th>\n",
       "      <th>year_infor</th>\n",
       "      <th>field_infor</th>\n",
       "      <th>cited_infor</th>\n",
       "      <th>char_refer</th>\n",
       "      <th>degree_refer</th>\n",
       "      <th>journal_refer</th>\n",
       "      <th>name_refer</th>\n",
       "      <th>paper_refer</th>\n",
       "      <th>school_refer</th>\n",
       "      <th>year_refer</th>\n",
       "    </tr>\n",
       "  </thead>\n",
       "  <tbody>\n",
       "    <tr>\n",
       "      <th>37242</th>\n",
       "      <td>Corporate Diversification, Relatedness, and Fi...</td>\n",
       "      <td>한국증권학회</td>\n",
       "      <td>배성철 , 권택호 , 이장우</td>\n",
       "      <td>Asia-Pacific Journal of Financial Studies</td>\n",
       "      <td>37(6)</td>\n",
       "      <td>pp.1025~1064</td>\n",
       "      <td>2008.12</td>\n",
       "      <td>경영학</td>\n",
       "      <td>피인용횟수 : 20</td>\n",
       "      <td>[기타자료]</td>\n",
       "      <td>NaN</td>\n",
       "      <td>NaN</td>\n",
       "      <td>Villalonga, Belen</td>\n",
       "      <td>Does Diversification Cause the “Diversificatio...</td>\n",
       "      <td>NaN</td>\n",
       "      <td>1999.0</td>\n",
       "    </tr>\n",
       "    <tr>\n",
       "      <th>37243</th>\n",
       "      <td>Corporate Diversification, Relatedness, and Fi...</td>\n",
       "      <td>한국증권학회</td>\n",
       "      <td>배성철 , 권택호 , 이장우</td>\n",
       "      <td>Asia-Pacific Journal of Financial Studies</td>\n",
       "      <td>37(6)</td>\n",
       "      <td>pp.1025~1064</td>\n",
       "      <td>2008.12</td>\n",
       "      <td>경영학</td>\n",
       "      <td>피인용횟수 : 20</td>\n",
       "      <td>[학술지(정기간행물)]</td>\n",
       "      <td>NaN</td>\n",
       "      <td>Journal of Finance 59 : 479 ~ 506,</td>\n",
       "      <td>Villalonga, Belen</td>\n",
       "      <td>Diversification discount or premium? New Evide...</td>\n",
       "      <td>NaN</td>\n",
       "      <td>2004.0</td>\n",
       "    </tr>\n",
       "    <tr>\n",
       "      <th>37244</th>\n",
       "      <td>Corporate Diversification, Relatedness, and Fi...</td>\n",
       "      <td>한국증권학회</td>\n",
       "      <td>배성철 , 권택호 , 이장우</td>\n",
       "      <td>Asia-Pacific Journal of Financial Studies</td>\n",
       "      <td>37(6)</td>\n",
       "      <td>pp.1025~1064</td>\n",
       "      <td>2008.12</td>\n",
       "      <td>경영학</td>\n",
       "      <td>피인용횟수 : 20</td>\n",
       "      <td>[학술지(정기간행물)]</td>\n",
       "      <td>NaN</td>\n",
       "      <td>Financial Management 33 : 5 ~ 27,</td>\n",
       "      <td>Villalonga, Belen</td>\n",
       "      <td>Does Diversification Cause the Diversification...</td>\n",
       "      <td>NaN</td>\n",
       "      <td>2004.0</td>\n",
       "    </tr>\n",
       "    <tr>\n",
       "      <th>37245</th>\n",
       "      <td>Corporate Diversification, Relatedness, and Fi...</td>\n",
       "      <td>한국증권학회</td>\n",
       "      <td>배성철 , 권택호 , 이장우</td>\n",
       "      <td>Asia-Pacific Journal of Financial Studies</td>\n",
       "      <td>37(6)</td>\n",
       "      <td>pp.1025~1064</td>\n",
       "      <td>2008.12</td>\n",
       "      <td>경영학</td>\n",
       "      <td>피인용횟수 : 20</td>\n",
       "      <td>[학술지(정기간행물)]</td>\n",
       "      <td>NaN</td>\n",
       "      <td>St. John’s Review 44 : 66 ~ 80,</td>\n",
       "      <td>Weston, J. F</td>\n",
       "      <td>The Nature and Significance of Conglomerate Firms</td>\n",
       "      <td>NaN</td>\n",
       "      <td>1970.0</td>\n",
       "    </tr>\n",
       "    <tr>\n",
       "      <th>37246</th>\n",
       "      <td>Corporate Diversification, Relatedness, and Fi...</td>\n",
       "      <td>한국증권학회</td>\n",
       "      <td>배성철 , 권택호 , 이장우</td>\n",
       "      <td>Asia-Pacific Journal of Financial Studies</td>\n",
       "      <td>37(6)</td>\n",
       "      <td>pp.1025~1064</td>\n",
       "      <td>2008.12</td>\n",
       "      <td>경영학</td>\n",
       "      <td>피인용횟수 : 20</td>\n",
       "      <td>[학술지(정기간행물)]</td>\n",
       "      <td>NaN</td>\n",
       "      <td>Journal of Finance 56 : 1667 ~ 1691</td>\n",
       "      <td>Whited, Toni M</td>\n",
       "      <td>Is It Inefficient Investment That Causes the D...</td>\n",
       "      <td>NaN</td>\n",
       "      <td>2001.0</td>\n",
       "    </tr>\n",
       "  </tbody>\n",
       "</table>\n",
       "</div>"
      ],
      "text/plain": [
       "                                        paper_name_infor institution_infor  \\\n",
       "37242  Corporate Diversification, Relatedness, and Fi...           한국증권학회    \n",
       "37243  Corporate Diversification, Relatedness, and Fi...           한국증권학회    \n",
       "37244  Corporate Diversification, Relatedness, and Fi...           한국증권학회    \n",
       "37245  Corporate Diversification, Relatedness, and Fi...           한국증권학회    \n",
       "37246  Corporate Diversification, Relatedness, and Fi...           한국증권학회    \n",
       "\n",
       "           author_infor                                journal_infor  \\\n",
       "37242  배성철 , 권택호 , 이장우    Asia-Pacific Journal of Financial Studies    \n",
       "37243  배성철 , 권택호 , 이장우    Asia-Pacific Journal of Financial Studies    \n",
       "37244  배성철 , 권택호 , 이장우    Asia-Pacific Journal of Financial Studies    \n",
       "37245  배성철 , 권택호 , 이장우    Asia-Pacific Journal of Financial Studies    \n",
       "37246  배성철 , 권택호 , 이장우    Asia-Pacific Journal of Financial Studies    \n",
       "\n",
       "      dont_know_infor      page_infor  year_infor field_infor cited_infor  \\\n",
       "37242          37(6)    pp.1025~1064      2008.12         경영학  피인용횟수 : 20   \n",
       "37243          37(6)    pp.1025~1064      2008.12         경영학  피인용횟수 : 20   \n",
       "37244          37(6)    pp.1025~1064      2008.12         경영학  피인용횟수 : 20   \n",
       "37245          37(6)    pp.1025~1064      2008.12         경영학  피인용횟수 : 20   \n",
       "37246          37(6)    pp.1025~1064      2008.12         경영학  피인용횟수 : 20   \n",
       "\n",
       "         char_refer degree_refer                        journal_refer  \\\n",
       "37242        [기타자료]          NaN                                  NaN   \n",
       "37243  [학술지(정기간행물)]          NaN   Journal of Finance 59 : 479 ~ 506,   \n",
       "37244  [학술지(정기간행물)]          NaN    Financial Management 33 : 5 ~ 27,   \n",
       "37245  [학술지(정기간행물)]          NaN      St. John’s Review 44 : 66 ~ 80,   \n",
       "37246  [학술지(정기간행물)]          NaN  Journal of Finance 56 : 1667 ~ 1691   \n",
       "\n",
       "               name_refer                                        paper_refer  \\\n",
       "37242   Villalonga, Belen  Does Diversification Cause the “Diversificatio...   \n",
       "37243   Villalonga, Belen  Diversification discount or premium? New Evide...   \n",
       "37244   Villalonga, Belen  Does Diversification Cause the Diversification...   \n",
       "37245        Weston, J. F  The Nature and Significance of Conglomerate Firms   \n",
       "37246      Whited, Toni M  Is It Inefficient Investment That Causes the D...   \n",
       "\n",
       "      school_refer  year_refer  \n",
       "37242          NaN      1999.0  \n",
       "37243          NaN      2004.0  \n",
       "37244          NaN      2004.0  \n",
       "37245          NaN      1970.0  \n",
       "37246          NaN      2001.0  "
      ]
     },
     "execution_count": 352,
     "metadata": {},
     "output_type": "execute_result"
    }
   ],
   "source": [
    "df.tail()"
   ]
  },
  {
   "cell_type": "markdown",
   "metadata": {},
   "source": [
    "## 정리\n",
    "- 4개짜리 리스트 (8071개)\n",
    "    - 논문의 특성\n",
    "    - 이름(공백이라고 해도 무방)\n",
    "    - 년도\n",
    "    - 논문 이름(저널이름이 함께 포함되어 있는 경우가 있음, Journal만 있는 경우가 900개 넘는다.)\n",
    "- 5개짜리 리스트 (28840개)\n",
    "    - 논문의 특성\n",
    "    - 이름\n",
    "    - 년도\n",
    "    - 논문의 이름\n",
    "    - 저널의 이름\n",
    "- 6개짜리 리스트 (94개)\n",
    "    - 논문의 특성\n",
    "    - 이름\n",
    "    - 년도\n",
    "    - 논문의 이름\n",
    "    - 저자의 학위\n",
    "    - 저자의 소속"
   ]
  },
  {
   "cell_type": "code",
   "execution_count": 353,
   "metadata": {
    "scrolled": true
   },
   "outputs": [
    {
     "data": {
      "text/plain": [
       "(8071, 28840, 94)"
      ]
     },
     "execution_count": 353,
     "metadata": {},
     "output_type": "execute_result"
    }
   ],
   "source": [
    "(len([i for i in tuned_new_refer if len(i) == 4]),\n",
    "len([i for i in tuned_new_refer if len(i) == 5]),\n",
    "len([i for i in tuned_new_refer if len(i) == 6]))"
   ]
  },
  {
   "cell_type": "code",
   "execution_count": 354,
   "metadata": {},
   "outputs": [
    {
     "data": {
      "text/plain": [
       "['53. [보고서]',\n",
       " ' New York Stock Exchange',\n",
       " '1991',\n",
       " 'The Rule 80A Index Arbitrage Tick Test: Report to the U.S. Securities and Exchange Commission,']"
      ]
     },
     "execution_count": 354,
     "metadata": {},
     "output_type": "execute_result"
    }
   ],
   "source": [
    "[i for i in tuned_new_refer if len(i) == 4][0]"
   ]
  },
  {
   "cell_type": "code",
   "execution_count": 355,
   "metadata": {},
   "outputs": [
    {
     "data": {
      "text/plain": [
       "['1. [학술지(정기간행물)]',\n",
       " ' 고봉찬',\n",
       " '2007',\n",
       " '발생액 이상현상에 대한 위험평가',\n",
       " 'Asia-Pacific Journal of Financial Studies 36 (3) : 425 ~ 461,']"
      ]
     },
     "execution_count": 355,
     "metadata": {},
     "output_type": "execute_result"
    }
   ],
   "source": [
    "[i for i in tuned_new_refer if len(i) == 5][0]"
   ]
  },
  {
   "cell_type": "code",
   "execution_count": 356,
   "metadata": {},
   "outputs": [
    {
     "data": {
      "text/plain": [
       "['10. [학위논문]',\n",
       " ' 張榮光',\n",
       " '1985',\n",
       " '企業合倂과 株式取得이 株主의 富에 미치는 影響에 關한 實證的 硏究',\n",
       " '박사',\n",
       " '고려대학교 대학원,']"
      ]
     },
     "execution_count": 356,
     "metadata": {},
     "output_type": "execute_result"
    }
   ],
   "source": [
    "[i for i in tuned_new_refer if len(i) == 6][0]"
   ]
  },
  {
   "cell_type": "markdown",
   "metadata": {},
   "source": [
    "# ! 34,50,52 부분을 교수님께 여쭈어보아야 한다."
   ]
  },
  {
   "cell_type": "markdown",
   "metadata": {},
   "source": [
    "- link\n",
    "- raw data\n",
    "- character"
   ]
  },
  {
   "cell_type": "markdown",
   "metadata": {},
   "source": [
    "- cited = 0 \n",
    "- 2007년부터 신뢰성\n",
    "- 연도별 , 저널별 , 한 사이팅 페이터가 몇 개의 사이티드 페이\n",
    "- 시간별로 연도별 , 저널별 평균값을 취해서 신뢰성을 체크"
   ]
  }
 ],
 "metadata": {
  "kernelspec": {
   "display_name": "Python 3",
   "language": "python",
   "name": "python3"
  },
  "language_info": {
   "codemirror_mode": {
    "name": "ipython",
    "version": 3
   },
   "file_extension": ".py",
   "mimetype": "text/x-python",
   "name": "python",
   "nbconvert_exporter": "python",
   "pygments_lexer": "ipython3",
   "version": "3.6.3"
  }
 },
 "nbformat": 4,
 "nbformat_minor": 2
}
