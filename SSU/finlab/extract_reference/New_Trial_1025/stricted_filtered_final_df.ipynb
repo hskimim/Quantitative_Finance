{
 "cells": [
  {
   "cell_type": "code",
   "execution_count": 135,
   "metadata": {
    "collapsed": true
   },
   "outputs": [],
   "source": [
    "import pandas as pd\n",
    "import numpy as np\n",
    "from collections import Counter"
   ]
  },
  {
   "cell_type": "code",
   "execution_count": 136,
   "metadata": {},
   "outputs": [
    {
     "data": {
      "text/html": [
       "<div>\n",
       "<style>\n",
       "    .dataframe thead tr:only-child th {\n",
       "        text-align: right;\n",
       "    }\n",
       "\n",
       "    .dataframe thead th {\n",
       "        text-align: left;\n",
       "    }\n",
       "\n",
       "    .dataframe tbody tr th {\n",
       "        vertical-align: top;\n",
       "    }\n",
       "</style>\n",
       "<table border=\"1\" class=\"dataframe\">\n",
       "  <thead>\n",
       "    <tr style=\"text-align: right;\">\n",
       "      <th></th>\n",
       "      <th>paper_name_infor</th>\n",
       "      <th>institution_infor</th>\n",
       "      <th>author_infor</th>\n",
       "      <th>journal_infor</th>\n",
       "      <th>dont_know_infor</th>\n",
       "      <th>page_infor</th>\n",
       "      <th>year_infor</th>\n",
       "      <th>field_infor</th>\n",
       "      <th>cited_infor</th>\n",
       "      <th>char_refer</th>\n",
       "      <th>degree_refer</th>\n",
       "      <th>journal_refer</th>\n",
       "      <th>name_refer</th>\n",
       "      <th>paper_refer</th>\n",
       "      <th>school_refer</th>\n",
       "      <th>year_refer</th>\n",
       "    </tr>\n",
       "  </thead>\n",
       "  <tbody>\n",
       "    <tr>\n",
       "      <th>37242</th>\n",
       "      <td>Corporate Diversification, Relatedness, and Fi...</td>\n",
       "      <td>한국증권학회</td>\n",
       "      <td>배성철 , 권택호 , 이장우</td>\n",
       "      <td>Asia-Pacific Journal of Financial Studies</td>\n",
       "      <td>37(6)</td>\n",
       "      <td>pp.1025~1064</td>\n",
       "      <td>2008.12</td>\n",
       "      <td>경영학</td>\n",
       "      <td>피인용횟수 : 20</td>\n",
       "      <td>[기타자료]</td>\n",
       "      <td>NaN</td>\n",
       "      <td>Working paper, Harvard University,</td>\n",
       "      <td>Villalonga, Belen</td>\n",
       "      <td>Does Diversification Cause the “Diversificatio...</td>\n",
       "      <td>NaN</td>\n",
       "      <td>1999.0</td>\n",
       "    </tr>\n",
       "    <tr>\n",
       "      <th>37243</th>\n",
       "      <td>Corporate Diversification, Relatedness, and Fi...</td>\n",
       "      <td>한국증권학회</td>\n",
       "      <td>배성철 , 권택호 , 이장우</td>\n",
       "      <td>Asia-Pacific Journal of Financial Studies</td>\n",
       "      <td>37(6)</td>\n",
       "      <td>pp.1025~1064</td>\n",
       "      <td>2008.12</td>\n",
       "      <td>경영학</td>\n",
       "      <td>피인용횟수 : 20</td>\n",
       "      <td>[학술지(정기간행물)]</td>\n",
       "      <td>NaN</td>\n",
       "      <td>Journal of Finance 59 : 479 ~ 506,</td>\n",
       "      <td>Villalonga, Belen</td>\n",
       "      <td>Diversification discount or premium? New Evide...</td>\n",
       "      <td>NaN</td>\n",
       "      <td>2004.0</td>\n",
       "    </tr>\n",
       "    <tr>\n",
       "      <th>37244</th>\n",
       "      <td>Corporate Diversification, Relatedness, and Fi...</td>\n",
       "      <td>한국증권학회</td>\n",
       "      <td>배성철 , 권택호 , 이장우</td>\n",
       "      <td>Asia-Pacific Journal of Financial Studies</td>\n",
       "      <td>37(6)</td>\n",
       "      <td>pp.1025~1064</td>\n",
       "      <td>2008.12</td>\n",
       "      <td>경영학</td>\n",
       "      <td>피인용횟수 : 20</td>\n",
       "      <td>[학술지(정기간행물)]</td>\n",
       "      <td>NaN</td>\n",
       "      <td>Financial Management 33 : 5 ~ 27,</td>\n",
       "      <td>Villalonga, Belen</td>\n",
       "      <td>Does Diversification Cause the Diversification...</td>\n",
       "      <td>NaN</td>\n",
       "      <td>2004.0</td>\n",
       "    </tr>\n",
       "    <tr>\n",
       "      <th>37245</th>\n",
       "      <td>Corporate Diversification, Relatedness, and Fi...</td>\n",
       "      <td>한국증권학회</td>\n",
       "      <td>배성철 , 권택호 , 이장우</td>\n",
       "      <td>Asia-Pacific Journal of Financial Studies</td>\n",
       "      <td>37(6)</td>\n",
       "      <td>pp.1025~1064</td>\n",
       "      <td>2008.12</td>\n",
       "      <td>경영학</td>\n",
       "      <td>피인용횟수 : 20</td>\n",
       "      <td>[학술지(정기간행물)]</td>\n",
       "      <td>NaN</td>\n",
       "      <td>St. John’s Review 44 : 66 ~ 80,</td>\n",
       "      <td>Weston, J. F</td>\n",
       "      <td>The Nature and Significance of Conglomerate Firms</td>\n",
       "      <td>NaN</td>\n",
       "      <td>1970.0</td>\n",
       "    </tr>\n",
       "    <tr>\n",
       "      <th>37246</th>\n",
       "      <td>Corporate Diversification, Relatedness, and Fi...</td>\n",
       "      <td>한국증권학회</td>\n",
       "      <td>배성철 , 권택호 , 이장우</td>\n",
       "      <td>Asia-Pacific Journal of Financial Studies</td>\n",
       "      <td>37(6)</td>\n",
       "      <td>pp.1025~1064</td>\n",
       "      <td>2008.12</td>\n",
       "      <td>경영학</td>\n",
       "      <td>피인용횟수 : 20</td>\n",
       "      <td>[학술지(정기간행물)]</td>\n",
       "      <td>NaN</td>\n",
       "      <td>Journal of Finance 56 : 1667 ~ 1691</td>\n",
       "      <td>Whited, Toni M</td>\n",
       "      <td>Is It Inefficient Investment That Causes the D...</td>\n",
       "      <td>NaN</td>\n",
       "      <td>2001.0</td>\n",
       "    </tr>\n",
       "  </tbody>\n",
       "</table>\n",
       "</div>"
      ],
      "text/plain": [
       "                                        paper_name_infor institution_infor  \\\n",
       "37242  Corporate Diversification, Relatedness, and Fi...           한국증권학회    \n",
       "37243  Corporate Diversification, Relatedness, and Fi...           한국증권학회    \n",
       "37244  Corporate Diversification, Relatedness, and Fi...           한국증권학회    \n",
       "37245  Corporate Diversification, Relatedness, and Fi...           한국증권학회    \n",
       "37246  Corporate Diversification, Relatedness, and Fi...           한국증권학회    \n",
       "\n",
       "           author_infor                                journal_infor  \\\n",
       "37242  배성철 , 권택호 , 이장우    Asia-Pacific Journal of Financial Studies    \n",
       "37243  배성철 , 권택호 , 이장우    Asia-Pacific Journal of Financial Studies    \n",
       "37244  배성철 , 권택호 , 이장우    Asia-Pacific Journal of Financial Studies    \n",
       "37245  배성철 , 권택호 , 이장우    Asia-Pacific Journal of Financial Studies    \n",
       "37246  배성철 , 권택호 , 이장우    Asia-Pacific Journal of Financial Studies    \n",
       "\n",
       "      dont_know_infor      page_infor  year_infor field_infor cited_infor  \\\n",
       "37242          37(6)    pp.1025~1064      2008.12         경영학  피인용횟수 : 20   \n",
       "37243          37(6)    pp.1025~1064      2008.12         경영학  피인용횟수 : 20   \n",
       "37244          37(6)    pp.1025~1064      2008.12         경영학  피인용횟수 : 20   \n",
       "37245          37(6)    pp.1025~1064      2008.12         경영학  피인용횟수 : 20   \n",
       "37246          37(6)    pp.1025~1064      2008.12         경영학  피인용횟수 : 20   \n",
       "\n",
       "         char_refer degree_refer                        journal_refer  \\\n",
       "37242        [기타자료]          NaN   Working paper, Harvard University,   \n",
       "37243  [학술지(정기간행물)]          NaN   Journal of Finance 59 : 479 ~ 506,   \n",
       "37244  [학술지(정기간행물)]          NaN    Financial Management 33 : 5 ~ 27,   \n",
       "37245  [학술지(정기간행물)]          NaN      St. John’s Review 44 : 66 ~ 80,   \n",
       "37246  [학술지(정기간행물)]          NaN  Journal of Finance 56 : 1667 ~ 1691   \n",
       "\n",
       "               name_refer                                        paper_refer  \\\n",
       "37242   Villalonga, Belen  Does Diversification Cause the “Diversificatio...   \n",
       "37243   Villalonga, Belen  Diversification discount or premium? New Evide...   \n",
       "37244   Villalonga, Belen  Does Diversification Cause the Diversification...   \n",
       "37245        Weston, J. F  The Nature and Significance of Conglomerate Firms   \n",
       "37246      Whited, Toni M  Is It Inefficient Investment That Causes the D...   \n",
       "\n",
       "      school_refer  year_refer  \n",
       "37242          NaN      1999.0  \n",
       "37243          NaN      2004.0  \n",
       "37244          NaN      2004.0  \n",
       "37245          NaN      1970.0  \n",
       "37246          NaN      2001.0  "
      ]
     },
     "execution_count": 136,
     "metadata": {},
     "output_type": "execute_result"
    }
   ],
   "source": [
    "df = pd.read_csv(\"new_tuned_references.csv\")\n",
    "df.tail()"
   ]
  },
  {
   "cell_type": "code",
   "execution_count": 137,
   "metadata": {},
   "outputs": [
    {
     "data": {
      "text/plain": [
       "(Counter({'[학술지(정기간행물)]': 32848,\n",
       "          '[기타자료]': 562,\n",
       "          '[단행본]': 1084,\n",
       "          '[보고서]': 2027,\n",
       "          '[학술대회논문]': 385,\n",
       "          '[학위논문]': 99,\n",
       "          nan: 242}),\n",
       " 37247)"
      ]
     },
     "execution_count": 137,
     "metadata": {},
     "output_type": "execute_result"
    }
   ],
   "source": [
    "Counter(df['char_refer'].values) , len(df)"
   ]
  },
  {
   "cell_type": "markdown",
   "metadata": {},
   "source": [
    "# 학술지 정상 관측치 찾기"
   ]
  },
  {
   "cell_type": "code",
   "execution_count": 138,
   "metadata": {},
   "outputs": [
    {
     "data": {
      "text/plain": [
       "paper_name_infor         0\n",
       "institution_infor        0\n",
       "author_infor             0\n",
       "journal_infor            0\n",
       "dont_know_infor          0\n",
       "page_infor               0\n",
       "year_infor               0\n",
       "field_infor              0\n",
       "cited_infor              0\n",
       "char_refer               0\n",
       "degree_refer         32848\n",
       "journal_refer         4428\n",
       "name_refer            4220\n",
       "paper_refer            400\n",
       "school_refer         32848\n",
       "year_refer               0\n",
       "dtype: int64"
      ]
     },
     "execution_count": 138,
     "metadata": {},
     "output_type": "execute_result"
    }
   ],
   "source": [
    "df[df['char_refer'] == '[학술지(정기간행물)]'].isnull().sum()"
   ]
  },
  {
   "cell_type": "code",
   "execution_count": 139,
   "metadata": {},
   "outputs": [
    {
     "data": {
      "text/plain": [
       "[2973, 9016, 9017, 9018, 9021]"
      ]
     },
     "execution_count": 139,
     "metadata": {},
     "output_type": "execute_result"
    }
   ],
   "source": [
    "journal_nan_idx = df[df['char_refer'] == '[학술지(정기간행물)]'][df[df['char_refer'] == '[학술지(정기간행물)]']['journal_refer'].isnull()].index.tolist()\n",
    "journal_nan_idx[:5]"
   ]
  },
  {
   "cell_type": "code",
   "execution_count": 140,
   "metadata": {},
   "outputs": [
    {
     "data": {
      "text/plain": [
       "[9122, 21732, 21733, 21734, 21735]"
      ]
     },
     "execution_count": 140,
     "metadata": {},
     "output_type": "execute_result"
    }
   ],
   "source": [
    "name_nan_idx = df[df['char_refer'] == '[학술지(정기간행물)]'][df[df['char_refer'] == '[학술지(정기간행물)]']['name_refer'].isnull()].index.tolist()\n",
    "name_nan_idx[:5]"
   ]
  },
  {
   "cell_type": "code",
   "execution_count": 141,
   "metadata": {},
   "outputs": [
    {
     "data": {
      "text/plain": [
       "[1173, 1195, 1249, 1264, 2116]"
      ]
     },
     "execution_count": 141,
     "metadata": {},
     "output_type": "execute_result"
    }
   ],
   "source": [
    "paper_nan_idx = df[df['char_refer'] == '[학술지(정기간행물)]'][df[df['char_refer'] == '[학술지(정기간행물)]']['paper_refer'].isnull()].index.tolist()\n",
    "paper_nan_idx[:5]"
   ]
  },
  {
   "cell_type": "code",
   "execution_count": 142,
   "metadata": {},
   "outputs": [
    {
     "data": {
      "text/plain": [
       "5482"
      ]
     },
     "execution_count": 142,
     "metadata": {},
     "output_type": "execute_result"
    }
   ],
   "source": [
    "problem_idx = set(journal_nan_idx).union(set(name_nan_idx)).union(paper_nan_idx)\n",
    "len(problem_idx)"
   ]
  },
  {
   "cell_type": "code",
   "execution_count": 143,
   "metadata": {},
   "outputs": [
    {
     "data": {
      "text/plain": [
       "[0, 1, 2, 3, 4]"
      ]
     },
     "execution_count": 143,
     "metadata": {},
     "output_type": "execute_result"
    }
   ],
   "source": [
    "normal_idx = sorted(list(set(df[df['char_refer'] == '[학술지(정기간행물)]'].index).difference(set(problem_idx))))\n",
    "normal_idx[:5]"
   ]
  },
  {
   "cell_type": "code",
   "execution_count": 144,
   "metadata": {},
   "outputs": [
    {
     "data": {
      "text/html": [
       "<div>\n",
       "<style>\n",
       "    .dataframe thead tr:only-child th {\n",
       "        text-align: right;\n",
       "    }\n",
       "\n",
       "    .dataframe thead th {\n",
       "        text-align: left;\n",
       "    }\n",
       "\n",
       "    .dataframe tbody tr th {\n",
       "        vertical-align: top;\n",
       "    }\n",
       "</style>\n",
       "<table border=\"1\" class=\"dataframe\">\n",
       "  <thead>\n",
       "    <tr style=\"text-align: right;\">\n",
       "      <th></th>\n",
       "      <th>paper_name_infor</th>\n",
       "      <th>institution_infor</th>\n",
       "      <th>author_infor</th>\n",
       "      <th>journal_infor</th>\n",
       "      <th>dont_know_infor</th>\n",
       "      <th>page_infor</th>\n",
       "      <th>year_infor</th>\n",
       "      <th>field_infor</th>\n",
       "      <th>cited_infor</th>\n",
       "      <th>char_refer</th>\n",
       "      <th>degree_refer</th>\n",
       "      <th>journal_refer</th>\n",
       "      <th>name_refer</th>\n",
       "      <th>paper_refer</th>\n",
       "      <th>school_refer</th>\n",
       "      <th>year_refer</th>\n",
       "    </tr>\n",
       "  </thead>\n",
       "  <tbody>\n",
       "    <tr>\n",
       "      <th>37241</th>\n",
       "      <td>Corporate Diversification, Relatedness, and Fi...</td>\n",
       "      <td>한국증권학회</td>\n",
       "      <td>배성철 , 권택호 , 이장우</td>\n",
       "      <td>Asia-Pacific Journal of Financial Studies</td>\n",
       "      <td>37(6)</td>\n",
       "      <td>pp.1025~1064</td>\n",
       "      <td>2008.12</td>\n",
       "      <td>경영학</td>\n",
       "      <td>피인용횟수 : 20</td>\n",
       "      <td>[학술지(정기간행물)]</td>\n",
       "      <td>NaN</td>\n",
       "      <td>Journal of Financial Economics 26 : 3 ~ 27,</td>\n",
       "      <td>Stulz, Ren?M</td>\n",
       "      <td>Managerial Direction and Optimal Financing Pol...</td>\n",
       "      <td>NaN</td>\n",
       "      <td>1990.0</td>\n",
       "    </tr>\n",
       "    <tr>\n",
       "      <th>37243</th>\n",
       "      <td>Corporate Diversification, Relatedness, and Fi...</td>\n",
       "      <td>한국증권학회</td>\n",
       "      <td>배성철 , 권택호 , 이장우</td>\n",
       "      <td>Asia-Pacific Journal of Financial Studies</td>\n",
       "      <td>37(6)</td>\n",
       "      <td>pp.1025~1064</td>\n",
       "      <td>2008.12</td>\n",
       "      <td>경영학</td>\n",
       "      <td>피인용횟수 : 20</td>\n",
       "      <td>[학술지(정기간행물)]</td>\n",
       "      <td>NaN</td>\n",
       "      <td>Journal of Finance 59 : 479 ~ 506,</td>\n",
       "      <td>Villalonga, Belen</td>\n",
       "      <td>Diversification discount or premium? New Evide...</td>\n",
       "      <td>NaN</td>\n",
       "      <td>2004.0</td>\n",
       "    </tr>\n",
       "    <tr>\n",
       "      <th>37244</th>\n",
       "      <td>Corporate Diversification, Relatedness, and Fi...</td>\n",
       "      <td>한국증권학회</td>\n",
       "      <td>배성철 , 권택호 , 이장우</td>\n",
       "      <td>Asia-Pacific Journal of Financial Studies</td>\n",
       "      <td>37(6)</td>\n",
       "      <td>pp.1025~1064</td>\n",
       "      <td>2008.12</td>\n",
       "      <td>경영학</td>\n",
       "      <td>피인용횟수 : 20</td>\n",
       "      <td>[학술지(정기간행물)]</td>\n",
       "      <td>NaN</td>\n",
       "      <td>Financial Management 33 : 5 ~ 27,</td>\n",
       "      <td>Villalonga, Belen</td>\n",
       "      <td>Does Diversification Cause the Diversification...</td>\n",
       "      <td>NaN</td>\n",
       "      <td>2004.0</td>\n",
       "    </tr>\n",
       "    <tr>\n",
       "      <th>37245</th>\n",
       "      <td>Corporate Diversification, Relatedness, and Fi...</td>\n",
       "      <td>한국증권학회</td>\n",
       "      <td>배성철 , 권택호 , 이장우</td>\n",
       "      <td>Asia-Pacific Journal of Financial Studies</td>\n",
       "      <td>37(6)</td>\n",
       "      <td>pp.1025~1064</td>\n",
       "      <td>2008.12</td>\n",
       "      <td>경영학</td>\n",
       "      <td>피인용횟수 : 20</td>\n",
       "      <td>[학술지(정기간행물)]</td>\n",
       "      <td>NaN</td>\n",
       "      <td>St. John’s Review 44 : 66 ~ 80,</td>\n",
       "      <td>Weston, J. F</td>\n",
       "      <td>The Nature and Significance of Conglomerate Firms</td>\n",
       "      <td>NaN</td>\n",
       "      <td>1970.0</td>\n",
       "    </tr>\n",
       "    <tr>\n",
       "      <th>37246</th>\n",
       "      <td>Corporate Diversification, Relatedness, and Fi...</td>\n",
       "      <td>한국증권학회</td>\n",
       "      <td>배성철 , 권택호 , 이장우</td>\n",
       "      <td>Asia-Pacific Journal of Financial Studies</td>\n",
       "      <td>37(6)</td>\n",
       "      <td>pp.1025~1064</td>\n",
       "      <td>2008.12</td>\n",
       "      <td>경영학</td>\n",
       "      <td>피인용횟수 : 20</td>\n",
       "      <td>[학술지(정기간행물)]</td>\n",
       "      <td>NaN</td>\n",
       "      <td>Journal of Finance 56 : 1667 ~ 1691</td>\n",
       "      <td>Whited, Toni M</td>\n",
       "      <td>Is It Inefficient Investment That Causes the D...</td>\n",
       "      <td>NaN</td>\n",
       "      <td>2001.0</td>\n",
       "    </tr>\n",
       "  </tbody>\n",
       "</table>\n",
       "</div>"
      ],
      "text/plain": [
       "                                        paper_name_infor institution_infor  \\\n",
       "37241  Corporate Diversification, Relatedness, and Fi...           한국증권학회    \n",
       "37243  Corporate Diversification, Relatedness, and Fi...           한국증권학회    \n",
       "37244  Corporate Diversification, Relatedness, and Fi...           한국증권학회    \n",
       "37245  Corporate Diversification, Relatedness, and Fi...           한국증권학회    \n",
       "37246  Corporate Diversification, Relatedness, and Fi...           한국증권학회    \n",
       "\n",
       "           author_infor                                journal_infor  \\\n",
       "37241  배성철 , 권택호 , 이장우    Asia-Pacific Journal of Financial Studies    \n",
       "37243  배성철 , 권택호 , 이장우    Asia-Pacific Journal of Financial Studies    \n",
       "37244  배성철 , 권택호 , 이장우    Asia-Pacific Journal of Financial Studies    \n",
       "37245  배성철 , 권택호 , 이장우    Asia-Pacific Journal of Financial Studies    \n",
       "37246  배성철 , 권택호 , 이장우    Asia-Pacific Journal of Financial Studies    \n",
       "\n",
       "      dont_know_infor      page_infor  year_infor field_infor cited_infor  \\\n",
       "37241          37(6)    pp.1025~1064      2008.12         경영학  피인용횟수 : 20   \n",
       "37243          37(6)    pp.1025~1064      2008.12         경영학  피인용횟수 : 20   \n",
       "37244          37(6)    pp.1025~1064      2008.12         경영학  피인용횟수 : 20   \n",
       "37245          37(6)    pp.1025~1064      2008.12         경영학  피인용횟수 : 20   \n",
       "37246          37(6)    pp.1025~1064      2008.12         경영학  피인용횟수 : 20   \n",
       "\n",
       "         char_refer degree_refer                                journal_refer  \\\n",
       "37241  [학술지(정기간행물)]          NaN  Journal of Financial Economics 26 : 3 ~ 27,   \n",
       "37243  [학술지(정기간행물)]          NaN           Journal of Finance 59 : 479 ~ 506,   \n",
       "37244  [학술지(정기간행물)]          NaN            Financial Management 33 : 5 ~ 27,   \n",
       "37245  [학술지(정기간행물)]          NaN              St. John’s Review 44 : 66 ~ 80,   \n",
       "37246  [학술지(정기간행물)]          NaN          Journal of Finance 56 : 1667 ~ 1691   \n",
       "\n",
       "               name_refer                                        paper_refer  \\\n",
       "37241        Stulz, Ren?M  Managerial Direction and Optimal Financing Pol...   \n",
       "37243   Villalonga, Belen  Diversification discount or premium? New Evide...   \n",
       "37244   Villalonga, Belen  Does Diversification Cause the Diversification...   \n",
       "37245        Weston, J. F  The Nature and Significance of Conglomerate Firms   \n",
       "37246      Whited, Toni M  Is It Inefficient Investment That Causes the D...   \n",
       "\n",
       "      school_refer  year_refer  \n",
       "37241          NaN      1990.0  \n",
       "37243          NaN      2004.0  \n",
       "37244          NaN      2004.0  \n",
       "37245          NaN      1970.0  \n",
       "37246          NaN      2001.0  "
      ]
     },
     "execution_count": 144,
     "metadata": {},
     "output_type": "execute_result"
    }
   ],
   "source": [
    "학술지_df = df[df['char_refer'] == '[학술지(정기간행물)]'].loc[normal_idx]\n",
    "학술지_df.tail()"
   ]
  },
  {
   "cell_type": "code",
   "execution_count": 145,
   "metadata": {},
   "outputs": [
    {
     "data": {
      "text/plain": [
       "(paper_name_infor         0\n",
       " institution_infor        0\n",
       " author_infor             0\n",
       " journal_infor            0\n",
       " dont_know_infor          0\n",
       " page_infor               0\n",
       " year_infor               0\n",
       " field_infor              0\n",
       " cited_infor              0\n",
       " char_refer               0\n",
       " degree_refer         27366\n",
       " journal_refer            0\n",
       " name_refer               0\n",
       " paper_refer              0\n",
       " school_refer         27366\n",
       " year_refer               0\n",
       " dtype: int64, (27366, 16))"
      ]
     },
     "execution_count": 145,
     "metadata": {},
     "output_type": "execute_result"
    }
   ],
   "source": [
    "학술지_df.isnull().sum() , 학술지_df.shape"
   ]
  },
  {
   "cell_type": "markdown",
   "metadata": {},
   "source": [
    "# 학술대회논문 정상 관측치 찾기"
   ]
  },
  {
   "cell_type": "code",
   "execution_count": 97,
   "metadata": {
    "scrolled": true
   },
   "outputs": [
    {
     "data": {
      "text/plain": [
       "paper_name_infor       0\n",
       "institution_infor      0\n",
       "author_infor           0\n",
       "journal_infor          0\n",
       "dont_know_infor        0\n",
       "page_infor             0\n",
       "year_infor             0\n",
       "field_infor            0\n",
       "cited_infor            0\n",
       "char_refer             0\n",
       "degree_refer         385\n",
       "journal_refer          2\n",
       "name_refer             0\n",
       "paper_refer            0\n",
       "school_refer         385\n",
       "year_refer             0\n",
       "dtype: int64"
      ]
     },
     "execution_count": 97,
     "metadata": {},
     "output_type": "execute_result"
    }
   ],
   "source": [
    "df[df['char_refer'] == '[학술대회논문]'].isnull().sum()"
   ]
  },
  {
   "cell_type": "code",
   "execution_count": 98,
   "metadata": {
    "scrolled": true
   },
   "outputs": [
    {
     "data": {
      "text/plain": [
       "[16358, 29290]"
      ]
     },
     "execution_count": 98,
     "metadata": {},
     "output_type": "execute_result"
    }
   ],
   "source": [
    "journal_idx1 =sorted(list(set(np.where(df['char_refer'] == '[학술대회논문]')[0].tolist()).intersection(set(np.where(df['journal_refer'].isnull())[0].tolist()))))\n",
    "journal_idx1"
   ]
  },
  {
   "cell_type": "code",
   "execution_count": 99,
   "metadata": {
    "collapsed": true
   },
   "outputs": [],
   "source": [
    "normal_idx = sorted(list(set(df[df['char_refer'] == '[학술대회논문]'].index).difference(set(journal_idx1))))"
   ]
  },
  {
   "cell_type": "code",
   "execution_count": 100,
   "metadata": {},
   "outputs": [
    {
     "data": {
      "text/html": [
       "<div>\n",
       "<style>\n",
       "    .dataframe thead tr:only-child th {\n",
       "        text-align: right;\n",
       "    }\n",
       "\n",
       "    .dataframe thead th {\n",
       "        text-align: left;\n",
       "    }\n",
       "\n",
       "    .dataframe tbody tr th {\n",
       "        vertical-align: top;\n",
       "    }\n",
       "</style>\n",
       "<table border=\"1\" class=\"dataframe\">\n",
       "  <thead>\n",
       "    <tr style=\"text-align: right;\">\n",
       "      <th></th>\n",
       "      <th>paper_name_infor</th>\n",
       "      <th>institution_infor</th>\n",
       "      <th>author_infor</th>\n",
       "      <th>journal_infor</th>\n",
       "      <th>dont_know_infor</th>\n",
       "      <th>page_infor</th>\n",
       "      <th>year_infor</th>\n",
       "      <th>field_infor</th>\n",
       "      <th>cited_infor</th>\n",
       "      <th>char_refer</th>\n",
       "      <th>degree_refer</th>\n",
       "      <th>journal_refer</th>\n",
       "      <th>name_refer</th>\n",
       "      <th>paper_refer</th>\n",
       "      <th>school_refer</th>\n",
       "      <th>year_refer</th>\n",
       "    </tr>\n",
       "  </thead>\n",
       "  <tbody>\n",
       "    <tr>\n",
       "      <th>36747</th>\n",
       "      <td>An Enhanced Method for Valuation of IT Investm...</td>\n",
       "      <td>한국증권학회</td>\n",
       "      <td>Beum-Jo Park</td>\n",
       "      <td>Asia-Pacific Journal of Financial Studies</td>\n",
       "      <td>37(4)</td>\n",
       "      <td>pp.727~763</td>\n",
       "      <td>2008.08</td>\n",
       "      <td>경영학</td>\n",
       "      <td>피인용횟수 : 1</td>\n",
       "      <td>[학술대회논문]</td>\n",
       "      <td>NaN</td>\n",
       "      <td>Proceedings of the 37th Annual Hawaii Internat...</td>\n",
       "      <td>Bardhan, I</td>\n",
       "      <td>A real options approach for prioritization of ...</td>\n",
       "      <td>NaN</td>\n",
       "      <td>2004.0</td>\n",
       "    </tr>\n",
       "    <tr>\n",
       "      <th>36768</th>\n",
       "      <td>An Enhanced Method for Valuation of IT Investm...</td>\n",
       "      <td>한국증권학회</td>\n",
       "      <td>Beum-Jo Park</td>\n",
       "      <td>Asia-Pacific Journal of Financial Studies</td>\n",
       "      <td>37(4)</td>\n",
       "      <td>pp.727~763</td>\n",
       "      <td>2008.08</td>\n",
       "      <td>경영학</td>\n",
       "      <td>피인용횟수 : 1</td>\n",
       "      <td>[학술대회논문]</td>\n",
       "      <td>NaN</td>\n",
       "      <td>presented at the 5th annual conference on real...</td>\n",
       "      <td>Gamba, A</td>\n",
       "      <td>A Log-transformed binomial lattice extension f...</td>\n",
       "      <td>NaN</td>\n",
       "      <td>2001.0</td>\n",
       "    </tr>\n",
       "    <tr>\n",
       "      <th>36914</th>\n",
       "      <td>An Empirical Study on the Relationship between...</td>\n",
       "      <td>한국증권학회</td>\n",
       "      <td>최정호</td>\n",
       "      <td>Asia-Pacific Journal of Financial Studies</td>\n",
       "      <td>37(5)</td>\n",
       "      <td>pp.813~839</td>\n",
       "      <td>2008.10</td>\n",
       "      <td>경영학</td>\n",
       "      <td>피인용횟수 : 41</td>\n",
       "      <td>[학술대회논문]</td>\n",
       "      <td>NaN</td>\n",
       "      <td>Corporate Governance on the Bond Spreads,Proce...</td>\n",
       "      <td>신현한</td>\n",
       "      <td>pp.89-122.(Translated in English)Shin,Hyun-Han...</td>\n",
       "      <td>NaN</td>\n",
       "      <td>2004.0</td>\n",
       "    </tr>\n",
       "    <tr>\n",
       "      <th>36916</th>\n",
       "      <td>An Empirical Study on the Relationship between...</td>\n",
       "      <td>한국증권학회</td>\n",
       "      <td>최정호</td>\n",
       "      <td>Asia-Pacific Journal of Financial Studies</td>\n",
       "      <td>37(5)</td>\n",
       "      <td>pp.813~839</td>\n",
       "      <td>2008.10</td>\n",
       "      <td>경영학</td>\n",
       "      <td>피인용횟수 : 41</td>\n",
       "      <td>[학술대회논문]</td>\n",
       "      <td>NaN</td>\n",
       "      <td>2004년도 한국회계학회 하계학술발표대회,</td>\n",
       "      <td>이세용</td>\n",
       "      <td>우리나라의 기업지배구조와 기업가치 사이의 관계에 대한 연구</td>\n",
       "      <td>NaN</td>\n",
       "      <td>2004.0</td>\n",
       "    </tr>\n",
       "    <tr>\n",
       "      <th>36917</th>\n",
       "      <td>An Empirical Study on the Relationship between...</td>\n",
       "      <td>한국증권학회</td>\n",
       "      <td>최정호</td>\n",
       "      <td>Asia-Pacific Journal of Financial Studies</td>\n",
       "      <td>37(5)</td>\n",
       "      <td>pp.813~839</td>\n",
       "      <td>2008.10</td>\n",
       "      <td>경영학</td>\n",
       "      <td>피인용횟수 : 41</td>\n",
       "      <td>[학술대회논문]</td>\n",
       "      <td>NaN</td>\n",
       "      <td>2005년도 한국회계학회 하계학술발표대회,</td>\n",
       "      <td>이화진</td>\n",
       "      <td>기업지배구조가 보고이익의 질과 경영성과에 미치는 영향</td>\n",
       "      <td>NaN</td>\n",
       "      <td>2005.0</td>\n",
       "    </tr>\n",
       "  </tbody>\n",
       "</table>\n",
       "</div>"
      ],
      "text/plain": [
       "                                        paper_name_infor institution_infor  \\\n",
       "36747  An Enhanced Method for Valuation of IT Investm...           한국증권학회    \n",
       "36768  An Enhanced Method for Valuation of IT Investm...           한국증권학회    \n",
       "36914  An Empirical Study on the Relationship between...           한국증권학회    \n",
       "36916  An Empirical Study on the Relationship between...           한국증권학회    \n",
       "36917  An Empirical Study on the Relationship between...           한국증권학회    \n",
       "\n",
       "        author_infor                                journal_infor  \\\n",
       "36747  Beum-Jo Park    Asia-Pacific Journal of Financial Studies    \n",
       "36768  Beum-Jo Park    Asia-Pacific Journal of Financial Studies    \n",
       "36914           최정호    Asia-Pacific Journal of Financial Studies    \n",
       "36916           최정호    Asia-Pacific Journal of Financial Studies    \n",
       "36917           최정호    Asia-Pacific Journal of Financial Studies    \n",
       "\n",
       "      dont_know_infor    page_infor  year_infor field_infor cited_infor  \\\n",
       "36747          37(4)    pp.727~763      2008.08         경영학   피인용횟수 : 1   \n",
       "36768          37(4)    pp.727~763      2008.08         경영학   피인용횟수 : 1   \n",
       "36914          37(5)    pp.813~839      2008.10         경영학  피인용횟수 : 41   \n",
       "36916          37(5)    pp.813~839      2008.10         경영학  피인용횟수 : 41   \n",
       "36917          37(5)    pp.813~839      2008.10         경영학  피인용횟수 : 41   \n",
       "\n",
       "      char_refer degree_refer  \\\n",
       "36747   [학술대회논문]          NaN   \n",
       "36768   [학술대회논문]          NaN   \n",
       "36914   [학술대회논문]          NaN   \n",
       "36916   [학술대회논문]          NaN   \n",
       "36917   [학술대회논문]          NaN   \n",
       "\n",
       "                                           journal_refer   name_refer  \\\n",
       "36747  Proceedings of the 37th Annual Hawaii Internat...   Bardhan, I   \n",
       "36768  presented at the 5th annual conference on real...     Gamba, A   \n",
       "36914  Corporate Governance on the Bond Spreads,Proce...          신현한   \n",
       "36916                            2004년도 한국회계학회 하계학술발표대회,          이세용   \n",
       "36917                            2005년도 한국회계학회 하계학술발표대회,          이화진   \n",
       "\n",
       "                                             paper_refer school_refer  \\\n",
       "36747  A real options approach for prioritization of ...          NaN   \n",
       "36768  A Log-transformed binomial lattice extension f...          NaN   \n",
       "36914  pp.89-122.(Translated in English)Shin,Hyun-Han...          NaN   \n",
       "36916                   우리나라의 기업지배구조와 기업가치 사이의 관계에 대한 연구          NaN   \n",
       "36917                      기업지배구조가 보고이익의 질과 경영성과에 미치는 영향          NaN   \n",
       "\n",
       "       year_refer  \n",
       "36747      2004.0  \n",
       "36768      2001.0  \n",
       "36914      2004.0  \n",
       "36916      2004.0  \n",
       "36917      2005.0  "
      ]
     },
     "execution_count": 100,
     "metadata": {},
     "output_type": "execute_result"
    }
   ],
   "source": [
    "학술대회논문_df = df[df['char_refer'] == '[학술대회논문]'].loc[normal_idx]\n",
    "학술대회논문_df.tail()"
   ]
  },
  {
   "cell_type": "code",
   "execution_count": 103,
   "metadata": {},
   "outputs": [
    {
     "data": {
      "text/plain": [
       "(paper_name_infor       0\n",
       " institution_infor      0\n",
       " author_infor           0\n",
       " journal_infor          0\n",
       " dont_know_infor        0\n",
       " page_infor             0\n",
       " year_infor             0\n",
       " field_infor            0\n",
       " cited_infor            0\n",
       " char_refer             0\n",
       " degree_refer         383\n",
       " journal_refer          0\n",
       " name_refer             0\n",
       " paper_refer            0\n",
       " school_refer         383\n",
       " year_refer             0\n",
       " dtype: int64, (383, 16))"
      ]
     },
     "execution_count": 103,
     "metadata": {},
     "output_type": "execute_result"
    }
   ],
   "source": [
    "학술대회논문_df.isnull().sum() , 학술대회논문_df.shape"
   ]
  },
  {
   "cell_type": "markdown",
   "metadata": {},
   "source": [
    "# 단행본 정상 관측치 찾기"
   ]
  },
  {
   "cell_type": "code",
   "execution_count": 104,
   "metadata": {
    "scrolled": true
   },
   "outputs": [
    {
     "data": {
      "text/html": [
       "<div>\n",
       "<style>\n",
       "    .dataframe thead tr:only-child th {\n",
       "        text-align: right;\n",
       "    }\n",
       "\n",
       "    .dataframe thead th {\n",
       "        text-align: left;\n",
       "    }\n",
       "\n",
       "    .dataframe tbody tr th {\n",
       "        vertical-align: top;\n",
       "    }\n",
       "</style>\n",
       "<table border=\"1\" class=\"dataframe\">\n",
       "  <thead>\n",
       "    <tr style=\"text-align: right;\">\n",
       "      <th></th>\n",
       "      <th>paper_name_infor</th>\n",
       "      <th>institution_infor</th>\n",
       "      <th>author_infor</th>\n",
       "      <th>journal_infor</th>\n",
       "      <th>dont_know_infor</th>\n",
       "      <th>page_infor</th>\n",
       "      <th>year_infor</th>\n",
       "      <th>field_infor</th>\n",
       "      <th>cited_infor</th>\n",
       "      <th>char_refer</th>\n",
       "      <th>degree_refer</th>\n",
       "      <th>journal_refer</th>\n",
       "      <th>name_refer</th>\n",
       "      <th>paper_refer</th>\n",
       "      <th>school_refer</th>\n",
       "      <th>year_refer</th>\n",
       "    </tr>\n",
       "  </thead>\n",
       "  <tbody>\n",
       "    <tr>\n",
       "      <th>37179</th>\n",
       "      <td>Corporate Cash Holdings and Tax-induced Debt F...</td>\n",
       "      <td>한국증권학회</td>\n",
       "      <td>정구열 , 김병모</td>\n",
       "      <td>Asia-Pacific Journal of Financial Studies</td>\n",
       "      <td>37(6)</td>\n",
       "      <td>pp.983~1023</td>\n",
       "      <td>2008.12</td>\n",
       "      <td>경영학</td>\n",
       "      <td>피인용횟수 : 10</td>\n",
       "      <td>[단행본]</td>\n",
       "      <td>NaN</td>\n",
       "      <td>Harcourt Brace,</td>\n",
       "      <td>Keynes, J. M</td>\n",
       "      <td>The general theory of employment. In: Interest...</td>\n",
       "      <td>NaN</td>\n",
       "      <td>1936.0</td>\n",
       "    </tr>\n",
       "    <tr>\n",
       "      <th>37198</th>\n",
       "      <td>Corporate Cash Holdings and Tax-induced Debt F...</td>\n",
       "      <td>한국증권학회</td>\n",
       "      <td>정구열 , 김병모</td>\n",
       "      <td>Asia-Pacific Journal of Financial Studies</td>\n",
       "      <td>37(6)</td>\n",
       "      <td>pp.983~1023</td>\n",
       "      <td>2008.12</td>\n",
       "      <td>경영학</td>\n",
       "      <td>피인용횟수 : 10</td>\n",
       "      <td>[단행본]</td>\n",
       "      <td>NaN</td>\n",
       "      <td>Prentice-Hall,</td>\n",
       "      <td>Scholes, M. S</td>\n",
       "      <td>Taxes and Business Strategy: a Planning Approach</td>\n",
       "      <td>NaN</td>\n",
       "      <td>2002.0</td>\n",
       "    </tr>\n",
       "    <tr>\n",
       "      <th>37210</th>\n",
       "      <td>Corporate Diversification, Relatedness, and Fi...</td>\n",
       "      <td>한국증권학회</td>\n",
       "      <td>배성철 , 권택호 , 이장우</td>\n",
       "      <td>Asia-Pacific Journal of Financial Studies</td>\n",
       "      <td>37(6)</td>\n",
       "      <td>pp.1025~1064</td>\n",
       "      <td>2008.12</td>\n",
       "      <td>경영학</td>\n",
       "      <td>피인용횟수 : 20</td>\n",
       "      <td>[단행본]</td>\n",
       "      <td>NaN</td>\n",
       "      <td>Harvard University Press,</td>\n",
       "      <td>Caves, Richard E</td>\n",
       "      <td>Competition in the Open Economy: A Model Appli...</td>\n",
       "      <td>NaN</td>\n",
       "      <td>1980.0</td>\n",
       "    </tr>\n",
       "    <tr>\n",
       "      <th>37221</th>\n",
       "      <td>Corporate Diversification, Relatedness, and Fi...</td>\n",
       "      <td>한국증권학회</td>\n",
       "      <td>배성철 , 권택호 , 이장우</td>\n",
       "      <td>Asia-Pacific Journal of Financial Studies</td>\n",
       "      <td>37(6)</td>\n",
       "      <td>pp.1025~1064</td>\n",
       "      <td>2008.12</td>\n",
       "      <td>경영학</td>\n",
       "      <td>피인용횟수 : 20</td>\n",
       "      <td>[단행본]</td>\n",
       "      <td>NaN</td>\n",
       "      <td>Prentice-Hall,</td>\n",
       "      <td>Greene, William H</td>\n",
       "      <td>Econometric analysis, 4th edition</td>\n",
       "      <td>NaN</td>\n",
       "      <td>2000.0</td>\n",
       "    </tr>\n",
       "    <tr>\n",
       "      <th>37238</th>\n",
       "      <td>Corporate Diversification, Relatedness, and Fi...</td>\n",
       "      <td>한국증권학회</td>\n",
       "      <td>배성철 , 권택호 , 이장우</td>\n",
       "      <td>Asia-Pacific Journal of Financial Studies</td>\n",
       "      <td>37(6)</td>\n",
       "      <td>pp.1025~1064</td>\n",
       "      <td>2008.12</td>\n",
       "      <td>경영학</td>\n",
       "      <td>피인용횟수 : 20</td>\n",
       "      <td>[단행본]</td>\n",
       "      <td>NaN</td>\n",
       "      <td>Harvard University Press,</td>\n",
       "      <td>Rumelt, Richard P</td>\n",
       "      <td>Strategy, Structure and Economic Performance</td>\n",
       "      <td>NaN</td>\n",
       "      <td>1974.0</td>\n",
       "    </tr>\n",
       "  </tbody>\n",
       "</table>\n",
       "</div>"
      ],
      "text/plain": [
       "                                        paper_name_infor institution_infor  \\\n",
       "37179  Corporate Cash Holdings and Tax-induced Debt F...           한국증권학회    \n",
       "37198  Corporate Cash Holdings and Tax-induced Debt F...           한국증권학회    \n",
       "37210  Corporate Diversification, Relatedness, and Fi...           한국증권학회    \n",
       "37221  Corporate Diversification, Relatedness, and Fi...           한국증권학회    \n",
       "37238  Corporate Diversification, Relatedness, and Fi...           한국증권학회    \n",
       "\n",
       "           author_infor                                journal_infor  \\\n",
       "37179        정구열 , 김병모    Asia-Pacific Journal of Financial Studies    \n",
       "37198        정구열 , 김병모    Asia-Pacific Journal of Financial Studies    \n",
       "37210  배성철 , 권택호 , 이장우    Asia-Pacific Journal of Financial Studies    \n",
       "37221  배성철 , 권택호 , 이장우    Asia-Pacific Journal of Financial Studies    \n",
       "37238  배성철 , 권택호 , 이장우    Asia-Pacific Journal of Financial Studies    \n",
       "\n",
       "      dont_know_infor      page_infor  year_infor field_infor cited_infor  \\\n",
       "37179          37(6)     pp.983~1023      2008.12         경영학  피인용횟수 : 10   \n",
       "37198          37(6)     pp.983~1023      2008.12         경영학  피인용횟수 : 10   \n",
       "37210          37(6)    pp.1025~1064      2008.12         경영학  피인용횟수 : 20   \n",
       "37221          37(6)    pp.1025~1064      2008.12         경영학  피인용횟수 : 20   \n",
       "37238          37(6)    pp.1025~1064      2008.12         경영학  피인용횟수 : 20   \n",
       "\n",
       "      char_refer degree_refer              journal_refer          name_refer  \\\n",
       "37179      [단행본]          NaN            Harcourt Brace,        Keynes, J. M   \n",
       "37198      [단행본]          NaN             Prentice-Hall,       Scholes, M. S   \n",
       "37210      [단행본]          NaN  Harvard University Press,    Caves, Richard E   \n",
       "37221      [단행본]          NaN             Prentice-Hall,   Greene, William H   \n",
       "37238      [단행본]          NaN  Harvard University Press,   Rumelt, Richard P   \n",
       "\n",
       "                                             paper_refer school_refer  \\\n",
       "37179  The general theory of employment. In: Interest...          NaN   \n",
       "37198   Taxes and Business Strategy: a Planning Approach          NaN   \n",
       "37210  Competition in the Open Economy: A Model Appli...          NaN   \n",
       "37221                  Econometric analysis, 4th edition          NaN   \n",
       "37238       Strategy, Structure and Economic Performance          NaN   \n",
       "\n",
       "       year_refer  \n",
       "37179      1936.0  \n",
       "37198      2002.0  \n",
       "37210      1980.0  \n",
       "37221      2000.0  \n",
       "37238      1974.0  "
      ]
     },
     "execution_count": 104,
     "metadata": {},
     "output_type": "execute_result"
    }
   ],
   "source": [
    "df[df['char_refer'] == '[단행본]'].tail()"
   ]
  },
  {
   "cell_type": "code",
   "execution_count": 105,
   "metadata": {},
   "outputs": [
    {
     "data": {
      "text/plain": [
       "paper_name_infor        0\n",
       "institution_infor       0\n",
       "author_infor            0\n",
       "journal_infor           0\n",
       "dont_know_infor         0\n",
       "page_infor              0\n",
       "year_infor              0\n",
       "field_infor             0\n",
       "cited_infor             0\n",
       "char_refer              0\n",
       "degree_refer         1084\n",
       "journal_refer          55\n",
       "name_refer              2\n",
       "paper_refer             9\n",
       "school_refer         1084\n",
       "year_refer              0\n",
       "dtype: int64"
      ]
     },
     "execution_count": 105,
     "metadata": {},
     "output_type": "execute_result"
    }
   ],
   "source": [
    "df[df['char_refer'] == '[단행본]'].isnull().sum()"
   ]
  },
  {
   "cell_type": "code",
   "execution_count": 149,
   "metadata": {
    "scrolled": true
   },
   "outputs": [
    {
     "name": "stderr",
     "output_type": "stream",
     "text": [
      "/home/hskimim/anaconda3/lib/python3.6/site-packages/ipykernel_launcher.py:1: UserWarning: Boolean Series key will be reindexed to match DataFrame index.\n",
      "  \"\"\"Entry point for launching an IPython kernel.\n"
     ]
    },
    {
     "data": {
      "text/plain": [
       "55"
      ]
     },
     "execution_count": 149,
     "metadata": {},
     "output_type": "execute_result"
    }
   ],
   "source": [
    "journal_nan_idx = df[df['char_refer'] == '[단행본]'][df['journal_refer'].isnull()].index.tolist()\n",
    "len(journal_nan_idx)"
   ]
  },
  {
   "cell_type": "code",
   "execution_count": 150,
   "metadata": {},
   "outputs": [
    {
     "name": "stderr",
     "output_type": "stream",
     "text": [
      "/home/hskimim/anaconda3/lib/python3.6/site-packages/ipykernel_launcher.py:1: UserWarning: Boolean Series key will be reindexed to match DataFrame index.\n",
      "  \"\"\"Entry point for launching an IPython kernel.\n"
     ]
    },
    {
     "data": {
      "text/plain": [
       "2"
      ]
     },
     "execution_count": 150,
     "metadata": {},
     "output_type": "execute_result"
    }
   ],
   "source": [
    "name_nan_idx = df[df['char_refer'] == '[단행본]'][df['name_refer'].isnull()].index.tolist()\n",
    "len(name_nan_idx)"
   ]
  },
  {
   "cell_type": "code",
   "execution_count": 151,
   "metadata": {},
   "outputs": [
    {
     "name": "stderr",
     "output_type": "stream",
     "text": [
      "/home/hskimim/anaconda3/lib/python3.6/site-packages/ipykernel_launcher.py:1: UserWarning: Boolean Series key will be reindexed to match DataFrame index.\n",
      "  \"\"\"Entry point for launching an IPython kernel.\n"
     ]
    },
    {
     "data": {
      "text/plain": [
       "9"
      ]
     },
     "execution_count": 151,
     "metadata": {},
     "output_type": "execute_result"
    }
   ],
   "source": [
    "paper_nan_idx = df[df['char_refer'] == '[단행본]'][df['paper_refer'].isnull()].index.tolist()\n",
    "len(paper_nan_idx)"
   ]
  },
  {
   "cell_type": "code",
   "execution_count": 152,
   "metadata": {},
   "outputs": [
    {
     "data": {
      "text/plain": [
       "66"
      ]
     },
     "execution_count": 152,
     "metadata": {},
     "output_type": "execute_result"
    }
   ],
   "source": [
    "problem_idx = sorted(list(set(journal_nan_idx).union(set(name_nan_idx)).union(set(paper_nan_idx))))\n",
    "len(problem_idx)"
   ]
  },
  {
   "cell_type": "code",
   "execution_count": 153,
   "metadata": {},
   "outputs": [
    {
     "data": {
      "text/plain": [
       "[89, 111, 124, 125, 128]"
      ]
     },
     "execution_count": 153,
     "metadata": {},
     "output_type": "execute_result"
    }
   ],
   "source": [
    "normal_idx = [i for i in df[df['char_refer'] == '[단행본]'].index if i not in problem_idx2]\n",
    "normal_idx[:5]"
   ]
  },
  {
   "cell_type": "code",
   "execution_count": 154,
   "metadata": {},
   "outputs": [
    {
     "data": {
      "text/html": [
       "<div>\n",
       "<style>\n",
       "    .dataframe thead tr:only-child th {\n",
       "        text-align: right;\n",
       "    }\n",
       "\n",
       "    .dataframe thead th {\n",
       "        text-align: left;\n",
       "    }\n",
       "\n",
       "    .dataframe tbody tr th {\n",
       "        vertical-align: top;\n",
       "    }\n",
       "</style>\n",
       "<table border=\"1\" class=\"dataframe\">\n",
       "  <thead>\n",
       "    <tr style=\"text-align: right;\">\n",
       "      <th></th>\n",
       "      <th>paper_name_infor</th>\n",
       "      <th>institution_infor</th>\n",
       "      <th>author_infor</th>\n",
       "      <th>journal_infor</th>\n",
       "      <th>dont_know_infor</th>\n",
       "      <th>page_infor</th>\n",
       "      <th>year_infor</th>\n",
       "      <th>field_infor</th>\n",
       "      <th>cited_infor</th>\n",
       "      <th>char_refer</th>\n",
       "      <th>degree_refer</th>\n",
       "      <th>journal_refer</th>\n",
       "      <th>name_refer</th>\n",
       "      <th>paper_refer</th>\n",
       "      <th>school_refer</th>\n",
       "      <th>year_refer</th>\n",
       "    </tr>\n",
       "  </thead>\n",
       "  <tbody>\n",
       "    <tr>\n",
       "      <th>37179</th>\n",
       "      <td>Corporate Cash Holdings and Tax-induced Debt F...</td>\n",
       "      <td>한국증권학회</td>\n",
       "      <td>정구열 , 김병모</td>\n",
       "      <td>Asia-Pacific Journal of Financial Studies</td>\n",
       "      <td>37(6)</td>\n",
       "      <td>pp.983~1023</td>\n",
       "      <td>2008.12</td>\n",
       "      <td>경영학</td>\n",
       "      <td>피인용횟수 : 10</td>\n",
       "      <td>[단행본]</td>\n",
       "      <td>NaN</td>\n",
       "      <td>Harcourt Brace,</td>\n",
       "      <td>Keynes, J. M</td>\n",
       "      <td>The general theory of employment. In: Interest...</td>\n",
       "      <td>NaN</td>\n",
       "      <td>1936.0</td>\n",
       "    </tr>\n",
       "    <tr>\n",
       "      <th>37198</th>\n",
       "      <td>Corporate Cash Holdings and Tax-induced Debt F...</td>\n",
       "      <td>한국증권학회</td>\n",
       "      <td>정구열 , 김병모</td>\n",
       "      <td>Asia-Pacific Journal of Financial Studies</td>\n",
       "      <td>37(6)</td>\n",
       "      <td>pp.983~1023</td>\n",
       "      <td>2008.12</td>\n",
       "      <td>경영학</td>\n",
       "      <td>피인용횟수 : 10</td>\n",
       "      <td>[단행본]</td>\n",
       "      <td>NaN</td>\n",
       "      <td>Prentice-Hall,</td>\n",
       "      <td>Scholes, M. S</td>\n",
       "      <td>Taxes and Business Strategy: a Planning Approach</td>\n",
       "      <td>NaN</td>\n",
       "      <td>2002.0</td>\n",
       "    </tr>\n",
       "    <tr>\n",
       "      <th>37210</th>\n",
       "      <td>Corporate Diversification, Relatedness, and Fi...</td>\n",
       "      <td>한국증권학회</td>\n",
       "      <td>배성철 , 권택호 , 이장우</td>\n",
       "      <td>Asia-Pacific Journal of Financial Studies</td>\n",
       "      <td>37(6)</td>\n",
       "      <td>pp.1025~1064</td>\n",
       "      <td>2008.12</td>\n",
       "      <td>경영학</td>\n",
       "      <td>피인용횟수 : 20</td>\n",
       "      <td>[단행본]</td>\n",
       "      <td>NaN</td>\n",
       "      <td>Harvard University Press,</td>\n",
       "      <td>Caves, Richard E</td>\n",
       "      <td>Competition in the Open Economy: A Model Appli...</td>\n",
       "      <td>NaN</td>\n",
       "      <td>1980.0</td>\n",
       "    </tr>\n",
       "    <tr>\n",
       "      <th>37221</th>\n",
       "      <td>Corporate Diversification, Relatedness, and Fi...</td>\n",
       "      <td>한국증권학회</td>\n",
       "      <td>배성철 , 권택호 , 이장우</td>\n",
       "      <td>Asia-Pacific Journal of Financial Studies</td>\n",
       "      <td>37(6)</td>\n",
       "      <td>pp.1025~1064</td>\n",
       "      <td>2008.12</td>\n",
       "      <td>경영학</td>\n",
       "      <td>피인용횟수 : 20</td>\n",
       "      <td>[단행본]</td>\n",
       "      <td>NaN</td>\n",
       "      <td>Prentice-Hall,</td>\n",
       "      <td>Greene, William H</td>\n",
       "      <td>Econometric analysis, 4th edition</td>\n",
       "      <td>NaN</td>\n",
       "      <td>2000.0</td>\n",
       "    </tr>\n",
       "    <tr>\n",
       "      <th>37238</th>\n",
       "      <td>Corporate Diversification, Relatedness, and Fi...</td>\n",
       "      <td>한국증권학회</td>\n",
       "      <td>배성철 , 권택호 , 이장우</td>\n",
       "      <td>Asia-Pacific Journal of Financial Studies</td>\n",
       "      <td>37(6)</td>\n",
       "      <td>pp.1025~1064</td>\n",
       "      <td>2008.12</td>\n",
       "      <td>경영학</td>\n",
       "      <td>피인용횟수 : 20</td>\n",
       "      <td>[단행본]</td>\n",
       "      <td>NaN</td>\n",
       "      <td>Harvard University Press,</td>\n",
       "      <td>Rumelt, Richard P</td>\n",
       "      <td>Strategy, Structure and Economic Performance</td>\n",
       "      <td>NaN</td>\n",
       "      <td>1974.0</td>\n",
       "    </tr>\n",
       "  </tbody>\n",
       "</table>\n",
       "</div>"
      ],
      "text/plain": [
       "                                        paper_name_infor institution_infor  \\\n",
       "37179  Corporate Cash Holdings and Tax-induced Debt F...           한국증권학회    \n",
       "37198  Corporate Cash Holdings and Tax-induced Debt F...           한국증권학회    \n",
       "37210  Corporate Diversification, Relatedness, and Fi...           한국증권학회    \n",
       "37221  Corporate Diversification, Relatedness, and Fi...           한국증권학회    \n",
       "37238  Corporate Diversification, Relatedness, and Fi...           한국증권학회    \n",
       "\n",
       "           author_infor                                journal_infor  \\\n",
       "37179        정구열 , 김병모    Asia-Pacific Journal of Financial Studies    \n",
       "37198        정구열 , 김병모    Asia-Pacific Journal of Financial Studies    \n",
       "37210  배성철 , 권택호 , 이장우    Asia-Pacific Journal of Financial Studies    \n",
       "37221  배성철 , 권택호 , 이장우    Asia-Pacific Journal of Financial Studies    \n",
       "37238  배성철 , 권택호 , 이장우    Asia-Pacific Journal of Financial Studies    \n",
       "\n",
       "      dont_know_infor      page_infor  year_infor field_infor cited_infor  \\\n",
       "37179          37(6)     pp.983~1023      2008.12         경영학  피인용횟수 : 10   \n",
       "37198          37(6)     pp.983~1023      2008.12         경영학  피인용횟수 : 10   \n",
       "37210          37(6)    pp.1025~1064      2008.12         경영학  피인용횟수 : 20   \n",
       "37221          37(6)    pp.1025~1064      2008.12         경영학  피인용횟수 : 20   \n",
       "37238          37(6)    pp.1025~1064      2008.12         경영학  피인용횟수 : 20   \n",
       "\n",
       "      char_refer degree_refer              journal_refer          name_refer  \\\n",
       "37179      [단행본]          NaN            Harcourt Brace,        Keynes, J. M   \n",
       "37198      [단행본]          NaN             Prentice-Hall,       Scholes, M. S   \n",
       "37210      [단행본]          NaN  Harvard University Press,    Caves, Richard E   \n",
       "37221      [단행본]          NaN             Prentice-Hall,   Greene, William H   \n",
       "37238      [단행본]          NaN  Harvard University Press,   Rumelt, Richard P   \n",
       "\n",
       "                                             paper_refer school_refer  \\\n",
       "37179  The general theory of employment. In: Interest...          NaN   \n",
       "37198   Taxes and Business Strategy: a Planning Approach          NaN   \n",
       "37210  Competition in the Open Economy: A Model Appli...          NaN   \n",
       "37221                  Econometric analysis, 4th edition          NaN   \n",
       "37238       Strategy, Structure and Economic Performance          NaN   \n",
       "\n",
       "       year_refer  \n",
       "37179      1936.0  \n",
       "37198      2002.0  \n",
       "37210      1980.0  \n",
       "37221      2000.0  \n",
       "37238      1974.0  "
      ]
     },
     "execution_count": 154,
     "metadata": {},
     "output_type": "execute_result"
    }
   ],
   "source": [
    "단행본_df = df[df['char_refer'] == '[단행본]'].loc[normal_idx]\n",
    "단행본_df.tail()"
   ]
  },
  {
   "cell_type": "code",
   "execution_count": 155,
   "metadata": {},
   "outputs": [
    {
     "data": {
      "text/plain": [
       "(paper_name_infor        0\n",
       " institution_infor       0\n",
       " author_infor            0\n",
       " journal_infor           0\n",
       " dont_know_infor         0\n",
       " page_infor              0\n",
       " year_infor              0\n",
       " field_infor             0\n",
       " cited_infor             0\n",
       " char_refer              0\n",
       " degree_refer         1018\n",
       " journal_refer           0\n",
       " name_refer              0\n",
       " paper_refer             0\n",
       " school_refer         1018\n",
       " year_refer              0\n",
       " dtype: int64, (1018, 16))"
      ]
     },
     "execution_count": 155,
     "metadata": {},
     "output_type": "execute_result"
    }
   ],
   "source": [
    "단행본_df.isnull().sum() , 단행본_df.shape"
   ]
  },
  {
   "cell_type": "markdown",
   "metadata": {},
   "source": [
    "# 보고서 정상 관측치 찾기"
   ]
  },
  {
   "cell_type": "code",
   "execution_count": 118,
   "metadata": {
    "scrolled": true
   },
   "outputs": [
    {
     "data": {
      "text/html": [
       "<div>\n",
       "<style>\n",
       "    .dataframe thead tr:only-child th {\n",
       "        text-align: right;\n",
       "    }\n",
       "\n",
       "    .dataframe thead th {\n",
       "        text-align: left;\n",
       "    }\n",
       "\n",
       "    .dataframe tbody tr th {\n",
       "        vertical-align: top;\n",
       "    }\n",
       "</style>\n",
       "<table border=\"1\" class=\"dataframe\">\n",
       "  <thead>\n",
       "    <tr style=\"text-align: right;\">\n",
       "      <th></th>\n",
       "      <th>paper_name_infor</th>\n",
       "      <th>institution_infor</th>\n",
       "      <th>author_infor</th>\n",
       "      <th>journal_infor</th>\n",
       "      <th>dont_know_infor</th>\n",
       "      <th>page_infor</th>\n",
       "      <th>year_infor</th>\n",
       "      <th>field_infor</th>\n",
       "      <th>cited_infor</th>\n",
       "      <th>char_refer</th>\n",
       "      <th>degree_refer</th>\n",
       "      <th>journal_refer</th>\n",
       "      <th>name_refer</th>\n",
       "      <th>paper_refer</th>\n",
       "      <th>school_refer</th>\n",
       "      <th>year_refer</th>\n",
       "    </tr>\n",
       "  </thead>\n",
       "  <tbody>\n",
       "    <tr>\n",
       "      <th>33085</th>\n",
       "      <td>부도연계 증권의 기대수익률 횡단면에 대한 연구</td>\n",
       "      <td>한국파생상품학회</td>\n",
       "      <td>김정무 , 박윤정</td>\n",
       "      <td>선물연구</td>\n",
       "      <td>25(4)</td>\n",
       "      <td>pp.479~508</td>\n",
       "      <td>2017.11</td>\n",
       "      <td>경영학</td>\n",
       "      <td>피인용횟수 : 0</td>\n",
       "      <td>[보고서]</td>\n",
       "      <td>NaN</td>\n",
       "      <td>NaN</td>\n",
       "      <td>Kim, J.</td>\n",
       "      <td>A Theory on the Expected Returns of Defautable...</td>\n",
       "      <td>NaN</td>\n",
       "      <td>2017.0</td>\n",
       "    </tr>\n",
       "    <tr>\n",
       "      <th>33089</th>\n",
       "      <td>부도연계 증권의 기대수익률 횡단면에 대한 연구</td>\n",
       "      <td>한국파생상품학회</td>\n",
       "      <td>김정무 , 박윤정</td>\n",
       "      <td>선물연구</td>\n",
       "      <td>25(4)</td>\n",
       "      <td>pp.479~508</td>\n",
       "      <td>2017.11</td>\n",
       "      <td>경영학</td>\n",
       "      <td>피인용횟수 : 0</td>\n",
       "      <td>[보고서]</td>\n",
       "      <td>NaN</td>\n",
       "      <td>NaN</td>\n",
       "      <td>Tang, D. Y.</td>\n",
       "      <td>Liquidity and Credit Default Swap Spreads,</td>\n",
       "      <td>NaN</td>\n",
       "      <td>2007.0</td>\n",
       "    </tr>\n",
       "    <tr>\n",
       "      <th>36613</th>\n",
       "      <td>Does National Pension Service’s Trading Destab...</td>\n",
       "      <td>한국증권학회</td>\n",
       "      <td>박종호 , 엄경식</td>\n",
       "      <td>Asia-Pacific Journal of Financial Studies</td>\n",
       "      <td>37(3)</td>\n",
       "      <td>pp.501~536</td>\n",
       "      <td>2008.06</td>\n",
       "      <td>경영학</td>\n",
       "      <td>피인용횟수 : 12</td>\n",
       "      <td>[보고서]</td>\n",
       "      <td>NaN</td>\n",
       "      <td>NaN</td>\n",
       "      <td>엄경식</td>\n",
       "      <td>시간외 주식 거래: 주요국의 거래 메커니즘별 역할 및 교훈,</td>\n",
       "      <td>NaN</td>\n",
       "      <td>2001.0</td>\n",
       "    </tr>\n",
       "    <tr>\n",
       "      <th>36672</th>\n",
       "      <td>Does National Pension Service’s Trading Destab...</td>\n",
       "      <td>한국증권학회</td>\n",
       "      <td>고봉찬 , 이병희 , 이우종 외 1명</td>\n",
       "      <td>Asia-Pacific Journal of Financial Studies</td>\n",
       "      <td>37(3)</td>\n",
       "      <td>pp.465~500</td>\n",
       "      <td>2008.06</td>\n",
       "      <td>경영학</td>\n",
       "      <td>피인용횟수 : 7</td>\n",
       "      <td>[보고서]</td>\n",
       "      <td>NaN</td>\n",
       "      <td>NaN</td>\n",
       "      <td>이철용</td>\n",
       "      <td>국민연금 주식투자 확대의 영향과 쟁점,</td>\n",
       "      <td>NaN</td>\n",
       "      <td>2005.0</td>\n",
       "    </tr>\n",
       "    <tr>\n",
       "      <th>36773</th>\n",
       "      <td>An Enhanced Method for Valuation of IT Investm...</td>\n",
       "      <td>한국증권학회</td>\n",
       "      <td>Beum-Jo Park</td>\n",
       "      <td>Asia-Pacific Journal of Financial Studies</td>\n",
       "      <td>37(4)</td>\n",
       "      <td>pp.727~763</td>\n",
       "      <td>2008.08</td>\n",
       "      <td>경영학</td>\n",
       "      <td>피인용횟수 : 1</td>\n",
       "      <td>[보고서]</td>\n",
       "      <td>NaN</td>\n",
       "      <td>NaN</td>\n",
       "      <td>KISTI</td>\n",
       "      <td>Valuation of knowledge management office ware,...</td>\n",
       "      <td>NaN</td>\n",
       "      <td>2003.0</td>\n",
       "    </tr>\n",
       "  </tbody>\n",
       "</table>\n",
       "</div>"
      ],
      "text/plain": [
       "                                        paper_name_infor institution_infor  \\\n",
       "33085                          부도연계 증권의 기대수익률 횡단면에 대한 연구         한국파생상품학회    \n",
       "33089                          부도연계 증권의 기대수익률 횡단면에 대한 연구         한국파생상품학회    \n",
       "36613  Does National Pension Service’s Trading Destab...           한국증권학회    \n",
       "36672  Does National Pension Service’s Trading Destab...           한국증권학회    \n",
       "36773  An Enhanced Method for Valuation of IT Investm...           한국증권학회    \n",
       "\n",
       "                author_infor                                journal_infor  \\\n",
       "33085             김정무 , 박윤정                                         선물연구    \n",
       "33089             김정무 , 박윤정                                         선물연구    \n",
       "36613             박종호 , 엄경식    Asia-Pacific Journal of Financial Studies    \n",
       "36672  고봉찬 , 이병희 , 이우종 외 1명    Asia-Pacific Journal of Financial Studies    \n",
       "36773          Beum-Jo Park    Asia-Pacific Journal of Financial Studies    \n",
       "\n",
       "      dont_know_infor    page_infor  year_infor field_infor cited_infor  \\\n",
       "33085          25(4)    pp.479~508      2017.11         경영학   피인용횟수 : 0   \n",
       "33089          25(4)    pp.479~508      2017.11         경영학   피인용횟수 : 0   \n",
       "36613          37(3)    pp.501~536      2008.06         경영학  피인용횟수 : 12   \n",
       "36672          37(3)    pp.465~500      2008.06         경영학   피인용횟수 : 7   \n",
       "36773          37(4)    pp.727~763      2008.08         경영학   피인용횟수 : 1   \n",
       "\n",
       "      char_refer degree_refer journal_refer    name_refer  \\\n",
       "33085      [보고서]          NaN           NaN       Kim, J.   \n",
       "33089      [보고서]          NaN           NaN   Tang, D. Y.   \n",
       "36613      [보고서]          NaN           NaN           엄경식   \n",
       "36672      [보고서]          NaN           NaN           이철용   \n",
       "36773      [보고서]          NaN           NaN         KISTI   \n",
       "\n",
       "                                             paper_refer school_refer  \\\n",
       "33085  A Theory on the Expected Returns of Defautable...          NaN   \n",
       "33089         Liquidity and Credit Default Swap Spreads,          NaN   \n",
       "36613                  시간외 주식 거래: 주요국의 거래 메커니즘별 역할 및 교훈,          NaN   \n",
       "36672                              국민연금 주식투자 확대의 영향과 쟁점,          NaN   \n",
       "36773  Valuation of knowledge management office ware,...          NaN   \n",
       "\n",
       "       year_refer  \n",
       "33085      2017.0  \n",
       "33089      2007.0  \n",
       "36613      2001.0  \n",
       "36672      2005.0  \n",
       "36773      2003.0  "
      ]
     },
     "execution_count": 118,
     "metadata": {},
     "output_type": "execute_result"
    }
   ],
   "source": [
    "df[df['char_refer'] == '[보고서]'].tail()"
   ]
  },
  {
   "cell_type": "code",
   "execution_count": 169,
   "metadata": {},
   "outputs": [
    {
     "data": {
      "text/plain": [
       "paper_name_infor        0\n",
       "institution_infor       0\n",
       "author_infor            0\n",
       "journal_infor           0\n",
       "dont_know_infor         0\n",
       "page_infor              0\n",
       "year_infor              0\n",
       "field_infor             0\n",
       "cited_infor             0\n",
       "char_refer              0\n",
       "degree_refer         2027\n",
       "journal_refer        1927\n",
       "name_refer              1\n",
       "paper_refer             7\n",
       "school_refer         2027\n",
       "year_refer              0\n",
       "dtype: int64"
      ]
     },
     "execution_count": 169,
     "metadata": {},
     "output_type": "execute_result"
    }
   ],
   "source": [
    "df[df['char_refer'] == '[보고서]'].isnull().sum()"
   ]
  },
  {
   "cell_type": "code",
   "execution_count": 170,
   "metadata": {},
   "outputs": [
    {
     "name": "stderr",
     "output_type": "stream",
     "text": [
      "/home/hskimim/anaconda3/lib/python3.6/site-packages/ipykernel_launcher.py:1: UserWarning: Boolean Series key will be reindexed to match DataFrame index.\n",
      "  \"\"\"Entry point for launching an IPython kernel.\n"
     ]
    },
    {
     "data": {
      "text/plain": [
       "1927"
      ]
     },
     "execution_count": 170,
     "metadata": {},
     "output_type": "execute_result"
    }
   ],
   "source": [
    "journal_nan_idx = df[df['char_refer'] == '[보고서]'][df['journal_refer'].isnull()].index.tolist()\n",
    "len(journal_nan_idx)"
   ]
  },
  {
   "cell_type": "code",
   "execution_count": 171,
   "metadata": {},
   "outputs": [
    {
     "name": "stderr",
     "output_type": "stream",
     "text": [
      "/home/hskimim/anaconda3/lib/python3.6/site-packages/ipykernel_launcher.py:1: UserWarning: Boolean Series key will be reindexed to match DataFrame index.\n",
      "  \"\"\"Entry point for launching an IPython kernel.\n"
     ]
    },
    {
     "data": {
      "text/plain": [
       "1"
      ]
     },
     "execution_count": 171,
     "metadata": {},
     "output_type": "execute_result"
    }
   ],
   "source": [
    "name_nan_idx = df[df['char_refer'] == '[보고서]'][df['name_refer'].isnull()].index.tolist()\n",
    "len(name_nan_idx)"
   ]
  },
  {
   "cell_type": "code",
   "execution_count": 172,
   "metadata": {},
   "outputs": [
    {
     "name": "stderr",
     "output_type": "stream",
     "text": [
      "/home/hskimim/anaconda3/lib/python3.6/site-packages/ipykernel_launcher.py:1: UserWarning: Boolean Series key will be reindexed to match DataFrame index.\n",
      "  \"\"\"Entry point for launching an IPython kernel.\n"
     ]
    },
    {
     "data": {
      "text/plain": [
       "7"
      ]
     },
     "execution_count": 172,
     "metadata": {},
     "output_type": "execute_result"
    }
   ],
   "source": [
    "paper_nan_idx = df[df['char_refer'] == '[보고서]'][df['paper_refer'].isnull()].index.tolist()\n",
    "len(paper_nan_idx)"
   ]
  },
  {
   "cell_type": "code",
   "execution_count": 173,
   "metadata": {},
   "outputs": [
    {
     "data": {
      "text/plain": [
       "1934"
      ]
     },
     "execution_count": 173,
     "metadata": {},
     "output_type": "execute_result"
    }
   ],
   "source": [
    "problem_idx2 = list(set(journal_nan_idx).union(set(name_nan_idx)).union(set(paper_nan_idx)))\n",
    "len(problem_idx2)"
   ]
  },
  {
   "cell_type": "code",
   "execution_count": 174,
   "metadata": {
    "collapsed": true
   },
   "outputs": [],
   "source": [
    "normal_idx2 = [i for i in df[df['char_refer'] == '[보고서]'].index if i not in problem_idx2]"
   ]
  },
  {
   "cell_type": "code",
   "execution_count": 175,
   "metadata": {},
   "outputs": [
    {
     "data": {
      "text/html": [
       "<div>\n",
       "<style>\n",
       "    .dataframe thead tr:only-child th {\n",
       "        text-align: right;\n",
       "    }\n",
       "\n",
       "    .dataframe thead th {\n",
       "        text-align: left;\n",
       "    }\n",
       "\n",
       "    .dataframe tbody tr th {\n",
       "        vertical-align: top;\n",
       "    }\n",
       "</style>\n",
       "<table border=\"1\" class=\"dataframe\">\n",
       "  <thead>\n",
       "    <tr style=\"text-align: right;\">\n",
       "      <th></th>\n",
       "      <th>paper_name_infor</th>\n",
       "      <th>institution_infor</th>\n",
       "      <th>author_infor</th>\n",
       "      <th>journal_infor</th>\n",
       "      <th>dont_know_infor</th>\n",
       "      <th>page_infor</th>\n",
       "      <th>year_infor</th>\n",
       "      <th>field_infor</th>\n",
       "      <th>cited_infor</th>\n",
       "      <th>char_refer</th>\n",
       "      <th>degree_refer</th>\n",
       "      <th>journal_refer</th>\n",
       "      <th>name_refer</th>\n",
       "      <th>paper_refer</th>\n",
       "      <th>school_refer</th>\n",
       "      <th>year_refer</th>\n",
       "    </tr>\n",
       "  </thead>\n",
       "  <tbody>\n",
       "    <tr>\n",
       "      <th>30496</th>\n",
       "      <td>KOSPI200 지수 분산스왑 및분산위험 프리미엄 기간구조</td>\n",
       "      <td>한국파생상품학회</td>\n",
       "      <td>엄영호 , 장운욱</td>\n",
       "      <td>선물연구</td>\n",
       "      <td>21(4)</td>\n",
       "      <td>pp.435~463</td>\n",
       "      <td>2013.11</td>\n",
       "      <td>경영학</td>\n",
       "      <td>피인용횟수 : 2</td>\n",
       "      <td>[보고서]</td>\n",
       "      <td>NaN</td>\n",
       "      <td>Working Paper,</td>\n",
       "      <td>Filipovic, D.</td>\n",
       "      <td>Quadratic Variance Swap Models,</td>\n",
       "      <td>NaN</td>\n",
       "      <td>2013.0</td>\n",
       "    </tr>\n",
       "    <tr>\n",
       "      <th>30499</th>\n",
       "      <td>KOSPI200 지수 분산스왑 및분산위험 프리미엄 기간구조</td>\n",
       "      <td>한국파생상품학회</td>\n",
       "      <td>엄영호 , 장운욱</td>\n",
       "      <td>선물연구</td>\n",
       "      <td>21(4)</td>\n",
       "      <td>pp.435~463</td>\n",
       "      <td>2013.11</td>\n",
       "      <td>경영학</td>\n",
       "      <td>피인용횟수 : 2</td>\n",
       "      <td>[보고서]</td>\n",
       "      <td>NaN</td>\n",
       "      <td>Working Paper,</td>\n",
       "      <td>Heston, Steven</td>\n",
       "      <td>Derivatives on Volatility : Some Simple Soluti...</td>\n",
       "      <td>NaN</td>\n",
       "      <td>2000.0</td>\n",
       "    </tr>\n",
       "    <tr>\n",
       "      <th>30504</th>\n",
       "      <td>KOSPI200 지수 분산스왑 및분산위험 프리미엄 기간구조</td>\n",
       "      <td>한국파생상품학회</td>\n",
       "      <td>엄영호 , 장운욱</td>\n",
       "      <td>선물연구</td>\n",
       "      <td>21(4)</td>\n",
       "      <td>pp.435~463</td>\n",
       "      <td>2013.11</td>\n",
       "      <td>경영학</td>\n",
       "      <td>피인용횟수 : 2</td>\n",
       "      <td>[보고서]</td>\n",
       "      <td>NaN</td>\n",
       "      <td>Working Paper,</td>\n",
       "      <td>Jiang, G. J.</td>\n",
       "      <td>Gauging the “Investor Fear Gauge” : Implementa...</td>\n",
       "      <td>NaN</td>\n",
       "      <td>2005.0</td>\n",
       "    </tr>\n",
       "    <tr>\n",
       "      <th>30511</th>\n",
       "      <td>KOSPI200 지수 분산스왑 및분산위험 프리미엄 기간구조</td>\n",
       "      <td>한국파생상품학회</td>\n",
       "      <td>엄영호 , 장운욱</td>\n",
       "      <td>선물연구</td>\n",
       "      <td>21(4)</td>\n",
       "      <td>pp.435~463</td>\n",
       "      <td>2013.11</td>\n",
       "      <td>경영학</td>\n",
       "      <td>피인용횟수 : 2</td>\n",
       "      <td>[보고서]</td>\n",
       "      <td>NaN</td>\n",
       "      <td>Working Paper,</td>\n",
       "      <td>Swishchuk, A.</td>\n",
       "      <td>Modeling of Variance and Volatility Swaps for ...</td>\n",
       "      <td>NaN</td>\n",
       "      <td>2004.0</td>\n",
       "    </tr>\n",
       "    <tr>\n",
       "      <th>32405</th>\n",
       "      <td>원자재 ETF의 가격과 투자성과 분석</td>\n",
       "      <td>한국파생상품학회</td>\n",
       "      <td>최동현 , 이준서</td>\n",
       "      <td>선물연구</td>\n",
       "      <td>24(4)</td>\n",
       "      <td>pp.525~555</td>\n",
       "      <td>2016.11</td>\n",
       "      <td>경영학</td>\n",
       "      <td>피인용횟수 : 0</td>\n",
       "      <td>[보고서]</td>\n",
       "      <td>NaN</td>\n",
       "      <td>World Development Movement,</td>\n",
       "      <td>Lines, T</td>\n",
       "      <td>Speculation in food commodity markets, In A re...</td>\n",
       "      <td>NaN</td>\n",
       "      <td>2010.0</td>\n",
       "    </tr>\n",
       "  </tbody>\n",
       "</table>\n",
       "</div>"
      ],
      "text/plain": [
       "                       paper_name_infor institution_infor author_infor  \\\n",
       "30496  KOSPI200 지수 분산스왑 및분산위험 프리미엄 기간구조         한국파생상품학회    엄영호 , 장운욱    \n",
       "30499  KOSPI200 지수 분산스왑 및분산위험 프리미엄 기간구조         한국파생상품학회    엄영호 , 장운욱    \n",
       "30504  KOSPI200 지수 분산스왑 및분산위험 프리미엄 기간구조         한국파생상품학회    엄영호 , 장운욱    \n",
       "30511  KOSPI200 지수 분산스왑 및분산위험 프리미엄 기간구조         한국파생상품학회    엄영호 , 장운욱    \n",
       "32405              원자재 ETF의 가격과 투자성과 분석         한국파생상품학회    최동현 , 이준서    \n",
       "\n",
       "      journal_infor dont_know_infor    page_infor  year_infor field_infor  \\\n",
       "30496         선물연구           21(4)    pp.435~463      2013.11         경영학   \n",
       "30499         선물연구           21(4)    pp.435~463      2013.11         경영학   \n",
       "30504         선물연구           21(4)    pp.435~463      2013.11         경영학   \n",
       "30511         선물연구           21(4)    pp.435~463      2013.11         경영학   \n",
       "32405         선물연구           24(4)    pp.525~555      2016.11         경영학   \n",
       "\n",
       "      cited_infor char_refer degree_refer                journal_refer  \\\n",
       "30496   피인용횟수 : 2      [보고서]          NaN               Working Paper,   \n",
       "30499   피인용횟수 : 2      [보고서]          NaN               Working Paper,   \n",
       "30504   피인용횟수 : 2      [보고서]          NaN               Working Paper,   \n",
       "30511   피인용횟수 : 2      [보고서]          NaN               Working Paper,   \n",
       "32405   피인용횟수 : 0      [보고서]          NaN  World Development Movement,   \n",
       "\n",
       "            name_refer                                        paper_refer  \\\n",
       "30496    Filipovic, D.                   Quadratic Variance Swap Models,    \n",
       "30499   Heston, Steven  Derivatives on Volatility : Some Simple Soluti...   \n",
       "30504     Jiang, G. J.  Gauging the “Investor Fear Gauge” : Implementa...   \n",
       "30511    Swishchuk, A.  Modeling of Variance and Volatility Swaps for ...   \n",
       "32405         Lines, T  Speculation in food commodity markets, In A re...   \n",
       "\n",
       "      school_refer  year_refer  \n",
       "30496          NaN      2013.0  \n",
       "30499          NaN      2000.0  \n",
       "30504          NaN      2005.0  \n",
       "30511          NaN      2004.0  \n",
       "32405          NaN      2010.0  "
      ]
     },
     "execution_count": 175,
     "metadata": {},
     "output_type": "execute_result"
    }
   ],
   "source": [
    "보고서_df = df[df['char_refer'] == '[보고서]'].loc[normal_idx2]\n",
    "보고서_df.tail()"
   ]
  },
  {
   "cell_type": "code",
   "execution_count": 176,
   "metadata": {},
   "outputs": [
    {
     "data": {
      "text/plain": [
       "(paper_name_infor      0\n",
       " institution_infor     0\n",
       " author_infor          0\n",
       " journal_infor         0\n",
       " dont_know_infor       0\n",
       " page_infor            0\n",
       " year_infor            0\n",
       " field_infor           0\n",
       " cited_infor           0\n",
       " char_refer            0\n",
       " degree_refer         93\n",
       " journal_refer         0\n",
       " name_refer            0\n",
       " paper_refer           0\n",
       " school_refer         93\n",
       " year_refer            0\n",
       " dtype: int64, (93, 16))"
      ]
     },
     "execution_count": 176,
     "metadata": {},
     "output_type": "execute_result"
    }
   ],
   "source": [
    "보고서_df.isnull().sum() , 보고서_df.shape"
   ]
  },
  {
   "cell_type": "markdown",
   "metadata": {},
   "source": [
    "# 기타자료 정상 관측치 찾기"
   ]
  },
  {
   "cell_type": "code",
   "execution_count": 177,
   "metadata": {
    "scrolled": true
   },
   "outputs": [
    {
     "data": {
      "text/html": [
       "<div>\n",
       "<style>\n",
       "    .dataframe thead tr:only-child th {\n",
       "        text-align: right;\n",
       "    }\n",
       "\n",
       "    .dataframe thead th {\n",
       "        text-align: left;\n",
       "    }\n",
       "\n",
       "    .dataframe tbody tr th {\n",
       "        vertical-align: top;\n",
       "    }\n",
       "</style>\n",
       "<table border=\"1\" class=\"dataframe\">\n",
       "  <thead>\n",
       "    <tr style=\"text-align: right;\">\n",
       "      <th></th>\n",
       "      <th>paper_name_infor</th>\n",
       "      <th>institution_infor</th>\n",
       "      <th>author_infor</th>\n",
       "      <th>journal_infor</th>\n",
       "      <th>dont_know_infor</th>\n",
       "      <th>page_infor</th>\n",
       "      <th>year_infor</th>\n",
       "      <th>field_infor</th>\n",
       "      <th>cited_infor</th>\n",
       "      <th>char_refer</th>\n",
       "      <th>degree_refer</th>\n",
       "      <th>journal_refer</th>\n",
       "      <th>name_refer</th>\n",
       "      <th>paper_refer</th>\n",
       "      <th>school_refer</th>\n",
       "      <th>year_refer</th>\n",
       "    </tr>\n",
       "  </thead>\n",
       "  <tbody>\n",
       "    <tr>\n",
       "      <th>37155</th>\n",
       "      <td>Corporate Cash Holdings and Tax-induced Debt F...</td>\n",
       "      <td>한국증권학회</td>\n",
       "      <td>정구열 , 김병모</td>\n",
       "      <td>Asia-Pacific Journal of Financial Studies</td>\n",
       "      <td>37(6)</td>\n",
       "      <td>pp.983~1023</td>\n",
       "      <td>2008.12</td>\n",
       "      <td>경영학</td>\n",
       "      <td>피인용횟수 : 10</td>\n",
       "      <td>[기타자료]</td>\n",
       "      <td>NaN</td>\n",
       "      <td>working paper, University of Rochester, NY,</td>\n",
       "      <td>Barclay, M. J</td>\n",
       "      <td>On the debt capacity of growth options. Unpubl...</td>\n",
       "      <td>NaN</td>\n",
       "      <td>2001.0</td>\n",
       "    </tr>\n",
       "    <tr>\n",
       "      <th>37180</th>\n",
       "      <td>Corporate Cash Holdings and Tax-induced Debt F...</td>\n",
       "      <td>한국증권학회</td>\n",
       "      <td>정구열 , 김병모</td>\n",
       "      <td>Asia-Pacific Journal of Financial Studies</td>\n",
       "      <td>37(6)</td>\n",
       "      <td>pp.983~1023</td>\n",
       "      <td>2008.12</td>\n",
       "      <td>경영학</td>\n",
       "      <td>피인용횟수 : 10</td>\n",
       "      <td>[기타자료]</td>\n",
       "      <td>NaN</td>\n",
       "      <td>working paper No. 6995,</td>\n",
       "      <td>Khanna, T</td>\n",
       "      <td>Emerging market business groups, foreign inves...</td>\n",
       "      <td>NaN</td>\n",
       "      <td>1999.0</td>\n",
       "    </tr>\n",
       "    <tr>\n",
       "      <th>37196</th>\n",
       "      <td>Corporate Cash Holdings and Tax-induced Debt F...</td>\n",
       "      <td>한국증권학회</td>\n",
       "      <td>정구열 , 김병모</td>\n",
       "      <td>Asia-Pacific Journal of Financial Studies</td>\n",
       "      <td>37(6)</td>\n",
       "      <td>pp.983~1023</td>\n",
       "      <td>2008.12</td>\n",
       "      <td>경영학</td>\n",
       "      <td>피인용횟수 : 10</td>\n",
       "      <td>[기타자료]</td>\n",
       "      <td>NaN</td>\n",
       "      <td>University of California, Berkeley,</td>\n",
       "      <td>Ross, M. P</td>\n",
       "      <td>Corporate hedging: What, why and how? Working ...</td>\n",
       "      <td>NaN</td>\n",
       "      <td>1997.0</td>\n",
       "    </tr>\n",
       "    <tr>\n",
       "      <th>37211</th>\n",
       "      <td>Corporate Diversification, Relatedness, and Fi...</td>\n",
       "      <td>한국증권학회</td>\n",
       "      <td>배성철 , 권택호 , 이장우</td>\n",
       "      <td>Asia-Pacific Journal of Financial Studies</td>\n",
       "      <td>37(6)</td>\n",
       "      <td>pp.1025~1064</td>\n",
       "      <td>2008.12</td>\n",
       "      <td>경영학</td>\n",
       "      <td>피인용횟수 : 20</td>\n",
       "      <td>[기타자료]</td>\n",
       "      <td>NaN</td>\n",
       "      <td>NaN</td>\n",
       "      <td>Chandler, A. D</td>\n",
       "      <td>The Visible Hand, Belknap Press, Cambridge, MA...</td>\n",
       "      <td>NaN</td>\n",
       "      <td>1977.0</td>\n",
       "    </tr>\n",
       "    <tr>\n",
       "      <th>37242</th>\n",
       "      <td>Corporate Diversification, Relatedness, and Fi...</td>\n",
       "      <td>한국증권학회</td>\n",
       "      <td>배성철 , 권택호 , 이장우</td>\n",
       "      <td>Asia-Pacific Journal of Financial Studies</td>\n",
       "      <td>37(6)</td>\n",
       "      <td>pp.1025~1064</td>\n",
       "      <td>2008.12</td>\n",
       "      <td>경영학</td>\n",
       "      <td>피인용횟수 : 20</td>\n",
       "      <td>[기타자료]</td>\n",
       "      <td>NaN</td>\n",
       "      <td>Working paper, Harvard University,</td>\n",
       "      <td>Villalonga, Belen</td>\n",
       "      <td>Does Diversification Cause the “Diversificatio...</td>\n",
       "      <td>NaN</td>\n",
       "      <td>1999.0</td>\n",
       "    </tr>\n",
       "  </tbody>\n",
       "</table>\n",
       "</div>"
      ],
      "text/plain": [
       "                                        paper_name_infor institution_infor  \\\n",
       "37155  Corporate Cash Holdings and Tax-induced Debt F...           한국증권학회    \n",
       "37180  Corporate Cash Holdings and Tax-induced Debt F...           한국증권학회    \n",
       "37196  Corporate Cash Holdings and Tax-induced Debt F...           한국증권학회    \n",
       "37211  Corporate Diversification, Relatedness, and Fi...           한국증권학회    \n",
       "37242  Corporate Diversification, Relatedness, and Fi...           한국증권학회    \n",
       "\n",
       "           author_infor                                journal_infor  \\\n",
       "37155        정구열 , 김병모    Asia-Pacific Journal of Financial Studies    \n",
       "37180        정구열 , 김병모    Asia-Pacific Journal of Financial Studies    \n",
       "37196        정구열 , 김병모    Asia-Pacific Journal of Financial Studies    \n",
       "37211  배성철 , 권택호 , 이장우    Asia-Pacific Journal of Financial Studies    \n",
       "37242  배성철 , 권택호 , 이장우    Asia-Pacific Journal of Financial Studies    \n",
       "\n",
       "      dont_know_infor      page_infor  year_infor field_infor cited_infor  \\\n",
       "37155          37(6)     pp.983~1023      2008.12         경영학  피인용횟수 : 10   \n",
       "37180          37(6)     pp.983~1023      2008.12         경영학  피인용횟수 : 10   \n",
       "37196          37(6)     pp.983~1023      2008.12         경영학  피인용횟수 : 10   \n",
       "37211          37(6)    pp.1025~1064      2008.12         경영학  피인용횟수 : 20   \n",
       "37242          37(6)    pp.1025~1064      2008.12         경영학  피인용횟수 : 20   \n",
       "\n",
       "      char_refer degree_refer                                journal_refer  \\\n",
       "37155     [기타자료]          NaN  working paper, University of Rochester, NY,   \n",
       "37180     [기타자료]          NaN                      working paper No. 6995,   \n",
       "37196     [기타자료]          NaN          University of California, Berkeley,   \n",
       "37211     [기타자료]          NaN                                          NaN   \n",
       "37242     [기타자료]          NaN           Working paper, Harvard University,   \n",
       "\n",
       "               name_refer                                        paper_refer  \\\n",
       "37155       Barclay, M. J  On the debt capacity of growth options. Unpubl...   \n",
       "37180           Khanna, T  Emerging market business groups, foreign inves...   \n",
       "37196          Ross, M. P  Corporate hedging: What, why and how? Working ...   \n",
       "37211      Chandler, A. D  The Visible Hand, Belknap Press, Cambridge, MA...   \n",
       "37242   Villalonga, Belen  Does Diversification Cause the “Diversificatio...   \n",
       "\n",
       "      school_refer  year_refer  \n",
       "37155          NaN      2001.0  \n",
       "37180          NaN      1999.0  \n",
       "37196          NaN      1997.0  \n",
       "37211          NaN      1977.0  \n",
       "37242          NaN      1999.0  "
      ]
     },
     "execution_count": 177,
     "metadata": {},
     "output_type": "execute_result"
    }
   ],
   "source": [
    "df[df['char_refer'] == '[기타자료]'].tail()"
   ]
  },
  {
   "cell_type": "code",
   "execution_count": 178,
   "metadata": {},
   "outputs": [
    {
     "data": {
      "text/plain": [
       "paper_name_infor       0\n",
       "institution_infor      0\n",
       "author_infor           0\n",
       "journal_infor          0\n",
       "dont_know_infor        0\n",
       "page_infor             0\n",
       "year_infor             0\n",
       "field_infor            0\n",
       "cited_infor            0\n",
       "char_refer             0\n",
       "degree_refer         562\n",
       "journal_refer        230\n",
       "name_refer            20\n",
       "paper_refer            8\n",
       "school_refer         562\n",
       "year_refer             0\n",
       "dtype: int64"
      ]
     },
     "execution_count": 178,
     "metadata": {},
     "output_type": "execute_result"
    }
   ],
   "source": [
    "df[df['char_refer'] == '[기타자료]'].isnull().sum()"
   ]
  },
  {
   "cell_type": "code",
   "execution_count": 179,
   "metadata": {},
   "outputs": [
    {
     "name": "stderr",
     "output_type": "stream",
     "text": [
      "/home/hskimim/anaconda3/lib/python3.6/site-packages/ipykernel_launcher.py:1: UserWarning: Boolean Series key will be reindexed to match DataFrame index.\n",
      "  \"\"\"Entry point for launching an IPython kernel.\n"
     ]
    },
    {
     "data": {
      "text/plain": [
       "230"
      ]
     },
     "execution_count": 179,
     "metadata": {},
     "output_type": "execute_result"
    }
   ],
   "source": [
    "journal_nan_idx = df[df['char_refer'] == '[기타자료]'][df['journal_refer'].isnull()].index.tolist()\n",
    "len(journal_nan_idx)"
   ]
  },
  {
   "cell_type": "code",
   "execution_count": 180,
   "metadata": {},
   "outputs": [
    {
     "name": "stderr",
     "output_type": "stream",
     "text": [
      "/home/hskimim/anaconda3/lib/python3.6/site-packages/ipykernel_launcher.py:1: UserWarning: Boolean Series key will be reindexed to match DataFrame index.\n",
      "  \"\"\"Entry point for launching an IPython kernel.\n"
     ]
    },
    {
     "data": {
      "text/plain": [
       "20"
      ]
     },
     "execution_count": 180,
     "metadata": {},
     "output_type": "execute_result"
    }
   ],
   "source": [
    "name_nan_idx = df[df['char_refer'] == '[기타자료]'][df['name_refer'].isnull()].index.tolist()\n",
    "len(name_nan_idx)"
   ]
  },
  {
   "cell_type": "code",
   "execution_count": 181,
   "metadata": {},
   "outputs": [
    {
     "name": "stderr",
     "output_type": "stream",
     "text": [
      "/home/hskimim/anaconda3/lib/python3.6/site-packages/ipykernel_launcher.py:1: UserWarning: Boolean Series key will be reindexed to match DataFrame index.\n",
      "  \"\"\"Entry point for launching an IPython kernel.\n"
     ]
    },
    {
     "data": {
      "text/plain": [
       "8"
      ]
     },
     "execution_count": 181,
     "metadata": {},
     "output_type": "execute_result"
    }
   ],
   "source": [
    "paper_nan_idx = df[df['char_refer'] == '[기타자료]'][df['paper_refer'].isnull()].index.tolist()\n",
    "len(paper_nan_idx)"
   ]
  },
  {
   "cell_type": "code",
   "execution_count": 183,
   "metadata": {},
   "outputs": [
    {
     "data": {
      "text/plain": [
       "248"
      ]
     },
     "execution_count": 183,
     "metadata": {},
     "output_type": "execute_result"
    }
   ],
   "source": [
    "problem_idx2 = list(set(journal_nan_idx).union(set(name_nan_idx)).union(set(paper_nan_idx)))\n",
    "len(problem_idx2)"
   ]
  },
  {
   "cell_type": "code",
   "execution_count": 184,
   "metadata": {
    "collapsed": true
   },
   "outputs": [],
   "source": [
    "normal_idx2 = [i for i in df[df['char_refer'] == '[기타자료]'].index if i not in problem_idx2]"
   ]
  },
  {
   "cell_type": "code",
   "execution_count": 185,
   "metadata": {},
   "outputs": [
    {
     "data": {
      "text/html": [
       "<div>\n",
       "<style>\n",
       "    .dataframe thead tr:only-child th {\n",
       "        text-align: right;\n",
       "    }\n",
       "\n",
       "    .dataframe thead th {\n",
       "        text-align: left;\n",
       "    }\n",
       "\n",
       "    .dataframe tbody tr th {\n",
       "        vertical-align: top;\n",
       "    }\n",
       "</style>\n",
       "<table border=\"1\" class=\"dataframe\">\n",
       "  <thead>\n",
       "    <tr style=\"text-align: right;\">\n",
       "      <th></th>\n",
       "      <th>paper_name_infor</th>\n",
       "      <th>institution_infor</th>\n",
       "      <th>author_infor</th>\n",
       "      <th>journal_infor</th>\n",
       "      <th>dont_know_infor</th>\n",
       "      <th>page_infor</th>\n",
       "      <th>year_infor</th>\n",
       "      <th>field_infor</th>\n",
       "      <th>cited_infor</th>\n",
       "      <th>char_refer</th>\n",
       "      <th>degree_refer</th>\n",
       "      <th>journal_refer</th>\n",
       "      <th>name_refer</th>\n",
       "      <th>paper_refer</th>\n",
       "      <th>school_refer</th>\n",
       "      <th>year_refer</th>\n",
       "    </tr>\n",
       "  </thead>\n",
       "  <tbody>\n",
       "    <tr>\n",
       "      <th>37118</th>\n",
       "      <td>How Does Prior Information Affect Analyst Fore...</td>\n",
       "      <td>한국증권학회</td>\n",
       "      <td>송민섭</td>\n",
       "      <td>Asia-Pacific Journal of Financial Studies</td>\n",
       "      <td>37(6)</td>\n",
       "      <td>pp.1133~1160</td>\n",
       "      <td>2008.12</td>\n",
       "      <td>경영학</td>\n",
       "      <td>피인용횟수 : 3</td>\n",
       "      <td>[기타자료]</td>\n",
       "      <td>NaN</td>\n",
       "      <td>Working Paper,</td>\n",
       "      <td>Lee, Jung-Hee</td>\n",
       "      <td>Market Reactions to Business Group Analysts’ I...</td>\n",
       "      <td>NaN</td>\n",
       "      <td>2007.0</td>\n",
       "    </tr>\n",
       "    <tr>\n",
       "      <th>37155</th>\n",
       "      <td>Corporate Cash Holdings and Tax-induced Debt F...</td>\n",
       "      <td>한국증권학회</td>\n",
       "      <td>정구열 , 김병모</td>\n",
       "      <td>Asia-Pacific Journal of Financial Studies</td>\n",
       "      <td>37(6)</td>\n",
       "      <td>pp.983~1023</td>\n",
       "      <td>2008.12</td>\n",
       "      <td>경영학</td>\n",
       "      <td>피인용횟수 : 10</td>\n",
       "      <td>[기타자료]</td>\n",
       "      <td>NaN</td>\n",
       "      <td>working paper, University of Rochester, NY,</td>\n",
       "      <td>Barclay, M. J</td>\n",
       "      <td>On the debt capacity of growth options. Unpubl...</td>\n",
       "      <td>NaN</td>\n",
       "      <td>2001.0</td>\n",
       "    </tr>\n",
       "    <tr>\n",
       "      <th>37180</th>\n",
       "      <td>Corporate Cash Holdings and Tax-induced Debt F...</td>\n",
       "      <td>한국증권학회</td>\n",
       "      <td>정구열 , 김병모</td>\n",
       "      <td>Asia-Pacific Journal of Financial Studies</td>\n",
       "      <td>37(6)</td>\n",
       "      <td>pp.983~1023</td>\n",
       "      <td>2008.12</td>\n",
       "      <td>경영학</td>\n",
       "      <td>피인용횟수 : 10</td>\n",
       "      <td>[기타자료]</td>\n",
       "      <td>NaN</td>\n",
       "      <td>working paper No. 6995,</td>\n",
       "      <td>Khanna, T</td>\n",
       "      <td>Emerging market business groups, foreign inves...</td>\n",
       "      <td>NaN</td>\n",
       "      <td>1999.0</td>\n",
       "    </tr>\n",
       "    <tr>\n",
       "      <th>37196</th>\n",
       "      <td>Corporate Cash Holdings and Tax-induced Debt F...</td>\n",
       "      <td>한국증권학회</td>\n",
       "      <td>정구열 , 김병모</td>\n",
       "      <td>Asia-Pacific Journal of Financial Studies</td>\n",
       "      <td>37(6)</td>\n",
       "      <td>pp.983~1023</td>\n",
       "      <td>2008.12</td>\n",
       "      <td>경영학</td>\n",
       "      <td>피인용횟수 : 10</td>\n",
       "      <td>[기타자료]</td>\n",
       "      <td>NaN</td>\n",
       "      <td>University of California, Berkeley,</td>\n",
       "      <td>Ross, M. P</td>\n",
       "      <td>Corporate hedging: What, why and how? Working ...</td>\n",
       "      <td>NaN</td>\n",
       "      <td>1997.0</td>\n",
       "    </tr>\n",
       "    <tr>\n",
       "      <th>37242</th>\n",
       "      <td>Corporate Diversification, Relatedness, and Fi...</td>\n",
       "      <td>한국증권학회</td>\n",
       "      <td>배성철 , 권택호 , 이장우</td>\n",
       "      <td>Asia-Pacific Journal of Financial Studies</td>\n",
       "      <td>37(6)</td>\n",
       "      <td>pp.1025~1064</td>\n",
       "      <td>2008.12</td>\n",
       "      <td>경영학</td>\n",
       "      <td>피인용횟수 : 20</td>\n",
       "      <td>[기타자료]</td>\n",
       "      <td>NaN</td>\n",
       "      <td>Working paper, Harvard University,</td>\n",
       "      <td>Villalonga, Belen</td>\n",
       "      <td>Does Diversification Cause the “Diversificatio...</td>\n",
       "      <td>NaN</td>\n",
       "      <td>1999.0</td>\n",
       "    </tr>\n",
       "  </tbody>\n",
       "</table>\n",
       "</div>"
      ],
      "text/plain": [
       "                                        paper_name_infor institution_infor  \\\n",
       "37118  How Does Prior Information Affect Analyst Fore...           한국증권학회    \n",
       "37155  Corporate Cash Holdings and Tax-induced Debt F...           한국증권학회    \n",
       "37180  Corporate Cash Holdings and Tax-induced Debt F...           한국증권학회    \n",
       "37196  Corporate Cash Holdings and Tax-induced Debt F...           한국증권학회    \n",
       "37242  Corporate Diversification, Relatedness, and Fi...           한국증권학회    \n",
       "\n",
       "           author_infor                                journal_infor  \\\n",
       "37118              송민섭    Asia-Pacific Journal of Financial Studies    \n",
       "37155        정구열 , 김병모    Asia-Pacific Journal of Financial Studies    \n",
       "37180        정구열 , 김병모    Asia-Pacific Journal of Financial Studies    \n",
       "37196        정구열 , 김병모    Asia-Pacific Journal of Financial Studies    \n",
       "37242  배성철 , 권택호 , 이장우    Asia-Pacific Journal of Financial Studies    \n",
       "\n",
       "      dont_know_infor      page_infor  year_infor field_infor cited_infor  \\\n",
       "37118          37(6)    pp.1133~1160      2008.12         경영학   피인용횟수 : 3   \n",
       "37155          37(6)     pp.983~1023      2008.12         경영학  피인용횟수 : 10   \n",
       "37180          37(6)     pp.983~1023      2008.12         경영학  피인용횟수 : 10   \n",
       "37196          37(6)     pp.983~1023      2008.12         경영학  피인용횟수 : 10   \n",
       "37242          37(6)    pp.1025~1064      2008.12         경영학  피인용횟수 : 20   \n",
       "\n",
       "      char_refer degree_refer                                journal_refer  \\\n",
       "37118     [기타자료]          NaN                               Working Paper,   \n",
       "37155     [기타자료]          NaN  working paper, University of Rochester, NY,   \n",
       "37180     [기타자료]          NaN                      working paper No. 6995,   \n",
       "37196     [기타자료]          NaN          University of California, Berkeley,   \n",
       "37242     [기타자료]          NaN           Working paper, Harvard University,   \n",
       "\n",
       "               name_refer                                        paper_refer  \\\n",
       "37118       Lee, Jung-Hee  Market Reactions to Business Group Analysts’ I...   \n",
       "37155       Barclay, M. J  On the debt capacity of growth options. Unpubl...   \n",
       "37180           Khanna, T  Emerging market business groups, foreign inves...   \n",
       "37196          Ross, M. P  Corporate hedging: What, why and how? Working ...   \n",
       "37242   Villalonga, Belen  Does Diversification Cause the “Diversificatio...   \n",
       "\n",
       "      school_refer  year_refer  \n",
       "37118          NaN      2007.0  \n",
       "37155          NaN      2001.0  \n",
       "37180          NaN      1999.0  \n",
       "37196          NaN      1997.0  \n",
       "37242          NaN      1999.0  "
      ]
     },
     "execution_count": 185,
     "metadata": {},
     "output_type": "execute_result"
    }
   ],
   "source": [
    "기타자료_df = df[df['char_refer'] == '[기타자료]'].loc[normal_idx2]\n",
    "기타자료_df.tail()"
   ]
  },
  {
   "cell_type": "code",
   "execution_count": 187,
   "metadata": {},
   "outputs": [
    {
     "data": {
      "text/plain": [
       "(paper_name_infor       0\n",
       " institution_infor      0\n",
       " author_infor           0\n",
       " journal_infor          0\n",
       " dont_know_infor        0\n",
       " page_infor             0\n",
       " year_infor             0\n",
       " field_infor            0\n",
       " cited_infor            0\n",
       " char_refer             0\n",
       " degree_refer         314\n",
       " journal_refer          0\n",
       " name_refer             0\n",
       " paper_refer            0\n",
       " school_refer         314\n",
       " year_refer             0\n",
       " dtype: int64, (314, 16))"
      ]
     },
     "execution_count": 187,
     "metadata": {},
     "output_type": "execute_result"
    }
   ],
   "source": [
    "기타자료_df.isnull().sum() , 기타자료_df.shape"
   ]
  },
  {
   "cell_type": "markdown",
   "metadata": {},
   "source": [
    "# [학위논문]"
   ]
  },
  {
   "cell_type": "code",
   "execution_count": 156,
   "metadata": {
    "scrolled": true
   },
   "outputs": [
    {
     "data": {
      "text/html": [
       "<div>\n",
       "<style>\n",
       "    .dataframe thead tr:only-child th {\n",
       "        text-align: right;\n",
       "    }\n",
       "\n",
       "    .dataframe thead th {\n",
       "        text-align: left;\n",
       "    }\n",
       "\n",
       "    .dataframe tbody tr th {\n",
       "        vertical-align: top;\n",
       "    }\n",
       "</style>\n",
       "<table border=\"1\" class=\"dataframe\">\n",
       "  <thead>\n",
       "    <tr style=\"text-align: right;\">\n",
       "      <th></th>\n",
       "      <th>paper_name_infor</th>\n",
       "      <th>institution_infor</th>\n",
       "      <th>author_infor</th>\n",
       "      <th>journal_infor</th>\n",
       "      <th>dont_know_infor</th>\n",
       "      <th>page_infor</th>\n",
       "      <th>year_infor</th>\n",
       "      <th>field_infor</th>\n",
       "      <th>cited_infor</th>\n",
       "      <th>char_refer</th>\n",
       "      <th>degree_refer</th>\n",
       "      <th>journal_refer</th>\n",
       "      <th>name_refer</th>\n",
       "      <th>paper_refer</th>\n",
       "      <th>school_refer</th>\n",
       "      <th>year_refer</th>\n",
       "    </tr>\n",
       "  </thead>\n",
       "  <tbody>\n",
       "    <tr>\n",
       "      <th>32452</th>\n",
       "      <td>우체국보험 자료를 이용한 생명보험시장의 모럴해저드에 대한 연구</td>\n",
       "      <td>한국파생상품학회</td>\n",
       "      <td>이일주 , 이창준</td>\n",
       "      <td>선물연구</td>\n",
       "      <td>25(1)</td>\n",
       "      <td>pp.75~95</td>\n",
       "      <td>2017.02</td>\n",
       "      <td>경영학</td>\n",
       "      <td>피인용횟수 : 0</td>\n",
       "      <td>[학위논문]</td>\n",
       "      <td>NaN</td>\n",
       "      <td>국민대학교대학원,</td>\n",
       "      <td>이송우</td>\n",
       "      <td>민영건강보험의 도덕적 해이와 본인부담금의 도입효과에 관한 연구</td>\n",
       "      <td>NaN</td>\n",
       "      <td>2011.0</td>\n",
       "    </tr>\n",
       "    <tr>\n",
       "      <th>32453</th>\n",
       "      <td>우체국보험 자료를 이용한 생명보험시장의 모럴해저드에 대한 연구</td>\n",
       "      <td>한국파생상품학회</td>\n",
       "      <td>이일주 , 이창준</td>\n",
       "      <td>선물연구</td>\n",
       "      <td>25(1)</td>\n",
       "      <td>pp.75~95</td>\n",
       "      <td>2017.02</td>\n",
       "      <td>경영학</td>\n",
       "      <td>피인용횟수 : 0</td>\n",
       "      <td>[학위논문]</td>\n",
       "      <td>석사</td>\n",
       "      <td>NaN</td>\n",
       "      <td>이수진</td>\n",
       "      <td>민간의료보험이 의료수요에 미치는 영향 : 도덕적 해이와 역선택 효과의 실증적 구분</td>\n",
       "      <td>연세대학교 대학원,</td>\n",
       "      <td>2012.0</td>\n",
       "    </tr>\n",
       "    <tr>\n",
       "      <th>32878</th>\n",
       "      <td>한국형 자동이체식 주택저당증권(Pass-Through MBS)에 대한 가치평가모형 개발</td>\n",
       "      <td>한국파생상품학회</td>\n",
       "      <td>안세륭 , 태현욱 , 서웅기 외 3명</td>\n",
       "      <td>선물연구</td>\n",
       "      <td>25(3)</td>\n",
       "      <td>pp.305~337</td>\n",
       "      <td>2017.08</td>\n",
       "      <td>경영학</td>\n",
       "      <td>피인용횟수 : 0</td>\n",
       "      <td>[학위논문]</td>\n",
       "      <td>박사</td>\n",
       "      <td>NaN</td>\n",
       "      <td>한영하</td>\n",
       "      <td>한국주택금융공사 보금자리론 조기상환율 추정 및 가치산정 연구</td>\n",
       "      <td>연세대학교 대학원,</td>\n",
       "      <td>2014.0</td>\n",
       "    </tr>\n",
       "    <tr>\n",
       "      <th>36364</th>\n",
       "      <td>Distribution of Private Information Across Inv...</td>\n",
       "      <td>한국증권학회</td>\n",
       "      <td>최혁 , 이우백 , 정재만</td>\n",
       "      <td>Asia-Pacific Journal of Financial Studies</td>\n",
       "      <td>37(1)</td>\n",
       "      <td>pp.101~137</td>\n",
       "      <td>2008.02</td>\n",
       "      <td>경영학</td>\n",
       "      <td>피인용횟수 : 11</td>\n",
       "      <td>[학위논문]</td>\n",
       "      <td>박사</td>\n",
       "      <td>NaN</td>\n",
       "      <td>Low, A</td>\n",
       "      <td>Essays on asymmetric information in internatio...</td>\n",
       "      <td>University of California,</td>\n",
       "      <td>1992.0</td>\n",
       "    </tr>\n",
       "    <tr>\n",
       "      <th>36602</th>\n",
       "      <td>An improved approach for valuing American opti...</td>\n",
       "      <td>한국증권학회</td>\n",
       "      <td>최영수 , 송준혁</td>\n",
       "      <td>Asia-Pacific Journal of Financial Studies</td>\n",
       "      <td>37(2)</td>\n",
       "      <td>pp.217~244</td>\n",
       "      <td>2008.04</td>\n",
       "      <td>경영학</td>\n",
       "      <td>피인용횟수 : 1</td>\n",
       "      <td>[학위논문]</td>\n",
       "      <td>박사</td>\n",
       "      <td>NaN</td>\n",
       "      <td>Averbukh, V</td>\n",
       "      <td>Pricing American options using Monte Carlo sim...</td>\n",
       "      <td>Cornell University,</td>\n",
       "      <td>1997.0</td>\n",
       "    </tr>\n",
       "  </tbody>\n",
       "</table>\n",
       "</div>"
      ],
      "text/plain": [
       "                                        paper_name_infor institution_infor  \\\n",
       "32452                 우체국보험 자료를 이용한 생명보험시장의 모럴해저드에 대한 연구         한국파생상품학회    \n",
       "32453                 우체국보험 자료를 이용한 생명보험시장의 모럴해저드에 대한 연구         한국파생상품학회    \n",
       "32878   한국형 자동이체식 주택저당증권(Pass-Through MBS)에 대한 가치평가모형 개발         한국파생상품학회    \n",
       "36364  Distribution of Private Information Across Inv...           한국증권학회    \n",
       "36602  An improved approach for valuing American opti...           한국증권학회    \n",
       "\n",
       "                author_infor                                journal_infor  \\\n",
       "32452             이일주 , 이창준                                         선물연구    \n",
       "32453             이일주 , 이창준                                         선물연구    \n",
       "32878  안세륭 , 태현욱 , 서웅기 외 3명                                         선물연구    \n",
       "36364        최혁 , 이우백 , 정재만    Asia-Pacific Journal of Financial Studies    \n",
       "36602             최영수 , 송준혁    Asia-Pacific Journal of Financial Studies    \n",
       "\n",
       "      dont_know_infor    page_infor  year_infor field_infor cited_infor  \\\n",
       "32452          25(1)      pp.75~95      2017.02         경영학   피인용횟수 : 0   \n",
       "32453          25(1)      pp.75~95      2017.02         경영학   피인용횟수 : 0   \n",
       "32878          25(3)    pp.305~337      2017.08         경영학   피인용횟수 : 0   \n",
       "36364          37(1)    pp.101~137      2008.02         경영학  피인용횟수 : 11   \n",
       "36602          37(2)    pp.217~244      2008.04         경영학   피인용횟수 : 1   \n",
       "\n",
       "      char_refer degree_refer journal_refer    name_refer  \\\n",
       "32452     [학위논문]          NaN     국민대학교대학원,           이송우   \n",
       "32453     [학위논문]           석사           NaN           이수진   \n",
       "32878     [학위논문]           박사           NaN           한영하   \n",
       "36364     [학위논문]           박사           NaN        Low, A   \n",
       "36602     [학위논문]           박사           NaN   Averbukh, V   \n",
       "\n",
       "                                             paper_refer  \\\n",
       "32452                 민영건강보험의 도덕적 해이와 본인부담금의 도입효과에 관한 연구   \n",
       "32453      민간의료보험이 의료수요에 미치는 영향 : 도덕적 해이와 역선택 효과의 실증적 구분   \n",
       "32878                  한국주택금융공사 보금자리론 조기상환율 추정 및 가치산정 연구   \n",
       "36364  Essays on asymmetric information in internatio...   \n",
       "36602  Pricing American options using Monte Carlo sim...   \n",
       "\n",
       "                    school_refer  year_refer  \n",
       "32452                        NaN      2011.0  \n",
       "32453                 연세대학교 대학원,      2012.0  \n",
       "32878                 연세대학교 대학원,      2014.0  \n",
       "36364  University of California,      1992.0  \n",
       "36602        Cornell University,      1997.0  "
      ]
     },
     "execution_count": 156,
     "metadata": {},
     "output_type": "execute_result"
    }
   ],
   "source": [
    "df[df['char_refer'] == '[학위논문]'].tail()"
   ]
  },
  {
   "cell_type": "code",
   "execution_count": 157,
   "metadata": {},
   "outputs": [
    {
     "data": {
      "text/plain": [
       "paper_name_infor      0\n",
       "institution_infor     0\n",
       "author_infor          0\n",
       "journal_infor         0\n",
       "dont_know_infor       0\n",
       "page_infor            0\n",
       "year_infor            0\n",
       "field_infor           0\n",
       "cited_infor           0\n",
       "char_refer            0\n",
       "degree_refer          5\n",
       "journal_refer        93\n",
       "name_refer            0\n",
       "paper_refer           0\n",
       "school_refer          5\n",
       "year_refer            0\n",
       "dtype: int64"
      ]
     },
     "execution_count": 157,
     "metadata": {},
     "output_type": "execute_result"
    }
   ],
   "source": [
    "df[df['char_refer'] == '[학위논문]'].isnull().sum()"
   ]
  },
  {
   "cell_type": "markdown",
   "metadata": {},
   "source": [
    "아래의 요소들이 school_refer 컬럼으로 들어가야 한다."
   ]
  },
  {
   "cell_type": "code",
   "execution_count": 158,
   "metadata": {
    "scrolled": true
   },
   "outputs": [
    {
     "data": {
      "text/plain": [
       "{nan,\n",
       " '국민대학교대학원,',\n",
       " '금융투자업에 관한 법률을 중심으로',\n",
       " 'Korea University,',\n",
       " 'University of British Columbia,',\n",
       " 'The Chinese University of Hong Kong,',\n",
       " 'University of Toronto,'}"
      ]
     },
     "execution_count": 158,
     "metadata": {},
     "output_type": "execute_result"
    }
   ],
   "source": [
    "set(df[df['char_refer'] == '[학위논문]']['journal_refer'].tolist())"
   ]
  },
  {
   "cell_type": "code",
   "execution_count": 159,
   "metadata": {},
   "outputs": [
    {
     "data": {
      "text/plain": [
       "[5502, 6983, 19828, 27689, 30907, 32452]"
      ]
     },
     "execution_count": 159,
     "metadata": {},
     "output_type": "execute_result"
    }
   ],
   "source": [
    "problem_idx3 = df[df['char_refer'] == '[학위논문]']['journal_refer'][df[df['char_refer'] == '[학위논문]']['journal_refer'].notnull()].index.tolist()\n",
    "problem_idx3"
   ]
  },
  {
   "cell_type": "code",
   "execution_count": 160,
   "metadata": {},
   "outputs": [
    {
     "name": "stderr",
     "output_type": "stream",
     "text": [
      "/home/hskimim/anaconda3/lib/python3.6/site-packages/ipykernel_launcher.py:3: SettingWithCopyWarning: \n",
      "A value is trying to be set on a copy of a slice from a DataFrame\n",
      "\n",
      "See the caveats in the documentation: http://pandas.pydata.org/pandas-docs/stable/indexing.html#indexing-view-versus-copy\n",
      "  This is separate from the ipykernel package so we can avoid doing imports until\n",
      "/home/hskimim/anaconda3/lib/python3.6/site-packages/ipykernel_launcher.py:4: SettingWithCopyWarning: \n",
      "A value is trying to be set on a copy of a slice from a DataFrame\n",
      "\n",
      "See the caveats in the documentation: http://pandas.pydata.org/pandas-docs/stable/indexing.html#indexing-view-versus-copy\n",
      "  after removing the cwd from sys.path.\n"
     ]
    }
   ],
   "source": [
    "for i in problem_idx3 : \n",
    "    val = df['journal_refer'][i]\n",
    "    df['school_refer'][i] = val\n",
    "    df['journal_refer'][i] = np.nan"
   ]
  },
  {
   "cell_type": "code",
   "execution_count": 161,
   "metadata": {
    "scrolled": true
   },
   "outputs": [
    {
     "data": {
      "text/plain": [
       "{nan}"
      ]
     },
     "execution_count": 161,
     "metadata": {},
     "output_type": "execute_result"
    }
   ],
   "source": [
    "set(df[df['char_refer'] == '[학위논문]']['journal_refer'].tolist())"
   ]
  },
  {
   "cell_type": "code",
   "execution_count": 162,
   "metadata": {},
   "outputs": [
    {
     "data": {
      "text/plain": [
       "paper_name_infor      0\n",
       "institution_infor     0\n",
       "author_infor          0\n",
       "journal_infor         0\n",
       "dont_know_infor       0\n",
       "page_infor            0\n",
       "year_infor            0\n",
       "field_infor           0\n",
       "cited_infor           0\n",
       "char_refer            0\n",
       "degree_refer          5\n",
       "journal_refer        99\n",
       "name_refer            0\n",
       "paper_refer           0\n",
       "school_refer          0\n",
       "year_refer            0\n",
       "dtype: int64"
      ]
     },
     "execution_count": 162,
     "metadata": {},
     "output_type": "execute_result"
    }
   ],
   "source": [
    "df[df['char_refer'] == '[학위논문]'].isnull().sum()"
   ]
  },
  {
   "cell_type": "code",
   "execution_count": 163,
   "metadata": {},
   "outputs": [
    {
     "name": "stderr",
     "output_type": "stream",
     "text": [
      "/home/hskimim/anaconda3/lib/python3.6/site-packages/ipykernel_launcher.py:1: UserWarning: Boolean Series key will be reindexed to match DataFrame index.\n",
      "  \"\"\"Entry point for launching an IPython kernel.\n"
     ]
    },
    {
     "data": {
      "text/plain": [
       "5"
      ]
     },
     "execution_count": 163,
     "metadata": {},
     "output_type": "execute_result"
    }
   ],
   "source": [
    "degree_refer_nan_idx = df[df['char_refer'] == '[학위논문]'][df['degree_refer'].isnull()].index.tolist()\n",
    "len(degree_refer_nan_idx)"
   ]
  },
  {
   "cell_type": "code",
   "execution_count": 164,
   "metadata": {},
   "outputs": [],
   "source": [
    "problem_idx = degree_refer_nan_idx"
   ]
  },
  {
   "cell_type": "code",
   "execution_count": 165,
   "metadata": {},
   "outputs": [],
   "source": [
    "normal_idx = [i for i in df[df['char_refer'] == '[학위논문]'].index if i not in problem_idx]"
   ]
  },
  {
   "cell_type": "code",
   "execution_count": 166,
   "metadata": {},
   "outputs": [
    {
     "data": {
      "text/html": [
       "<div>\n",
       "<style>\n",
       "    .dataframe thead tr:only-child th {\n",
       "        text-align: right;\n",
       "    }\n",
       "\n",
       "    .dataframe thead th {\n",
       "        text-align: left;\n",
       "    }\n",
       "\n",
       "    .dataframe tbody tr th {\n",
       "        vertical-align: top;\n",
       "    }\n",
       "</style>\n",
       "<table border=\"1\" class=\"dataframe\">\n",
       "  <thead>\n",
       "    <tr style=\"text-align: right;\">\n",
       "      <th></th>\n",
       "      <th>paper_name_infor</th>\n",
       "      <th>institution_infor</th>\n",
       "      <th>author_infor</th>\n",
       "      <th>journal_infor</th>\n",
       "      <th>dont_know_infor</th>\n",
       "      <th>page_infor</th>\n",
       "      <th>year_infor</th>\n",
       "      <th>field_infor</th>\n",
       "      <th>cited_infor</th>\n",
       "      <th>char_refer</th>\n",
       "      <th>degree_refer</th>\n",
       "      <th>journal_refer</th>\n",
       "      <th>name_refer</th>\n",
       "      <th>paper_refer</th>\n",
       "      <th>school_refer</th>\n",
       "      <th>year_refer</th>\n",
       "    </tr>\n",
       "  </thead>\n",
       "  <tbody>\n",
       "    <tr>\n",
       "      <th>32447</th>\n",
       "      <td>우체국보험 자료를 이용한 생명보험시장의 모럴해저드에 대한 연구</td>\n",
       "      <td>한국파생상품학회</td>\n",
       "      <td>이일주 , 이창준</td>\n",
       "      <td>선물연구</td>\n",
       "      <td>25(1)</td>\n",
       "      <td>pp.75~95</td>\n",
       "      <td>2017.02</td>\n",
       "      <td>경영학</td>\n",
       "      <td>피인용횟수 : 0</td>\n",
       "      <td>[학위논문]</td>\n",
       "      <td>석사</td>\n",
       "      <td>NaN</td>\n",
       "      <td>김동현</td>\n",
       "      <td>국내 민간의료보험 시장의 역선택에 관한 실증연구</td>\n",
       "      <td>경희대학교 대학원,</td>\n",
       "      <td>2008.0</td>\n",
       "    </tr>\n",
       "    <tr>\n",
       "      <th>32453</th>\n",
       "      <td>우체국보험 자료를 이용한 생명보험시장의 모럴해저드에 대한 연구</td>\n",
       "      <td>한국파생상품학회</td>\n",
       "      <td>이일주 , 이창준</td>\n",
       "      <td>선물연구</td>\n",
       "      <td>25(1)</td>\n",
       "      <td>pp.75~95</td>\n",
       "      <td>2017.02</td>\n",
       "      <td>경영학</td>\n",
       "      <td>피인용횟수 : 0</td>\n",
       "      <td>[학위논문]</td>\n",
       "      <td>석사</td>\n",
       "      <td>NaN</td>\n",
       "      <td>이수진</td>\n",
       "      <td>민간의료보험이 의료수요에 미치는 영향 : 도덕적 해이와 역선택 효과의 실증적 구분</td>\n",
       "      <td>연세대학교 대학원,</td>\n",
       "      <td>2012.0</td>\n",
       "    </tr>\n",
       "    <tr>\n",
       "      <th>32878</th>\n",
       "      <td>한국형 자동이체식 주택저당증권(Pass-Through MBS)에 대한 가치평가모형 개발</td>\n",
       "      <td>한국파생상품학회</td>\n",
       "      <td>안세륭 , 태현욱 , 서웅기 외 3명</td>\n",
       "      <td>선물연구</td>\n",
       "      <td>25(3)</td>\n",
       "      <td>pp.305~337</td>\n",
       "      <td>2017.08</td>\n",
       "      <td>경영학</td>\n",
       "      <td>피인용횟수 : 0</td>\n",
       "      <td>[학위논문]</td>\n",
       "      <td>박사</td>\n",
       "      <td>NaN</td>\n",
       "      <td>한영하</td>\n",
       "      <td>한국주택금융공사 보금자리론 조기상환율 추정 및 가치산정 연구</td>\n",
       "      <td>연세대학교 대학원,</td>\n",
       "      <td>2014.0</td>\n",
       "    </tr>\n",
       "    <tr>\n",
       "      <th>36364</th>\n",
       "      <td>Distribution of Private Information Across Inv...</td>\n",
       "      <td>한국증권학회</td>\n",
       "      <td>최혁 , 이우백 , 정재만</td>\n",
       "      <td>Asia-Pacific Journal of Financial Studies</td>\n",
       "      <td>37(1)</td>\n",
       "      <td>pp.101~137</td>\n",
       "      <td>2008.02</td>\n",
       "      <td>경영학</td>\n",
       "      <td>피인용횟수 : 11</td>\n",
       "      <td>[학위논문]</td>\n",
       "      <td>박사</td>\n",
       "      <td>NaN</td>\n",
       "      <td>Low, A</td>\n",
       "      <td>Essays on asymmetric information in internatio...</td>\n",
       "      <td>University of California,</td>\n",
       "      <td>1992.0</td>\n",
       "    </tr>\n",
       "    <tr>\n",
       "      <th>36602</th>\n",
       "      <td>An improved approach for valuing American opti...</td>\n",
       "      <td>한국증권학회</td>\n",
       "      <td>최영수 , 송준혁</td>\n",
       "      <td>Asia-Pacific Journal of Financial Studies</td>\n",
       "      <td>37(2)</td>\n",
       "      <td>pp.217~244</td>\n",
       "      <td>2008.04</td>\n",
       "      <td>경영학</td>\n",
       "      <td>피인용횟수 : 1</td>\n",
       "      <td>[학위논문]</td>\n",
       "      <td>박사</td>\n",
       "      <td>NaN</td>\n",
       "      <td>Averbukh, V</td>\n",
       "      <td>Pricing American options using Monte Carlo sim...</td>\n",
       "      <td>Cornell University,</td>\n",
       "      <td>1997.0</td>\n",
       "    </tr>\n",
       "  </tbody>\n",
       "</table>\n",
       "</div>"
      ],
      "text/plain": [
       "                                        paper_name_infor institution_infor  \\\n",
       "32447                 우체국보험 자료를 이용한 생명보험시장의 모럴해저드에 대한 연구         한국파생상품학회    \n",
       "32453                 우체국보험 자료를 이용한 생명보험시장의 모럴해저드에 대한 연구         한국파생상품학회    \n",
       "32878   한국형 자동이체식 주택저당증권(Pass-Through MBS)에 대한 가치평가모형 개발         한국파생상품학회    \n",
       "36364  Distribution of Private Information Across Inv...           한국증권학회    \n",
       "36602  An improved approach for valuing American opti...           한국증권학회    \n",
       "\n",
       "                author_infor                                journal_infor  \\\n",
       "32447             이일주 , 이창준                                         선물연구    \n",
       "32453             이일주 , 이창준                                         선물연구    \n",
       "32878  안세륭 , 태현욱 , 서웅기 외 3명                                         선물연구    \n",
       "36364        최혁 , 이우백 , 정재만    Asia-Pacific Journal of Financial Studies    \n",
       "36602             최영수 , 송준혁    Asia-Pacific Journal of Financial Studies    \n",
       "\n",
       "      dont_know_infor    page_infor  year_infor field_infor cited_infor  \\\n",
       "32447          25(1)      pp.75~95      2017.02         경영학   피인용횟수 : 0   \n",
       "32453          25(1)      pp.75~95      2017.02         경영학   피인용횟수 : 0   \n",
       "32878          25(3)    pp.305~337      2017.08         경영학   피인용횟수 : 0   \n",
       "36364          37(1)    pp.101~137      2008.02         경영학  피인용횟수 : 11   \n",
       "36602          37(2)    pp.217~244      2008.04         경영학   피인용횟수 : 1   \n",
       "\n",
       "      char_refer degree_refer journal_refer    name_refer  \\\n",
       "32447     [학위논문]           석사           NaN           김동현   \n",
       "32453     [학위논문]           석사           NaN           이수진   \n",
       "32878     [학위논문]           박사           NaN           한영하   \n",
       "36364     [학위논문]           박사           NaN        Low, A   \n",
       "36602     [학위논문]           박사           NaN   Averbukh, V   \n",
       "\n",
       "                                             paper_refer  \\\n",
       "32447                         국내 민간의료보험 시장의 역선택에 관한 실증연구   \n",
       "32453      민간의료보험이 의료수요에 미치는 영향 : 도덕적 해이와 역선택 효과의 실증적 구분   \n",
       "32878                  한국주택금융공사 보금자리론 조기상환율 추정 및 가치산정 연구   \n",
       "36364  Essays on asymmetric information in internatio...   \n",
       "36602  Pricing American options using Monte Carlo sim...   \n",
       "\n",
       "                    school_refer  year_refer  \n",
       "32447                 경희대학교 대학원,      2008.0  \n",
       "32453                 연세대학교 대학원,      2012.0  \n",
       "32878                 연세대학교 대학원,      2014.0  \n",
       "36364  University of California,      1992.0  \n",
       "36602        Cornell University,      1997.0  "
      ]
     },
     "execution_count": 166,
     "metadata": {},
     "output_type": "execute_result"
    }
   ],
   "source": [
    "학위논문_df = df[df['char_refer'] == '[학위논문]'].loc[normal_idx]\n",
    "학위논문_df.tail()"
   ]
  },
  {
   "cell_type": "code",
   "execution_count": 167,
   "metadata": {},
   "outputs": [
    {
     "data": {
      "text/plain": [
       "(paper_name_infor      0\n",
       " institution_infor     0\n",
       " author_infor          0\n",
       " journal_infor         0\n",
       " dont_know_infor       0\n",
       " page_infor            0\n",
       " year_infor            0\n",
       " field_infor           0\n",
       " cited_infor           0\n",
       " char_refer            0\n",
       " degree_refer          0\n",
       " journal_refer        94\n",
       " name_refer            0\n",
       " paper_refer           0\n",
       " school_refer          0\n",
       " year_refer            0\n",
       " dtype: int64, (94, 16))"
      ]
     },
     "execution_count": 167,
     "metadata": {},
     "output_type": "execute_result"
    }
   ],
   "source": [
    "학위논문_df.isnull().sum() , 학위논문_df.shape"
   ]
  },
  {
   "cell_type": "markdown",
   "metadata": {},
   "source": [
    "# CONCATENATE"
   ]
  },
  {
   "cell_type": "code",
   "execution_count": 198,
   "metadata": {},
   "outputs": [],
   "source": [
    "df1,df2,df3,df4,df5,df6 = 학술대회논문_df , 학술지_df , 학위논문_df , 보고서_df , 단행본_df , 기타자료_df"
   ]
  },
  {
   "cell_type": "code",
   "execution_count": 202,
   "metadata": {},
   "outputs": [
    {
     "data": {
      "text/plain": [
       "((383, 16), (27366, 16), (94, 16), (93, 16), (1018, 16), (314, 16))"
      ]
     },
     "execution_count": 202,
     "metadata": {},
     "output_type": "execute_result"
    }
   ],
   "source": [
    "학술대회논문_df.shape , 학술지_df.shape , 학위논문_df.shape , 보고서_df.shape , 단행본_df.shape , 기타자료_df.shape"
   ]
  },
  {
   "cell_type": "code",
   "execution_count": 203,
   "metadata": {
    "scrolled": true
   },
   "outputs": [
    {
     "data": {
      "text/plain": [
       "paper_name_infor         0\n",
       "institution_infor        0\n",
       "author_infor             0\n",
       "journal_infor            0\n",
       "dont_know_infor          0\n",
       "page_infor               0\n",
       "year_infor               0\n",
       "field_infor              0\n",
       "cited_infor              0\n",
       "char_refer               0\n",
       "degree_refer         29174\n",
       "journal_refer           94\n",
       "name_refer               0\n",
       "paper_refer              0\n",
       "school_refer         29174\n",
       "year_refer               0\n",
       "dtype: int64"
      ]
     },
     "execution_count": 203,
     "metadata": {},
     "output_type": "execute_result"
    }
   ],
   "source": [
    "df = pd.concat([df1, df2, df3, df4, df5, df6], ignore_index=True)\n",
    "df.isnull().sum()"
   ]
  },
  {
   "cell_type": "code",
   "execution_count": 204,
   "metadata": {
    "collapsed": true
   },
   "outputs": [],
   "source": [
    "df.to_csv('stricted_filtered_final_df.csv',index=False)"
   ]
  }
 ],
 "metadata": {
  "kernelspec": {
   "display_name": "Python 3",
   "language": "python",
   "name": "python3"
  },
  "language_info": {
   "codemirror_mode": {
    "name": "ipython",
    "version": 3
   },
   "file_extension": ".py",
   "mimetype": "text/x-python",
   "name": "python",
   "nbconvert_exporter": "python",
   "pygments_lexer": "ipython3",
   "version": "3.6.3"
  }
 },
 "nbformat": 4,
 "nbformat_minor": 2
}
