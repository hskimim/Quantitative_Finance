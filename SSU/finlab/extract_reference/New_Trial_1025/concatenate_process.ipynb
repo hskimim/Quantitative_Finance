{
 "cells": [
  {
   "cell_type": "markdown",
   "metadata": {},
   "source": [
    "#### 데이터프레임을 합쳐준 작업 즉, 증권학회지/선물연구/재무연구/재무관리연구 에 대한 논문들의 번들을 하나의 데이터 프레임으로 병합해주었다."
   ]
  },
  {
   "cell_type": "code",
   "execution_count": 7,
   "metadata": {
    "collapsed": true
   },
   "outputs": [],
   "source": [
    "import pandas as pd\n",
    "import os"
   ]
  },
  {
   "cell_type": "code",
   "execution_count": 17,
   "metadata": {},
   "outputs": [
    {
     "data": {
      "text/plain": [
       "['journal_tuning_process.py',\n",
       " 'crawling_process.ipynb',\n",
       " '.ipynb_checkpoints',\n",
       " 'new_tuned_references.csv',\n",
       " 'tuning_dataframe_with_references.ipynb',\n",
       " 'Asia_pacific_journal_of_financial_studies.csv',\n",
       " 'journal_name_ls.csv',\n",
       " 'tuned_dataframe.csv',\n",
       " 'split_journal_process.ipynb',\n",
       " '__pycache__',\n",
       " 'pw.pickle',\n",
       " 'EDA.ipynb',\n",
       " 'extended_references.csv',\n",
       " 'references.csv',\n",
       " '재무연구.csv',\n",
       " 'tuned_dataframe_infor.csv',\n",
       " 'deliver_paper_refer.csv',\n",
       " '한국증권학회지.csv',\n",
       " 'concatenate_process.ipynb',\n",
       " 'tuned_dataframe_refer.csv',\n",
       " 'journal_tuning.ipynb',\n",
       " '재무관리연구.csv',\n",
       " '선물연구.csv']"
      ]
     },
     "execution_count": 17,
     "metadata": {},
     "output_type": "execute_result"
    }
   ],
   "source": [
    "os.listdir()"
   ]
  },
  {
   "cell_type": "code",
   "execution_count": 18,
   "metadata": {
    "collapsed": true
   },
   "outputs": [],
   "source": [
    "file = ['한국증권학회지.csv','재무연구.csv','재무관리연구.csv','선물연구.csv','Asia_pacific_journal_of_financial_studies.csv']"
   ]
  },
  {
   "cell_type": "code",
   "execution_count": 19,
   "metadata": {},
   "outputs": [
    {
     "data": {
      "text/plain": [
       "['한국증권학회지.csv',\n",
       " '재무연구.csv',\n",
       " '재무관리연구.csv',\n",
       " '선물연구.csv',\n",
       " 'Asia_pacific_journal_of_financial_studies.csv']"
      ]
     },
     "execution_count": 19,
     "metadata": {},
     "output_type": "execute_result"
    }
   ],
   "source": [
    "file"
   ]
  },
  {
   "cell_type": "code",
   "execution_count": 20,
   "metadata": {
    "collapsed": true
   },
   "outputs": [],
   "source": [
    "df = pd.DataFrame()\n",
    "for f_ in file : \n",
    "    f = pd.read_csv(f_)\n",
    "    df = pd.concat([df,f],axis=0)"
   ]
  },
  {
   "cell_type": "code",
   "execution_count": 21,
   "metadata": {},
   "outputs": [
    {
     "data": {
      "text/plain": [
       "(1462, 2)"
      ]
     },
     "execution_count": 21,
     "metadata": {},
     "output_type": "execute_result"
    }
   ],
   "source": [
    "df.shape"
   ]
  },
  {
   "cell_type": "code",
   "execution_count": 22,
   "metadata": {
    "collapsed": true
   },
   "outputs": [],
   "source": [
    "df.reset_index(drop=True,inplace=True)\n",
    "df.to_csv(\"references.csv\",index=False)"
   ]
  },
  {
   "cell_type": "code",
   "execution_count": 1,
   "metadata": {},
   "outputs": [
    {
     "data": {
      "text/plain": [
       "0.16552667578659372"
      ]
     },
     "execution_count": 1,
     "metadata": {},
     "output_type": "execute_result"
    }
   ],
   "source": [
    "242/1462"
   ]
  }
 ],
 "metadata": {
  "kernelspec": {
   "display_name": "Python 3",
   "language": "python",
   "name": "python3"
  },
  "language_info": {
   "codemirror_mode": {
    "name": "ipython",
    "version": 3
   },
   "file_extension": ".py",
   "mimetype": "text/x-python",
   "name": "python",
   "nbconvert_exporter": "python",
   "pygments_lexer": "ipython3",
   "version": "3.6.3"
  }
 },
 "nbformat": 4,
 "nbformat_minor": 2
}
