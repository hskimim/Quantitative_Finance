{
 "cells": [
  {
   "cell_type": "code",
   "execution_count": 131,
   "metadata": {
    "collapsed": true
   },
   "outputs": [],
   "source": [
    "import numpy as np\n",
    "import pandas as pd\n",
    "from sklearn.linear_model import LinearRegression\n",
    "from statsmodels.api import *\n",
    "from IPython.display import display\n",
    "import matplotlib.pyplot as plt\n",
    "%matplotlib inline\n",
    "import statsmodels as sm\n",
    "from patsy import dmatrix"
   ]
  },
  {
   "cell_type": "markdown",
   "metadata": {},
   "source": [
    "## 가상의 주식 테이블 생성하기\n",
    "- 시점 $T$ 는 1부터 1000까지 생성\n",
    "- 개별 종목의 갯수는 400개로 설정\n",
    "- 난수 발생으로 임의로 정하였기 때문에, 데이터 포맷 그 이상의 의미를 가지지 못한다."
   ]
  },
  {
   "cell_type": "code",
   "execution_count": 134,
   "metadata": {
    "collapsed": false
   },
   "outputs": [
    {
     "data": {
      "text/html": [
       "<div>\n",
       "<table border=\"1\" class=\"dataframe\">\n",
       "  <thead>\n",
       "    <tr style=\"text-align: right;\">\n",
       "      <th></th>\n",
       "      <th>1</th>\n",
       "      <th>2</th>\n",
       "      <th>3</th>\n",
       "      <th>4</th>\n",
       "      <th>5</th>\n",
       "      <th>6</th>\n",
       "      <th>7</th>\n",
       "      <th>8</th>\n",
       "      <th>9</th>\n",
       "      <th>10</th>\n",
       "      <th>...</th>\n",
       "      <th>991</th>\n",
       "      <th>992</th>\n",
       "      <th>993</th>\n",
       "      <th>994</th>\n",
       "      <th>995</th>\n",
       "      <th>996</th>\n",
       "      <th>997</th>\n",
       "      <th>998</th>\n",
       "      <th>999</th>\n",
       "      <th>1000</th>\n",
       "    </tr>\n",
       "  </thead>\n",
       "  <tbody>\n",
       "    <tr>\n",
       "      <th>17810</th>\n",
       "      <td>11.976051</td>\n",
       "      <td>3.681654</td>\n",
       "      <td>4.621396</td>\n",
       "      <td>1.832938</td>\n",
       "      <td>6.439395</td>\n",
       "      <td>10.794017</td>\n",
       "      <td>4.727641</td>\n",
       "      <td>4.396189</td>\n",
       "      <td>7.563447</td>\n",
       "      <td>1.934230</td>\n",
       "      <td>...</td>\n",
       "      <td>1.352894</td>\n",
       "      <td>6.216272</td>\n",
       "      <td>11.330546</td>\n",
       "      <td>3.506029</td>\n",
       "      <td>6.287101</td>\n",
       "      <td>11.850657</td>\n",
       "      <td>5.146703</td>\n",
       "      <td>4.826293</td>\n",
       "      <td>9.938349</td>\n",
       "      <td>17.001989</td>\n",
       "    </tr>\n",
       "    <tr>\n",
       "      <th>11200</th>\n",
       "      <td>1.233398</td>\n",
       "      <td>1.942859</td>\n",
       "      <td>4.679930</td>\n",
       "      <td>11.122693</td>\n",
       "      <td>1.497765</td>\n",
       "      <td>5.951642</td>\n",
       "      <td>7.195653</td>\n",
       "      <td>6.169287</td>\n",
       "      <td>1.684776</td>\n",
       "      <td>8.736454</td>\n",
       "      <td>...</td>\n",
       "      <td>1.433830</td>\n",
       "      <td>4.275754</td>\n",
       "      <td>10.891971</td>\n",
       "      <td>11.061237</td>\n",
       "      <td>8.935565</td>\n",
       "      <td>1.232703</td>\n",
       "      <td>8.833515</td>\n",
       "      <td>9.543152</td>\n",
       "      <td>9.476768</td>\n",
       "      <td>4.995905</td>\n",
       "    </tr>\n",
       "    <tr>\n",
       "      <th>17390</th>\n",
       "      <td>1.465559</td>\n",
       "      <td>7.431510</td>\n",
       "      <td>11.860115</td>\n",
       "      <td>11.614737</td>\n",
       "      <td>13.030391</td>\n",
       "      <td>15.080793</td>\n",
       "      <td>8.077052</td>\n",
       "      <td>13.136256</td>\n",
       "      <td>0.000000</td>\n",
       "      <td>3.850219</td>\n",
       "      <td>...</td>\n",
       "      <td>6.517146</td>\n",
       "      <td>6.971129</td>\n",
       "      <td>7.949062</td>\n",
       "      <td>1.011380</td>\n",
       "      <td>10.529499</td>\n",
       "      <td>2.548805</td>\n",
       "      <td>3.391416</td>\n",
       "      <td>8.054497</td>\n",
       "      <td>4.399376</td>\n",
       "      <td>10.321916</td>\n",
       "    </tr>\n",
       "    <tr>\n",
       "      <th>market</th>\n",
       "      <td>16.087387</td>\n",
       "      <td>5.029418</td>\n",
       "      <td>6.024766</td>\n",
       "      <td>1.507632</td>\n",
       "      <td>0.000000</td>\n",
       "      <td>6.996546</td>\n",
       "      <td>0.000000</td>\n",
       "      <td>6.464027</td>\n",
       "      <td>9.563055</td>\n",
       "      <td>5.475706</td>\n",
       "      <td>...</td>\n",
       "      <td>11.569359</td>\n",
       "      <td>5.230175</td>\n",
       "      <td>3.248323</td>\n",
       "      <td>8.934551</td>\n",
       "      <td>15.885012</td>\n",
       "      <td>4.288474</td>\n",
       "      <td>0.000000</td>\n",
       "      <td>0.000000</td>\n",
       "      <td>4.403650</td>\n",
       "      <td>5.719301</td>\n",
       "    </tr>\n",
       "    <tr>\n",
       "      <th>bias</th>\n",
       "      <td>1.000000</td>\n",
       "      <td>1.000000</td>\n",
       "      <td>1.000000</td>\n",
       "      <td>1.000000</td>\n",
       "      <td>1.000000</td>\n",
       "      <td>1.000000</td>\n",
       "      <td>1.000000</td>\n",
       "      <td>1.000000</td>\n",
       "      <td>1.000000</td>\n",
       "      <td>1.000000</td>\n",
       "      <td>...</td>\n",
       "      <td>1.000000</td>\n",
       "      <td>1.000000</td>\n",
       "      <td>1.000000</td>\n",
       "      <td>1.000000</td>\n",
       "      <td>1.000000</td>\n",
       "      <td>1.000000</td>\n",
       "      <td>1.000000</td>\n",
       "      <td>1.000000</td>\n",
       "      <td>1.000000</td>\n",
       "      <td>1.000000</td>\n",
       "    </tr>\n",
       "  </tbody>\n",
       "</table>\n",
       "<p>5 rows × 1000 columns</p>\n",
       "</div>"
      ],
      "text/plain": [
       "             1         2          3          4          5          6     \\\n",
       "17810   11.976051  3.681654   4.621396   1.832938   6.439395  10.794017   \n",
       "11200    1.233398  1.942859   4.679930  11.122693   1.497765   5.951642   \n",
       "17390    1.465559  7.431510  11.860115  11.614737  13.030391  15.080793   \n",
       "market  16.087387  5.029418   6.024766   1.507632   0.000000   6.996546   \n",
       "bias     1.000000  1.000000   1.000000   1.000000   1.000000   1.000000   \n",
       "\n",
       "            7          8         9         10      ...           991   \\\n",
       "17810   4.727641   4.396189  7.563447  1.934230    ...       1.352894   \n",
       "11200   7.195653   6.169287  1.684776  8.736454    ...       1.433830   \n",
       "17390   8.077052  13.136256  0.000000  3.850219    ...       6.517146   \n",
       "market  0.000000   6.464027  9.563055  5.475706    ...      11.569359   \n",
       "bias    1.000000   1.000000  1.000000  1.000000    ...       1.000000   \n",
       "\n",
       "            992        993        994        995        996       997   \\\n",
       "17810   6.216272  11.330546   3.506029   6.287101  11.850657  5.146703   \n",
       "11200   4.275754  10.891971  11.061237   8.935565   1.232703  8.833515   \n",
       "17390   6.971129   7.949062   1.011380  10.529499   2.548805  3.391416   \n",
       "market  5.230175   3.248323   8.934551  15.885012   4.288474  0.000000   \n",
       "bias    1.000000   1.000000   1.000000   1.000000   1.000000  1.000000   \n",
       "\n",
       "            998       999        1000  \n",
       "17810   4.826293  9.938349  17.001989  \n",
       "11200   9.543152  9.476768   4.995905  \n",
       "17390   8.054497  4.399376  10.321916  \n",
       "market  0.000000  4.403650   5.719301  \n",
       "bias    1.000000  1.000000   1.000000  \n",
       "\n",
       "[5 rows x 1000 columns]"
      ]
     },
     "metadata": {},
     "output_type": "display_data"
    },
    {
     "name": "stdout",
     "output_type": "stream",
     "text": [
      "(402, 1000)\n"
     ]
    }
   ],
   "source": [
    "code_df = pd.read_csv('industrial_code.csv')\n",
    "code_df.rename(columns={'종목코드':'code'},inplace=True)\n",
    "code_df = code_df[:401]\n",
    "num_of_stock = 400\n",
    "T = 1000\n",
    "df = pd.DataFrame(columns=[i for i in range(1,T+1)])\n",
    "\n",
    "for i in df.columns:\n",
    "    df[i] = [0 for i in range(num_of_stock + 1)]\n",
    "    \n",
    "df.index = list(code_df['code'])\n",
    "df.index = [str(i) for i in df.index]\n",
    "\n",
    "for i in range(len(df)):\n",
    "    df.iloc[i] = [(np.random.randint(10))*(1+np.random.rand()) for _ in range(1000)]\n",
    "    \n",
    "df.index = [str(i) for i in df.index]\n",
    "df = df.append(pd.Series([1 for _ in range(T)], index=df.columns), ignore_index=True) \n",
    "df.rename(index={df.index[-1]:'bias'},inplace=True)\n",
    "df.rename(index={df.index[-2]:'market'},inplace=True)\n",
    "individual_stock_df = df[(df.index != 'market') & (df.index != 'bias')]\n",
    "df.index = list(code_df['code'])[:-1] + ['market','bias']\n",
    "display(df.tail())\n",
    "print(df.shape)"
   ]
  },
  {
   "cell_type": "markdown",
   "metadata": {},
   "source": [
    "## 1단계 : 포트폴리오 구성시기 (portfolio formation period)\n",
    "- 시장모형의 시계열회귀분석으로 개별 종목에 대한 $\\beta$ 계수를 추정한다.\n",
    "- 개별 종목에 대한 $\\beta$ 400개 계수 측정이 완료되면, 크기 순으로 나열해서 20개씩 묶어, 포트폴리오를 형성한다.\n",
    "    - 개별 종목의 갯수를 400개로 한 이유가 이와 같다."
   ]
  },
  {
   "cell_type": "code",
   "execution_count": 73,
   "metadata": {
    "collapsed": false,
    "scrolled": true
   },
   "outputs": [],
   "source": [
    "for i,value in enumerate(individual_stock_df.index):\n",
    "    globals()['model'+str(i)] = OLS(individual_stock_df.loc[value][:400].T,df.loc['market'][:, np.newaxis][:400])\n",
    "    globals()['result'+str(i)] = globals()['model'+str(i)].fit()\n",
    "    globals()['params'+str(i)] = globals()['result'+str(i)].params.values[0]\n",
    "    globals()['resid'+str(i)] = np.std(globals()['result'+str(i)].resid)\n",
    "#     display(globals()['result'+str(i)].summary())"
   ]
  },
  {
   "cell_type": "code",
   "execution_count": 83,
   "metadata": {
    "collapsed": false
   },
   "outputs": [
    {
     "data": {
      "text/plain": [
       "(400, 400)"
      ]
     },
     "execution_count": 83,
     "metadata": {},
     "output_type": "execute_result"
    }
   ],
   "source": [
    "beta_bundles1 = [globals()['params'+str(i)] for i in range(len(individual_stock_df.index))]\n",
    "resid_bundles1 = [globals()['resid'+str(i)] for i in range(len(individual_stock_df.index))]\n",
    "len(beta_bundles1) , len(resid_bundles1)"
   ]
  },
  {
   "cell_type": "code",
   "execution_count": 85,
   "metadata": {
    "collapsed": false
   },
   "outputs": [
    {
     "data": {
      "text/html": [
       "<div>\n",
       "<table border=\"1\" class=\"dataframe\">\n",
       "  <thead>\n",
       "    <tr style=\"text-align: right;\">\n",
       "      <th></th>\n",
       "      <th>index</th>\n",
       "      <th>beta</th>\n",
       "      <th>resid</th>\n",
       "      <th>stock</th>\n",
       "    </tr>\n",
       "  </thead>\n",
       "  <tbody>\n",
       "    <tr>\n",
       "      <th>395</th>\n",
       "      <td>395</td>\n",
       "      <td>0.677183</td>\n",
       "      <td>5.454544</td>\n",
       "      <td>11300</td>\n",
       "    </tr>\n",
       "    <tr>\n",
       "      <th>396</th>\n",
       "      <td>396</td>\n",
       "      <td>0.631338</td>\n",
       "      <td>5.525748</td>\n",
       "      <td>12610</td>\n",
       "    </tr>\n",
       "    <tr>\n",
       "      <th>397</th>\n",
       "      <td>397</td>\n",
       "      <td>0.658216</td>\n",
       "      <td>5.548866</td>\n",
       "      <td>17810</td>\n",
       "    </tr>\n",
       "    <tr>\n",
       "      <th>398</th>\n",
       "      <td>398</td>\n",
       "      <td>0.686505</td>\n",
       "      <td>5.468022</td>\n",
       "      <td>11200</td>\n",
       "    </tr>\n",
       "    <tr>\n",
       "      <th>399</th>\n",
       "      <td>399</td>\n",
       "      <td>0.651519</td>\n",
       "      <td>5.588210</td>\n",
       "      <td>17390</td>\n",
       "    </tr>\n",
       "  </tbody>\n",
       "</table>\n",
       "</div>"
      ],
      "text/plain": [
       "     index      beta     resid  stock\n",
       "395    395  0.677183  5.454544  11300\n",
       "396    396  0.631338  5.525748  12610\n",
       "397    397  0.658216  5.548866  17810\n",
       "398    398  0.686505  5.468022  11200\n",
       "399    399  0.651519  5.588210  17390"
      ]
     },
     "execution_count": 85,
     "metadata": {},
     "output_type": "execute_result"
    }
   ],
   "source": [
    "rank_df1 = pd.DataFrame()\n",
    "rank_df1['beta'] = beta_bundles1\n",
    "rank_df1['resid'] = resid_bundles1\n",
    "rank_df1['stock'] = df[(df.index != 'market')&(df.index != 'bias')].index\n",
    "rank_df1.reset_index(inplace=True)\n",
    "rank_df1.tail()"
   ]
  },
  {
   "cell_type": "code",
   "execution_count": 135,
   "metadata": {
    "collapsed": false
   },
   "outputs": [
    {
     "data": {
      "text/html": [
       "<div>\n",
       "<table border=\"1\" class=\"dataframe\">\n",
       "  <thead>\n",
       "    <tr style=\"text-align: right;\">\n",
       "      <th></th>\n",
       "      <th>index</th>\n",
       "      <th>beta</th>\n",
       "      <th>resid</th>\n",
       "      <th>stock</th>\n",
       "    </tr>\n",
       "  </thead>\n",
       "  <tbody>\n",
       "    <tr>\n",
       "      <th>104</th>\n",
       "      <td>104</td>\n",
       "      <td>0.751625</td>\n",
       "      <td>5.541176</td>\n",
       "      <td>14710</td>\n",
       "    </tr>\n",
       "    <tr>\n",
       "      <th>289</th>\n",
       "      <td>289</td>\n",
       "      <td>0.754841</td>\n",
       "      <td>5.580611</td>\n",
       "      <td>69460</td>\n",
       "    </tr>\n",
       "    <tr>\n",
       "      <th>181</th>\n",
       "      <td>181</td>\n",
       "      <td>0.756052</td>\n",
       "      <td>5.688531</td>\n",
       "      <td>105630</td>\n",
       "    </tr>\n",
       "    <tr>\n",
       "      <th>201</th>\n",
       "      <td>201</td>\n",
       "      <td>0.756433</td>\n",
       "      <td>5.683429</td>\n",
       "      <td>99340</td>\n",
       "    </tr>\n",
       "    <tr>\n",
       "      <th>284</th>\n",
       "      <td>284</td>\n",
       "      <td>0.763531</td>\n",
       "      <td>5.520748</td>\n",
       "      <td>71090</td>\n",
       "    </tr>\n",
       "  </tbody>\n",
       "</table>\n",
       "</div>"
      ],
      "text/plain": [
       "     index      beta     resid   stock\n",
       "104    104  0.751625  5.541176   14710\n",
       "289    289  0.754841  5.580611   69460\n",
       "181    181  0.756052  5.688531  105630\n",
       "201    201  0.756433  5.683429   99340\n",
       "284    284  0.763531  5.520748   71090"
      ]
     },
     "execution_count": 135,
     "metadata": {},
     "output_type": "execute_result"
    }
   ],
   "source": [
    "sorted_rank_df1 = rank_df1.sort_values(by='beta',ascending=True)\n",
    "sorted_rank_df1.tail()"
   ]
  },
  {
   "cell_type": "code",
   "execution_count": 117,
   "metadata": {
    "collapsed": true
   },
   "outputs": [],
   "source": [
    "testing_ls = []\n",
    "ranked_idx_ls = []\n",
    "popped_ls = list(sorted_rank_df1['index'])\n",
    "for _ in range(20):\n",
    "    testing_ls = []\n",
    "    for _ in range(20):\n",
    "        testing_ls.append(popped_ls.pop())\n",
    "    ranked_idx_ls.append(testing_ls)"
   ]
  },
  {
   "cell_type": "code",
   "execution_count": 119,
   "metadata": {
    "collapsed": true
   },
   "outputs": [],
   "source": [
    "testing_ls = []\n",
    "ranked_stock_ls = []\n",
    "popped_ls = list(sorted_rank_df1['stock'])\n",
    "for _ in range(20):\n",
    "    testing_ls = []\n",
    "    for _ in range(20):\n",
    "        testing_ls.append(popped_ls.pop())\n",
    "    ranked_stock_ls.append(testing_ls)"
   ]
  },
  {
   "cell_type": "code",
   "execution_count": 136,
   "metadata": {
    "collapsed": false
   },
   "outputs": [
    {
     "data": {
      "text/plain": [
       "(20, 20, 20, 20)"
      ]
     },
     "execution_count": 136,
     "metadata": {},
     "output_type": "execute_result"
    }
   ],
   "source": [
    "len(ranked_idx_ls[0]) , len(ranked_idx_ls) , len(ranked_stock_ls[0]) , len(ranked_stock_ls)"
   ]
  },
  {
   "cell_type": "code",
   "execution_count": 76,
   "metadata": {
    "collapsed": false
   },
   "outputs": [
    {
     "data": {
      "text/plain": [
       "400"
      ]
     },
     "execution_count": 76,
     "metadata": {},
     "output_type": "execute_result"
    }
   ],
   "source": [
    "sorted_beta_bundles = sorted(beta_bundles1)\n",
    "len(sorted_beta_bundles)"
   ]
  },
  {
   "cell_type": "code",
   "execution_count": 77,
   "metadata": {
    "collapsed": true
   },
   "outputs": [],
   "source": [
    "for i in range(20):\n",
    "    ls = []\n",
    "    for _ in range(20):\n",
    "        ls.append(sorted_beta_bundles.pop())\n",
    "    globals()['portfolio_beta_20_'+str(i)] = ls.copy()"
   ]
  },
  {
   "cell_type": "code",
   "execution_count": 78,
   "metadata": {
    "collapsed": true
   },
   "outputs": [],
   "source": [
    "for i in range(20):\n",
    "    ls = []\n",
    "    for _ in range(20):\n",
    "        ls.append(resid_bundles1.pop())\n",
    "    globals()['portfolio_resid_20_'+str(i)] = ls.copy()"
   ]
  },
  {
   "cell_type": "code",
   "execution_count": 79,
   "metadata": {
    "collapsed": false
   },
   "outputs": [
    {
     "name": "stdout",
     "output_type": "stream",
     "text": [
      "[0.74493594167673272, 0.72455595427677699, 0.71602529071004439, 0.71013126876695343, 0.70499886357923636, 0.69923779567652444, 0.69464826135875624, 0.6888141743345042, 0.68484937783264754, 0.68139372109177077, 0.67791103914684414, 0.67476930314403338, 0.67131723513305297, 0.66723944725295636, 0.66360745103666996, 0.66023083681468164, 0.65648497774087922, 0.65097228207701718, 0.6408368765350041, 0.62583456962153239]\n"
     ]
    }
   ],
   "source": [
    "beta_ls1 = []\n",
    "for i in range(20):\n",
    "    beta_ls1.append(sum(globals()['portfolio_beta_20_'+str(i)])/len(globals()['portfolio_beta_20_'+str(i)]))\n",
    "print(beta_ls1)"
   ]
  },
  {
   "cell_type": "code",
   "execution_count": 80,
   "metadata": {
    "collapsed": false
   },
   "outputs": [
    {
     "name": "stdout",
     "output_type": "stream",
     "text": [
      "[5.59124687465759, 5.524405415256554, 5.459948808455871, 5.56498177724697, 5.53424701462567, 5.505716961009198, 5.527742695127253, 5.538821159652453, 5.54505495837789, 5.51778730100123, 5.533810680144086, 5.481086325380909, 5.536685694216966, 5.5188830343771045, 5.5594147654234, 5.53260294868829, 5.513435504445243, 5.506304455257257, 5.537826687571326, 5.495624834617161]\n"
     ]
    }
   ],
   "source": [
    "resid_ls1 = []\n",
    "for i in range(20):\n",
    "    resid_ls1.append(sum(globals()['portfolio_resid_20_'+str(i)])/len(globals()['portfolio_resid_20_'+str(i)]))\n",
    "print(resid_ls1)"
   ]
  },
  {
   "cell_type": "code",
   "execution_count": 137,
   "metadata": {
    "collapsed": false,
    "scrolled": true
   },
   "outputs": [
    {
     "data": {
      "text/html": [
       "<div>\n",
       "<table border=\"1\" class=\"dataframe\">\n",
       "  <thead>\n",
       "    <tr style=\"text-align: right;\">\n",
       "      <th></th>\n",
       "      <th>beta</th>\n",
       "      <th>resid</th>\n",
       "      <th>valued_stock_idx</th>\n",
       "      <th>valued_stock</th>\n",
       "    </tr>\n",
       "  </thead>\n",
       "  <tbody>\n",
       "    <tr>\n",
       "      <th>15</th>\n",
       "      <td>0.660231</td>\n",
       "      <td>5.532603</td>\n",
       "      <td>[73, 124, 392, 171, 264, 5, 238, 279, 302, 323...</td>\n",
       "      <td>[28260, 139130, 11690, 82640, 23810, 298040, 8...</td>\n",
       "    </tr>\n",
       "    <tr>\n",
       "      <th>16</th>\n",
       "      <td>0.656485</td>\n",
       "      <td>5.513436</td>\n",
       "      <td>[97, 321, 397, 4, 342, 53, 68, 333, 301, 184, ...</td>\n",
       "      <td>[163560, 10040, 17810, 286940, 29460, 194370, ...</td>\n",
       "    </tr>\n",
       "    <tr>\n",
       "      <th>17</th>\n",
       "      <td>0.650972</td>\n",
       "      <td>5.506304</td>\n",
       "      <td>[290, 382, 353, 357, 59, 128, 372, 165, 250, 3...</td>\n",
       "      <td>[69620, 20000, 23960, 31820, 227840, 23350, 25...</td>\n",
       "    </tr>\n",
       "    <tr>\n",
       "      <th>18</th>\n",
       "      <td>0.640837</td>\n",
       "      <td>5.537827</td>\n",
       "      <td>[173, 162, 224, 213, 249, 121, 293, 141, 7, 39...</td>\n",
       "      <td>[93240, 71320, 44380, 97230, 83370, 69640, 692...</td>\n",
       "    </tr>\n",
       "    <tr>\n",
       "      <th>19</th>\n",
       "      <td>0.625835</td>\n",
       "      <td>5.495625</td>\n",
       "      <td>[11, 297, 267, 82, 41, 63, 177, 77, 396, 36, 1...</td>\n",
       "      <td>[18250, 67830, 58730, 27410, 229640, 95570, 53...</td>\n",
       "    </tr>\n",
       "  </tbody>\n",
       "</table>\n",
       "</div>"
      ],
      "text/plain": [
       "        beta     resid                                   valued_stock_idx  \\\n",
       "15  0.660231  5.532603  [73, 124, 392, 171, 264, 5, 238, 279, 302, 323...   \n",
       "16  0.656485  5.513436  [97, 321, 397, 4, 342, 53, 68, 333, 301, 184, ...   \n",
       "17  0.650972  5.506304  [290, 382, 353, 357, 59, 128, 372, 165, 250, 3...   \n",
       "18  0.640837  5.537827  [173, 162, 224, 213, 249, 121, 293, 141, 7, 39...   \n",
       "19  0.625835  5.495625  [11, 297, 267, 82, 41, 63, 177, 77, 396, 36, 1...   \n",
       "\n",
       "                                         valued_stock  \n",
       "15  [28260, 139130, 11690, 82640, 23810, 298040, 8...  \n",
       "16  [163560, 10040, 17810, 286940, 29460, 194370, ...  \n",
       "17  [69620, 20000, 23960, 31820, 227840, 23350, 25...  \n",
       "18  [93240, 71320, 44380, 97230, 83370, 69640, 692...  \n",
       "19  [18250, 67830, 58730, 27410, 229640, 95570, 53...  "
      ]
     },
     "execution_count": 137,
     "metadata": {},
     "output_type": "execute_result"
    }
   ],
   "source": [
    "testing_df = pd.DataFrame()\n",
    "testing_df['beta'] = beta_ls1\n",
    "testing_df['resid'] = resid_ls1\n",
    "testing_df['valued_stock_idx'] = ranked_idx_ls\n",
    "testing_df['valued_stock'] = ranked_stock_ls\n",
    "testing_df.tail()"
   ]
  },
  {
   "cell_type": "markdown",
   "metadata": {},
   "source": [
    "# 2단계 : 포트폴리오 $\\beta$ 의 추정시기 (estimation period)"
   ]
  },
  {
   "cell_type": "markdown",
   "metadata": {},
   "source": [
    "- 시장 모형의 시계열회귀분석으로 20개 포트폴리오에 대한 $\\beta$ 계수를 추정한다.\n",
    "- 개별 종목에 대한 $\\beta_i$ 를 구하고, 포트폴리오를 형성, 시계열 평균으로 $\\beta_P$ 를 추정한다."
   ]
  },
  {
   "cell_type": "code",
   "execution_count": 122,
   "metadata": {
    "collapsed": true
   },
   "outputs": [],
   "source": [
    "for i,value in enumerate(individual_stock_df.index):\n",
    "    globals()['model'+str(i)] = OLS(individual_stock_df.loc[value][400:900].T,df.loc['market'][:, np.newaxis][400:900])\n",
    "    globals()['result'+str(i)] = globals()['model'+str(i)].fit()\n",
    "    globals()['params'+str(i)] = globals()['result'+str(i)].params.values[0]\n",
    "    globals()['resid'+str(i)] = np.std(globals()['result'+str(i)].resid)\n",
    "#     display(globals()['result'+str(i)].summary())"
   ]
  },
  {
   "cell_type": "code",
   "execution_count": 123,
   "metadata": {
    "collapsed": false
   },
   "outputs": [
    {
     "data": {
      "text/plain": [
       "(400, 400)"
      ]
     },
     "execution_count": 123,
     "metadata": {},
     "output_type": "execute_result"
    }
   ],
   "source": [
    "beta_bundles2 = [globals()['params'+str(i)] for i in range(len(individual_stock_df.index))]\n",
    "resid_bundles2 = [globals()['resid'+str(i)] for i in range(len(individual_stock_df.index))]\n",
    "len(beta_bundles2) , len(resid_bundles2)"
   ]
  },
  {
   "cell_type": "code",
   "execution_count": 124,
   "metadata": {
    "collapsed": false
   },
   "outputs": [
    {
     "data": {
      "text/html": [
       "<div>\n",
       "<table border=\"1\" class=\"dataframe\">\n",
       "  <thead>\n",
       "    <tr style=\"text-align: right;\">\n",
       "      <th></th>\n",
       "      <th>index</th>\n",
       "      <th>beta</th>\n",
       "      <th>resid</th>\n",
       "      <th>stock</th>\n",
       "    </tr>\n",
       "  </thead>\n",
       "  <tbody>\n",
       "    <tr>\n",
       "      <th>395</th>\n",
       "      <td>395</td>\n",
       "      <td>0.639183</td>\n",
       "      <td>5.444483</td>\n",
       "      <td>11300</td>\n",
       "    </tr>\n",
       "    <tr>\n",
       "      <th>396</th>\n",
       "      <td>396</td>\n",
       "      <td>0.677091</td>\n",
       "      <td>5.501567</td>\n",
       "      <td>12610</td>\n",
       "    </tr>\n",
       "    <tr>\n",
       "      <th>397</th>\n",
       "      <td>397</td>\n",
       "      <td>0.643946</td>\n",
       "      <td>5.568284</td>\n",
       "      <td>17810</td>\n",
       "    </tr>\n",
       "    <tr>\n",
       "      <th>398</th>\n",
       "      <td>398</td>\n",
       "      <td>0.692209</td>\n",
       "      <td>5.908640</td>\n",
       "      <td>11200</td>\n",
       "    </tr>\n",
       "    <tr>\n",
       "      <th>399</th>\n",
       "      <td>399</td>\n",
       "      <td>0.676428</td>\n",
       "      <td>5.668885</td>\n",
       "      <td>17390</td>\n",
       "    </tr>\n",
       "  </tbody>\n",
       "</table>\n",
       "</div>"
      ],
      "text/plain": [
       "     index      beta     resid  stock\n",
       "395    395  0.639183  5.444483  11300\n",
       "396    396  0.677091  5.501567  12610\n",
       "397    397  0.643946  5.568284  17810\n",
       "398    398  0.692209  5.908640  11200\n",
       "399    399  0.676428  5.668885  17390"
      ]
     },
     "execution_count": 124,
     "metadata": {},
     "output_type": "execute_result"
    }
   ],
   "source": [
    "rank_df2 = pd.DataFrame()\n",
    "rank_df2['beta'] = beta_bundles2\n",
    "rank_df2['resid'] = resid_bundles2\n",
    "rank_df2['stock'] = df[(df.index != 'market')&(df.index != 'bias')].index\n",
    "rank_df2.reset_index(inplace=True)\n",
    "rank_df2.tail()"
   ]
  },
  {
   "cell_type": "code",
   "execution_count": 125,
   "metadata": {
    "collapsed": false
   },
   "outputs": [],
   "source": [
    "beta_ls2 = []\n",
    "for i in range(len(testing_df['valued_stock_idx'])):\n",
    "    beta_ls2.append(np.mean(rank_df2.iloc[testing_df['valued_stock_idx'][i]]['beta']))"
   ]
  },
  {
   "cell_type": "code",
   "execution_count": 126,
   "metadata": {
    "collapsed": true
   },
   "outputs": [],
   "source": [
    "resid_ls2 = []\n",
    "for i in range(len(testing_df['valued_stock_idx'])):\n",
    "    resid_ls2.append(np.mean(rank_df2.iloc[testing_df['valued_stock_idx'][i]]['resid']))"
   ]
  },
  {
   "cell_type": "code",
   "execution_count": 127,
   "metadata": {
    "collapsed": false
   },
   "outputs": [
    {
     "name": "stdout",
     "output_type": "stream",
     "text": [
      "[0.6797728888599189, 0.6830399311930461, 0.6833875680109797, 0.6822231661769261, 0.687356118962339, 0.6836915336734921, 0.6902079483759234, 0.6840908604360926, 0.6949023413282639, 0.6820766768339164, 0.6836742375484935, 0.6767584319869511, 0.6767821150838075, 0.6891428000927485, 0.6882264666464842, 0.6874911546959102, 0.6800463588446124, 0.6796010332802509, 0.6826846463317491, 0.6746975897335465]\n"
     ]
    }
   ],
   "source": [
    "print(beta_ls2)"
   ]
  },
  {
   "cell_type": "code",
   "execution_count": 128,
   "metadata": {
    "collapsed": false
   },
   "outputs": [
    {
     "name": "stdout",
     "output_type": "stream",
     "text": [
      "[5.571231074544103, 5.585573999089194, 5.561264089078766, 5.533532937373075, 5.569065857693423, 5.54867289845213, 5.549854550304219, 5.59518736089818, 5.588631392520929, 5.560538251645942, 5.536620716545706, 5.496269625114622, 5.538921220130997, 5.521374126858784, 5.561411003611129, 5.540291064360789, 5.483562910483104, 5.530815194810778, 5.485042320701187, 5.566716032355822]\n"
     ]
    }
   ],
   "source": [
    "print(resid_ls2)"
   ]
  },
  {
   "cell_type": "code",
   "execution_count": 132,
   "metadata": {
    "collapsed": true
   },
   "outputs": [],
   "source": [
    "final_df = pd.DataFrame()\n",
    "final_df['beta'] = beta_ls2\n",
    "final_df['resid'] = resid_ls2"
   ]
  },
  {
   "cell_type": "code",
   "execution_count": 133,
   "metadata": {
    "collapsed": false,
    "scrolled": true
   },
   "outputs": [
    {
     "data": {
      "text/plain": [
       "DesignMatrix with shape (20, 4)\n",
       "  Intercept     beta  I(beta ** 2)    resid\n",
       "          1  0.67977       0.46209  5.57123\n",
       "          1  0.68304       0.46654  5.58557\n",
       "          1  0.68339       0.46702  5.56126\n",
       "          1  0.68222       0.46543  5.53353\n",
       "          1  0.68736       0.47246  5.56907\n",
       "          1  0.68369       0.46743  5.54867\n",
       "          1  0.69021       0.47639  5.54985\n",
       "          1  0.68409       0.46798  5.59519\n",
       "          1  0.69490       0.48289  5.58863\n",
       "          1  0.68208       0.46523  5.56054\n",
       "          1  0.68367       0.46741  5.53662\n",
       "          1  0.67676       0.45800  5.49627\n",
       "          1  0.67678       0.45803  5.53892\n",
       "          1  0.68914       0.47492  5.52137\n",
       "          1  0.68823       0.47366  5.56141\n",
       "          1  0.68749       0.47264  5.54029\n",
       "          1  0.68005       0.46246  5.48356\n",
       "          1  0.67960       0.46186  5.53082\n",
       "          1  0.68268       0.46606  5.48504\n",
       "          1  0.67470       0.45522  5.56672\n",
       "  Terms:\n",
       "    'Intercept' (column 0)\n",
       "    'beta' (column 1)\n",
       "    'I(beta ** 2)' (column 2)\n",
       "    'resid' (column 3)"
      ]
     },
     "execution_count": 133,
     "metadata": {},
     "output_type": "execute_result"
    }
   ],
   "source": [
    "dmatrix('beta + I(beta ** 2) + resid',final_df)"
   ]
  }
 ],
 "metadata": {
  "kernelspec": {
   "display_name": "Python 3",
   "language": "python",
   "name": "python3"
  },
  "language_info": {
   "codemirror_mode": {
    "name": "ipython",
    "version": 3
   },
   "file_extension": ".py",
   "mimetype": "text/x-python",
   "name": "python",
   "nbconvert_exporter": "python",
   "pygments_lexer": "ipython3",
   "version": "3.6.0"
  }
 },
 "nbformat": 4,
 "nbformat_minor": 2
}
