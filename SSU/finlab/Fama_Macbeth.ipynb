{
 "cells": [
  {
   "cell_type": "code",
   "execution_count": 22,
   "metadata": {
    "collapsed": false
   },
   "outputs": [],
   "source": [
    "from FM_solution import *"
   ]
  },
  {
   "cell_type": "markdown",
   "metadata": {},
   "source": [
    "## 가상의 주식 테이블 생성하기\n",
    "- 시점 $T$ 는 1부터 1000까지 생성\n",
    "- 개별 종목의 갯수는 400개로 설정\n",
    "- 난수 발생으로 임의로 정하였다.\n",
    "--------------------------------------------\n",
    "## Notice : 데이터 포맷 그 이상의 의미를 가지지 못한다."
   ]
  },
  {
   "cell_type": "code",
   "execution_count": 23,
   "metadata": {
    "collapsed": false,
    "scrolled": true
   },
   "outputs": [
    {
     "data": {
      "text/html": [
       "<div>\n",
       "<table border=\"1\" class=\"dataframe\">\n",
       "  <thead>\n",
       "    <tr style=\"text-align: right;\">\n",
       "      <th></th>\n",
       "      <th>1</th>\n",
       "      <th>2</th>\n",
       "      <th>3</th>\n",
       "      <th>4</th>\n",
       "      <th>5</th>\n",
       "      <th>6</th>\n",
       "      <th>7</th>\n",
       "      <th>8</th>\n",
       "      <th>9</th>\n",
       "      <th>10</th>\n",
       "      <th>...</th>\n",
       "      <th>991</th>\n",
       "      <th>992</th>\n",
       "      <th>993</th>\n",
       "      <th>994</th>\n",
       "      <th>995</th>\n",
       "      <th>996</th>\n",
       "      <th>997</th>\n",
       "      <th>998</th>\n",
       "      <th>999</th>\n",
       "      <th>1000</th>\n",
       "    </tr>\n",
       "  </thead>\n",
       "  <tbody>\n",
       "    <tr>\n",
       "      <th>17810</th>\n",
       "      <td>11.185765</td>\n",
       "      <td>1.283366</td>\n",
       "      <td>1.529062</td>\n",
       "      <td>1.198311</td>\n",
       "      <td>0.000000</td>\n",
       "      <td>3.511159</td>\n",
       "      <td>7.607206</td>\n",
       "      <td>12.895776</td>\n",
       "      <td>0.000000</td>\n",
       "      <td>9.013256</td>\n",
       "      <td>...</td>\n",
       "      <td>11.144508</td>\n",
       "      <td>1.158657</td>\n",
       "      <td>3.238199</td>\n",
       "      <td>7.723267</td>\n",
       "      <td>10.479106</td>\n",
       "      <td>1.299411</td>\n",
       "      <td>5.339417</td>\n",
       "      <td>6.734724</td>\n",
       "      <td>2.494051</td>\n",
       "      <td>1.708880</td>\n",
       "    </tr>\n",
       "    <tr>\n",
       "      <th>11200</th>\n",
       "      <td>0.000000</td>\n",
       "      <td>4.503522</td>\n",
       "      <td>3.537300</td>\n",
       "      <td>3.917704</td>\n",
       "      <td>8.647652</td>\n",
       "      <td>0.000000</td>\n",
       "      <td>3.976924</td>\n",
       "      <td>8.597750</td>\n",
       "      <td>0.000000</td>\n",
       "      <td>6.146359</td>\n",
       "      <td>...</td>\n",
       "      <td>8.470819</td>\n",
       "      <td>3.365039</td>\n",
       "      <td>5.670205</td>\n",
       "      <td>13.739712</td>\n",
       "      <td>8.764125</td>\n",
       "      <td>2.714590</td>\n",
       "      <td>5.090126</td>\n",
       "      <td>1.556178</td>\n",
       "      <td>5.775096</td>\n",
       "      <td>0.000000</td>\n",
       "    </tr>\n",
       "    <tr>\n",
       "      <th>17390</th>\n",
       "      <td>8.564106</td>\n",
       "      <td>7.510456</td>\n",
       "      <td>13.912607</td>\n",
       "      <td>1.334198</td>\n",
       "      <td>9.824088</td>\n",
       "      <td>1.983492</td>\n",
       "      <td>5.663772</td>\n",
       "      <td>14.612777</td>\n",
       "      <td>8.315877</td>\n",
       "      <td>10.340444</td>\n",
       "      <td>...</td>\n",
       "      <td>15.511184</td>\n",
       "      <td>3.122100</td>\n",
       "      <td>6.946294</td>\n",
       "      <td>3.811363</td>\n",
       "      <td>6.450707</td>\n",
       "      <td>10.433710</td>\n",
       "      <td>8.878859</td>\n",
       "      <td>7.664362</td>\n",
       "      <td>11.986682</td>\n",
       "      <td>0.000000</td>\n",
       "    </tr>\n",
       "    <tr>\n",
       "      <th>market</th>\n",
       "      <td>12.670207</td>\n",
       "      <td>3.903404</td>\n",
       "      <td>0.000000</td>\n",
       "      <td>6.858867</td>\n",
       "      <td>6.831132</td>\n",
       "      <td>10.739613</td>\n",
       "      <td>2.251839</td>\n",
       "      <td>1.811760</td>\n",
       "      <td>5.902051</td>\n",
       "      <td>11.279814</td>\n",
       "      <td>...</td>\n",
       "      <td>17.772510</td>\n",
       "      <td>4.643741</td>\n",
       "      <td>1.775416</td>\n",
       "      <td>1.838602</td>\n",
       "      <td>9.547577</td>\n",
       "      <td>8.175112</td>\n",
       "      <td>7.570554</td>\n",
       "      <td>0.000000</td>\n",
       "      <td>13.165554</td>\n",
       "      <td>9.169573</td>\n",
       "    </tr>\n",
       "    <tr>\n",
       "      <th>bias</th>\n",
       "      <td>1.000000</td>\n",
       "      <td>1.000000</td>\n",
       "      <td>1.000000</td>\n",
       "      <td>1.000000</td>\n",
       "      <td>1.000000</td>\n",
       "      <td>1.000000</td>\n",
       "      <td>1.000000</td>\n",
       "      <td>1.000000</td>\n",
       "      <td>1.000000</td>\n",
       "      <td>1.000000</td>\n",
       "      <td>...</td>\n",
       "      <td>1.000000</td>\n",
       "      <td>1.000000</td>\n",
       "      <td>1.000000</td>\n",
       "      <td>1.000000</td>\n",
       "      <td>1.000000</td>\n",
       "      <td>1.000000</td>\n",
       "      <td>1.000000</td>\n",
       "      <td>1.000000</td>\n",
       "      <td>1.000000</td>\n",
       "      <td>1.000000</td>\n",
       "    </tr>\n",
       "  </tbody>\n",
       "</table>\n",
       "<p>5 rows × 1000 columns</p>\n",
       "</div>"
      ],
      "text/plain": [
       "             1         2          3         4         5          6     \\\n",
       "17810   11.185765  1.283366   1.529062  1.198311  0.000000   3.511159   \n",
       "11200    0.000000  4.503522   3.537300  3.917704  8.647652   0.000000   \n",
       "17390    8.564106  7.510456  13.912607  1.334198  9.824088   1.983492   \n",
       "market  12.670207  3.903404   0.000000  6.858867  6.831132  10.739613   \n",
       "bias     1.000000  1.000000   1.000000  1.000000  1.000000   1.000000   \n",
       "\n",
       "            7          8         9          10      ...          991   \\\n",
       "17810   7.607206  12.895776  0.000000   9.013256    ...     11.144508   \n",
       "11200   3.976924   8.597750  0.000000   6.146359    ...      8.470819   \n",
       "17390   5.663772  14.612777  8.315877  10.340444    ...     15.511184   \n",
       "market  2.251839   1.811760  5.902051  11.279814    ...     17.772510   \n",
       "bias    1.000000   1.000000  1.000000   1.000000    ...      1.000000   \n",
       "\n",
       "            992       993        994        995        996       997   \\\n",
       "17810   1.158657  3.238199   7.723267  10.479106   1.299411  5.339417   \n",
       "11200   3.365039  5.670205  13.739712   8.764125   2.714590  5.090126   \n",
       "17390   3.122100  6.946294   3.811363   6.450707  10.433710  8.878859   \n",
       "market  4.643741  1.775416   1.838602   9.547577   8.175112  7.570554   \n",
       "bias    1.000000  1.000000   1.000000   1.000000   1.000000  1.000000   \n",
       "\n",
       "            998        999       1000  \n",
       "17810   6.734724   2.494051  1.708880  \n",
       "11200   1.556178   5.775096  0.000000  \n",
       "17390   7.664362  11.986682  0.000000  \n",
       "market  0.000000  13.165554  9.169573  \n",
       "bias    1.000000   1.000000  1.000000  \n",
       "\n",
       "[5 rows x 1000 columns]"
      ]
     },
     "metadata": {},
     "output_type": "display_data"
    },
    {
     "name": "stdout",
     "output_type": "stream",
     "text": [
      "(402, 1000)\n"
     ]
    }
   ],
   "source": [
    "code_df = pd.read_csv('industrial_code.csv')\n",
    "code_df.rename(columns={'종목코드':'code'},inplace=True)\n",
    "code_df = code_df[:401]\n",
    "num_of_stock = 400\n",
    "T = 1000\n",
    "df = pd.DataFrame(columns=[i for i in range(1,T+1)])\n",
    "\n",
    "for i in df.columns:\n",
    "    df[i] = [0 for i in range(num_of_stock + 1)]\n",
    "    \n",
    "df.index = list(code_df['code'])\n",
    "df.index = [str(i) for i in df.index]\n",
    "\n",
    "for i in range(len(df)):\n",
    "    df.iloc[i] = [(np.random.randint(10))*(1+np.random.rand()) for _ in range(1000)]\n",
    "    \n",
    "df.index = [str(i) for i in df.index]\n",
    "df = df.append(pd.Series([1 for _ in range(T)], index=df.columns), ignore_index=True) \n",
    "df.rename(index={df.index[-1]:'bias'},inplace=True)\n",
    "df.rename(index={df.index[-2]:'market'},inplace=True)\n",
    "individual_stock_df = df[(df.index != 'market') & (df.index != 'bias')]\n",
    "df.index = list(code_df['code'])[:-1] + ['market','bias']\n",
    "display(df.tail())\n",
    "print(df.shape)"
   ]
  },
  {
   "cell_type": "markdown",
   "metadata": {},
   "source": [
    "## 1단계 : 포트폴리오 구성시기 (portfolio formation period)\n",
    "- 시장모형의 시계열회귀분석으로 개별 종목에 대한 $\\beta$ 계수를 추정한다.\n",
    "- 개별 종목에 대한 $\\beta$ 400개 계수 측정이 완료되면, 크기 순으로 나열해서 20개씩 묶어, 포트폴리오를 형성한다.\n",
    "    - 개별 종목의 갯수를 400개로 한 이유가 이와 같다."
   ]
  },
  {
   "cell_type": "code",
   "execution_count": 24,
   "metadata": {
    "collapsed": false
   },
   "outputs": [
    {
     "data": {
      "text/markdown": [
       "시간 소요가 걸리는 작업입니다. 잠시만 기다려주세요!"
      ],
      "text/plain": [
       "<IPython.core.display.Markdown object>"
      ]
     },
     "metadata": {},
     "output_type": "display_data"
    }
   ],
   "source": [
    "testing_beta , testing_resid = first_OLS(individual_stock_df,df)"
   ]
  },
  {
   "cell_type": "code",
   "execution_count": 25,
   "metadata": {
    "collapsed": false
   },
   "outputs": [
    {
     "data": {
      "text/plain": [
       "(400, 400)"
      ]
     },
     "execution_count": 25,
     "metadata": {},
     "output_type": "execute_result"
    }
   ],
   "source": [
    "len(testing_beta) , len(testing_resid)"
   ]
  },
  {
   "cell_type": "code",
   "execution_count": 26,
   "metadata": {
    "collapsed": false
   },
   "outputs": [],
   "source": [
    "beta , resid , stock , idx , testing_df = first_sorting_beta_resid(testing_beta,testing_resid,df)"
   ]
  },
  {
   "cell_type": "code",
   "execution_count": 27,
   "metadata": {
    "collapsed": false
   },
   "outputs": [
    {
     "data": {
      "text/plain": [
       "(20, 20, 20, 20)"
      ]
     },
     "execution_count": 27,
     "metadata": {},
     "output_type": "execute_result"
    }
   ],
   "source": [
    "len(beta) , len(resid) , len(stock) , len(idx)"
   ]
  },
  {
   "cell_type": "code",
   "execution_count": 28,
   "metadata": {
    "collapsed": false
   },
   "outputs": [
    {
     "data": {
      "text/html": [
       "<div>\n",
       "<table border=\"1\" class=\"dataframe\">\n",
       "  <thead>\n",
       "    <tr style=\"text-align: right;\">\n",
       "      <th></th>\n",
       "      <th>beta</th>\n",
       "      <th>resid</th>\n",
       "      <th>valued_stock_idx</th>\n",
       "      <th>valued_stock</th>\n",
       "    </tr>\n",
       "  </thead>\n",
       "  <tbody>\n",
       "    <tr>\n",
       "      <th>15</th>\n",
       "      <td>0.655919</td>\n",
       "      <td>5.561476</td>\n",
       "      <td>[116, 310, 127, 102, 196, 161, 365, 52, 90, 33...</td>\n",
       "      <td>[23000, 21240, 138040, 68400, 101140, 119650, ...</td>\n",
       "    </tr>\n",
       "    <tr>\n",
       "      <th>16</th>\n",
       "      <td>0.652303</td>\n",
       "      <td>5.567109</td>\n",
       "      <td>[95, 212, 304, 305, 78, 163, 182, 181, 327, 38...</td>\n",
       "      <td>[13870, 28670, 64960, 37710, 200880, 115390, 1...</td>\n",
       "    </tr>\n",
       "    <tr>\n",
       "      <th>17</th>\n",
       "      <td>0.647552</td>\n",
       "      <td>5.602050</td>\n",
       "      <td>[200, 111, 172, 254, 121, 133, 222, 193, 230, ...</td>\n",
       "      <td>[100250, 129260, 47400, 84670, 69640, 134380, ...</td>\n",
       "    </tr>\n",
       "    <tr>\n",
       "      <th>18</th>\n",
       "      <td>0.639652</td>\n",
       "      <td>5.607692</td>\n",
       "      <td>[397, 17, 84, 290, 31, 213, 377, 232, 155, 96,...</td>\n",
       "      <td>[17810, 272450, 185750, 69620, 267260, 97230, ...</td>\n",
       "    </tr>\n",
       "    <tr>\n",
       "      <th>19</th>\n",
       "      <td>0.622697</td>\n",
       "      <td>5.565745</td>\n",
       "      <td>[390, 109, 14, 314, 199, 206, 211, 357, 250, 9...</td>\n",
       "      <td>[27390, 145270, 285130, 47040, 100840, 92440, ...</td>\n",
       "    </tr>\n",
       "  </tbody>\n",
       "</table>\n",
       "</div>"
      ],
      "text/plain": [
       "        beta     resid                                   valued_stock_idx  \\\n",
       "15  0.655919  5.561476  [116, 310, 127, 102, 196, 161, 365, 52, 90, 33...   \n",
       "16  0.652303  5.567109  [95, 212, 304, 305, 78, 163, 182, 181, 327, 38...   \n",
       "17  0.647552  5.602050  [200, 111, 172, 254, 121, 133, 222, 193, 230, ...   \n",
       "18  0.639652  5.607692  [397, 17, 84, 290, 31, 213, 377, 232, 155, 96,...   \n",
       "19  0.622697  5.565745  [390, 109, 14, 314, 199, 206, 211, 357, 250, 9...   \n",
       "\n",
       "                                         valued_stock  \n",
       "15  [23000, 21240, 138040, 68400, 101140, 119650, ...  \n",
       "16  [13870, 28670, 64960, 37710, 200880, 115390, 1...  \n",
       "17  [100250, 129260, 47400, 84670, 69640, 134380, ...  \n",
       "18  [17810, 272450, 185750, 69620, 267260, 97230, ...  \n",
       "19  [27390, 145270, 285130, 47040, 100840, 92440, ...  "
      ]
     },
     "execution_count": 28,
     "metadata": {},
     "output_type": "execute_result"
    }
   ],
   "source": [
    "testing_df.tail()"
   ]
  },
  {
   "cell_type": "markdown",
   "metadata": {},
   "source": [
    "# 2단계 : 포트폴리오 $\\beta$ 의 추정시기 (estimation period)"
   ]
  },
  {
   "cell_type": "markdown",
   "metadata": {},
   "source": [
    "- 시장 모형의 시계열회귀분석으로 20개 포트폴리오에 대한 $\\beta$ 계수를 추정한다.\n",
    "- 개별 종목에 대한 $\\beta_i$ 를 구하고, 포트폴리오를 형성, 시계열 평균으로 $\\beta_P$ 를 추정한다."
   ]
  },
  {
   "cell_type": "code",
   "execution_count": 29,
   "metadata": {
    "collapsed": false
   },
   "outputs": [
    {
     "data": {
      "text/markdown": [
       "시간 소요가 걸리는 작업입니다. 잠시만 기다려주세요!"
      ],
      "text/plain": [
       "<IPython.core.display.Markdown object>"
      ]
     },
     "metadata": {},
     "output_type": "display_data"
    }
   ],
   "source": [
    "testing_beta2,testing_resid2 = second_OLS(individual_stock_df,df)"
   ]
  },
  {
   "cell_type": "code",
   "execution_count": 30,
   "metadata": {
    "collapsed": false
   },
   "outputs": [
    {
     "data": {
      "text/plain": [
       "(400, 400)"
      ]
     },
     "execution_count": 30,
     "metadata": {},
     "output_type": "execute_result"
    }
   ],
   "source": [
    "len(testing_beta2) , len(testing_resid2)"
   ]
  },
  {
   "cell_type": "code",
   "execution_count": 31,
   "metadata": {
    "collapsed": false
   },
   "outputs": [],
   "source": [
    "final_beta , final_resid , final_df = second_sorting_beta_resid(testing_beta2,testing_resid2,df,testing_df)"
   ]
  },
  {
   "cell_type": "code",
   "execution_count": 32,
   "metadata": {
    "collapsed": false
   },
   "outputs": [
    {
     "data": {
      "text/plain": [
       "(20, 20)"
      ]
     },
     "execution_count": 32,
     "metadata": {},
     "output_type": "execute_result"
    }
   ],
   "source": [
    "len(final_beta) , len(final_resid)"
   ]
  },
  {
   "cell_type": "code",
   "execution_count": 33,
   "metadata": {
    "collapsed": false,
    "scrolled": false
   },
   "outputs": [
    {
     "data": {
      "text/html": [
       "<div>\n",
       "<table border=\"1\" class=\"dataframe\">\n",
       "  <thead>\n",
       "    <tr style=\"text-align: right;\">\n",
       "      <th></th>\n",
       "      <th>beta</th>\n",
       "      <th>resid</th>\n",
       "      <th>stock_idx</th>\n",
       "      <th>stock</th>\n",
       "    </tr>\n",
       "  </thead>\n",
       "  <tbody>\n",
       "    <tr>\n",
       "      <th>15</th>\n",
       "      <td>0.675610</td>\n",
       "      <td>5.582127</td>\n",
       "      <td>[116, 310, 127, 102, 196, 161, 365, 52, 90, 33...</td>\n",
       "      <td>[23000, 21240, 138040, 68400, 101140, 119650, ...</td>\n",
       "    </tr>\n",
       "    <tr>\n",
       "      <th>16</th>\n",
       "      <td>0.659320</td>\n",
       "      <td>5.571874</td>\n",
       "      <td>[95, 212, 304, 305, 78, 163, 182, 181, 327, 38...</td>\n",
       "      <td>[13870, 28670, 64960, 37710, 200880, 115390, 1...</td>\n",
       "    </tr>\n",
       "    <tr>\n",
       "      <th>17</th>\n",
       "      <td>0.677157</td>\n",
       "      <td>5.504280</td>\n",
       "      <td>[200, 111, 172, 254, 121, 133, 222, 193, 230, ...</td>\n",
       "      <td>[100250, 129260, 47400, 84670, 69640, 134380, ...</td>\n",
       "    </tr>\n",
       "    <tr>\n",
       "      <th>18</th>\n",
       "      <td>0.663262</td>\n",
       "      <td>5.544595</td>\n",
       "      <td>[397, 17, 84, 290, 31, 213, 377, 232, 155, 96,...</td>\n",
       "      <td>[17810, 272450, 185750, 69620, 267260, 97230, ...</td>\n",
       "    </tr>\n",
       "    <tr>\n",
       "      <th>19</th>\n",
       "      <td>0.667496</td>\n",
       "      <td>5.458353</td>\n",
       "      <td>[390, 109, 14, 314, 199, 206, 211, 357, 250, 9...</td>\n",
       "      <td>[27390, 145270, 285130, 47040, 100840, 92440, ...</td>\n",
       "    </tr>\n",
       "  </tbody>\n",
       "</table>\n",
       "</div>"
      ],
      "text/plain": [
       "        beta     resid                                          stock_idx  \\\n",
       "15  0.675610  5.582127  [116, 310, 127, 102, 196, 161, 365, 52, 90, 33...   \n",
       "16  0.659320  5.571874  [95, 212, 304, 305, 78, 163, 182, 181, 327, 38...   \n",
       "17  0.677157  5.504280  [200, 111, 172, 254, 121, 133, 222, 193, 230, ...   \n",
       "18  0.663262  5.544595  [397, 17, 84, 290, 31, 213, 377, 232, 155, 96,...   \n",
       "19  0.667496  5.458353  [390, 109, 14, 314, 199, 206, 211, 357, 250, 9...   \n",
       "\n",
       "                                                stock  \n",
       "15  [23000, 21240, 138040, 68400, 101140, 119650, ...  \n",
       "16  [13870, 28670, 64960, 37710, 200880, 115390, 1...  \n",
       "17  [100250, 129260, 47400, 84670, 69640, 134380, ...  \n",
       "18  [17810, 272450, 185750, 69620, 267260, 97230, ...  \n",
       "19  [27390, 145270, 285130, 47040, 100840, 92440, ...  "
      ]
     },
     "execution_count": 33,
     "metadata": {},
     "output_type": "execute_result"
    }
   ],
   "source": [
    "final_df.tail()"
   ]
  },
  {
   "cell_type": "markdown",
   "metadata": {},
   "source": [
    "# 3단계 : 검증시기(testing period)\n",
    "- 앞의 2단계에 의한여 20개의 포트폴리오의 베타 $\\beta_P$ 가 추정될 것이므로 이 $\\beta_P$ 와 포트폴리오에 속한 개별증권의 1개월간의 기대수익률과의 횡단면 회귀분석을 하여 식의 회귀 계수를 각각 추정한다."
   ]
  },
  {
   "cell_type": "code",
   "execution_count": null,
   "metadata": {
    "collapsed": true
   },
   "outputs": [],
   "source": [
    "nth_term = 1\n",
    "testing_stock_df = individual_stock_df.iloc[:,900+(10*(nth_term-1)):900+(10*nth_term)]\n",
    "testing_stock_df[185:200]"
   ]
  },
  {
   "cell_type": "code",
   "execution_count": null,
   "metadata": {
    "collapsed": true
   },
   "outputs": [],
   "source": [
    "gamma_1 , gamma_2 , gamma_3 , gamma_4 = real_df(individual_stock_df,final_df,nth_term=1)"
   ]
  },
  {
   "cell_type": "code",
   "execution_count": null,
   "metadata": {
    "collapsed": true
   },
   "outputs": [],
   "source": [
    "gamma_1 , gamma_2 , gamma_3 , gamma_4"
   ]
  },
  {
   "cell_type": "markdown",
   "metadata": {},
   "source": [
    "# 2단계,3단계 진행\n",
    "- Time batch size 를 10으로 하고 window shift를 진행한다.\n",
    "- shift를 할 때마다 $\\beta_P$ 를 최신화하고, cross_sectional regression을 시행한다.\n",
    "- cross_sectional regression 을 할 때마다, $\\gamma_1$ , $\\gamma_2$ , $\\gamma_3$ , $\\gamma_4$ 가 새로 생긴다.\n",
    "- $\\gamma_1$ , $\\gamma_2$ , $\\gamma_3$ , $\\gamma_4$ 계수들이 시계열 $T$ 만큼 생성된다.\n",
    "- $\\gamma_1$ , $\\gamma_2$ , $\\gamma_3$ , $\\gamma_4$ 의 시계열 평균값을 구하고, 실증가설을 T-test에 따라 검증한다."
   ]
  },
  {
   "cell_type": "markdown",
   "metadata": {},
   "source": [
    "# Function test"
   ]
  },
  {
   "cell_type": "code",
   "execution_count": 85,
   "metadata": {
    "collapsed": false
   },
   "outputs": [
    {
     "data": {
      "text/markdown": [
       "시간 소요가 걸리는 작업입니다. 잠시만 기다려주세요!"
      ],
      "text/plain": [
       "<IPython.core.display.Markdown object>"
      ]
     },
     "metadata": {},
     "output_type": "display_data"
    },
    {
     "data": {
      "text/markdown": [
       "시간 소요가 걸리는 작업입니다. 잠시만 기다려주세요!"
      ],
      "text/plain": [
       "<IPython.core.display.Markdown object>"
      ]
     },
     "metadata": {},
     "output_type": "display_data"
    },
    {
     "data": {
      "text/markdown": [
       "시간 소요가 걸리는 작업입니다. 잠시만 기다려주세요!"
      ],
      "text/plain": [
       "<IPython.core.display.Markdown object>"
      ]
     },
     "metadata": {},
     "output_type": "display_data"
    },
    {
     "data": {
      "text/markdown": [
       "시간 소요가 걸리는 작업입니다. 잠시만 기다려주세요!"
      ],
      "text/plain": [
       "<IPython.core.display.Markdown object>"
      ]
     },
     "metadata": {},
     "output_type": "display_data"
    },
    {
     "data": {
      "text/markdown": [
       "시간 소요가 걸리는 작업입니다. 잠시만 기다려주세요!"
      ],
      "text/plain": [
       "<IPython.core.display.Markdown object>"
      ]
     },
     "metadata": {},
     "output_type": "display_data"
    },
    {
     "data": {
      "text/markdown": [
       "시간 소요가 걸리는 작업입니다. 잠시만 기다려주세요!"
      ],
      "text/plain": [
       "<IPython.core.display.Markdown object>"
      ]
     },
     "metadata": {},
     "output_type": "display_data"
    },
    {
     "data": {
      "text/markdown": [
       "시간 소요가 걸리는 작업입니다. 잠시만 기다려주세요!"
      ],
      "text/plain": [
       "<IPython.core.display.Markdown object>"
      ]
     },
     "metadata": {},
     "output_type": "display_data"
    },
    {
     "data": {
      "text/markdown": [
       "시간 소요가 걸리는 작업입니다. 잠시만 기다려주세요!"
      ],
      "text/plain": [
       "<IPython.core.display.Markdown object>"
      ]
     },
     "metadata": {},
     "output_type": "display_data"
    },
    {
     "data": {
      "text/markdown": [
       "시간 소요가 걸리는 작업입니다. 잠시만 기다려주세요!"
      ],
      "text/plain": [
       "<IPython.core.display.Markdown object>"
      ]
     },
     "metadata": {},
     "output_type": "display_data"
    },
    {
     "data": {
      "text/markdown": [
       "시간 소요가 걸리는 작업입니다. 잠시만 기다려주세요!"
      ],
      "text/plain": [
       "<IPython.core.display.Markdown object>"
      ]
     },
     "metadata": {},
     "output_type": "display_data"
    },
    {
     "name": "stdout",
     "output_type": "stream",
     "text": [
      "CPU times: user 15min 21s, sys: 7.33 s, total: 15min 29s\n",
      "Wall time: 3min 52s\n"
     ]
    }
   ],
   "source": [
    "%%time\n",
    "real_gamma_1 , real_gamma_2 , real_gamma_3 , real_gamma_4 = [],[],[],[]\n",
    "\n",
    "for i in range(10):\n",
    "    testing_beta2,testing_resid2 = second_OLS(individual_stock_df,df,i=i)\n",
    "    final_beta , final_resid , final_df = second_sorting_beta_resid(testing_beta2,testing_resid2,df,testing_df)\n",
    "    gamma_1 , gamma_2 , gamma_3 , gamma_4 = cross_sectional_func(individual_stock_df,final_df,nth_term=i)\n",
    "    real_gamma_1.append(gamma_1)\n",
    "    real_gamma_2.append(gamma_2)\n",
    "    real_gamma_3.append(gamma_3)\n",
    "    real_gamma_4.append(gamma_4)"
   ]
  },
  {
   "cell_type": "code",
   "execution_count": 86,
   "metadata": {
    "collapsed": false
   },
   "outputs": [
    {
     "data": {
      "text/plain": [
       "(10, 10, 10, 10)"
      ]
     },
     "execution_count": 86,
     "metadata": {},
     "output_type": "execute_result"
    }
   ],
   "source": [
    "len(real_gamma_1),len(real_gamma_2),len(real_gamma_3),len(real_gamma_4)"
   ]
  },
  {
   "cell_type": "code",
   "execution_count": 92,
   "metadata": {
    "collapsed": false
   },
   "outputs": [],
   "source": [
    "gamma_1 = len([j for i in real_gamma_1 for j in i])\n",
    "gamma_2 = len([j for i in real_gamma_2 for j in i])\n",
    "gamma_3 = len([j for i in real_gamma_3 for j in i])\n",
    "gamma_4 = len([j for i in real_gamma_4 for j in i])"
   ]
  },
  {
   "cell_type": "code",
   "execution_count": 93,
   "metadata": {
    "collapsed": false
   },
   "outputs": [
    {
     "data": {
      "text/markdown": [
       "### $\\gamma_1$ coef's t-test : 6.640288168948411e-08"
      ],
      "text/plain": [
       "<IPython.core.display.Markdown object>"
      ]
     },
     "metadata": {},
     "output_type": "display_data"
    },
    {
     "data": {
      "text/markdown": [
       "### $\\gamma_2$ coef's t-test : 6.772718512867405e-08"
      ],
      "text/plain": [
       "<IPython.core.display.Markdown object>"
      ]
     },
     "metadata": {},
     "output_type": "display_data"
    },
    {
     "data": {
      "text/markdown": [
       "### $\\gamma_3$ coef's t-test : 6.91627874722162e-08"
      ],
      "text/plain": [
       "<IPython.core.display.Markdown object>"
      ]
     },
     "metadata": {},
     "output_type": "display_data"
    },
    {
     "data": {
      "text/markdown": [
       "### $\\gamma_4$ coef's t-test : 6.645161237939336e-08"
      ],
      "text/plain": [
       "<IPython.core.display.Markdown object>"
      ]
     },
     "metadata": {},
     "output_type": "display_data"
    }
   ],
   "source": [
    "display(Markdown(\"### $\\gamma_1$ coef's t-test : {}\".format(sp.stats.ttest_1samp(real_gamma_1,popmean=0)[1][0])))\n",
    "display(Markdown(\"### $\\gamma_2$ coef's t-test : {}\".format(sp.stats.ttest_1samp(real_gamma_2,popmean=0)[1][0])))\n",
    "display(Markdown(\"### $\\gamma_3$ coef's t-test : {}\".format(sp.stats.ttest_1samp(real_gamma_3,popmean=0)[1][0])))\n",
    "display(Markdown(\"### $\\gamma_4$ coef's t-test : {}\".format(sp.stats.ttest_1samp(real_gamma_4,popmean=0)[1][0])))"
   ]
  }
 ],
 "metadata": {
  "kernelspec": {
   "display_name": "Python 3",
   "language": "python",
   "name": "python3"
  },
  "language_info": {
   "codemirror_mode": {
    "name": "ipython",
    "version": 3
   },
   "file_extension": ".py",
   "mimetype": "text/x-python",
   "name": "python",
   "nbconvert_exporter": "python",
   "pygments_lexer": "ipython3",
   "version": "3.6.0"
  }
 },
 "nbformat": 4,
 "nbformat_minor": 2
}
