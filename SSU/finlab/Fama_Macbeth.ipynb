{
 "cells": [
  {
   "cell_type": "code",
   "execution_count": 1,
   "metadata": {
    "collapsed": false
   },
   "outputs": [],
   "source": [
    "from FM_solution import *"
   ]
  },
  {
   "cell_type": "markdown",
   "metadata": {},
   "source": [
    "## 가상의 주식 테이블 생성하기\n",
    "- 시점 $T$ 는 1부터 1000까지 생성\n",
    "- 개별 종목의 갯수는 400개로 설정\n",
    "- 난수 발생으로 임의로 정하였다.\n",
    "--------------------------------------------\n",
    "## Notice : 데이터 포맷 그 이상의 의미를 가지지 못한다."
   ]
  },
  {
   "cell_type": "code",
   "execution_count": 2,
   "metadata": {
    "collapsed": false,
    "scrolled": true
   },
   "outputs": [
    {
     "data": {
      "text/html": [
       "<div>\n",
       "<table border=\"1\" class=\"dataframe\">\n",
       "  <thead>\n",
       "    <tr style=\"text-align: right;\">\n",
       "      <th></th>\n",
       "      <th>1</th>\n",
       "      <th>2</th>\n",
       "      <th>3</th>\n",
       "      <th>4</th>\n",
       "      <th>5</th>\n",
       "      <th>6</th>\n",
       "      <th>7</th>\n",
       "      <th>8</th>\n",
       "      <th>9</th>\n",
       "      <th>10</th>\n",
       "      <th>...</th>\n",
       "      <th>991</th>\n",
       "      <th>992</th>\n",
       "      <th>993</th>\n",
       "      <th>994</th>\n",
       "      <th>995</th>\n",
       "      <th>996</th>\n",
       "      <th>997</th>\n",
       "      <th>998</th>\n",
       "      <th>999</th>\n",
       "      <th>1000</th>\n",
       "    </tr>\n",
       "  </thead>\n",
       "  <tbody>\n",
       "    <tr>\n",
       "      <th>17810</th>\n",
       "      <td>1.257295</td>\n",
       "      <td>10.773807</td>\n",
       "      <td>13.946398</td>\n",
       "      <td>6.906598</td>\n",
       "      <td>7.789312</td>\n",
       "      <td>1.510906</td>\n",
       "      <td>9.241267</td>\n",
       "      <td>0.000000</td>\n",
       "      <td>10.969686</td>\n",
       "      <td>3.226850</td>\n",
       "      <td>...</td>\n",
       "      <td>10.716502</td>\n",
       "      <td>15.980701</td>\n",
       "      <td>5.891332</td>\n",
       "      <td>8.369528</td>\n",
       "      <td>8.103619</td>\n",
       "      <td>12.197811</td>\n",
       "      <td>0.000000</td>\n",
       "      <td>15.678048</td>\n",
       "      <td>4.773781</td>\n",
       "      <td>6.489053</td>\n",
       "    </tr>\n",
       "    <tr>\n",
       "      <th>11200</th>\n",
       "      <td>2.778111</td>\n",
       "      <td>9.814250</td>\n",
       "      <td>13.994607</td>\n",
       "      <td>3.154554</td>\n",
       "      <td>0.000000</td>\n",
       "      <td>10.191331</td>\n",
       "      <td>11.147793</td>\n",
       "      <td>12.719244</td>\n",
       "      <td>7.573940</td>\n",
       "      <td>1.184633</td>\n",
       "      <td>...</td>\n",
       "      <td>8.323932</td>\n",
       "      <td>9.433183</td>\n",
       "      <td>8.869402</td>\n",
       "      <td>5.861731</td>\n",
       "      <td>11.202679</td>\n",
       "      <td>7.389168</td>\n",
       "      <td>16.453325</td>\n",
       "      <td>11.764520</td>\n",
       "      <td>11.923806</td>\n",
       "      <td>11.656796</td>\n",
       "    </tr>\n",
       "    <tr>\n",
       "      <th>17390</th>\n",
       "      <td>5.793845</td>\n",
       "      <td>0.000000</td>\n",
       "      <td>11.358391</td>\n",
       "      <td>1.733969</td>\n",
       "      <td>3.437534</td>\n",
       "      <td>2.277374</td>\n",
       "      <td>3.587492</td>\n",
       "      <td>6.882197</td>\n",
       "      <td>3.737850</td>\n",
       "      <td>15.312050</td>\n",
       "      <td>...</td>\n",
       "      <td>1.951352</td>\n",
       "      <td>6.577574</td>\n",
       "      <td>8.829078</td>\n",
       "      <td>7.510783</td>\n",
       "      <td>7.512166</td>\n",
       "      <td>6.684229</td>\n",
       "      <td>9.539525</td>\n",
       "      <td>0.000000</td>\n",
       "      <td>11.026651</td>\n",
       "      <td>4.454646</td>\n",
       "    </tr>\n",
       "    <tr>\n",
       "      <th>market</th>\n",
       "      <td>9.332893</td>\n",
       "      <td>9.342022</td>\n",
       "      <td>13.605822</td>\n",
       "      <td>14.757272</td>\n",
       "      <td>7.862481</td>\n",
       "      <td>6.908221</td>\n",
       "      <td>6.630333</td>\n",
       "      <td>13.247908</td>\n",
       "      <td>5.072134</td>\n",
       "      <td>8.517387</td>\n",
       "      <td>...</td>\n",
       "      <td>4.711660</td>\n",
       "      <td>2.853174</td>\n",
       "      <td>8.650822</td>\n",
       "      <td>7.648198</td>\n",
       "      <td>12.007319</td>\n",
       "      <td>12.286149</td>\n",
       "      <td>1.588059</td>\n",
       "      <td>1.643908</td>\n",
       "      <td>10.901972</td>\n",
       "      <td>9.129998</td>\n",
       "    </tr>\n",
       "    <tr>\n",
       "      <th>bias</th>\n",
       "      <td>1.000000</td>\n",
       "      <td>1.000000</td>\n",
       "      <td>1.000000</td>\n",
       "      <td>1.000000</td>\n",
       "      <td>1.000000</td>\n",
       "      <td>1.000000</td>\n",
       "      <td>1.000000</td>\n",
       "      <td>1.000000</td>\n",
       "      <td>1.000000</td>\n",
       "      <td>1.000000</td>\n",
       "      <td>...</td>\n",
       "      <td>1.000000</td>\n",
       "      <td>1.000000</td>\n",
       "      <td>1.000000</td>\n",
       "      <td>1.000000</td>\n",
       "      <td>1.000000</td>\n",
       "      <td>1.000000</td>\n",
       "      <td>1.000000</td>\n",
       "      <td>1.000000</td>\n",
       "      <td>1.000000</td>\n",
       "      <td>1.000000</td>\n",
       "    </tr>\n",
       "  </tbody>\n",
       "</table>\n",
       "<p>5 rows × 1000 columns</p>\n",
       "</div>"
      ],
      "text/plain": [
       "            1          2          3          4         5          6     \\\n",
       "17810   1.257295  10.773807  13.946398   6.906598  7.789312   1.510906   \n",
       "11200   2.778111   9.814250  13.994607   3.154554  0.000000  10.191331   \n",
       "17390   5.793845   0.000000  11.358391   1.733969  3.437534   2.277374   \n",
       "market  9.332893   9.342022  13.605822  14.757272  7.862481   6.908221   \n",
       "bias    1.000000   1.000000   1.000000   1.000000  1.000000   1.000000   \n",
       "\n",
       "             7          8          9          10      ...           991   \\\n",
       "17810    9.241267   0.000000  10.969686   3.226850    ...      10.716502   \n",
       "11200   11.147793  12.719244   7.573940   1.184633    ...       8.323932   \n",
       "17390    3.587492   6.882197   3.737850  15.312050    ...       1.951352   \n",
       "market   6.630333  13.247908   5.072134   8.517387    ...       4.711660   \n",
       "bias     1.000000   1.000000   1.000000   1.000000    ...       1.000000   \n",
       "\n",
       "             992       993       994        995        996        997   \\\n",
       "17810   15.980701  5.891332  8.369528   8.103619  12.197811   0.000000   \n",
       "11200    9.433183  8.869402  5.861731  11.202679   7.389168  16.453325   \n",
       "17390    6.577574  8.829078  7.510783   7.512166   6.684229   9.539525   \n",
       "market   2.853174  8.650822  7.648198  12.007319  12.286149   1.588059   \n",
       "bias     1.000000  1.000000  1.000000   1.000000   1.000000   1.000000   \n",
       "\n",
       "             998        999        1000  \n",
       "17810   15.678048   4.773781   6.489053  \n",
       "11200   11.764520  11.923806  11.656796  \n",
       "17390    0.000000  11.026651   4.454646  \n",
       "market   1.643908  10.901972   9.129998  \n",
       "bias     1.000000   1.000000   1.000000  \n",
       "\n",
       "[5 rows x 1000 columns]"
      ]
     },
     "metadata": {},
     "output_type": "display_data"
    },
    {
     "name": "stdout",
     "output_type": "stream",
     "text": [
      "(402, 1000)\n"
     ]
    }
   ],
   "source": [
    "code_df = pd.read_csv('industrial_code.csv')\n",
    "code_df.rename(columns={'종목코드':'code'},inplace=True)\n",
    "code_df = code_df[:401]\n",
    "num_of_stock = 400\n",
    "T = 1000\n",
    "df = pd.DataFrame(columns=[i for i in range(1,T+1)])\n",
    "\n",
    "for i in df.columns:\n",
    "    df[i] = [0 for i in range(num_of_stock + 1)]\n",
    "    \n",
    "df.index = list(code_df['code'])\n",
    "df.index = [str(i) for i in df.index]\n",
    "\n",
    "for i in range(len(df)):\n",
    "    df.iloc[i] = [(np.random.randint(10))*(1+np.random.rand()) for _ in range(1000)]\n",
    "    \n",
    "df.index = [str(i) for i in df.index]\n",
    "df = df.append(pd.Series([1 for _ in range(T)], index=df.columns), ignore_index=True) \n",
    "df.rename(index={df.index[-1]:'bias'},inplace=True)\n",
    "df.rename(index={df.index[-2]:'market'},inplace=True)\n",
    "individual_stock_df = df[(df.index != 'market') & (df.index != 'bias')]\n",
    "df.index = list(code_df['code'])[:-1] + ['market','bias']\n",
    "display(df.tail())\n",
    "print(df.shape)"
   ]
  },
  {
   "cell_type": "markdown",
   "metadata": {},
   "source": [
    "## 1단계 : 포트폴리오 구성시기 (portfolio formation period)\n",
    "- 시장모형의 시계열회귀분석으로 개별 종목에 대한 $\\beta$ 계수를 추정한다.\n",
    "- 개별 종목에 대한 $\\beta$ 400개 계수 측정이 완료되면, 크기 순으로 나열해서 20개씩 묶어, 포트폴리오를 형성한다.\n",
    "    - 개별 종목의 갯수를 400개로 한 이유가 이와 같다."
   ]
  },
  {
   "cell_type": "code",
   "execution_count": 3,
   "metadata": {
    "collapsed": false
   },
   "outputs": [
    {
     "data": {
      "text/markdown": [
       "시간 소요가 걸리는 작업입니다. 잠시만 기다려주세요!"
      ],
      "text/plain": [
       "<IPython.core.display.Markdown object>"
      ]
     },
     "metadata": {},
     "output_type": "display_data"
    }
   ],
   "source": [
    "testing_beta , testing_resid = first_OLS(individual_stock_df,df)"
   ]
  },
  {
   "cell_type": "code",
   "execution_count": 4,
   "metadata": {
    "collapsed": false
   },
   "outputs": [
    {
     "data": {
      "text/plain": [
       "(400, 400)"
      ]
     },
     "execution_count": 4,
     "metadata": {},
     "output_type": "execute_result"
    }
   ],
   "source": [
    "len(testing_beta) , len(testing_resid)"
   ]
  },
  {
   "cell_type": "code",
   "execution_count": 5,
   "metadata": {
    "collapsed": false
   },
   "outputs": [],
   "source": [
    "beta , resid , stock , idx , testing_df = first_sorting_beta_resid(testing_beta,testing_resid,df)"
   ]
  },
  {
   "cell_type": "code",
   "execution_count": 6,
   "metadata": {
    "collapsed": false
   },
   "outputs": [
    {
     "data": {
      "text/plain": [
       "(20, 20, 20, 20)"
      ]
     },
     "execution_count": 6,
     "metadata": {},
     "output_type": "execute_result"
    }
   ],
   "source": [
    "len(beta) , len(resid) , len(stock) , len(idx)"
   ]
  },
  {
   "cell_type": "code",
   "execution_count": 7,
   "metadata": {
    "collapsed": false
   },
   "outputs": [
    {
     "data": {
      "text/html": [
       "<div>\n",
       "<table border=\"1\" class=\"dataframe\">\n",
       "  <thead>\n",
       "    <tr style=\"text-align: right;\">\n",
       "      <th></th>\n",
       "      <th>beta</th>\n",
       "      <th>resid</th>\n",
       "      <th>valued_stock_idx</th>\n",
       "      <th>valued_stock</th>\n",
       "    </tr>\n",
       "  </thead>\n",
       "  <tbody>\n",
       "    <tr>\n",
       "      <th>15</th>\n",
       "      <td>0.662555</td>\n",
       "      <td>5.572278</td>\n",
       "      <td>[153, 171, 40, 318, 167, 227, 301, 320, 347, 7...</td>\n",
       "      <td>[123690, 82640, 241590, 51630, 114090, 9770, 1...</td>\n",
       "    </tr>\n",
       "    <tr>\n",
       "      <th>16</th>\n",
       "      <td>0.658517</td>\n",
       "      <td>5.502634</td>\n",
       "      <td>[50, 330, 292, 103, 355, 173, 328, 113, 72, 85...</td>\n",
       "      <td>[70960, 9540, 36530, 155900, 12320, 93240, 365...</td>\n",
       "    </tr>\n",
       "    <tr>\n",
       "      <th>17</th>\n",
       "      <td>0.652683</td>\n",
       "      <td>5.600403</td>\n",
       "      <td>[262, 51, 389, 264, 164, 116, 138, 279, 297, 2...</td>\n",
       "      <td>[41650, 101530, 15890, 23810, 12160, 23000, 58...</td>\n",
       "    </tr>\n",
       "    <tr>\n",
       "      <th>18</th>\n",
       "      <td>0.643930</td>\n",
       "      <td>5.549179</td>\n",
       "      <td>[251, 363, 349, 74, 139, 281, 162, 169, 283, 2...</td>\n",
       "      <td>[84690, 29530, 10600, 112610, 130660, 72130, 7...</td>\n",
       "    </tr>\n",
       "    <tr>\n",
       "      <th>19</th>\n",
       "      <td>0.627285</td>\n",
       "      <td>5.546118</td>\n",
       "      <td>[244, 147, 114, 380, 325, 92, 213, 314, 24, 38...</td>\n",
       "      <td>[1560, 122900, 140890, 910, 36460, 155660, 972...</td>\n",
       "    </tr>\n",
       "  </tbody>\n",
       "</table>\n",
       "</div>"
      ],
      "text/plain": [
       "        beta     resid                                   valued_stock_idx  \\\n",
       "15  0.662555  5.572278  [153, 171, 40, 318, 167, 227, 301, 320, 347, 7...   \n",
       "16  0.658517  5.502634  [50, 330, 292, 103, 355, 173, 328, 113, 72, 85...   \n",
       "17  0.652683  5.600403  [262, 51, 389, 264, 164, 116, 138, 279, 297, 2...   \n",
       "18  0.643930  5.549179  [251, 363, 349, 74, 139, 281, 162, 169, 283, 2...   \n",
       "19  0.627285  5.546118  [244, 147, 114, 380, 325, 92, 213, 314, 24, 38...   \n",
       "\n",
       "                                         valued_stock  \n",
       "15  [123690, 82640, 241590, 51630, 114090, 9770, 1...  \n",
       "16  [70960, 9540, 36530, 155900, 12320, 93240, 365...  \n",
       "17  [41650, 101530, 15890, 23810, 12160, 23000, 58...  \n",
       "18  [84690, 29530, 10600, 112610, 130660, 72130, 7...  \n",
       "19  [1560, 122900, 140890, 910, 36460, 155660, 972...  "
      ]
     },
     "execution_count": 7,
     "metadata": {},
     "output_type": "execute_result"
    }
   ],
   "source": [
    "testing_df.tail()"
   ]
  },
  {
   "cell_type": "markdown",
   "metadata": {},
   "source": [
    "# 2단계 : 포트폴리오 $\\beta$ 의 추정시기 (estimation period)"
   ]
  },
  {
   "cell_type": "markdown",
   "metadata": {},
   "source": [
    "- 시장 모형의 시계열회귀분석으로 20개 포트폴리오에 대한 $\\beta$ 계수를 추정한다.\n",
    "- 개별 종목에 대한 $\\beta_i$ 를 구하고, 포트폴리오를 형성, 시계열 평균으로 $\\beta_P$ 를 추정한다."
   ]
  },
  {
   "cell_type": "code",
   "execution_count": 8,
   "metadata": {
    "collapsed": false
   },
   "outputs": [
    {
     "data": {
      "text/markdown": [
       "시간 소요가 걸리는 작업입니다. 잠시만 기다려주세요!"
      ],
      "text/plain": [
       "<IPython.core.display.Markdown object>"
      ]
     },
     "metadata": {},
     "output_type": "display_data"
    }
   ],
   "source": [
    "testing_beta2,testing_resid2 = second_OLS(individual_stock_df,df)"
   ]
  },
  {
   "cell_type": "code",
   "execution_count": 9,
   "metadata": {
    "collapsed": false
   },
   "outputs": [
    {
     "data": {
      "text/plain": [
       "(400, 400)"
      ]
     },
     "execution_count": 9,
     "metadata": {},
     "output_type": "execute_result"
    }
   ],
   "source": [
    "len(testing_beta2) , len(testing_resid2)"
   ]
  },
  {
   "cell_type": "code",
   "execution_count": 10,
   "metadata": {
    "collapsed": false
   },
   "outputs": [],
   "source": [
    "final_beta , final_resid , final_df = second_sorting_beta_resid(testing_beta2,testing_resid2,df,testing_df)"
   ]
  },
  {
   "cell_type": "code",
   "execution_count": 11,
   "metadata": {
    "collapsed": false
   },
   "outputs": [
    {
     "data": {
      "text/plain": [
       "(20, 20)"
      ]
     },
     "execution_count": 11,
     "metadata": {},
     "output_type": "execute_result"
    }
   ],
   "source": [
    "len(final_beta) , len(final_resid)"
   ]
  },
  {
   "cell_type": "code",
   "execution_count": 12,
   "metadata": {
    "collapsed": false,
    "scrolled": false
   },
   "outputs": [
    {
     "data": {
      "text/html": [
       "<div>\n",
       "<table border=\"1\" class=\"dataframe\">\n",
       "  <thead>\n",
       "    <tr style=\"text-align: right;\">\n",
       "      <th></th>\n",
       "      <th>beta</th>\n",
       "      <th>resid</th>\n",
       "      <th>stock_idx</th>\n",
       "      <th>stock</th>\n",
       "    </tr>\n",
       "  </thead>\n",
       "  <tbody>\n",
       "    <tr>\n",
       "      <th>15</th>\n",
       "      <td>0.706114</td>\n",
       "      <td>5.588412</td>\n",
       "      <td>[153, 171, 40, 318, 167, 227, 301, 320, 347, 7...</td>\n",
       "      <td>[123690, 82640, 241590, 51630, 114090, 9770, 1...</td>\n",
       "    </tr>\n",
       "    <tr>\n",
       "      <th>16</th>\n",
       "      <td>0.703023</td>\n",
       "      <td>5.468613</td>\n",
       "      <td>[50, 330, 292, 103, 355, 173, 328, 113, 72, 85...</td>\n",
       "      <td>[70960, 9540, 36530, 155900, 12320, 93240, 365...</td>\n",
       "    </tr>\n",
       "    <tr>\n",
       "      <th>17</th>\n",
       "      <td>0.697742</td>\n",
       "      <td>5.543084</td>\n",
       "      <td>[262, 51, 389, 264, 164, 116, 138, 279, 297, 2...</td>\n",
       "      <td>[41650, 101530, 15890, 23810, 12160, 23000, 58...</td>\n",
       "    </tr>\n",
       "    <tr>\n",
       "      <th>18</th>\n",
       "      <td>0.690196</td>\n",
       "      <td>5.520127</td>\n",
       "      <td>[251, 363, 349, 74, 139, 281, 162, 169, 283, 2...</td>\n",
       "      <td>[84690, 29530, 10600, 112610, 130660, 72130, 7...</td>\n",
       "    </tr>\n",
       "    <tr>\n",
       "      <th>19</th>\n",
       "      <td>0.691030</td>\n",
       "      <td>5.506548</td>\n",
       "      <td>[244, 147, 114, 380, 325, 92, 213, 314, 24, 38...</td>\n",
       "      <td>[1560, 122900, 140890, 910, 36460, 155660, 972...</td>\n",
       "    </tr>\n",
       "  </tbody>\n",
       "</table>\n",
       "</div>"
      ],
      "text/plain": [
       "        beta     resid                                          stock_idx  \\\n",
       "15  0.706114  5.588412  [153, 171, 40, 318, 167, 227, 301, 320, 347, 7...   \n",
       "16  0.703023  5.468613  [50, 330, 292, 103, 355, 173, 328, 113, 72, 85...   \n",
       "17  0.697742  5.543084  [262, 51, 389, 264, 164, 116, 138, 279, 297, 2...   \n",
       "18  0.690196  5.520127  [251, 363, 349, 74, 139, 281, 162, 169, 283, 2...   \n",
       "19  0.691030  5.506548  [244, 147, 114, 380, 325, 92, 213, 314, 24, 38...   \n",
       "\n",
       "                                                stock  \n",
       "15  [123690, 82640, 241590, 51630, 114090, 9770, 1...  \n",
       "16  [70960, 9540, 36530, 155900, 12320, 93240, 365...  \n",
       "17  [41650, 101530, 15890, 23810, 12160, 23000, 58...  \n",
       "18  [84690, 29530, 10600, 112610, 130660, 72130, 7...  \n",
       "19  [1560, 122900, 140890, 910, 36460, 155660, 972...  "
      ]
     },
     "execution_count": 12,
     "metadata": {},
     "output_type": "execute_result"
    }
   ],
   "source": [
    "final_df.tail()"
   ]
  },
  {
   "cell_type": "markdown",
   "metadata": {},
   "source": [
    "# 3단계 : 검증시기(testing period)\n",
    "- 앞의 2단계에 의한여 20개의 포트폴리오의 베타 $\\beta_P$ 가 추정될 것이므로 이 $\\beta_P$ 와 포트폴리오에 속한 개별증권의 1개월간의 기대수익률과의 횡단면 회귀분석을 하여 식의 회귀 계수를 각각 추정한다."
   ]
  },
  {
   "cell_type": "code",
   "execution_count": 13,
   "metadata": {
    "collapsed": false,
    "scrolled": true
   },
   "outputs": [
    {
     "data": {
      "text/html": [
       "<div>\n",
       "<table border=\"1\" class=\"dataframe\">\n",
       "  <thead>\n",
       "    <tr style=\"text-align: right;\">\n",
       "      <th></th>\n",
       "      <th>901</th>\n",
       "      <th>902</th>\n",
       "      <th>903</th>\n",
       "      <th>904</th>\n",
       "      <th>905</th>\n",
       "      <th>906</th>\n",
       "      <th>907</th>\n",
       "      <th>908</th>\n",
       "      <th>909</th>\n",
       "      <th>910</th>\n",
       "    </tr>\n",
       "  </thead>\n",
       "  <tbody>\n",
       "    <tr>\n",
       "      <th>185</th>\n",
       "      <td>11.967879</td>\n",
       "      <td>11.774982</td>\n",
       "      <td>10.071176</td>\n",
       "      <td>7.533462</td>\n",
       "      <td>7.728940</td>\n",
       "      <td>3.602533</td>\n",
       "      <td>5.530832</td>\n",
       "      <td>6.419041</td>\n",
       "      <td>9.511893</td>\n",
       "      <td>1.963959</td>\n",
       "    </tr>\n",
       "    <tr>\n",
       "      <th>186</th>\n",
       "      <td>12.883135</td>\n",
       "      <td>0.000000</td>\n",
       "      <td>8.137417</td>\n",
       "      <td>11.695998</td>\n",
       "      <td>4.257200</td>\n",
       "      <td>1.842159</td>\n",
       "      <td>4.822575</td>\n",
       "      <td>11.694451</td>\n",
       "      <td>6.004806</td>\n",
       "      <td>3.353291</td>\n",
       "    </tr>\n",
       "    <tr>\n",
       "      <th>187</th>\n",
       "      <td>0.000000</td>\n",
       "      <td>9.518520</td>\n",
       "      <td>3.326556</td>\n",
       "      <td>0.000000</td>\n",
       "      <td>4.664655</td>\n",
       "      <td>0.000000</td>\n",
       "      <td>5.222376</td>\n",
       "      <td>5.523833</td>\n",
       "      <td>2.370423</td>\n",
       "      <td>14.634652</td>\n",
       "    </tr>\n",
       "    <tr>\n",
       "      <th>188</th>\n",
       "      <td>12.756740</td>\n",
       "      <td>0.000000</td>\n",
       "      <td>9.274103</td>\n",
       "      <td>5.284612</td>\n",
       "      <td>10.305678</td>\n",
       "      <td>10.387905</td>\n",
       "      <td>0.000000</td>\n",
       "      <td>8.115199</td>\n",
       "      <td>11.326104</td>\n",
       "      <td>10.001697</td>\n",
       "    </tr>\n",
       "    <tr>\n",
       "      <th>189</th>\n",
       "      <td>10.681035</td>\n",
       "      <td>13.820821</td>\n",
       "      <td>3.562392</td>\n",
       "      <td>12.963876</td>\n",
       "      <td>13.838146</td>\n",
       "      <td>9.769842</td>\n",
       "      <td>0.000000</td>\n",
       "      <td>11.118017</td>\n",
       "      <td>11.702473</td>\n",
       "      <td>5.077049</td>\n",
       "    </tr>\n",
       "    <tr>\n",
       "      <th>190</th>\n",
       "      <td>4.484559</td>\n",
       "      <td>1.775012</td>\n",
       "      <td>14.843227</td>\n",
       "      <td>1.150343</td>\n",
       "      <td>9.656230</td>\n",
       "      <td>7.133692</td>\n",
       "      <td>3.421221</td>\n",
       "      <td>1.229679</td>\n",
       "      <td>0.000000</td>\n",
       "      <td>7.780107</td>\n",
       "    </tr>\n",
       "    <tr>\n",
       "      <th>191</th>\n",
       "      <td>5.762777</td>\n",
       "      <td>0.000000</td>\n",
       "      <td>0.000000</td>\n",
       "      <td>5.057349</td>\n",
       "      <td>6.484439</td>\n",
       "      <td>9.303933</td>\n",
       "      <td>0.000000</td>\n",
       "      <td>15.372440</td>\n",
       "      <td>7.368422</td>\n",
       "      <td>5.375626</td>\n",
       "    </tr>\n",
       "    <tr>\n",
       "      <th>192</th>\n",
       "      <td>2.692774</td>\n",
       "      <td>4.186476</td>\n",
       "      <td>0.000000</td>\n",
       "      <td>0.000000</td>\n",
       "      <td>8.726698</td>\n",
       "      <td>13.877861</td>\n",
       "      <td>7.151915</td>\n",
       "      <td>1.855598</td>\n",
       "      <td>10.437940</td>\n",
       "      <td>3.739577</td>\n",
       "    </tr>\n",
       "    <tr>\n",
       "      <th>193</th>\n",
       "      <td>8.299735</td>\n",
       "      <td>3.536852</td>\n",
       "      <td>0.000000</td>\n",
       "      <td>12.700555</td>\n",
       "      <td>6.473313</td>\n",
       "      <td>12.463782</td>\n",
       "      <td>1.184150</td>\n",
       "      <td>2.277416</td>\n",
       "      <td>2.680007</td>\n",
       "      <td>3.655677</td>\n",
       "    </tr>\n",
       "    <tr>\n",
       "      <th>194</th>\n",
       "      <td>3.376564</td>\n",
       "      <td>1.342395</td>\n",
       "      <td>7.662635</td>\n",
       "      <td>9.467132</td>\n",
       "      <td>2.051625</td>\n",
       "      <td>5.060845</td>\n",
       "      <td>4.044048</td>\n",
       "      <td>1.048067</td>\n",
       "      <td>9.459838</td>\n",
       "      <td>8.019744</td>\n",
       "    </tr>\n",
       "    <tr>\n",
       "      <th>195</th>\n",
       "      <td>1.886787</td>\n",
       "      <td>3.366194</td>\n",
       "      <td>5.388119</td>\n",
       "      <td>9.352689</td>\n",
       "      <td>2.880114</td>\n",
       "      <td>1.439790</td>\n",
       "      <td>0.000000</td>\n",
       "      <td>12.583781</td>\n",
       "      <td>0.000000</td>\n",
       "      <td>14.582982</td>\n",
       "    </tr>\n",
       "    <tr>\n",
       "      <th>196</th>\n",
       "      <td>3.311058</td>\n",
       "      <td>0.000000</td>\n",
       "      <td>3.515415</td>\n",
       "      <td>7.966765</td>\n",
       "      <td>1.211540</td>\n",
       "      <td>4.509436</td>\n",
       "      <td>3.431718</td>\n",
       "      <td>12.819921</td>\n",
       "      <td>8.910625</td>\n",
       "      <td>0.000000</td>\n",
       "    </tr>\n",
       "    <tr>\n",
       "      <th>197</th>\n",
       "      <td>8.205041</td>\n",
       "      <td>7.583310</td>\n",
       "      <td>6.120089</td>\n",
       "      <td>2.385270</td>\n",
       "      <td>8.599434</td>\n",
       "      <td>0.000000</td>\n",
       "      <td>10.207922</td>\n",
       "      <td>5.133096</td>\n",
       "      <td>12.436232</td>\n",
       "      <td>11.899389</td>\n",
       "    </tr>\n",
       "    <tr>\n",
       "      <th>198</th>\n",
       "      <td>10.919460</td>\n",
       "      <td>1.119452</td>\n",
       "      <td>7.020241</td>\n",
       "      <td>5.608663</td>\n",
       "      <td>10.120742</td>\n",
       "      <td>4.457798</td>\n",
       "      <td>16.394685</td>\n",
       "      <td>3.774349</td>\n",
       "      <td>4.879157</td>\n",
       "      <td>10.162203</td>\n",
       "    </tr>\n",
       "    <tr>\n",
       "      <th>199</th>\n",
       "      <td>9.703772</td>\n",
       "      <td>0.000000</td>\n",
       "      <td>17.812072</td>\n",
       "      <td>1.829759</td>\n",
       "      <td>8.379958</td>\n",
       "      <td>7.477418</td>\n",
       "      <td>3.582153</td>\n",
       "      <td>7.965682</td>\n",
       "      <td>10.107378</td>\n",
       "      <td>5.770606</td>\n",
       "    </tr>\n",
       "  </tbody>\n",
       "</table>\n",
       "</div>"
      ],
      "text/plain": [
       "           901        902        903        904        905        906  \\\n",
       "185  11.967879  11.774982  10.071176   7.533462   7.728940   3.602533   \n",
       "186  12.883135   0.000000   8.137417  11.695998   4.257200   1.842159   \n",
       "187   0.000000   9.518520   3.326556   0.000000   4.664655   0.000000   \n",
       "188  12.756740   0.000000   9.274103   5.284612  10.305678  10.387905   \n",
       "189  10.681035  13.820821   3.562392  12.963876  13.838146   9.769842   \n",
       "190   4.484559   1.775012  14.843227   1.150343   9.656230   7.133692   \n",
       "191   5.762777   0.000000   0.000000   5.057349   6.484439   9.303933   \n",
       "192   2.692774   4.186476   0.000000   0.000000   8.726698  13.877861   \n",
       "193   8.299735   3.536852   0.000000  12.700555   6.473313  12.463782   \n",
       "194   3.376564   1.342395   7.662635   9.467132   2.051625   5.060845   \n",
       "195   1.886787   3.366194   5.388119   9.352689   2.880114   1.439790   \n",
       "196   3.311058   0.000000   3.515415   7.966765   1.211540   4.509436   \n",
       "197   8.205041   7.583310   6.120089   2.385270   8.599434   0.000000   \n",
       "198  10.919460   1.119452   7.020241   5.608663  10.120742   4.457798   \n",
       "199   9.703772   0.000000  17.812072   1.829759   8.379958   7.477418   \n",
       "\n",
       "           907        908        909        910  \n",
       "185   5.530832   6.419041   9.511893   1.963959  \n",
       "186   4.822575  11.694451   6.004806   3.353291  \n",
       "187   5.222376   5.523833   2.370423  14.634652  \n",
       "188   0.000000   8.115199  11.326104  10.001697  \n",
       "189   0.000000  11.118017  11.702473   5.077049  \n",
       "190   3.421221   1.229679   0.000000   7.780107  \n",
       "191   0.000000  15.372440   7.368422   5.375626  \n",
       "192   7.151915   1.855598  10.437940   3.739577  \n",
       "193   1.184150   2.277416   2.680007   3.655677  \n",
       "194   4.044048   1.048067   9.459838   8.019744  \n",
       "195   0.000000  12.583781   0.000000  14.582982  \n",
       "196   3.431718  12.819921   8.910625   0.000000  \n",
       "197  10.207922   5.133096  12.436232  11.899389  \n",
       "198  16.394685   3.774349   4.879157  10.162203  \n",
       "199   3.582153   7.965682  10.107378   5.770606  "
      ]
     },
     "execution_count": 13,
     "metadata": {},
     "output_type": "execute_result"
    }
   ],
   "source": [
    "nth_term = 1\n",
    "testing_stock_df = individual_stock_df.iloc[:,900+(10*(nth_term-1)):900+(10*nth_term)]\n",
    "testing_stock_df[185:200]"
   ]
  },
  {
   "cell_type": "code",
   "execution_count": 17,
   "metadata": {
    "collapsed": false,
    "scrolled": true
   },
   "outputs": [],
   "source": [
    "gamma_1 , gamma_2 , gamma_3 , gamma_4 = real_df(individual_stock_df,final_df,nth_term=1)"
   ]
  },
  {
   "cell_type": "code",
   "execution_count": 18,
   "metadata": {
    "collapsed": false
   },
   "outputs": [
    {
     "data": {
      "text/plain": [
       "([-1955.8121149970034],\n",
       " [5793.2224269967001],\n",
       " [-4167.9655089252146],\n",
       " [-9.0542818149508975])"
      ]
     },
     "execution_count": 18,
     "metadata": {},
     "output_type": "execute_result"
    }
   ],
   "source": [
    "gamma_1 , gamma_2 , gamma_3 , gamma_4"
   ]
  },
  {
   "cell_type": "markdown",
   "metadata": {},
   "source": [
    "# 2단계,3단계 진행\n",
    "- Time batch size 를 10으로 하고 window shift를 진행한다.\n",
    "- shift를 할 때마다 $\\beta_P$ 를 최신화하고, cross_sectional regression을 시행한다.\n",
    "- cross_sectional regression 을 할 때마다, $\\gamma_1$ , $\\gamma_2$ , $\\gamma_3$ , $\\gamma_4$ 가 새로 생긴다.\n",
    "- $\\gamma_1$ , $\\gamma_2$ , $\\gamma_3$ , $\\gamma_4$ 계수들이 시계열 $T$ 만큼 생성된다.\n",
    "- $\\gamma_1$ , $\\gamma_2$ , $\\gamma_3$ , $\\gamma_4$ 의 시계열 평균값을 구하고, 실증가설을 T-test에 따라 검증한다."
   ]
  },
  {
   "cell_type": "code",
   "execution_count": 35,
   "metadata": {
    "collapsed": false,
    "scrolled": true
   },
   "outputs": [
    {
     "data": {
      "text/markdown": [
       "시간 소요가 걸리는 작업입니다. 잠시만 기다려주세요!"
      ],
      "text/plain": [
       "<IPython.core.display.Markdown object>"
      ]
     },
     "metadata": {},
     "output_type": "display_data"
    },
    {
     "data": {
      "text/markdown": [
       "시간 소요가 걸리는 작업입니다. 잠시만 기다려주세요!"
      ],
      "text/plain": [
       "<IPython.core.display.Markdown object>"
      ]
     },
     "metadata": {},
     "output_type": "display_data"
    },
    {
     "data": {
      "text/markdown": [
       "시간 소요가 걸리는 작업입니다. 잠시만 기다려주세요!"
      ],
      "text/plain": [
       "<IPython.core.display.Markdown object>"
      ]
     },
     "metadata": {},
     "output_type": "display_data"
    },
    {
     "data": {
      "text/markdown": [
       "시간 소요가 걸리는 작업입니다. 잠시만 기다려주세요!"
      ],
      "text/plain": [
       "<IPython.core.display.Markdown object>"
      ]
     },
     "metadata": {},
     "output_type": "display_data"
    },
    {
     "data": {
      "text/markdown": [
       "시간 소요가 걸리는 작업입니다. 잠시만 기다려주세요!"
      ],
      "text/plain": [
       "<IPython.core.display.Markdown object>"
      ]
     },
     "metadata": {},
     "output_type": "display_data"
    },
    {
     "data": {
      "text/markdown": [
       "시간 소요가 걸리는 작업입니다. 잠시만 기다려주세요!"
      ],
      "text/plain": [
       "<IPython.core.display.Markdown object>"
      ]
     },
     "metadata": {},
     "output_type": "display_data"
    },
    {
     "data": {
      "text/markdown": [
       "시간 소요가 걸리는 작업입니다. 잠시만 기다려주세요!"
      ],
      "text/plain": [
       "<IPython.core.display.Markdown object>"
      ]
     },
     "metadata": {},
     "output_type": "display_data"
    },
    {
     "data": {
      "text/markdown": [
       "시간 소요가 걸리는 작업입니다. 잠시만 기다려주세요!"
      ],
      "text/plain": [
       "<IPython.core.display.Markdown object>"
      ]
     },
     "metadata": {},
     "output_type": "display_data"
    },
    {
     "data": {
      "text/markdown": [
       "시간 소요가 걸리는 작업입니다. 잠시만 기다려주세요!"
      ],
      "text/plain": [
       "<IPython.core.display.Markdown object>"
      ]
     },
     "metadata": {},
     "output_type": "display_data"
    },
    {
     "data": {
      "text/markdown": [
       "시간 소요가 걸리는 작업입니다. 잠시만 기다려주세요!"
      ],
      "text/plain": [
       "<IPython.core.display.Markdown object>"
      ]
     },
     "metadata": {},
     "output_type": "display_data"
    },
    {
     "name": "stdout",
     "output_type": "stream",
     "text": [
      "CPU times: user 14min 13s, sys: 6.54 s, total: 14min 19s\n",
      "Wall time: 3min 35s\n"
     ]
    }
   ],
   "source": [
    "%%time\n",
    "real_gamma_1 , real_gamma_2 , real_gamma_3 , real_gamma_4 = [],[],[],[]\n",
    "\n",
    "for i in range(10):\n",
    "    testing_beta2,testing_resid2 = second_OLS(individual_stock_df,df,i=i)\n",
    "    final_beta , final_resid , final_df = second_sorting_beta_resid(testing_beta2,testing_resid2,df,testing_df)\n",
    "    gamma_1 , gamma_2 , gamma_3 , gamma_4 = real_df(individual_stock_df,final_df,nth_term=i)\n",
    "    real_gamma_1.append(gamma_1)\n",
    "    real_gamma_2.append(gamma_2)\n",
    "    real_gamma_3.append(gamma_3)\n",
    "    real_gamma_4.append(gamma_4)"
   ]
  },
  {
   "cell_type": "code",
   "execution_count": 61,
   "metadata": {
    "collapsed": false,
    "scrolled": true
   },
   "outputs": [
    {
     "data": {
      "text/markdown": [
       "### $\\gamma_1$ coef's t-test : 0.8760835094847901"
      ],
      "text/plain": [
       "<IPython.core.display.Markdown object>"
      ]
     },
     "metadata": {},
     "output_type": "display_data"
    },
    {
     "data": {
      "text/markdown": [
       "### $\\gamma_2$ coef's t-test : 0.8755904542124714"
      ],
      "text/plain": [
       "<IPython.core.display.Markdown object>"
      ]
     },
     "metadata": {},
     "output_type": "display_data"
    },
    {
     "data": {
      "text/markdown": [
       "### $\\gamma_3$ coef's t-test : 0.878410476884093"
      ],
      "text/plain": [
       "<IPython.core.display.Markdown object>"
      ]
     },
     "metadata": {},
     "output_type": "display_data"
    },
    {
     "data": {
      "text/markdown": [
       "### $\\gamma_4$ coef's t-test : 0.34650087787477635"
      ],
      "text/plain": [
       "<IPython.core.display.Markdown object>"
      ]
     },
     "metadata": {},
     "output_type": "display_data"
    }
   ],
   "source": [
    "display(Markdown(\"### $\\gamma_1$ coef's t-test : {}\".format(sp.stats.ttest_1samp(real_gamma_1,popmean=0)[1][0])))\n",
    "display(Markdown(\"### $\\gamma_2$ coef's t-test : {}\".format(sp.stats.ttest_1samp(real_gamma_2,popmean=0)[1][0])))\n",
    "display(Markdown(\"### $\\gamma_3$ coef's t-test : {}\".format(sp.stats.ttest_1samp(real_gamma_3,popmean=0)[1][0])))\n",
    "display(Markdown(\"### $\\gamma_4$ coef's t-test : {}\".format(sp.stats.ttest_1samp(real_gamma_4,popmean=0)[1][0])))"
   ]
  }
 ],
 "metadata": {
  "kernelspec": {
   "display_name": "Python 3",
   "language": "python",
   "name": "python3"
  },
  "language_info": {
   "codemirror_mode": {
    "name": "ipython",
    "version": 3
   },
   "file_extension": ".py",
   "mimetype": "text/x-python",
   "name": "python",
   "nbconvert_exporter": "python",
   "pygments_lexer": "ipython3",
   "version": "3.6.0"
  }
 },
 "nbformat": 4,
 "nbformat_minor": 2
}
