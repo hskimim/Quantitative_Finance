{
 "cells": [
  {
   "cell_type": "code",
   "execution_count": 1,
   "metadata": {
    "collapsed": false
   },
   "outputs": [],
   "source": [
    "from FM_solution import *"
   ]
  },
  {
   "cell_type": "markdown",
   "metadata": {},
   "source": [
    "## 가상의 주식 테이블 생성하기\n",
    "- 시점 $T$ 는 1부터 1000까지 생성\n",
    "- 개별 종목의 갯수는 400개로 설정\n",
    "- 난수 발생으로 임의로 정하였기 때문에, 데이터 포맷 그 이상의 의미를 가지지 못한다."
   ]
  },
  {
   "cell_type": "code",
   "execution_count": 2,
   "metadata": {
    "collapsed": false
   },
   "outputs": [
    {
     "data": {
      "text/html": [
       "<div>\n",
       "<table border=\"1\" class=\"dataframe\">\n",
       "  <thead>\n",
       "    <tr style=\"text-align: right;\">\n",
       "      <th></th>\n",
       "      <th>1</th>\n",
       "      <th>2</th>\n",
       "      <th>3</th>\n",
       "      <th>4</th>\n",
       "      <th>5</th>\n",
       "      <th>6</th>\n",
       "      <th>7</th>\n",
       "      <th>8</th>\n",
       "      <th>9</th>\n",
       "      <th>10</th>\n",
       "      <th>...</th>\n",
       "      <th>991</th>\n",
       "      <th>992</th>\n",
       "      <th>993</th>\n",
       "      <th>994</th>\n",
       "      <th>995</th>\n",
       "      <th>996</th>\n",
       "      <th>997</th>\n",
       "      <th>998</th>\n",
       "      <th>999</th>\n",
       "      <th>1000</th>\n",
       "    </tr>\n",
       "  </thead>\n",
       "  <tbody>\n",
       "    <tr>\n",
       "      <th>17810</th>\n",
       "      <td>5.966439</td>\n",
       "      <td>14.511612</td>\n",
       "      <td>10.210677</td>\n",
       "      <td>6.147145</td>\n",
       "      <td>10.969940</td>\n",
       "      <td>15.778136</td>\n",
       "      <td>4.715378</td>\n",
       "      <td>16.039868</td>\n",
       "      <td>4.357659</td>\n",
       "      <td>11.686800</td>\n",
       "      <td>...</td>\n",
       "      <td>2.648514</td>\n",
       "      <td>1.057011</td>\n",
       "      <td>10.716836</td>\n",
       "      <td>13.566762</td>\n",
       "      <td>5.916202</td>\n",
       "      <td>1.918234</td>\n",
       "      <td>7.225932</td>\n",
       "      <td>3.365132</td>\n",
       "      <td>8.955421</td>\n",
       "      <td>5.809034</td>\n",
       "    </tr>\n",
       "    <tr>\n",
       "      <th>11200</th>\n",
       "      <td>3.134063</td>\n",
       "      <td>4.841810</td>\n",
       "      <td>0.000000</td>\n",
       "      <td>8.764466</td>\n",
       "      <td>9.499532</td>\n",
       "      <td>9.339222</td>\n",
       "      <td>1.906553</td>\n",
       "      <td>8.173353</td>\n",
       "      <td>2.618946</td>\n",
       "      <td>0.000000</td>\n",
       "      <td>...</td>\n",
       "      <td>5.625720</td>\n",
       "      <td>7.534312</td>\n",
       "      <td>10.985695</td>\n",
       "      <td>11.641516</td>\n",
       "      <td>8.836607</td>\n",
       "      <td>6.103713</td>\n",
       "      <td>0.000000</td>\n",
       "      <td>5.592094</td>\n",
       "      <td>9.597813</td>\n",
       "      <td>14.188030</td>\n",
       "    </tr>\n",
       "    <tr>\n",
       "      <th>17390</th>\n",
       "      <td>10.144767</td>\n",
       "      <td>13.074544</td>\n",
       "      <td>11.308739</td>\n",
       "      <td>10.238510</td>\n",
       "      <td>5.463524</td>\n",
       "      <td>4.663494</td>\n",
       "      <td>5.290853</td>\n",
       "      <td>4.977656</td>\n",
       "      <td>7.104612</td>\n",
       "      <td>3.990398</td>\n",
       "      <td>...</td>\n",
       "      <td>8.519255</td>\n",
       "      <td>5.209785</td>\n",
       "      <td>15.293522</td>\n",
       "      <td>11.508067</td>\n",
       "      <td>5.893690</td>\n",
       "      <td>8.340524</td>\n",
       "      <td>11.119110</td>\n",
       "      <td>5.394857</td>\n",
       "      <td>1.183558</td>\n",
       "      <td>13.917283</td>\n",
       "    </tr>\n",
       "    <tr>\n",
       "      <th>market</th>\n",
       "      <td>13.978080</td>\n",
       "      <td>0.000000</td>\n",
       "      <td>11.944979</td>\n",
       "      <td>2.374868</td>\n",
       "      <td>17.617177</td>\n",
       "      <td>7.224437</td>\n",
       "      <td>13.038061</td>\n",
       "      <td>7.316876</td>\n",
       "      <td>1.221582</td>\n",
       "      <td>5.461273</td>\n",
       "      <td>...</td>\n",
       "      <td>5.861701</td>\n",
       "      <td>9.034882</td>\n",
       "      <td>12.803319</td>\n",
       "      <td>12.179560</td>\n",
       "      <td>6.619743</td>\n",
       "      <td>8.168163</td>\n",
       "      <td>4.058974</td>\n",
       "      <td>8.682541</td>\n",
       "      <td>1.669125</td>\n",
       "      <td>1.986219</td>\n",
       "    </tr>\n",
       "    <tr>\n",
       "      <th>bias</th>\n",
       "      <td>1.000000</td>\n",
       "      <td>1.000000</td>\n",
       "      <td>1.000000</td>\n",
       "      <td>1.000000</td>\n",
       "      <td>1.000000</td>\n",
       "      <td>1.000000</td>\n",
       "      <td>1.000000</td>\n",
       "      <td>1.000000</td>\n",
       "      <td>1.000000</td>\n",
       "      <td>1.000000</td>\n",
       "      <td>...</td>\n",
       "      <td>1.000000</td>\n",
       "      <td>1.000000</td>\n",
       "      <td>1.000000</td>\n",
       "      <td>1.000000</td>\n",
       "      <td>1.000000</td>\n",
       "      <td>1.000000</td>\n",
       "      <td>1.000000</td>\n",
       "      <td>1.000000</td>\n",
       "      <td>1.000000</td>\n",
       "      <td>1.000000</td>\n",
       "    </tr>\n",
       "  </tbody>\n",
       "</table>\n",
       "<p>5 rows × 1000 columns</p>\n",
       "</div>"
      ],
      "text/plain": [
       "             1          2          3          4          5          6     \\\n",
       "17810    5.966439  14.511612  10.210677   6.147145  10.969940  15.778136   \n",
       "11200    3.134063   4.841810   0.000000   8.764466   9.499532   9.339222   \n",
       "17390   10.144767  13.074544  11.308739  10.238510   5.463524   4.663494   \n",
       "market  13.978080   0.000000  11.944979   2.374868  17.617177   7.224437   \n",
       "bias     1.000000   1.000000   1.000000   1.000000   1.000000   1.000000   \n",
       "\n",
       "             7          8         9          10      ...          991   \\\n",
       "17810    4.715378  16.039868  4.357659  11.686800    ...      2.648514   \n",
       "11200    1.906553   8.173353  2.618946   0.000000    ...      5.625720   \n",
       "17390    5.290853   4.977656  7.104612   3.990398    ...      8.519255   \n",
       "market  13.038061   7.316876  1.221582   5.461273    ...      5.861701   \n",
       "bias     1.000000   1.000000  1.000000   1.000000    ...      1.000000   \n",
       "\n",
       "            992        993        994       995       996        997   \\\n",
       "17810   1.057011  10.716836  13.566762  5.916202  1.918234   7.225932   \n",
       "11200   7.534312  10.985695  11.641516  8.836607  6.103713   0.000000   \n",
       "17390   5.209785  15.293522  11.508067  5.893690  8.340524  11.119110   \n",
       "market  9.034882  12.803319  12.179560  6.619743  8.168163   4.058974   \n",
       "bias    1.000000   1.000000   1.000000  1.000000  1.000000   1.000000   \n",
       "\n",
       "            998       999        1000  \n",
       "17810   3.365132  8.955421   5.809034  \n",
       "11200   5.592094  9.597813  14.188030  \n",
       "17390   5.394857  1.183558  13.917283  \n",
       "market  8.682541  1.669125   1.986219  \n",
       "bias    1.000000  1.000000   1.000000  \n",
       "\n",
       "[5 rows x 1000 columns]"
      ]
     },
     "metadata": {},
     "output_type": "display_data"
    },
    {
     "name": "stdout",
     "output_type": "stream",
     "text": [
      "(402, 1000)\n"
     ]
    }
   ],
   "source": [
    "code_df = pd.read_csv('industrial_code.csv')\n",
    "code_df.rename(columns={'종목코드':'code'},inplace=True)\n",
    "code_df = code_df[:401]\n",
    "num_of_stock = 400\n",
    "T = 1000\n",
    "df = pd.DataFrame(columns=[i for i in range(1,T+1)])\n",
    "\n",
    "for i in df.columns:\n",
    "    df[i] = [0 for i in range(num_of_stock + 1)]\n",
    "    \n",
    "df.index = list(code_df['code'])\n",
    "df.index = [str(i) for i in df.index]\n",
    "\n",
    "for i in range(len(df)):\n",
    "    df.iloc[i] = [(np.random.randint(10))*(1+np.random.rand()) for _ in range(1000)]\n",
    "    \n",
    "df.index = [str(i) for i in df.index]\n",
    "df = df.append(pd.Series([1 for _ in range(T)], index=df.columns), ignore_index=True) \n",
    "df.rename(index={df.index[-1]:'bias'},inplace=True)\n",
    "df.rename(index={df.index[-2]:'market'},inplace=True)\n",
    "individual_stock_df = df[(df.index != 'market') & (df.index != 'bias')]\n",
    "df.index = list(code_df['code'])[:-1] + ['market','bias']\n",
    "display(df.tail())\n",
    "print(df.shape)"
   ]
  },
  {
   "cell_type": "markdown",
   "metadata": {},
   "source": [
    "## 1단계 : 포트폴리오 구성시기 (portfolio formation period)\n",
    "- 시장모형의 시계열회귀분석으로 개별 종목에 대한 $\\beta$ 계수를 추정한다.\n",
    "- 개별 종목에 대한 $\\beta$ 400개 계수 측정이 완료되면, 크기 순으로 나열해서 20개씩 묶어, 포트폴리오를 형성한다.\n",
    "    - 개별 종목의 갯수를 400개로 한 이유가 이와 같다."
   ]
  },
  {
   "cell_type": "code",
   "execution_count": 3,
   "metadata": {
    "collapsed": false
   },
   "outputs": [],
   "source": [
    "testing_beta , testing_resid = first_OLS(individual_stock_df,df)"
   ]
  },
  {
   "cell_type": "code",
   "execution_count": 4,
   "metadata": {
    "collapsed": false
   },
   "outputs": [
    {
     "data": {
      "text/plain": [
       "(400, 400)"
      ]
     },
     "execution_count": 4,
     "metadata": {},
     "output_type": "execute_result"
    }
   ],
   "source": [
    "len(testing_beta) , len(testing_resid)"
   ]
  },
  {
   "cell_type": "code",
   "execution_count": 5,
   "metadata": {
    "collapsed": false
   },
   "outputs": [],
   "source": [
    "beta , resid , stock , idx , testing_df = first_sorting_beta_resid(testing_beta,testing_resid,df)"
   ]
  },
  {
   "cell_type": "code",
   "execution_count": 6,
   "metadata": {
    "collapsed": false
   },
   "outputs": [
    {
     "data": {
      "text/plain": [
       "(20, 20, 20, 20)"
      ]
     },
     "execution_count": 6,
     "metadata": {},
     "output_type": "execute_result"
    }
   ],
   "source": [
    "len(beta) , len(resid) , len(stock) , len(idx)"
   ]
  },
  {
   "cell_type": "code",
   "execution_count": 7,
   "metadata": {
    "collapsed": false
   },
   "outputs": [
    {
     "data": {
      "text/html": [
       "<div>\n",
       "<table border=\"1\" class=\"dataframe\">\n",
       "  <thead>\n",
       "    <tr style=\"text-align: right;\">\n",
       "      <th></th>\n",
       "      <th>beta</th>\n",
       "      <th>resid</th>\n",
       "      <th>valued_stock_idx</th>\n",
       "      <th>valued_stock</th>\n",
       "    </tr>\n",
       "  </thead>\n",
       "  <tbody>\n",
       "    <tr>\n",
       "      <th>15</th>\n",
       "      <td>0.675039</td>\n",
       "      <td>5.509134</td>\n",
       "      <td>[149, 233, 332, 14, 74, 161, 68, 258, 244, 31,...</td>\n",
       "      <td>[105840, 90430, 6840, 285130, 112610, 119650, ...</td>\n",
       "    </tr>\n",
       "    <tr>\n",
       "      <th>16</th>\n",
       "      <td>0.669721</td>\n",
       "      <td>5.569581</td>\n",
       "      <td>[23, 157, 305, 37, 195, 279, 389, 69, 148, 241...</td>\n",
       "      <td>[271980, 31440, 37710, 241560, 32640, 72710, 1...</td>\n",
       "    </tr>\n",
       "    <tr>\n",
       "      <th>17</th>\n",
       "      <td>0.663933</td>\n",
       "      <td>5.458809</td>\n",
       "      <td>[326, 232, 11, 45, 49, 273, 56, 182, 119, 382,...</td>\n",
       "      <td>[7120, 90350, 18250, 16740, 195870, 24110, 755...</td>\n",
       "    </tr>\n",
       "    <tr>\n",
       "      <th>18</th>\n",
       "      <td>0.656410</td>\n",
       "      <td>5.492643</td>\n",
       "      <td>[58, 84, 99, 130, 21, 356, 396, 140, 201, 83, ...</td>\n",
       "      <td>[89590, 185750, 161390, 20150, 55490, 25530, 1...</td>\n",
       "    </tr>\n",
       "    <tr>\n",
       "      <th>19</th>\n",
       "      <td>0.638963</td>\n",
       "      <td>5.622237</td>\n",
       "      <td>[276, 304, 330, 131, 213, 43, 384, 116, 66, 12...</td>\n",
       "      <td>[7660, 64960, 9540, 11210, 97230, 249420, 1658...</td>\n",
       "    </tr>\n",
       "  </tbody>\n",
       "</table>\n",
       "</div>"
      ],
      "text/plain": [
       "        beta     resid                                   valued_stock_idx  \\\n",
       "15  0.675039  5.509134  [149, 233, 332, 14, 74, 161, 68, 258, 244, 31,...   \n",
       "16  0.669721  5.569581  [23, 157, 305, 37, 195, 279, 389, 69, 148, 241...   \n",
       "17  0.663933  5.458809  [326, 232, 11, 45, 49, 273, 56, 182, 119, 382,...   \n",
       "18  0.656410  5.492643  [58, 84, 99, 130, 21, 356, 396, 140, 201, 83, ...   \n",
       "19  0.638963  5.622237  [276, 304, 330, 131, 213, 43, 384, 116, 66, 12...   \n",
       "\n",
       "                                         valued_stock  \n",
       "15  [105840, 90430, 6840, 285130, 112610, 119650, ...  \n",
       "16  [271980, 31440, 37710, 241560, 32640, 72710, 1...  \n",
       "17  [7120, 90350, 18250, 16740, 195870, 24110, 755...  \n",
       "18  [89590, 185750, 161390, 20150, 55490, 25530, 1...  \n",
       "19  [7660, 64960, 9540, 11210, 97230, 249420, 1658...  "
      ]
     },
     "execution_count": 7,
     "metadata": {},
     "output_type": "execute_result"
    }
   ],
   "source": [
    "testing_df.tail()"
   ]
  },
  {
   "cell_type": "markdown",
   "metadata": {},
   "source": [
    "# 2단계 : 포트폴리오 $\\beta$ 의 추정시기 (estimation period)"
   ]
  },
  {
   "cell_type": "markdown",
   "metadata": {},
   "source": [
    "- 시장 모형의 시계열회귀분석으로 20개 포트폴리오에 대한 $\\beta$ 계수를 추정한다.\n",
    "- 개별 종목에 대한 $\\beta_i$ 를 구하고, 포트폴리오를 형성, 시계열 평균으로 $\\beta_P$ 를 추정한다."
   ]
  },
  {
   "cell_type": "code",
   "execution_count": 8,
   "metadata": {
    "collapsed": true
   },
   "outputs": [],
   "source": [
    "testing_beta2,testing_resid2 = second_OLS(individual_stock_df,df)"
   ]
  },
  {
   "cell_type": "code",
   "execution_count": 9,
   "metadata": {
    "collapsed": false
   },
   "outputs": [
    {
     "data": {
      "text/plain": [
       "(400, 400)"
      ]
     },
     "execution_count": 9,
     "metadata": {},
     "output_type": "execute_result"
    }
   ],
   "source": [
    "len(testing_beta2) , len(testing_resid2)"
   ]
  },
  {
   "cell_type": "code",
   "execution_count": 10,
   "metadata": {
    "collapsed": false
   },
   "outputs": [],
   "source": [
    "final_beta , final_resid , final_df = second_sorting_beta_resid(testing_beta2,testing_resid2,df,testing_df)"
   ]
  },
  {
   "cell_type": "code",
   "execution_count": 11,
   "metadata": {
    "collapsed": false
   },
   "outputs": [
    {
     "data": {
      "text/plain": [
       "(20, 20)"
      ]
     },
     "execution_count": 11,
     "metadata": {},
     "output_type": "execute_result"
    }
   ],
   "source": [
    "len(final_beta) , len(final_resid)"
   ]
  },
  {
   "cell_type": "code",
   "execution_count": 12,
   "metadata": {
    "collapsed": false,
    "scrolled": false
   },
   "outputs": [
    {
     "data": {
      "text/html": [
       "<div>\n",
       "<table border=\"1\" class=\"dataframe\">\n",
       "  <thead>\n",
       "    <tr style=\"text-align: right;\">\n",
       "      <th></th>\n",
       "      <th>beta</th>\n",
       "      <th>resid</th>\n",
       "      <th>stock_idx</th>\n",
       "      <th>stock</th>\n",
       "    </tr>\n",
       "  </thead>\n",
       "  <tbody>\n",
       "    <tr>\n",
       "      <th>15</th>\n",
       "      <td>0.696485</td>\n",
       "      <td>5.589463</td>\n",
       "      <td>[149, 233, 332, 14, 74, 161, 68, 258, 244, 31,...</td>\n",
       "      <td>[105840, 90430, 6840, 285130, 112610, 119650, ...</td>\n",
       "    </tr>\n",
       "    <tr>\n",
       "      <th>16</th>\n",
       "      <td>0.679603</td>\n",
       "      <td>5.554716</td>\n",
       "      <td>[23, 157, 305, 37, 195, 279, 389, 69, 148, 241...</td>\n",
       "      <td>[271980, 31440, 37710, 241560, 32640, 72710, 1...</td>\n",
       "    </tr>\n",
       "    <tr>\n",
       "      <th>17</th>\n",
       "      <td>0.687030</td>\n",
       "      <td>5.597519</td>\n",
       "      <td>[326, 232, 11, 45, 49, 273, 56, 182, 119, 382,...</td>\n",
       "      <td>[7120, 90350, 18250, 16740, 195870, 24110, 755...</td>\n",
       "    </tr>\n",
       "    <tr>\n",
       "      <th>18</th>\n",
       "      <td>0.680400</td>\n",
       "      <td>5.502857</td>\n",
       "      <td>[58, 84, 99, 130, 21, 356, 396, 140, 201, 83, ...</td>\n",
       "      <td>[89590, 185750, 161390, 20150, 55490, 25530, 1...</td>\n",
       "    </tr>\n",
       "    <tr>\n",
       "      <th>19</th>\n",
       "      <td>0.685451</td>\n",
       "      <td>5.572138</td>\n",
       "      <td>[276, 304, 330, 131, 213, 43, 384, 116, 66, 12...</td>\n",
       "      <td>[7660, 64960, 9540, 11210, 97230, 249420, 1658...</td>\n",
       "    </tr>\n",
       "  </tbody>\n",
       "</table>\n",
       "</div>"
      ],
      "text/plain": [
       "        beta     resid                                          stock_idx  \\\n",
       "15  0.696485  5.589463  [149, 233, 332, 14, 74, 161, 68, 258, 244, 31,...   \n",
       "16  0.679603  5.554716  [23, 157, 305, 37, 195, 279, 389, 69, 148, 241...   \n",
       "17  0.687030  5.597519  [326, 232, 11, 45, 49, 273, 56, 182, 119, 382,...   \n",
       "18  0.680400  5.502857  [58, 84, 99, 130, 21, 356, 396, 140, 201, 83, ...   \n",
       "19  0.685451  5.572138  [276, 304, 330, 131, 213, 43, 384, 116, 66, 12...   \n",
       "\n",
       "                                                stock  \n",
       "15  [105840, 90430, 6840, 285130, 112610, 119650, ...  \n",
       "16  [271980, 31440, 37710, 241560, 32640, 72710, 1...  \n",
       "17  [7120, 90350, 18250, 16740, 195870, 24110, 755...  \n",
       "18  [89590, 185750, 161390, 20150, 55490, 25530, 1...  \n",
       "19  [7660, 64960, 9540, 11210, 97230, 249420, 1658...  "
      ]
     },
     "execution_count": 12,
     "metadata": {},
     "output_type": "execute_result"
    }
   ],
   "source": [
    "final_df.tail()"
   ]
  },
  {
   "cell_type": "markdown",
   "metadata": {},
   "source": [
    "# 3단계 : 검증시기(testing period)\n",
    "- 앞의 2단계에 의한여 20개의 포트폴리오의 베타 $\\beta_P$ 가 추정될 것이므로 이 $\\beta_P$ 와 포트폴리오에 속한 개별증권의 1개월간의 기대수익률과의 횡단면 회귀분석을 하여 식의 회귀 계수를 각각 추정한다."
   ]
  },
  {
   "cell_type": "code",
   "execution_count": 13,
   "metadata": {
    "collapsed": true
   },
   "outputs": [],
   "source": [
    "gamma_1 , gamma_2 , gamma_3 , gamma_4 = real_df(individual_stock_df,final_df)"
   ]
  },
  {
   "cell_type": "code",
   "execution_count": 14,
   "metadata": {
    "collapsed": false
   },
   "outputs": [
    {
     "data": {
      "text/plain": [
       "([-9494.2888070186018],\n",
       " [27653.742395225563],\n",
       " [-20122.062117695241],\n",
       " [0.050335446749860679])"
      ]
     },
     "execution_count": 14,
     "metadata": {},
     "output_type": "execute_result"
    }
   ],
   "source": [
    "gamma_1 , gamma_2 , gamma_3 , gamma_4"
   ]
  }
 ],
 "metadata": {
  "kernelspec": {
   "display_name": "Python 3",
   "language": "python",
   "name": "python3"
  },
  "language_info": {
   "codemirror_mode": {
    "name": "ipython",
    "version": 3
   },
   "file_extension": ".py",
   "mimetype": "text/x-python",
   "name": "python",
   "nbconvert_exporter": "python",
   "pygments_lexer": "ipython3",
   "version": "3.6.0"
  }
 },
 "nbformat": 4,
 "nbformat_minor": 2
}
