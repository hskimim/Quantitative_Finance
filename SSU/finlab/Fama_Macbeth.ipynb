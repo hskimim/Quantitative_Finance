{
 "cells": [
  {
   "cell_type": "code",
   "execution_count": 98,
   "metadata": {
    "collapsed": false
   },
   "outputs": [
    {
     "ename": "ModuleNotFoundError",
     "evalue": "No module named 'plotly'",
     "output_type": "error",
     "traceback": [
      "\u001b[0;31m---------------------------------------------------------------------------\u001b[0m",
      "\u001b[0;31mModuleNotFoundError\u001b[0m                       Traceback (most recent call last)",
      "\u001b[0;32m<ipython-input-98-48dfcd3e413f>\u001b[0m in \u001b[0;36m<module>\u001b[0;34m()\u001b[0m\n\u001b[1;32m      9\u001b[0m \u001b[0;32mfrom\u001b[0m \u001b[0mpatsy\u001b[0m \u001b[0;32mimport\u001b[0m \u001b[0mdmatrix\u001b[0m\u001b[0;34m\u001b[0m\u001b[0m\n\u001b[1;32m     10\u001b[0m \u001b[0;32mimport\u001b[0m \u001b[0mscipy\u001b[0m \u001b[0;32mas\u001b[0m \u001b[0msp\u001b[0m\u001b[0;34m\u001b[0m\u001b[0m\n\u001b[0;32m---> 11\u001b[0;31m \u001b[0;32mimport\u001b[0m \u001b[0mplotly\u001b[0m\u001b[0;34m.\u001b[0m\u001b[0mplotly\u001b[0m \u001b[0;32mas\u001b[0m \u001b[0mpy\u001b[0m\u001b[0;34m\u001b[0m\u001b[0m\n\u001b[0m\u001b[1;32m     12\u001b[0m \u001b[0;32mimport\u001b[0m \u001b[0mplotly\u001b[0m\u001b[0;34m.\u001b[0m\u001b[0mgraph_objs\u001b[0m \u001b[0;32mas\u001b[0m \u001b[0mgo\u001b[0m\u001b[0;34m\u001b[0m\u001b[0m\n\u001b[1;32m     13\u001b[0m \u001b[0;32mfrom\u001b[0m \u001b[0mplotly\u001b[0m\u001b[0;34m.\u001b[0m\u001b[0mtools\u001b[0m \u001b[0;32mimport\u001b[0m \u001b[0mFigureFactory\u001b[0m \u001b[0;32mas\u001b[0m \u001b[0mFF\u001b[0m\u001b[0;34m\u001b[0m\u001b[0m\n",
      "\u001b[0;31mModuleNotFoundError\u001b[0m: No module named 'plotly'"
     ]
    }
   ],
   "source": [
    "import numpy as np\n",
    "import pandas as pd\n",
    "from sklearn.linear_model import LinearRegression\n",
    "from statsmodels.api import *\n",
    "from IPython.display import display\n",
    "import matplotlib.pyplot as plt\n",
    "%matplotlib inline\n",
    "import statsmodels as sm\n",
    "from patsy import dmatrix\n",
    "import scipy as sp\n",
    "import plotly.plotly as py\n",
    "import plotly.graph_objs as go\n",
    "from plotly.tools import FigureFactory as FF"
   ]
  },
  {
   "cell_type": "markdown",
   "metadata": {},
   "source": [
    "## 가상의 주식 테이블 생성하기\n",
    "- 시점 $T$ 는 1부터 1000까지 생성\n",
    "- 개별 종목의 갯수는 400개로 설정\n",
    "- 난수 발생으로 임의로 정하였기 때문에, 데이터 포맷 그 이상의 의미를 가지지 못한다."
   ]
  },
  {
   "cell_type": "code",
   "execution_count": 2,
   "metadata": {
    "collapsed": false
   },
   "outputs": [
    {
     "data": {
      "text/html": [
       "<div>\n",
       "<table border=\"1\" class=\"dataframe\">\n",
       "  <thead>\n",
       "    <tr style=\"text-align: right;\">\n",
       "      <th></th>\n",
       "      <th>1</th>\n",
       "      <th>2</th>\n",
       "      <th>3</th>\n",
       "      <th>4</th>\n",
       "      <th>5</th>\n",
       "      <th>6</th>\n",
       "      <th>7</th>\n",
       "      <th>8</th>\n",
       "      <th>9</th>\n",
       "      <th>10</th>\n",
       "      <th>...</th>\n",
       "      <th>991</th>\n",
       "      <th>992</th>\n",
       "      <th>993</th>\n",
       "      <th>994</th>\n",
       "      <th>995</th>\n",
       "      <th>996</th>\n",
       "      <th>997</th>\n",
       "      <th>998</th>\n",
       "      <th>999</th>\n",
       "      <th>1000</th>\n",
       "    </tr>\n",
       "  </thead>\n",
       "  <tbody>\n",
       "    <tr>\n",
       "      <th>17810</th>\n",
       "      <td>9.964873</td>\n",
       "      <td>9.141443</td>\n",
       "      <td>5.361756</td>\n",
       "      <td>9.791883</td>\n",
       "      <td>3.089647</td>\n",
       "      <td>1.198437</td>\n",
       "      <td>11.765082</td>\n",
       "      <td>3.881418</td>\n",
       "      <td>1.374357</td>\n",
       "      <td>0.000000</td>\n",
       "      <td>...</td>\n",
       "      <td>7.636414</td>\n",
       "      <td>9.391173</td>\n",
       "      <td>4.780892</td>\n",
       "      <td>3.550154</td>\n",
       "      <td>1.776494</td>\n",
       "      <td>1.623830</td>\n",
       "      <td>11.085557</td>\n",
       "      <td>10.090241</td>\n",
       "      <td>3.947589</td>\n",
       "      <td>9.919635</td>\n",
       "    </tr>\n",
       "    <tr>\n",
       "      <th>11200</th>\n",
       "      <td>10.492474</td>\n",
       "      <td>13.861033</td>\n",
       "      <td>12.567612</td>\n",
       "      <td>11.747089</td>\n",
       "      <td>0.000000</td>\n",
       "      <td>11.927321</td>\n",
       "      <td>13.985305</td>\n",
       "      <td>10.631254</td>\n",
       "      <td>11.775968</td>\n",
       "      <td>1.408574</td>\n",
       "      <td>...</td>\n",
       "      <td>3.036602</td>\n",
       "      <td>1.260343</td>\n",
       "      <td>5.656831</td>\n",
       "      <td>11.815835</td>\n",
       "      <td>5.726766</td>\n",
       "      <td>7.898469</td>\n",
       "      <td>4.170299</td>\n",
       "      <td>1.953147</td>\n",
       "      <td>0.000000</td>\n",
       "      <td>3.867590</td>\n",
       "    </tr>\n",
       "    <tr>\n",
       "      <th>17390</th>\n",
       "      <td>0.000000</td>\n",
       "      <td>4.765429</td>\n",
       "      <td>3.383035</td>\n",
       "      <td>5.687626</td>\n",
       "      <td>5.902241</td>\n",
       "      <td>4.169320</td>\n",
       "      <td>14.268440</td>\n",
       "      <td>13.921636</td>\n",
       "      <td>1.976126</td>\n",
       "      <td>6.756700</td>\n",
       "      <td>...</td>\n",
       "      <td>1.990709</td>\n",
       "      <td>2.600034</td>\n",
       "      <td>5.114533</td>\n",
       "      <td>6.402019</td>\n",
       "      <td>1.850492</td>\n",
       "      <td>12.980608</td>\n",
       "      <td>0.000000</td>\n",
       "      <td>7.472104</td>\n",
       "      <td>0.000000</td>\n",
       "      <td>5.656483</td>\n",
       "    </tr>\n",
       "    <tr>\n",
       "      <th>market</th>\n",
       "      <td>4.293488</td>\n",
       "      <td>0.000000</td>\n",
       "      <td>7.389165</td>\n",
       "      <td>2.715151</td>\n",
       "      <td>2.964884</td>\n",
       "      <td>5.824708</td>\n",
       "      <td>3.890020</td>\n",
       "      <td>6.935306</td>\n",
       "      <td>0.000000</td>\n",
       "      <td>4.719971</td>\n",
       "      <td>...</td>\n",
       "      <td>10.783254</td>\n",
       "      <td>17.586733</td>\n",
       "      <td>0.000000</td>\n",
       "      <td>9.521007</td>\n",
       "      <td>1.905898</td>\n",
       "      <td>2.677348</td>\n",
       "      <td>5.594138</td>\n",
       "      <td>13.457434</td>\n",
       "      <td>1.728601</td>\n",
       "      <td>10.651831</td>\n",
       "    </tr>\n",
       "    <tr>\n",
       "      <th>bias</th>\n",
       "      <td>1.000000</td>\n",
       "      <td>1.000000</td>\n",
       "      <td>1.000000</td>\n",
       "      <td>1.000000</td>\n",
       "      <td>1.000000</td>\n",
       "      <td>1.000000</td>\n",
       "      <td>1.000000</td>\n",
       "      <td>1.000000</td>\n",
       "      <td>1.000000</td>\n",
       "      <td>1.000000</td>\n",
       "      <td>...</td>\n",
       "      <td>1.000000</td>\n",
       "      <td>1.000000</td>\n",
       "      <td>1.000000</td>\n",
       "      <td>1.000000</td>\n",
       "      <td>1.000000</td>\n",
       "      <td>1.000000</td>\n",
       "      <td>1.000000</td>\n",
       "      <td>1.000000</td>\n",
       "      <td>1.000000</td>\n",
       "      <td>1.000000</td>\n",
       "    </tr>\n",
       "  </tbody>\n",
       "</table>\n",
       "<p>5 rows × 1000 columns</p>\n",
       "</div>"
      ],
      "text/plain": [
       "             1          2          3          4         5          6     \\\n",
       "17810    9.964873   9.141443   5.361756   9.791883  3.089647   1.198437   \n",
       "11200   10.492474  13.861033  12.567612  11.747089  0.000000  11.927321   \n",
       "17390    0.000000   4.765429   3.383035   5.687626  5.902241   4.169320   \n",
       "market   4.293488   0.000000   7.389165   2.715151  2.964884   5.824708   \n",
       "bias     1.000000   1.000000   1.000000   1.000000  1.000000   1.000000   \n",
       "\n",
       "             7          8          9         10      ...           991   \\\n",
       "17810   11.765082   3.881418   1.374357  0.000000    ...       7.636414   \n",
       "11200   13.985305  10.631254  11.775968  1.408574    ...       3.036602   \n",
       "17390   14.268440  13.921636   1.976126  6.756700    ...       1.990709   \n",
       "market   3.890020   6.935306   0.000000  4.719971    ...      10.783254   \n",
       "bias     1.000000   1.000000   1.000000  1.000000    ...       1.000000   \n",
       "\n",
       "             992       993        994       995        996        997   \\\n",
       "17810    9.391173  4.780892   3.550154  1.776494   1.623830  11.085557   \n",
       "11200    1.260343  5.656831  11.815835  5.726766   7.898469   4.170299   \n",
       "17390    2.600034  5.114533   6.402019  1.850492  12.980608   0.000000   \n",
       "market  17.586733  0.000000   9.521007  1.905898   2.677348   5.594138   \n",
       "bias     1.000000  1.000000   1.000000  1.000000   1.000000   1.000000   \n",
       "\n",
       "             998       999        1000  \n",
       "17810   10.090241  3.947589   9.919635  \n",
       "11200    1.953147  0.000000   3.867590  \n",
       "17390    7.472104  0.000000   5.656483  \n",
       "market  13.457434  1.728601  10.651831  \n",
       "bias     1.000000  1.000000   1.000000  \n",
       "\n",
       "[5 rows x 1000 columns]"
      ]
     },
     "metadata": {},
     "output_type": "display_data"
    },
    {
     "name": "stdout",
     "output_type": "stream",
     "text": [
      "(402, 1000)\n"
     ]
    }
   ],
   "source": [
    "code_df = pd.read_csv('industrial_code.csv')\n",
    "code_df.rename(columns={'종목코드':'code'},inplace=True)\n",
    "code_df = code_df[:401]\n",
    "num_of_stock = 400\n",
    "T = 1000\n",
    "df = pd.DataFrame(columns=[i for i in range(1,T+1)])\n",
    "\n",
    "for i in df.columns:\n",
    "    df[i] = [0 for i in range(num_of_stock + 1)]\n",
    "    \n",
    "df.index = list(code_df['code'])\n",
    "df.index = [str(i) for i in df.index]\n",
    "\n",
    "for i in range(len(df)):\n",
    "    df.iloc[i] = [(np.random.randint(10))*(1+np.random.rand()) for _ in range(1000)]\n",
    "    \n",
    "df.index = [str(i) for i in df.index]\n",
    "df = df.append(pd.Series([1 for _ in range(T)], index=df.columns), ignore_index=True) \n",
    "df.rename(index={df.index[-1]:'bias'},inplace=True)\n",
    "df.rename(index={df.index[-2]:'market'},inplace=True)\n",
    "individual_stock_df = df[(df.index != 'market') & (df.index != 'bias')]\n",
    "df.index = list(code_df['code'])[:-1] + ['market','bias']\n",
    "display(df.tail())\n",
    "print(df.shape)"
   ]
  },
  {
   "cell_type": "markdown",
   "metadata": {},
   "source": [
    "## 1단계 : 포트폴리오 구성시기 (portfolio formation period)\n",
    "- 시장모형의 시계열회귀분석으로 개별 종목에 대한 $\\beta$ 계수를 추정한다.\n",
    "- 개별 종목에 대한 $\\beta$ 400개 계수 측정이 완료되면, 크기 순으로 나열해서 20개씩 묶어, 포트폴리오를 형성한다.\n",
    "    - 개별 종목의 갯수를 400개로 한 이유가 이와 같다."
   ]
  },
  {
   "cell_type": "code",
   "execution_count": 3,
   "metadata": {
    "collapsed": false,
    "scrolled": true
   },
   "outputs": [],
   "source": [
    "for i,value in enumerate(individual_stock_df.index):\n",
    "    globals()['model'+str(i)] = OLS(individual_stock_df.loc[value][:400].T,df.loc['market'][:, np.newaxis][:400])\n",
    "    globals()['result'+str(i)] = globals()['model'+str(i)].fit()\n",
    "    globals()['params'+str(i)] = globals()['result'+str(i)].params.values[0]\n",
    "    globals()['resid'+str(i)] = np.std(globals()['result'+str(i)].resid)\n",
    "#     display(globals()['result'+str(i)].summary())"
   ]
  },
  {
   "cell_type": "code",
   "execution_count": 4,
   "metadata": {
    "collapsed": false
   },
   "outputs": [
    {
     "data": {
      "text/plain": [
       "(400, 400)"
      ]
     },
     "execution_count": 4,
     "metadata": {},
     "output_type": "execute_result"
    }
   ],
   "source": [
    "beta_bundles1 = [globals()['params'+str(i)] for i in range(len(individual_stock_df.index))]\n",
    "resid_bundles1 = [globals()['resid'+str(i)] for i in range(len(individual_stock_df.index))]\n",
    "len(beta_bundles1) , len(resid_bundles1)"
   ]
  },
  {
   "cell_type": "code",
   "execution_count": 5,
   "metadata": {
    "collapsed": false
   },
   "outputs": [
    {
     "data": {
      "text/html": [
       "<div>\n",
       "<table border=\"1\" class=\"dataframe\">\n",
       "  <thead>\n",
       "    <tr style=\"text-align: right;\">\n",
       "      <th></th>\n",
       "      <th>index</th>\n",
       "      <th>beta</th>\n",
       "      <th>resid</th>\n",
       "      <th>stock</th>\n",
       "    </tr>\n",
       "  </thead>\n",
       "  <tbody>\n",
       "    <tr>\n",
       "      <th>395</th>\n",
       "      <td>395</td>\n",
       "      <td>0.648960</td>\n",
       "      <td>5.362154</td>\n",
       "      <td>11300</td>\n",
       "    </tr>\n",
       "    <tr>\n",
       "      <th>396</th>\n",
       "      <td>396</td>\n",
       "      <td>0.753192</td>\n",
       "      <td>5.519104</td>\n",
       "      <td>12610</td>\n",
       "    </tr>\n",
       "    <tr>\n",
       "      <th>397</th>\n",
       "      <td>397</td>\n",
       "      <td>0.700329</td>\n",
       "      <td>5.400137</td>\n",
       "      <td>17810</td>\n",
       "    </tr>\n",
       "    <tr>\n",
       "      <th>398</th>\n",
       "      <td>398</td>\n",
       "      <td>0.653678</td>\n",
       "      <td>5.596170</td>\n",
       "      <td>11200</td>\n",
       "    </tr>\n",
       "    <tr>\n",
       "      <th>399</th>\n",
       "      <td>399</td>\n",
       "      <td>0.686335</td>\n",
       "      <td>5.456469</td>\n",
       "      <td>17390</td>\n",
       "    </tr>\n",
       "  </tbody>\n",
       "</table>\n",
       "</div>"
      ],
      "text/plain": [
       "     index      beta     resid  stock\n",
       "395    395  0.648960  5.362154  11300\n",
       "396    396  0.753192  5.519104  12610\n",
       "397    397  0.700329  5.400137  17810\n",
       "398    398  0.653678  5.596170  11200\n",
       "399    399  0.686335  5.456469  17390"
      ]
     },
     "execution_count": 5,
     "metadata": {},
     "output_type": "execute_result"
    }
   ],
   "source": [
    "rank_df1 = pd.DataFrame()\n",
    "rank_df1['beta'] = beta_bundles1\n",
    "rank_df1['resid'] = resid_bundles1\n",
    "rank_df1['stock'] = df[(df.index != 'market')&(df.index != 'bias')].index\n",
    "rank_df1.reset_index(inplace=True)\n",
    "rank_df1.tail()"
   ]
  },
  {
   "cell_type": "code",
   "execution_count": 6,
   "metadata": {
    "collapsed": false
   },
   "outputs": [
    {
     "data": {
      "text/html": [
       "<div>\n",
       "<table border=\"1\" class=\"dataframe\">\n",
       "  <thead>\n",
       "    <tr style=\"text-align: right;\">\n",
       "      <th></th>\n",
       "      <th>index</th>\n",
       "      <th>beta</th>\n",
       "      <th>resid</th>\n",
       "      <th>stock</th>\n",
       "    </tr>\n",
       "  </thead>\n",
       "  <tbody>\n",
       "    <tr>\n",
       "      <th>265</th>\n",
       "      <td>265</td>\n",
       "      <td>0.747194</td>\n",
       "      <td>5.628205</td>\n",
       "      <td>78930</td>\n",
       "    </tr>\n",
       "    <tr>\n",
       "      <th>106</th>\n",
       "      <td>106</td>\n",
       "      <td>0.747969</td>\n",
       "      <td>5.525754</td>\n",
       "      <td>144620</td>\n",
       "    </tr>\n",
       "    <tr>\n",
       "      <th>274</th>\n",
       "      <td>274</td>\n",
       "      <td>0.748798</td>\n",
       "      <td>5.303013</td>\n",
       "      <td>74610</td>\n",
       "    </tr>\n",
       "    <tr>\n",
       "      <th>396</th>\n",
       "      <td>396</td>\n",
       "      <td>0.753192</td>\n",
       "      <td>5.519104</td>\n",
       "      <td>12610</td>\n",
       "    </tr>\n",
       "    <tr>\n",
       "      <th>21</th>\n",
       "      <td>21</td>\n",
       "      <td>0.760146</td>\n",
       "      <td>5.562490</td>\n",
       "      <td>55490</td>\n",
       "    </tr>\n",
       "  </tbody>\n",
       "</table>\n",
       "</div>"
      ],
      "text/plain": [
       "     index      beta     resid   stock\n",
       "265    265  0.747194  5.628205   78930\n",
       "106    106  0.747969  5.525754  144620\n",
       "274    274  0.748798  5.303013   74610\n",
       "396    396  0.753192  5.519104   12610\n",
       "21      21  0.760146  5.562490   55490"
      ]
     },
     "execution_count": 6,
     "metadata": {},
     "output_type": "execute_result"
    }
   ],
   "source": [
    "sorted_rank_df1 = rank_df1.sort_values(by='beta',ascending=True)\n",
    "sorted_rank_df1.tail()"
   ]
  },
  {
   "cell_type": "code",
   "execution_count": 7,
   "metadata": {
    "collapsed": true
   },
   "outputs": [],
   "source": [
    "testing_ls = []\n",
    "ranked_idx_ls = []\n",
    "popped_ls = list(sorted_rank_df1['index'])\n",
    "for _ in range(20):\n",
    "    testing_ls = []\n",
    "    for _ in range(20):\n",
    "        testing_ls.append(popped_ls.pop())\n",
    "    ranked_idx_ls.append(testing_ls)"
   ]
  },
  {
   "cell_type": "code",
   "execution_count": 8,
   "metadata": {
    "collapsed": true
   },
   "outputs": [],
   "source": [
    "testing_ls = []\n",
    "ranked_stock_ls = []\n",
    "popped_ls = list(sorted_rank_df1['stock'])\n",
    "for _ in range(20):\n",
    "    testing_ls = []\n",
    "    for _ in range(20):\n",
    "        testing_ls.append(popped_ls.pop())\n",
    "    ranked_stock_ls.append(testing_ls)"
   ]
  },
  {
   "cell_type": "code",
   "execution_count": 9,
   "metadata": {
    "collapsed": false
   },
   "outputs": [
    {
     "data": {
      "text/plain": [
       "(20, 20, 20, 20)"
      ]
     },
     "execution_count": 9,
     "metadata": {},
     "output_type": "execute_result"
    }
   ],
   "source": [
    "len(ranked_idx_ls[0]) , len(ranked_idx_ls) , len(ranked_stock_ls[0]) , len(ranked_stock_ls)"
   ]
  },
  {
   "cell_type": "code",
   "execution_count": 10,
   "metadata": {
    "collapsed": false
   },
   "outputs": [
    {
     "data": {
      "text/plain": [
       "400"
      ]
     },
     "execution_count": 10,
     "metadata": {},
     "output_type": "execute_result"
    }
   ],
   "source": [
    "sorted_beta_bundles = sorted(beta_bundles1)\n",
    "len(sorted_beta_bundles)"
   ]
  },
  {
   "cell_type": "code",
   "execution_count": 11,
   "metadata": {
    "collapsed": true
   },
   "outputs": [],
   "source": [
    "for i in range(20):\n",
    "    ls = []\n",
    "    for _ in range(20):\n",
    "        ls.append(sorted_beta_bundles.pop())\n",
    "    globals()['portfolio_beta_20_'+str(i)] = ls.copy()"
   ]
  },
  {
   "cell_type": "code",
   "execution_count": 12,
   "metadata": {
    "collapsed": true
   },
   "outputs": [],
   "source": [
    "for i in range(20):\n",
    "    ls = []\n",
    "    for _ in range(20):\n",
    "        ls.append(resid_bundles1.pop())\n",
    "    globals()['portfolio_resid_20_'+str(i)] = ls.copy()"
   ]
  },
  {
   "cell_type": "code",
   "execution_count": 13,
   "metadata": {
    "collapsed": false
   },
   "outputs": [
    {
     "name": "stdout",
     "output_type": "stream",
     "text": [
      "[0.73908499354273727, 0.72257884478467338, 0.71531661670467039, 0.70817172171301246, 0.70286823558525291, 0.69877286621328683, 0.69474941895943054, 0.69041418494638873, 0.68658965666944549, 0.68358765951490608, 0.6813615433459741, 0.67858346589389262, 0.67530330347527801, 0.67230377498068028, 0.66849913932261473, 0.66440619984900839, 0.66050152822263175, 0.65474671729649536, 0.64758757906410191, 0.63239116087365221]\n"
     ]
    }
   ],
   "source": [
    "beta_ls1 = []\n",
    "for i in range(20):\n",
    "    beta_ls1.append(sum(globals()['portfolio_beta_20_'+str(i)])/len(globals()['portfolio_beta_20_'+str(i)]))\n",
    "print(beta_ls1)"
   ]
  },
  {
   "cell_type": "code",
   "execution_count": 14,
   "metadata": {
    "collapsed": false
   },
   "outputs": [
    {
     "name": "stdout",
     "output_type": "stream",
     "text": [
      "[5.495996752247562, 5.435545921166052, 5.53484633046847, 5.472617181718266, 5.507617126388051, 5.464087926108812, 5.505263784989711, 5.4730274378369685, 5.496503643441547, 5.502506448371671, 5.520283852770498, 5.4747454918385365, 5.501345128374099, 5.436300187995277, 5.4342011318634675, 5.451564625556358, 5.41849152843597, 5.493122737865846, 5.538474958011325, 5.461664560825915]\n"
     ]
    }
   ],
   "source": [
    "resid_ls1 = []\n",
    "for i in range(20):\n",
    "    resid_ls1.append(sum(globals()['portfolio_resid_20_'+str(i)])/len(globals()['portfolio_resid_20_'+str(i)]))\n",
    "print(resid_ls1)"
   ]
  },
  {
   "cell_type": "code",
   "execution_count": 15,
   "metadata": {
    "collapsed": false,
    "scrolled": true
   },
   "outputs": [
    {
     "data": {
      "text/html": [
       "<div>\n",
       "<table border=\"1\" class=\"dataframe\">\n",
       "  <thead>\n",
       "    <tr style=\"text-align: right;\">\n",
       "      <th></th>\n",
       "      <th>beta</th>\n",
       "      <th>resid</th>\n",
       "      <th>valued_stock_idx</th>\n",
       "      <th>valued_stock</th>\n",
       "    </tr>\n",
       "  </thead>\n",
       "  <tbody>\n",
       "    <tr>\n",
       "      <th>15</th>\n",
       "      <td>0.664406</td>\n",
       "      <td>5.451565</td>\n",
       "      <td>[259, 246, 131, 234, 238, 61, 23, 341, 314, 29...</td>\n",
       "      <td>[79160, 84010, 11210, 32350, 88790, 39570, 271...</td>\n",
       "    </tr>\n",
       "    <tr>\n",
       "      <th>16</th>\n",
       "      <td>0.660502</td>\n",
       "      <td>5.418492</td>\n",
       "      <td>[1, 77, 161, 88, 316, 51, 98, 136, 10, 258, 19...</td>\n",
       "      <td>[293940, 204320, 119650, 180640, 42660, 101530...</td>\n",
       "    </tr>\n",
       "    <tr>\n",
       "      <th>17</th>\n",
       "      <td>0.654747</td>\n",
       "      <td>5.493123</td>\n",
       "      <td>[228, 269, 355, 172, 233, 301, 53, 364, 16, 15...</td>\n",
       "      <td>[92220, 78000, 12320, 47400, 90430, 17370, 194...</td>\n",
       "    </tr>\n",
       "    <tr>\n",
       "      <th>18</th>\n",
       "      <td>0.647588</td>\n",
       "      <td>5.538475</td>\n",
       "      <td>[134, 163, 386, 289, 348, 375, 395, 157, 378, ...</td>\n",
       "      <td>[134790, 115390, 11160, 69460, 11790, 19180, 1...</td>\n",
       "    </tr>\n",
       "    <tr>\n",
       "      <th>19</th>\n",
       "      <td>0.632391</td>\n",
       "      <td>5.461665</td>\n",
       "      <td>[322, 283, 245, 87, 281, 383, 327, 363, 57, 21...</td>\n",
       "      <td>[16450, 36570, 79430, 64350, 72130, 17800, 850...</td>\n",
       "    </tr>\n",
       "  </tbody>\n",
       "</table>\n",
       "</div>"
      ],
      "text/plain": [
       "        beta     resid                                   valued_stock_idx  \\\n",
       "15  0.664406  5.451565  [259, 246, 131, 234, 238, 61, 23, 341, 314, 29...   \n",
       "16  0.660502  5.418492  [1, 77, 161, 88, 316, 51, 98, 136, 10, 258, 19...   \n",
       "17  0.654747  5.493123  [228, 269, 355, 172, 233, 301, 53, 364, 16, 15...   \n",
       "18  0.647588  5.538475  [134, 163, 386, 289, 348, 375, 395, 157, 378, ...   \n",
       "19  0.632391  5.461665  [322, 283, 245, 87, 281, 383, 327, 363, 57, 21...   \n",
       "\n",
       "                                         valued_stock  \n",
       "15  [79160, 84010, 11210, 32350, 88790, 39570, 271...  \n",
       "16  [293940, 204320, 119650, 180640, 42660, 101530...  \n",
       "17  [92220, 78000, 12320, 47400, 90430, 17370, 194...  \n",
       "18  [134790, 115390, 11160, 69460, 11790, 19180, 1...  \n",
       "19  [16450, 36570, 79430, 64350, 72130, 17800, 850...  "
      ]
     },
     "execution_count": 15,
     "metadata": {},
     "output_type": "execute_result"
    }
   ],
   "source": [
    "testing_df = pd.DataFrame()\n",
    "testing_df['beta'] = beta_ls1\n",
    "testing_df['resid'] = resid_ls1\n",
    "testing_df['valued_stock_idx'] = ranked_idx_ls\n",
    "testing_df['valued_stock'] = ranked_stock_ls\n",
    "testing_df.tail()"
   ]
  },
  {
   "cell_type": "markdown",
   "metadata": {},
   "source": [
    "# 2단계 : 포트폴리오 $\\beta$ 의 추정시기 (estimation period)"
   ]
  },
  {
   "cell_type": "markdown",
   "metadata": {},
   "source": [
    "- 시장 모형의 시계열회귀분석으로 20개 포트폴리오에 대한 $\\beta$ 계수를 추정한다.\n",
    "- 개별 종목에 대한 $\\beta_i$ 를 구하고, 포트폴리오를 형성, 시계열 평균으로 $\\beta_P$ 를 추정한다."
   ]
  },
  {
   "cell_type": "code",
   "execution_count": 16,
   "metadata": {
    "collapsed": true
   },
   "outputs": [],
   "source": [
    "for i,value in enumerate(individual_stock_df.index):\n",
    "    globals()['model'+str(i)] = OLS(individual_stock_df.loc[value][400:900].T,df.loc['market'][:, np.newaxis][400:900])\n",
    "    globals()['result'+str(i)] = globals()['model'+str(i)].fit()\n",
    "    globals()['params'+str(i)] = globals()['result'+str(i)].params.values[0]\n",
    "    globals()['resid'+str(i)] = np.std(globals()['result'+str(i)].resid)\n",
    "#     display(globals()['result'+str(i)].summary())"
   ]
  },
  {
   "cell_type": "code",
   "execution_count": 17,
   "metadata": {
    "collapsed": false
   },
   "outputs": [
    {
     "data": {
      "text/plain": [
       "(400, 400)"
      ]
     },
     "execution_count": 17,
     "metadata": {},
     "output_type": "execute_result"
    }
   ],
   "source": [
    "beta_bundles2 = [globals()['params'+str(i)] for i in range(len(individual_stock_df.index))]\n",
    "resid_bundles2 = [globals()['resid'+str(i)] for i in range(len(individual_stock_df.index))]\n",
    "len(beta_bundles2) , len(resid_bundles2)"
   ]
  },
  {
   "cell_type": "code",
   "execution_count": 18,
   "metadata": {
    "collapsed": false
   },
   "outputs": [
    {
     "data": {
      "text/html": [
       "<div>\n",
       "<table border=\"1\" class=\"dataframe\">\n",
       "  <thead>\n",
       "    <tr style=\"text-align: right;\">\n",
       "      <th></th>\n",
       "      <th>index</th>\n",
       "      <th>beta</th>\n",
       "      <th>resid</th>\n",
       "      <th>stock</th>\n",
       "    </tr>\n",
       "  </thead>\n",
       "  <tbody>\n",
       "    <tr>\n",
       "      <th>395</th>\n",
       "      <td>395</td>\n",
       "      <td>0.634239</td>\n",
       "      <td>5.361824</td>\n",
       "      <td>11300</td>\n",
       "    </tr>\n",
       "    <tr>\n",
       "      <th>396</th>\n",
       "      <td>396</td>\n",
       "      <td>0.656432</td>\n",
       "      <td>5.564436</td>\n",
       "      <td>12610</td>\n",
       "    </tr>\n",
       "    <tr>\n",
       "      <th>397</th>\n",
       "      <td>397</td>\n",
       "      <td>0.695399</td>\n",
       "      <td>5.603914</td>\n",
       "      <td>17810</td>\n",
       "    </tr>\n",
       "    <tr>\n",
       "      <th>398</th>\n",
       "      <td>398</td>\n",
       "      <td>0.706839</td>\n",
       "      <td>5.618084</td>\n",
       "      <td>11200</td>\n",
       "    </tr>\n",
       "    <tr>\n",
       "      <th>399</th>\n",
       "      <td>399</td>\n",
       "      <td>0.669598</td>\n",
       "      <td>5.639417</td>\n",
       "      <td>17390</td>\n",
       "    </tr>\n",
       "  </tbody>\n",
       "</table>\n",
       "</div>"
      ],
      "text/plain": [
       "     index      beta     resid  stock\n",
       "395    395  0.634239  5.361824  11300\n",
       "396    396  0.656432  5.564436  12610\n",
       "397    397  0.695399  5.603914  17810\n",
       "398    398  0.706839  5.618084  11200\n",
       "399    399  0.669598  5.639417  17390"
      ]
     },
     "execution_count": 18,
     "metadata": {},
     "output_type": "execute_result"
    }
   ],
   "source": [
    "rank_df2 = pd.DataFrame()\n",
    "rank_df2['beta'] = beta_bundles2\n",
    "rank_df2['resid'] = resid_bundles2\n",
    "rank_df2['stock'] = df[(df.index != 'market')&(df.index != 'bias')].index\n",
    "rank_df2.reset_index(inplace=True)\n",
    "rank_df2.tail()"
   ]
  },
  {
   "cell_type": "code",
   "execution_count": 19,
   "metadata": {
    "collapsed": false
   },
   "outputs": [],
   "source": [
    "beta_ls2 = []\n",
    "for i in range(len(testing_df['valued_stock_idx'])):\n",
    "    beta_ls2.append(np.mean(rank_df2.iloc[testing_df['valued_stock_idx'][i]]['beta']))"
   ]
  },
  {
   "cell_type": "code",
   "execution_count": 20,
   "metadata": {
    "collapsed": true
   },
   "outputs": [],
   "source": [
    "resid_ls2 = []\n",
    "for i in range(len(testing_df['valued_stock_idx'])):\n",
    "    resid_ls2.append(np.mean(rank_df2.iloc[testing_df['valued_stock_idx'][i]]['resid']))"
   ]
  },
  {
   "cell_type": "code",
   "execution_count": 21,
   "metadata": {
    "collapsed": false
   },
   "outputs": [
    {
     "name": "stdout",
     "output_type": "stream",
     "text": [
      "[0.6667225362867423, 0.664766571291756, 0.6621260322204591, 0.6721958300729913, 0.6567229617574106, 0.6718499723146871, 0.669012986322145, 0.6669035052767207, 0.6668573811616609, 0.6641986438744029, 0.663424431360357, 0.6629338301411212, 0.6643538319992133, 0.66084143348526, 0.6681403174467425, 0.6591236506642685, 0.6639946548313486, 0.6698228055066601, 0.6511502927212429, 0.6649786332256697]\n"
     ]
    }
   ],
   "source": [
    "print(beta_ls2)"
   ]
  },
  {
   "cell_type": "code",
   "execution_count": 22,
   "metadata": {
    "collapsed": false
   },
   "outputs": [
    {
     "name": "stdout",
     "output_type": "stream",
     "text": [
      "[5.623207220234443, 5.580417966192834, 5.608261022995711, 5.547538548768044, 5.583841556431405, 5.606607195733367, 5.570794151808185, 5.586988173340033, 5.6185050097902565, 5.624227190356413, 5.513624691978431, 5.589666506916332, 5.5716689509752655, 5.588751845421773, 5.613373264530998, 5.56114392320624, 5.635659233394847, 5.6137295748180795, 5.49398587052034, 5.555838083099461]\n"
     ]
    }
   ],
   "source": [
    "print(resid_ls2)"
   ]
  },
  {
   "cell_type": "code",
   "execution_count": 23,
   "metadata": {
    "collapsed": true
   },
   "outputs": [],
   "source": [
    "final_df = pd.DataFrame()\n",
    "final_df['beta'] = beta_ls2\n",
    "final_df['resid'] = resid_ls2\n",
    "final_df['stock_idx'] = testing_df['valued_stock_idx']\n",
    "final_df['stock'] = testing_df['valued_stock']"
   ]
  },
  {
   "cell_type": "code",
   "execution_count": 35,
   "metadata": {
    "collapsed": false,
    "scrolled": true
   },
   "outputs": [
    {
     "data": {
      "text/html": [
       "<div>\n",
       "<table border=\"1\" class=\"dataframe\">\n",
       "  <thead>\n",
       "    <tr style=\"text-align: right;\">\n",
       "      <th></th>\n",
       "      <th>beta</th>\n",
       "      <th>resid</th>\n",
       "      <th>stock_idx</th>\n",
       "      <th>stock</th>\n",
       "    </tr>\n",
       "  </thead>\n",
       "  <tbody>\n",
       "    <tr>\n",
       "      <th>0</th>\n",
       "      <td>0.666723</td>\n",
       "      <td>5.623207</td>\n",
       "      <td>[21, 396, 274, 106, 265, 227, 85, 230, 288, 45...</td>\n",
       "      <td>[55490, 12610, 74610, 144620, 78930, 9770, 688...</td>\n",
       "    </tr>\n",
       "    <tr>\n",
       "      <th>1</th>\n",
       "      <td>0.664767</td>\n",
       "      <td>5.580418</td>\n",
       "      <td>[311, 83, 101, 192, 372, 195, 257, 360, 153, 1...</td>\n",
       "      <td>[58650, 192820, 159650, 100220, 25540, 32640, ...</td>\n",
       "    </tr>\n",
       "    <tr>\n",
       "      <th>2</th>\n",
       "      <td>0.662126</td>\n",
       "      <td>5.608261</td>\n",
       "      <td>[190, 328, 38, 171, 62, 12, 242, 223, 30, 307,...</td>\n",
       "      <td>[11070, 36580, 207940, 82640, 2690, 68270, 848...</td>\n",
       "    </tr>\n",
       "    <tr>\n",
       "      <th>3</th>\n",
       "      <td>0.672196</td>\n",
       "      <td>5.547539</td>\n",
       "      <td>[177, 241, 308, 133, 273, 367, 255, 349, 41, 1...</td>\n",
       "      <td>[53690, 86280, 63160, 134380, 24110, 30720, 42...</td>\n",
       "    </tr>\n",
       "    <tr>\n",
       "      <th>4</th>\n",
       "      <td>0.656723</td>\n",
       "      <td>5.583842</td>\n",
       "      <td>[109, 254, 14, 189, 353, 373, 221, 59, 201, 26...</td>\n",
       "      <td>[145270, 84670, 285130, 103140, 23960, 3160, 9...</td>\n",
       "    </tr>\n",
       "    <tr>\n",
       "      <th>5</th>\n",
       "      <td>0.671850</td>\n",
       "      <td>5.606607</td>\n",
       "      <td>[208, 43, 317, 276, 216, 73, 65, 167, 116, 94,...</td>\n",
       "      <td>[94280, 249420, 42670, 7660, 29780, 28260, 214...</td>\n",
       "    </tr>\n",
       "    <tr>\n",
       "      <th>6</th>\n",
       "      <td>0.669013</td>\n",
       "      <td>5.570794</td>\n",
       "      <td>[339, 237, 137, 93, 96, 354, 247, 325, 284, 67...</td>\n",
       "      <td>[19490, 35510, 126560, 168490, 37560, 23800, 7...</td>\n",
       "    </tr>\n",
       "    <tr>\n",
       "      <th>7</th>\n",
       "      <td>0.666904</td>\n",
       "      <td>5.586988</td>\n",
       "      <td>[114, 379, 333, 69, 68, 380, 331, 90, 76, 319,...</td>\n",
       "      <td>[140890, 6740, 6650, 138250, 210980, 910, 2409...</td>\n",
       "    </tr>\n",
       "    <tr>\n",
       "      <th>8</th>\n",
       "      <td>0.666857</td>\n",
       "      <td>5.618505</td>\n",
       "      <td>[275, 187, 277, 235, 321, 9, 173, 132, 95, 107...</td>\n",
       "      <td>[25750, 104700, 35250, 90080, 10040, 88260, 93...</td>\n",
       "    </tr>\n",
       "    <tr>\n",
       "      <th>9</th>\n",
       "      <td>0.664199</td>\n",
       "      <td>5.624227</td>\n",
       "      <td>[145, 256, 287, 25, 303, 198, 294, 202, 184, 2...</td>\n",
       "      <td>[2150, 4890, 11500, 271560, 24720, 101060, 335...</td>\n",
       "    </tr>\n",
       "    <tr>\n",
       "      <th>10</th>\n",
       "      <td>0.663424</td>\n",
       "      <td>5.513625</td>\n",
       "      <td>[217, 196, 361, 390, 209, 121, 279, 100, 186, ...</td>\n",
       "      <td>[96300, 101140, 23450, 27390, 33270, 69640, 72...</td>\n",
       "    </tr>\n",
       "    <tr>\n",
       "      <th>11</th>\n",
       "      <td>0.662934</td>\n",
       "      <td>5.589667</td>\n",
       "      <td>[231, 5, 299, 29, 268, 370, 81, 191, 27, 282, ...</td>\n",
       "      <td>[91090, 298040, 9240, 79440, 34220, 12630, 192...</td>\n",
       "    </tr>\n",
       "    <tr>\n",
       "      <th>12</th>\n",
       "      <td>0.664354</td>\n",
       "      <td>5.571669</td>\n",
       "      <td>[125, 350, 91, 371, 298, 300, 183, 176, 335, 1...</td>\n",
       "      <td>[53210, 25890, 172580, 17900, 30610, 34300, 10...</td>\n",
       "    </tr>\n",
       "    <tr>\n",
       "      <th>13</th>\n",
       "      <td>0.660841</td>\n",
       "      <td>5.588752</td>\n",
       "      <td>[146, 304, 3, 11, 182, 309, 352, 55, 47, 160, ...</td>\n",
       "      <td>[128820, 64960, 91810, 18250, 109070, 55550, 1...</td>\n",
       "    </tr>\n",
       "    <tr>\n",
       "      <th>14</th>\n",
       "      <td>0.668140</td>\n",
       "      <td>5.613373</td>\n",
       "      <td>[340, 33, 36, 210, 110, 15, 270, 168, 285, 207...</td>\n",
       "      <td>[30000, 264900, 143210, 92200, 7070, 282330, 7...</td>\n",
       "    </tr>\n",
       "    <tr>\n",
       "      <th>15</th>\n",
       "      <td>0.659124</td>\n",
       "      <td>5.561144</td>\n",
       "      <td>[259, 246, 131, 234, 238, 61, 23, 341, 314, 29...</td>\n",
       "      <td>[79160, 84010, 11210, 32350, 88790, 39570, 271...</td>\n",
       "    </tr>\n",
       "    <tr>\n",
       "      <th>16</th>\n",
       "      <td>0.663995</td>\n",
       "      <td>5.635659</td>\n",
       "      <td>[1, 77, 161, 88, 316, 51, 98, 136, 10, 258, 19...</td>\n",
       "      <td>[293940, 204320, 119650, 180640, 42660, 101530...</td>\n",
       "    </tr>\n",
       "    <tr>\n",
       "      <th>17</th>\n",
       "      <td>0.669823</td>\n",
       "      <td>5.613730</td>\n",
       "      <td>[228, 269, 355, 172, 233, 301, 53, 364, 16, 15...</td>\n",
       "      <td>[92220, 78000, 12320, 47400, 90430, 17370, 194...</td>\n",
       "    </tr>\n",
       "    <tr>\n",
       "      <th>18</th>\n",
       "      <td>0.651150</td>\n",
       "      <td>5.493986</td>\n",
       "      <td>[134, 163, 386, 289, 348, 375, 395, 157, 378, ...</td>\n",
       "      <td>[134790, 115390, 11160, 69460, 11790, 19180, 1...</td>\n",
       "    </tr>\n",
       "    <tr>\n",
       "      <th>19</th>\n",
       "      <td>0.664979</td>\n",
       "      <td>5.555838</td>\n",
       "      <td>[322, 283, 245, 87, 281, 383, 327, 363, 57, 21...</td>\n",
       "      <td>[16450, 36570, 79430, 64350, 72130, 17800, 850...</td>\n",
       "    </tr>\n",
       "  </tbody>\n",
       "</table>\n",
       "</div>"
      ],
      "text/plain": [
       "        beta     resid                                          stock_idx  \\\n",
       "0   0.666723  5.623207  [21, 396, 274, 106, 265, 227, 85, 230, 288, 45...   \n",
       "1   0.664767  5.580418  [311, 83, 101, 192, 372, 195, 257, 360, 153, 1...   \n",
       "2   0.662126  5.608261  [190, 328, 38, 171, 62, 12, 242, 223, 30, 307,...   \n",
       "3   0.672196  5.547539  [177, 241, 308, 133, 273, 367, 255, 349, 41, 1...   \n",
       "4   0.656723  5.583842  [109, 254, 14, 189, 353, 373, 221, 59, 201, 26...   \n",
       "5   0.671850  5.606607  [208, 43, 317, 276, 216, 73, 65, 167, 116, 94,...   \n",
       "6   0.669013  5.570794  [339, 237, 137, 93, 96, 354, 247, 325, 284, 67...   \n",
       "7   0.666904  5.586988  [114, 379, 333, 69, 68, 380, 331, 90, 76, 319,...   \n",
       "8   0.666857  5.618505  [275, 187, 277, 235, 321, 9, 173, 132, 95, 107...   \n",
       "9   0.664199  5.624227  [145, 256, 287, 25, 303, 198, 294, 202, 184, 2...   \n",
       "10  0.663424  5.513625  [217, 196, 361, 390, 209, 121, 279, 100, 186, ...   \n",
       "11  0.662934  5.589667  [231, 5, 299, 29, 268, 370, 81, 191, 27, 282, ...   \n",
       "12  0.664354  5.571669  [125, 350, 91, 371, 298, 300, 183, 176, 335, 1...   \n",
       "13  0.660841  5.588752  [146, 304, 3, 11, 182, 309, 352, 55, 47, 160, ...   \n",
       "14  0.668140  5.613373  [340, 33, 36, 210, 110, 15, 270, 168, 285, 207...   \n",
       "15  0.659124  5.561144  [259, 246, 131, 234, 238, 61, 23, 341, 314, 29...   \n",
       "16  0.663995  5.635659  [1, 77, 161, 88, 316, 51, 98, 136, 10, 258, 19...   \n",
       "17  0.669823  5.613730  [228, 269, 355, 172, 233, 301, 53, 364, 16, 15...   \n",
       "18  0.651150  5.493986  [134, 163, 386, 289, 348, 375, 395, 157, 378, ...   \n",
       "19  0.664979  5.555838  [322, 283, 245, 87, 281, 383, 327, 363, 57, 21...   \n",
       "\n",
       "                                                stock  \n",
       "0   [55490, 12610, 74610, 144620, 78930, 9770, 688...  \n",
       "1   [58650, 192820, 159650, 100220, 25540, 32640, ...  \n",
       "2   [11070, 36580, 207940, 82640, 2690, 68270, 848...  \n",
       "3   [53690, 86280, 63160, 134380, 24110, 30720, 42...  \n",
       "4   [145270, 84670, 285130, 103140, 23960, 3160, 9...  \n",
       "5   [94280, 249420, 42670, 7660, 29780, 28260, 214...  \n",
       "6   [19490, 35510, 126560, 168490, 37560, 23800, 7...  \n",
       "7   [140890, 6740, 6650, 138250, 210980, 910, 2409...  \n",
       "8   [25750, 104700, 35250, 90080, 10040, 88260, 93...  \n",
       "9   [2150, 4890, 11500, 271560, 24720, 101060, 335...  \n",
       "10  [96300, 101140, 23450, 27390, 33270, 69640, 72...  \n",
       "11  [91090, 298040, 9240, 79440, 34220, 12630, 192...  \n",
       "12  [53210, 25890, 172580, 17900, 30610, 34300, 10...  \n",
       "13  [128820, 64960, 91810, 18250, 109070, 55550, 1...  \n",
       "14  [30000, 264900, 143210, 92200, 7070, 282330, 7...  \n",
       "15  [79160, 84010, 11210, 32350, 88790, 39570, 271...  \n",
       "16  [293940, 204320, 119650, 180640, 42660, 101530...  \n",
       "17  [92220, 78000, 12320, 47400, 90430, 17370, 194...  \n",
       "18  [134790, 115390, 11160, 69460, 11790, 19180, 1...  \n",
       "19  [16450, 36570, 79430, 64350, 72130, 17800, 850...  "
      ]
     },
     "execution_count": 35,
     "metadata": {},
     "output_type": "execute_result"
    }
   ],
   "source": [
    "final_df"
   ]
  },
  {
   "cell_type": "code",
   "execution_count": 74,
   "metadata": {
    "collapsed": false,
    "scrolled": false
   },
   "outputs": [],
   "source": [
    "def real_df(T=0):\n",
    "    gamma_1 , gamma_2 , gamma_3 , gamma_4 = [],[],[],[]\n",
    "    real_df = pd.DataFrame()\n",
    "    ls = []\n",
    "    for i in final_df['beta']:\n",
    "        for _ in range(20):\n",
    "            ls.append(i)\n",
    "    real_df['beta'] = ls\n",
    "    ls = []        \n",
    "    for i in final_df['resid']:\n",
    "        for _ in range(20):\n",
    "            ls.append(i)\n",
    "    real_df['resid'] = ls\n",
    "    real_df['y'] = [individual_stock_df.iat[int(k),T] for k in [j for i in final_df['stock_idx'].values for j in i]]\n",
    "    model = OLS.from_formula('y ~ beta + I(beta ** 2) + resid',real_df)\n",
    "    result = model.fit()\n",
    "    gamma_1.append(result.params[0])\n",
    "    gamma_2.append(result.params[1])\n",
    "    gamma_3.append(result.params[2])\n",
    "    gamma_4.append(result.params[3])\n",
    "    return gamma_1 , gamma_2 , gamma_3 , gamma_4"
   ]
  },
  {
   "cell_type": "code",
   "execution_count": 77,
   "metadata": {
    "collapsed": false
   },
   "outputs": [],
   "source": [
    "real_ls = [real_df(T) for T in range(len(individual_stock_df.columns))]"
   ]
  },
  {
   "cell_type": "code",
   "execution_count": 83,
   "metadata": {
    "collapsed": false
   },
   "outputs": [],
   "source": [
    "gamma_1 = [real_ls[i][0] for i in range(1000)]\n",
    "gamma_2 = [real_ls[i][0] for i in range(1000)]\n",
    "gamma_3 = [real_ls[i][0] for i in range(1000)]\n",
    "gamma_4 = [real_ls[i][0] for i in range(1000)]"
   ]
  },
  {
   "cell_type": "code",
   "execution_count": 100,
   "metadata": {
    "collapsed": false
   },
   "outputs": [
    {
     "data": {
      "text/plain": [
       "[<matplotlib.lines.Line2D at 0x7f2c116db860>]"
      ]
     },
     "execution_count": 100,
     "metadata": {},
     "output_type": "execute_result"
    },
    {
     "data": {
      "image/png": "[encoded data removed]",
      "text/plain": [
       "<matplotlib.figure.Figure at 0x7f2c17f78b70>"
      ]
     },
     "metadata": {},
     "output_type": "display_data"
    }
   ],
   "source": [
    "plt.plot([sp.stats.ttest_1samp(gamma_1, popmean=i)[1][0] for i in range(100)])"
   ]
  },
  {
   "cell_type": "code",
   "execution_count": 92,
   "metadata": {
    "collapsed": false
   },
   "outputs": [
    {
     "data": {
      "text/plain": [
       "0.949995169853878"
      ]
     },
     "execution_count": 92,
     "metadata": {},
     "output_type": "execute_result"
    }
   ],
   "source": [
    "sp.stats.ttest_1samp(gamma_3, popmean=0)[1][0]"
   ]
  },
  {
   "cell_type": "code",
   "execution_count": 93,
   "metadata": {
    "collapsed": false
   },
   "outputs": [
    {
     "data": {
      "text/plain": [
       "0.949995169853878"
      ]
     },
     "execution_count": 93,
     "metadata": {},
     "output_type": "execute_result"
    }
   ],
   "source": [
    "sp.stats.ttest_1samp(gamma_4, popmean=0)[1][0]"
   ]
  }
 ],
 "metadata": {
  "kernelspec": {
   "display_name": "Python 3",
   "language": "python",
   "name": "python3"
  },
  "language_info": {
   "codemirror_mode": {
    "name": "ipython",
    "version": 3
   },
   "file_extension": ".py",
   "mimetype": "text/x-python",
   "name": "python",
   "nbconvert_exporter": "python",
   "pygments_lexer": "ipython3",
   "version": "3.6.0"
  }
 },
 "nbformat": 4,
 "nbformat_minor": 2
}
