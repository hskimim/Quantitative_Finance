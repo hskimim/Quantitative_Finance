{
 "cells": [
  {
   "cell_type": "code",
   "execution_count": 2,
   "metadata": {
    "collapsed": true
   },
   "outputs": [],
   "source": [
    "from House_Price_function import *"
   ]
  },
  {
   "cell_type": "code",
   "execution_count": null,
   "metadata": {
    "collapsed": true
   },
   "outputs": [],
   "source": [
    "%time location_name , house_name , house_price , location_div = search_real_estate()"
   ]
  },
  {
   "cell_type": "code",
   "execution_count": 3,
   "metadata": {
    "collapsed": false
   },
   "outputs": [],
   "source": [
    "import pandas as pd\n",
    "# df = pd.DataFrame()\n",
    "# df['location_name'] = location_name\n",
    "# df['house_name'] = house_name\n",
    "# df['house_price'] = house_price\n",
    "# df['location_div'] = location_div"
   ]
  },
  {
   "cell_type": "code",
   "execution_count": null,
   "metadata": {
    "collapsed": false
   },
   "outputs": [],
   "source": [
    "df.to_csv('seoul_location_info.csv',index=False)"
   ]
  },
  {
   "cell_type": "code",
   "execution_count": 7,
   "metadata": {
    "collapsed": false
   },
   "outputs": [],
   "source": [
    "train_df = pd.read_csv('seoul_location_info.csv')"
   ]
  },
  {
   "cell_type": "code",
   "execution_count": 1,
   "metadata": {
    "collapsed": false
   },
   "outputs": [
    {
     "ename": "NameError",
     "evalue": "name 'tuned_df' is not defined",
     "output_type": "error",
     "traceback": [
      "\u001b[0;31m---------------------------------------------------------------------------\u001b[0m",
      "\u001b[0;31mNameError\u001b[0m                                 Traceback (most recent call last)",
      "\u001b[0;32m<ipython-input-1-8408ad5cb653>\u001b[0m in \u001b[0;36m<module>\u001b[0;34m()\u001b[0m\n\u001b[0;32m----> 1\u001b[0;31m \u001b[0mtuned_df\u001b[0m\u001b[0;34m.\u001b[0m\u001b[0mto_csv\u001b[0m\u001b[0;34m(\u001b[0m\u001b[0;34m'seoul_location_info.csv'\u001b[0m\u001b[0;34m,\u001b[0m\u001b[0mindex\u001b[0m\u001b[0;34m=\u001b[0m\u001b[0;32mFalse\u001b[0m\u001b[0;34m)\u001b[0m\u001b[0;34m\u001b[0m\u001b[0m\n\u001b[0m",
      "\u001b[0;31mNameError\u001b[0m: name 'tuned_df' is not defined"
     ]
    }
   ],
   "source": [
    "tuned_df.to_csv('seoul_location_info.csv',index=False)"
   ]
  },
  {
   "cell_type": "code",
   "execution_count": null,
   "metadata": {
    "collapsed": false
   },
   "outputs": [],
   "source": [
    "display(tuned_df.tail())\n",
    "display(tuned_df.descrbe())"
   ]
  },
  {
   "cell_type": "code",
   "execution_count": 10,
   "metadata": {
    "collapsed": true
   },
   "outputs": [],
   "source": [
    "import pandas as pd\n",
    "import re"
   ]
  },
  {
   "cell_type": "code",
   "execution_count": 11,
   "metadata": {
    "collapsed": false
   },
   "outputs": [],
   "source": [
    "train_df = pd.read_csv('seoul_location_info.csv')"
   ]
  },
  {
   "cell_type": "code",
   "execution_count": 12,
   "metadata": {
    "collapsed": false
   },
   "outputs": [
    {
     "data": {
      "text/html": [
       "<div>\n",
       "<table border=\"1\" class=\"dataframe\">\n",
       "  <thead>\n",
       "    <tr style=\"text-align: right;\">\n",
       "      <th></th>\n",
       "      <th>location_name</th>\n",
       "      <th>house_name</th>\n",
       "      <th>house_price</th>\n",
       "      <th>location_div</th>\n",
       "      <th>location</th>\n",
       "      <th>supply_loc</th>\n",
       "      <th>only_loc</th>\n",
       "      <th>supply_location</th>\n",
       "      <th>only_location</th>\n",
       "    </tr>\n",
       "  </thead>\n",
       "  <tbody>\n",
       "    <tr>\n",
       "      <th>0</th>\n",
       "      <td>강남구</td>\n",
       "      <td>청담자이</td>\n",
       "      <td>113000</td>\n",
       "      <td>111A/82</td>\n",
       "      <td>111.0</td>\n",
       "      <td>111A</td>\n",
       "      <td>/82</td>\n",
       "      <td>111.0</td>\n",
       "      <td>82</td>\n",
       "    </tr>\n",
       "    <tr>\n",
       "      <th>1</th>\n",
       "      <td>강남구</td>\n",
       "      <td>청담자이</td>\n",
       "      <td>70000</td>\n",
       "      <td>120B/89</td>\n",
       "      <td>120.0</td>\n",
       "      <td>120B</td>\n",
       "      <td>/89</td>\n",
       "      <td>120.0</td>\n",
       "      <td>89</td>\n",
       "    </tr>\n",
       "    <tr>\n",
       "      <th>2</th>\n",
       "      <td>강남구</td>\n",
       "      <td>청담자이</td>\n",
       "      <td>110000</td>\n",
       "      <td>111A/82</td>\n",
       "      <td>111.0</td>\n",
       "      <td>111A</td>\n",
       "      <td>/82</td>\n",
       "      <td>111.0</td>\n",
       "      <td>82</td>\n",
       "    </tr>\n",
       "    <tr>\n",
       "      <th>3</th>\n",
       "      <td>강남구</td>\n",
       "      <td>삼성힐스테이트2단지</td>\n",
       "      <td>10000</td>\n",
       "      <td>109A/84</td>\n",
       "      <td>109.0</td>\n",
       "      <td>109A</td>\n",
       "      <td>/84</td>\n",
       "      <td>109.0</td>\n",
       "      <td>84</td>\n",
       "    </tr>\n",
       "    <tr>\n",
       "      <th>4</th>\n",
       "      <td>강남구</td>\n",
       "      <td>청담자이</td>\n",
       "      <td>230000</td>\n",
       "      <td>110B/82</td>\n",
       "      <td>110.0</td>\n",
       "      <td>110B</td>\n",
       "      <td>/82</td>\n",
       "      <td>110.0</td>\n",
       "      <td>82</td>\n",
       "    </tr>\n",
       "  </tbody>\n",
       "</table>\n",
       "</div>"
      ],
      "text/plain": [
       "  location_name  house_name  house_price location_div  location supply_loc  \\\n",
       "0           강남구        청담자이       113000      111A/82     111.0       111A   \n",
       "1           강남구        청담자이        70000      120B/89     120.0       120B   \n",
       "2           강남구        청담자이       110000      111A/82     111.0       111A   \n",
       "3           강남구  삼성힐스테이트2단지        10000      109A/84     109.0       109A   \n",
       "4           강남구        청담자이       230000      110B/82     110.0       110B   \n",
       "\n",
       "  only_loc  supply_location  only_location  \n",
       "0      /82            111.0             82  \n",
       "1      /89            120.0             89  \n",
       "2      /82            111.0             82  \n",
       "3      /84            109.0             84  \n",
       "4      /82            110.0             82  "
      ]
     },
     "execution_count": 12,
     "metadata": {},
     "output_type": "execute_result"
    }
   ],
   "source": [
    "train_df.head()"
   ]
  },
  {
   "cell_type": "code",
   "execution_count": 13,
   "metadata": {
    "collapsed": false
   },
   "outputs": [],
   "source": [
    "train_df['supply_loc'] = [i[:i.find('/')] for i in train_df['location_div']] \n",
    "train_df['only_loc'] = [i[i.find('/'):] for i in train_df['location_div']] \n",
    "train_df['supply_location'] = [','.join(re.findall('\\d',i)).replace(',','') for i in train_df['supply_loc']]\n",
    "train_df['only_location'] = [','.join(re.findall('\\d',i)).replace(',','') for i in train_df['only_loc']]"
   ]
  },
  {
   "cell_type": "code",
   "execution_count": 14,
   "metadata": {
    "collapsed": false
   },
   "outputs": [],
   "source": [
    "train_df['price_per_loc'] = [int(train_df['house_price'][i]) / int(train_df['only_location'][i]) for i in range(len(train_df['location']))]"
   ]
  },
  {
   "cell_type": "code",
   "execution_count": 15,
   "metadata": {
    "collapsed": false
   },
   "outputs": [
    {
     "data": {
      "text/html": [
       "<div>\n",
       "<table border=\"1\" class=\"dataframe\">\n",
       "  <thead>\n",
       "    <tr style=\"text-align: right;\">\n",
       "      <th></th>\n",
       "      <th>location_name</th>\n",
       "      <th>house_name</th>\n",
       "      <th>house_price</th>\n",
       "      <th>location_div</th>\n",
       "      <th>location</th>\n",
       "      <th>supply_loc</th>\n",
       "      <th>only_loc</th>\n",
       "      <th>supply_location</th>\n",
       "      <th>only_location</th>\n",
       "      <th>price_per_loc</th>\n",
       "    </tr>\n",
       "  </thead>\n",
       "  <tbody>\n",
       "    <tr>\n",
       "      <th>37558</th>\n",
       "      <td>중랑구</td>\n",
       "      <td>신내6단지시영</td>\n",
       "      <td>17000</td>\n",
       "      <td>3/12</td>\n",
       "      <td>3.0</td>\n",
       "      <td>3</td>\n",
       "      <td>/12</td>\n",
       "      <td>3</td>\n",
       "      <td>12</td>\n",
       "      <td>1416.666667</td>\n",
       "    </tr>\n",
       "    <tr>\n",
       "      <th>37559</th>\n",
       "      <td>중랑구</td>\n",
       "      <td>신내8단지두산화성</td>\n",
       "      <td>39000</td>\n",
       "      <td>15/15</td>\n",
       "      <td>15.0</td>\n",
       "      <td>15</td>\n",
       "      <td>/15</td>\n",
       "      <td>15</td>\n",
       "      <td>15</td>\n",
       "      <td>2600.000000</td>\n",
       "    </tr>\n",
       "    <tr>\n",
       "      <th>37560</th>\n",
       "      <td>중랑구</td>\n",
       "      <td>상봉태영데시앙</td>\n",
       "      <td>65000</td>\n",
       "      <td>11/27</td>\n",
       "      <td>11.0</td>\n",
       "      <td>11</td>\n",
       "      <td>/27</td>\n",
       "      <td>11</td>\n",
       "      <td>27</td>\n",
       "      <td>2407.407407</td>\n",
       "    </tr>\n",
       "    <tr>\n",
       "      <th>37561</th>\n",
       "      <td>중랑구</td>\n",
       "      <td>신내9단지진흥</td>\n",
       "      <td>23000</td>\n",
       "      <td>5/15</td>\n",
       "      <td>5.0</td>\n",
       "      <td>5</td>\n",
       "      <td>/15</td>\n",
       "      <td>5</td>\n",
       "      <td>15</td>\n",
       "      <td>1533.333333</td>\n",
       "    </tr>\n",
       "    <tr>\n",
       "      <th>37562</th>\n",
       "      <td>중랑구</td>\n",
       "      <td>동부</td>\n",
       "      <td>24000</td>\n",
       "      <td>1/22</td>\n",
       "      <td>1.0</td>\n",
       "      <td>1</td>\n",
       "      <td>/22</td>\n",
       "      <td>1</td>\n",
       "      <td>22</td>\n",
       "      <td>1090.909091</td>\n",
       "    </tr>\n",
       "  </tbody>\n",
       "</table>\n",
       "</div>"
      ],
      "text/plain": [
       "      location_name house_name  house_price location_div  location supply_loc  \\\n",
       "37558           중랑구    신내6단지시영        17000         3/12       3.0          3   \n",
       "37559           중랑구  신내8단지두산화성        39000        15/15      15.0         15   \n",
       "37560           중랑구    상봉태영데시앙        65000        11/27      11.0         11   \n",
       "37561           중랑구    신내9단지진흥        23000         5/15       5.0          5   \n",
       "37562           중랑구         동부        24000         1/22       1.0          1   \n",
       "\n",
       "      only_loc supply_location only_location  price_per_loc  \n",
       "37558      /12               3            12    1416.666667  \n",
       "37559      /15              15            15    2600.000000  \n",
       "37560      /27              11            27    2407.407407  \n",
       "37561      /15               5            15    1533.333333  \n",
       "37562      /22               1            22    1090.909091  "
      ]
     },
     "execution_count": 15,
     "metadata": {},
     "output_type": "execute_result"
    }
   ],
   "source": [
    "train_df.tail()"
   ]
  },
  {
   "cell_type": "code",
   "execution_count": 16,
   "metadata": {
    "collapsed": true
   },
   "outputs": [],
   "source": [
    "train_df.to_csv('seoul_train_df.csv',index=False)"
   ]
  },
  {
   "cell_type": "code",
   "execution_count": 17,
   "metadata": {
    "collapsed": true
   },
   "outputs": [],
   "source": [
    "import matplotlib.pylab as plt\n",
    "%matplotlib inline"
   ]
  },
  {
   "cell_type": "code",
   "execution_count": 18,
   "metadata": {
    "collapsed": false,
    "scrolled": true
   },
   "outputs": [],
   "source": [
    "unique_loc_ls = list(set(train_df['location_name']))"
   ]
  },
  {
   "cell_type": "code",
   "execution_count": 19,
   "metadata": {
    "collapsed": true
   },
   "outputs": [],
   "source": [
    "testing_df = pd.DataFrame()\n",
    "for i in unique_loc_ls:\n",
    "    testing_df.append(train_df[train_df['location_name']==i])"
   ]
  },
  {
   "cell_type": "code",
   "execution_count": 20,
   "metadata": {
    "collapsed": true
   },
   "outputs": [],
   "source": [
    "unique_loc_av = [train_df[train_df['location_name']==i].describe()['price_per_loc'][1] for i in unique_loc_ls]"
   ]
  },
  {
   "cell_type": "code",
   "execution_count": 21,
   "metadata": {
    "collapsed": false
   },
   "outputs": [],
   "source": [
    "import matplotlib as mpl\n",
    "import matplotlib.pylab as plt\n",
    "import numpy as np"
   ]
  },
  {
   "cell_type": "code",
   "execution_count": 22,
   "metadata": {
    "collapsed": true
   },
   "outputs": [],
   "source": [
    "mpl.rc('font', family='nanumgothic')\n",
    "mpl.rc('axes', unicode_minus=False)"
   ]
  },
  {
   "cell_type": "code",
   "execution_count": 23,
   "metadata": {
    "collapsed": false,
    "scrolled": true
   },
   "outputs": [
    {
     "data": {
      "image/png": "[encoded data removed]",
      "text/plain": [
       "<matplotlib.figure.Figure at 0x7ff2c8f4bf28>"
      ]
     },
     "metadata": {},
     "output_type": "display_data"
    }
   ],
   "source": [
    "plt.figure(figsize=(15,5))\n",
    "y = unique_loc_av\n",
    "x = np.arange(len(y))\n",
    "xlabel = unique_loc_ls\n",
    "plt.bar(x, y)\n",
    "plt.xticks(x, xlabel)\n",
    "# plt.yticks(sorted(y))\n",
    "plt.xlabel(\"서울시 지역\")\n",
    "plt.ylabel(\"평균 평당 가격\")\n",
    "plt.tight_layout()\n",
    "plt.show()"
   ]
  }
 ],
 "metadata": {
  "kernelspec": {
   "display_name": "Python 3",
   "language": "python",
   "name": "python3"
  },
  "language_info": {
   "codemirror_mode": {
    "name": "ipython",
    "version": 3
   },
   "file_extension": ".py",
   "mimetype": "text/x-python",
   "name": "python",
   "nbconvert_exporter": "python",
   "pygments_lexer": "ipython3",
   "version": "3.6.0"
  }
 },
 "nbformat": 4,
 "nbformat_minor": 2
}
