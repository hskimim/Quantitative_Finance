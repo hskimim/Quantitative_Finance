{
 "cells": [
  {
   "cell_type": "code",
   "execution_count": 21,
   "metadata": {
    "collapsed": true
   },
   "outputs": [],
   "source": [
    "import pandas as pd\n",
    "import numpy as np\n",
    "from IPython.display import display , Markdown\n",
    "import matplotlib.pylab as plt\n",
    "import matplotlib as mpl\n",
    "\n",
    "import matplotlib as mpl\n",
    "mpl.rc('font', family='nanumgothic')\n",
    "mpl.rc('axes', unicode_minus=False)"
   ]
  },
  {
   "cell_type": "code",
   "execution_count": 2,
   "metadata": {
    "collapsed": true
   },
   "outputs": [],
   "source": [
    "seoul_train_df = pd.read_csv('seoul_train_df.csv')\n",
    "gyeonggi_train_df = pd.read_csv('gyeonggi_train_df.csv')"
   ]
  },
  {
   "cell_type": "code",
   "execution_count": 4,
   "metadata": {
    "collapsed": false
   },
   "outputs": [
    {
     "data": {
      "text/html": [
       "<div>\n",
       "<table border=\"1\" class=\"dataframe\">\n",
       "  <thead>\n",
       "    <tr style=\"text-align: right;\">\n",
       "      <th></th>\n",
       "      <th>location_name</th>\n",
       "      <th>house_name</th>\n",
       "      <th>house_price</th>\n",
       "      <th>location_div</th>\n",
       "      <th>location</th>\n",
       "      <th>supply_loc</th>\n",
       "      <th>only_loc</th>\n",
       "      <th>supply_location</th>\n",
       "      <th>only_location</th>\n",
       "      <th>price_per_loc</th>\n",
       "    </tr>\n",
       "  </thead>\n",
       "  <tbody>\n",
       "    <tr>\n",
       "      <th>37558</th>\n",
       "      <td>중랑구</td>\n",
       "      <td>신내6단지시영</td>\n",
       "      <td>17000</td>\n",
       "      <td>3/12</td>\n",
       "      <td>3.0</td>\n",
       "      <td>3</td>\n",
       "      <td>/12</td>\n",
       "      <td>3.0</td>\n",
       "      <td>12</td>\n",
       "      <td>1416.666667</td>\n",
       "    </tr>\n",
       "    <tr>\n",
       "      <th>37559</th>\n",
       "      <td>중랑구</td>\n",
       "      <td>신내8단지두산화성</td>\n",
       "      <td>39000</td>\n",
       "      <td>15/15</td>\n",
       "      <td>15.0</td>\n",
       "      <td>15</td>\n",
       "      <td>/15</td>\n",
       "      <td>15.0</td>\n",
       "      <td>15</td>\n",
       "      <td>2600.000000</td>\n",
       "    </tr>\n",
       "    <tr>\n",
       "      <th>37560</th>\n",
       "      <td>중랑구</td>\n",
       "      <td>상봉태영데시앙</td>\n",
       "      <td>65000</td>\n",
       "      <td>11/27</td>\n",
       "      <td>11.0</td>\n",
       "      <td>11</td>\n",
       "      <td>/27</td>\n",
       "      <td>11.0</td>\n",
       "      <td>27</td>\n",
       "      <td>2407.407407</td>\n",
       "    </tr>\n",
       "    <tr>\n",
       "      <th>37561</th>\n",
       "      <td>중랑구</td>\n",
       "      <td>신내9단지진흥</td>\n",
       "      <td>23000</td>\n",
       "      <td>5/15</td>\n",
       "      <td>5.0</td>\n",
       "      <td>5</td>\n",
       "      <td>/15</td>\n",
       "      <td>5.0</td>\n",
       "      <td>15</td>\n",
       "      <td>1533.333333</td>\n",
       "    </tr>\n",
       "    <tr>\n",
       "      <th>37562</th>\n",
       "      <td>중랑구</td>\n",
       "      <td>동부</td>\n",
       "      <td>24000</td>\n",
       "      <td>1/22</td>\n",
       "      <td>1.0</td>\n",
       "      <td>1</td>\n",
       "      <td>/22</td>\n",
       "      <td>1.0</td>\n",
       "      <td>22</td>\n",
       "      <td>1090.909091</td>\n",
       "    </tr>\n",
       "  </tbody>\n",
       "</table>\n",
       "</div>"
      ],
      "text/plain": [
       "      location_name house_name  house_price location_div  location supply_loc  \\\n",
       "37558           중랑구    신내6단지시영        17000         3/12       3.0          3   \n",
       "37559           중랑구  신내8단지두산화성        39000        15/15      15.0         15   \n",
       "37560           중랑구    상봉태영데시앙        65000        11/27      11.0         11   \n",
       "37561           중랑구    신내9단지진흥        23000         5/15       5.0          5   \n",
       "37562           중랑구         동부        24000         1/22       1.0          1   \n",
       "\n",
       "      only_loc  supply_location  only_location  price_per_loc  \n",
       "37558      /12              3.0             12    1416.666667  \n",
       "37559      /15             15.0             15    2600.000000  \n",
       "37560      /27             11.0             27    2407.407407  \n",
       "37561      /15              5.0             15    1533.333333  \n",
       "37562      /22              1.0             22    1090.909091  "
      ]
     },
     "metadata": {},
     "output_type": "display_data"
    },
    {
     "data": {
      "text/html": [
       "<div>\n",
       "<table border=\"1\" class=\"dataframe\">\n",
       "  <thead>\n",
       "    <tr style=\"text-align: right;\">\n",
       "      <th></th>\n",
       "      <th>Unnamed: 0</th>\n",
       "      <th>location_name</th>\n",
       "      <th>house_name</th>\n",
       "      <th>house_price</th>\n",
       "      <th>location_div</th>\n",
       "      <th>supply_loc</th>\n",
       "      <th>only_loc</th>\n",
       "      <th>supply_location</th>\n",
       "      <th>only_location</th>\n",
       "      <th>price_per_loc</th>\n",
       "    </tr>\n",
       "  </thead>\n",
       "  <tbody>\n",
       "    <tr>\n",
       "      <th>57544</th>\n",
       "      <td>57544</td>\n",
       "      <td>화성시</td>\n",
       "      <td>금강펜테리움센트럴파크동탄</td>\n",
       "      <td>23000</td>\n",
       "      <td>13/15</td>\n",
       "      <td>13</td>\n",
       "      <td>/15</td>\n",
       "      <td>13.0</td>\n",
       "      <td>15</td>\n",
       "      <td>1533.333333</td>\n",
       "    </tr>\n",
       "    <tr>\n",
       "      <th>57545</th>\n",
       "      <td>57545</td>\n",
       "      <td>화성시</td>\n",
       "      <td>동탄에듀밸리사랑으로부영</td>\n",
       "      <td>43500</td>\n",
       "      <td>20/25</td>\n",
       "      <td>20</td>\n",
       "      <td>/25</td>\n",
       "      <td>20.0</td>\n",
       "      <td>25</td>\n",
       "      <td>1740.000000</td>\n",
       "    </tr>\n",
       "    <tr>\n",
       "      <th>57546</th>\n",
       "      <td>57546</td>\n",
       "      <td>화성시</td>\n",
       "      <td>동탄대원칸타빌포레지움</td>\n",
       "      <td>55500</td>\n",
       "      <td>3/25</td>\n",
       "      <td>3</td>\n",
       "      <td>/25</td>\n",
       "      <td>3.0</td>\n",
       "      <td>25</td>\n",
       "      <td>2220.000000</td>\n",
       "    </tr>\n",
       "    <tr>\n",
       "      <th>57547</th>\n",
       "      <td>57547</td>\n",
       "      <td>화성시</td>\n",
       "      <td>메타폴리스</td>\n",
       "      <td>38000</td>\n",
       "      <td>12/60</td>\n",
       "      <td>12</td>\n",
       "      <td>/60</td>\n",
       "      <td>12.0</td>\n",
       "      <td>60</td>\n",
       "      <td>633.333333</td>\n",
       "    </tr>\n",
       "    <tr>\n",
       "      <th>57548</th>\n",
       "      <td>57548</td>\n",
       "      <td>화성시</td>\n",
       "      <td>풍성위버폴리스</td>\n",
       "      <td>2000</td>\n",
       "      <td>11/41</td>\n",
       "      <td>11</td>\n",
       "      <td>/41</td>\n",
       "      <td>11.0</td>\n",
       "      <td>41</td>\n",
       "      <td>48.780488</td>\n",
       "    </tr>\n",
       "  </tbody>\n",
       "</table>\n",
       "</div>"
      ],
      "text/plain": [
       "       Unnamed: 0 location_name     house_name  house_price location_div  \\\n",
       "57544       57544           화성시  금강펜테리움센트럴파크동탄        23000        13/15   \n",
       "57545       57545           화성시   동탄에듀밸리사랑으로부영        43500        20/25   \n",
       "57546       57546           화성시    동탄대원칸타빌포레지움        55500         3/25   \n",
       "57547       57547           화성시          메타폴리스        38000        12/60   \n",
       "57548       57548           화성시        풍성위버폴리스         2000        11/41   \n",
       "\n",
       "      supply_loc only_loc  supply_location  only_location  price_per_loc  \n",
       "57544         13      /15             13.0             15    1533.333333  \n",
       "57545         20      /25             20.0             25    1740.000000  \n",
       "57546          3      /25              3.0             25    2220.000000  \n",
       "57547         12      /60             12.0             60     633.333333  \n",
       "57548         11      /41             11.0             41      48.780488  "
      ]
     },
     "metadata": {},
     "output_type": "display_data"
    }
   ],
   "source": [
    "display(seoul_train_df.tail())\n",
    "display(gyeonggi_train_df.tail())"
   ]
  },
  {
   "cell_type": "code",
   "execution_count": 10,
   "metadata": {
    "collapsed": true
   },
   "outputs": [],
   "source": [
    "seoul_mean = np.mean(seoul_train_df['price_per_loc'])\n",
    "gyeonggi_mean = np.mean(gyeonggi_train_df['price_per_loc'])"
   ]
  },
  {
   "cell_type": "code",
   "execution_count": 27,
   "metadata": {
    "collapsed": false,
    "scrolled": false
   },
   "outputs": [
    {
     "data": {
      "text/markdown": [
       "### 서울시의 아파트 평균 평당 단가:3397.76 (만)원"
      ],
      "text/plain": [
       "<IPython.core.display.Markdown object>"
      ]
     },
     "metadata": {},
     "output_type": "display_data"
    },
    {
     "data": {
      "text/markdown": [
       "### 경기도의 아파트 평균 평당 단가:1953.72 (만)원"
      ],
      "text/plain": [
       "<IPython.core.display.Markdown object>"
      ]
     },
     "metadata": {},
     "output_type": "display_data"
    },
    {
     "data": {
      "text/markdown": [
       "### 서울시가 경기도보다2.0 배 정도 비싸다"
      ],
      "text/plain": [
       "<IPython.core.display.Markdown object>"
      ]
     },
     "metadata": {},
     "output_type": "display_data"
    },
    {
     "data": {
      "image/png": "[encoded data removed]",
      "text/plain": [
       "<matplotlib.figure.Figure at 0x7f1620c159b0>"
      ]
     },
     "metadata": {},
     "output_type": "display_data"
    }
   ],
   "source": [
    "display(Markdown('### 서울시의 아파트 평균 평당 단가:{} (만)원'.format(np.round(seoul_mean,2))))\n",
    "display(Markdown('### 경기도의 아파트 평균 평당 단가:{} (만)원'.format(np.round(gyeonggi_mean,2))))\n",
    "display(Markdown('### 서울시가 경기도보다{} 배 정도 비싸다'.format(np.round(seoul_mean/gyeonggi_mean),2)))\n",
    "plt.figure(figsize=(10,5))\n",
    "y = [seoul_mean,gyeonggi_mean]\n",
    "x = np.arange(len(y))\n",
    "xlabel = ['seoul','gyeonggi']\n",
    "plt.bar(x, y)\n",
    "plt.xticks(x, xlabel)\n",
    "plt.xlabel(\"지역\")\n",
    "plt.ylabel(\"평균 평당 가격\")\n",
    "plt.tight_layout()\n",
    "plt.show()"
   ]
  }
 ],
 "metadata": {
  "kernelspec": {
   "display_name": "Python 3",
   "language": "python",
   "name": "python3"
  },
  "language_info": {
   "codemirror_mode": {
    "name": "ipython",
    "version": 3
   },
   "file_extension": ".py",
   "mimetype": "text/x-python",
   "name": "python",
   "nbconvert_exporter": "python",
   "pygments_lexer": "ipython3",
   "version": "3.6.0"
  }
 },
 "nbformat": 4,
 "nbformat_minor": 2
}
