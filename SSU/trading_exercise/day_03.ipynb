{
 "cells": [
  {
   "cell_type": "markdown",
   "metadata": {},
   "source": [
    "CSV 의 CSV 입출력"
   ]
  },
  {
   "cell_type": "code",
   "execution_count": 2,
   "metadata": {
    "collapsed": true
   },
   "outputs": [],
   "source": [
    "import csv # 표준 라이브러리 모듈 csv를 임포트하여 사용할 준비를 한다\n",
    "# CSV 파일 읽기\n",
    "with open('data1.csv', 'r', encoding='utf8') as f:\n",
    "    dat = [k for k in csv.reader(f)] # 리스트 컴프리헨션을 사용한다\n",
    "# CSV 파일 쓰기\n",
    "with open('out.csv', 'w', newline='') as f:\n",
    "    writer = csv.writer(f)\n",
    "    writer.writerows(dat)"
   ]
  },
  {
   "cell_type": "markdown",
   "metadata": {},
   "source": [
    "Numpy 의 CSV 입출력"
   ]
  },
  {
   "cell_type": "code",
   "execution_count": 1,
   "metadata": {
    "collapsed": true
   },
   "outputs": [],
   "source": [
    "import numpy as np # NumPy를 임포트\n",
    "import csv # 표준 라이브러리의 csv 모듈을 임포트\n",
    "# CSV 파일 읽기\n",
    "dat = np.loadtxt('data1.csv', delimiter=',', skiprows=1, dtype=float)\n",
    "# 구분자는 ,(콤마), 첫 줄은 건너뜀(skiprows=1), 부동 소수 타입으로(dtype=float(기본값))\n",
    "# ndarray 타입인 dat를 CSV파일에 쓰기(한글을 사용할 수 없으므로 주의)\n",
    "np.savetxt('data1_saved.csv', dat, fmt='%.1f,%.8f,%d',header='time,vel,alt', comments='')\n",
    "# ndarray 타입인 dat를 CSV파일에 쓰기(한글 사용가능)\n",
    "with open('out.csv', 'w', newline='', encoding='utf-8') as f:\n",
    "    f.write('time,속도,고도\\n')\n",
    "    writer = csv.writer(f)\n",
    "    writer.writerows(dat)"
   ]
  },
  {
   "cell_type": "code",
   "execution_count": 3,
   "metadata": {
    "collapsed": true
   },
   "outputs": [],
   "source": [
    "from numpy import genfromtxt # NumPy에서 genfromtxt 를 import\n",
    "dat = genfromtxt('data1.csv', skip_header=1, delimiter=',', dtype=float)"
   ]
  },
  {
   "cell_type": "markdown",
   "metadata": {},
   "source": [
    "Excel 파일 입출력"
   ]
  },
  {
   "cell_type": "code",
   "execution_count": 15,
   "metadata": {
    "collapsed": false
   },
   "outputs": [
    {
     "name": "stdout",
     "output_type": "stream",
     "text": [
      "Upper Left\n"
     ]
    }
   ],
   "source": [
    "import xlwt # Excel 파일 쓰기를 위한 라이브러리\n",
    "import xlrd # Excel 파일 읽기를 위한 라이브러리\n",
    "\n",
    "# --- Excel 파일 쓰기\n",
    "# Workbook을 만듬\n",
    "\n",
    "wb = xlwt.Workbook()\n",
    "# 시트 추가\n",
    "\n",
    "ws = wb.add_sheet('시트1')\n",
    "# 시트의 특정 셀에 값을 넣음\n",
    "\n",
    "ws.write(0,0,'Upper Left')\n",
    "ws.write(1,0,1)\n",
    "ws.write(1,1,2)\n",
    "ws.write(1,2,xlwt.Formula(\"A3+B3\"))\n",
    "\n",
    "# Workbook에 이름을 지정하여 저장\n",
    "wb.save('xlwt.xls')\n",
    "\n",
    "# --- Excel 파일 읽기\n",
    "# 읽어들일 Workbook을 지정하여 파일 열기\n",
    "wb = xlrd.open_workbook('xlwt.xls')\n",
    "\n",
    "# 시트명으로 시트를 지정\n",
    "st = wb.sheet_by_name('시트1')\n",
    "\n",
    "# 지정한 시트의 특정 셀 값을 읽은 뒤 화면에 표시\n",
    "print(st.cell(0, 0).value)"
   ]
  },
  {
   "cell_type": "code",
   "execution_count": 45,
   "metadata": {
    "collapsed": true
   },
   "outputs": [],
   "source": [
    "import pickle\n",
    "import numpy as np\n",
    "# 저장할 객체를 만든다\n",
    "a = np.float(2.3)\n",
    "b = np.array([[1.1, 2.2, 3.3], [4.4, 5.5, 6.6]])\n",
    "c = {'yokohama': 1, 'tokyo': 2, 'nagoya': 3}\n",
    "# 여러 개의 객체를 하나의 pickle 파일로 만들기\n",
    "with open('pickle1.pickle', 'wb') as f:\n",
    "    pickle.dump(a, f)\n",
    "    pickle.dump(b, f)\n",
    "    pickle.dump(c, f)\n",
    "# 저장한 pickle 파일에서 여러 개의 객체를 읽어들이기\n",
    "with open('pickle1.pickle', 'rb') as f:\n",
    "    a2 = pickle.load(f)\n",
    "    b2 = pickle.load(f)\n",
    "    c2 = pickle.load(f)"
   ]
  },
  {
   "cell_type": "code",
   "execution_count": 48,
   "metadata": {
    "collapsed": false
   },
   "outputs": [],
   "source": [
    "import pickle\n",
    "import numpy as np\n",
    "def pickle_vars(fname, mode='wb', **vars):\n",
    "    \"\"\"\n",
    "    사용법\n",
    "    pickle_vars('저장할파일명', a=a, b=b, c=c)인자로 작성할 파일의 이름과 객체의 이름을 차례로 열거한다\n",
    "    \"\"\"\n",
    "    dic = {}\n",
    "    for key in vars.keys():\n",
    "        exec('dic[key]=vars.get(key)')\n",
    "    with open(fname, mode) as f:\n",
    "        pickle.dump(dic, f)\n",
    "    return dic\n",
    "\n",
    "if __name__ == \"__main__\" :\n",
    "    # 여러 가지 객체를 생성\n",
    "    a = np.float(2.3)\n",
    "    b = np.array([[1.1, 2.2, 3.3], [4.4, 5.5, 6.6]])\n",
    "    c = {'yokohama': 1, 'tokyo': 2, 'nagoya': 3}\n",
    "    # 여러 개의 변수와 그에 포함된 데이터를 저장\n",
    "    saved_dat = pickle_vars('pickle1.pickle', a=a, b=b, c=c)\n",
    "    # 저장된 pickle 파일에서 데이터를 읽어들임\n",
    "    with open('pickle1.pickle', 'rb') as f:\n",
    "        dat = pickle.load(f)\n",
    "        for key in dat.keys():\n",
    "            exec(key+'=dat.get(key)') # 데이터의 원래 변수명으로 복원"
   ]
  },
  {
   "cell_type": "code",
   "execution_count": 50,
   "metadata": {
    "collapsed": false
   },
   "outputs": [],
   "source": [
    "import h5py\n",
    "import numpy as np\n",
    "# 저장할 데이터를 생성\n",
    "t = np.arange(0, 5, 0.1)\n",
    "y = np.sin(2*np.pi*0.3*t)\n",
    "dist = [2, 5, 1, 3, 8, 9, 12]\n",
    "# 데이터의 일부를 계층 구조로 저장\n",
    "with h5py.File('data1.h5', 'w') as f:\n",
    "    f.create_group('wave')\n",
    "    f.create_dataset('wave/t', data=t)\n",
    "    f.create_dataset('wave/y', data=y)\n",
    "    f.create_dataset('dist', data=dist)\n",
    "# with 블럭을 벗어나면 f가 일단 닫힌다\n",
    "# 데이터 읽기\n",
    "with h5py.File('data1.h5', 'r') as f:\n",
    "    t = np.array(f['wave/t']) # ndarray 형태로 읽어들인다\n",
    "    y = np.array(f['wave/y'])\n",
    "    dist = np.array(f['dist'])"
   ]
  },
  {
   "cell_type": "code",
   "execution_count": 55,
   "metadata": {
    "collapsed": false
   },
   "outputs": [],
   "source": [
    "import numpy as np\n",
    "import scipy as sp\n",
    "import scipy.io\n",
    "\n",
    "# 저장할 데이터를 생성\n",
    "t = np.arange(0, 5, 0.1)\n",
    "y = np.sin(2*np.pi*0.3*t)\n",
    "\n",
    "# MAT-file에 쓰기\n",
    "out_dat = {}\n",
    "out_dat['time'] = t # ndarray t를 time이라는 이름으로 out_dat 내부에 추가\n",
    "out_dat['y'] = y\n",
    "sp.io.savemat('data2.mat', out_dat, format='5')\n",
    "\n",
    "# MAT-file을 읽기\n",
    "matdat = sp.io.loadmat('data2.mat', squeeze_me=True)\n",
    "tt = matdat['time'] # ndarray로 읽어들임"
   ]
  }
 ],
 "metadata": {
  "kernelspec": {
   "display_name": "Python 3",
   "language": "python",
   "name": "python3"
  },
  "language_info": {
   "codemirror_mode": {
    "name": "ipython",
    "version": 3
   },
   "file_extension": ".py",
   "mimetype": "text/x-python",
   "name": "python",
   "nbconvert_exporter": "python",
   "pygments_lexer": "ipython3",
   "version": "3.6.0"
  }
 },
 "nbformat": 4,
 "nbformat_minor": 2
}
