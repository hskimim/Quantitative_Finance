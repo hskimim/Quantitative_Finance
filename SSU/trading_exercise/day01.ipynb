{
 "cells": [
  {
   "cell_type": "markdown",
   "metadata": {},
   "source": [
    "- 객체 지향 프로그래밍\n",
    "    - 기능별로 묶어 `모듈화` 함으로써 재사용, 확장 및 유지 보수에 용이\n",
    "    - 개체의 속성을 변수 , 행동은 함수로 표현\n",
    "    - 클래스 :\n",
    "        - 객체를 정의하기 위한 틀이자 설계도\n",
    "        - 객체의 틀이 클래스, 생성된 객체를 인스턴스라고 부른다.\n",
    "- 절차 지향 프로그래밍\n",
    "    - 순차적인 처리 및 프로그램 전체의 `유기적 연결`을 중요시 함"
   ]
  },
  {
   "cell_type": "code",
   "execution_count": 2,
   "metadata": {
    "collapsed": false
   },
   "outputs": [
    {
     "name": "stdout",
     "output_type": "stream",
     "text": [
      "3\n",
      "7\n"
     ]
    }
   ],
   "source": [
    "result = 0\n",
    "\n",
    "def adder(num):\n",
    "    global result\n",
    "    result += num\n",
    "    return result\n",
    "\n",
    "print(adder(3))\n",
    "print(adder(4))"
   ]
  },
  {
   "cell_type": "code",
   "execution_count": 3,
   "metadata": {
    "collapsed": false
   },
   "outputs": [
    {
     "name": "stdout",
     "output_type": "stream",
     "text": [
      "3\n",
      "7\n",
      "3\n",
      "7\n"
     ]
    }
   ],
   "source": [
    "class Calculator:\n",
    "    \n",
    "    def __init__(self):\n",
    "        self.result = 0\n",
    "        \n",
    "    def adder(self,num):\n",
    "        self.result += num\n",
    "        return self.result\n",
    "    \n",
    "cal1 = Calculator()\n",
    "cal2 = Calculator()\n",
    "    \n",
    "\n",
    "print(cal1.adder(3))\n",
    "print(cal1.adder(4))\n",
    "print(cal2.adder(3))\n",
    "print(cal2.adder(4))"
   ]
  },
  {
   "cell_type": "code",
   "execution_count": 5,
   "metadata": {
    "collapsed": false
   },
   "outputs": [],
   "source": [
    "class Service:\n",
    "    info=\"파이썬은 쉽고 편리한 언어이다.\"\n",
    "    \n",
    "    def setname(self, name):\n",
    "        self.name=name\n",
    "    def sum(self, a, b):\n",
    "        result=a+b\n",
    "        print(\"%s님 %s + %s =%s 입니다.\" %(self.name, a, b, result))"
   ]
  },
  {
   "cell_type": "code",
   "execution_count": 7,
   "metadata": {
    "collapsed": false
   },
   "outputs": [
    {
     "name": "stdout",
     "output_type": "stream",
     "text": [
      "hskimim님 1 + 2 =3 입니다.\n"
     ]
    }
   ],
   "source": [
    "hskimim = Service()\n",
    "hskimim.setname('hskimim')\n",
    "hskimim.sum(1,2)"
   ]
  },
  {
   "cell_type": "code",
   "execution_count": 9,
   "metadata": {
    "collapsed": false
   },
   "outputs": [
    {
     "name": "stdout",
     "output_type": "stream",
     "text": [
      "(x, y) = (1, 1)\n",
      "(x, y) = (1, 2)\n",
      "(x, y) = (2, 3)\n"
     ]
    }
   ],
   "source": [
    "class MyClass(object):\n",
    "    \"\"\"\n",
    "    클래스에 대한 설명\n",
    "    \"\"\"\n",
    "    x=0\n",
    "    y=0\n",
    "    \n",
    "    def my_print(self):\n",
    "        self.x += 1 # 인스턴스 속성\n",
    "        MyClass.y += 1 # 클래스 속성\n",
    "        print('(x, y) = ({}, {})'.format(self.x, self.y))\n",
    "        # 클래스의 인스턴스 생성\n",
    "        \n",
    "f=MyClass # ()가 없으면 클래스에 별명을 붙인다는 의미\n",
    "a=MyClass() # MyClass 클래스의 인스턴스를 만들고 여기에 a라는 이름을 붙임\n",
    "b=f()\n",
    "# f()는 MyClass()와 같은 의미\n",
    "a.my_print()\n",
    "b.my_print()\n",
    "b.my_print()"
   ]
  },
  {
   "cell_type": "markdown",
   "metadata": {},
   "source": [
    "- Self 는 인스턴스를 참조하기 위한 이름으로 x는 인스턴스 속성이다.\n",
    "- MyClass.y 는 클래스 속성"
   ]
  },
  {
   "cell_type": "markdown",
   "metadata": {},
   "source": [
    "- 상속\n",
    "    - 기존의 클래스에 대한 설계도를 이어받아 일부 수정하여 새로운 클래스 생성\n",
    "- 기반 클래스와 파생 클래스\n",
    "    - 기존의 클래스 : superclass\n",
    "    - 파생 클래스 :subclass\n",
    "        - 기반 클래스의 일부가 변경된 클래스\n",
    "        - 기반 클래스의 속성을 모두 이어 받음 (변수 및 메서드)\n",
    "- 오버라이딩\n",
    "    - 기반 클래스에 이미 존재하는 변수나 메서드와 이름이 같은 변수를 재정의\n",
    "- 다중 속성\n",
    "    - 기반 클래스가 여러 개인 경우"
   ]
  },
  {
   "cell_type": "code",
   "execution_count": 11,
   "metadata": {
    "collapsed": false
   },
   "outputs": [
    {
     "name": "stdout",
     "output_type": "stream",
     "text": [
      "6\n",
      "9\n",
      "45\n"
     ]
    }
   ],
   "source": [
    "# 클래스 MyBase의 정의(MyDeriv의 기반 클래스)\n",
    "class MyBase:\n",
    "    coeff = 2\n",
    "\n",
    "    def __init__(self,x):\n",
    "        self.x = x\n",
    "        \n",
    "    def mult(self):\n",
    "        return self.coeff * self.x\n",
    "# 클래스 MyDeriv의 정의(MyBase의 파생 클래스)\n",
    "class MyDeriv(MyBase):\n",
    "    coeff = 3 # 속성을 재정의\n",
    "# 생성자 메서드를 재정의\n",
    "\n",
    "    def __init__(self, x, y):\n",
    "        super().__init__(x)\n",
    "# 기반 클래스의 메서드 호출 예\n",
    "        self.y = y\n",
    "# 속성 y 를 추가하여 인스턴스를 생성할 때 초기화함\n",
    "# 새로운 메서드를 추가(메서드 mult는 상속 받았음)\n",
    "    def mult2(self):\n",
    "        return self.coeff * self.x * self.y\n",
    "\n",
    "# MyBase와 MyDeriv를 사용한 예\n",
    "a = MyBase(3)\n",
    "# MyBase의 인스턴스를 생성\n",
    "print(a.mult())\n",
    "# 결과는 2*3=6\n",
    "b = MyDeriv(3, 5)\n",
    "# MyDeriv의 인스턴스 생성\n",
    "print(b.mult())\n",
    "# 결과는 3*3=8(상속받은 메서드 확인)\n",
    "print(b.mult2())\n",
    "# 결과는 3*3*5=45(새로 추가한 메서드 확인)"
   ]
  },
  {
   "cell_type": "code",
   "execution_count": 22,
   "metadata": {
    "collapsed": true
   },
   "outputs": [],
   "source": [
    "class MyCalc(object):\n",
    "    @staticmethod\n",
    "    def my_add(x, y):\n",
    "        return x + y\n",
    "a = MyCalc.my_add(5, 9) # a = 14 가 된다(MyCalc의 인스턴스를 만들지 않아도 된다)"
   ]
  },
  {
   "cell_type": "markdown",
   "metadata": {},
   "source": [
    "### 메서드\n",
    "- 메서드 \n",
    "    - 파이썬의 클래스가 가지는 메서드는 기본적으로 인스턴스에 대해 작용함.\n",
    "    - 인스턴스에 대해 작용하지 않는 메서드 또한 존재\n",
    "- 스태틱 메서드\n",
    "    - 클래스 인스턴스에 전혀 작용하지 않는 메서드\n",
    "    - 인스턴스를 여러 방법으로 만들 때 사용"
   ]
  },
  {
   "cell_type": "code",
   "execution_count": 38,
   "metadata": {
    "collapsed": false
   },
   "outputs": [],
   "source": [
    "import time\n",
    "\n",
    "class MyTime(object):\n",
    "    def __init__(self, hour, minutes, sec):\n",
    "        self.hour = hour\n",
    "        self.minutes = minutes\n",
    "        self.sec = sec\n",
    "    @staticmethod # now()를 스태틱 메소드로 지정\n",
    "    def now():\n",
    "        t = time.localtime()\n",
    "        return MyTime(t.tm_hour, t.tm_min, t.tm_sec)\n",
    "    @staticmethod # two_hours_later()를 스태틱 메소드로 지정\n",
    "    def two_hours_later():\n",
    "        t = time.localtime(time.time() + 7200)\n",
    "        return MyTime(t.tm_hour, t.tm_min, t.tm_sec)\n",
    "\n",
    "# MyTimes 클래스의 인스턴스를 3가지 방법으로 생성\n",
    "a = MyTime(15, 20, 58)\n",
    "# __init__ 를 사용한 일반적인 방법\n",
    "b = MyTime.now()\n",
    "# 스태틱 메소드를 사용한 인스턴스 생성 1\n",
    "c = MyTime.two_hours_later()\n",
    "# 스태틱 메소드를 사용한 인스턴스 생성 2"
   ]
  },
  {
   "cell_type": "code",
   "execution_count": 39,
   "metadata": {
    "collapsed": false
   },
   "outputs": [
    {
     "data": {
      "text/plain": [
       "(15, 20, 58)"
      ]
     },
     "execution_count": 39,
     "metadata": {},
     "output_type": "execute_result"
    }
   ],
   "source": [
    "a.hour , a.minutes , a.sec"
   ]
  },
  {
   "cell_type": "code",
   "execution_count": 41,
   "metadata": {
    "collapsed": false
   },
   "outputs": [
    {
     "data": {
      "text/plain": [
       "(11, 13, 19)"
      ]
     },
     "execution_count": 41,
     "metadata": {},
     "output_type": "execute_result"
    }
   ],
   "source": [
    "b.hour , b.minutes , b.sec"
   ]
  },
  {
   "cell_type": "code",
   "execution_count": 42,
   "metadata": {
    "collapsed": false
   },
   "outputs": [
    {
     "data": {
      "text/plain": [
       "(13, 13, 19)"
      ]
     },
     "execution_count": 42,
     "metadata": {},
     "output_type": "execute_result"
    }
   ],
   "source": [
    "c.hour , c.minutes , c.sec"
   ]
  },
  {
   "cell_type": "markdown",
   "metadata": {},
   "source": [
    "- 클래스 메서드\n",
    "    - 인스턴스가 아닌 클래스 자체에 작용하는 메서드"
   ]
  },
  {
   "cell_type": "code",
   "execution_count": 44,
   "metadata": {
    "collapsed": false
   },
   "outputs": [
    {
     "data": {
      "text/plain": [
       "20"
      ]
     },
     "execution_count": 44,
     "metadata": {},
     "output_type": "execute_result"
    }
   ],
   "source": [
    "# CoeffVar 클래스를 정의\n",
    "class CoeffVar(object):\n",
    "    coefficient = 1\n",
    "    @classmethod # 메소드 mul을 클래스 메소드로 지정\n",
    "    def mul(cls, fact): # 첫번째 인자는 cls이며 CoeffVar 클래스를 가리킴\n",
    "        return cls.coefficient * fact\n",
    "# CoeffVar 클래스를 상속하는 클래스 MulFive를 정의\n",
    "class MulFive(CoeffVar):\n",
    "    coefficient = 5\n",
    "x = MulFive.mul(4) # CoeffVar.mul(MulFive, 4) -> x=20\n",
    "x"
   ]
  },
  {
   "cell_type": "markdown",
   "metadata": {},
   "source": [
    "### 정보의 은폐\n",
    "- 정보 은폐와 캡슐화\n",
    "    - 정보 은폐 : 소프트웨어의 부품의 사용자가 각 요소를 초기와 하면 사용하는 방법만 알변 내부 구현을 신경 쓸 필요가 없는 원칙\n",
    "    - 캡슐화 : 데이터와 처리 절차를 함께 어떤 구조 안에 감추는 기법"
   ]
  },
  {
   "cell_type": "markdown",
   "metadata": {},
   "source": [
    "### 네임 스페이스\n",
    "- 클래스나 인스턴스 장성 시 네임 스페이스 생성됨\n",
    "- 대응하는 유효 범위는 생성되지 않음\n",
    "    - 메서드에서 변수 참조 시 변수의 속성이 클래스인지 인스턴스인지 구별 불가"
   ]
  },
  {
   "cell_type": "code",
   "execution_count": 46,
   "metadata": {
    "collapsed": false
   },
   "outputs": [
    {
     "ename": "UnboundLocalError",
     "evalue": "local variable 'x' referenced before assignment",
     "output_type": "error",
     "traceback": [
      "\u001b[0;31m---------------------------------------------------------------------------\u001b[0m",
      "\u001b[0;31mUnboundLocalError\u001b[0m                         Traceback (most recent call last)",
      "\u001b[0;32m<ipython-input-46-6b7154428972>\u001b[0m in \u001b[0;36m<module>\u001b[0;34m()\u001b[0m\n\u001b[1;32m     10\u001b[0m \u001b[0;32mif\u001b[0m \u001b[0m__name__\u001b[0m \u001b[0;34m==\u001b[0m \u001b[0;34m'__main__'\u001b[0m\u001b[0;34m:\u001b[0m\u001b[0;34m\u001b[0m\u001b[0m\n\u001b[1;32m     11\u001b[0m     \u001b[0ma\u001b[0m \u001b[0;34m=\u001b[0m \u001b[0mMyClass\u001b[0m\u001b[0;34m(\u001b[0m\u001b[0;36m10\u001b[0m\u001b[0;34m)\u001b[0m\u001b[0;34m\u001b[0m\u001b[0m\n\u001b[0;32m---> 12\u001b[0;31m     \u001b[0ma\u001b[0m\u001b[0;34m.\u001b[0m\u001b[0mmy_add\u001b[0m\u001b[0;34m(\u001b[0m\u001b[0;36m10\u001b[0m\u001b[0;34m)\u001b[0m\u001b[0;34m\u001b[0m\u001b[0m\n\u001b[0m\u001b[1;32m     13\u001b[0m     \u001b[0mprint\u001b[0m\u001b[0;34m(\u001b[0m\u001b[0ma\u001b[0m\u001b[0;34m.\u001b[0m\u001b[0mx\u001b[0m\u001b[0;34m)\u001b[0m\u001b[0;34m\u001b[0m\u001b[0m\n",
      "\u001b[0;32m<ipython-input-46-6b7154428972>\u001b[0m in \u001b[0;36mmy_add\u001b[0;34m(self, z)\u001b[0m\n\u001b[1;32m      5\u001b[0m         \u001b[0mself\u001b[0m\u001b[0;34m.\u001b[0m\u001b[0mx\u001b[0m \u001b[0;34m+=\u001b[0m \u001b[0my\u001b[0m\u001b[0;34m\u001b[0m\u001b[0m\n\u001b[1;32m      6\u001b[0m     \u001b[0;32mdef\u001b[0m \u001b[0mmy_add\u001b[0m\u001b[0;34m(\u001b[0m\u001b[0mself\u001b[0m\u001b[0;34m,\u001b[0m \u001b[0mz\u001b[0m\u001b[0;34m)\u001b[0m\u001b[0;34m:\u001b[0m\u001b[0;34m\u001b[0m\u001b[0m\n\u001b[0;32m----> 7\u001b[0;31m         \u001b[0mx\u001b[0m \u001b[0;34m=\u001b[0m \u001b[0mx\u001b[0m \u001b[0;34m+\u001b[0m \u001b[0mz\u001b[0m \u001b[0;31m# 오류 : x의 유효 범위가 생성되지 않았다\u001b[0m\u001b[0;34m\u001b[0m\u001b[0m\n\u001b[0m\u001b[1;32m      8\u001b[0m \u001b[0;31m# self.x 로 바꾸면 참조 가능\u001b[0m\u001b[0;34m\u001b[0m\u001b[0;34m\u001b[0m\u001b[0m\n\u001b[1;32m      9\u001b[0m \u001b[0;34m\u001b[0m\u001b[0m\n",
      "\u001b[0;31mUnboundLocalError\u001b[0m: local variable 'x' referenced before assignment"
     ]
    }
   ],
   "source": [
    "x = 10\n",
    "\n",
    "class MyClass(object):\n",
    "    x = 3 # x가 속하는 네임스페이스가 생성된다\n",
    "    def __init__(self, y):\n",
    "        self.x += y\n",
    "    def my_add(self, z):\n",
    "        x = x + z # 오류 : x의 유효 범위가 생성되지 않았다\n",
    "# self.x 로 바꾸면 참조 가능\n",
    "\n",
    "if __name__ == '__main__':\n",
    "    a = MyClass(10)\n",
    "    a.my_add(10)\n",
    "    print(a.x)"
   ]
  },
  {
   "cell_type": "code",
   "execution_count": 49,
   "metadata": {
    "collapsed": false
   },
   "outputs": [
    {
     "name": "stdout",
     "output_type": "stream",
     "text": [
      "xx =  104\n"
     ]
    }
   ],
   "source": [
    "# (1) 전역 네임스페이스에 x를 정의\n",
    "x = 100\n",
    "\n",
    "class MyClass:\n",
    "    # (2) 이 클래스의 변수 i와 x를 정의\n",
    "    i = 10\n",
    "    # 메소드 price() 안에서 참조\n",
    "    x += 2\n",
    "    # 전역 네임스페이스 상의 x에 2를 더함\n",
    "    xx = x + 2\n",
    "    # (3) MyClass 안의 x를 참조\n",
    "    print('xx = ', xx)\n",
    "    \n",
    "    def price(self):\n",
    "        y = self.i * x\n",
    "        # (4) 전역 네임스페이스의 객체 x를 참조\n",
    "        z = self.i * self.x # (5) 인스턴스 속성 -> 클래스 속성 순으로 검색하여 참조\n",
    "        # z = i* x\n",
    "        # (6) 오류 (여기서 변수 i를 볼 수 없다)\n",
    "        print(\"price y = %d\" % y)\n",
    "        print(\"price z = %d\" % z)\n",
    "    def shop(self):\n",
    "        # price()\n",
    "        # error (NameError)\n",
    "        self.price()\n",
    "        # No error\n",
    "        # MyClass.price(self)\n",
    "        # No error\n",
    "        MyClass.i = 20\n",
    "        # Change the class var\n",
    "        print(\"메소드 shop 실행 끝\")"
   ]
  },
  {
   "cell_type": "code",
   "execution_count": 55,
   "metadata": {
    "collapsed": false
   },
   "outputs": [
    {
     "data": {
      "text/plain": [
       "(102, 104)"
      ]
     },
     "execution_count": 55,
     "metadata": {},
     "output_type": "execute_result"
    }
   ],
   "source": [
    "a = MyClass()\n",
    "a.x , a.xx"
   ]
  },
  {
   "cell_type": "markdown",
   "metadata": {},
   "source": [
    "### 네임 스페이스\n",
    "- self.<속성명> 은 우선 인스턴스 속성을 참조하고 해당 이름이 없으면 클래스 속성을 참조\n",
    "- <클래스 명> , <속성 명 >은 클래스 속성만을 참조\n",
    "- 그냥 <속성명> 만으로는 이 클래스 바깥은 네임스페이스로부터 <속성명>을 참조"
   ]
  },
  {
   "cell_type": "code",
   "execution_count": 48,
   "metadata": {
    "collapsed": false,
    "scrolled": true
   },
   "outputs": [
    {
     "name": "stdout",
     "output_type": "stream",
     "text": [
      "price y = 1000\n",
      "price z = 1020\n",
      "메소드 shop 실행 끝\n",
      "(a.i, b.i) = (20, 20)\n",
      "(a.i, b.i) = (2, 4)\n"
     ]
    }
   ],
   "source": [
    "# (11) 테스트를 위한 실행 코드\n",
    "if __name__ == '__main__':\n",
    "    a = MyClass()\n",
    "    b = MyClass()\n",
    "    a.shop() # 이 안에서 MyClass.i = 20 이 실행된다.\n",
    "    print('(a.i, b.i) = ({}, {})'.format(a.i, b.i))\n",
    "    a.i = 2\n",
    "    # 인스턴스 속성 값을 설정\n",
    "    MyClass.i = 4 # 클래스 속성 값을 설정\n",
    "    print('(a.i, b.i) = ({}, {})'.format(a.i, b.i))"
   ]
  },
  {
   "cell_type": "code",
   "execution_count": 59,
   "metadata": {
    "collapsed": true
   },
   "outputs": [],
   "source": [
    "class HousePark : \n",
    "    lastname = 'park'\n",
    "    \n",
    "    def __init__(self,name):\n",
    "        self.fullname = self.lastname + name\n",
    "    \n",
    "    def travel(self,where):\n",
    "        print('%s, went to %s'%(self.fullname , where))"
   ]
  },
  {
   "cell_type": "code",
   "execution_count": 62,
   "metadata": {
    "collapsed": false
   },
   "outputs": [
    {
     "name": "stdout",
     "output_type": "stream",
     "text": [
      "parkhello, went to Busan\n"
     ]
    }
   ],
   "source": [
    "hskimim = HousePark('hello')\n",
    "hskimim.travel('Busan')"
   ]
  }
 ],
 "metadata": {
  "kernelspec": {
   "display_name": "Python 3",
   "language": "python",
   "name": "python3"
  },
  "language_info": {
   "codemirror_mode": {
    "name": "ipython",
    "version": 3
   },
   "file_extension": ".py",
   "mimetype": "text/x-python",
   "name": "python",
   "nbconvert_exporter": "python",
   "pygments_lexer": "ipython3",
   "version": "3.6.0"
  }
 },
 "nbformat": 4,
 "nbformat_minor": 2
}
