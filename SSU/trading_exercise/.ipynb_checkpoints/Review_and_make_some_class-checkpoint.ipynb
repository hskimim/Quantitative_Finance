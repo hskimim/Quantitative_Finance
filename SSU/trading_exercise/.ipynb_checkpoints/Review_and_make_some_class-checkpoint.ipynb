{
 "cells": [
  {
   "cell_type": "markdown",
   "metadata": {},
   "source": [
    "## Review the Class"
   ]
  },
  {
   "cell_type": "code",
   "execution_count": 1,
   "metadata": {
    "collapsed": false
   },
   "outputs": [
    {
     "name": "stdout",
     "output_type": "stream",
     "text": [
      "(x, y) = (1, 1)\n",
      "(x, y) = (1, 2)\n",
      "(x, y) = (2, 3)\n"
     ]
    }
   ],
   "source": [
    "class MyClass():\n",
    "    x = 0\n",
    "    y = 0\n",
    "    \n",
    "    def my_print(self):\n",
    "        self.x += 1\n",
    "        MyClass.y += 1\n",
    "        print('(x, y) = ({}, {})'.format(self.x, self.y))\n",
    "        \n",
    "a = MyClass()\n",
    "b = MyClass()\n",
    "\n",
    "a.my_print()\n",
    "b.my_print()\n",
    "b.my_print()"
   ]
  },
  {
   "cell_type": "code",
   "execution_count": 4,
   "metadata": {
    "collapsed": false
   },
   "outputs": [
    {
     "name": "stdout",
     "output_type": "stream",
     "text": [
      "4\n",
      "45\n"
     ]
    }
   ],
   "source": [
    "class MyBase:\n",
    "    coeff = 2\n",
    "    \n",
    "    def __init__(self,x):\n",
    "        self.x = x\n",
    "        \n",
    "    def mult(self):\n",
    "        return self.coeff * self.x\n",
    "    \n",
    "class MyDeriv(MyBase):\n",
    "    coeff = 3\n",
    "    \n",
    "    def __init__(self,x,y):\n",
    "        super().__init__(x)\n",
    "        self.y = y\n",
    "        \n",
    "    def muly2(self):\n",
    "        return self.coeff * self.x * self.y\n",
    "\n",
    "a = MyBase(2)\n",
    "print(a.mult()) # if return value is 4, normal\n",
    "\n",
    "b = MyDeriv(3,5)\n",
    "print(b.muly2()) # if return value is 45, normal"
   ]
  },
  {
   "cell_type": "markdown",
   "metadata": {},
   "source": [
    "- when static method is used?\n",
    "    - Assuming that you're using OOP, use static functions when `they don't depend on any class members.` They can `still be private`, but this way they are optimized as they `don't depend on any instance` of the related object.\n",
    "\n",
    "    - Other than the above, I find static functions useful when you don't want to create an instance of an object just to `execute one public function on it.` This is mainly the case for helper classes that contain public functions to do some repetitive and general work, but don't need to maintain any state between calls.\n",
    "\n",
    "- when class method is used?\n",
    "     - Class methods are for when you need to have methods that `aren't specific to any particular instance,` but still `involve the class in some way`. The most interesting thing about them is that they can be overridden by subclasses, something that's simply not possible in Java's static methods or Python's module-level functions.\n",
    "\n",
    "    - If you have a class MyClass, and a module-level function that operates on MyClass (factory, dependency injection stub, etc), make it a classmethod. Then it'll be available to subclasses."
   ]
  },
  {
   "cell_type": "code",
   "execution_count": 6,
   "metadata": {
    "collapsed": false
   },
   "outputs": [],
   "source": [
    "import time\n",
    "\n",
    "class MyTime():\n",
    "    def __init__(self,hour,minutes,sec):\n",
    "        self.hour = hour\n",
    "        self.minutes = minutes\n",
    "        self.sec = sec\n",
    "        \n",
    "    @staticmethod\n",
    "    def now():\n",
    "        t = time.localtime()\n",
    "        return MyTime(t.tm_hour, t.tm_min, t.tm_sec)\n",
    "    \n",
    "    @staticmethod\n",
    "    def two_hours_later():\n",
    "        t = time.localtime(time.time() + 7200)\n",
    "        return MyTime(t.tm_hour, t.tm_min, t.tm_sec)\n",
    "    \n",
    "a = MyTime(15,20,58)\n",
    "b = MyTime.now()\n",
    "c = MyTime.two_hours_later()"
   ]
  },
  {
   "cell_type": "code",
   "execution_count": 8,
   "metadata": {
    "collapsed": false
   },
   "outputs": [
    {
     "name": "stdout",
     "output_type": "stream",
     "text": [
      "15 20 58\n",
      "21 35 10\n",
      "23 35 10\n"
     ]
    }
   ],
   "source": [
    "print(a.hour , a.minutes , a.sec)\n",
    "print(b.hour , b.minutes , b.sec)\n",
    "print(c.hour , c.minutes , c.sec)"
   ]
  },
  {
   "cell_type": "markdown",
   "metadata": {},
   "source": [
    "- 클래스 메서드\n",
    "    - 인스턴스가 아닌 클래스 자체에 작용하는 메서드입니다."
   ]
  },
  {
   "cell_type": "code",
   "execution_count": 10,
   "metadata": {
    "collapsed": false
   },
   "outputs": [
    {
     "data": {
      "text/plain": [
       "20"
      ]
     },
     "execution_count": 10,
     "metadata": {},
     "output_type": "execute_result"
    }
   ],
   "source": [
    "class CoeffVar(object):\n",
    "    coefficient = 1\n",
    "    \n",
    "    @classmethod\n",
    "    def mul(cls,fact):\n",
    "        return cls.coefficient * fact\n",
    "    \n",
    "class MulFive(CoeffVar):\n",
    "    coefficient = 5\n",
    "\n",
    "x = MulFive.mul(4)\n",
    "x # return vale 20 is normal"
   ]
  },
  {
   "cell_type": "markdown",
   "metadata": {},
   "source": [
    "- 정보의 은폐\n",
    "    - 정보 은폐 : 소프트웨어의 부품의 사용자가 각 요소를 초기화하면 사용하는 방법만 알면 내부 구현을 신경 쓸 필요가 없는 원칙\n",
    "    - 캡슐화 : 데이터와 처리 절차를 함께 어떤 구조안에 감추는 기법"
   ]
  },
  {
   "cell_type": "markdown",
   "metadata": {},
   "source": [
    "- 네임 스페이스\n",
    "    - 클래스나 인스턴스 생성 시, 네임 스페이스가 생성된다.\n",
    "    - 대응하는 유효 범위는 생성되지 않는다.\n",
    "        - 메서드에서 변수 참조 시, 변수의 속성이 클래스인지 인스턴스인지 구별이 불가하다."
   ]
  },
  {
   "cell_type": "code",
   "execution_count": 15,
   "metadata": {
    "collapsed": false
   },
   "outputs": [
    {
     "name": "stdout",
     "output_type": "stream",
     "text": [
      "33\n"
     ]
    }
   ],
   "source": [
    "x = 10\n",
    "\n",
    "class MyClass():\n",
    "    x = 3\n",
    "    def __init__(self,y):\n",
    "        self.x += y\n",
    "    def my_add(self,z):\n",
    "        self.x = self.x + z # error\n",
    "if __name__ == '__main__':\n",
    "    a = MyClass(10)\n",
    "    a.my_add(20)\n",
    "    print(a.x)"
   ]
  },
  {
   "cell_type": "code",
   "execution_count": 26,
   "metadata": {
    "collapsed": false
   },
   "outputs": [],
   "source": [
    "x = 10\n",
    "\n",
    "class MyClass():\n",
    "    x = 3\n",
    "    \n",
    "    def __init__(self,y):\n",
    "        self.x += y\n",
    "        \n",
    "    @classmethod    \n",
    "    def my_add(cls,z): \n",
    "        return cls.x * z\n",
    "    \n",
    "    @staticmethod\n",
    "    def my_div(i):\n",
    "        k = i * 2\n",
    "        return MyClass(k).x"
   ]
  },
  {
   "cell_type": "code",
   "execution_count": 27,
   "metadata": {
    "collapsed": false
   },
   "outputs": [
    {
     "name": "stdout",
     "output_type": "stream",
     "text": [
      "13\n",
      "30\n",
      "43\n"
     ]
    }
   ],
   "source": [
    "a = MyClass(10)\n",
    "\n",
    "print(a.x)\n",
    "print(a.my_add(10))\n",
    "print(a.my_div(20))"
   ]
  },
  {
   "cell_type": "code",
   "execution_count": 35,
   "metadata": {
    "collapsed": false
   },
   "outputs": [
    {
     "name": "stdout",
     "output_type": "stream",
     "text": [
      "i =  10\n",
      "xx =  104\n"
     ]
    }
   ],
   "source": [
    "x = 100\n",
    "\n",
    "class MyClass():\n",
    "    i = 10\n",
    "    x += 2\n",
    "    xx = x + 2\n",
    "    print('i = ',i)\n",
    "    print('xx = ',xx)\n",
    "    \n",
    "    def price(self):\n",
    "        y = self.i * x # 10 * 1000\n",
    "        z = self.i * self.x # 10 * 102\n",
    "        print(y)\n",
    "        print(z)\n",
    "        \n",
    "    def shop(self):\n",
    "        self.price()\n",
    "        MyClass.i = 20\n",
    "        print('over')"
   ]
  },
  {
   "cell_type": "code",
   "execution_count": 36,
   "metadata": {
    "collapsed": false
   },
   "outputs": [
    {
     "data": {
      "text/plain": [
       "(102, 104, 10)"
      ]
     },
     "execution_count": 36,
     "metadata": {},
     "output_type": "execute_result"
    }
   ],
   "source": [
    "a = MyClass()\n",
    "a.x , a.xx , a.i"
   ]
  },
  {
   "cell_type": "code",
   "execution_count": 37,
   "metadata": {
    "collapsed": false,
    "scrolled": true
   },
   "outputs": [
    {
     "name": "stdout",
     "output_type": "stream",
     "text": [
      "1000\n",
      "1020\n"
     ]
    }
   ],
   "source": [
    "a.price()"
   ]
  },
  {
   "cell_type": "code",
   "execution_count": 38,
   "metadata": {
    "collapsed": false,
    "scrolled": true
   },
   "outputs": [
    {
     "name": "stdout",
     "output_type": "stream",
     "text": [
      "1000\n",
      "1020\n",
      "over\n"
     ]
    }
   ],
   "source": [
    "a.shop() "
   ]
  },
  {
   "cell_type": "code",
   "execution_count": 39,
   "metadata": {
    "collapsed": false
   },
   "outputs": [
    {
     "name": "stdout",
     "output_type": "stream",
     "text": [
      "2000\n",
      "2040\n",
      "2000\n",
      "2040\n",
      "over\n"
     ]
    },
    {
     "data": {
      "text/plain": [
       "(None, None)"
      ]
     },
     "execution_count": 39,
     "metadata": {},
     "output_type": "execute_result"
    }
   ],
   "source": [
    "a.price() , a.shop() "
   ]
  },
  {
   "cell_type": "markdown",
   "metadata": {},
   "source": [
    "- self.name = refer the instance feature name\n",
    "- class_name.name = refer the class feature name\n",
    "- name = refer the global feature name"
   ]
  },
  {
   "cell_type": "markdown",
   "metadata": {},
   "source": [
    "# Make Some Class"
   ]
  },
  {
   "cell_type": "code",
   "execution_count": null,
   "metadata": {
    "collapsed": true
   },
   "outputs": [],
   "source": []
  },
  {
   "cell_type": "code",
   "execution_count": null,
   "metadata": {
    "collapsed": true
   },
   "outputs": [],
   "source": []
  },
  {
   "cell_type": "code",
   "execution_count": null,
   "metadata": {
    "collapsed": true
   },
   "outputs": [],
   "source": []
  },
  {
   "cell_type": "code",
   "execution_count": null,
   "metadata": {
    "collapsed": true
   },
   "outputs": [],
   "source": []
  },
  {
   "cell_type": "code",
   "execution_count": null,
   "metadata": {
    "collapsed": true
   },
   "outputs": [],
   "source": []
  },
  {
   "cell_type": "code",
   "execution_count": null,
   "metadata": {
    "collapsed": true
   },
   "outputs": [],
   "source": []
  },
  {
   "cell_type": "code",
   "execution_count": null,
   "metadata": {
    "collapsed": true
   },
   "outputs": [],
   "source": []
  },
  {
   "cell_type": "code",
   "execution_count": null,
   "metadata": {
    "collapsed": true
   },
   "outputs": [],
   "source": []
  },
  {
   "cell_type": "code",
   "execution_count": null,
   "metadata": {
    "collapsed": true
   },
   "outputs": [],
   "source": []
  }
 ],
 "metadata": {
  "kernelspec": {
   "display_name": "Python 3",
   "language": "python",
   "name": "python3"
  },
  "language_info": {
   "codemirror_mode": {
    "name": "ipython",
    "version": 3
   },
   "file_extension": ".py",
   "mimetype": "text/x-python",
   "name": "python",
   "nbconvert_exporter": "python",
   "pygments_lexer": "ipython3",
   "version": "3.6.0"
  }
 },
 "nbformat": 4,
 "nbformat_minor": 2
}
