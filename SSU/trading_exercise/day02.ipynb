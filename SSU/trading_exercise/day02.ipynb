{
 "cells": [
  {
   "cell_type": "code",
   "execution_count": 69,
   "metadata": {
    "collapsed": false
   },
   "outputs": [
    {
     "name": "stdout",
     "output_type": "stream",
     "text": [
      "[['time', ' 속도', ' 고도'], ['0', ' 1.0', ' 10'], ['0.2', ' 7.532680553', ' 20'], ['0.3', ' 11.28563849', ' 35'], ['0.4', ' 15.02255891', ' 40'], ['0.5', ' 18.73813146', ' 42'], ['0.6', ' 22.42707609', ' 43'], ['0.7', ' 26.08415063', ' 60'], ['0.8', ' 29.70415816', ' 80'], ['0.9', ' 33.28195445', ' 121'], ['1', ' 36.81245527', ' 150']]\n"
     ]
    }
   ],
   "source": [
    "import csv\n",
    "\n",
    "with open('data1.csv','r',encoding='utf-8') as f :\n",
    "    data = [k for k in csv.reader(f)]\n",
    "    print(data)"
   ]
  },
  {
   "cell_type": "code",
   "execution_count": 70,
   "metadata": {
    "collapsed": true
   },
   "outputs": [],
   "source": [
    "with open('new_data1.csv','w',encoding='utf-8') as f :\n",
    "    writer = csv.writer(f)\n",
    "    writer.writerows(data)\n",
    "#     construct and write a series of iterables to a csv file.  Non-string"
   ]
  },
  {
   "cell_type": "code",
   "execution_count": 72,
   "metadata": {
    "collapsed": false,
    "scrolled": true
   },
   "outputs": [
    {
     "name": "stdout",
     "output_type": "stream",
     "text": [
      "[['time', ' 속도', ' 고도'], ['0', ' 1.0', ' 10'], ['0.2', ' 7.532680553', ' 20'], ['0.3', ' 11.28563849', ' 35'], ['0.4', ' 15.02255891', ' 40'], ['0.5', ' 18.73813146', ' 42'], ['0.6', ' 22.42707609', ' 43'], ['0.7', ' 26.08415063', ' 60'], ['0.8', ' 29.70415816', ' 80'], ['0.9', ' 33.28195445', ' 121'], ['1', ' 36.81245527', ' 150']]\n"
     ]
    }
   ],
   "source": [
    "import csv\n",
    "\n",
    "with open('new_data1.csv','r',encoding='utf-8') as f :\n",
    "    data = [k for k in csv.reader(f)]\n",
    "    print(data)"
   ]
  },
  {
   "cell_type": "markdown",
   "metadata": {},
   "source": [
    "### read the data"
   ]
  },
  {
   "cell_type": "code",
   "execution_count": 22,
   "metadata": {
    "collapsed": false
   },
   "outputs": [
    {
     "name": "stdout",
     "output_type": "stream",
     "text": [
      "time, 속도, 고도\n",
      "\n",
      "0, 1.0, 10\n",
      "\n",
      "0.2, 7.532680553, 20\n",
      "\n",
      "0.3, 11.28563849, 35\n",
      "\n",
      "0.4, 15.02255891, 40\n",
      "\n",
      "0.5, 18.73813146, 42\n",
      "\n",
      "0.6, 22.42707609, 43\n",
      "\n",
      "0.7, 26.08415063, 60\n",
      "\n",
      "0.8, 29.70415816, 80\n",
      "\n",
      "0.9, 33.28195445, 121\n",
      "\n",
      "1, 36.81245527, 150\n"
     ]
    }
   ],
   "source": [
    "f = open('data1.csv','r',encoding='utf-8')\n",
    "while True:\n",
    "    line = f.readline()\n",
    "    if not line : break\n",
    "    print(line)\n",
    "f.close()"
   ]
  },
  {
   "cell_type": "markdown",
   "metadata": {},
   "source": [
    "### write the data"
   ]
  },
  {
   "cell_type": "code",
   "execution_count": 44,
   "metadata": {
    "collapsed": false
   },
   "outputs": [
    {
     "name": "stdout",
     "output_type": "stream",
     "text": [
      "This is 1 line.\n",
      "This is 2 line.\n",
      "This is 3 line.\n",
      "This is 4 line.\n",
      "This is 5 line.\n",
      "This is 6 line.\n",
      "This is 7 line.\n",
      "This is 8 line.\n",
      "This is 9 line.\n",
      "This is 10 line.\n"
     ]
    }
   ],
   "source": [
    "f = open('text.txt','w')\n",
    "for i in range(1,11,1):\n",
    "    data = 'This is {} line.\\n'.format(i)\n",
    "    f.write(data)\n",
    "f.close()\n",
    "    \n",
    "f = open('text.txt','r',encoding='utf-8')\n",
    "while True:\n",
    "    line = f.readline()\n",
    "    if not line : break\n",
    "    print(line,end='')\n",
    "f.close()"
   ]
  },
  {
   "cell_type": "markdown",
   "metadata": {},
   "source": [
    "### append the data"
   ]
  },
  {
   "cell_type": "code",
   "execution_count": 36,
   "metadata": {
    "collapsed": false
   },
   "outputs": [
    {
     "name": "stdout",
     "output_type": "stream",
     "text": [
      "This is 1 line.\n",
      "This is 2 line.\n",
      "This is 3 line.\n",
      "This is 4 line.\n",
      "This is 5 line.\n",
      "This is 6 line.\n",
      "This is 7 line.\n",
      "This is 8 line.\n",
      "This is 9 line.\n",
      "This is 10 line.\n",
      "This is 1 line.\n",
      "This is 2 line.\n",
      "This is 3 line.\n",
      "This is 4 line.\n",
      "This is 5 line.\n",
      "This is 6 line.\n",
      "This is 7 line.\n",
      "This is 8 line.\n",
      "This is 9 line.\n",
      "This is 10 line.\n"
     ]
    }
   ],
   "source": [
    "f = open('text.txt','a')\n",
    "for i in range(1,11,1):\n",
    "    data = 'This is {} line.\\n'.format(i)\n",
    "    f.write(data)\n",
    "f.close()\n",
    "    \n",
    "f = open('text.txt','r',encoding='utf-8')\n",
    "while True:\n",
    "    line = f.readline()\n",
    "    if not line : break\n",
    "    print(line,end='')\n",
    "f.close()"
   ]
  },
  {
   "cell_type": "code",
   "execution_count": 47,
   "metadata": {
    "collapsed": false
   },
   "outputs": [
    {
     "name": "stdout",
     "output_type": "stream",
     "text": [
      "This is 1 line.\n",
      "This is 2 line.\n",
      "This is 3 line.\n",
      "This is 4 line.\n",
      "This is 5 line.\n",
      "This is 6 line.\n",
      "This is 7 line.\n",
      "This is 8 line.\n",
      "This is 9 line.\n",
      "This is 10 line.\n",
      "This is 1 line.\n",
      "This is 2 line.\n",
      "This is 3 line.\n",
      "This is 4 line.\n",
      "This is 5 line.\n",
      "This is 6 line.\n",
      "This is 7 line.\n",
      "This is 8 line.\n",
      "This is 9 line.\n",
      "This is 10 line.\n"
     ]
    }
   ],
   "source": [
    "f = open('text.txt','a')\n",
    "for i in range(1,11,1):\n",
    "    data = 'This is {} line.\\n'.format(i)\n",
    "    f.write(data)\n",
    "f.close()\n",
    "    \n",
    "f = open('text.txt','r',encoding='utf-8')\n",
    "lines = f.readlines()\n",
    "for line in lines : \n",
    "    print(line,end='')\n",
    "f.close()"
   ]
  },
  {
   "cell_type": "markdown",
   "metadata": {},
   "source": [
    "### f.open + f.close = with open()"
   ]
  },
  {
   "cell_type": "markdown",
   "metadata": {},
   "source": [
    "- r+\n",
    "    - Opens a file for both reading and writing. The file pointer placed at the beginning of the file.\n",
    "- w+\n",
    "    - Opens a file for both writing and reading. Overwrites the existing file if the file exists. If the file does not exist, creates a new file for reading and writing."
   ]
  },
  {
   "cell_type": "code",
   "execution_count": 63,
   "metadata": {
    "collapsed": false
   },
   "outputs": [
    {
     "name": "stdout",
     "output_type": "stream",
     "text": [
      "hello world this is 0 times.\n",
      "hello world this is 1 times.\n",
      "hello world this is 2 times.\n",
      "hello world this is 3 times.\n",
      "hello world this is 4 times.\n",
      "hello world this is 5 times.\n",
      "hello world this is 6 times.\n",
      "hello world this is 7 times.\n",
      "hello world this is 8 times.\n",
      "hello world this is 9 times.\n"
     ]
    }
   ],
   "source": [
    "with open('text.txt','r+',encoding='utf-8') as f:\n",
    "    for i in range(10):\n",
    "        f.write('hello world this is {} times.\\n'.format(i))\n",
    "    lines = f.readlines()\n",
    "    for line in lines : \n",
    "        print(line,end='')"
   ]
  }
 ],
 "metadata": {
  "kernelspec": {
   "display_name": "Python 3",
   "language": "python",
   "name": "python3"
  },
  "language_info": {
   "codemirror_mode": {
    "name": "ipython",
    "version": 3
   },
   "file_extension": ".py",
   "mimetype": "text/x-python",
   "name": "python",
   "nbconvert_exporter": "python",
   "pygments_lexer": "ipython3",
   "version": "3.6.0"
  }
 },
 "nbformat": 4,
 "nbformat_minor": 2
}
