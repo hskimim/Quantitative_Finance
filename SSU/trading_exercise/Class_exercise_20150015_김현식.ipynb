{
 "cells": [
  {
   "cell_type": "markdown",
   "metadata": {},
   "source": [
    "# Make Some Class"
   ]
  },
  {
   "cell_type": "code",
   "execution_count": 177,
   "metadata": {
    "collapsed": false,
    "scrolled": true
   },
   "outputs": [
    {
     "data": {
      "text/html": [
       "<div>\n",
       "<table border=\"1\" class=\"dataframe\">\n",
       "  <thead>\n",
       "    <tr style=\"text-align: right;\">\n",
       "      <th></th>\n",
       "      <th>Monday</th>\n",
       "      <th>Tuesday</th>\n",
       "      <th>Wednesday</th>\n",
       "      <th>Thursday</th>\n",
       "      <th>Friday</th>\n",
       "      <th>Saturday</th>\n",
       "      <th>Sunday</th>\n",
       "    </tr>\n",
       "  </thead>\n",
       "  <tbody>\n",
       "    <tr>\n",
       "      <th>0</th>\n",
       "      <td>trading_exercise</td>\n",
       "      <td>Operational_management</td>\n",
       "      <td>trading_exercise</td>\n",
       "      <td>Operational_management</td>\n",
       "      <td>Derivatives</td>\n",
       "      <td>NaN</td>\n",
       "      <td>NaN</td>\n",
       "    </tr>\n",
       "    <tr>\n",
       "      <th>1</th>\n",
       "      <td>chapel</td>\n",
       "      <td>Financial_market_theory</td>\n",
       "      <td>Derivatives</td>\n",
       "      <td>Financial_market_theory</td>\n",
       "      <td>Nothing</td>\n",
       "      <td>NaN</td>\n",
       "      <td>NaN</td>\n",
       "    </tr>\n",
       "    <tr>\n",
       "      <th>2</th>\n",
       "      <td>understanding_international_trade</td>\n",
       "      <td>Nothing</td>\n",
       "      <td>understanding_international_trade</td>\n",
       "      <td>Financial_monitor_institution</td>\n",
       "      <td>Nothing</td>\n",
       "      <td>NaN</td>\n",
       "      <td>NaN</td>\n",
       "    </tr>\n",
       "  </tbody>\n",
       "</table>\n",
       "</div>"
      ],
      "text/plain": [
       "                              Monday                  Tuesday  \\\n",
       "0                   trading_exercise   Operational_management   \n",
       "1                             chapel  Financial_market_theory   \n",
       "2  understanding_international_trade                  Nothing   \n",
       "\n",
       "                           Wednesday                       Thursday  \\\n",
       "0                   trading_exercise         Operational_management   \n",
       "1                        Derivatives        Financial_market_theory   \n",
       "2  understanding_international_trade  Financial_monitor_institution   \n",
       "\n",
       "        Friday Saturday Sunday  \n",
       "0  Derivatives      NaN    NaN  \n",
       "1      Nothing      NaN    NaN  \n",
       "2      Nothing      NaN    NaN  "
      ]
     },
     "metadata": {},
     "output_type": "display_data"
    }
   ],
   "source": [
    "import pandas as pd\n",
    "ls = ['Monday','Tuesday','Wednesday','Thursday','Friday','Saturday','Sunday']\n",
    "\n",
    "df = pd.DataFrame(columns = ls)\n",
    "df['Monday'] = ['trading_exercise','chapel','understanding_international_trade']\n",
    "df['Tuesday'] = ['Operational_management','Financial_market_theory','Nothing']\n",
    "df['Wednesday'] = ['trading_exercise','Derivatives','understanding_international_trade']\n",
    "df['Thursday'] = ['Operational_management','Financial_market_theory','Financial_monitor_institution']\n",
    "df['Friday'] = ['Derivatives','Nothing','Nothing']\n",
    "\n",
    "display(df)\n",
    "df.to_csv('timetable.csv',index=False)"
   ]
  },
  {
   "cell_type": "code",
   "execution_count": 178,
   "metadata": {
    "collapsed": false
   },
   "outputs": [],
   "source": [
    "import pandas as pd\n",
    "import datetime\n",
    "import time\n",
    "\n",
    "daily = pd.DataFrame(columns=['Date','Mood'])\n",
    "datetime_ls = []\n",
    "for i in range(1,13):\n",
    "    for j in range(1,29):\n",
    "        datetime_ls.append(datetime.date(2018,i,j))\n",
    "daily['Date'] = datetime_ls\n",
    "daily['Mood'] = [np.nan for i in range(len(datetime_ls))]\n",
    "daily.to_csv('daily.csv',index=False)"
   ]
  },
  {
   "cell_type": "code",
   "execution_count": 179,
   "metadata": {
    "collapsed": false
   },
   "outputs": [],
   "source": [
    "import numpy as np\n",
    "import pandas as pd\n",
    "from IPython.display import display\n",
    "\n",
    "ls = ['Monday','Tuesday','Wednesday','Thursday','Friday','Saturday','Sunday']\n",
    "\n",
    "df = pd.DataFrame(columns = ls)\n",
    "df['Monday'] = ['trading_exercise','chapel','understanding_international_trade']\n",
    "df['Tuesday'] = ['Operational_management','Financial_market_theory','Nothing']\n",
    "df['Wednesday'] = ['trading_exercise','Derivatives','understanding_international_trade']\n",
    "df['Thursday'] = ['Operational_management','Financial_market_theory','Financial_monitor_institution']\n",
    "df['Friday'] = ['Derivatives','Nothing','Nothing']\n",
    "\n",
    "class DDuk_DDak_class():\n",
    "    \n",
    "    def __init__(self,weekday):\n",
    "        self.weekday = weekday\n",
    "        print(\"Today is {}! Let's make it!\".format(weekday))\n",
    "    \n",
    "    def health(self):\n",
    "        self.health = (([idx for idx,i in enumerate(ls) if i == self.weekday ][0] + 1) / 7) * 100\n",
    "        print('Today my HP : {}'.format(self.health))\n",
    "    \n",
    "    def time_table(self):\n",
    "        self.today_schedule = df[self.weekday]\n",
    "        return list(self.today_schedule.values)\n",
    "    def how_was_your_day(self,month,day) :\n",
    "        self.daily_note = pd.read_csv('daily.csv')\n",
    "        self.month = month\n",
    "        self.day = day\n",
    "        self.note = input('write whatever you want: ')\n",
    "        self.new_note = pd.Series([self.note], name='Mood', \\\n",
    "                             index=[self.daily_note.loc[self.daily_note['Date'] == '2018-0{}-{}'\\\n",
    "                                                        .format(str(month),str(day))].index[0]])\n",
    "        self.daily_note.update(self.new_note)\n",
    "        self.daily_note.to_csv('daily.csv',index=False)\n",
    "        \n",
    "        return display(self.daily_note[daily_note['Date'] == '2018-0{}-{}'.format(str(month),str(day))])"
   ]
  },
  {
   "cell_type": "code",
   "execution_count": 180,
   "metadata": {
    "collapsed": false,
    "scrolled": true
   },
   "outputs": [
    {
     "name": "stdout",
     "output_type": "stream",
     "text": [
      "Today is Monday! Let's make it!\n"
     ]
    }
   ],
   "source": [
    "hskimim = DDuk_DDak_class('Monday')"
   ]
  },
  {
   "cell_type": "code",
   "execution_count": 181,
   "metadata": {
    "collapsed": false,
    "scrolled": true
   },
   "outputs": [
    {
     "name": "stdout",
     "output_type": "stream",
     "text": [
      "Today my HP : 14.285714285714285\n"
     ]
    }
   ],
   "source": [
    "hskimim.health()"
   ]
  },
  {
   "cell_type": "code",
   "execution_count": 182,
   "metadata": {
    "collapsed": false
   },
   "outputs": [
    {
     "data": {
      "text/plain": [
       "['trading_exercise', 'chapel', 'understanding_international_trade']"
      ]
     },
     "execution_count": 182,
     "metadata": {},
     "output_type": "execute_result"
    }
   ],
   "source": [
    "hskimim.time_table()"
   ]
  },
  {
   "cell_type": "code",
   "execution_count": 183,
   "metadata": {
    "collapsed": false,
    "scrolled": true
   },
   "outputs": [
    {
     "name": "stdout",
     "output_type": "stream",
     "text": [
      "write whatever you want: Happy cuz I have a trading exercise in Monday!! :D\n"
     ]
    },
    {
     "data": {
      "text/html": [
       "<div>\n",
       "<table border=\"1\" class=\"dataframe\">\n",
       "  <thead>\n",
       "    <tr style=\"text-align: right;\">\n",
       "      <th></th>\n",
       "      <th>Date</th>\n",
       "      <th>Mood</th>\n",
       "    </tr>\n",
       "  </thead>\n",
       "  <tbody>\n",
       "    <tr>\n",
       "      <th>241</th>\n",
       "      <td>2018-09-18</td>\n",
       "      <td>Happy cuz I have a trading exercise in Monday!...</td>\n",
       "    </tr>\n",
       "  </tbody>\n",
       "</table>\n",
       "</div>"
      ],
      "text/plain": [
       "           Date                                               Mood\n",
       "241  2018-09-18  Happy cuz I have a trading exercise in Monday!..."
      ]
     },
     "metadata": {},
     "output_type": "display_data"
    }
   ],
   "source": [
    "hskimim.how_was_your_day(9,18)"
   ]
  }
 ],
 "metadata": {
  "kernelspec": {
   "display_name": "Python 3",
   "language": "python",
   "name": "python3"
  },
  "language_info": {
   "codemirror_mode": {
    "name": "ipython",
    "version": 3
   },
   "file_extension": ".py",
   "mimetype": "text/x-python",
   "name": "python",
   "nbconvert_exporter": "python",
   "pygments_lexer": "ipython3",
   "version": "3.6.0"
  }
 },
 "nbformat": 4,
 "nbformat_minor": 2
}
