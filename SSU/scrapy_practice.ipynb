{
 "cells": [
  {
   "cell_type": "markdown",
   "metadata": {},
   "source": [
    "- css_selector가 아닌 xpath를 이용하여 웹 페이지의 html 엘리먼트를 선택한 객체를 생성할 수 있다."
   ]
  },
  {
   "cell_type": "code",
   "execution_count": 1,
   "metadata": {
    "collapsed": true
   },
   "outputs": [],
   "source": [
    "import requests\n",
    "from scrapy.http import TextResponse"
   ]
  },
  {
   "cell_type": "code",
   "execution_count": 2,
   "metadata": {
    "collapsed": true
   },
   "outputs": [],
   "source": [
    "req = requests.get('https://www.naver.com/')"
   ]
  },
  {
   "cell_type": "code",
   "execution_count": 5,
   "metadata": {
    "collapsed": false
   },
   "outputs": [
    {
     "data": {
      "text/plain": [
       "<200 https://www.naver.com/>"
      ]
     },
     "execution_count": 5,
     "metadata": {},
     "output_type": "execute_result"
    }
   ],
   "source": [
    "response = TextResponse(req.url,body=req.text,encoding='utf-8')\n",
    "response"
   ]
  },
  {
   "cell_type": "code",
   "execution_count": 8,
   "metadata": {
    "collapsed": false
   },
   "outputs": [
    {
     "data": {
      "text/plain": [
       "['bap',\n",
       " '박환희',\n",
       " 'ufc',\n",
       " '오늘의 탐정',\n",
       " '복수 표준어',\n",
       " '서럽다',\n",
       " '허섭스레기',\n",
       " '철딱서니',\n",
       " '섧다',\n",
       " 'kfc 창업자',\n",
       " '할랜드 샌더스',\n",
       " '아이폰xs',\n",
       " '로또823회당첨번호',\n",
       " '롯데시네마',\n",
       " '진학어플라이',\n",
       " '아이폰9',\n",
       " '메르스',\n",
       " '갤럭시노트9',\n",
       " '유웨이 어플라이',\n",
       " 'cgv']"
      ]
     },
     "execution_count": 8,
     "metadata": {},
     "output_type": "execute_result"
    }
   ],
   "source": [
    "response.xpath('//*[@id=\"PM_ID_ct\"]/div[1]/div[2]/div[2]/div[1]/div/ul/li/a/span[2]/text()').extract()"
   ]
  },
  {
   "cell_type": "code",
   "execution_count": 9,
   "metadata": {
    "collapsed": false
   },
   "outputs": [
    {
     "data": {
      "text/plain": [
       "<200 https://www.daum.net/>"
      ]
     },
     "execution_count": 9,
     "metadata": {},
     "output_type": "execute_result"
    }
   ],
   "source": [
    "req = requests.get('https://daum.net')\n",
    "response = TextResponse(req.url,body=req.text,encoding='utf-8')\n",
    "# Inherit from this class (instead of object) to a keep a record of live\n",
    "# instances\n",
    "response"
   ]
  },
  {
   "cell_type": "code",
   "execution_count": 10,
   "metadata": {
    "collapsed": false
   },
   "outputs": [
    {
     "data": {
      "text/plain": [
       "['메르스',\n",
       " '오사카 나오미',\n",
       " 'bap',\n",
       " '오늘의 탐정',\n",
       " '친애하는 판사님께',\n",
       " '안시현',\n",
       " '박환희',\n",
       " 'ufc228',\n",
       " '우들리 틸',\n",
       " '프로야구 중계']"
      ]
     },
     "execution_count": 10,
     "metadata": {},
     "output_type": "execute_result"
    }
   ],
   "source": [
    "response.xpath('//*[@id=\"mArticle\"]/div[2]/div[1]/div[2]/div[1]/ol/li/div/div[1]/span[2]/a/text()').extract()"
   ]
  },
  {
   "cell_type": "markdown",
   "metadata": {},
   "source": [
    "### Scrapy 프로젝트 생성\n",
    "- spiders directory\n",
    "    - 어떤 웹사이트를 어떻게 크롤링할 것인지 명시하고, 각각의 웹 페이지의 어떤 부분을 스크레핑할 것인지 명시하는 클래스가 모여있는 디렉토리\n",
    "- items.py\n",
    "    - 웹페이지에서 원하는 부분을 스케랩하여 저장할 때, 사용하는 사용자 정의 자료구조 클래스\n",
    "- pipline.py\n",
    "    - 스크래핑 결과물을 item 형태로 구성하였을 때, 이를 자유롭게 가공하거나 다양한 파일 형태로 저장하 수 있도록 하는 클래스\n",
    "- settings.py\n",
    "    - Spider , Item , pipeline 등이 어떻게 동작하도록 할 지에 대한 세부적인 설정 사항을 기재하는 파일 크롤링의 빈도 등을 설정"
   ]
  },
  {
   "cell_type": "code",
   "execution_count": null,
   "metadata": {
    "collapsed": true
   },
   "outputs": [],
   "source": []
  }
 ],
 "metadata": {
  "kernelspec": {
   "display_name": "Python 3",
   "language": "python",
   "name": "python3"
  },
  "language_info": {
   "codemirror_mode": {
    "name": "ipython",
    "version": 3
   },
   "file_extension": ".py",
   "mimetype": "text/x-python",
   "name": "python",
   "nbconvert_exporter": "python",
   "pygments_lexer": "ipython3",
   "version": "3.6.0"
  }
 },
 "nbformat": 4,
 "nbformat_minor": 2
}
